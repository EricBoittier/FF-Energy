{
 "cells": [
  {
   "cell_type": "code",
   "execution_count": 6,
   "id": "3c7cf1fc-f552-477f-a40b-9badb6a4ce8b",
   "metadata": {},
   "outputs": [
    {
     "name": "stdout",
     "output_type": "stream",
     "text": [
      "The autoreload extension is already loaded. To reload it, use:\n",
      "  %reload_ext autoreload\n"
     ]
    }
   ],
   "source": [
    "%load_ext autoreload\n",
    "%autoreload 2\n",
    "\n",
    "from ff_energy.utils import pickle_output, read_from_pickle\n",
    "import pandas as pd\n",
    "import scikit_posthocs as sp\n",
    "import seaborn as sns\n",
    "import matplotlib.pyplot as plt\n",
    "from ff_energy.plot import plot_energy_MSE, plot_ff_fit\n",
    "\n",
    "from ff_energy.structure import atom_key_pairs\n",
    "from ff_energy.potential import LJ, akp_indx\n",
    "from ff_energy.ff import FF\n",
    "from ff_energy.ff_fit import LJ_bound, load_ff\n",
    "from ff_energy.data import pairs_data\n"
   ]
  },
  {
   "cell_type": "markdown",
   "id": "8910e730-ca1b-44e4-94e2-7680340aca05",
   "metadata": {},
   "source": [
    "#  Data \n",
    "##  ab intio data"
   ]
  },
  {
   "cell_type": "code",
   "execution_count": 3,
   "id": "c19fdd3d-72f1-47d7-bc59-d062da1e46d7",
   "metadata": {},
   "outputs": [],
   "source": [
    "pc_pbe0_dz_d4 = next(read_from_pickle(\"data_pc_pbe0_d4.obj.pkl\"))\n",
    "pc_pbe0_dz = next(read_from_pickle(\"data_pc_pbe0.obj.pkl\"))\n",
    "pc_hf_dz = next(read_from_pickle(\"data_pc_hfdz.obj.pkl\"))\n",
    "pc_pbe0tz = next(read_from_pickle(\"data_pc_pbe0tz.obj.pkl\"))\n",
    "pnolccsd_pvtzdf = next(read_from_pickle(\"data_pc_pno-lccsd-pvtzdf.obj.pkl\"))"
   ]
  },
  {
   "cell_type": "code",
   "execution_count": 12,
   "id": "066ed072-0726-4c6c-abae-c18dbef92359",
   "metadata": {},
   "outputs": [
    {
     "data": {
      "text/html": [
       "<div>\n",
       "<style scoped>\n",
       "    .dataframe tbody tr th:only-of-type {\n",
       "        vertical-align: middle;\n",
       "    }\n",
       "\n",
       "    .dataframe tbody tr th {\n",
       "        vertical-align: top;\n",
       "    }\n",
       "\n",
       "    .dataframe thead th {\n",
       "        text-align: right;\n",
       "    }\n",
       "</style>\n",
       "<table border=\"1\" class=\"dataframe\">\n",
       "  <thead>\n",
       "    <tr style=\"text-align: right;\">\n",
       "      <th></th>\n",
       "      <th>M_ENERGY</th>\n",
       "      <th>KEY</th>\n",
       "      <th>n_monomers</th>\n",
       "    </tr>\n",
       "  </thead>\n",
       "  <tbody>\n",
       "    <tr>\n",
       "      <th>test467</th>\n",
       "      <td>-1527.154217</td>\n",
       "      <td>test467</td>\n",
       "      <td>20</td>\n",
       "    </tr>\n",
       "    <tr>\n",
       "      <th>test263</th>\n",
       "      <td>-1527.156016</td>\n",
       "      <td>test263</td>\n",
       "      <td>20</td>\n",
       "    </tr>\n",
       "    <tr>\n",
       "      <th>test35</th>\n",
       "      <td>-1527.143158</td>\n",
       "      <td>test35</td>\n",
       "      <td>20</td>\n",
       "    </tr>\n",
       "    <tr>\n",
       "      <th>test223</th>\n",
       "      <td>-1527.147556</td>\n",
       "      <td>test223</td>\n",
       "      <td>20</td>\n",
       "    </tr>\n",
       "    <tr>\n",
       "      <th>test254</th>\n",
       "      <td>-1527.135568</td>\n",
       "      <td>test254</td>\n",
       "      <td>20</td>\n",
       "    </tr>\n",
       "    <tr>\n",
       "      <th>...</th>\n",
       "      <td>...</td>\n",
       "      <td>...</td>\n",
       "      <td>...</td>\n",
       "    </tr>\n",
       "    <tr>\n",
       "      <th>test100</th>\n",
       "      <td>-1527.141372</td>\n",
       "      <td>test100</td>\n",
       "      <td>20</td>\n",
       "    </tr>\n",
       "    <tr>\n",
       "      <th>test304</th>\n",
       "      <td>-1527.150985</td>\n",
       "      <td>test304</td>\n",
       "      <td>20</td>\n",
       "    </tr>\n",
       "    <tr>\n",
       "      <th>test327</th>\n",
       "      <td>-1527.154084</td>\n",
       "      <td>test327</td>\n",
       "      <td>20</td>\n",
       "    </tr>\n",
       "    <tr>\n",
       "      <th>test185</th>\n",
       "      <td>-1527.144999</td>\n",
       "      <td>test185</td>\n",
       "      <td>20</td>\n",
       "    </tr>\n",
       "    <tr>\n",
       "      <th>test66</th>\n",
       "      <td>-1527.133226</td>\n",
       "      <td>test66</td>\n",
       "      <td>20</td>\n",
       "    </tr>\n",
       "  </tbody>\n",
       "</table>\n",
       "<p>500 rows × 3 columns</p>\n",
       "</div>"
      ],
      "text/plain": [
       "            M_ENERGY      KEY  n_monomers\n",
       "test467 -1527.154217  test467          20\n",
       "test263 -1527.156016  test263          20\n",
       "test35  -1527.143158   test35          20\n",
       "test223 -1527.147556  test223          20\n",
       "test254 -1527.135568  test254          20\n",
       "...              ...      ...         ...\n",
       "test100 -1527.141372  test100          20\n",
       "test304 -1527.150985  test304          20\n",
       "test327 -1527.154084  test327          20\n",
       "test185 -1527.144999  test185          20\n",
       "test66  -1527.133226   test66          20\n",
       "\n",
       "[500 rows x 3 columns]"
      ]
     },
     "execution_count": 12,
     "metadata": {},
     "output_type": "execute_result"
    }
   ],
   "source": [
    "pc_pbe0_dz.monomer_df"
   ]
  },
  {
   "cell_type": "markdown",
   "id": "d2bb0030-b9c6-4876-9264-a7003269896f",
   "metadata": {},
   "source": [
    "#  FFs\n",
    "\n",
    "A FF object should contain all the data needed to fit a potential.\n",
    "Getting all the jax arrays is slow - FFs should be made once and then reused for preceding fits\n",
    "\n",
    "Some fits will use Coloumb distances/charges, these are different for each electrostatic model"
   ]
  },
  {
   "cell_type": "code",
   "execution_count": 16,
   "id": "b7caffd6-56ed-4c1e-93ec-52041592e714",
   "metadata": {},
   "outputs": [
    {
     "name": "stdout",
     "output_type": "stream",
     "text": [
      "Pickled structures/dists found:  ['water_cluster.pkl.pkl', 'water_dimer.pkl.pkl', 'water_dimer.pkl', 'structures.pkl', 'dists.pkl', 'water_cluster.pkl']\n",
      "Loading pickled distances/structure: water_cluster\n",
      "loading data from pickle: data_pc_pbe0.obj.pkl\n"
     ]
    }
   ],
   "source": [
    "test_ff = load_ff(\"test\", \n",
    "        \"water_cluster\", \n",
    "        pk = \"data_pc_pbe0.obj.pkl\",\n",
    "        intern=\"harmonic\",\n",
    "        elec=\"ECOL\"\n",
    "       )\n",
    "test_ff, data = test_ff"
   ]
  },
  {
   "cell_type": "code",
   "execution_count": 33,
   "id": "c0570200-ae66-497c-903e-1586dfd0b471",
   "metadata": {},
   "outputs": [
    {
     "data": {
      "text/plain": [
       "FF: LJ water_cluster ELEC harmonic"
      ]
     },
     "execution_count": 33,
     "metadata": {},
     "output_type": "execute_result"
    }
   ],
   "source": [
    "test_ff.elec = \"ELEC\"\n",
    "test_ff.set_targets()\n",
    "test_ff"
   ]
  },
  {
   "cell_type": "code",
   "execution_count": 39,
   "id": "650837aa-3240-4e2a-bf97-3ebe3d4f1cff",
   "metadata": {},
   "outputs": [
    {
     "name": "stdout",
     "output_type": "stream",
     "text": [
      "Optimizing LJ parameters...\n",
      "function: LJ\n",
      "bounds: ((0.25, 2.5), (0.25, 2.5), (0.0001, 0.5), (0.0001, 0.5))\n",
      "maxfev: 10000\n",
      "initial guess: [0.9164473551785599, 1.7207479775631724, 0.30795606188416735, 0.4056469961778572]\n"
     ]
    },
    {
     "name": "stderr",
     "output_type": "stream",
     "text": [
      "/home/boittier/Documents/phd/ff_energy/ff_energy/ff.py:349: OptimizeWarning: Unknown solver options: pgtol\n",
      "  bounds=bounds,\n"
     ]
    },
    {
     "name": "stdout",
     "output_type": "stream",
     "text": [
      "final_loss_fn:  34.712284088134766\n",
      "       message: Optimization terminated successfully.\n",
      "       success: True\n",
      "        status: 0\n",
      "           fun: 34.712284088134766\n",
      "             x: [ 1.473e+00  9.688e-01  2.345e-03  4.272e-01]\n",
      "           nit: 255\n",
      "          nfev: 507\n",
      " final_simplex: (array([[ 1.473e+00,  9.688e-01,  2.345e-03,  4.272e-01],\n",
      "                       [ 1.473e+00,  9.688e-01,  2.345e-03,  4.272e-01],\n",
      "                       ...,\n",
      "                       [ 1.473e+00,  9.688e-01,  2.345e-03,  4.272e-01],\n",
      "                       [ 1.473e+00,  9.688e-01,  2.345e-03,  4.272e-01]]), array([ 3.471e+01,  3.471e+01,  3.471e+01,  3.471e+01,\n",
      "                        3.471e+01]))\n",
      "Set optimized parameters to FF object, self.df[\"LJ\"] is updated.\n"
     ]
    },
    {
     "data": {
      "text/plain": [
       "       message: Optimization terminated successfully.\n",
       "       success: True\n",
       "        status: 0\n",
       "           fun: 34.712284088134766\n",
       "             x: [ 1.473e+00  9.688e-01  2.345e-03  4.272e-01]\n",
       "           nit: 255\n",
       "          nfev: 507\n",
       " final_simplex: (array([[ 1.473e+00,  9.688e-01,  2.345e-03,  4.272e-01],\n",
       "                       [ 1.473e+00,  9.688e-01,  2.345e-03,  4.272e-01],\n",
       "                       ...,\n",
       "                       [ 1.473e+00,  9.688e-01,  2.345e-03,  4.272e-01],\n",
       "                       [ 1.473e+00,  9.688e-01,  2.345e-03,  4.272e-01]]), array([ 3.471e+01,  3.471e+01,  3.471e+01,  3.471e+01,\n",
       "                        3.471e+01]))"
      ]
     },
     "execution_count": 39,
     "metadata": {},
     "output_type": "execute_result"
    }
   ],
   "source": [
    "test_ff.fit_func(None)"
   ]
  },
  {
   "cell_type": "raw",
   "id": "6e100a73-8105-4f5b-aeba-03f4a23b2c94",
   "metadata": {},
   "source": []
  },
  {
   "cell_type": "code",
   "execution_count": 44,
   "id": "faab2d3e-9719-40f5-bd48-84781567496e",
   "metadata": {},
   "outputs": [],
   "source": [
    "jax_data_kmdcm = next(read_from_pickle(\"jax_data_kmdcm.pkl\"))"
   ]
  },
  {
   "cell_type": "code",
   "execution_count": 45,
   "id": "d158834a-1775-4beb-8add-4bea843cc003",
   "metadata": {},
   "outputs": [],
   "source": [
    "test_ff.init_jax_col(jax_data_kmdcm)"
   ]
  },
  {
   "cell_type": "code",
   "execution_count": 46,
   "id": "d962300b-a6c9-4dbf-9a7e-b65415e09453",
   "metadata": {},
   "outputs": [
    {
     "data": {
      "text/plain": [
       "FF: LJ water_cluster ELEC harmonic"
      ]
     },
     "execution_count": 46,
     "metadata": {},
     "output_type": "execute_result"
    }
   ],
   "source": [
    "test_ff."
   ]
  },
  {
   "cell_type": "code",
   "execution_count": null,
   "id": "de51d797-c28c-4e7c-ba5d-b94504929eef",
   "metadata": {},
   "outputs": [],
   "source": []
  }
 ],
 "metadata": {
  "kernelspec": {
   "display_name": "pycharmm",
   "language": "python",
   "name": "pycharmm"
  },
  "language_info": {
   "codemirror_mode": {
    "name": "ipython",
    "version": 3
   },
   "file_extension": ".py",
   "mimetype": "text/x-python",
   "name": "python",
   "nbconvert_exporter": "python",
   "pygments_lexer": "ipython3",
   "version": "3.8.16"
  }
 },
 "nbformat": 4,
 "nbformat_minor": 5
}
