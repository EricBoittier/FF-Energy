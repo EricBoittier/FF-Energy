{
 "cells": [
  {
   "cell_type": "code",
   "execution_count": 6,
   "id": "3c7cf1fc-f552-477f-a40b-9badb6a4ce8b",
   "metadata": {},
   "outputs": [
    {
     "name": "stdout",
     "output_type": "stream",
     "text": [
      "The autoreload extension is already loaded. To reload it, use:\n",
      "  %reload_ext autoreload\n"
     ]
    }
   ],
   "source": [
    "%load_ext autoreload\n",
    "%autoreload 2\n",
    "\n",
    "from ff_energy.utils import pickle_output, read_from_pickle\n",
    "import pandas as pd\n",
    "import scikit_posthocs as sp\n",
    "import seaborn as sns\n",
    "import matplotlib.pyplot as plt\n",
    "from ff_energy.plot import plot_energy_MSE, plot_ff_fit\n",
    "\n",
    "from ff_energy.structure import atom_key_pairs\n",
    "from ff_energy.potential import LJ, akp_indx\n",
    "from ff_energy.ff import FF\n",
    "from ff_energy.ff_fit import LJ_bound, load_ff\n",
    "from ff_energy.data import pairs_data\n"
   ]
  },
  {
   "cell_type": "markdown",
   "id": "8910e730-ca1b-44e4-94e2-7680340aca05",
   "metadata": {},
   "source": [
    "#  Data \n",
    "##  ab intio data"
   ]
  },
  {
   "cell_type": "code",
   "execution_count": 3,
   "id": "c19fdd3d-72f1-47d7-bc59-d062da1e46d7",
   "metadata": {},
   "outputs": [],
   "source": [
    "pc_pbe0_dz_d4 = next(read_from_pickle(\"data_pc_pbe0_d4.obj.pkl\"))\n",
    "pc_pbe0_dz = next(read_from_pickle(\"data_pc_pbe0.obj.pkl\"))\n",
    "pc_hf_dz = next(read_from_pickle(\"data_pc_hfdz.obj.pkl\"))\n",
    "pc_pbe0tz = next(read_from_pickle(\"data_pc_pbe0tz.obj.pkl\"))\n",
    "pnolccsd_pvtzdf = next(read_from_pickle(\"data_pc_pno-lccsd-pvtzdf.obj.pkl\"))"
   ]
  },
  {
   "cell_type": "code",
   "execution_count": 12,
   "id": "066ed072-0726-4c6c-abae-c18dbef92359",
   "metadata": {},
   "outputs": [
    {
     "data": {
      "text/html": [
       "<div>\n",
       "<style scoped>\n",
       "    .dataframe tbody tr th:only-of-type {\n",
       "        vertical-align: middle;\n",
       "    }\n",
       "\n",
       "    .dataframe tbody tr th {\n",
       "        vertical-align: top;\n",
       "    }\n",
       "\n",
       "    .dataframe thead th {\n",
       "        text-align: right;\n",
       "    }\n",
       "</style>\n",
       "<table border=\"1\" class=\"dataframe\">\n",
       "  <thead>\n",
       "    <tr style=\"text-align: right;\">\n",
       "      <th></th>\n",
       "      <th>M_ENERGY</th>\n",
       "      <th>KEY</th>\n",
       "      <th>n_monomers</th>\n",
       "    </tr>\n",
       "  </thead>\n",
       "  <tbody>\n",
       "    <tr>\n",
       "      <th>test467</th>\n",
       "      <td>-1527.154217</td>\n",
       "      <td>test467</td>\n",
       "      <td>20</td>\n",
       "    </tr>\n",
       "    <tr>\n",
       "      <th>test263</th>\n",
       "      <td>-1527.156016</td>\n",
       "      <td>test263</td>\n",
       "      <td>20</td>\n",
       "    </tr>\n",
       "    <tr>\n",
       "      <th>test35</th>\n",
       "      <td>-1527.143158</td>\n",
       "      <td>test35</td>\n",
       "      <td>20</td>\n",
       "    </tr>\n",
       "    <tr>\n",
       "      <th>test223</th>\n",
       "      <td>-1527.147556</td>\n",
       "      <td>test223</td>\n",
       "      <td>20</td>\n",
       "    </tr>\n",
       "    <tr>\n",
       "      <th>test254</th>\n",
       "      <td>-1527.135568</td>\n",
       "      <td>test254</td>\n",
       "      <td>20</td>\n",
       "    </tr>\n",
       "    <tr>\n",
       "      <th>...</th>\n",
       "      <td>...</td>\n",
       "      <td>...</td>\n",
       "      <td>...</td>\n",
       "    </tr>\n",
       "    <tr>\n",
       "      <th>test100</th>\n",
       "      <td>-1527.141372</td>\n",
       "      <td>test100</td>\n",
       "      <td>20</td>\n",
       "    </tr>\n",
       "    <tr>\n",
       "      <th>test304</th>\n",
       "      <td>-1527.150985</td>\n",
       "      <td>test304</td>\n",
       "      <td>20</td>\n",
       "    </tr>\n",
       "    <tr>\n",
       "      <th>test327</th>\n",
       "      <td>-1527.154084</td>\n",
       "      <td>test327</td>\n",
       "      <td>20</td>\n",
       "    </tr>\n",
       "    <tr>\n",
       "      <th>test185</th>\n",
       "      <td>-1527.144999</td>\n",
       "      <td>test185</td>\n",
       "      <td>20</td>\n",
       "    </tr>\n",
       "    <tr>\n",
       "      <th>test66</th>\n",
       "      <td>-1527.133226</td>\n",
       "      <td>test66</td>\n",
       "      <td>20</td>\n",
       "    </tr>\n",
       "  </tbody>\n",
       "</table>\n",
       "<p>500 rows × 3 columns</p>\n",
       "</div>"
      ],
      "text/plain": [
       "            M_ENERGY      KEY  n_monomers\n",
       "test467 -1527.154217  test467          20\n",
       "test263 -1527.156016  test263          20\n",
       "test35  -1527.143158   test35          20\n",
       "test223 -1527.147556  test223          20\n",
       "test254 -1527.135568  test254          20\n",
       "...              ...      ...         ...\n",
       "test100 -1527.141372  test100          20\n",
       "test304 -1527.150985  test304          20\n",
       "test327 -1527.154084  test327          20\n",
       "test185 -1527.144999  test185          20\n",
       "test66  -1527.133226   test66          20\n",
       "\n",
       "[500 rows x 3 columns]"
      ]
     },
     "execution_count": 12,
     "metadata": {},
     "output_type": "execute_result"
    }
   ],
   "source": [
    "pc_pbe0_dz.monomer_df"
   ]
  },
  {
   "cell_type": "markdown",
   "id": "d2bb0030-b9c6-4876-9264-a7003269896f",
   "metadata": {},
   "source": [
    "#  FFs"
   ]
  },
  {
   "cell_type": "code",
   "execution_count": null,
   "id": "b7caffd6-56ed-4c1e-93ec-52041592e714",
   "metadata": {},
   "outputs": [
    {
     "name": "stdout",
     "output_type": "stream",
     "text": [
      "Pickled structures/dists found:  ['water_cluster.pkl.pkl', 'water_dimer.pkl.pkl', 'water_dimer.pkl', 'structures.pkl', 'dists.pkl', 'water_cluster.pkl']\n",
      "Loading pickled distances/structure: water_cluster\n",
      "loading data from pickle: data_pc_pbe0.obj.pkl\n"
     ]
    }
   ],
   "source": [
    "test_ff = load_ff(\"test\", \n",
    "        \"water_cluster\", \n",
    "        pk = \"data_pc_pbe0.obj.pkl\",\n",
    "        intern=\"harmonic\",\n",
    "        elec=\"ECOL\"\n",
    "       )"
   ]
  },
  {
   "cell_type": "code",
   "execution_count": null,
   "id": "15ec7847-5c32-4717-b717-4d10e6f9c322",
   "metadata": {},
   "outputs": [],
   "source": []
  }
 ],
 "metadata": {
  "kernelspec": {
   "display_name": "pycharmm",
   "language": "python",
   "name": "pycharmm"
  },
  "language_info": {
   "codemirror_mode": {
    "name": "ipython",
    "version": 3
   },
   "file_extension": ".py",
   "mimetype": "text/x-python",
   "name": "python",
   "nbconvert_exporter": "python",
   "pygments_lexer": "ipython3",
   "version": "3.8.16"
  }
 },
 "nbformat": 4,
 "nbformat_minor": 5
}
