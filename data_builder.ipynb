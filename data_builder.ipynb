{
 "cells": [
  {
   "cell_type": "code",
   "execution_count": 6,
   "id": "3c7cf1fc-f552-477f-a40b-9badb6a4ce8b",
   "metadata": {},
   "outputs": [
    {
     "name": "stdout",
     "output_type": "stream",
     "text": [
      "The autoreload extension is already loaded. To reload it, use:\n",
      "  %reload_ext autoreload\n"
     ]
    }
   ],
   "source": [
    "%load_ext autoreload\n",
    "%autoreload 2\n",
    "\n",
    "from ff_energy.utils import pickle_output, read_from_pickle\n",
    "import pandas as pd\n",
    "import scikit_posthocs as sp\n",
    "import seaborn as sns\n",
    "import matplotlib.pyplot as plt\n",
    "from ff_energy.plot import plot_energy_MSE, plot_ff_fit\n",
    "\n",
    "from ff_energy.structure import atom_key_pairs\n",
    "from ff_energy.potential import LJ, akp_indx\n",
    "from ff_energy.ff import FF\n",
    "from ff_energy.ff_fit import LJ_bound, load_ff\n",
    "from ff_energy.data import pairs_data\n"
   ]
  },
  {
   "cell_type": "markdown",
   "id": "8910e730-ca1b-44e4-94e2-7680340aca05",
   "metadata": {},
   "source": [
    "#  Data \n",
    "##  ab intio data"
   ]
  },
  {
   "cell_type": "code",
   "execution_count": 3,
   "id": "c19fdd3d-72f1-47d7-bc59-d062da1e46d7",
   "metadata": {},
   "outputs": [],
   "source": [
    "pc_pbe0_dz_d4 = next(read_from_pickle(\"data_pc_pbe0_d4.obj.pkl\"))\n",
    "pc_pbe0_dz = next(read_from_pickle(\"data_pc_pbe0.obj.pkl\"))\n",
    "pc_hf_dz = next(read_from_pickle(\"data_pc_hfdz.obj.pkl\"))\n",
    "pc_pbe0tz = next(read_from_pickle(\"data_pc_pbe0tz.obj.pkl\"))\n",
    "pnolccsd_pvtzdf = next(read_from_pickle(\"data_pc_pno-lccsd-pvtzdf.obj.pkl\"))"
   ]
  },
  {
   "cell_type": "code",
   "execution_count": 12,
   "id": "066ed072-0726-4c6c-abae-c18dbef92359",
   "metadata": {},
   "outputs": [
    {
     "data": {
      "text/html": [
       "<div>\n",
       "<style scoped>\n",
       "    .dataframe tbody tr th:only-of-type {\n",
       "        vertical-align: middle;\n",
       "    }\n",
       "\n",
       "    .dataframe tbody tr th {\n",
       "        vertical-align: top;\n",
       "    }\n",
       "\n",
       "    .dataframe thead th {\n",
       "        text-align: right;\n",
       "    }\n",
       "</style>\n",
       "<table border=\"1\" class=\"dataframe\">\n",
       "  <thead>\n",
       "    <tr style=\"text-align: right;\">\n",
       "      <th></th>\n",
       "      <th>M_ENERGY</th>\n",
       "      <th>KEY</th>\n",
       "      <th>n_monomers</th>\n",
       "    </tr>\n",
       "  </thead>\n",
       "  <tbody>\n",
       "    <tr>\n",
       "      <th>test467</th>\n",
       "      <td>-1527.154217</td>\n",
       "      <td>test467</td>\n",
       "      <td>20</td>\n",
       "    </tr>\n",
       "    <tr>\n",
       "      <th>test263</th>\n",
       "      <td>-1527.156016</td>\n",
       "      <td>test263</td>\n",
       "      <td>20</td>\n",
       "    </tr>\n",
       "    <tr>\n",
       "      <th>test35</th>\n",
       "      <td>-1527.143158</td>\n",
       "      <td>test35</td>\n",
       "      <td>20</td>\n",
       "    </tr>\n",
       "    <tr>\n",
       "      <th>test223</th>\n",
       "      <td>-1527.147556</td>\n",
       "      <td>test223</td>\n",
       "      <td>20</td>\n",
       "    </tr>\n",
       "    <tr>\n",
       "      <th>test254</th>\n",
       "      <td>-1527.135568</td>\n",
       "      <td>test254</td>\n",
       "      <td>20</td>\n",
       "    </tr>\n",
       "    <tr>\n",
       "      <th>...</th>\n",
       "      <td>...</td>\n",
       "      <td>...</td>\n",
       "      <td>...</td>\n",
       "    </tr>\n",
       "    <tr>\n",
       "      <th>test100</th>\n",
       "      <td>-1527.141372</td>\n",
       "      <td>test100</td>\n",
       "      <td>20</td>\n",
       "    </tr>\n",
       "    <tr>\n",
       "      <th>test304</th>\n",
       "      <td>-1527.150985</td>\n",
       "      <td>test304</td>\n",
       "      <td>20</td>\n",
       "    </tr>\n",
       "    <tr>\n",
       "      <th>test327</th>\n",
       "      <td>-1527.154084</td>\n",
       "      <td>test327</td>\n",
       "      <td>20</td>\n",
       "    </tr>\n",
       "    <tr>\n",
       "      <th>test185</th>\n",
       "      <td>-1527.144999</td>\n",
       "      <td>test185</td>\n",
       "      <td>20</td>\n",
       "    </tr>\n",
       "    <tr>\n",
       "      <th>test66</th>\n",
       "      <td>-1527.133226</td>\n",
       "      <td>test66</td>\n",
       "      <td>20</td>\n",
       "    </tr>\n",
       "  </tbody>\n",
       "</table>\n",
       "<p>500 rows × 3 columns</p>\n",
       "</div>"
      ],
      "text/plain": [
       "            M_ENERGY      KEY  n_monomers\n",
       "test467 -1527.154217  test467          20\n",
       "test263 -1527.156016  test263          20\n",
       "test35  -1527.143158   test35          20\n",
       "test223 -1527.147556  test223          20\n",
       "test254 -1527.135568  test254          20\n",
       "...              ...      ...         ...\n",
       "test100 -1527.141372  test100          20\n",
       "test304 -1527.150985  test304          20\n",
       "test327 -1527.154084  test327          20\n",
       "test185 -1527.144999  test185          20\n",
       "test66  -1527.133226   test66          20\n",
       "\n",
       "[500 rows x 3 columns]"
      ]
     },
     "execution_count": 12,
     "metadata": {},
     "output_type": "execute_result"
    }
   ],
   "source": [
    "pc_pbe0_dz.monomer_df"
   ]
  },
  {
   "cell_type": "markdown",
   "id": "d2bb0030-b9c6-4876-9264-a7003269896f",
   "metadata": {},
   "source": [
    "#  FFs\n",
    "\n",
    "A FF object should contain all the data needed to fit a potential.\n",
    "Getting all the jax arrays is slow - FFs should be made once and then reused for preceding fits\n",
    "\n",
    "Some fits will use Coloumb distances/charges, these are different for each electrostatic model"
   ]
  },
  {
   "cell_type": "code",
   "execution_count": 16,
   "id": "b7caffd6-56ed-4c1e-93ec-52041592e714",
   "metadata": {},
   "outputs": [
    {
     "name": "stdout",
     "output_type": "stream",
     "text": [
      "Pickled structures/dists found:  ['water_cluster.pkl.pkl', 'water_dimer.pkl.pkl', 'water_dimer.pkl', 'structures.pkl', 'dists.pkl', 'water_cluster.pkl']\n",
      "Loading pickled distances/structure: water_cluster\n",
      "loading data from pickle: data_pc_pbe0.obj.pkl\n"
     ]
    }
   ],
   "source": [
    "test_ff = load_ff(\"test\", \n",
    "        \"water_cluster\", \n",
    "        pk = \"data_pc_pbe0.obj.pkl\",\n",
    "        intern=\"harmonic\",\n",
    "        elec=\"ECOL\"\n",
    "       )\n",
    "test_ff, data = test_ff"
   ]
  },
  {
   "cell_type": "code",
   "execution_count": 69,
   "id": "c0570200-ae66-497c-903e-1586dfd0b471",
   "metadata": {},
   "outputs": [
    {
     "data": {
      "text/plain": [
       "FF: LJ water_cluster ELEC harmonic"
      ]
     },
     "execution_count": 69,
     "metadata": {},
     "output_type": "execute_result"
    }
   ],
   "source": [
    "test_ff.elec = \"ELEC\"\n",
    "test_ff.set_targets()\n",
    "test_ff"
   ]
  },
  {
   "cell_type": "code",
   "execution_count": 75,
   "id": "650837aa-3240-4e2a-bf97-3ebe3d4f1cff",
   "metadata": {},
   "outputs": [
    {
     "name": "stdout",
     "output_type": "stream",
     "text": [
      "Optimizing LJ parameters...\n",
      "function: LJ\n",
      "bounds: ((0.25, 2.5), (0.25, 2.5), (0.0001, 0.5), (0.0001, 0.5))\n",
      "maxfev: 10000\n",
      "initial guess: [0.7988427924279449, 1.1320033495322679, 0.043149157616350804, 0.09769193597676704]\n"
     ]
    },
    {
     "name": "stderr",
     "output_type": "stream",
     "text": [
      "/home/boittier/Documents/phd/ff_energy/ff_energy/ff.py:375: OptimizeWarning: Unknown solver options: pgtol\n",
      "  bounds=bounds,\n"
     ]
    },
    {
     "name": "stdout",
     "output_type": "stream",
     "text": [
      "final_loss_fn:  34.6102409362793\n",
      "       message: Optimization terminated successfully.\n",
      "       success: True\n",
      "        status: 0\n",
      "           fun: 34.6102409362793\n",
      "             x: [ 1.235e+00  1.243e+00  2.224e-02  3.057e-02]\n",
      "           nit: 275\n",
      "          nfev: 516\n",
      " final_simplex: (array([[ 1.235e+00,  1.243e+00,  2.224e-02,  3.057e-02],\n",
      "                       [ 1.235e+00,  1.243e+00,  2.224e-02,  3.057e-02],\n",
      "                       ...,\n",
      "                       [ 1.235e+00,  1.243e+00,  2.224e-02,  3.057e-02],\n",
      "                       [ 1.235e+00,  1.243e+00,  2.224e-02,  3.057e-02]]), array([ 3.461e+01,  3.461e+01,  3.461e+01,  3.461e+01,\n",
      "                        3.461e+01]))\n",
      "Set optimized parameters to FF object, self.df[\"LJ\"] is updated.\n"
     ]
    },
    {
     "data": {
      "text/plain": [
       "       message: Optimization terminated successfully.\n",
       "       success: True\n",
       "        status: 0\n",
       "           fun: 34.6102409362793\n",
       "             x: [ 1.235e+00  1.243e+00  2.224e-02  3.057e-02]\n",
       "           nit: 275\n",
       "          nfev: 516\n",
       " final_simplex: (array([[ 1.235e+00,  1.243e+00,  2.224e-02,  3.057e-02],\n",
       "                       [ 1.235e+00,  1.243e+00,  2.224e-02,  3.057e-02],\n",
       "                       ...,\n",
       "                       [ 1.235e+00,  1.243e+00,  2.224e-02,  3.057e-02],\n",
       "                       [ 1.235e+00,  1.243e+00,  2.224e-02,  3.057e-02]]), array([ 3.461e+01,  3.461e+01,  3.461e+01,  3.461e+01,\n",
       "                        3.461e+01]))"
      ]
     },
     "execution_count": 75,
     "metadata": {},
     "output_type": "execute_result"
    }
   ],
   "source": [
    "test_ff.fit_func(None)"
   ]
  },
  {
   "cell_type": "code",
   "execution_count": null,
   "id": "2f734df9-7a2c-46d8-926f-f625d86f2960",
   "metadata": {},
   "outputs": [],
   "source": []
  },
  {
   "cell_type": "code",
   "execution_count": 44,
   "id": "faab2d3e-9719-40f5-bd48-84781567496e",
   "metadata": {},
   "outputs": [],
   "source": [
    "jax_data_kmdcm = next(read_from_pickle(\"jax_data_kmdcm.pkl\"))"
   ]
  },
  {
   "cell_type": "code",
   "execution_count": 45,
   "id": "d158834a-1775-4beb-8add-4bea843cc003",
   "metadata": {},
   "outputs": [],
   "source": [
    "test_ff.init_jax_col(jax_data_kmdcm)"
   ]
  },
  {
   "cell_type": "code",
   "execution_count": 48,
   "id": "d962300b-a6c9-4dbf-9a7e-b65415e09453",
   "metadata": {},
   "outputs": [],
   "source": [
    "# test_ff.cluster_labels"
   ]
  },
  {
   "cell_type": "code",
   "execution_count": 78,
   "id": "de51d797-c28c-4e7c-ba5d-b94504929eef",
   "metadata": {},
   "outputs": [
    {
     "ename": "AttributeError",
     "evalue": "'FF' object has no attribute 'coloumb_init'",
     "output_type": "error",
     "traceback": [
      "\u001b[0;31m---------------------------------------------------------------------------\u001b[0m",
      "\u001b[0;31mAttributeError\u001b[0m                            Traceback (most recent call last)",
      "File \u001b[0;32m~/miniconda3/envs/pycharmm/lib/python3.8/site-packages/IPython/core/formatters.py:706\u001b[0m, in \u001b[0;36mPlainTextFormatter.__call__\u001b[0;34m(self, obj)\u001b[0m\n\u001b[1;32m    699\u001b[0m stream \u001b[38;5;241m=\u001b[39m StringIO()\n\u001b[1;32m    700\u001b[0m printer \u001b[38;5;241m=\u001b[39m pretty\u001b[38;5;241m.\u001b[39mRepresentationPrinter(stream, \u001b[38;5;28mself\u001b[39m\u001b[38;5;241m.\u001b[39mverbose,\n\u001b[1;32m    701\u001b[0m     \u001b[38;5;28mself\u001b[39m\u001b[38;5;241m.\u001b[39mmax_width, \u001b[38;5;28mself\u001b[39m\u001b[38;5;241m.\u001b[39mnewline,\n\u001b[1;32m    702\u001b[0m     max_seq_length\u001b[38;5;241m=\u001b[39m\u001b[38;5;28mself\u001b[39m\u001b[38;5;241m.\u001b[39mmax_seq_length,\n\u001b[1;32m    703\u001b[0m     singleton_pprinters\u001b[38;5;241m=\u001b[39m\u001b[38;5;28mself\u001b[39m\u001b[38;5;241m.\u001b[39msingleton_printers,\n\u001b[1;32m    704\u001b[0m     type_pprinters\u001b[38;5;241m=\u001b[39m\u001b[38;5;28mself\u001b[39m\u001b[38;5;241m.\u001b[39mtype_printers,\n\u001b[1;32m    705\u001b[0m     deferred_pprinters\u001b[38;5;241m=\u001b[39m\u001b[38;5;28mself\u001b[39m\u001b[38;5;241m.\u001b[39mdeferred_printers)\n\u001b[0;32m--> 706\u001b[0m \u001b[43mprinter\u001b[49m\u001b[38;5;241;43m.\u001b[39;49m\u001b[43mpretty\u001b[49m\u001b[43m(\u001b[49m\u001b[43mobj\u001b[49m\u001b[43m)\u001b[49m\n\u001b[1;32m    707\u001b[0m printer\u001b[38;5;241m.\u001b[39mflush()\n\u001b[1;32m    708\u001b[0m \u001b[38;5;28;01mreturn\u001b[39;00m stream\u001b[38;5;241m.\u001b[39mgetvalue()\n",
      "File \u001b[0;32m~/miniconda3/envs/pycharmm/lib/python3.8/site-packages/IPython/lib/pretty.py:410\u001b[0m, in \u001b[0;36mRepresentationPrinter.pretty\u001b[0;34m(self, obj)\u001b[0m\n\u001b[1;32m    407\u001b[0m                         \u001b[38;5;28;01mreturn\u001b[39;00m meth(obj, \u001b[38;5;28mself\u001b[39m, cycle)\n\u001b[1;32m    408\u001b[0m                 \u001b[38;5;28;01mif\u001b[39;00m \u001b[38;5;28mcls\u001b[39m \u001b[38;5;129;01mis\u001b[39;00m \u001b[38;5;129;01mnot\u001b[39;00m \u001b[38;5;28mobject\u001b[39m \\\n\u001b[1;32m    409\u001b[0m                         \u001b[38;5;129;01mand\u001b[39;00m callable(\u001b[38;5;28mcls\u001b[39m\u001b[38;5;241m.\u001b[39m\u001b[38;5;18m__dict__\u001b[39m\u001b[38;5;241m.\u001b[39mget(\u001b[38;5;124m'\u001b[39m\u001b[38;5;124m__repr__\u001b[39m\u001b[38;5;124m'\u001b[39m)):\n\u001b[0;32m--> 410\u001b[0m                     \u001b[38;5;28;01mreturn\u001b[39;00m \u001b[43m_repr_pprint\u001b[49m\u001b[43m(\u001b[49m\u001b[43mobj\u001b[49m\u001b[43m,\u001b[49m\u001b[43m \u001b[49m\u001b[38;5;28;43mself\u001b[39;49m\u001b[43m,\u001b[49m\u001b[43m \u001b[49m\u001b[43mcycle\u001b[49m\u001b[43m)\u001b[49m\n\u001b[1;32m    412\u001b[0m     \u001b[38;5;28;01mreturn\u001b[39;00m _default_pprint(obj, \u001b[38;5;28mself\u001b[39m, cycle)\n\u001b[1;32m    413\u001b[0m \u001b[38;5;28;01mfinally\u001b[39;00m:\n",
      "File \u001b[0;32m~/miniconda3/envs/pycharmm/lib/python3.8/site-packages/IPython/lib/pretty.py:778\u001b[0m, in \u001b[0;36m_repr_pprint\u001b[0;34m(obj, p, cycle)\u001b[0m\n\u001b[1;32m    776\u001b[0m \u001b[38;5;250m\u001b[39m\u001b[38;5;124;03m\"\"\"A pprint that just redirects to the normal repr function.\"\"\"\u001b[39;00m\n\u001b[1;32m    777\u001b[0m \u001b[38;5;66;03m# Find newlines and replace them with p.break_()\u001b[39;00m\n\u001b[0;32m--> 778\u001b[0m output \u001b[38;5;241m=\u001b[39m \u001b[38;5;28;43mrepr\u001b[39;49m\u001b[43m(\u001b[49m\u001b[43mobj\u001b[49m\u001b[43m)\u001b[49m\n\u001b[1;32m    779\u001b[0m lines \u001b[38;5;241m=\u001b[39m output\u001b[38;5;241m.\u001b[39msplitlines()\n\u001b[1;32m    780\u001b[0m \u001b[38;5;28;01mwith\u001b[39;00m p\u001b[38;5;241m.\u001b[39mgroup():\n",
      "File \u001b[0;32m~/Documents/phd/ff_energy/ff_energy/ff.py:154\u001b[0m, in \u001b[0;36mFF.__repr__\u001b[0;34m(self)\u001b[0m\n\u001b[1;32m    152\u001b[0m \u001b[38;5;28;01mdef\u001b[39;00m \u001b[38;5;21m__repr__\u001b[39m(\u001b[38;5;28mself\u001b[39m):\n\u001b[1;32m    153\u001b[0m     \u001b[38;5;28;01mreturn\u001b[39;00m (\n\u001b[0;32m--> 154\u001b[0m         \u001b[38;5;124mf\u001b[39m\u001b[38;5;124m\"\u001b[39m\u001b[38;5;124mFF: \u001b[39m\u001b[38;5;132;01m{\u001b[39;00m\u001b[38;5;28mself\u001b[39m\u001b[38;5;241m.\u001b[39mfunc\u001b[38;5;241m.\u001b[39m\u001b[38;5;18m__name__\u001b[39m\u001b[38;5;132;01m}\u001b[39;00m\u001b[38;5;124m\"\u001b[39m\n\u001b[1;32m    155\u001b[0m         \u001b[38;5;124mf\u001b[39m\u001b[38;5;124m\"\u001b[39m\u001b[38;5;124m \u001b[39m\u001b[38;5;132;01m{\u001b[39;00m\u001b[38;5;28mself\u001b[39m\u001b[38;5;241m.\u001b[39mstructure\u001b[38;5;241m.\u001b[39msystem_name\u001b[38;5;132;01m}\u001b[39;00m\u001b[38;5;124m\"\u001b[39m\n\u001b[1;32m    156\u001b[0m         \u001b[38;5;124mf\u001b[39m\u001b[38;5;124m\"\u001b[39m\u001b[38;5;124m \u001b[39m\u001b[38;5;132;01m{\u001b[39;00m\u001b[38;5;28mself\u001b[39m\u001b[38;5;241m.\u001b[39melec\u001b[38;5;132;01m}\u001b[39;00m\u001b[38;5;124m\"\u001b[39m\n\u001b[1;32m    157\u001b[0m         \u001b[38;5;124mf\u001b[39m\u001b[38;5;124m\"\u001b[39m\u001b[38;5;124m \u001b[39m\u001b[38;5;132;01m{\u001b[39;00m\u001b[38;5;28mself\u001b[39m\u001b[38;5;241m.\u001b[39mintern\u001b[38;5;132;01m}\u001b[39;00m\u001b[38;5;124m\"\u001b[39m\n\u001b[1;32m    158\u001b[0m         \u001b[38;5;124mf\u001b[39m\u001b[38;5;124m\"\u001b[39m\u001b[38;5;124mjax_coloumb: \u001b[39m\u001b[38;5;132;01m{\u001b[39;00m\u001b[38;5;28mself\u001b[39m\u001b[38;5;241m.\u001b[39mcoloumb_init\u001b[38;5;132;01m}\u001b[39;00m\u001b[38;5;124m\"\u001b[39m\n\u001b[1;32m    159\u001b[0m     )\n",
      "\u001b[0;31mAttributeError\u001b[0m: 'FF' object has no attribute 'coloumb_init'"
     ]
    }
   ],
   "source": [
    "test_ff"
   ]
  },
  {
   "cell_type": "code",
   "execution_count": null,
   "id": "5dd63bda-0df5-4e77-8d1b-3048dc2ba95c",
   "metadata": {},
   "outputs": [],
   "source": []
  }
 ],
 "metadata": {
  "kernelspec": {
   "display_name": "pycharmm",
   "language": "python",
   "name": "pycharmm"
  },
  "language_info": {
   "codemirror_mode": {
    "name": "ipython",
    "version": 3
   },
   "file_extension": ".py",
   "mimetype": "text/x-python",
   "name": "python",
   "nbconvert_exporter": "python",
   "pygments_lexer": "ipython3",
   "version": "3.8.16"
  }
 },
 "nbformat": 4,
 "nbformat_minor": 5
}
