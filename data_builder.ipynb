{
 "cells": [
  {
   "cell_type": "code",
   "execution_count": 82,
   "id": "3c7cf1fc-f552-477f-a40b-9badb6a4ce8b",
   "metadata": {},
   "outputs": [
    {
     "name": "stdout",
     "output_type": "stream",
     "text": [
      "The autoreload extension is already loaded. To reload it, use:\n",
      "  %reload_ext autoreload\n"
     ]
    }
   ],
   "source": [
    "%load_ext autoreload\n",
    "%autoreload 2\n",
    "\n",
    "from ff_energy.utils import pickle_output, read_from_pickle\n",
    "import pandas as pd\n",
    "import scikit_posthocs as sp\n",
    "import seaborn as sns\n",
    "import matplotlib.pyplot as plt\n",
    "from ff_energy.plot import plot_energy_MSE, plot_ff_fit\n",
    "\n",
    "from ff_energy.structure import atom_key_pairs\n",
    "from ff_energy.potential import LJ, akp_indx\n",
    "from ff_energy.ff import FF\n",
    "from ff_energy.ff_fit import LJ_bound, load_ff, fit_func, fit_repeat\n",
    "from ff_energy.data import pairs_data\n"
   ]
  },
  {
   "cell_type": "markdown",
   "id": "8910e730-ca1b-44e4-94e2-7680340aca05",
   "metadata": {},
   "source": [
    "#  Data \n",
    "##  ab intio data"
   ]
  },
  {
   "cell_type": "code",
   "execution_count": 3,
   "id": "c19fdd3d-72f1-47d7-bc59-d062da1e46d7",
   "metadata": {},
   "outputs": [],
   "source": [
    "pc_pbe0_dz_d4 = next(read_from_pickle(\"data_pc_pbe0_d4.obj.pkl\"))\n",
    "pc_pbe0_dz = next(read_from_pickle(\"data_pc_pbe0.obj.pkl\"))\n",
    "pc_hf_dz = next(read_from_pickle(\"data_pc_hfdz.obj.pkl\"))\n",
    "pc_pbe0tz = next(read_from_pickle(\"data_pc_pbe0tz.obj.pkl\"))\n",
    "pnolccsd_pvtzdf = next(read_from_pickle(\"data_pc_pno-lccsd-pvtzdf.obj.pkl\"))"
   ]
  },
  {
   "cell_type": "code",
   "execution_count": 12,
   "id": "066ed072-0726-4c6c-abae-c18dbef92359",
   "metadata": {},
   "outputs": [
    {
     "data": {
      "text/html": [
       "<div>\n",
       "<style scoped>\n",
       "    .dataframe tbody tr th:only-of-type {\n",
       "        vertical-align: middle;\n",
       "    }\n",
       "\n",
       "    .dataframe tbody tr th {\n",
       "        vertical-align: top;\n",
       "    }\n",
       "\n",
       "    .dataframe thead th {\n",
       "        text-align: right;\n",
       "    }\n",
       "</style>\n",
       "<table border=\"1\" class=\"dataframe\">\n",
       "  <thead>\n",
       "    <tr style=\"text-align: right;\">\n",
       "      <th></th>\n",
       "      <th>M_ENERGY</th>\n",
       "      <th>KEY</th>\n",
       "      <th>n_monomers</th>\n",
       "    </tr>\n",
       "  </thead>\n",
       "  <tbody>\n",
       "    <tr>\n",
       "      <th>test467</th>\n",
       "      <td>-1527.154217</td>\n",
       "      <td>test467</td>\n",
       "      <td>20</td>\n",
       "    </tr>\n",
       "    <tr>\n",
       "      <th>test263</th>\n",
       "      <td>-1527.156016</td>\n",
       "      <td>test263</td>\n",
       "      <td>20</td>\n",
       "    </tr>\n",
       "    <tr>\n",
       "      <th>test35</th>\n",
       "      <td>-1527.143158</td>\n",
       "      <td>test35</td>\n",
       "      <td>20</td>\n",
       "    </tr>\n",
       "    <tr>\n",
       "      <th>test223</th>\n",
       "      <td>-1527.147556</td>\n",
       "      <td>test223</td>\n",
       "      <td>20</td>\n",
       "    </tr>\n",
       "    <tr>\n",
       "      <th>test254</th>\n",
       "      <td>-1527.135568</td>\n",
       "      <td>test254</td>\n",
       "      <td>20</td>\n",
       "    </tr>\n",
       "    <tr>\n",
       "      <th>...</th>\n",
       "      <td>...</td>\n",
       "      <td>...</td>\n",
       "      <td>...</td>\n",
       "    </tr>\n",
       "    <tr>\n",
       "      <th>test100</th>\n",
       "      <td>-1527.141372</td>\n",
       "      <td>test100</td>\n",
       "      <td>20</td>\n",
       "    </tr>\n",
       "    <tr>\n",
       "      <th>test304</th>\n",
       "      <td>-1527.150985</td>\n",
       "      <td>test304</td>\n",
       "      <td>20</td>\n",
       "    </tr>\n",
       "    <tr>\n",
       "      <th>test327</th>\n",
       "      <td>-1527.154084</td>\n",
       "      <td>test327</td>\n",
       "      <td>20</td>\n",
       "    </tr>\n",
       "    <tr>\n",
       "      <th>test185</th>\n",
       "      <td>-1527.144999</td>\n",
       "      <td>test185</td>\n",
       "      <td>20</td>\n",
       "    </tr>\n",
       "    <tr>\n",
       "      <th>test66</th>\n",
       "      <td>-1527.133226</td>\n",
       "      <td>test66</td>\n",
       "      <td>20</td>\n",
       "    </tr>\n",
       "  </tbody>\n",
       "</table>\n",
       "<p>500 rows × 3 columns</p>\n",
       "</div>"
      ],
      "text/plain": [
       "            M_ENERGY      KEY  n_monomers\n",
       "test467 -1527.154217  test467          20\n",
       "test263 -1527.156016  test263          20\n",
       "test35  -1527.143158   test35          20\n",
       "test223 -1527.147556  test223          20\n",
       "test254 -1527.135568  test254          20\n",
       "...              ...      ...         ...\n",
       "test100 -1527.141372  test100          20\n",
       "test304 -1527.150985  test304          20\n",
       "test327 -1527.154084  test327          20\n",
       "test185 -1527.144999  test185          20\n",
       "test66  -1527.133226   test66          20\n",
       "\n",
       "[500 rows x 3 columns]"
      ]
     },
     "execution_count": 12,
     "metadata": {},
     "output_type": "execute_result"
    }
   ],
   "source": [
    "pc_pbe0_dz.monomer_df"
   ]
  },
  {
   "cell_type": "markdown",
   "id": "d2bb0030-b9c6-4876-9264-a7003269896f",
   "metadata": {},
   "source": [
    "#  FFs\n",
    "\n",
    "A FF object should contain all the data needed to fit a potential.\n",
    "Getting all the jax arrays is slow - FFs should be made once and then reused for preceding fits\n",
    "\n",
    "Some fits will use Coloumb distances/charges, these are different for each electrostatic model"
   ]
  },
  {
   "cell_type": "code",
   "execution_count": 113,
   "id": "b7caffd6-56ed-4c1e-93ec-52041592e714",
   "metadata": {},
   "outputs": [
    {
     "name": "stdout",
     "output_type": "stream",
     "text": [
      "Pickled structures/dists found:  ['water_cluster.pkl.pkl', 'water_dimer.pkl.pkl', 'water_dimer.pkl', 'structures.pkl', 'dists.pkl', 'water_cluster.pkl']\n",
      "Loading pickled distances/structure: water_cluster\n",
      "loading data from pickle: data_pc_pbe0.obj.pkl\n"
     ]
    }
   ],
   "source": [
    "test_ff = load_ff(\"test\", \n",
    "        \"water_cluster\", \n",
    "        pk = \"data_pc_pbe0.obj.pkl\",\n",
    "        intern=\"harmonic\",\n",
    "        elec=\"ECOL\"\n",
    "       )\n",
    "test_ff, data = test_ff"
   ]
  },
  {
   "cell_type": "code",
   "execution_count": 114,
   "id": "c0570200-ae66-497c-903e-1586dfd0b471",
   "metadata": {},
   "outputs": [
    {
     "data": {
      "text/plain": [
       "FF: LJ water_cluster ELEC harmonicjax_coloumb: False"
      ]
     },
     "execution_count": 114,
     "metadata": {},
     "output_type": "execute_result"
    }
   ],
   "source": [
    "test_ff.elec = \"ELEC\"\n",
    "test_ff.set_targets()\n",
    "test_ff"
   ]
  },
  {
   "cell_type": "code",
   "execution_count": 115,
   "id": "650837aa-3240-4e2a-bf97-3ebe3d4f1cff",
   "metadata": {},
   "outputs": [
    {
     "name": "stdout",
     "output_type": "stream",
     "text": [
      "Optimizing LJ parameters...\n",
      "function: LJ\n",
      "bounds: ((0.25, 2.5), (0.25, 2.5), (0.0001, 0.5), (0.0001, 0.5))\n",
      "maxfev: 10000\n",
      "initial guess: [1.6170418400175541, 0.9351073612728495, 0.47240351913685147, 0.03593968041434267]\n"
     ]
    },
    {
     "name": "stderr",
     "output_type": "stream",
     "text": [
      "/home/boittier/Documents/phd/ff_energy/ff_energy/ff_fit.py:157: OptimizeWarning: Unknown solver options: pgtol\n",
      "  res = minimize(\n"
     ]
    },
    {
     "name": "stdout",
     "output_type": "stream",
     "text": [
      "final_loss_fn:  129.8406219482422\n",
      "       message: Optimization terminated successfully.\n",
      "       success: True\n",
      "        status: 0\n",
      "           fun: 129.8406219482422\n",
      "             x: [ 2.500e-01  2.500e-01  5.000e-01  1.000e-04]\n",
      "           nit: 50\n",
      "          nfev: 79\n",
      " final_simplex: (array([[ 2.500e-01,  2.500e-01,  5.000e-01,  1.000e-04],\n",
      "                       [ 2.500e-01,  2.500e-01,  5.000e-01,  1.000e-04],\n",
      "                       ...,\n",
      "                       [ 2.500e-01,  2.500e-01,  5.000e-01,  1.000e-04],\n",
      "                       [ 2.500e-01,  2.500e-01,  5.000e-01,  1.000e-04]]), array([ 1.298e+02,  1.298e+02,  1.298e+02,  1.298e+02,\n",
      "                        1.298e+02]))\n"
     ]
    },
    {
     "data": {
      "text/plain": [
       "       message: Optimization terminated successfully.\n",
       "       success: True\n",
       "        status: 0\n",
       "           fun: 129.8406219482422\n",
       "             x: [ 2.500e-01  2.500e-01  5.000e-01  1.000e-04]\n",
       "           nit: 50\n",
       "          nfev: 79\n",
       " final_simplex: (array([[ 2.500e-01,  2.500e-01,  5.000e-01,  1.000e-04],\n",
       "                       [ 2.500e-01,  2.500e-01,  5.000e-01,  1.000e-04],\n",
       "                       ...,\n",
       "                       [ 2.500e-01,  2.500e-01,  5.000e-01,  1.000e-04],\n",
       "                       [ 2.500e-01,  2.500e-01,  5.000e-01,  1.000e-04]]), array([ 1.298e+02,  1.298e+02,  1.298e+02,  1.298e+02,\n",
       "                        1.298e+02]))"
      ]
     },
     "execution_count": 115,
     "metadata": {},
     "output_type": "execute_result"
    }
   ],
   "source": [
    "fit_func(test_ff, None)"
   ]
  },
  {
   "cell_type": "code",
   "execution_count": null,
   "id": "2f734df9-7a2c-46d8-926f-f625d86f2960",
   "metadata": {},
   "outputs": [],
   "source": []
  },
  {
   "cell_type": "code",
   "execution_count": 87,
   "id": "faab2d3e-9719-40f5-bd48-84781567496e",
   "metadata": {},
   "outputs": [],
   "source": [
    "jax_data_kmdcm = next(read_from_pickle(\"jax_data_kmdcm.pkl\"))"
   ]
  },
  {
   "cell_type": "code",
   "execution_count": 88,
   "id": "d158834a-1775-4beb-8add-4bea843cc003",
   "metadata": {},
   "outputs": [],
   "source": [
    "test_ff.init_jax_col(jax_data_kmdcm)"
   ]
  },
  {
   "cell_type": "code",
   "execution_count": 89,
   "id": "d962300b-a6c9-4dbf-9a7e-b65415e09453",
   "metadata": {},
   "outputs": [],
   "source": [
    "# test_ff.cluster_labels"
   ]
  },
  {
   "cell_type": "code",
   "execution_count": 90,
   "id": "de51d797-c28c-4e7c-ba5d-b94504929eef",
   "metadata": {},
   "outputs": [
    {
     "data": {
      "text/plain": [
       "FF: LJ water_cluster ELEC harmonicjax_coloumb: True"
      ]
     },
     "execution_count": 90,
     "metadata": {},
     "output_type": "execute_result"
    }
   ],
   "source": [
    "test_ff"
   ]
  },
  {
   "cell_type": "code",
   "execution_count": 102,
   "id": "5dd63bda-0df5-4e77-8d1b-3048dc2ba95c",
   "metadata": {},
   "outputs": [
    {
     "name": "stdout",
     "output_type": "stream",
     "text": [
      "Optimizing LJ parameters...\n",
      "function: LJ\n",
      "bounds: ((0.25, 2.5), (0.25, 2.5), (0.0001, 0.5), (0.0001, 0.5), (1.0, 1.5))\n",
      "maxfev: 10000\n",
      "initial guess: [2.1801901325157633, 0.9689078330468776, 0.3951433427330229, 0.26583564356898853, 1.34]\n"
     ]
    },
    {
     "name": "stderr",
     "output_type": "stream",
     "text": [
      "/home/boittier/Documents/phd/ff_energy/ff_energy/ff_fit.py:157: OptimizeWarning: Unknown solver options: pgtol\n",
      "  res = minimize(\n"
     ]
    },
    {
     "name": "stdout",
     "output_type": "stream",
     "text": [
      "final_loss_fn:  783.3369140625\n",
      "       message: Optimization terminated successfully.\n",
      "       success: True\n",
      "        status: 0\n",
      "           fun: 783.3369140625\n",
      "             x: [ 1.116e+00  7.808e-01  5.000e-01  5.000e-01  1.500e+00]\n",
      "           nit: 402\n",
      "          nfev: 683\n",
      " final_simplex: (array([[ 1.116e+00,  7.808e-01, ...,  5.000e-01,\n",
      "                         1.500e+00],\n",
      "                       [ 1.116e+00,  7.808e-01, ...,  5.000e-01,\n",
      "                         1.500e+00],\n",
      "                       ...,\n",
      "                       [ 1.116e+00,  7.808e-01, ...,  5.000e-01,\n",
      "                         1.500e+00],\n",
      "                       [ 1.116e+00,  7.808e-01, ...,  5.000e-01,\n",
      "                         1.500e+00]]), array([ 7.833e+02,  7.833e+02,  7.833e+02,  7.833e+02,\n",
      "                        7.833e+02,  7.833e+02]))\n"
     ]
    },
    {
     "data": {
      "text/plain": [
       "       message: Optimization terminated successfully.\n",
       "       success: True\n",
       "        status: 0\n",
       "           fun: 783.3369140625\n",
       "             x: [ 1.116e+00  7.808e-01  5.000e-01  5.000e-01  1.500e+00]\n",
       "           nit: 402\n",
       "          nfev: 683\n",
       " final_simplex: (array([[ 1.116e+00,  7.808e-01, ...,  5.000e-01,\n",
       "                         1.500e+00],\n",
       "                       [ 1.116e+00,  7.808e-01, ...,  5.000e-01,\n",
       "                         1.500e+00],\n",
       "                       ...,\n",
       "                       [ 1.116e+00,  7.808e-01, ...,  5.000e-01,\n",
       "                         1.500e+00],\n",
       "                       [ 1.116e+00,  7.808e-01, ...,  5.000e-01,\n",
       "                         1.500e+00]]), array([ 7.833e+02,  7.833e+02,  7.833e+02,  7.833e+02,\n",
       "                        7.833e+02,  7.833e+02]))"
      ]
     },
     "execution_count": 102,
     "metadata": {},
     "output_type": "execute_result"
    }
   ],
   "source": [
    "x0 = [2.1801901325157633, 0.9689078330468776, 0.3951433427330229, 0.26583564356898853, 1.34]\n",
    "sig_bound = (0.25, 2.5)\n",
    "ep_bound = (0.0001, 0.5)\n",
    "bounds = ((sig_bound), (sig_bound), (ep_bound), (ep_bound), (1.0,1.5))\n",
    "\n",
    "fit_func(test_ff, x0, bounds=bounds, loss='lj_ecol')"
   ]
  },
  {
   "cell_type": "code",
   "execution_count": 107,
   "id": "82660101-659b-4be0-9400-bc0d139d2032",
   "metadata": {},
   "outputs": [
    {
     "data": {
      "text/html": [
       "<div>\n",
       "<style scoped>\n",
       "    .dataframe tbody tr th:only-of-type {\n",
       "        vertical-align: middle;\n",
       "    }\n",
       "\n",
       "    .dataframe tbody tr th {\n",
       "        vertical-align: top;\n",
       "    }\n",
       "\n",
       "    .dataframe thead th {\n",
       "        text-align: right;\n",
       "    }\n",
       "</style>\n",
       "<table border=\"1\" class=\"dataframe\">\n",
       "  <thead>\n",
       "    <tr style=\"text-align: right;\">\n",
       "      <th></th>\n",
       "      <th>intE</th>\n",
       "    </tr>\n",
       "  </thead>\n",
       "  <tbody>\n",
       "    <tr>\n",
       "      <th>test0</th>\n",
       "      <td>-88.423171</td>\n",
       "    </tr>\n",
       "    <tr>\n",
       "      <th>test1</th>\n",
       "      <td>-53.572861</td>\n",
       "    </tr>\n",
       "    <tr>\n",
       "      <th>test2</th>\n",
       "      <td>-74.628101</td>\n",
       "    </tr>\n",
       "    <tr>\n",
       "      <th>test3</th>\n",
       "      <td>-59.373728</td>\n",
       "    </tr>\n",
       "    <tr>\n",
       "      <th>test4</th>\n",
       "      <td>-74.612477</td>\n",
       "    </tr>\n",
       "    <tr>\n",
       "      <th>...</th>\n",
       "      <td>...</td>\n",
       "    </tr>\n",
       "    <tr>\n",
       "      <th>test495</th>\n",
       "      <td>-76.747446</td>\n",
       "    </tr>\n",
       "    <tr>\n",
       "      <th>test496</th>\n",
       "      <td>-58.484874</td>\n",
       "    </tr>\n",
       "    <tr>\n",
       "      <th>test497</th>\n",
       "      <td>-58.307079</td>\n",
       "    </tr>\n",
       "    <tr>\n",
       "      <th>test498</th>\n",
       "      <td>-64.986095</td>\n",
       "    </tr>\n",
       "    <tr>\n",
       "      <th>test499</th>\n",
       "      <td>-70.280596</td>\n",
       "    </tr>\n",
       "  </tbody>\n",
       "</table>\n",
       "<p>500 rows × 1 columns</p>\n",
       "</div>"
      ],
      "text/plain": [
       "              intE\n",
       "test0   -88.423171\n",
       "test1   -53.572861\n",
       "test2   -74.628101\n",
       "test3   -59.373728\n",
       "test4   -74.612477\n",
       "...            ...\n",
       "test495 -76.747446\n",
       "test496 -58.484874\n",
       "test497 -58.307079\n",
       "test498 -64.986095\n",
       "test499 -70.280596\n",
       "\n",
       "[500 rows x 1 columns]"
      ]
     },
     "execution_count": 107,
     "metadata": {},
     "output_type": "execute_result"
    }
   ],
   "source": [
    "test_ff.data[[\"intE\"]]"
   ]
  },
  {
   "cell_type": "code",
   "execution_count": 105,
   "id": "35b326ac-b291-44a8-b3b4-b711ed10421e",
   "metadata": {},
   "outputs": [
    {
     "data": {
      "text/plain": [
       "Array([ -87.73192 ,  -53.635742,  -74.65536 ,  -59.582268,  -74.86736 ,\n",
       "        -63.04028 ,  -60.319916,  -53.79419 ,  -61.938053,  -63.166183,\n",
       "        -52.11618 ,  -51.378582,  -67.03404 ,  -68.89161 ,  -75.26452 ,\n",
       "        -66.317085,  -64.54564 ,  -60.093925,  -76.63827 ,  -53.382748,\n",
       "        -62.73625 ,  -59.81628 ,  -43.87575 ,  -38.67543 ,  -57.742355,\n",
       "        -72.39073 ,  -52.655025,  -36.681713,  -26.06485 ,  -41.864223,\n",
       "        -56.548836,  -52.899216,  -55.62058 ,  -75.0999  ,  -58.183712,\n",
       "        -71.26341 ,  -56.36466 ,  -65.41849 ,  -34.3824  ,  -48.865692,\n",
       "        -37.059254,  -57.55826 ,  -42.26478 ,  -66.15077 ,  -35.782288,\n",
       "        -43.95934 ,  -42.953323,  -36.88685 ,  -63.937653,  -61.80994 ,\n",
       "        -64.10442 ,  -74.30323 ,  -52.068268,  -56.535233,  -62.20413 ,\n",
       "        -54.383987,  -65.781815,  -48.28325 ,  -65.54897 ,  -54.550266,\n",
       "        -92.84306 ,  -52.51835 ,  -59.42012 ,  -32.81041 ,  -37.48269 ,\n",
       "       -101.47126 ,  -68.13017 ,  -52.969017,  -74.65725 ,  -45.839363,\n",
       "        -42.41879 ,  -54.470703,  -37.157166,  -26.576515,  -51.484383,\n",
       "        -51.095352,  -53.30854 ,  -50.661808,  -71.687546,  -63.645382,\n",
       "        -54.972477,  -49.790173,  -41.349945,  -69.704575,  -73.14304 ,\n",
       "        -44.09773 ,  -71.95867 ,  -54.95917 ,  -50.99658 ,  -42.603928,\n",
       "        -63.121845,  -41.450924,  -42.44328 ,  -59.056778,  -68.01553 ,\n",
       "        -69.26055 ,  -72.058   ,  -66.59843 ,  -64.57088 ,  -59.241695,\n",
       "        -41.374966,  -54.845127,  -37.01263 ,  -54.98289 ,  -24.940144,\n",
       "        -35.93336 ,  -54.4929  ,  -60.843285,  -59.337013,  -64.29495 ,\n",
       "        -51.752396,  -52.903103,  -45.46924 ,  -43.79171 ,  -37.836998,\n",
       "        -40.328915,  -27.781876,  -28.80386 ,  -47.21842 ,  -75.033875,\n",
       "        -55.60981 ,  -59.592747,  -35.97967 ,  -37.957664,  -24.954388,\n",
       "        -56.483826,  -65.88949 ,  -47.052673,  -72.051865,  -35.277588,\n",
       "        -78.035126,  -51.442474,  -69.7691  ,  -39.690216,  -94.55433 ,\n",
       "        -51.512936,  -89.1546  ,  -69.39309 ,  -65.36535 ,  -80.099396,\n",
       "        -61.00293 ,  -76.721664,  -62.612625,  -62.5332  ,  -68.376495,\n",
       "        -50.385345,  -60.372337,  -60.32833 ,  -66.85159 ,  -64.10036 ,\n",
       "        -70.99452 ,  -74.44658 ,  -65.100876,  -72.27218 ,  -48.346157,\n",
       "        -47.821693,  -32.6606  ,  -42.997074,  -42.304615,  -32.87336 ,\n",
       "        -39.385174,  -38.361576,  -58.38498 ,  -58.9102  ,  -64.60152 ,\n",
       "        -49.59    ,  -65.30164 ,  -47.97027 ,  -66.473366,  -52.85038 ,\n",
       "        -47.64626 ,  -49.45203 ,  -56.11477 ,  -49.964005,  -77.900085,\n",
       "        -36.47536 ,  -49.826126,  -38.898327,  -36.910233,  -64.52901 ,\n",
       "        -40.01216 ,  -60.071228,  -51.002007,  -58.530373,  -56.37854 ,\n",
       "        -53.700966,  -64.75462 ,  -71.38442 ,  -65.609344,  -57.6175  ,\n",
       "        -65.46261 ,  -54.327896,  -65.240074,  -55.504833,  -53.656555,\n",
       "        -46.603073,  -67.55269 ,  -92.09709 ,  -69.84135 ,  -72.30684 ,\n",
       "        -62.40704 ,  -63.224926,  -66.07985 ,  -62.84785 ,  -71.87316 ,\n",
       "        -58.61854 ,  -53.80053 ,  -75.04492 ,  -56.457138,  -62.653797,\n",
       "        -41.59273 ,  -27.316628,  -79.944244,  -61.268166,  -49.718575,\n",
       "        -57.74296 ,  -72.26444 ,  -72.133385,  -61.411137,  -65.01188 ,\n",
       "        -40.558357,  -57.746025,  -61.030754,  -34.12276 ,  -58.191414,\n",
       "        -52.79386 ,  -54.592064,  -32.55191 ,  -48.57966 ,  -49.816425,\n",
       "        -45.38289 ,  -47.46144 ,  -66.42946 ,  -60.51182 ,  -84.0546  ,\n",
       "        -71.06214 ,  -76.10712 ,  -79.70747 ,  -84.63403 ,  -67.85808 ,\n",
       "        -48.72654 ,  -69.96728 ,  -49.649517,  -66.90727 ,  -66.91988 ,\n",
       "        -46.543964,  -88.38732 ,  -86.7725  ,  -63.841755,  -58.59832 ,\n",
       "        -48.405434,  -50.062706,  -78.343315,  -57.155857,  -62.367016,\n",
       "        -41.947132,  -52.193333,  -48.878113,  -52.964737,  -53.194084,\n",
       "        -62.446747,  -43.92244 ,  -24.202936,  -62.71539 ,  -49.574295,\n",
       "        -58.24028 ,  -58.34301 ,  -31.517885,  -34.44816 ,  -39.379364,\n",
       "        -49.59616 ,  -61.94264 ,  -64.87484 ,  -56.19118 ,  -66.90526 ,\n",
       "        -85.50365 ,  -74.576324,  -84.417854,  -47.422646,  -60.624054,\n",
       "        -49.660297,  -46.34413 ,  -36.658875,  -54.353935,  -64.58921 ,\n",
       "        -58.77374 ,  -76.58112 ,  -38.839123,  -67.87549 ,  -66.073685,\n",
       "        -51.344696,  -46.454155,  -43.24691 ,  -66.01963 ,  -77.11228 ,\n",
       "        -54.495228,  -48.70576 ,  -51.20263 ,  -66.599915,  -57.975426,\n",
       "        -86.11066 ,  -83.48359 ,  -54.535156,  -59.936695,  -49.84375 ,\n",
       "        -59.835648,  -54.186142,  -62.070766,  -60.78974 ,  -49.398247,\n",
       "        -54.737   ,  -61.993023,  -58.724205,  -80.38283 ,  -73.83491 ,\n",
       "        -60.185028,  -71.72975 ,  -52.26446 ,  -68.91268 ,  -74.1095  ,\n",
       "        -46.038586,  -59.684124,  -51.541016,  -48.719696,  -51.03365 ,\n",
       "        -39.17694 ,  -71.58809 ,  -89.92763 ,  -71.51706 ,  -65.64386 ,\n",
       "        -49.73013 ,  -67.949425,  -45.32487 ,  -51.013607,  -47.04481 ,\n",
       "        -72.426   ,  -62.192436,  -37.20087 ,  -33.589394,  -47.51965 ,\n",
       "        -38.88716 ,  -50.34365 ,  -69.31428 ,  -33.657536,  -95.77393 ,\n",
       "        -58.929653,  -65.7438  ,  -52.980515,  -68.5353  ,  -34.019417,\n",
       "        -67.82189 ,  -36.149944,  -63.41824 ,  -64.010574,  -67.76325 ,\n",
       "        -55.85366 ,  -60.7558  ,  -57.6523  ,  -46.276245,  -39.473732,\n",
       "        -71.17138 ,  -82.87714 ,  -51.325844,  -43.774452,  -54.076363,\n",
       "        -63.243217,  -53.546577,  -62.0268  ,  -71.61298 ,  -69.86113 ,\n",
       "        -50.44265 ,  -49.767532,  -51.82885 ,  -48.309704,  -51.31304 ,\n",
       "        -68.940575,  -52.68825 ,  -63.46562 ,  -49.553677,  -53.07959 ,\n",
       "        -60.35064 ,  -55.520485,  -81.300705,  -61.580276,  -44.966434,\n",
       "        -70.868935,  -56.31583 ,  -60.82088 ,  -63.401806,  -76.79033 ,\n",
       "        -74.5746  ,  -72.47308 ,  -70.012825,  -85.588196,  -79.428795,\n",
       "        -64.23415 ,  -63.319954,  -56.55519 ,  -67.54293 ,  -63.38617 ,\n",
       "        -51.93333 ,  -50.78512 ,  -60.502613,  -73.77466 ,  -63.382374,\n",
       "        -60.499123,  -72.78234 ,  -51.15706 ,  -53.157818,  -49.00334 ,\n",
       "        -54.669937,  -51.79943 ,  -52.751537,  -84.75186 ,  -90.21495 ,\n",
       "        -76.42677 ,  -75.89002 ,  -96.56803 ,  -67.50489 ,  -76.63196 ,\n",
       "        -55.77766 ,  -45.39321 ,  -48.73423 ,  -37.84524 ,  -47.647144,\n",
       "        -56.121456,  -60.74425 ,  -72.088   ,  -39.883423,  -55.98674 ,\n",
       "        -56.668423,  -58.6705  ,  -56.36171 ,  -65.93092 ,  -77.1388  ,\n",
       "        -69.13225 ,  -73.896095,  -68.6212  ,  -70.647224,  -64.88374 ,\n",
       "        -67.08695 ,  -75.39355 ,  -63.606895,  -46.98884 ,  -52.244606,\n",
       "        -59.85398 ,  -65.040504,  -68.30715 ,  -58.928402,  -81.31541 ,\n",
       "        -81.85945 ,  -47.143635,  -60.237003,  -51.603374,  -46.303547,\n",
       "        -50.773705,  -45.91342 ,  -45.29759 ,  -51.83596 ,  -28.225246,\n",
       "        -46.194786,  -46.91044 ,  -36.046227,  -50.088116,  -58.524704,\n",
       "        -33.952614,  -54.835445,  -50.097706,  -66.608215,  -70.97221 ,\n",
       "        -43.86479 ,  -60.940414,  -68.40938 ,  -65.16024 ,  -63.458065,\n",
       "        -75.42436 ,  -49.492348,  -67.26607 ,  -89.076996,  -67.185234,\n",
       "        -70.337654,  -73.756744,  -76.13674 ,  -69.611176,  -49.982754,\n",
       "        -61.152332,  -46.283695,  -74.069954,  -40.78104 ,  -71.75779 ,\n",
       "        -65.40834 ,  -54.517044,  -65.944275,  -75.190956,  -62.593132,\n",
       "        -75.25673 ,  -58.70208 ,  -58.497063,  -64.95909 ,  -70.34902 ],      dtype=float32)"
      ]
     },
     "execution_count": 105,
     "metadata": {},
     "output_type": "execute_result"
    }
   ],
   "source": [
    "# test_ff.eval_lj_coulomb(x0)\n",
    "test_ff.targets"
   ]
  },
  {
   "cell_type": "code",
   "execution_count": null,
   "id": "7a035912-80c6-4d93-a873-d40cc2a27f12",
   "metadata": {},
   "outputs": [],
   "source": []
  }
 ],
 "metadata": {
  "kernelspec": {
   "display_name": "pycharmm",
   "language": "python",
   "name": "pycharmm"
  },
  "language_info": {
   "codemirror_mode": {
    "name": "ipython",
    "version": 3
   },
   "file_extension": ".py",
   "mimetype": "text/x-python",
   "name": "python",
   "nbconvert_exporter": "python",
   "pygments_lexer": "ipython3",
   "version": "3.8.16"
  }
 },
 "nbformat": 4,
 "nbformat_minor": 5
}
