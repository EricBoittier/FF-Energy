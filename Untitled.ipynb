{
 "cells": [
  {
   "cell_type": "code",
   "execution_count": 1,
   "id": "15224244-b766-4613-8245-1f161c47d43f",
   "metadata": {},
   "outputs": [
    {
     "ename": "ImportError",
     "evalue": "libgfortran.so.3: cannot open shared object file: No such file or directory",
     "output_type": "error",
     "traceback": [
      "\u001b[0;31m---------------------------------------------------------------------------\u001b[0m",
      "\u001b[0;31mImportError\u001b[0m                               Traceback (most recent call last)",
      "Cell \u001b[0;32mIn[1], line 1\u001b[0m\n\u001b[0;32m----> 1\u001b[0m \u001b[38;5;28;01mfrom\u001b[39;00m \u001b[38;5;21;01mff_energy\u001b[39;00m\u001b[38;5;21;01m.\u001b[39;00m\u001b[38;5;21;01mpydcm\u001b[39;00m \u001b[38;5;28;01mimport\u001b[39;00m mdcm\n",
      "\u001b[0;31mImportError\u001b[0m: libgfortran.so.3: cannot open shared object file: No such file or directory"
     ]
    }
   ],
   "source": [
    "from ff_energy.pydcm import mdcm"
   ]
  },
  {
   "cell_type": "code",
   "execution_count": null,
   "id": "2cbf303a-fae3-4598-98d8-39e085f93b5c",
   "metadata": {},
   "outputs": [],
   "source": []
  }
 ],
 "metadata": {
  "kernelspec": {
   "display_name": "pycharmm",
   "language": "python",
   "name": "pycharmm"
  },
  "language_info": {
   "codemirror_mode": {
    "name": "ipython",
    "version": 3
   },
   "file_extension": ".py",
   "mimetype": "text/x-python",
   "name": "python",
   "nbconvert_exporter": "python",
   "pygments_lexer": "ipython3",
   "version": "3.8.16"
  }
 },
 "nbformat": 4,
 "nbformat_minor": 5
}
