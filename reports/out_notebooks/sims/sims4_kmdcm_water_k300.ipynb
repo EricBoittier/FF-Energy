{
 "cells": [
  {
   "cell_type": "markdown",
   "id": "e8aa9be7-ec7e-49ed-8cfa-2814ee4c1e2a",
   "metadata": {
    "papermill": {
     "duration": 0.004288,
     "end_time": "2023-05-16T12:46:21.977230",
     "exception": false,
     "start_time": "2023-05-16T12:46:21.972942",
     "status": "completed"
    },
    "tags": []
   },
   "source": [
    "<!-- # Simulation Report -->"
   ]
  },
  {
   "cell_type": "code",
   "execution_count": 1,
   "id": "3f1c0ca5-6e6e-43f3-beac-d6aba00c4360",
   "metadata": {
    "papermill": {
     "duration": 1.391548,
     "end_time": "2023-05-16T12:46:23.377043",
     "exception": false,
     "start_time": "2023-05-16T12:46:21.985495",
     "status": "completed"
    },
    "tags": []
   },
   "outputs": [],
   "source": [
    "%load_ext autoreload\n",
    "%autoreload 2\n",
    "\n",
    "from ff_energy.simulations import charmm, plots\n",
    "import matplotlib.pyplot as plt\n",
    "from IPython.display import display, Markdown, Latex\n",
    "\n",
    "from ase import Atoms\n",
    "from ase.geometry import find_mic\n",
    "import ase.io\n",
    "from typing import List\n",
    "import MDAnalysis.analysis.msd as msd\n",
    "import matplotlib.pyplot as plt\n",
    "from scipy.stats import linregress\n",
    "from ase import Atoms\n",
    "import numpy as np\n",
    "from ase.io import write\n",
    "from PIL import Image\n",
    "from ase.visualize.plot import plot_atoms as ase_plot_atoms\n",
    "import pandas as pd\n",
    "from ff_energy.simulations.plots import plot_rdf_exp, plot_rdf_from_file\n",
    "\n",
    "plt.style.use(['science','ieee',])\n",
    "\n",
    "def get_atoms(u):\n",
    "    atoms = u.select_atoms(\"all\")\n",
    "    ATOMS = []\n",
    "    for _ in u.trajectory:\n",
    "        ATOMS.append(get_ase_atoms(u))\n",
    "    return ATOMS\n",
    "        \n",
    "def unwrap(frames: List[Atoms], initial_reference: Atoms=None) -> List[Atoms]:\n",
    "    \"\"\"Modifies ``frames`` in-place.\"\"\"\n",
    "    if initial_reference is not None:\n",
    "        ref_frame = initial_reference\n",
    "    else:\n",
    "        ref_frame = frames[0]\n",
    "        frames = frames[1:]\n",
    "\n",
    "    for frame in frames:\n",
    "        ref_cart_coords = ref_frame.positions\n",
    "        cart_coords = frame.positions\n",
    "        cart_diff, _ = find_mic(cart_coords-ref_cart_coords, cell=frame.cell)\n",
    "        new_cart_coords = ref_cart_coords + cart_diff\n",
    "        frame.positions[:] = new_cart_coords\n",
    "        ref_frame = frame\n",
    "\n",
    "def get_ase_atoms(u):\n",
    "    atoms = u.select_atoms(\"all\")\n",
    "    ase_atoms = Atoms(atoms.masses, atoms.positions, cell = u.dimensions)\n",
    "    Z = np.tile(np.array([8, 1, 1]), 2000)\n",
    "    ase_atoms.set_atomic_numbers(Z)\n",
    "    ase_atoms.set_cell(u.dimensions)\n",
    "    mid = ase_atoms.get_cell()/2\n",
    "    ase_atoms.translate(mid.diagonal())\n",
    "    return ase_atoms\n",
    "\n",
    "\n",
    "from pint import UnitRegistry\n",
    "ureg = UnitRegistry()\n",
    "    \n",
    "def get_density(volume, nmol=2000):\n",
    "    ans = nmol*2.988*10**(-23)/volume * ureg(\"g/angstrom**3\")\n",
    "    return ans.to(\"kg/m**3\")\n",
    "\n",
    "\n",
    "\n",
    "class DiffusionCoefficient:\n",
    "\n",
    "    def __init__(self, traj, timestep, atom_indices=None, molecule=False):\n",
    "        \"\"\"\n",
    "\n",
    "        This class calculates the Diffusion Coefficient for the given Trajectory using the Einstein Equation:\n",
    "\n",
    "        ..math:: \\\\left \\\\langle  \\\\left | r(t) - r(0) \\\\right | ^{2} \\\\right \\\\rangle  = 2nDt\n",
    "\n",
    "        where r(t) is the position of atom at time t, n is the degrees of freedom and D is the Diffusion Coefficient\n",
    "\n",
    "        Solved herein by fitting with :math:`y = mx + c`, i.e. :math:`\\\\frac{1}{2n} \\\\left \\\\langle  \\\\left | r(t) - r(0) \\\\right | ^{2} \\\\right \\\\rangle  = Dt`, with m = D and c = 0\n",
    "\n",
    "        wiki : https://en.wikibooks.org/wiki/Molecular_Simulation/Diffusion_Coefficients\n",
    "\n",
    "        Parameters:\n",
    "            traj (Trajectory):\n",
    "                Trajectory of atoms objects (images)\n",
    "            timestep (Float):\n",
    "                Timestep between *each image in the trajectory*, in ASE timestep units\n",
    "                (For an MD simulation with timestep of N, and images written every M iterations, our timestep here is N * M)\n",
    "            atom_indices (List of Int):\n",
    "                The indices of atoms whose Diffusion Coefficient is to be calculated explicitly\n",
    "            molecule (Boolean)\n",
    "                Indicate if we are studying a molecule instead of atoms, therefore use centre of mass in calculations\n",
    "\n",
    "        \"\"\"\n",
    "\n",
    "        self.traj = traj\n",
    "        self.timestep = timestep\n",
    "\n",
    "        # Condition used if user wants to calculate diffusion coefficients for\n",
    "        # specific atoms or all atoms\n",
    "        self.atom_indices = atom_indices\n",
    "        if self.atom_indices is None:\n",
    "            self.atom_indices = [i for i in range(len(traj[0]))]\n",
    "\n",
    "        # Condition if we are working with the mobility of a molecule, need to\n",
    "        # manage arrays slightly differently\n",
    "        self.is_molecule = molecule\n",
    "        if self.is_molecule:\n",
    "            self.types_of_atoms = [\"molecule\"]\n",
    "            self.no_of_atoms = [1]\n",
    "        else:\n",
    "            self.types_of_atoms = sorted(\n",
    "                set(traj[0].symbols[self.atom_indices]))\n",
    "            self.no_of_atoms = [traj[0].get_chemical_symbols().count(\n",
    "                symbol) for symbol in self.types_of_atoms]\n",
    "\n",
    "        # Dummy initialisation for important results data object\n",
    "        self._slopes = []\n",
    "\n",
    "    @property\n",
    "    def no_of_types_of_atoms(self):\n",
    "        \"\"\"\n",
    "\n",
    "        Dynamically returns the number of different atoms in the system\n",
    "\n",
    "        \"\"\"\n",
    "        return len(self.types_of_atoms)\n",
    "\n",
    "    @property\n",
    "    def slopes(self):\n",
    "        \"\"\"\n",
    "\n",
    "        Method to return slopes fitted to datapoints. If undefined, calculate slopes\n",
    "\n",
    "        \"\"\"\n",
    "        if len(self._slopes) == 0:\n",
    "            self.calculate()\n",
    "        return self._slopes\n",
    "\n",
    "    @slopes.setter\n",
    "    def slopes(self, values):\n",
    "        \"\"\"\n",
    "\n",
    "        Method to set slopes as fitted to datapoints\n",
    "\n",
    "        \"\"\"\n",
    "        self._slopes = values\n",
    "\n",
    "    def _initialise_arrays(self, ignore_n_images, number_of_segments):\n",
    "        \"\"\"\n",
    "\n",
    "        Private function to initialise data storage objects. This includes objects to store the total timesteps\n",
    "        sampled, the average diffusivity for species in any given segment, and objects to store gradient and intercept from fitting.\n",
    "\n",
    "        Parameters:\n",
    "            ignore_n_images (Int):\n",
    "                Number of images you want to ignore from the start of the trajectory, e.g. during equilibration\n",
    "            number_of_segments (Int):\n",
    "                Divides the given trajectory in to segments to allow statistical analysis\n",
    "\n",
    "        \"\"\"\n",
    "\n",
    "        total_images = len(self.traj) - ignore_n_images\n",
    "        self.no_of_segments = number_of_segments\n",
    "        self.len_segments = total_images // self.no_of_segments\n",
    "\n",
    "        # These are the data objects we need when plotting information. First\n",
    "        # the x-axis, timesteps\n",
    "        self.timesteps = np.linspace(\n",
    "            0, total_images*self.timestep, total_images+1)\n",
    "        # This holds all the data points for the diffusion coefficients,\n",
    "        # averaged over atoms\n",
    "        self.xyz_segment_ensemble_average = np.zeros(\n",
    "            (self.no_of_segments, self.no_of_types_of_atoms, 3, self.len_segments))\n",
    "        # This holds all the information on linear fits, from which we get the\n",
    "        # diffusion coefficients\n",
    "        self.slopes = np.zeros(\n",
    "            (self.no_of_types_of_atoms, self.no_of_segments, 3))\n",
    "        self.intercepts = np.zeros(\n",
    "            (self.no_of_types_of_atoms, self.no_of_segments, 3))\n",
    "\n",
    "        self.cont_xyz_segment_ensemble_average = 0\n",
    "\n",
    "    def calculate(self, ignore_n_images=0, number_of_segments=1):\n",
    "        \"\"\"\n",
    "\n",
    "        Calculate the diffusion coefficients, using the previously supplied data. The user can break the data into segments and\n",
    "        take the average over these trajectories, therefore allowing statistical analysis and derivation of standard deviations.\n",
    "        Option is also provided to ignore initial images if data is perhaps unequilibrated initially.\n",
    "\n",
    "        Parameters:\n",
    "            ignore_n_images (Int):\n",
    "                Number of images you want to ignore from the start of the trajectory, e.g. during equilibration\n",
    "            number_of_segments (Int):\n",
    "                Divides the given trajectory in to segments to allow statistical analysis\n",
    "\n",
    "        \"\"\"\n",
    "\n",
    "        # Setup all the arrays we need to store information\n",
    "        self._initialise_arrays(ignore_n_images, number_of_segments)\n",
    "\n",
    "        for segment_no in range(self.no_of_segments):\n",
    "            start = segment_no*self.len_segments\n",
    "            end = start + self.len_segments\n",
    "            seg = self.traj[ignore_n_images+start:ignore_n_images+end]\n",
    "\n",
    "            # If we are considering a molecular system, work out the COM for the\n",
    "            # starting structure\n",
    "            if self.is_molecule:\n",
    "                com_orig = np.zeros(3)\n",
    "                for atom_no in self.atom_indices:\n",
    "                    com_orig += seg[0].positions[atom_no] / \\\n",
    "                        len(self.atom_indices)\n",
    "\n",
    "            # For each image, calculate displacement.\n",
    "            # I spent some time deciding if this should run from 0 or 1, as the displacement will be zero for\n",
    "            # t = 0, but this is a data point that needs fitting too and so\n",
    "            # should be included\n",
    "            for image_no in range(0, len(seg)):\n",
    "                # This object collects the xyz displacements for all atom\n",
    "                # species in the image\n",
    "                xyz_disp = np.zeros((self.no_of_types_of_atoms, 3))\n",
    "\n",
    "                # Calculating for each atom individually, grouping by species\n",
    "                # type (e.g. solid state)\n",
    "                if not self.is_molecule:\n",
    "                    # For each atom, work out displacement from start coordinate\n",
    "                    # and collect information with like atoms\n",
    "                    for atom_no in self.atom_indices:\n",
    "                        sym_index = self.types_of_atoms.index(\n",
    "                            seg[image_no].symbols[atom_no])\n",
    "                        xyz_disp[sym_index] += np.square(\n",
    "                            seg[image_no].positions[atom_no] - seg[0].positions[atom_no])\n",
    "\n",
    "                # Calculating for group of atoms (molecule) and work out squared\n",
    "                # displacement\n",
    "                else:\n",
    "                    com_disp = np.zeros(3)\n",
    "                    for atom_no in self.atom_indices:\n",
    "                        com_disp += seg[image_no].positions[atom_no] / \\\n",
    "                            len(self.atom_indices)\n",
    "                    xyz_disp[0] += np.square(com_disp - com_orig)\n",
    "\n",
    "                # For each atom species or molecule, use xyz_disp to calculate\n",
    "                # the average data\n",
    "                for sym_index in range(self.no_of_types_of_atoms):\n",
    "                    # Normalise by degrees of freedom and average overall atoms\n",
    "                    # for each axes over entire segment\n",
    "                    denominator = (2*self.no_of_atoms[sym_index])\n",
    "                    for xyz in range(3):\n",
    "                        self.xyz_segment_ensemble_average[segment_no][sym_index][xyz][image_no] = (\n",
    "                            xyz_disp[sym_index][xyz]/denominator)\n",
    "\n",
    "            # We've collected all the data for this entire segment, so now to\n",
    "            # fit the data.\n",
    "            for sym_index in range(self.no_of_types_of_atoms):\n",
    "                self.slopes[sym_index][segment_no], self.intercepts[sym_index][segment_no] = self._fit_data(self.timesteps[start:end],\n",
    "                                                                                                            self.xyz_segment_ensemble_average[segment_no][sym_index])\n",
    "\n",
    "    def _fit_data(self, x, y):\n",
    "        \"\"\"\n",
    "        Private function that returns slope and intercept for linear fit to mean square diffusion data\n",
    "\n",
    "\n",
    "        Parameters:\n",
    "            x (Array of floats):\n",
    "                Linear list of timesteps in the calculation\n",
    "            y (Array of floats):\n",
    "                Mean square displacement as a function of time.\n",
    "\n",
    "        \"\"\"\n",
    "        # Simpler implementation but disabled as fails Conda tests.\n",
    "        # from scipy.stats import linregress\n",
    "        # slope, intercept, r_value, p_value, std_err = linregress(x,y)\n",
    "\n",
    "        # Initialise objects\n",
    "        slopes = np.zeros(3)\n",
    "        intercepts = np.zeros(3)\n",
    "\n",
    "        # Convert into suitable format for lstsq\n",
    "        x_edited = np.vstack([np.array(x), np.ones(len(x))]).T\n",
    "        # Calculate slopes for x, y and z-axes\n",
    "        for xyz in range(3):\n",
    "            slopes[xyz], intercepts[xyz] = np.linalg.lstsq(\n",
    "                x_edited, y[xyz], rcond=-1)[0]\n",
    "\n",
    "        return slopes, intercepts\n",
    "\n",
    "    def get_diffusion_coefficients(self):\n",
    "        \"\"\"\n",
    "\n",
    "        Returns diffusion coefficients for atoms (in alphabetical order) along with standard deviation.\n",
    "\n",
    "        All data is currently passed out in units of Å^2/<ASE time units>\n",
    "        To convert into Å^2/fs => multiply by ase.units.fs\n",
    "        To convert from Å^2/fs to cm^2/s => multiply by (10^-8)^2 / 10^-15 = 10^-1\n",
    "\n",
    "        \"\"\"\n",
    "\n",
    "        slopes = [np.mean(self.slopes[sym_index])\n",
    "                  for sym_index in range(self.no_of_types_of_atoms)]\n",
    "        std = [np.std(self.slopes[sym_index])\n",
    "               for sym_index in range(self.no_of_types_of_atoms)]\n",
    "\n",
    "        return slopes, std\n",
    "\n",
    "    def plot(self, ax=None, show=False, true_D=None):\n",
    "        \"\"\"\n",
    "\n",
    "        Auto-plot of Diffusion Coefficient data. Provides basic framework for visualising analysis.\n",
    "\n",
    "         Parameters:\n",
    "            ax (Matplotlib.axes.Axes)\n",
    "                Axes object on to which plot can be created\n",
    "            show (Boolean)\n",
    "                Whether or not to show the created plot. Default: False\n",
    "\n",
    "        \"\"\"\n",
    "\n",
    "        # Necessary if user hasn't supplied an axis.\n",
    "        import matplotlib.pyplot as plt\n",
    "\n",
    "        # Convert from ASE time units to fs (aesthetic)\n",
    "        from ase.units import fs as fs_conversion\n",
    "\n",
    "        if ax is None:\n",
    "            ax = plt.gca()\n",
    "\n",
    "        # Define some aesthetic variables\n",
    "        color_list = plt.cm.Set3(np.linspace(0, 1, self.no_of_types_of_atoms))\n",
    "        xyz_labels = ['X', 'Y', 'Z']\n",
    "        xyz_markers = ['o', 's', '^']\n",
    "\n",
    "        # Create an x-axis that is in a more intuitive format for the view\n",
    "        graph_timesteps = self.timesteps / fs_conversion\n",
    "        # graph_timesteps = graph_timesteps * 1000\n",
    "\n",
    "        for segment_no in range(self.no_of_segments):\n",
    "            start = segment_no*self.len_segments\n",
    "            end = start + self.len_segments\n",
    "            label = None\n",
    "\n",
    "            for sym_index in range(self.no_of_types_of_atoms):\n",
    "                for xyz in range(3):\n",
    "                    if segment_no == 0:\n",
    "                        label = 'Species: %s (%s)' % (\n",
    "                            self.types_of_atoms[sym_index], xyz_labels[xyz])\n",
    "                    # Add scatter graph  for the mean square displacement data\n",
    "                    # in this segment\n",
    "                    ax.scatter(graph_timesteps[start:end]/10000, self.xyz_segment_ensemble_average[segment_no][sym_index][xyz],\n",
    "                               color=\"gray\", \n",
    "                               # marker=xyz_markers[xyz], \n",
    "                               label=label, \n",
    "                               alpha=0.01,\n",
    "                               linewidth=0, \n",
    "                               edgecolor='grey')\n",
    "\n",
    "                # Print the line of best fit for segment\n",
    "                line = np.mean(self.slopes[sym_index][segment_no])*fs_conversion * \\\n",
    "                    graph_timesteps[start:end] + \\\n",
    "                    np.mean(self.intercepts[sym_index][segment_no])\n",
    "                if segment_no == 0:\n",
    "                    label = 'Segment Mean : %s' % (\n",
    "                        self.types_of_atoms[sym_index])\n",
    "                ax.plot(graph_timesteps[start:end]/10000, line, color='C%d' % (\n",
    "                    sym_index), label=label, linestyle='--')\n",
    "\n",
    "            # Plot separator at end of segment\n",
    "            x_coord = graph_timesteps[end-1]/10000\n",
    "            print(x_coord)\n",
    "            ax.plot([x_coord,\n",
    "                     x_coord],\n",
    "                    [-0.001,\n",
    "                     1.05*np.amax(self.xyz_segment_ensemble_average)],\n",
    "                    color='grey',\n",
    "                    linestyle=\":\")\n",
    "            \n",
    "        if true_D is not None:\n",
    "            ax.plot([0,\n",
    "                     graph_timesteps[end]/10000],\n",
    "                    [0,\n",
    "                     true_D/np.mean(self.slopes[sym_index][segment_no]) \n",
    "                     * np.amax(self.xyz_segment_ensemble_average) + \n",
    "                     np.amax(self.xyz_segment_ensemble_average)],\n",
    "                    color='k',\n",
    "                    linestyle=\"--\")\n",
    "            \n",
    "\n",
    "        # Plot the overall mean (average of slopes) for each atom species\n",
    "        # This only makes sense if the data is all plotted on the same x-axis timeframe, which currently we are not - everything is plotted sequentially\n",
    "        # for sym_index in range(self.no_of_types_of_atoms):\n",
    "        #    line = np.mean(self.slopes[sym_index])*graph_timesteps+np.mean(self.intercepts[sym_index])\n",
    "        #    label ='Mean, Total : %s'%(self.types_of_atoms[sym_index])\n",
    "        #    ax.plot(graph_timesteps, line, color='C%d'%(sym_index), label=label, linestyle=\"-\")\n",
    "\n",
    "        # Aesthetic parts of the plot\n",
    "        ax.set_ylim(-0.001, 1.05*np.amax(self.xyz_segment_ensemble_average))\n",
    "        # ax.legend(loc='best')\n",
    "        ax.set_xlabel('Time (ps)')\n",
    "        # ax.set_xticks()\n",
    "        ax.set_ylabel(r'Mean Square Displacement ($\\AA^2$)')\n",
    "        return ax\n",
    "\n",
    "    def print_data(self, ax):\n",
    "        \"\"\"\n",
    "\n",
    "        Output of statistical analysis for Diffusion Coefficient data. Provides basic framework for understanding calculation.\n",
    "\n",
    "        \"\"\"\n",
    "\n",
    "        from ase.units import fs as fs_conversion\n",
    "\n",
    "        # Collect statistical data for diffusion coefficient over all segments\n",
    "        slopes, std = self.get_diffusion_coefficients()\n",
    "\n",
    "        # Useful notes for any consideration of conversion.\n",
    "        # Converting gradient from Å^2/fs to more common units of cm^2/s => multiplying by (10^-8)^2 / 10^-15 = 10^-1\n",
    "        # Converting intercept from Å^2 to more common units of cm^2 => multiply by (10^-8)^2 = 10^-16\n",
    "        #\n",
    "        # Note currently in ASE internal time units\n",
    "        # Converting into fs => divide by 1/(fs_conversion) => multiply by\n",
    "        # (fs_conversion)\n",
    "\n",
    "        # Print data for each atom, in each segment.\n",
    "        for sym_index in range(self.no_of_types_of_atoms):\n",
    "            print('---')\n",
    "            print(r'Species: %4s' % self.types_of_atoms[sym_index])\n",
    "            print('---')\n",
    "            for segment_no in range(self.no_of_segments):\n",
    "                print(r'Segment   %3d:         Diffusion Coefficient = %.10f Å^2/fs; Intercept = %.10f Å^2;' %\n",
    "                      (segment_no, np.mean(self.slopes[sym_index][segment_no])*fs_conversion, np.mean(self.intercepts[sym_index][segment_no])))\n",
    "\n",
    "        # Print average overall data.\n",
    "        print('---')\n",
    "        for sym_index in range(self.no_of_types_of_atoms):\n",
    "            print('Mean Diffusion Coefficient (X, Y and Z) : %s = %.10f Å^2/fs; Std. Dev. = %.10f Å^2/fs' %\n",
    "                  (self.types_of_atoms[sym_index], slopes[sym_index]*fs_conversion, std[sym_index]*fs_conversion))\n",
    "        print('---')\n",
    "\n",
    "from matplotlib import rcParams\n",
    "rcParams['font.family'] = 'sans-serif'\n",
    "rcParams['font.sans-serif'] = ['Arial']"
   ]
  },
  {
   "cell_type": "markdown",
   "id": "58f06aa1-7cc9-4e3e-9d60-4a651be1c950",
   "metadata": {
    "papermill": {
     "duration": 0.003618,
     "end_time": "2023-05-16T12:46:23.385373",
     "exception": false,
     "start_time": "2023-05-16T12:46:23.381755",
     "status": "completed"
    },
    "tags": [
     "parameters"
    ]
   },
   "source": [
    "<!-- ## Info (parameters) -->"
   ]
  },
  {
   "cell_type": "code",
   "execution_count": 2,
   "id": "4f0bd638",
   "metadata": {
    "papermill": {
     "duration": 0.017472,
     "end_time": "2023-05-16T12:46:23.406378",
     "exception": false,
     "start_time": "2023-05-16T12:46:23.388906",
     "status": "completed"
    },
    "tags": [
     "injected-parameters"
    ]
   },
   "outputs": [],
   "source": [
    "# Parameters\n",
    "jobpath = \"/home/boittier/pcbach/sims4/kmdcm/water/k300/dynamics.log\"\n",
    "NSAVC = 1000\n",
    "dt = 0.0002\n"
   ]
  },
  {
   "cell_type": "code",
   "execution_count": 3,
   "id": "127b0419-fa68-47ec-a5ed-ad64da8e6d51",
   "metadata": {
    "papermill": {
     "duration": 0.01731,
     "end_time": "2023-05-16T12:46:23.428085",
     "exception": false,
     "start_time": "2023-05-16T12:46:23.410775",
     "status": "completed"
    },
    "tags": [
     "parameters"
    ]
   },
   "outputs": [],
   "source": [
    "# #  example parameters\n",
    "# jobpath = \"/home/boittier/pcbach/sims3/mdcm/water/k350/dynamics.log\"\n",
    "# NSAVC = 1000\n",
    "# dt = 0.0002"
   ]
  },
  {
   "cell_type": "code",
   "execution_count": 4,
   "id": "241ab69a-c4b0-44ae-b014-ea467fccb853",
   "metadata": {
    "papermill": {
     "duration": 0.019084,
     "end_time": "2023-05-16T12:46:23.450943",
     "exception": false,
     "start_time": "2023-05-16T12:46:23.431859",
     "status": "completed"
    },
    "tags": []
   },
   "outputs": [
    {
     "data": {
      "text/markdown": [
       "# Simulation Report: sims4_kmdcm_water_k300"
      ],
      "text/plain": [
       "<IPython.core.display.Markdown object>"
      ]
     },
     "metadata": {},
     "output_type": "display_data"
    }
   ],
   "source": [
    "logkey = \"_\".join(jobpath[jobpath.find(\"sim\"):].split(\"/\")[:-1])\n",
    "\n",
    "display(Markdown(f'# Simulation Report: {logkey}'))"
   ]
  },
  {
   "cell_type": "code",
   "execution_count": null,
   "id": "dd55d154-6161-4ae1-bbae-7885b0d33ec8",
   "metadata": {
    "papermill": {
     "duration": 0.003681,
     "end_time": "2023-05-16T12:46:23.458349",
     "exception": false,
     "start_time": "2023-05-16T12:46:23.454668",
     "status": "completed"
    },
    "tags": []
   },
   "outputs": [],
   "source": []
  },
  {
   "cell_type": "code",
   "execution_count": 5,
   "id": "1258cc1d-8cf5-4eda-a202-627a83292e38",
   "metadata": {
    "papermill": {
     "duration": 3.618788,
     "end_time": "2023-05-16T12:46:27.080822",
     "exception": false,
     "start_time": "2023-05-16T12:46:23.462034",
     "status": "completed"
    },
    "tags": []
   },
   "outputs": [
    {
     "name": "stdout",
     "output_type": "stream",
     "text": [
      "water.2000.heat.dcd\n",
      "water.2000.equi.dcd\n"
     ]
    },
    {
     "data": {
      "text/html": [
       "<div>\n",
       "<style scoped>\n",
       "    .dataframe tbody tr th:only-of-type {\n",
       "        vertical-align: middle;\n",
       "    }\n",
       "\n",
       "    .dataframe tbody tr th {\n",
       "        vertical-align: top;\n",
       "    }\n",
       "\n",
       "    .dataframe thead th {\n",
       "        text-align: right;\n",
       "    }\n",
       "</style>\n",
       "<table border=\"1\" class=\"dataframe\">\n",
       "  <thead>\n",
       "    <tr style=\"text-align: right;\">\n",
       "      <th></th>\n",
       "      <th>vdw</th>\n",
       "      <th>elec</th>\n",
       "      <th>user</th>\n",
       "      <th>time</th>\n",
       "      <th>temp</th>\n",
       "      <th>tot</th>\n",
       "      <th>energy</th>\n",
       "      <th>volume</th>\n",
       "      <th>pressi</th>\n",
       "      <th>presse</th>\n",
       "    </tr>\n",
       "  </thead>\n",
       "  <tbody>\n",
       "    <tr>\n",
       "      <th>count</th>\n",
       "      <td>5975.000000</td>\n",
       "      <td>5975.000000</td>\n",
       "      <td>5975.0</td>\n",
       "      <td>5975.000000</td>\n",
       "      <td>5975.000000</td>\n",
       "      <td>5975.000000</td>\n",
       "      <td>5975.000000</td>\n",
       "      <td>5975.000000</td>\n",
       "      <td>5975.000000</td>\n",
       "      <td>5975.000000</td>\n",
       "    </tr>\n",
       "    <tr>\n",
       "      <th>mean</th>\n",
       "      <td>3227.916722</td>\n",
       "      <td>-21141.663986</td>\n",
       "      <td>0.0</td>\n",
       "      <td>333.368201</td>\n",
       "      <td>298.658104</td>\n",
       "      <td>-15627.222142</td>\n",
       "      <td>20967.748170</td>\n",
       "      <td>59124.908117</td>\n",
       "      <td>-518.730027</td>\n",
       "      <td>-1698.090385</td>\n",
       "    </tr>\n",
       "    <tr>\n",
       "      <th>std</th>\n",
       "      <td>127.527439</td>\n",
       "      <td>365.547757</td>\n",
       "      <td>0.0</td>\n",
       "      <td>244.054344</td>\n",
       "      <td>20.816586</td>\n",
       "      <td>785.985522</td>\n",
       "      <td>514.128837</td>\n",
       "      <td>7009.657527</td>\n",
       "      <td>1179.925546</td>\n",
       "      <td>1285.332612</td>\n",
       "    </tr>\n",
       "    <tr>\n",
       "      <th>min</th>\n",
       "      <td>2847.712590</td>\n",
       "      <td>-25088.512700</td>\n",
       "      <td>0.0</td>\n",
       "      <td>0.000000</td>\n",
       "      <td>60.084860</td>\n",
       "      <td>-22717.386630</td>\n",
       "      <td>19989.419620</td>\n",
       "      <td>53199.000000</td>\n",
       "      <td>-5405.149150</td>\n",
       "      <td>-5876.135610</td>\n",
       "    </tr>\n",
       "    <tr>\n",
       "      <th>25%</th>\n",
       "      <td>3142.875115</td>\n",
       "      <td>-21248.803570</td>\n",
       "      <td>0.0</td>\n",
       "      <td>74.700000</td>\n",
       "      <td>298.500165</td>\n",
       "      <td>-15918.113365</td>\n",
       "      <td>20349.742290</td>\n",
       "      <td>53925.500000</td>\n",
       "      <td>-1264.981625</td>\n",
       "      <td>-2568.861530</td>\n",
       "    </tr>\n",
       "    <tr>\n",
       "      <th>50%</th>\n",
       "      <td>3230.426080</td>\n",
       "      <td>-21107.529300</td>\n",
       "      <td>0.0</td>\n",
       "      <td>351.600000</td>\n",
       "      <td>301.244940</td>\n",
       "      <td>-15812.038900</td>\n",
       "      <td>21183.035940</td>\n",
       "      <td>54230.000000</td>\n",
       "      <td>-500.571370</td>\n",
       "      <td>-1761.235790</td>\n",
       "    </tr>\n",
       "    <tr>\n",
       "      <th>75%</th>\n",
       "      <td>3305.092525</td>\n",
       "      <td>-20952.425075</td>\n",
       "      <td>0.0</td>\n",
       "      <td>550.800000</td>\n",
       "      <td>304.311890</td>\n",
       "      <td>-14835.754515</td>\n",
       "      <td>21277.553140</td>\n",
       "      <td>68921.000000</td>\n",
       "      <td>256.344035</td>\n",
       "      <td>-862.625630</td>\n",
       "    </tr>\n",
       "    <tr>\n",
       "      <th>max</th>\n",
       "      <td>4072.983730</td>\n",
       "      <td>-20452.667140</td>\n",
       "      <td>0.0</td>\n",
       "      <td>750.000000</td>\n",
       "      <td>316.422830</td>\n",
       "      <td>-14811.157550</td>\n",
       "      <td>24925.828760</td>\n",
       "      <td>68921.000000</td>\n",
       "      <td>3228.630970</td>\n",
       "      <td>3939.741250</td>\n",
       "    </tr>\n",
       "  </tbody>\n",
       "</table>\n",
       "</div>"
      ],
      "text/plain": [
       "               vdw          elec    user         time         temp  \\\n",
       "count  5975.000000   5975.000000  5975.0  5975.000000  5975.000000   \n",
       "mean   3227.916722 -21141.663986     0.0   333.368201   298.658104   \n",
       "std     127.527439    365.547757     0.0   244.054344    20.816586   \n",
       "min    2847.712590 -25088.512700     0.0     0.000000    60.084860   \n",
       "25%    3142.875115 -21248.803570     0.0    74.700000   298.500165   \n",
       "50%    3230.426080 -21107.529300     0.0   351.600000   301.244940   \n",
       "75%    3305.092525 -20952.425075     0.0   550.800000   304.311890   \n",
       "max    4072.983730 -20452.667140     0.0   750.000000   316.422830   \n",
       "\n",
       "                tot        energy        volume       pressi       presse  \n",
       "count   5975.000000   5975.000000   5975.000000  5975.000000  5975.000000  \n",
       "mean  -15627.222142  20967.748170  59124.908117  -518.730027 -1698.090385  \n",
       "std      785.985522    514.128837   7009.657527  1179.925546  1285.332612  \n",
       "min   -22717.386630  19989.419620  53199.000000 -5405.149150 -5876.135610  \n",
       "25%   -15918.113365  20349.742290  53925.500000 -1264.981625 -2568.861530  \n",
       "50%   -15812.038900  21183.035940  54230.000000  -500.571370 -1761.235790  \n",
       "75%   -14835.754515  21277.553140  68921.000000   256.344035  -862.625630  \n",
       "max   -14811.157550  24925.828760  68921.000000  3228.630970  3939.741250  "
      ]
     },
     "execution_count": 5,
     "metadata": {},
     "output_type": "execute_result"
    }
   ],
   "source": [
    "cl = charmm.read_charmm_log(jobpath)\n",
    "cl.describe()"
   ]
  },
  {
   "cell_type": "code",
   "execution_count": 6,
   "id": "15e0c27d-e2f6-446f-8765-83c120dcacaf",
   "metadata": {
    "papermill": {
     "duration": 0.054819,
     "end_time": "2023-05-16T12:46:27.139946",
     "exception": false,
     "start_time": "2023-05-16T12:46:27.085127",
     "status": "completed"
    },
    "tags": []
   },
   "outputs": [],
   "source": [
    "cl.to_csv(f\"{logkey}_sim.csv\", index=False)"
   ]
  },
  {
   "cell_type": "code",
   "execution_count": 7,
   "id": "58ee72b1-f8da-4221-a6a5-d04bb0a4f38d",
   "metadata": {
    "papermill": {
     "duration": 0.016152,
     "end_time": "2023-05-16T12:46:27.160116",
     "exception": false,
     "start_time": "2023-05-16T12:46:27.143964",
     "status": "completed"
    },
    "tags": []
   },
   "outputs": [],
   "source": [
    "# cl.groupby(\"dyna\")"
   ]
  },
  {
   "cell_type": "code",
   "execution_count": 8,
   "id": "178933a0-20a3-40f9-805f-3444acd47992",
   "metadata": {
    "papermill": {
     "duration": 0.016666,
     "end_time": "2023-05-16T12:46:27.180711",
     "exception": false,
     "start_time": "2023-05-16T12:46:27.164045",
     "status": "completed"
    },
    "tags": []
   },
   "outputs": [],
   "source": [
    "NSIM = len(cl.groupby(\"dyna\"))"
   ]
  },
  {
   "cell_type": "markdown",
   "id": "45bcbc96-4548-4063-829a-7927eb0fc447",
   "metadata": {
    "papermill": {
     "duration": 0.003843,
     "end_time": "2023-05-16T12:46:27.188473",
     "exception": false,
     "start_time": "2023-05-16T12:46:27.184630",
     "status": "completed"
    },
    "tags": []
   },
   "source": [
    "## Simulation runs"
   ]
  },
  {
   "cell_type": "code",
   "execution_count": 9,
   "id": "038b0b39-7df3-4afd-9e89-483184bc8201",
   "metadata": {
    "papermill": {
     "duration": 0.081366,
     "end_time": "2023-05-16T12:46:27.273848",
     "exception": false,
     "start_time": "2023-05-16T12:46:27.192482",
     "status": "completed"
    },
    "tags": []
   },
   "outputs": [
    {
     "data": {
      "text/html": [
       "<div>\n",
       "<style scoped>\n",
       "    .dataframe tbody tr th:only-of-type {\n",
       "        vertical-align: middle;\n",
       "    }\n",
       "\n",
       "    .dataframe tbody tr th {\n",
       "        vertical-align: top;\n",
       "    }\n",
       "\n",
       "    .dataframe thead th {\n",
       "        text-align: right;\n",
       "    }\n",
       "</style>\n",
       "<table border=\"1\" class=\"dataframe\">\n",
       "  <thead>\n",
       "    <tr style=\"text-align: right;\">\n",
       "      <th></th>\n",
       "      <th>dyna</th>\n",
       "      <th>0: DYNA STRT VERL</th>\n",
       "      <th>1: DYNA RESTRT CPT</th>\n",
       "      <th>2: DYNA RESTRT CPT</th>\n",
       "      <th>3: DYNA RESTRT CPT</th>\n",
       "      <th>4: DYNA RESTRT CPT</th>\n",
       "    </tr>\n",
       "  </thead>\n",
       "  <tbody>\n",
       "    <tr>\n",
       "      <th rowspan=\"8\" valign=\"top\">vdw</th>\n",
       "      <th>count</th>\n",
       "      <td>2000.000000</td>\n",
       "      <td>600.000000</td>\n",
       "      <td>1500.000000</td>\n",
       "      <td>1500.000000</td>\n",
       "      <td>375.000000</td>\n",
       "    </tr>\n",
       "    <tr>\n",
       "      <th>mean</th>\n",
       "      <td>3140.434005</td>\n",
       "      <td>3270.584482</td>\n",
       "      <td>3275.127979</td>\n",
       "      <td>3268.436796</td>\n",
       "      <td>3275.297479</td>\n",
       "    </tr>\n",
       "    <tr>\n",
       "      <th>std</th>\n",
       "      <td>154.500232</td>\n",
       "      <td>87.167465</td>\n",
       "      <td>80.880466</td>\n",
       "      <td>80.323301</td>\n",
       "      <td>79.512940</td>\n",
       "    </tr>\n",
       "    <tr>\n",
       "      <th>min</th>\n",
       "      <td>2847.712590</td>\n",
       "      <td>3021.328570</td>\n",
       "      <td>3041.733480</td>\n",
       "      <td>3004.668090</td>\n",
       "      <td>3072.702230</td>\n",
       "    </tr>\n",
       "    <tr>\n",
       "      <th>25%</th>\n",
       "      <td>3055.277525</td>\n",
       "      <td>3210.056303</td>\n",
       "      <td>3221.903648</td>\n",
       "      <td>3212.680210</td>\n",
       "      <td>3225.047790</td>\n",
       "    </tr>\n",
       "    <tr>\n",
       "      <th>50%</th>\n",
       "      <td>3110.894610</td>\n",
       "      <td>3276.861755</td>\n",
       "      <td>3276.078860</td>\n",
       "      <td>3269.166200</td>\n",
       "      <td>3274.532620</td>\n",
       "    </tr>\n",
       "    <tr>\n",
       "      <th>75%</th>\n",
       "      <td>3174.571490</td>\n",
       "      <td>3326.829280</td>\n",
       "      <td>3328.175505</td>\n",
       "      <td>3321.185860</td>\n",
       "      <td>3328.127255</td>\n",
       "    </tr>\n",
       "    <tr>\n",
       "      <th>max</th>\n",
       "      <td>4072.983730</td>\n",
       "      <td>3526.213910</td>\n",
       "      <td>3522.994980</td>\n",
       "      <td>3558.630360</td>\n",
       "      <td>3487.215200</td>\n",
       "    </tr>\n",
       "    <tr>\n",
       "      <th rowspan=\"8\" valign=\"top\">elec</th>\n",
       "      <th>count</th>\n",
       "      <td>2000.000000</td>\n",
       "      <td>600.000000</td>\n",
       "      <td>1500.000000</td>\n",
       "      <td>1500.000000</td>\n",
       "      <td>375.000000</td>\n",
       "    </tr>\n",
       "    <tr>\n",
       "      <th>mean</th>\n",
       "      <td>-21056.954794</td>\n",
       "      <td>-21255.621815</td>\n",
       "      <td>-21197.799234</td>\n",
       "      <td>-21141.247620</td>\n",
       "      <td>-21188.238290</td>\n",
       "    </tr>\n",
       "    <tr>\n",
       "      <th>std</th>\n",
       "      <td>583.833536</td>\n",
       "      <td>171.412551</td>\n",
       "      <td>150.487390</td>\n",
       "      <td>141.474022</td>\n",
       "      <td>143.126581</td>\n",
       "    </tr>\n",
       "    <tr>\n",
       "      <th>min</th>\n",
       "      <td>-25088.512700</td>\n",
       "      <td>-21750.933890</td>\n",
       "      <td>-21599.049380</td>\n",
       "      <td>-21583.777890</td>\n",
       "      <td>-21531.032300</td>\n",
       "    </tr>\n",
       "    <tr>\n",
       "      <th>25%</th>\n",
       "      <td>-21023.543513</td>\n",
       "      <td>-21373.354953</td>\n",
       "      <td>-21297.441720</td>\n",
       "      <td>-21235.564347</td>\n",
       "      <td>-21274.530660</td>\n",
       "    </tr>\n",
       "    <tr>\n",
       "      <th>50%</th>\n",
       "      <td>-20919.050420</td>\n",
       "      <td>-21269.775885</td>\n",
       "      <td>-21194.951440</td>\n",
       "      <td>-21137.718540</td>\n",
       "      <td>-21182.049110</td>\n",
       "    </tr>\n",
       "    <tr>\n",
       "      <th>75%</th>\n",
       "      <td>-20831.920502</td>\n",
       "      <td>-21138.675170</td>\n",
       "      <td>-21097.441820</td>\n",
       "      <td>-21048.606550</td>\n",
       "      <td>-21093.854485</td>\n",
       "    </tr>\n",
       "    <tr>\n",
       "      <th>max</th>\n",
       "      <td>-20452.667140</td>\n",
       "      <td>-20752.981450</td>\n",
       "      <td>-20767.413530</td>\n",
       "      <td>-20663.321040</td>\n",
       "      <td>-20862.645500</td>\n",
       "    </tr>\n",
       "    <tr>\n",
       "      <th rowspan=\"8\" valign=\"top\">volume</th>\n",
       "      <th>count</th>\n",
       "      <td>2000.000000</td>\n",
       "      <td>600.000000</td>\n",
       "      <td>1500.000000</td>\n",
       "      <td>1500.000000</td>\n",
       "      <td>375.000000</td>\n",
       "    </tr>\n",
       "    <tr>\n",
       "      <th>mean</th>\n",
       "      <td>68921.000000</td>\n",
       "      <td>55305.291667</td>\n",
       "      <td>53972.676667</td>\n",
       "      <td>54018.761333</td>\n",
       "      <td>54023.984000</td>\n",
       "    </tr>\n",
       "    <tr>\n",
       "      <th>std</th>\n",
       "      <td>0.000000</td>\n",
       "      <td>2560.689035</td>\n",
       "      <td>285.364066</td>\n",
       "      <td>258.312477</td>\n",
       "      <td>227.343811</td>\n",
       "    </tr>\n",
       "    <tr>\n",
       "      <th>min</th>\n",
       "      <td>68921.000000</td>\n",
       "      <td>53199.000000</td>\n",
       "      <td>53202.000000</td>\n",
       "      <td>53252.000000</td>\n",
       "      <td>53405.000000</td>\n",
       "    </tr>\n",
       "    <tr>\n",
       "      <th>25%</th>\n",
       "      <td>68921.000000</td>\n",
       "      <td>53892.750000</td>\n",
       "      <td>53773.000000</td>\n",
       "      <td>53840.000000</td>\n",
       "      <td>53883.000000</td>\n",
       "    </tr>\n",
       "    <tr>\n",
       "      <th>50%</th>\n",
       "      <td>68921.000000</td>\n",
       "      <td>54354.000000</td>\n",
       "      <td>53962.000000</td>\n",
       "      <td>54026.500000</td>\n",
       "      <td>54034.000000</td>\n",
       "    </tr>\n",
       "    <tr>\n",
       "      <th>75%</th>\n",
       "      <td>68921.000000</td>\n",
       "      <td>55255.500000</td>\n",
       "      <td>54162.000000</td>\n",
       "      <td>54194.250000</td>\n",
       "      <td>54189.500000</td>\n",
       "    </tr>\n",
       "    <tr>\n",
       "      <th>max</th>\n",
       "      <td>68921.000000</td>\n",
       "      <td>68921.000000</td>\n",
       "      <td>54898.000000</td>\n",
       "      <td>54809.000000</td>\n",
       "      <td>54660.000000</td>\n",
       "    </tr>\n",
       "    <tr>\n",
       "      <th rowspan=\"8\" valign=\"top\">temp</th>\n",
       "      <th>count</th>\n",
       "      <td>2000.000000</td>\n",
       "      <td>600.000000</td>\n",
       "      <td>1500.000000</td>\n",
       "      <td>1500.000000</td>\n",
       "      <td>375.000000</td>\n",
       "    </tr>\n",
       "    <tr>\n",
       "      <th>mean</th>\n",
       "      <td>295.869980</td>\n",
       "      <td>300.258832</td>\n",
       "      <td>300.087604</td>\n",
       "      <td>299.988950</td>\n",
       "      <td>299.925545</td>\n",
       "    </tr>\n",
       "    <tr>\n",
       "      <th>std</th>\n",
       "      <td>35.546606</td>\n",
       "      <td>3.206042</td>\n",
       "      <td>3.095720</td>\n",
       "      <td>3.203743</td>\n",
       "      <td>3.076044</td>\n",
       "    </tr>\n",
       "    <tr>\n",
       "      <th>min</th>\n",
       "      <td>60.084860</td>\n",
       "      <td>290.322970</td>\n",
       "      <td>288.974950</td>\n",
       "      <td>288.337210</td>\n",
       "      <td>290.603700</td>\n",
       "    </tr>\n",
       "    <tr>\n",
       "      <th>25%</th>\n",
       "      <td>302.229920</td>\n",
       "      <td>298.013890</td>\n",
       "      <td>298.066942</td>\n",
       "      <td>297.947452</td>\n",
       "      <td>297.573460</td>\n",
       "    </tr>\n",
       "    <tr>\n",
       "      <th>50%</th>\n",
       "      <td>305.007335</td>\n",
       "      <td>300.318810</td>\n",
       "      <td>300.048545</td>\n",
       "      <td>300.058690</td>\n",
       "      <td>299.814670</td>\n",
       "    </tr>\n",
       "    <tr>\n",
       "      <th>75%</th>\n",
       "      <td>307.496782</td>\n",
       "      <td>302.239127</td>\n",
       "      <td>302.144925</td>\n",
       "      <td>302.125142</td>\n",
       "      <td>302.070440</td>\n",
       "    </tr>\n",
       "    <tr>\n",
       "      <th>max</th>\n",
       "      <td>316.422830</td>\n",
       "      <td>313.036740</td>\n",
       "      <td>310.161890</td>\n",
       "      <td>309.732870</td>\n",
       "      <td>308.950220</td>\n",
       "    </tr>\n",
       "  </tbody>\n",
       "</table>\n",
       "</div>"
      ],
      "text/plain": [
       "dyna          0: DYNA STRT VERL  1: DYNA RESTRT CPT  2: DYNA RESTRT CPT  \\\n",
       "vdw    count        2000.000000          600.000000         1500.000000   \n",
       "       mean         3140.434005         3270.584482         3275.127979   \n",
       "       std           154.500232           87.167465           80.880466   \n",
       "       min          2847.712590         3021.328570         3041.733480   \n",
       "       25%          3055.277525         3210.056303         3221.903648   \n",
       "       50%          3110.894610         3276.861755         3276.078860   \n",
       "       75%          3174.571490         3326.829280         3328.175505   \n",
       "       max          4072.983730         3526.213910         3522.994980   \n",
       "elec   count        2000.000000          600.000000         1500.000000   \n",
       "       mean       -21056.954794       -21255.621815       -21197.799234   \n",
       "       std           583.833536          171.412551          150.487390   \n",
       "       min        -25088.512700       -21750.933890       -21599.049380   \n",
       "       25%        -21023.543513       -21373.354953       -21297.441720   \n",
       "       50%        -20919.050420       -21269.775885       -21194.951440   \n",
       "       75%        -20831.920502       -21138.675170       -21097.441820   \n",
       "       max        -20452.667140       -20752.981450       -20767.413530   \n",
       "volume count        2000.000000          600.000000         1500.000000   \n",
       "       mean        68921.000000        55305.291667        53972.676667   \n",
       "       std             0.000000         2560.689035          285.364066   \n",
       "       min         68921.000000        53199.000000        53202.000000   \n",
       "       25%         68921.000000        53892.750000        53773.000000   \n",
       "       50%         68921.000000        54354.000000        53962.000000   \n",
       "       75%         68921.000000        55255.500000        54162.000000   \n",
       "       max         68921.000000        68921.000000        54898.000000   \n",
       "temp   count        2000.000000          600.000000         1500.000000   \n",
       "       mean          295.869980          300.258832          300.087604   \n",
       "       std            35.546606            3.206042            3.095720   \n",
       "       min            60.084860          290.322970          288.974950   \n",
       "       25%           302.229920          298.013890          298.066942   \n",
       "       50%           305.007335          300.318810          300.048545   \n",
       "       75%           307.496782          302.239127          302.144925   \n",
       "       max           316.422830          313.036740          310.161890   \n",
       "\n",
       "dyna          3: DYNA RESTRT CPT  4: DYNA RESTRT CPT  \n",
       "vdw    count         1500.000000          375.000000  \n",
       "       mean          3268.436796         3275.297479  \n",
       "       std             80.323301           79.512940  \n",
       "       min           3004.668090         3072.702230  \n",
       "       25%           3212.680210         3225.047790  \n",
       "       50%           3269.166200         3274.532620  \n",
       "       75%           3321.185860         3328.127255  \n",
       "       max           3558.630360         3487.215200  \n",
       "elec   count         1500.000000          375.000000  \n",
       "       mean        -21141.247620       -21188.238290  \n",
       "       std            141.474022          143.126581  \n",
       "       min         -21583.777890       -21531.032300  \n",
       "       25%         -21235.564347       -21274.530660  \n",
       "       50%         -21137.718540       -21182.049110  \n",
       "       75%         -21048.606550       -21093.854485  \n",
       "       max         -20663.321040       -20862.645500  \n",
       "volume count         1500.000000          375.000000  \n",
       "       mean         54018.761333        54023.984000  \n",
       "       std            258.312477          227.343811  \n",
       "       min          53252.000000        53405.000000  \n",
       "       25%          53840.000000        53883.000000  \n",
       "       50%          54026.500000        54034.000000  \n",
       "       75%          54194.250000        54189.500000  \n",
       "       max          54809.000000        54660.000000  \n",
       "temp   count         1500.000000          375.000000  \n",
       "       mean           299.988950          299.925545  \n",
       "       std              3.203743            3.076044  \n",
       "       min            288.337210          290.603700  \n",
       "       25%            297.947452          297.573460  \n",
       "       50%            300.058690          299.814670  \n",
       "       75%            302.125142          302.070440  \n",
       "       max            309.732870          308.950220  "
      ]
     },
     "execution_count": 9,
     "metadata": {},
     "output_type": "execute_result"
    }
   ],
   "source": [
    "dyna_groupby = cl.groupby(\"dyna\").describe()\n",
    "# dyna_groupby[\"mean\"]\n",
    "dyna_groupby[[\"vdw\", \"elec\", \"volume\", \"temp\"]].T"
   ]
  },
  {
   "cell_type": "markdown",
   "id": "18fcb389-f811-4cce-9719-501fb603e106",
   "metadata": {
    "papermill": {
     "duration": 0.004159,
     "end_time": "2023-05-16T12:46:27.282384",
     "exception": false,
     "start_time": "2023-05-16T12:46:27.278225",
     "status": "completed"
    },
    "tags": []
   },
   "source": [
    "## Densities"
   ]
  },
  {
   "cell_type": "code",
   "execution_count": 10,
   "id": "8d26b864-0988-45c2-8a3b-2355bf021161",
   "metadata": {
    "papermill": {
     "duration": 0.021556,
     "end_time": "2023-05-16T12:46:27.308101",
     "exception": false,
     "start_time": "2023-05-16T12:46:27.286545",
     "status": "completed"
    },
    "tags": []
   },
   "outputs": [
    {
     "data": {
      "text/markdown": [
       "density 1: 867.0796999463153 kilogram / meter ** 3"
      ],
      "text/plain": [
       "<IPython.core.display.Markdown object>"
      ]
     },
     "metadata": {},
     "output_type": "display_data"
    },
    {
     "data": {
      "text/markdown": [
       "density 2: 1080.5475967866246 kilogram / meter ** 3"
      ],
      "text/plain": [
       "<IPython.core.display.Markdown object>"
      ]
     },
     "metadata": {},
     "output_type": "display_data"
    },
    {
     "data": {
      "text/markdown": [
       "density 3: 1107.2269098135641 kilogram / meter ** 3"
      ],
      "text/plain": [
       "<IPython.core.display.Markdown object>"
      ]
     },
     "metadata": {},
     "output_type": "display_data"
    },
    {
     "data": {
      "text/markdown": [
       "density 4: 1106.282308682334 kilogram / meter ** 3"
      ],
      "text/plain": [
       "<IPython.core.display.Markdown object>"
      ]
     },
     "metadata": {},
     "output_type": "display_data"
    },
    {
     "data": {
      "text/markdown": [
       "density 5: 1106.1753609285831 kilogram / meter ** 3"
      ],
      "text/plain": [
       "<IPython.core.display.Markdown object>"
      ]
     },
     "metadata": {},
     "output_type": "display_data"
    }
   ],
   "source": [
    "densities = []\n",
    "for i, v in enumerate(dyna_groupby.volume[\"mean\"].values):\n",
    "    d = get_density(v)\n",
    "    display(Markdown(f'density {i+1}: {d}'))\n",
    "    densities.append(d)\n",
    "    \n",
    "densities = [_.magnitude for _ in densities]"
   ]
  },
  {
   "cell_type": "code",
   "execution_count": 11,
   "id": "40cbdf13-516e-4d9d-9def-5832e68ada4b",
   "metadata": {
    "papermill": {
     "duration": 0.019569,
     "end_time": "2023-05-16T12:46:27.332259",
     "exception": false,
     "start_time": "2023-05-16T12:46:27.312690",
     "status": "completed"
    },
    "tags": []
   },
   "outputs": [
    {
     "data": {
      "text/markdown": [
       "temp. 1: 295.86998013000004"
      ],
      "text/plain": [
       "<IPython.core.display.Markdown object>"
      ]
     },
     "metadata": {},
     "output_type": "display_data"
    },
    {
     "data": {
      "text/markdown": [
       "temp. 2: 300.25883188333336"
      ],
      "text/plain": [
       "<IPython.core.display.Markdown object>"
      ]
     },
     "metadata": {},
     "output_type": "display_data"
    },
    {
     "data": {
      "text/markdown": [
       "temp. 3: 300.0876038866666"
      ],
      "text/plain": [
       "<IPython.core.display.Markdown object>"
      ]
     },
     "metadata": {},
     "output_type": "display_data"
    },
    {
     "data": {
      "text/markdown": [
       "temp. 4: 299.98895024666666"
      ],
      "text/plain": [
       "<IPython.core.display.Markdown object>"
      ]
     },
     "metadata": {},
     "output_type": "display_data"
    },
    {
     "data": {
      "text/markdown": [
       "temp. 5: 299.92554544"
      ],
      "text/plain": [
       "<IPython.core.display.Markdown object>"
      ]
     },
     "metadata": {},
     "output_type": "display_data"
    }
   ],
   "source": [
    "temps = []\n",
    "for i, t in enumerate(dyna_groupby.temp[\"mean\"].values):\n",
    "    display(Markdown(f'temp. {i+1}: {t}'))\n",
    "    temps.append(t)\n",
    "    \n",
    "simT = np.mean(temps[2:])"
   ]
  },
  {
   "cell_type": "code",
   "execution_count": 12,
   "id": "428301be-20a5-4a04-af2c-7b1c2e2db38a",
   "metadata": {
    "papermill": {
     "duration": 0.019909,
     "end_time": "2023-05-16T12:46:27.356891",
     "exception": false,
     "start_time": "2023-05-16T12:46:27.336982",
     "status": "completed"
    },
    "tags": []
   },
   "outputs": [],
   "source": [
    "exp_densities = \"\"\"°C\t.0\t.1\t.2\t.3\t.4\t.5\t.6\t.7\t.8\t.9\n",
    "0\t0.999843\t0.999850\t0.999856\t0.999863\t0.999869\t0.999875\t0.999880\t0.999886\t0.999892\t0.999897\n",
    "1\t0.999902\t0.999907\t0.999911\t0.999916\t0.999920\t0.999925\t0.999929\t0.999932\t0.999936\t0.999940\n",
    "2\t0.999943\t0.999946\t0.999949\t0.999952\t0.999955\t0.999957\t0.999960\t0.999962\t0.999964\t0.999965\n",
    "3\t0.999967\t0.999969\t0.999970\t0.999971\t0.999972\t0.999973\t0.999974\t0.999974\t0.999975\t0.999975\n",
    "4\t0.999975\t0.999975\t0.999974\t0.999974\t0.999973\t0.999973\t0.999972\t0.999971\t0.999970\t0.999968\n",
    "5\t0.999967\t0.999965\t0.999963\t0.999961\t0.999959\t0.999957\t0.999954\t0.999952\t0.999949\t0.999946\n",
    "6\t0.999943\t0.999940\t0.999936\t0.999933\t0.999929\t0.999925\t0.999922\t0.999917\t0.999913\t0.999909\n",
    "7\t0.999904\t0.999900\t0.999895\t0.999890\t0.999885\t0.999879\t0.999874\t0.999868\t0.999863\t0.999857\n",
    "8\t0.999851\t0.999845\t0.999839\t0.999832\t0.999826\t0.999819\t0.999812\t0.999805\t0.999798\t0.999791\n",
    "9\t0.999784\t0.999776\t0.999768\t0.999761\t0.999753\t0.999745\t0.999737\t0.999728\t0.999720\t0.999711\n",
    "10\t0.999702\t0.999694\t0.999685\t0.999675\t0.999666\t0.999657\t0.999647\t0.999638\t0.999628\t0.999618\n",
    "11\t0.999608\t0.999598\t0.999587\t0.999577\t0.999566\t0.999556\t0.999545\t0.999534\t0.999523\t0.999512\n",
    "12\t0.999500\t0.999489\t0.999477\t0.999466\t0.999454\t0.999442\t0.999430\t0.999417\t0.999405\t0.999393\n",
    "13\t0.999380\t0.999367\t0.999355\t0.999342\t0.999328\t0.999315\t0.999302\t0.999288\t0.999275\t0.999261\n",
    "14\t0.999247\t0.999233\t0.999219\t0.999205\t0.999191\t0.999176\t0.999162\t0.999147\t0.999133\t0.999118\n",
    "15\t0.999103\t0.999087\t0.999072\t0.999057\t0.999041\t0.999026\t0.999010\t0.998994\t0.998978\t0.998962\n",
    "16\t0.998946\t0.998930\t0.998913\t0.998897\t0.998880\t0.998863\t0.998847\t0.998830\t0.998813\t0.998795\n",
    "17\t0.998778\t0.998761\t0.998743\t0.998725\t0.998708\t0.998690\t0.998672\t0.998654\t0.998635\t0.998617\n",
    "18\t0.998599\t0.998580\t0.998561\t0.998543\t0.998524\t0.998505\t0.998486\t0.998467\t0.998447\t0.998428\n",
    "19\t0.998408\t0.998389\t0.998369\t0.998349\t0.998329\t0.998309\t0.998289\t0.998269\t0.998248\t0.998228\n",
    "20\t0.998207\t0.998186\t0.998166\t0.998145\t0.998124\t0.998103\t0.998081\t0.998060\t0.998039\t0.998017\n",
    "21\t0.997995\t0.997974\t0.997952\t0.997930\t0.997908\t0.997886\t0.997864\t0.997841\t0.997819\t0.997796\n",
    "22\t0.997773\t0.997751\t0.997728\t0.997705\t0.997682\t0.997659\t0.997635\t0.997612\t0.997589\t0.997565\n",
    "23\t0.997541\t0.997518\t0.997494\t0.997470\t0.997446\t0.997422\t0.997397\t0.997373\t0.997349\t0.997324\n",
    "24\t0.997299\t0.997275\t0.997250\t0.997225\t0.997200\t0.997175\t0.997149\t0.997124\t0.997099\t0.997073\n",
    "25\t0.997048\t0.997022\t0.996996\t0.996970\t0.996944\t0.996918\t0.996892\t0.996866\t0.996839\t0.996813\n",
    "26\t0.996786\t0.996760\t0.996733\t0.996706\t0.996679\t0.996652\t0.996625\t0.996598\t0.996571\t0.996543\n",
    "27\t0.996516\t0.996488\t0.996461\t0.996433\t0.996405\t0.996377\t0.996349\t0.996321\t0.996293\t0.996264\n",
    "28\t0.996236\t0.996207\t0.996179\t0.996150\t0.996121\t0.996093\t0.996064\t0.996035\t0.996006\t0.995976\n",
    "29\t0.995947\t0.995918\t0.995888\t0.995859\t0.995829\t0.995799\t0.995770\t0.995740\t0.995710\t0.995680\n",
    "30\t0.99565\t0.99562\t0.99559\t0.99556\t0.99553\t0.99550\t0.99547\t0.99544\t0.99541\t0.99537\n",
    "31\t0.99534\t0.99531\t0.99528\t0.99525\t0.99522\t0.99519\t0.99516\t0.99512\t0.99509\t0.99506\n",
    "32\t0.99503\t0.99500\t0.99496\t0.99493\t0.99490\t0.99487\t0.99484\t0.99480\t0.99477\t0.99474\n",
    "33\t0.99470\t0.99467\t0.99464\t0.99461\t0.99457\t0.99454\t0.99451\t0.99447\t0.99444\t0.99441\n",
    "34\t0.99437\t0.99434\t0.99431\t0.99427\t0.99424\t0.99420\t0.99417\t0.99414\t0.99410\t0.99407\n",
    "35\t0.99403\t0.99400\t0.99396\t0.99393\t0.99390\t0.99386\t0.99383\t0.99379\t0.99376\t0.99372\n",
    "36\t0.99369\t0.99365\t0.99361\t0.99358\t0.99354\t0.99351\t0.99347\t0.99344\t0.99340\t0.99337\n",
    "37\t0.99333\t0.99329\t0.99326\t0.99322\t0.99319\t0.99315\t0.99311\t0.99308\t0.99304\t0.99300\n",
    "38\t0.99297\t0.99293\t0.99289\t0.99286\t0.99282\t0.99278\t0.99274\t0.99271\t0.99267\t0.99263\n",
    "39\t0.99260\t0.99256\t0.99252\t0.99248\t0.99244\t0.99241\t0.99237\t0.99233\t0.99229\t0.99225\n",
    "40\t0.99222\t0.99218\t0.99214\t0.99210\t0.99206\t0.99202\t0.99199\t0.99195\t0.99191\t0.99187\n",
    "41\t0.99183\t0.99179\t0.99175\t0.99171\t0.99167\t0.99163\t0.99159\t0.99156\t0.99152\t0.99148\n",
    "42\t0.99144\t0.99140\t0.99136\t0.99132\t0.99128\t0.99124\t0.99120\t0.99116\t0.99112\t0.99108\n",
    "43\t0.99104\t0.99100\t0.99095\t0.99091\t0.99087\t0.99083\t0.99079\t0.99075\t0.99071\t0.99067\n",
    "44\t0.99063\t0.99059\t0.99055\t0.99050\t0.99046\t0.99042\t0.99038\t0.99034\t0.99030\t0.99025\n",
    "45\t0.99021\t0.99017\t0.99013\t0.99009\t0.99004\t0.99000\t0.98996\t0.98992\t0.98988\t0.98983\n",
    "46\t0.98979\t0.98975\t0.98971\t0.98966\t0.98962\t0.98958\t0.98953\t0.98949\t0.98945\t0.98941\n",
    "47\t0.98936\t0.98932\t0.98928\t0.98923\t0.98919\t0.98915\t0.98910\t0.98906\t0.98901\t0.98897\n",
    "48\t0.98893\t0.98888\t0.98884\t0.98879\t0.98875\t0.98871\t0.98866\t0.98862\t0.98857\t0.98853\n",
    "49\t0.98848\t0.98844\t0.98839\t0.98835\t0.98831\t0.98826\t0.98822\t0.98817\t0.98813\t0.98808\n",
    "50\t0.98804\t0.98799\t0.98794\t0.98790\t0.98785\t0.98781\t0.98776\t0.98772\t0.98767\t0.98763\n",
    "51\t0.98758\t0.98753\t0.98749\t0.98744\t0.98740\t0.98735\t0.98730\t0.98726\t0.98721\t0.98716\n",
    "52\t0.98712\t0.98707\t0.98702\t0.98698\t0.98693\t0.98688\t0.98684\t0.98679\t0.98674\t0.98670\n",
    "53\t0.98665\t0.98660\t0.98655\t0.98651\t0.98646\t0.98641\t0.98636\t0.98632\t0.98627\t0.98622\n",
    "54\t0.98617\t0.98613\t0.98608\t0.98603\t0.98598\t0.98593\t0.98589\t0.98584\t0.98579\t0.98574\n",
    "55\t0.98569\t0.98564\t0.98560\t0.98555\t0.98550\t0.98545\t0.98540\t0.98535\t0.98530\t0.98525\n",
    "56\t0.98521\t0.98516\t0.98511\t0.98506\t0.98501\t0.98496\t0.98491\t0.98486\t0.98481\t0.98476\n",
    "57\t0.98471\t0.98466\t0.98461\t0.98456\t0.98451\t0.98446\t0.98441\t0.98436\t0.98431\t0.98426\n",
    "58\t0.98421\t0.98416\t0.98411\t0.98406\t0.98401\t0.98396\t0.98391\t0.98386\t0.98381\t0.98376\n",
    "59\t0.98371\t0.98366\t0.98361\t0.98355\t0.98350\t0.98345\t0.98340\t0.98335\t0.98330\t0.98325\n",
    "60\t0.98320\t0.98314\t0.98309\t0.98304\t0.98299\t0.98294\t0.98289\t0.98283\t0.98278\t0.98273\n",
    "61\t0.98268\t0.98263\t0.98257\t0.98252\t0.98247\t0.98242\t0.98237\t0.98231\t0.98226\t0.98221\n",
    "62\t0.98216\t0.98210\t0.98205\t0.98200\t0.98194\t0.98189\t0.98184\t0.98179\t0.98173\t0.98168\n",
    "63\t0.98163\t0.98157\t0.98152\t0.98147\t0.98141\t0.98136\t0.98131\t0.98125\t0.98120\t0.98115\n",
    "64\t0.98109\t0.98104\t0.98098\t0.98093\t0.98088\t0.98082\t0.98077\t0.98071\t0.98066\t0.98061\n",
    "65\t0.98055\t0.98050\t0.98044\t0.98039\t0.98033\t0.98028\t0.98022\t0.98017\t0.98011\t0.98006\n",
    "66\t0.98000\t0.97995\t0.97989\t0.97984\t0.97978\t0.97973\t0.97967\t0.97962\t0.97956\t0.97951\n",
    "67\t0.97945\t0.97940\t0.97934\t0.97929\t0.97923\t0.97918\t0.97912\t0.97906\t0.97901\t0.97895\n",
    "68\t0.97890\t0.97884\t0.97878\t0.97873\t0.97867\t0.97861\t0.97856\t0.97850\t0.97845\t0.97839\n",
    "69\t0.97833\t0.97828\t0.97822\t0.97816\t0.97811\t0.97805\t0.97799\t0.97794\t0.97788\t0.97782\n",
    "70\t0.97776\t0.97771\t0.97765\t0.97759\t0.97754\t0.97748\t0.97742\t0.97736\t0.97731\t0.97725\n",
    "71\t0.97719\t0.97713\t0.97708\t0.97702\t0.97696\t0.97690\t0.97684\t0.97679\t0.97673\t0.97667\n",
    "72\t0.97661\t0.97655\t0.97650\t0.97644\t0.97638\t0.97632\t0.97626\t0.97620\t0.97614\t0.97609\n",
    "73\t0.97603\t0.97597\t0.97591\t0.97585\t0.97579\t0.97573\t0.97567\t0.97562\t0.97556\t0.97550\n",
    "74\t0.97544\t0.97538\t0.97532\t0.97526\t0.97520\t0.97514\t0.97508\t0.97502\t0.97496\t0.97490\n",
    "75\t0.97484\t0.97478\t0.97472\t0.97466\t0.97460\t0.97454\t0.97448\t0.97442\t0.97436\t0.97430\n",
    "76\t0.97424\t0.97418\t0.97412\t0.97406\t0.97400\t0.97394\t0.97388\t0.97382\t0.97376\t0.97370\n",
    "77\t0.97364\t0.97358\t0.97352\t0.97345\t0.97339\t0.97333\t0.97327\t0.97321\t0.97315\t0.97309\n",
    "78\t0.97303\t0.97297\t0.97290\t0.97284\t0.97278\t0.97272\t0.97266\t0.97260\t0.97253\t0.97247\n",
    "79\t0.97241\t0.97235\t0.97229\t0.97223\t0.97216\t0.97210\t0.97204\t0.97198\t0.97191\t0.97185\n",
    "80\t0.97179\t0.97173\t0.97167\t0.97160\t0.97154\t0.97148\t0.97142\t0.97135\t0.97129\t0.97123\n",
    "81\t0.97116\t0.97110\t0.97104\t0.97098\t0.97091\t0.97085\t0.97079\t0.97072\t0.97066\t0.97060\n",
    "82\t0.97053\t0.97047\t0.97041\t0.97034\t0.97028\t0.97022\t0.97015\t0.97009\t0.97003\t0.96996\n",
    "83\t0.96990\t0.96983\t0.96977\t0.96971\t0.96964\t0.96958\t0.96951\t0.96945\t0.96939\t0.96932\n",
    "84\t0.96926\t0.96919\t0.96913\t0.96906\t0.96900\t0.96893\t0.96887\t0.96881\t0.96874\t0.96868\n",
    "85\t0.96861\t0.96855\t0.96848\t0.96842\t0.96835\t0.96829\t0.96822\t0.96816\t0.96809\t0.96803\n",
    "86\t0.96796\t0.96790\t0.96783\t0.96776\t0.96770\t0.96763\t0.96757\t0.96750\t0.96744\t0.96737\n",
    "87\t0.96731\t0.96724\t0.96717\t0.96711\t0.96704\t0.96698\t0.96691\t0.96684\t0.96678\t0.96671\n",
    "88\t0.96664\t0.96658\t0.96651\t0.96645\t0.96638\t0.96631\t0.96625\t0.96618\t0.96611\t0.96605\n",
    "89\t0.96598\t0.96591\t0.96585\t0.96578\t0.96571\t0.96565\t0.96558\t0.96551\t0.96544\t0.96538\n",
    "90\t0.96531\t0.96524\t0.96518\t0.96511\t0.96504\t0.96497\t0.96491\t0.96484\t0.96477\t0.96470\n",
    "91\t0.96463\t0.96457\t0.96450\t0.96443\t0.96436\t0.96430\t0.96423\t0.96416\t0.96409\t0.96402\n",
    "92\t0.96396\t0.96389\t0.96382\t0.96375\t0.96368\t0.96361\t0.96355\t0.96348\t0.96341\t0.96334\n",
    "93\t0.96327\t0.96320\t0.96313\t0.96306\t0.96300\t0.96293\t0.96286\t0.96279\t0.96272\t0.96265\n",
    "94\t0.96258\t0.96251\t0.96244\t0.96237\t0.96230\t0.96224\t0.96217\t0.96210\t0.96203\t0.96196\n",
    "95\t0.96189\t0.96182\t0.96175\t0.96168\t0.96161\t0.96154\t0.96147\t0.96140\t0.96133\t0.96126\n",
    "96\t0.96119\t0.96112\t0.96105\t0.96098\t0.96091\t0.96084\t0.96077\t0.96070\t0.96063\t0.96056\n",
    "97\t0.96049\t0.96042\t0.96035\t0.96027\t0.96020\t0.96013\t0.96006\t0.95999\t0.95992\t0.95985\n",
    "98\t0.95978\t0.95971\t0.95964\t0.95957\t0.95949\t0.95942\t0.95935\t0.95928\t0.95921\t0.95914\n",
    "99\t0.95907\t0.95899\t0.95892\t0.95885\t0.95878\t0.95871\t0.95864\t0.95856\t0.95849\t0.95842\"\"\"\n",
    "exp_densities = [[float(x) for x in _.split(\"\\t\")[:2]] for _ in exp_densities.split(\"\\n\")[1:]]"
   ]
  },
  {
   "cell_type": "code",
   "execution_count": 13,
   "id": "f522f481-75eb-49a7-b6e6-f7178dd667b8",
   "metadata": {
    "papermill": {
     "duration": 0.016634,
     "end_time": "2023-05-16T12:46:27.378319",
     "exception": false,
     "start_time": "2023-05-16T12:46:27.361685",
     "status": "completed"
    },
    "tags": []
   },
   "outputs": [],
   "source": [
    "# plots.make_plots(cl)"
   ]
  },
  {
   "cell_type": "code",
   "execution_count": null,
   "id": "84fa242c-caf6-43df-847d-d53a672cf7c0",
   "metadata": {
    "papermill": {
     "duration": 0.004723,
     "end_time": "2023-05-16T12:46:27.387763",
     "exception": false,
     "start_time": "2023-05-16T12:46:27.383040",
     "status": "completed"
    },
    "tags": []
   },
   "outputs": [],
   "source": []
  },
  {
   "cell_type": "code",
   "execution_count": 14,
   "id": "0a93842e-177e-4061-a12a-64030f9cf3e9",
   "metadata": {
    "papermill": {
     "duration": 0.016651,
     "end_time": "2023-05-16T12:46:27.409109",
     "exception": false,
     "start_time": "2023-05-16T12:46:27.392458",
     "status": "completed"
    },
    "tags": []
   },
   "outputs": [],
   "source": [
    "from ase.visualize import view\n",
    "import MDAnalysis as mda"
   ]
  },
  {
   "cell_type": "code",
   "execution_count": 15,
   "id": "61b8e379-8f38-4a65-af41-484b881b4917",
   "metadata": {
    "papermill": {
     "duration": 0.022322,
     "end_time": "2023-05-16T12:46:27.436425",
     "exception": false,
     "start_time": "2023-05-16T12:46:27.414103",
     "status": "completed"
    },
    "tags": []
   },
   "outputs": [],
   "source": [
    "fn = \"water.2000.dyna.dcd\"\n",
    "# fn = \"water.2000.dyna.0.dcd\"\n",
    "from pathlib import Path\n",
    "dcdpaths = []\n",
    "dcdnames = set(list(cl.groupby(\"dyna\").dcd.max()))\n",
    "for dcdname in dcdnames:\n",
    "    dcdpaths.append(Path(jobpath).parents[0] / dcdname)\n",
    "psfpath = Path(jobpath).parents[0] / \"water.2000.psf\"\n",
    "\n",
    "for i in range(NSIM - len(dcdnames)):\n",
    "    dcdpaths.append(Path(jobpath).parents[0] / \n",
    "                    \"water.2000.dyna.{0}.dcd\".format(i))"
   ]
  },
  {
   "cell_type": "markdown",
   "id": "d4e7992e-43e3-4b41-9acb-2bd316b41dd3",
   "metadata": {
    "papermill": {
     "duration": 0.008108,
     "end_time": "2023-05-16T12:46:27.453128",
     "exception": false,
     "start_time": "2023-05-16T12:46:27.445020",
     "status": "completed"
    },
    "tags": []
   },
   "source": [
    "##  Trajectory info."
   ]
  },
  {
   "cell_type": "code",
   "execution_count": 16,
   "id": "30acd42f-0117-4819-bd39-9c1cc1d6e178",
   "metadata": {
    "papermill": {
     "duration": 0.06433,
     "end_time": "2023-05-16T12:46:27.525482",
     "exception": false,
     "start_time": "2023-05-16T12:46:27.461152",
     "status": "completed"
    },
    "tags": []
   },
   "outputs": [
    {
     "name": "stdout",
     "output_type": "stream",
     "text": [
      "<Universe with 6000 atoms>\n",
      "<ChainReader containing water.2000.dyna.0.dcd, water.2000.dyna.1.dcd, water.2000.dyna.2.dcd with 2250 frames of 6000 atoms>\n"
     ]
    },
    {
     "name": "stderr",
     "output_type": "stream",
     "text": [
      "/home/boittier/miniconda3/envs/pycharmm/lib/python3.8/site-packages/MDAnalysis/coordinates/DCD.py:165: DeprecationWarning: DCDReader currently makes independent timesteps by copying self.ts while other readers update self.ts inplace. This behavior will be changed in 3.0 to be the same as other readers. Read more at https://github.com/MDAnalysis/mdanalysis/issues/3889 to learn if this change in behavior might affect you.\n",
      "  warnings.warn(\"DCDReader currently makes independent timesteps\"\n"
     ]
    }
   ],
   "source": [
    "u = mda.Universe(psfpath, dcdpaths[2:])\n",
    "print(u)\n",
    "print(u.trajectory)"
   ]
  },
  {
   "cell_type": "code",
   "execution_count": 17,
   "id": "a39de1f2-82a9-4395-bb30-4e44f4176383",
   "metadata": {
    "papermill": {
     "duration": 3.791646,
     "end_time": "2023-05-16T12:46:31.322273",
     "exception": false,
     "start_time": "2023-05-16T12:46:27.530627",
     "status": "completed"
    },
    "tags": []
   },
   "outputs": [],
   "source": [
    "ATOMS = get_atoms(u)\n",
    "unwrap(ATOMS)"
   ]
  },
  {
   "cell_type": "code",
   "execution_count": 18,
   "id": "6225ea70-a7d8-4412-9aa5-399dbd58c279",
   "metadata": {
    "papermill": {
     "duration": 0.027342,
     "end_time": "2023-05-16T12:46:31.358342",
     "exception": false,
     "start_time": "2023-05-16T12:46:31.331000",
     "status": "completed"
    },
    "tags": []
   },
   "outputs": [
    {
     "data": {
      "text/markdown": [
       "sim. time : 450 (ps)"
      ],
      "text/plain": [
       "<IPython.core.display.Markdown object>"
      ]
     },
     "metadata": {},
     "output_type": "display_data"
    }
   ],
   "source": [
    "time_ps = len(ATOMS) * NSAVC * dt\n",
    "display(Markdown(f'sim. time : {time_ps:.0f} (ps)'))"
   ]
  },
  {
   "cell_type": "code",
   "execution_count": 19,
   "id": "6a857fbc-d5b8-437f-9835-30e18b2ebdc7",
   "metadata": {
    "papermill": {
     "duration": 0.024761,
     "end_time": "2023-05-16T12:46:31.391608",
     "exception": false,
     "start_time": "2023-05-16T12:46:31.366847",
     "status": "completed"
    },
    "tags": []
   },
   "outputs": [],
   "source": [
    "# ax = plt.gca()\n",
    "# _ = plots.plot_rdf(ax, u, step=1, title=f\"{logkey}_rdf\")"
   ]
  },
  {
   "cell_type": "markdown",
   "id": "088196c0-d60c-4a70-8fc9-1d45c857b7d2",
   "metadata": {
    "papermill": {
     "duration": 0.004734,
     "end_time": "2023-05-16T12:46:31.401262",
     "exception": false,
     "start_time": "2023-05-16T12:46:31.396528",
     "status": "completed"
    },
    "tags": []
   },
   "source": [
    "##  $MSD$ and $D$"
   ]
  },
  {
   "cell_type": "code",
   "execution_count": 20,
   "id": "6d8831c6-41c1-4c12-8d5e-91bef6d35b21",
   "metadata": {
    "papermill": {
     "duration": 0.017968,
     "end_time": "2023-05-16T12:46:31.423993",
     "exception": false,
     "start_time": "2023-05-16T12:46:31.406025",
     "status": "completed"
    },
    "tags": []
   },
   "outputs": [],
   "source": [
    "water_D = \"\"\"0 °C\t273.15 K\t1.130\n",
    "10 °C\t283.15 K\t1.536\n",
    "20 °C\t293.15 K\t2.022\n",
    "25 °C\t298.15 K\t2.296\n",
    "30 °C\t303.15 K\t2.590\n",
    "40 °C\t313.15 K\t3.240\n",
    "50 °C\t323.15 K\t3.968\n",
    "60 °C\t333.15 K\t4.772\n",
    "70 °C\t343.15 K\t5.646\n",
    "80 °C\t353.15 K\t6.582\n",
    "90 °C\t363.15 K\t7.578\n",
    "100 °C\t373.15 K\t8.623\n",
    "0 °C\t273.15 K\t1.130\n",
    "10 °C\t283.15 K\t1.536\n",
    "20 °C\t293.15 K\t2.022\n",
    "25 °C\t298.15 K\t2.296\n",
    "30 °C\t303.15 K\t2.590\n",
    "40 °C\t313.15 K\t3.240\n",
    "50 °C\t323.15 K\t3.968\n",
    "60 °C\t333.15 K\t4.772\n",
    "70 °C\t343.15 K\t5.646\n",
    "80 °C\t353.15 K\t6.582\n",
    "90 °C\t363.15 K\t7.578\n",
    "100 °C\t373.15 K\t8.623\n",
    "4 °C\t277.15 K\t1.27\n",
    "10 °C\t283.15 K\t1.55\n",
    "25 °C\t298.15 K\t2.30\n",
    "45 °C\t318.15 K\t3.55\n",
    "60 °C\t333.15 K\t4.70\n",
    "15 °C\t288.15 K\t1.756\n",
    "20 °C\t293.15 K\t2.023\n",
    "25 °C\t298.15 K\t2.317\n",
    "30 °C\t303.15 K\t2.616\n",
    "15 °C\t288.15 K\t1.766\n",
    "20 °C\t293.15 K\t2.025\n",
    "25 °C\t298.15 K\t2.299\n",
    "30 °C\t303.15 K\t2.597\n",
    "35 °C\t308.15 K\t2.895\n",
    "40 °C\t313.15 K\t3.222\n",
    "45 °C\t318.15 K\t3.601\n",
    "50 °C\t323.15 K\t3.983\n",
    "56 °C\t329.15 K\t4.444\n",
    "–30.65 °C\t242.5 K\t0.187\n",
    "–28.75 °C\t244.4 K\t0.219\n",
    "–26.85 °C\t246.3 K\t0.263\n",
    "–24.95 °C\t248.2 K\t0.321\n",
    "–23.15 °C\t250.0 K\t0.341\n",
    "–21.35 °C\t251.8 K\t0.395\n",
    "–19.15 °C\t254.0 K\t0.438\n",
    "–17.35 °C\t255.8 K\t0.477\n",
    "–14.45 °C\t258.7 K\t0.553\n",
    "–11.65 °C\t261.5 K\t0.633\n",
    "–9.45 °C\t263.7 K\t0.700\n",
    "0.35 °C\t273.5 K\t1.05  \n",
    "12.15 °C\t285.3 K\t1.58  \n",
    "25.05 °C\t298.2 K\t2.23 \"\"\"\n",
    "water_D = [_.split(\"\\t\")[1:] for _ in water_D.split(\"\\n\")]\n",
    "\n",
    "ks = []\n",
    "ds = []\n",
    "\n",
    "for K,D in water_D:\n",
    "    K = float(K[:6])\n",
    "    D = float(D)\n",
    "    ks.append(K)\n",
    "    ds.append(D)\n",
    "    \n",
    "D_exp = pd.DataFrame({\"K\": ks, \"D\": ds})\n",
    "D_exp = D_exp.sort_values(\"K\")"
   ]
  },
  {
   "cell_type": "code",
   "execution_count": 21,
   "id": "410dd7a2-cbd1-42d8-847a-84fd95dfa512",
   "metadata": {
    "papermill": {
     "duration": 0.024612,
     "end_time": "2023-05-16T12:46:31.453643",
     "exception": false,
     "start_time": "2023-05-16T12:46:31.429031",
     "status": "completed"
    },
    "tags": []
   },
   "outputs": [],
   "source": [
    "import scipy\n",
    "from scipy.optimize import curve_fit\n",
    "\n",
    "D_exp_reg = scipy.stats.linregress(D_exp[\"K\"], y=D_exp[\"D\"])\n",
    "\n",
    "def x2fit(x, a, b, c):\n",
    "    return a*x**2 + b*x + c\n",
    "\n",
    "\n",
    "popt, pcov = curve_fit(x2fit, D_exp[\"K\"], D_exp[\"D\"])"
   ]
  },
  {
   "cell_type": "code",
   "execution_count": 22,
   "id": "a83e2af2-c4e3-47d1-a919-27275c362c53",
   "metadata": {
    "papermill": {
     "duration": 0.015901,
     "end_time": "2023-05-16T12:46:31.474519",
     "exception": false,
     "start_time": "2023-05-16T12:46:31.458618",
     "status": "completed"
    },
    "tags": []
   },
   "outputs": [],
   "source": [
    "# popt, pcov"
   ]
  },
  {
   "cell_type": "code",
   "execution_count": 23,
   "id": "6cfab314-8244-4e26-9351-e2114de67d06",
   "metadata": {
    "papermill": {
     "duration": 0.016047,
     "end_time": "2023-05-16T12:46:31.495495",
     "exception": false,
     "start_time": "2023-05-16T12:46:31.479448",
     "status": "completed"
    },
    "tags": []
   },
   "outputs": [],
   "source": [
    "# D_exp_reg"
   ]
  },
  {
   "cell_type": "code",
   "execution_count": 24,
   "id": "8a6de099-7965-4396-9f76-a8e1a04d53c4",
   "metadata": {
    "papermill": {
     "duration": 0.016508,
     "end_time": "2023-05-16T12:46:31.517125",
     "exception": false,
     "start_time": "2023-05-16T12:46:31.500617",
     "status": "completed"
    },
    "tags": []
   },
   "outputs": [],
   "source": [
    "exp_densities = np.array(exp_densities)\n",
    "exp_densities[:,0] = exp_densities[:,0] + 273.15\n",
    "popt_rho, pcov_rho = curve_fit(x2fit, exp_densities[:,0],  exp_densities[:,1])\n",
    "# popt_rho"
   ]
  },
  {
   "cell_type": "code",
   "execution_count": 25,
   "id": "517bbfb7-8fcd-41b1-b5ce-37672517207f",
   "metadata": {
    "papermill": {
     "duration": 0.016624,
     "end_time": "2023-05-16T12:46:31.538679",
     "exception": false,
     "start_time": "2023-05-16T12:46:31.522055",
     "status": "completed"
    },
    "tags": []
   },
   "outputs": [],
   "source": [
    "# plt.scatter(exp_densities[:,0], exp_densities[:,1])\n",
    "# fit_x = np.arange(exp_densities[:,0].min(), exp_densities[:,0].max())\n",
    "# plt.plot(fit_x, x2fit(fit_x, *popt_rho))"
   ]
  },
  {
   "cell_type": "code",
   "execution_count": 26,
   "id": "b63c8aac-039c-478f-a9b5-7365f26d8212",
   "metadata": {
    "papermill": {
     "duration": 0.019265,
     "end_time": "2023-05-16T12:46:31.562985",
     "exception": false,
     "start_time": "2023-05-16T12:46:31.543720",
     "status": "completed"
    },
    "tags": []
   },
   "outputs": [
    {
     "data": {
      "text/markdown": [
       " true $\\rho$: 996"
      ],
      "text/plain": [
       "<IPython.core.display.Markdown object>"
      ]
     },
     "metadata": {},
     "output_type": "display_data"
    }
   ],
   "source": [
    "true_density = (x2fit(simT, *popt_rho)) * 1000\n",
    "display(Markdown(f' true $\\\\rho$: {true_density:.0f}')) "
   ]
  },
  {
   "cell_type": "code",
   "execution_count": 27,
   "id": "daa5dc9c-c965-4b55-b826-a1e645de1335",
   "metadata": {
    "papermill": {
     "duration": 0.01669,
     "end_time": "2023-05-16T12:46:31.584788",
     "exception": false,
     "start_time": "2023-05-16T12:46:31.568098",
     "status": "completed"
    },
    "tags": []
   },
   "outputs": [],
   "source": [
    "# plt.scatter(D_exp[\"K\"], D_exp[\"D\"])\n",
    "# fit_x = np.arange(D_exp[\"K\"].min(), D_exp[\"K\"].max())\n",
    "# # plt.plot(fit_x, x2fit(fit_x, *popt))"
   ]
  },
  {
   "cell_type": "code",
   "execution_count": 28,
   "id": "cbfa238d-5c50-4c40-9939-aff324c206fe",
   "metadata": {
    "papermill": {
     "duration": 0.017349,
     "end_time": "2023-05-16T12:46:31.607212",
     "exception": false,
     "start_time": "2023-05-16T12:46:31.589863",
     "status": "completed"
    },
    "tags": []
   },
   "outputs": [
    {
     "data": {
      "text/markdown": [
       " true $D$: 2.41e-05"
      ],
      "text/plain": [
       "<IPython.core.display.Markdown object>"
      ]
     },
     "metadata": {},
     "output_type": "display_data"
    }
   ],
   "source": [
    "true_D = (x2fit(simT, *popt))  * 10**-5\n",
    "display(Markdown(f' true $D$: {true_D:.2e}')) "
   ]
  },
  {
   "cell_type": "code",
   "execution_count": 29,
   "id": "9b82ed7f-c532-42f8-bbed-8a263704bdee",
   "metadata": {
    "papermill": {
     "duration": 0.016984,
     "end_time": "2023-05-16T12:46:31.629429",
     "exception": false,
     "start_time": "2023-05-16T12:46:31.612445",
     "status": "completed"
    },
    "tags": []
   },
   "outputs": [
    {
     "data": {
      "text/plain": [
       "0.0002"
      ]
     },
     "execution_count": 29,
     "metadata": {},
     "output_type": "execute_result"
    }
   ],
   "source": [
    "dt"
   ]
  },
  {
   "cell_type": "code",
   "execution_count": null,
   "id": "db69cb57-a48f-4857-b73a-20faa4750a34",
   "metadata": {
    "papermill": {
     "duration": 30.028347,
     "end_time": "2023-05-16T12:47:01.662983",
     "exception": false,
     "start_time": "2023-05-16T12:46:31.634636",
     "status": "completed"
    },
    "tags": []
   },
   "outputs": [],
   "source": [
    "\n",
    "dc = DiffusionCoefficient(ATOMS, NSAVC * dt * 1000)\n",
    "dc.calculate(ignore_n_images=0)\n"
   ]
  },
  {
   "cell_type": "code",
   "execution_count": null,
   "id": "28511731-605f-4698-9a57-f0d0d95c1b78",
   "metadata": {
    "papermill": {
     "duration": 0.876234,
     "end_time": "2023-05-16T12:47:02.545080",
     "exception": false,
     "start_time": "2023-05-16T12:47:01.668846",
     "status": "completed"
    },
    "tags": []
   },
   "outputs": [],
   "source": [
    "\n",
    "\n",
    "dc.plot(true_D=true_D)\n",
    "# # dc.print_data(ax=None)\n",
    "# print([ [__*10**-1 for __ in _] \n",
    "#        for _ in dc.get_diffusion_coefficients() ])"
   ]
  },
  {
   "cell_type": "markdown",
   "id": "f552ad9d-3e80-48ae-b6f9-9a1f7f12a1a3",
   "metadata": {
    "papermill": {
     "duration": 0.024405,
     "end_time": "2023-05-16T12:47:02.578250",
     "exception": false,
     "start_time": "2023-05-16T12:47:02.553845",
     "status": "completed"
    },
    "tags": []
   },
   "source": [
    "#  Structure and Transport"
   ]
  },
  {
   "cell_type": "code",
   "execution_count": null,
   "id": "d293fd81-664f-4906-94be-ceceaa2fff5e",
   "metadata": {
    "papermill": {
     "duration": 40.874705,
     "end_time": "2023-05-16T12:47:43.461032",
     "exception": false,
     "start_time": "2023-05-16T12:47:02.586327",
     "status": "completed"
    },
    "tags": []
   },
   "outputs": [],
   "source": [
    "axd = plt.figure(layout=\"constrained\", figsize=(8.2,5)).subplot_mosaic(\n",
    "    \"\"\"\n",
    "    abb\n",
    "    ABc\n",
    "    ABd\n",
    "    \"\"\",\n",
    "    # set the height ratios between the rows\n",
    "    height_ratios=[0.1, 0.5,0.5],\n",
    "    # set the width ratios between the columns\n",
    "    width_ratios=[4, 4, 2],\n",
    ")\n",
    "\n",
    "#  RDFs\n",
    "# plots.plot_rdf_from_file(f\"{logkey}_rdf_rdf.csv\",\n",
    "#                          axd[\"A\"])\n",
    "plot_rdf_exp(axd[\"A\"])\n",
    "plt.xlim(0,10)\n",
    "font_size = 15\n",
    "axd[\"A\"].set_xlabel(\"$r$ [$\\mathrm{\\AA}$]\", fontsize=font_size)\n",
    "axd[\"A\"].set_ylabel(\"$g(r)$\", fontsize=font_size)\n",
    "axd[\"A\"].set_title(\"RDF\", fontsize=font_size, fontweight=\"bold\")\n",
    "axd[\"A\"].legend(fontsize=font_size)\n",
    "axd[\"A\"].set_xlim(1.5,10)\n",
    "\n",
    "# MSDs\n",
    "ase_plot_atoms(ATOMS[-1], axd[\"d\"])\n",
    "sqd = axd['d'].get_xlim()[1]\n",
    "ase_plot_atoms(ATOMS[0], axd[\"c\"], offset=(sqd*1/3,sqd*1/3))\n",
    "axd[\"c\"].set_xlim(0,sqd)\n",
    "axd[\"c\"].set_ylim(0,sqd)\n",
    "axd[\"c\"].set_xlabel(\"$x$ [$\\mathrm{\\AA}$]\",fontsize=font_size)\n",
    "axd[\"c\"].set_ylabel(\"$z$ [$\\mathrm{\\AA}$]\",fontsize=font_size)\n",
    "axd[\"d\"].set_title(f\"$t =$ {time_ps:.0f} ps\",fontsize=font_size)\n",
    "axd[\"c\"].set_title(\"$t =$ 0 ps\",fontsize=font_size)\n",
    "axd[\"d\"].set_xlim(0,sqd)\n",
    "axd[\"d\"].set_ylim(0,sqd)\n",
    "axd[\"d\"].set_xlabel(\"$x$ [$\\mathrm{\\AA}$]\",fontsize=font_size)\n",
    "axd[\"d\"].set_ylabel(\"$z$ [$\\mathrm{\\AA}$]\",fontsize=font_size)\n",
    "# plot\n",
    "dc.plot(ax=axd[\"B\"], true_D=true_D)\n",
    "axd[\"B\"].set_xlabel(\"$t$ [ps]\", fontsize=font_size)\n",
    "axd[\"B\"].set_ylabel(\"$<\\Delta r^2(t)>$ [$\\mathrm{\\AA}^{2}$]\", fontsize=font_size)\n",
    "axd[\"B\"].set_title(\"MSD\", fontsize=font_size, fontweight=\"bold\")\n",
    "\n",
    "#  headers for density and D\n",
    "axd[\"b\"].axis(\"off\")\n",
    "D = dc.get_diffusion_coefficients()[0][0] * 0.1\n",
    "\n",
    "\n",
    "\n",
    "D_pe = (D - true_D)*100/true_D\n",
    "D = D * 10**5\n",
    "axd[\"b\"].text(0,0,f\"$D$ = {D:.1f} \" + \"[10$^{-5}$ cm s$^{-1}$]\" f\" (error = {D_pe:.1f}$\\%$)\",\n",
    "              fontsize=font_size/1.)\n",
    "\n",
    "density = np.mean(densities[1:])\n",
    "density_pe =  (density - true_density)*100/true_density\n",
    "axd[\"a\"].text(0,0,f\"$\\\\rho$ = {density:.0f} [kg/m$^{3}$] (error = {density_pe:.1f}$\\%$)\", \n",
    "              fontsize=font_size)\n",
    "axd[\"a\"].axis(\"off\")\n",
    "\n",
    "plt.savefig(f\"{logkey}_strc_trans.pdf\", bbox_inches=\"tight\")\n",
    "\n",
    "print(\"D:t,s\", true_D, D)\n",
    "print(\"den:t,s\", true_density, density)\n",
    "\n",
    "with open(f\"{logkey}_prop.csv\", \"w\") as f:\n",
    "    f.write(f\"D,dens\\n{D},{density}\\n\")\n",
    "\n"
   ]
  },
  {
   "cell_type": "code",
   "execution_count": null,
   "id": "5673cc5b-5da2-49ad-bfa3-239c1595063a",
   "metadata": {
    "papermill": {
     "duration": 0.014965,
     "end_time": "2023-05-16T12:47:43.491570",
     "exception": false,
     "start_time": "2023-05-16T12:47:43.476605",
     "status": "completed"
    },
    "tags": []
   },
   "outputs": [],
   "source": []
  },
  {
   "cell_type": "code",
   "execution_count": null,
   "id": "3f592623-19f2-43c7-8b4b-a01219a93aee",
   "metadata": {
    "papermill": {
     "duration": 0.014822,
     "end_time": "2023-05-16T12:47:43.521186",
     "exception": false,
     "start_time": "2023-05-16T12:47:43.506364",
     "status": "completed"
    },
    "tags": []
   },
   "outputs": [],
   "source": []
  },
  {
   "cell_type": "code",
   "execution_count": null,
   "id": "cf0da13a-23c7-499c-b391-090ae64d3b70",
   "metadata": {
    "papermill": {
     "duration": 0.015106,
     "end_time": "2023-05-16T12:47:43.550909",
     "exception": false,
     "start_time": "2023-05-16T12:47:43.535803",
     "status": "completed"
    },
    "tags": []
   },
   "outputs": [],
   "source": []
  },
  {
   "cell_type": "code",
   "execution_count": null,
   "id": "e300d8be-b054-4d3f-a2b1-25c7c85e7288",
   "metadata": {
    "papermill": {
     "duration": 0.014916,
     "end_time": "2023-05-16T12:47:43.581037",
     "exception": false,
     "start_time": "2023-05-16T12:47:43.566121",
     "status": "completed"
    },
    "tags": []
   },
   "outputs": [],
   "source": []
  },
  {
   "cell_type": "code",
   "execution_count": null,
   "id": "3516bbb5-2411-4be2-b170-591b632d4417",
   "metadata": {
    "papermill": {
     "duration": 0.014711,
     "end_time": "2023-05-16T12:47:43.610592",
     "exception": false,
     "start_time": "2023-05-16T12:47:43.595881",
     "status": "completed"
    },
    "tags": []
   },
   "outputs": [],
   "source": []
  },
  {
   "cell_type": "code",
   "execution_count": null,
   "id": "d2c2c1e6-006e-45a0-bccb-eb4db1e0ba41",
   "metadata": {
    "papermill": {
     "duration": 0.014896,
     "end_time": "2023-05-16T12:47:43.640363",
     "exception": false,
     "start_time": "2023-05-16T12:47:43.625467",
     "status": "completed"
    },
    "tags": []
   },
   "outputs": [],
   "source": []
  },
  {
   "cell_type": "code",
   "execution_count": null,
   "id": "19fe7809-7616-405f-bdd5-e74283f6e364",
   "metadata": {
    "papermill": {
     "duration": 0.014881,
     "end_time": "2023-05-16T12:47:43.670170",
     "exception": false,
     "start_time": "2023-05-16T12:47:43.655289",
     "status": "completed"
    },
    "tags": []
   },
   "outputs": [],
   "source": [
    "\n"
   ]
  },
  {
   "cell_type": "code",
   "execution_count": null,
   "id": "cc05cbb7-59dd-419d-82e3-82e9c0b2aad6",
   "metadata": {
    "papermill": {
     "duration": 0.014711,
     "end_time": "2023-05-16T12:47:43.699724",
     "exception": false,
     "start_time": "2023-05-16T12:47:43.685013",
     "status": "completed"
    },
    "tags": []
   },
   "outputs": [],
   "source": []
  }
 ],
 "metadata": {
  "kernelspec": {
   "display_name": "pycharmm",
   "language": "python",
   "name": "pycharmm"
  },
  "language_info": {
   "codemirror_mode": {
    "name": "ipython",
    "version": 3
   },
   "file_extension": ".py",
   "mimetype": "text/x-python",
   "name": "python",
   "nbconvert_exporter": "python",
   "pygments_lexer": "ipython3",
   "version": "3.8.16"
  },
  "papermill": {
   "default_parameters": {},
   "duration": 85.291076,
   "end_time": "2023-05-16T12:47:46.321129",
   "environment_variables": {},
   "exception": null,
   "input_path": "templates/sim_template.ipynb",
   "output_path": "out_notebooks/sims/sims4_kmdcm_water_k300.ipynb",
   "parameters": {
    "NSAVC": 1000,
    "dt": 0.0002,
    "jobpath": "/home/boittier/pcbach/sims4/kmdcm/water/k300/dynamics.log"
   },
   "start_time": "2023-05-16T12:46:21.030053",
   "version": "2.4.0"
  }
 },
 "nbformat": 4,
 "nbformat_minor": 5
}
