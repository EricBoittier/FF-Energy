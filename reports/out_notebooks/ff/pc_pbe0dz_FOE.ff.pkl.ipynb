{
 "cells": [
  {
   "cell_type": "code",
   "execution_count": 2,
   "id": "51a2cc71-403a-4961-b6be-0d0335c0c36f",
   "metadata": {
    "papermill": {
     "duration": 0.811796,
     "end_time": "2023-05-16T16:56:01.792480",
     "exception": false,
     "start_time": "2023-05-16T16:56:00.980684",
     "status": "completed"
    },
    "tags": []
   },
   "outputs": [],
   "source": [
    "from pathlib import Path\n",
    "import pandas as pd\n",
    "import matplotlib.pyplot as plt\n",
    "import seaborn as sns\n",
    "import numpy as np\n",
    "from ff_energy.ffe.utils import read_from_pickle\n",
    "import jax.numpy as jnp\n",
    "from ff_energy.ffe.plot import plot_energy_MSE, plot_ff_fit\n",
    "from ff_energy.ffe.structure import atom_key_pairs\n",
    "from ff_energy.ffe.potential import LJ, akp_indx\n",
    "from ff_energy.ffe.ff import FF\n",
    "from ff_energy.ffe.ff_fit import LJ_bound, load_ff, fit_func, fit_repeat\n",
    "from ff_energy.ffe.data import pairs_data\n",
    "from ff_energy.ffe.utils import pickle_output, read_from_pickle, str2int\n",
    "\n",
    "\n"
   ]
  },
  {
   "cell_type": "code",
   "execution_count": 20,
   "id": "19d05f34-1c6b-4229-b564-ec451028a44f",
   "metadata": {
    "papermill": {
     "duration": 0.005609,
     "end_time": "2023-05-16T16:56:01.799578",
     "exception": false,
     "start_time": "2023-05-16T16:56:01.793969",
     "status": "completed"
    },
    "tags": []
   },
   "outputs": [],
   "source": [
    "NDE = 10\n",
    "NLJ = 10\n",
    "sig_bound = (0.05, 2.5)\n",
    "ep_bound = (0.001, 0.5)\n",
    "LJ_bound = ((sig_bound), (sig_bound), (ep_bound), (ep_bound))\n",
    "DE_bound = ((sig_bound), (sig_bound), (ep_bound), (ep_bound), \n",
    "            (1, 8), (6, 20))"
   ]
  },
  {
   "cell_type": "code",
   "execution_count": 21,
   "id": "06d2180b-ab57-47fe-ab69-210cc07a06ee",
   "metadata": {
    "papermill": {
     "duration": 0.01481,
     "end_time": "2023-05-16T16:56:01.815596",
     "exception": false,
     "start_time": "2023-05-16T16:56:01.800786",
     "status": "completed"
    },
    "tags": [
     "parameters"
    ]
   },
   "outputs": [],
   "source": [
    "#  example\n",
    "# ffpkl = \"ECOL_pbe0dz_FOE.ff.pkl\""
   ]
  },
  {
   "cell_type": "code",
   "execution_count": 22,
   "id": "7da0ea63",
   "metadata": {
    "papermill": {
     "duration": 0.014914,
     "end_time": "2023-05-16T16:56:01.831734",
     "exception": false,
     "start_time": "2023-05-16T16:56:01.816820",
     "status": "completed"
    },
    "tags": [
     "injected-parameters"
    ]
   },
   "outputs": [],
   "source": [
    "# Parameters\n",
    "ffpkl = \"pc_pbe0dz_FOE.ff.pkl\"\n"
   ]
  },
  {
   "cell_type": "markdown",
   "id": "4929ade5-fae6-464f-bff0-b457e6121d28",
   "metadata": {
    "papermill": {
     "duration": 0.001318,
     "end_time": "2023-05-16T16:56:01.834307",
     "exception": false,
     "start_time": "2023-05-16T16:56:01.832989",
     "status": "completed"
    },
    "tags": []
   },
   "source": [
    "#  LJ fit\n"
   ]
  },
  {
   "cell_type": "code",
   "execution_count": 23,
   "id": "6899f6f0-095a-4be0-af80-a9eaff304995",
   "metadata": {
    "papermill": {
     "duration": 0.882757,
     "end_time": "2023-05-16T16:56:02.718303",
     "exception": false,
     "start_time": "2023-05-16T16:56:01.835546",
     "status": "completed"
    },
    "tags": []
   },
   "outputs": [
    {
     "data": {
      "text/plain": [
       "FF: LJ water_cluster ELEC harmonic first_order_energy (jax_coloumb: True)"
      ]
     },
     "execution_count": 23,
     "metadata": {},
     "output_type": "execute_result"
    }
   ],
   "source": [
    "_c = next(read_from_pickle(f\"ff/{ffpkl}\"))\n",
    "_c"
   ]
  },
  {
   "cell_type": "code",
   "execution_count": 24,
   "id": "5c0ffd7e-d07d-47c5-83a9-72bdfb455d51",
   "metadata": {
    "papermill": {
     "duration": 0.004948,
     "end_time": "2023-05-16T16:56:02.724847",
     "exception": false,
     "start_time": "2023-05-16T16:56:02.719899",
     "status": "completed"
    },
    "tags": []
   },
   "outputs": [],
   "source": [
    "# _c.targets"
   ]
  },
  {
   "cell_type": "code",
   "execution_count": 25,
   "id": "3c41100d-1ee7-4fa9-b16b-03e9af0fab04",
   "metadata": {
    "papermill": {
     "duration": 1.650307,
     "end_time": "2023-05-16T16:56:04.376632",
     "exception": false,
     "start_time": "2023-05-16T16:56:02.726325",
     "status": "completed"
    },
    "tags": []
   },
   "outputs": [
    {
     "name": "stderr",
     "output_type": "stream",
     "text": [
      "/home/boittier/Documents/phd/ff_energy/ff_energy/ffe/ff_fit.py:174: OptimizeWarning: Unknown solver options: pgtol\n",
      "  res = minimize(\n"
     ]
    }
   ],
   "source": [
    "fit_repeat(_c, \n",
    "           NLJ, \n",
    "           f\"{ffpkl}_LJ\",\n",
    "           bounds = LJ_bound,\n",
    "           loss=\"jax\",\n",
    "           quiet='true'\n",
    "          )"
   ]
  },
  {
   "cell_type": "code",
   "execution_count": 26,
   "id": "c2babd82-4ded-4e51-a5d5-49437f6d8f41",
   "metadata": {
    "papermill": {
     "duration": 0.017836,
     "end_time": "2023-05-16T16:56:04.396143",
     "exception": false,
     "start_time": "2023-05-16T16:56:04.378307",
     "status": "completed"
    },
    "tags": []
   },
   "outputs": [
    {
     "data": {
      "text/html": [
       "<div>\n",
       "<style scoped>\n",
       "    .dataframe tbody tr th:only-of-type {\n",
       "        vertical-align: middle;\n",
       "    }\n",
       "\n",
       "    .dataframe tbody tr th {\n",
       "        vertical-align: top;\n",
       "    }\n",
       "\n",
       "    .dataframe thead th {\n",
       "        text-align: right;\n",
       "    }\n",
       "</style>\n",
       "<table border=\"1\" class=\"dataframe\">\n",
       "  <thead>\n",
       "    <tr style=\"text-align: right;\">\n",
       "      <th></th>\n",
       "      <th>fun</th>\n",
       "      <th>nit</th>\n",
       "      <th>nfev</th>\n",
       "      <th>status</th>\n",
       "      <th>success</th>\n",
       "      <th>message</th>\n",
       "      <th>x</th>\n",
       "      <th>final_simplex</th>\n",
       "    </tr>\n",
       "  </thead>\n",
       "  <tbody>\n",
       "    <tr>\n",
       "      <th>1</th>\n",
       "      <td>15.818173</td>\n",
       "      <td>761</td>\n",
       "      <td>1306</td>\n",
       "      <td>0</td>\n",
       "      <td>True</td>\n",
       "      <td>Optimization terminated successfully.</td>\n",
       "      <td>[0.7814906984824092, 2.4151860942057897, 0.001...</td>\n",
       "      <td>([[0.7814906984824092, 2.4151860942057897, 0.0...</td>\n",
       "    </tr>\n",
       "    <tr>\n",
       "      <th>5</th>\n",
       "      <td>16.368975</td>\n",
       "      <td>668</td>\n",
       "      <td>1150</td>\n",
       "      <td>0</td>\n",
       "      <td>True</td>\n",
       "      <td>Optimization terminated successfully.</td>\n",
       "      <td>[0.07199135183310364, 2.5, 0.25773598762695793...</td>\n",
       "      <td>([[0.07199135183310364, 2.5, 0.257735987626957...</td>\n",
       "    </tr>\n",
       "    <tr>\n",
       "      <th>4</th>\n",
       "      <td>16.448004</td>\n",
       "      <td>830</td>\n",
       "      <td>1414</td>\n",
       "      <td>0</td>\n",
       "      <td>True</td>\n",
       "      <td>Optimization terminated successfully.</td>\n",
       "      <td>[0.05000922558293672, 2.4963095272407907, 0.34...</td>\n",
       "      <td>([[0.05000922558293672, 2.4963095272407907, 0....</td>\n",
       "    </tr>\n",
       "    <tr>\n",
       "      <th>8</th>\n",
       "      <td>16.622938</td>\n",
       "      <td>359</td>\n",
       "      <td>640</td>\n",
       "      <td>0</td>\n",
       "      <td>True</td>\n",
       "      <td>Optimization terminated successfully.</td>\n",
       "      <td>[0.05, 2.445000380509922, 0.42639405360183547,...</td>\n",
       "      <td>([[0.05, 2.445000380509922, 0.4263940536018354...</td>\n",
       "    </tr>\n",
       "    <tr>\n",
       "      <th>9</th>\n",
       "      <td>36.560619</td>\n",
       "      <td>180</td>\n",
       "      <td>335</td>\n",
       "      <td>0</td>\n",
       "      <td>True</td>\n",
       "      <td>Optimization terminated successfully.</td>\n",
       "      <td>[0.7790504630173785, 1.8205451552485727, 0.001...</td>\n",
       "      <td>([[0.7790504630173785, 1.8205451552485727, 0.0...</td>\n",
       "    </tr>\n",
       "    <tr>\n",
       "      <th>3</th>\n",
       "      <td>80.613953</td>\n",
       "      <td>406</td>\n",
       "      <td>738</td>\n",
       "      <td>0</td>\n",
       "      <td>True</td>\n",
       "      <td>Optimization terminated successfully.</td>\n",
       "      <td>[1.7343119703913188, 1.52595574487715, 0.00105...</td>\n",
       "      <td>([[1.7343119703913188, 1.52595574487715, 0.001...</td>\n",
       "    </tr>\n",
       "    <tr>\n",
       "      <th>0</th>\n",
       "      <td>6309.811035</td>\n",
       "      <td>57</td>\n",
       "      <td>156</td>\n",
       "      <td>0</td>\n",
       "      <td>True</td>\n",
       "      <td>Optimization terminated successfully.</td>\n",
       "      <td>[0.05, 0.05755641610501444, 0.5, 0.17113604246...</td>\n",
       "      <td>([[0.05, 0.05755641610501444, 0.5, 0.171136042...</td>\n",
       "    </tr>\n",
       "    <tr>\n",
       "      <th>2</th>\n",
       "      <td>6309.811035</td>\n",
       "      <td>52</td>\n",
       "      <td>160</td>\n",
       "      <td>0</td>\n",
       "      <td>True</td>\n",
       "      <td>Optimization terminated successfully.</td>\n",
       "      <td>[0.06230622671666941, 0.05, 0.5, 0.39784159279...</td>\n",
       "      <td>([[0.06230622671666941, 0.05, 0.5, 0.397841592...</td>\n",
       "    </tr>\n",
       "    <tr>\n",
       "      <th>6</th>\n",
       "      <td>6309.811035</td>\n",
       "      <td>63</td>\n",
       "      <td>173</td>\n",
       "      <td>0</td>\n",
       "      <td>True</td>\n",
       "      <td>Optimization terminated successfully.</td>\n",
       "      <td>[0.06076885020934003, 0.05, 0.5, 0.35422315764...</td>\n",
       "      <td>([[0.06076885020934003, 0.05, 0.5, 0.354223157...</td>\n",
       "    </tr>\n",
       "    <tr>\n",
       "      <th>7</th>\n",
       "      <td>6309.811035</td>\n",
       "      <td>41</td>\n",
       "      <td>134</td>\n",
       "      <td>0</td>\n",
       "      <td>True</td>\n",
       "      <td>Optimization terminated successfully.</td>\n",
       "      <td>[0.050000000000000044, 0.06956792078475305, 0....</td>\n",
       "      <td>([[0.050000000000000044, 0.06956792078475305, ...</td>\n",
       "    </tr>\n",
       "  </tbody>\n",
       "</table>\n",
       "</div>"
      ],
      "text/plain": [
       "           fun  nit  nfev  status  success  \\\n",
       "1    15.818173  761  1306       0     True   \n",
       "5    16.368975  668  1150       0     True   \n",
       "4    16.448004  830  1414       0     True   \n",
       "8    16.622938  359   640       0     True   \n",
       "9    36.560619  180   335       0     True   \n",
       "3    80.613953  406   738       0     True   \n",
       "0  6309.811035   57   156       0     True   \n",
       "2  6309.811035   52   160       0     True   \n",
       "6  6309.811035   63   173       0     True   \n",
       "7  6309.811035   41   134       0     True   \n",
       "\n",
       "                                 message  \\\n",
       "1  Optimization terminated successfully.   \n",
       "5  Optimization terminated successfully.   \n",
       "4  Optimization terminated successfully.   \n",
       "8  Optimization terminated successfully.   \n",
       "9  Optimization terminated successfully.   \n",
       "3  Optimization terminated successfully.   \n",
       "0  Optimization terminated successfully.   \n",
       "2  Optimization terminated successfully.   \n",
       "6  Optimization terminated successfully.   \n",
       "7  Optimization terminated successfully.   \n",
       "\n",
       "                                                   x  \\\n",
       "1  [0.7814906984824092, 2.4151860942057897, 0.001...   \n",
       "5  [0.07199135183310364, 2.5, 0.25773598762695793...   \n",
       "4  [0.05000922558293672, 2.4963095272407907, 0.34...   \n",
       "8  [0.05, 2.445000380509922, 0.42639405360183547,...   \n",
       "9  [0.7790504630173785, 1.8205451552485727, 0.001...   \n",
       "3  [1.7343119703913188, 1.52595574487715, 0.00105...   \n",
       "0  [0.05, 0.05755641610501444, 0.5, 0.17113604246...   \n",
       "2  [0.06230622671666941, 0.05, 0.5, 0.39784159279...   \n",
       "6  [0.06076885020934003, 0.05, 0.5, 0.35422315764...   \n",
       "7  [0.050000000000000044, 0.06956792078475305, 0....   \n",
       "\n",
       "                                       final_simplex  \n",
       "1  ([[0.7814906984824092, 2.4151860942057897, 0.0...  \n",
       "5  ([[0.07199135183310364, 2.5, 0.257735987626957...  \n",
       "4  ([[0.05000922558293672, 2.4963095272407907, 0....  \n",
       "8  ([[0.05, 2.445000380509922, 0.4263940536018354...  \n",
       "9  ([[0.7790504630173785, 1.8205451552485727, 0.0...  \n",
       "3  ([[1.7343119703913188, 1.52595574487715, 0.001...  \n",
       "0  ([[0.05, 0.05755641610501444, 0.5, 0.171136042...  \n",
       "2  ([[0.06230622671666941, 0.05, 0.5, 0.397841592...  \n",
       "6  ([[0.06076885020934003, 0.05, 0.5, 0.354223157...  \n",
       "7  ([[0.050000000000000044, 0.06956792078475305, ...  "
      ]
     },
     "execution_count": 26,
     "metadata": {},
     "output_type": "execute_result"
    }
   ],
   "source": [
    "pd.DataFrame(_c.opt_results).sort_values(\"fun\")"
   ]
  },
  {
   "cell_type": "markdown",
   "id": "3ee71679-1ff0-454b-8d80-94dbec05e2d6",
   "metadata": {
    "papermill": {
     "duration": 0.002071,
     "end_time": "2023-05-16T16:56:04.399773",
     "exception": false,
     "start_time": "2023-05-16T16:56:04.397702",
     "status": "completed"
    },
    "tags": []
   },
   "source": [
    "#  DE fit\n"
   ]
  },
  {
   "cell_type": "code",
   "execution_count": 27,
   "id": "5dcbe52f-bf23-4e82-8958-845cd1584ea3",
   "metadata": {
    "papermill": {
     "duration": 0.872671,
     "end_time": "2023-05-16T16:56:05.273902",
     "exception": false,
     "start_time": "2023-05-16T16:56:04.401231",
     "status": "completed"
    },
    "tags": []
   },
   "outputs": [],
   "source": [
    "_c = next(read_from_pickle(f\"ff/{ffpkl}\"))"
   ]
  },
  {
   "cell_type": "code",
   "execution_count": 28,
   "id": "4ef7f9a4-0011-44ed-942e-111587ccba3f",
   "metadata": {
    "papermill": {
     "duration": 3.567359,
     "end_time": "2023-05-16T16:56:08.843105",
     "exception": false,
     "start_time": "2023-05-16T16:56:05.275746",
     "status": "completed"
    },
    "tags": []
   },
   "outputs": [
    {
     "name": "stderr",
     "output_type": "stream",
     "text": [
      "/home/boittier/Documents/phd/ff_energy/ff_energy/ffe/ff_fit.py:174: OptimizeWarning: Unknown solver options: pgtol\n",
      "  res = minimize(\n"
     ]
    }
   ],
   "source": [
    "fit_repeat(_c, \n",
    "           NDE, \n",
    "           \"test\",\n",
    "           bounds = DE_bound,\n",
    "           loss=\"jax_de\",\n",
    "           quiet='true'\n",
    "          )"
   ]
  },
  {
   "cell_type": "code",
   "execution_count": 29,
   "id": "f7323a6b-2cfa-4956-900b-641a96aa0bb2",
   "metadata": {
    "papermill": {
     "duration": 0.01091,
     "end_time": "2023-05-16T16:56:08.855943",
     "exception": false,
     "start_time": "2023-05-16T16:56:08.845033",
     "status": "completed"
    },
    "tags": []
   },
   "outputs": [
    {
     "data": {
      "text/html": [
       "<div>\n",
       "<style scoped>\n",
       "    .dataframe tbody tr th:only-of-type {\n",
       "        vertical-align: middle;\n",
       "    }\n",
       "\n",
       "    .dataframe tbody tr th {\n",
       "        vertical-align: top;\n",
       "    }\n",
       "\n",
       "    .dataframe thead th {\n",
       "        text-align: right;\n",
       "    }\n",
       "</style>\n",
       "<table border=\"1\" class=\"dataframe\">\n",
       "  <thead>\n",
       "    <tr style=\"text-align: right;\">\n",
       "      <th></th>\n",
       "      <th>fun</th>\n",
       "      <th>nit</th>\n",
       "      <th>nfev</th>\n",
       "      <th>status</th>\n",
       "      <th>success</th>\n",
       "      <th>message</th>\n",
       "      <th>x</th>\n",
       "      <th>final_simplex</th>\n",
       "    </tr>\n",
       "  </thead>\n",
       "  <tbody>\n",
       "    <tr>\n",
       "      <th>7</th>\n",
       "      <td>12.099141</td>\n",
       "      <td>2212</td>\n",
       "      <td>3497</td>\n",
       "      <td>0</td>\n",
       "      <td>True</td>\n",
       "      <td>Optimization terminated successfully.</td>\n",
       "      <td>[0.43406473249619193, 2.5, 0.12322434422358758...</td>\n",
       "      <td>([[0.43406473249619193, 2.5, 0.123224344223587...</td>\n",
       "    </tr>\n",
       "    <tr>\n",
       "      <th>4</th>\n",
       "      <td>22.465603</td>\n",
       "      <td>579</td>\n",
       "      <td>1001</td>\n",
       "      <td>0</td>\n",
       "      <td>True</td>\n",
       "      <td>Optimization terminated successfully.</td>\n",
       "      <td>[1.4906903034768606, 1.8220494210674105, 0.001...</td>\n",
       "      <td>([[1.4906903034768606, 1.8220494210674105, 0.0...</td>\n",
       "    </tr>\n",
       "    <tr>\n",
       "      <th>5</th>\n",
       "      <td>29.748878</td>\n",
       "      <td>697</td>\n",
       "      <td>1168</td>\n",
       "      <td>0</td>\n",
       "      <td>True</td>\n",
       "      <td>Optimization terminated successfully.</td>\n",
       "      <td>[2.0676642234810814, 1.6310864005739394, 0.008...</td>\n",
       "      <td>([[2.0676642234810814, 1.6310864005739394, 0.0...</td>\n",
       "    </tr>\n",
       "    <tr>\n",
       "      <th>0</th>\n",
       "      <td>30.708630</td>\n",
       "      <td>875</td>\n",
       "      <td>1474</td>\n",
       "      <td>0</td>\n",
       "      <td>True</td>\n",
       "      <td>Optimization terminated successfully.</td>\n",
       "      <td>[1.1212935286104613, 2.0048895575537795, 0.008...</td>\n",
       "      <td>([[1.1212935286104613, 2.0048895575537795, 0.0...</td>\n",
       "    </tr>\n",
       "    <tr>\n",
       "      <th>2</th>\n",
       "      <td>31.311090</td>\n",
       "      <td>1150</td>\n",
       "      <td>1860</td>\n",
       "      <td>0</td>\n",
       "      <td>True</td>\n",
       "      <td>Optimization terminated successfully.</td>\n",
       "      <td>[2.5, 1.677489497762388, 0.001000003782763078,...</td>\n",
       "      <td>([[2.5, 1.677489497762388, 0.00100000378276307...</td>\n",
       "    </tr>\n",
       "    <tr>\n",
       "      <th>3</th>\n",
       "      <td>138.358719</td>\n",
       "      <td>784</td>\n",
       "      <td>1281</td>\n",
       "      <td>0</td>\n",
       "      <td>True</td>\n",
       "      <td>Optimization terminated successfully.</td>\n",
       "      <td>[2.4608242734299077, 0.05, 0.01192326575964723...</td>\n",
       "      <td>([[2.4608242734299077, 0.05, 0.011923265759647...</td>\n",
       "    </tr>\n",
       "    <tr>\n",
       "      <th>6</th>\n",
       "      <td>172.208374</td>\n",
       "      <td>608</td>\n",
       "      <td>1031</td>\n",
       "      <td>0</td>\n",
       "      <td>True</td>\n",
       "      <td>Optimization terminated successfully.</td>\n",
       "      <td>[2.499999648123449, 0.05, 0.029897716083666502...</td>\n",
       "      <td>([[2.499999648123449, 0.05, 0.0298977160836665...</td>\n",
       "    </tr>\n",
       "    <tr>\n",
       "      <th>1</th>\n",
       "      <td>6309.811035</td>\n",
       "      <td>63</td>\n",
       "      <td>238</td>\n",
       "      <td>0</td>\n",
       "      <td>True</td>\n",
       "      <td>Optimization terminated successfully.</td>\n",
       "      <td>[0.131686342140714, 0.1623014250440108, 0.2486...</td>\n",
       "      <td>([[0.131686342140714, 0.1623014250440108, 0.24...</td>\n",
       "    </tr>\n",
       "    <tr>\n",
       "      <th>8</th>\n",
       "      <td>6309.811035</td>\n",
       "      <td>36</td>\n",
       "      <td>186</td>\n",
       "      <td>0</td>\n",
       "      <td>True</td>\n",
       "      <td>Optimization terminated successfully.</td>\n",
       "      <td>[0.3076964950101234, 0.26914206835296206, 0.47...</td>\n",
       "      <td>([[0.3076964950101234, 0.26914206835296206, 0....</td>\n",
       "    </tr>\n",
       "    <tr>\n",
       "      <th>9</th>\n",
       "      <td>6309.811035</td>\n",
       "      <td>42</td>\n",
       "      <td>189</td>\n",
       "      <td>0</td>\n",
       "      <td>True</td>\n",
       "      <td>Optimization terminated successfully.</td>\n",
       "      <td>[0.08149029599673907, 0.05987892185858845, 0.1...</td>\n",
       "      <td>([[0.08149029599673907, 0.05987892185858845, 0...</td>\n",
       "    </tr>\n",
       "  </tbody>\n",
       "</table>\n",
       "</div>"
      ],
      "text/plain": [
       "           fun   nit  nfev  status  success  \\\n",
       "7    12.099141  2212  3497       0     True   \n",
       "4    22.465603   579  1001       0     True   \n",
       "5    29.748878   697  1168       0     True   \n",
       "0    30.708630   875  1474       0     True   \n",
       "2    31.311090  1150  1860       0     True   \n",
       "3   138.358719   784  1281       0     True   \n",
       "6   172.208374   608  1031       0     True   \n",
       "1  6309.811035    63   238       0     True   \n",
       "8  6309.811035    36   186       0     True   \n",
       "9  6309.811035    42   189       0     True   \n",
       "\n",
       "                                 message  \\\n",
       "7  Optimization terminated successfully.   \n",
       "4  Optimization terminated successfully.   \n",
       "5  Optimization terminated successfully.   \n",
       "0  Optimization terminated successfully.   \n",
       "2  Optimization terminated successfully.   \n",
       "3  Optimization terminated successfully.   \n",
       "6  Optimization terminated successfully.   \n",
       "1  Optimization terminated successfully.   \n",
       "8  Optimization terminated successfully.   \n",
       "9  Optimization terminated successfully.   \n",
       "\n",
       "                                                   x  \\\n",
       "7  [0.43406473249619193, 2.5, 0.12322434422358758...   \n",
       "4  [1.4906903034768606, 1.8220494210674105, 0.001...   \n",
       "5  [2.0676642234810814, 1.6310864005739394, 0.008...   \n",
       "0  [1.1212935286104613, 2.0048895575537795, 0.008...   \n",
       "2  [2.5, 1.677489497762388, 0.001000003782763078,...   \n",
       "3  [2.4608242734299077, 0.05, 0.01192326575964723...   \n",
       "6  [2.499999648123449, 0.05, 0.029897716083666502...   \n",
       "1  [0.131686342140714, 0.1623014250440108, 0.2486...   \n",
       "8  [0.3076964950101234, 0.26914206835296206, 0.47...   \n",
       "9  [0.08149029599673907, 0.05987892185858845, 0.1...   \n",
       "\n",
       "                                       final_simplex  \n",
       "7  ([[0.43406473249619193, 2.5, 0.123224344223587...  \n",
       "4  ([[1.4906903034768606, 1.8220494210674105, 0.0...  \n",
       "5  ([[2.0676642234810814, 1.6310864005739394, 0.0...  \n",
       "0  ([[1.1212935286104613, 2.0048895575537795, 0.0...  \n",
       "2  ([[2.5, 1.677489497762388, 0.00100000378276307...  \n",
       "3  ([[2.4608242734299077, 0.05, 0.011923265759647...  \n",
       "6  ([[2.499999648123449, 0.05, 0.0298977160836665...  \n",
       "1  ([[0.131686342140714, 0.1623014250440108, 0.24...  \n",
       "8  ([[0.3076964950101234, 0.26914206835296206, 0....  \n",
       "9  ([[0.08149029599673907, 0.05987892185858845, 0...  "
      ]
     },
     "execution_count": 29,
     "metadata": {},
     "output_type": "execute_result"
    }
   ],
   "source": [
    "pd.DataFrame(_c.opt_results).sort_values(\"fun\")"
   ]
  },
  {
   "cell_type": "code",
   "execution_count": null,
   "id": "242da085-5e5c-42a4-b5ad-0764c9d955dc",
   "metadata": {
    "papermill": {
     "duration": 0.001718,
     "end_time": "2023-05-16T16:56:08.859351",
     "exception": false,
     "start_time": "2023-05-16T16:56:08.857633",
     "status": "completed"
    },
    "tags": []
   },
   "outputs": [],
   "source": []
  }
 ],
 "metadata": {
  "kernelspec": {
   "display_name": "pycharmm",
   "language": "python",
   "name": "pycharmm"
  },
  "language_info": {
   "codemirror_mode": {
    "name": "ipython",
    "version": 3
   },
   "file_extension": ".py",
   "mimetype": "text/x-python",
   "name": "python",
   "nbconvert_exporter": "python",
   "pygments_lexer": "ipython3",
   "version": "3.8.16"
  },
  "papermill": {
   "default_parameters": {},
   "duration": 9.421183,
   "end_time": "2023-05-16T16:56:09.465804",
   "environment_variables": {},
   "exception": null,
   "input_path": "templates/ff_template.ipynb",
   "output_path": "out_notebooks/ff/pc_pbe0dz_FOE.ff.pkl.ipynb",
   "parameters": {
    "ffpkl": "pc_pbe0dz_FOE.ff.pkl"
   },
   "start_time": "2023-05-16T16:56:00.044621",
   "version": "2.4.0"
  }
 },
 "nbformat": 4,
 "nbformat_minor": 5
}
