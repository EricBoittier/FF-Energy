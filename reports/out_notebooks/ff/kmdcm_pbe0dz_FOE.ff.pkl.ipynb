{
 "cells": [
  {
   "cell_type": "code",
   "execution_count": 1,
   "id": "51a2cc71-403a-4961-b6be-0d0335c0c36f",
   "metadata": {
    "papermill": {
     "duration": 0.782517,
     "end_time": "2023-05-16T16:58:45.388908",
     "exception": false,
     "start_time": "2023-05-16T16:58:44.606391",
     "status": "completed"
    },
    "tags": []
   },
   "outputs": [],
   "source": [
    "from pathlib import Path\n",
    "import pandas as pd\n",
    "import matplotlib.pyplot as plt\n",
    "import seaborn as sns\n",
    "import numpy as np\n",
    "from ff_energy.ffe.utils import read_from_pickle\n",
    "import jax.numpy as jnp\n",
    "from ff_energy.ffe.plot import plot_energy_MSE, plot_ff_fit\n",
    "from ff_energy.ffe.structure import atom_key_pairs\n",
    "from ff_energy.ffe.potential import LJ, akp_indx\n",
    "from ff_energy.ffe.ff import FF\n",
    "from ff_energy.ffe.ff_fit import LJ_bound, load_ff, fit_func, fit_repeat\n",
    "from ff_energy.ffe.data import pairs_data\n",
    "from ff_energy.ffe.utils import pickle_output, read_from_pickle, str2int\n",
    "\n",
    "\n"
   ]
  },
  {
   "cell_type": "code",
   "execution_count": 17,
   "id": "19d05f34-1c6b-4229-b564-ec451028a44f",
   "metadata": {
    "papermill": {
     "duration": 0.012193,
     "end_time": "2023-05-16T16:58:45.402626",
     "exception": false,
     "start_time": "2023-05-16T16:58:45.390433",
     "status": "completed"
    },
    "tags": []
   },
   "outputs": [],
   "source": [
    "NDE = 10\n",
    "NLJ = 10\n",
    "sig_bound = (0.05, 2.5)\n",
    "ep_bound = (0.001, 0.5)\n",
    "LJ_bound = ((sig_bound), (sig_bound), (ep_bound), (ep_bound))\n",
    "DE_bound = ((sig_bound), (sig_bound), (ep_bound), (ep_bound), \n",
    "            (1, 8), (6, 20))"
   ]
  },
  {
   "cell_type": "code",
   "execution_count": 18,
   "id": "06d2180b-ab57-47fe-ab69-210cc07a06ee",
   "metadata": {
    "papermill": {
     "duration": 0.015491,
     "end_time": "2023-05-16T16:58:45.419330",
     "exception": false,
     "start_time": "2023-05-16T16:58:45.403839",
     "status": "completed"
    },
    "tags": [
     "parameters"
    ]
   },
   "outputs": [],
   "source": [
    "#  example\n",
    "# ffpkl = \"ECOL_pbe0dz_FOE.ff.pkl\""
   ]
  },
  {
   "cell_type": "code",
   "execution_count": 19,
   "id": "6ebb17f4",
   "metadata": {
    "papermill": {
     "duration": 0.014926,
     "end_time": "2023-05-16T16:58:45.435425",
     "exception": false,
     "start_time": "2023-05-16T16:58:45.420499",
     "status": "completed"
    },
    "tags": [
     "injected-parameters"
    ]
   },
   "outputs": [],
   "source": [
    "# Parameters\n",
    "ffpkl = \"kmdcm_pbe0dz_FOE.ff.pkl\"\n"
   ]
  },
  {
   "cell_type": "markdown",
   "id": "4929ade5-fae6-464f-bff0-b457e6121d28",
   "metadata": {
    "papermill": {
     "duration": 0.001311,
     "end_time": "2023-05-16T16:58:45.438030",
     "exception": false,
     "start_time": "2023-05-16T16:58:45.436719",
     "status": "completed"
    },
    "tags": []
   },
   "source": [
    "#  LJ fit\n"
   ]
  },
  {
   "cell_type": "code",
   "execution_count": 20,
   "id": "6899f6f0-095a-4be0-af80-a9eaff304995",
   "metadata": {
    "papermill": {
     "duration": 1.018798,
     "end_time": "2023-05-16T16:58:46.458151",
     "exception": false,
     "start_time": "2023-05-16T16:58:45.439353",
     "status": "completed"
    },
    "tags": []
   },
   "outputs": [
    {
     "data": {
      "text/plain": [
       "FF: LJ water_cluster ELEC harmonic first_order_energy (jax_coloumb: True)"
      ]
     },
     "execution_count": 20,
     "metadata": {},
     "output_type": "execute_result"
    }
   ],
   "source": [
    "_c = next(read_from_pickle(f\"ff/{ffpkl}\"))\n",
    "_c"
   ]
  },
  {
   "cell_type": "code",
   "execution_count": 21,
   "id": "5c0ffd7e-d07d-47c5-83a9-72bdfb455d51",
   "metadata": {
    "papermill": {
     "duration": 0.004885,
     "end_time": "2023-05-16T16:58:46.465057",
     "exception": false,
     "start_time": "2023-05-16T16:58:46.460172",
     "status": "completed"
    },
    "tags": []
   },
   "outputs": [],
   "source": [
    "# _c.targets"
   ]
  },
  {
   "cell_type": "code",
   "execution_count": 22,
   "id": "3c41100d-1ee7-4fa9-b16b-03e9af0fab04",
   "metadata": {
    "papermill": {
     "duration": 2.877912,
     "end_time": "2023-05-16T16:58:49.344383",
     "exception": false,
     "start_time": "2023-05-16T16:58:46.466471",
     "status": "completed"
    },
    "tags": []
   },
   "outputs": [
    {
     "name": "stderr",
     "output_type": "stream",
     "text": [
      "/home/boittier/Documents/phd/ff_energy/ff_energy/ffe/ff_fit.py:174: OptimizeWarning: Unknown solver options: pgtol\n",
      "  res = minimize(\n"
     ]
    }
   ],
   "source": [
    "fit_repeat(_c, \n",
    "           NLJ, \n",
    "           f\"{ffpkl}_LJ\",\n",
    "           bounds = LJ_bound,\n",
    "           loss=\"jax\",\n",
    "           quiet='true'\n",
    "          )"
   ]
  },
  {
   "cell_type": "code",
   "execution_count": 23,
   "id": "c2babd82-4ded-4e51-a5d5-49437f6d8f41",
   "metadata": {
    "papermill": {
     "duration": 0.014543,
     "end_time": "2023-05-16T16:58:49.361022",
     "exception": false,
     "start_time": "2023-05-16T16:58:49.346479",
     "status": "completed"
    },
    "tags": []
   },
   "outputs": [
    {
     "data": {
      "text/html": [
       "<div>\n",
       "<style scoped>\n",
       "    .dataframe tbody tr th:only-of-type {\n",
       "        vertical-align: middle;\n",
       "    }\n",
       "\n",
       "    .dataframe tbody tr th {\n",
       "        vertical-align: top;\n",
       "    }\n",
       "\n",
       "    .dataframe thead th {\n",
       "        text-align: right;\n",
       "    }\n",
       "</style>\n",
       "<table border=\"1\" class=\"dataframe\">\n",
       "  <thead>\n",
       "    <tr style=\"text-align: right;\">\n",
       "      <th></th>\n",
       "      <th>fun</th>\n",
       "      <th>nit</th>\n",
       "      <th>nfev</th>\n",
       "      <th>status</th>\n",
       "      <th>success</th>\n",
       "      <th>message</th>\n",
       "      <th>x</th>\n",
       "      <th>final_simplex</th>\n",
       "    </tr>\n",
       "  </thead>\n",
       "  <tbody>\n",
       "    <tr>\n",
       "      <th>6</th>\n",
       "      <td>18.095881</td>\n",
       "      <td>676</td>\n",
       "      <td>1169</td>\n",
       "      <td>0</td>\n",
       "      <td>True</td>\n",
       "      <td>Optimization terminated successfully.</td>\n",
       "      <td>[0.7079326727067781, 2.495026644804957, 0.0010...</td>\n",
       "      <td>([[0.7079326727067781, 2.495026644804957, 0.00...</td>\n",
       "    </tr>\n",
       "    <tr>\n",
       "      <th>5</th>\n",
       "      <td>18.231602</td>\n",
       "      <td>787</td>\n",
       "      <td>1343</td>\n",
       "      <td>0</td>\n",
       "      <td>True</td>\n",
       "      <td>Optimization terminated successfully.</td>\n",
       "      <td>[0.547484215886817, 2.5, 0.003561161564913339,...</td>\n",
       "      <td>([[0.547484215886817, 2.5, 0.00356116156491333...</td>\n",
       "    </tr>\n",
       "    <tr>\n",
       "      <th>7</th>\n",
       "      <td>18.334091</td>\n",
       "      <td>752</td>\n",
       "      <td>1288</td>\n",
       "      <td>0</td>\n",
       "      <td>True</td>\n",
       "      <td>Optimization terminated successfully.</td>\n",
       "      <td>[0.7515402870377843, 2.3568970546176278, 0.001...</td>\n",
       "      <td>([[0.7515402870377843, 2.3568970546176278, 0.0...</td>\n",
       "    </tr>\n",
       "    <tr>\n",
       "      <th>4</th>\n",
       "      <td>19.023872</td>\n",
       "      <td>465</td>\n",
       "      <td>803</td>\n",
       "      <td>0</td>\n",
       "      <td>True</td>\n",
       "      <td>Optimization terminated successfully.</td>\n",
       "      <td>[0.1456369825487122, 2.4999999968086404, 0.101...</td>\n",
       "      <td>([[0.1456369825487122, 2.4999999968086404, 0.1...</td>\n",
       "    </tr>\n",
       "    <tr>\n",
       "      <th>3</th>\n",
       "      <td>19.132883</td>\n",
       "      <td>714</td>\n",
       "      <td>1211</td>\n",
       "      <td>0</td>\n",
       "      <td>True</td>\n",
       "      <td>Optimization terminated successfully.</td>\n",
       "      <td>[0.11002068210183372, 2.499999905923318, 0.129...</td>\n",
       "      <td>([[0.11002068210183372, 2.499999905923318, 0.1...</td>\n",
       "    </tr>\n",
       "    <tr>\n",
       "      <th>1</th>\n",
       "      <td>20.915262</td>\n",
       "      <td>488</td>\n",
       "      <td>827</td>\n",
       "      <td>0</td>\n",
       "      <td>True</td>\n",
       "      <td>Optimization terminated successfully.</td>\n",
       "      <td>[0.05000000000000003, 2.374431012915543, 0.5, ...</td>\n",
       "      <td>([[0.05000000000000003, 2.374431012915543, 0.5...</td>\n",
       "    </tr>\n",
       "    <tr>\n",
       "      <th>0</th>\n",
       "      <td>134.150162</td>\n",
       "      <td>290</td>\n",
       "      <td>529</td>\n",
       "      <td>0</td>\n",
       "      <td>True</td>\n",
       "      <td>Optimization terminated successfully.</td>\n",
       "      <td>[1.7589109905785407, 1.3214693161425324, 0.001...</td>\n",
       "      <td>([[1.7589109905785407, 1.3214693161425324, 0.0...</td>\n",
       "    </tr>\n",
       "    <tr>\n",
       "      <th>9</th>\n",
       "      <td>162.699814</td>\n",
       "      <td>295</td>\n",
       "      <td>518</td>\n",
       "      <td>0</td>\n",
       "      <td>True</td>\n",
       "      <td>Optimization terminated successfully.</td>\n",
       "      <td>[1.8071108696025608, 1.0989013642382768, 0.001...</td>\n",
       "      <td>([[1.8071108696025608, 1.0989013642382768, 0.0...</td>\n",
       "    </tr>\n",
       "    <tr>\n",
       "      <th>2</th>\n",
       "      <td>8074.825684</td>\n",
       "      <td>51</td>\n",
       "      <td>152</td>\n",
       "      <td>0</td>\n",
       "      <td>True</td>\n",
       "      <td>Optimization terminated successfully.</td>\n",
       "      <td>[0.08850058592580834, 0.05, 0.0914911889625608...</td>\n",
       "      <td>([[0.08850058592580834, 0.05, 0.09149118896256...</td>\n",
       "    </tr>\n",
       "    <tr>\n",
       "      <th>8</th>\n",
       "      <td>8074.825684</td>\n",
       "      <td>51</td>\n",
       "      <td>160</td>\n",
       "      <td>0</td>\n",
       "      <td>True</td>\n",
       "      <td>Optimization terminated successfully.</td>\n",
       "      <td>[0.054369236451822844, 0.0743765904674521, 0.3...</td>\n",
       "      <td>([[0.054369236451822844, 0.0743765904674521, 0...</td>\n",
       "    </tr>\n",
       "  </tbody>\n",
       "</table>\n",
       "</div>"
      ],
      "text/plain": [
       "           fun  nit  nfev  status  success  \\\n",
       "6    18.095881  676  1169       0     True   \n",
       "5    18.231602  787  1343       0     True   \n",
       "7    18.334091  752  1288       0     True   \n",
       "4    19.023872  465   803       0     True   \n",
       "3    19.132883  714  1211       0     True   \n",
       "1    20.915262  488   827       0     True   \n",
       "0   134.150162  290   529       0     True   \n",
       "9   162.699814  295   518       0     True   \n",
       "2  8074.825684   51   152       0     True   \n",
       "8  8074.825684   51   160       0     True   \n",
       "\n",
       "                                 message  \\\n",
       "6  Optimization terminated successfully.   \n",
       "5  Optimization terminated successfully.   \n",
       "7  Optimization terminated successfully.   \n",
       "4  Optimization terminated successfully.   \n",
       "3  Optimization terminated successfully.   \n",
       "1  Optimization terminated successfully.   \n",
       "0  Optimization terminated successfully.   \n",
       "9  Optimization terminated successfully.   \n",
       "2  Optimization terminated successfully.   \n",
       "8  Optimization terminated successfully.   \n",
       "\n",
       "                                                   x  \\\n",
       "6  [0.7079326727067781, 2.495026644804957, 0.0010...   \n",
       "5  [0.547484215886817, 2.5, 0.003561161564913339,...   \n",
       "7  [0.7515402870377843, 2.3568970546176278, 0.001...   \n",
       "4  [0.1456369825487122, 2.4999999968086404, 0.101...   \n",
       "3  [0.11002068210183372, 2.499999905923318, 0.129...   \n",
       "1  [0.05000000000000003, 2.374431012915543, 0.5, ...   \n",
       "0  [1.7589109905785407, 1.3214693161425324, 0.001...   \n",
       "9  [1.8071108696025608, 1.0989013642382768, 0.001...   \n",
       "2  [0.08850058592580834, 0.05, 0.0914911889625608...   \n",
       "8  [0.054369236451822844, 0.0743765904674521, 0.3...   \n",
       "\n",
       "                                       final_simplex  \n",
       "6  ([[0.7079326727067781, 2.495026644804957, 0.00...  \n",
       "5  ([[0.547484215886817, 2.5, 0.00356116156491333...  \n",
       "7  ([[0.7515402870377843, 2.3568970546176278, 0.0...  \n",
       "4  ([[0.1456369825487122, 2.4999999968086404, 0.1...  \n",
       "3  ([[0.11002068210183372, 2.499999905923318, 0.1...  \n",
       "1  ([[0.05000000000000003, 2.374431012915543, 0.5...  \n",
       "0  ([[1.7589109905785407, 1.3214693161425324, 0.0...  \n",
       "9  ([[1.8071108696025608, 1.0989013642382768, 0.0...  \n",
       "2  ([[0.08850058592580834, 0.05, 0.09149118896256...  \n",
       "8  ([[0.054369236451822844, 0.0743765904674521, 0...  "
      ]
     },
     "execution_count": 23,
     "metadata": {},
     "output_type": "execute_result"
    }
   ],
   "source": [
    "pd.DataFrame(_c.opt_results).sort_values(\"fun\")"
   ]
  },
  {
   "cell_type": "markdown",
   "id": "3ee71679-1ff0-454b-8d80-94dbec05e2d6",
   "metadata": {
    "papermill": {
     "duration": 0.001419,
     "end_time": "2023-05-16T16:58:49.364834",
     "exception": false,
     "start_time": "2023-05-16T16:58:49.363415",
     "status": "completed"
    },
    "tags": []
   },
   "source": [
    "#  DE fit\n"
   ]
  },
  {
   "cell_type": "code",
   "execution_count": 24,
   "id": "5dcbe52f-bf23-4e82-8958-845cd1584ea3",
   "metadata": {
    "papermill": {
     "duration": 0.936055,
     "end_time": "2023-05-16T16:58:50.302364",
     "exception": false,
     "start_time": "2023-05-16T16:58:49.366309",
     "status": "completed"
    },
    "tags": []
   },
   "outputs": [],
   "source": [
    "_c = next(read_from_pickle(f\"ff/{ffpkl}\"))"
   ]
  },
  {
   "cell_type": "code",
   "execution_count": 25,
   "id": "4ef7f9a4-0011-44ed-942e-111587ccba3f",
   "metadata": {
    "papermill": {
     "duration": 6.914181,
     "end_time": "2023-05-16T16:58:57.219558",
     "exception": false,
     "start_time": "2023-05-16T16:58:50.305377",
     "status": "completed"
    },
    "tags": []
   },
   "outputs": [
    {
     "name": "stderr",
     "output_type": "stream",
     "text": [
      "/home/boittier/Documents/phd/ff_energy/ff_energy/ffe/ff_fit.py:174: OptimizeWarning: Unknown solver options: pgtol\n",
      "  res = minimize(\n"
     ]
    }
   ],
   "source": [
    "fit_repeat(_c, \n",
    "           NDE, \n",
    "           \"test\",\n",
    "           bounds = DE_bound,\n",
    "           loss=\"jax_de\",\n",
    "           quiet='true'\n",
    "          )"
   ]
  },
  {
   "cell_type": "code",
   "execution_count": 26,
   "id": "f7323a6b-2cfa-4956-900b-641a96aa0bb2",
   "metadata": {
    "papermill": {
     "duration": 0.024216,
     "end_time": "2023-05-16T16:58:57.250246",
     "exception": false,
     "start_time": "2023-05-16T16:58:57.226030",
     "status": "completed"
    },
    "tags": []
   },
   "outputs": [
    {
     "data": {
      "text/html": [
       "<div>\n",
       "<style scoped>\n",
       "    .dataframe tbody tr th:only-of-type {\n",
       "        vertical-align: middle;\n",
       "    }\n",
       "\n",
       "    .dataframe tbody tr th {\n",
       "        vertical-align: top;\n",
       "    }\n",
       "\n",
       "    .dataframe thead th {\n",
       "        text-align: right;\n",
       "    }\n",
       "</style>\n",
       "<table border=\"1\" class=\"dataframe\">\n",
       "  <thead>\n",
       "    <tr style=\"text-align: right;\">\n",
       "      <th></th>\n",
       "      <th>fun</th>\n",
       "      <th>nit</th>\n",
       "      <th>nfev</th>\n",
       "      <th>status</th>\n",
       "      <th>success</th>\n",
       "      <th>message</th>\n",
       "      <th>x</th>\n",
       "      <th>final_simplex</th>\n",
       "    </tr>\n",
       "  </thead>\n",
       "  <tbody>\n",
       "    <tr>\n",
       "      <th>2</th>\n",
       "      <td>11.436456</td>\n",
       "      <td>813</td>\n",
       "      <td>1347</td>\n",
       "      <td>0</td>\n",
       "      <td>True</td>\n",
       "      <td>Optimization terminated successfully.</td>\n",
       "      <td>[0.3543580699154079, 2.5, 0.4031838333027614, ...</td>\n",
       "      <td>([[0.3543580699154079, 2.5, 0.4031838333027614...</td>\n",
       "    </tr>\n",
       "    <tr>\n",
       "      <th>8</th>\n",
       "      <td>11.558370</td>\n",
       "      <td>1218</td>\n",
       "      <td>1971</td>\n",
       "      <td>0</td>\n",
       "      <td>True</td>\n",
       "      <td>Optimization terminated successfully.</td>\n",
       "      <td>[0.5520535394959611, 2.2575508596793585, 0.156...</td>\n",
       "      <td>([[0.5520535394959611, 2.2575508596793585, 0.1...</td>\n",
       "    </tr>\n",
       "    <tr>\n",
       "      <th>5</th>\n",
       "      <td>11.834990</td>\n",
       "      <td>495</td>\n",
       "      <td>828</td>\n",
       "      <td>0</td>\n",
       "      <td>True</td>\n",
       "      <td>Optimization terminated successfully.</td>\n",
       "      <td>[0.5411929779291077, 2.093205985616014, 0.1519...</td>\n",
       "      <td>([[0.5411929779291077, 2.093205985616014, 0.15...</td>\n",
       "    </tr>\n",
       "    <tr>\n",
       "      <th>3</th>\n",
       "      <td>12.023440</td>\n",
       "      <td>633</td>\n",
       "      <td>1082</td>\n",
       "      <td>0</td>\n",
       "      <td>True</td>\n",
       "      <td>Optimization terminated successfully.</td>\n",
       "      <td>[0.38331287403637126, 2.1661217719749857, 0.42...</td>\n",
       "      <td>([[0.38331287403637126, 2.1661217719749857, 0....</td>\n",
       "    </tr>\n",
       "    <tr>\n",
       "      <th>6</th>\n",
       "      <td>12.270730</td>\n",
       "      <td>254</td>\n",
       "      <td>483</td>\n",
       "      <td>0</td>\n",
       "      <td>True</td>\n",
       "      <td>Optimization terminated successfully.</td>\n",
       "      <td>[0.3828963049376085, 2.1284276146016583, 0.477...</td>\n",
       "      <td>([[0.3828963049376085, 2.1284276146016583, 0.4...</td>\n",
       "    </tr>\n",
       "    <tr>\n",
       "      <th>0</th>\n",
       "      <td>17.292423</td>\n",
       "      <td>1441</td>\n",
       "      <td>2289</td>\n",
       "      <td>0</td>\n",
       "      <td>True</td>\n",
       "      <td>Optimization terminated successfully.</td>\n",
       "      <td>[2.2957661865281085, 1.5979128395758158, 0.001...</td>\n",
       "      <td>([[2.2957661865281085, 1.5979128395758158, 0.0...</td>\n",
       "    </tr>\n",
       "    <tr>\n",
       "      <th>1</th>\n",
       "      <td>17.559095</td>\n",
       "      <td>1052</td>\n",
       "      <td>1704</td>\n",
       "      <td>0</td>\n",
       "      <td>True</td>\n",
       "      <td>Optimization terminated successfully.</td>\n",
       "      <td>[2.4900669030088336, 1.5681651408555544, 0.001...</td>\n",
       "      <td>([[2.4900669030088336, 1.5681651408555544, 0.0...</td>\n",
       "    </tr>\n",
       "    <tr>\n",
       "      <th>7</th>\n",
       "      <td>19.102196</td>\n",
       "      <td>1273</td>\n",
       "      <td>2038</td>\n",
       "      <td>0</td>\n",
       "      <td>True</td>\n",
       "      <td>Optimization terminated successfully.</td>\n",
       "      <td>[1.9645777794789478, 1.5296375356620242, 0.001...</td>\n",
       "      <td>([[1.9645777794789478, 1.5296375356620242, 0.0...</td>\n",
       "    </tr>\n",
       "    <tr>\n",
       "      <th>4</th>\n",
       "      <td>25.222342</td>\n",
       "      <td>1220</td>\n",
       "      <td>1988</td>\n",
       "      <td>0</td>\n",
       "      <td>True</td>\n",
       "      <td>Optimization terminated successfully.</td>\n",
       "      <td>[1.9060071948016988, 1.8333672852322513, 0.008...</td>\n",
       "      <td>([[1.9060071948016988, 1.8333672852322513, 0.0...</td>\n",
       "    </tr>\n",
       "    <tr>\n",
       "      <th>9</th>\n",
       "      <td>8074.825684</td>\n",
       "      <td>44</td>\n",
       "      <td>198</td>\n",
       "      <td>0</td>\n",
       "      <td>True</td>\n",
       "      <td>Optimization terminated successfully.</td>\n",
       "      <td>[0.05, 0.2187029725006433, 0.15184742911742766...</td>\n",
       "      <td>([[0.05, 0.2187029725006433, 0.151847429117427...</td>\n",
       "    </tr>\n",
       "  </tbody>\n",
       "</table>\n",
       "</div>"
      ],
      "text/plain": [
       "           fun   nit  nfev  status  success  \\\n",
       "2    11.436456   813  1347       0     True   \n",
       "8    11.558370  1218  1971       0     True   \n",
       "5    11.834990   495   828       0     True   \n",
       "3    12.023440   633  1082       0     True   \n",
       "6    12.270730   254   483       0     True   \n",
       "0    17.292423  1441  2289       0     True   \n",
       "1    17.559095  1052  1704       0     True   \n",
       "7    19.102196  1273  2038       0     True   \n",
       "4    25.222342  1220  1988       0     True   \n",
       "9  8074.825684    44   198       0     True   \n",
       "\n",
       "                                 message  \\\n",
       "2  Optimization terminated successfully.   \n",
       "8  Optimization terminated successfully.   \n",
       "5  Optimization terminated successfully.   \n",
       "3  Optimization terminated successfully.   \n",
       "6  Optimization terminated successfully.   \n",
       "0  Optimization terminated successfully.   \n",
       "1  Optimization terminated successfully.   \n",
       "7  Optimization terminated successfully.   \n",
       "4  Optimization terminated successfully.   \n",
       "9  Optimization terminated successfully.   \n",
       "\n",
       "                                                   x  \\\n",
       "2  [0.3543580699154079, 2.5, 0.4031838333027614, ...   \n",
       "8  [0.5520535394959611, 2.2575508596793585, 0.156...   \n",
       "5  [0.5411929779291077, 2.093205985616014, 0.1519...   \n",
       "3  [0.38331287403637126, 2.1661217719749857, 0.42...   \n",
       "6  [0.3828963049376085, 2.1284276146016583, 0.477...   \n",
       "0  [2.2957661865281085, 1.5979128395758158, 0.001...   \n",
       "1  [2.4900669030088336, 1.5681651408555544, 0.001...   \n",
       "7  [1.9645777794789478, 1.5296375356620242, 0.001...   \n",
       "4  [1.9060071948016988, 1.8333672852322513, 0.008...   \n",
       "9  [0.05, 0.2187029725006433, 0.15184742911742766...   \n",
       "\n",
       "                                       final_simplex  \n",
       "2  ([[0.3543580699154079, 2.5, 0.4031838333027614...  \n",
       "8  ([[0.5520535394959611, 2.2575508596793585, 0.1...  \n",
       "5  ([[0.5411929779291077, 2.093205985616014, 0.15...  \n",
       "3  ([[0.38331287403637126, 2.1661217719749857, 0....  \n",
       "6  ([[0.3828963049376085, 2.1284276146016583, 0.4...  \n",
       "0  ([[2.2957661865281085, 1.5979128395758158, 0.0...  \n",
       "1  ([[2.4900669030088336, 1.5681651408555544, 0.0...  \n",
       "7  ([[1.9645777794789478, 1.5296375356620242, 0.0...  \n",
       "4  ([[1.9060071948016988, 1.8333672852322513, 0.0...  \n",
       "9  ([[0.05, 0.2187029725006433, 0.151847429117427...  "
      ]
     },
     "execution_count": 26,
     "metadata": {},
     "output_type": "execute_result"
    }
   ],
   "source": [
    "pd.DataFrame(_c.opt_results).sort_values(\"fun\")"
   ]
  },
  {
   "cell_type": "code",
   "execution_count": null,
   "id": "242da085-5e5c-42a4-b5ad-0764c9d955dc",
   "metadata": {
    "papermill": {
     "duration": 0.001747,
     "end_time": "2023-05-16T16:58:57.253828",
     "exception": false,
     "start_time": "2023-05-16T16:58:57.252081",
     "status": "completed"
    },
    "tags": []
   },
   "outputs": [],
   "source": []
  }
 ],
 "metadata": {
  "kernelspec": {
   "display_name": "pycharmm",
   "language": "python",
   "name": "pycharmm"
  },
  "language_info": {
   "codemirror_mode": {
    "name": "ipython",
    "version": 3
   },
   "file_extension": ".py",
   "mimetype": "text/x-python",
   "name": "python",
   "nbconvert_exporter": "python",
   "pygments_lexer": "ipython3",
   "version": "3.8.16"
  },
  "papermill": {
   "default_parameters": {},
   "duration": 14.228768,
   "end_time": "2023-05-16T16:58:57.963070",
   "environment_variables": {},
   "exception": null,
   "input_path": "templates/ff_template.ipynb",
   "output_path": "out_notebooks/ff/kmdcm_pbe0dz_FOE.ff.pkl.ipynb",
   "parameters": {
    "ffpkl": "kmdcm_pbe0dz_FOE.ff.pkl"
   },
   "start_time": "2023-05-16T16:58:43.734302",
   "version": "2.4.0"
  }
 },
 "nbformat": 4,
 "nbformat_minor": 5
}
