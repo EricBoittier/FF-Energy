{
 "cells": [
  {
   "cell_type": "code",
   "execution_count": 12,
   "id": "51a2cc71-403a-4961-b6be-0d0335c0c36f",
   "metadata": {
    "papermill": {
     "duration": 1.242752,
     "end_time": "2023-05-16T16:03:44.552805",
     "exception": false,
     "start_time": "2023-05-16T16:03:43.310053",
     "status": "completed"
    },
    "tags": []
   },
   "outputs": [],
   "source": [
    "from pathlib import Path\n",
    "import pandas as pd\n",
    "import matplotlib.pyplot as plt\n",
    "import seaborn as sns\n",
    "import numpy as np\n",
    "from ff_energy.ffe.utils import read_from_pickle\n",
    "import jax.numpy as jnp\n",
    "from ff_energy.ffe.plot import plot_energy_MSE, plot_ff_fit\n",
    "from ff_energy.ffe.structure import atom_key_pairs\n",
    "from ff_energy.ffe.potential import LJ, akp_indx\n",
    "from ff_energy.ffe.ff import FF\n",
    "from ff_energy.ffe.ff_fit import LJ_bound, load_ff, fit_func, fit_repeat\n",
    "from ff_energy.ffe.data import pairs_data\n",
    "from ff_energy.ffe.utils import pickle_output, read_from_pickle, str2int\n",
    "\n",
    "\n"
   ]
  },
  {
   "cell_type": "code",
   "execution_count": 13,
   "id": "19d05f34-1c6b-4229-b564-ec451028a44f",
   "metadata": {
    "papermill": {
     "duration": 0.008447,
     "end_time": "2023-05-16T16:03:44.564069",
     "exception": false,
     "start_time": "2023-05-16T16:03:44.555622",
     "status": "completed"
    },
    "tags": []
   },
   "outputs": [],
   "source": [
    "NDE = 10\n",
    "NLJ = 10\n",
    "sig_bound = (0.05, 2.5)\n",
    "ep_bound = (0.001, 0.5)\n",
    "LJ_bound = ((sig_bound), (sig_bound), (ep_bound), (ep_bound))\n",
    "DE_bound = ((sig_bound), (sig_bound), (ep_bound), (ep_bound), \n",
    "            (1, 8), (6, 20))"
   ]
  },
  {
   "cell_type": "code",
   "execution_count": 14,
   "id": "06d2180b-ab57-47fe-ab69-210cc07a06ee",
   "metadata": {
    "papermill": {
     "duration": 0.016987,
     "end_time": "2023-05-16T16:03:44.582310",
     "exception": false,
     "start_time": "2023-05-16T16:03:44.565323",
     "status": "completed"
    },
    "tags": [
     "parameters"
    ]
   },
   "outputs": [],
   "source": [
    "#  example\n",
    "# ffpkl = \"ECOL_pbe0dz_FOE.ff.pkl\""
   ]
  },
  {
   "cell_type": "code",
   "execution_count": 15,
   "id": "30bf7379",
   "metadata": {
    "papermill": {
     "duration": 0.0147,
     "end_time": "2023-05-16T16:03:44.598326",
     "exception": false,
     "start_time": "2023-05-16T16:03:44.583626",
     "status": "completed"
    },
    "tags": [
     "injected-parameters"
    ]
   },
   "outputs": [],
   "source": [
    "# Parameters\n",
    "ffpkl = \"mdcm_pbe0dz_FOE.ff.pkl\"\n"
   ]
  },
  {
   "cell_type": "markdown",
   "id": "4929ade5-fae6-464f-bff0-b457e6121d28",
   "metadata": {
    "papermill": {
     "duration": 0.001234,
     "end_time": "2023-05-16T16:03:44.601192",
     "exception": false,
     "start_time": "2023-05-16T16:03:44.599958",
     "status": "completed"
    },
    "tags": []
   },
   "source": [
    "#  LJ fit\n"
   ]
  },
  {
   "cell_type": "code",
   "execution_count": 16,
   "id": "6899f6f0-095a-4be0-af80-a9eaff304995",
   "metadata": {
    "papermill": {
     "duration": 2.213608,
     "end_time": "2023-05-16T16:03:46.816083",
     "exception": false,
     "start_time": "2023-05-16T16:03:44.602475",
     "status": "completed"
    },
    "tags": []
   },
   "outputs": [
    {
     "data": {
      "text/plain": [
       "FF: LJ water_cluster ELEC harmonic first_order_energy (jax_coloumb: True)"
      ]
     },
     "execution_count": 16,
     "metadata": {},
     "output_type": "execute_result"
    }
   ],
   "source": [
    "_c = next(read_from_pickle(f\"ff/{ffpkl}\"))\n",
    "_c"
   ]
  },
  {
   "cell_type": "code",
   "execution_count": 17,
   "id": "5c0ffd7e-d07d-47c5-83a9-72bdfb455d51",
   "metadata": {
    "papermill": {
     "duration": 0.005102,
     "end_time": "2023-05-16T16:03:46.823211",
     "exception": false,
     "start_time": "2023-05-16T16:03:46.818109",
     "status": "completed"
    },
    "tags": []
   },
   "outputs": [],
   "source": [
    "# _c.targets"
   ]
  },
  {
   "cell_type": "code",
   "execution_count": 18,
   "id": "3c41100d-1ee7-4fa9-b16b-03e9af0fab04",
   "metadata": {
    "papermill": {
     "duration": 4.023508,
     "end_time": "2023-05-16T16:03:50.848088",
     "exception": false,
     "start_time": "2023-05-16T16:03:46.824580",
     "status": "completed"
    },
    "tags": []
   },
   "outputs": [
    {
     "name": "stderr",
     "output_type": "stream",
     "text": [
      "/home/boittier/Documents/phd/ff_energy/ff_energy/ffe/ff_fit.py:174: OptimizeWarning: Unknown solver options: pgtol\n",
      "  res = minimize(\n"
     ]
    }
   ],
   "source": [
    "fit_repeat(_c, \n",
    "           NLJ, \n",
    "           f\"{ffpkl}_LJ\",\n",
    "           bounds = LJ_bound,\n",
    "           loss=\"jax\",\n",
    "           quiet='true'\n",
    "          )"
   ]
  },
  {
   "cell_type": "code",
   "execution_count": 19,
   "id": "c2babd82-4ded-4e51-a5d5-49437f6d8f41",
   "metadata": {
    "papermill": {
     "duration": 0.012699,
     "end_time": "2023-05-16T16:03:50.862457",
     "exception": false,
     "start_time": "2023-05-16T16:03:50.849758",
     "status": "completed"
    },
    "tags": []
   },
   "outputs": [
    {
     "data": {
      "text/html": [
       "<div>\n",
       "<style scoped>\n",
       "    .dataframe tbody tr th:only-of-type {\n",
       "        vertical-align: middle;\n",
       "    }\n",
       "\n",
       "    .dataframe tbody tr th {\n",
       "        vertical-align: top;\n",
       "    }\n",
       "\n",
       "    .dataframe thead th {\n",
       "        text-align: right;\n",
       "    }\n",
       "</style>\n",
       "<table border=\"1\" class=\"dataframe\">\n",
       "  <thead>\n",
       "    <tr style=\"text-align: right;\">\n",
       "      <th></th>\n",
       "      <th>fun</th>\n",
       "      <th>nit</th>\n",
       "      <th>nfev</th>\n",
       "      <th>status</th>\n",
       "      <th>success</th>\n",
       "      <th>message</th>\n",
       "      <th>x</th>\n",
       "      <th>final_simplex</th>\n",
       "    </tr>\n",
       "  </thead>\n",
       "  <tbody>\n",
       "    <tr>\n",
       "      <th>2</th>\n",
       "      <td>15.544575</td>\n",
       "      <td>562</td>\n",
       "      <td>981</td>\n",
       "      <td>0</td>\n",
       "      <td>True</td>\n",
       "      <td>Optimization terminated successfully.</td>\n",
       "      <td>[0.7263866797246101, 2.499930517663357, 0.0010...</td>\n",
       "      <td>([[0.7263866797246101, 2.499930517663357, 0.00...</td>\n",
       "    </tr>\n",
       "    <tr>\n",
       "      <th>6</th>\n",
       "      <td>15.734114</td>\n",
       "      <td>812</td>\n",
       "      <td>1370</td>\n",
       "      <td>0</td>\n",
       "      <td>True</td>\n",
       "      <td>Optimization terminated successfully.</td>\n",
       "      <td>[0.7521331606857351, 2.4041202948642186, 0.001...</td>\n",
       "      <td>([[0.7521331606857351, 2.4041202948642186, 0.0...</td>\n",
       "    </tr>\n",
       "    <tr>\n",
       "      <th>5</th>\n",
       "      <td>16.677267</td>\n",
       "      <td>777</td>\n",
       "      <td>1321</td>\n",
       "      <td>0</td>\n",
       "      <td>True</td>\n",
       "      <td>Optimization terminated successfully.</td>\n",
       "      <td>[0.13674618828126137, 2.4999999672660786, 0.10...</td>\n",
       "      <td>([[0.13674618828126137, 2.4999999672660786, 0....</td>\n",
       "    </tr>\n",
       "    <tr>\n",
       "      <th>9</th>\n",
       "      <td>18.654282</td>\n",
       "      <td>566</td>\n",
       "      <td>984</td>\n",
       "      <td>0</td>\n",
       "      <td>True</td>\n",
       "      <td>Optimization terminated successfully.</td>\n",
       "      <td>[0.06404095940939791, 2.3646748192715457, 0.45...</td>\n",
       "      <td>([[0.06404095940939791, 2.3646748192715457, 0....</td>\n",
       "    </tr>\n",
       "    <tr>\n",
       "      <th>4</th>\n",
       "      <td>166.175232</td>\n",
       "      <td>406</td>\n",
       "      <td>712</td>\n",
       "      <td>0</td>\n",
       "      <td>True</td>\n",
       "      <td>Optimization terminated successfully.</td>\n",
       "      <td>[1.809429717309692, 1.1063020563407582, 0.0010...</td>\n",
       "      <td>([[1.809429717309692, 1.1063020563407582, 0.00...</td>\n",
       "    </tr>\n",
       "    <tr>\n",
       "      <th>3</th>\n",
       "      <td>166.764923</td>\n",
       "      <td>330</td>\n",
       "      <td>610</td>\n",
       "      <td>0</td>\n",
       "      <td>True</td>\n",
       "      <td>Optimization terminated successfully.</td>\n",
       "      <td>[1.8101324659042635, 1.1028255535722296, 0.001...</td>\n",
       "      <td>([[1.8101324659042635, 1.1028255535722296, 0.0...</td>\n",
       "    </tr>\n",
       "    <tr>\n",
       "      <th>0</th>\n",
       "      <td>7296.356445</td>\n",
       "      <td>138</td>\n",
       "      <td>271</td>\n",
       "      <td>0</td>\n",
       "      <td>True</td>\n",
       "      <td>Optimization terminated successfully.</td>\n",
       "      <td>[1.3352430494656335, 0.05, 0.5, 0.001]</td>\n",
       "      <td>([[1.3352430494656335, 0.05, 0.5, 0.001], [1.3...</td>\n",
       "    </tr>\n",
       "    <tr>\n",
       "      <th>1</th>\n",
       "      <td>8578.110352</td>\n",
       "      <td>40</td>\n",
       "      <td>132</td>\n",
       "      <td>0</td>\n",
       "      <td>True</td>\n",
       "      <td>Optimization terminated successfully.</td>\n",
       "      <td>[0.050000000000000044, 0.07445537583263218, 0....</td>\n",
       "      <td>([[0.050000000000000044, 0.07445537583263218, ...</td>\n",
       "    </tr>\n",
       "    <tr>\n",
       "      <th>7</th>\n",
       "      <td>8578.110352</td>\n",
       "      <td>41</td>\n",
       "      <td>134</td>\n",
       "      <td>0</td>\n",
       "      <td>True</td>\n",
       "      <td>Optimization terminated successfully.</td>\n",
       "      <td>[0.050000000000000044, 0.05, 0.229271481923449...</td>\n",
       "      <td>([[0.050000000000000044, 0.05, 0.2292714819234...</td>\n",
       "    </tr>\n",
       "    <tr>\n",
       "      <th>8</th>\n",
       "      <td>8578.110352</td>\n",
       "      <td>44</td>\n",
       "      <td>141</td>\n",
       "      <td>0</td>\n",
       "      <td>True</td>\n",
       "      <td>Optimization terminated successfully.</td>\n",
       "      <td>[0.050000000000000044, 0.05, 0.5, 0.5]</td>\n",
       "      <td>([[0.050000000000000044, 0.05, 0.5, 0.5], [0.0...</td>\n",
       "    </tr>\n",
       "  </tbody>\n",
       "</table>\n",
       "</div>"
      ],
      "text/plain": [
       "           fun  nit  nfev  status  success  \\\n",
       "2    15.544575  562   981       0     True   \n",
       "6    15.734114  812  1370       0     True   \n",
       "5    16.677267  777  1321       0     True   \n",
       "9    18.654282  566   984       0     True   \n",
       "4   166.175232  406   712       0     True   \n",
       "3   166.764923  330   610       0     True   \n",
       "0  7296.356445  138   271       0     True   \n",
       "1  8578.110352   40   132       0     True   \n",
       "7  8578.110352   41   134       0     True   \n",
       "8  8578.110352   44   141       0     True   \n",
       "\n",
       "                                 message  \\\n",
       "2  Optimization terminated successfully.   \n",
       "6  Optimization terminated successfully.   \n",
       "5  Optimization terminated successfully.   \n",
       "9  Optimization terminated successfully.   \n",
       "4  Optimization terminated successfully.   \n",
       "3  Optimization terminated successfully.   \n",
       "0  Optimization terminated successfully.   \n",
       "1  Optimization terminated successfully.   \n",
       "7  Optimization terminated successfully.   \n",
       "8  Optimization terminated successfully.   \n",
       "\n",
       "                                                   x  \\\n",
       "2  [0.7263866797246101, 2.499930517663357, 0.0010...   \n",
       "6  [0.7521331606857351, 2.4041202948642186, 0.001...   \n",
       "5  [0.13674618828126137, 2.4999999672660786, 0.10...   \n",
       "9  [0.06404095940939791, 2.3646748192715457, 0.45...   \n",
       "4  [1.809429717309692, 1.1063020563407582, 0.0010...   \n",
       "3  [1.8101324659042635, 1.1028255535722296, 0.001...   \n",
       "0             [1.3352430494656335, 0.05, 0.5, 0.001]   \n",
       "1  [0.050000000000000044, 0.07445537583263218, 0....   \n",
       "7  [0.050000000000000044, 0.05, 0.229271481923449...   \n",
       "8             [0.050000000000000044, 0.05, 0.5, 0.5]   \n",
       "\n",
       "                                       final_simplex  \n",
       "2  ([[0.7263866797246101, 2.499930517663357, 0.00...  \n",
       "6  ([[0.7521331606857351, 2.4041202948642186, 0.0...  \n",
       "5  ([[0.13674618828126137, 2.4999999672660786, 0....  \n",
       "9  ([[0.06404095940939791, 2.3646748192715457, 0....  \n",
       "4  ([[1.809429717309692, 1.1063020563407582, 0.00...  \n",
       "3  ([[1.8101324659042635, 1.1028255535722296, 0.0...  \n",
       "0  ([[1.3352430494656335, 0.05, 0.5, 0.001], [1.3...  \n",
       "1  ([[0.050000000000000044, 0.07445537583263218, ...  \n",
       "7  ([[0.050000000000000044, 0.05, 0.2292714819234...  \n",
       "8  ([[0.050000000000000044, 0.05, 0.5, 0.5], [0.0...  "
      ]
     },
     "execution_count": 19,
     "metadata": {},
     "output_type": "execute_result"
    }
   ],
   "source": [
    "pd.DataFrame(_c.opt_results).sort_values(\"fun\")"
   ]
  },
  {
   "cell_type": "markdown",
   "id": "3ee71679-1ff0-454b-8d80-94dbec05e2d6",
   "metadata": {
    "papermill": {
     "duration": 0.001504,
     "end_time": "2023-05-16T16:03:50.865991",
     "exception": false,
     "start_time": "2023-05-16T16:03:50.864487",
     "status": "completed"
    },
    "tags": []
   },
   "source": [
    "#  DE fit\n"
   ]
  },
  {
   "cell_type": "code",
   "execution_count": 20,
   "id": "5dcbe52f-bf23-4e82-8958-845cd1584ea3",
   "metadata": {
    "papermill": {
     "duration": 0.882835,
     "end_time": "2023-05-16T16:03:51.750293",
     "exception": false,
     "start_time": "2023-05-16T16:03:50.867458",
     "status": "completed"
    },
    "tags": []
   },
   "outputs": [],
   "source": [
    "_c = next(read_from_pickle(f\"ff/{ffpkl}\"))"
   ]
  },
  {
   "cell_type": "code",
   "execution_count": 21,
   "id": "4ef7f9a4-0011-44ed-942e-111587ccba3f",
   "metadata": {
    "papermill": {
     "duration": 4.936572,
     "end_time": "2023-05-16T16:03:56.688635",
     "exception": false,
     "start_time": "2023-05-16T16:03:51.752063",
     "status": "completed"
    },
    "tags": []
   },
   "outputs": [
    {
     "name": "stderr",
     "output_type": "stream",
     "text": [
      "/home/boittier/Documents/phd/ff_energy/ff_energy/ffe/ff_fit.py:174: OptimizeWarning: Unknown solver options: pgtol\n",
      "  res = minimize(\n"
     ]
    }
   ],
   "source": [
    "fit_repeat(_c, \n",
    "           NDE, \n",
    "           \"test\",\n",
    "           bounds = DE_bound,\n",
    "           loss=\"jax_de\",\n",
    "           quiet='true'\n",
    "          )"
   ]
  },
  {
   "cell_type": "code",
   "execution_count": 22,
   "id": "f7323a6b-2cfa-4956-900b-641a96aa0bb2",
   "metadata": {
    "papermill": {
     "duration": 0.010789,
     "end_time": "2023-05-16T16:03:56.701199",
     "exception": false,
     "start_time": "2023-05-16T16:03:56.690410",
     "status": "completed"
    },
    "tags": []
   },
   "outputs": [
    {
     "data": {
      "text/html": [
       "<div>\n",
       "<style scoped>\n",
       "    .dataframe tbody tr th:only-of-type {\n",
       "        vertical-align: middle;\n",
       "    }\n",
       "\n",
       "    .dataframe tbody tr th {\n",
       "        vertical-align: top;\n",
       "    }\n",
       "\n",
       "    .dataframe thead th {\n",
       "        text-align: right;\n",
       "    }\n",
       "</style>\n",
       "<table border=\"1\" class=\"dataframe\">\n",
       "  <thead>\n",
       "    <tr style=\"text-align: right;\">\n",
       "      <th></th>\n",
       "      <th>fun</th>\n",
       "      <th>nit</th>\n",
       "      <th>nfev</th>\n",
       "      <th>status</th>\n",
       "      <th>success</th>\n",
       "      <th>message</th>\n",
       "      <th>x</th>\n",
       "      <th>final_simplex</th>\n",
       "    </tr>\n",
       "  </thead>\n",
       "  <tbody>\n",
       "    <tr>\n",
       "      <th>3</th>\n",
       "      <td>7.019758</td>\n",
       "      <td>933</td>\n",
       "      <td>1521</td>\n",
       "      <td>0</td>\n",
       "      <td>True</td>\n",
       "      <td>Optimization terminated successfully.</td>\n",
       "      <td>[1.485504052792685, 2.1190064313887707, 0.0026...</td>\n",
       "      <td>([[1.485504052792685, 2.1190064313887707, 0.00...</td>\n",
       "    </tr>\n",
       "    <tr>\n",
       "      <th>4</th>\n",
       "      <td>7.510250</td>\n",
       "      <td>1149</td>\n",
       "      <td>1877</td>\n",
       "      <td>0</td>\n",
       "      <td>True</td>\n",
       "      <td>Optimization terminated successfully.</td>\n",
       "      <td>[0.37587472935477995, 2.4892262484327228, 0.43...</td>\n",
       "      <td>([[0.37587472935477995, 2.4892262484327228, 0....</td>\n",
       "    </tr>\n",
       "    <tr>\n",
       "      <th>6</th>\n",
       "      <td>7.690612</td>\n",
       "      <td>611</td>\n",
       "      <td>1030</td>\n",
       "      <td>0</td>\n",
       "      <td>True</td>\n",
       "      <td>Optimization terminated successfully.</td>\n",
       "      <td>[0.5497994493091545, 2.281821827815243, 0.2219...</td>\n",
       "      <td>([[0.5497994493091545, 2.281821827815243, 0.22...</td>\n",
       "    </tr>\n",
       "    <tr>\n",
       "      <th>1</th>\n",
       "      <td>11.668004</td>\n",
       "      <td>753</td>\n",
       "      <td>1241</td>\n",
       "      <td>0</td>\n",
       "      <td>True</td>\n",
       "      <td>Optimization terminated successfully.</td>\n",
       "      <td>[0.5274496096968279, 2.283195415985593, 0.5, 0...</td>\n",
       "      <td>([[0.5274496096968279, 2.283195415985593, 0.5,...</td>\n",
       "    </tr>\n",
       "    <tr>\n",
       "      <th>2</th>\n",
       "      <td>12.164757</td>\n",
       "      <td>1012</td>\n",
       "      <td>1632</td>\n",
       "      <td>0</td>\n",
       "      <td>True</td>\n",
       "      <td>Optimization terminated successfully.</td>\n",
       "      <td>[2.230743990208236, 1.666171080244243, 0.00104...</td>\n",
       "      <td>([[2.230743990208236, 1.666171080244243, 0.001...</td>\n",
       "    </tr>\n",
       "    <tr>\n",
       "      <th>8</th>\n",
       "      <td>13.239778</td>\n",
       "      <td>1036</td>\n",
       "      <td>1708</td>\n",
       "      <td>0</td>\n",
       "      <td>True</td>\n",
       "      <td>Optimization terminated successfully.</td>\n",
       "      <td>[0.050637234069478065, 2.5, 0.1417503584432692...</td>\n",
       "      <td>([[0.050637234069478065, 2.5, 0.14175035844326...</td>\n",
       "    </tr>\n",
       "    <tr>\n",
       "      <th>5</th>\n",
       "      <td>15.347434</td>\n",
       "      <td>1175</td>\n",
       "      <td>1883</td>\n",
       "      <td>0</td>\n",
       "      <td>True</td>\n",
       "      <td>Optimization terminated successfully.</td>\n",
       "      <td>[1.6869890553676474, 1.7960610758257083, 0.002...</td>\n",
       "      <td>([[1.6869890553676474, 1.7960610758257083, 0.0...</td>\n",
       "    </tr>\n",
       "    <tr>\n",
       "      <th>7</th>\n",
       "      <td>22.040796</td>\n",
       "      <td>557</td>\n",
       "      <td>941</td>\n",
       "      <td>0</td>\n",
       "      <td>True</td>\n",
       "      <td>Optimization terminated successfully.</td>\n",
       "      <td>[2.026288651861771, 1.7830168725059539, 0.0066...</td>\n",
       "      <td>([[2.026288651861771, 1.7830168725059539, 0.00...</td>\n",
       "    </tr>\n",
       "    <tr>\n",
       "      <th>0</th>\n",
       "      <td>22.220839</td>\n",
       "      <td>536</td>\n",
       "      <td>945</td>\n",
       "      <td>0</td>\n",
       "      <td>True</td>\n",
       "      <td>Optimization terminated successfully.</td>\n",
       "      <td>[0.5065461204054236, 1.9670550962785294, 0.113...</td>\n",
       "      <td>([[0.5065461204054236, 1.9670550962785294, 0.1...</td>\n",
       "    </tr>\n",
       "    <tr>\n",
       "      <th>9</th>\n",
       "      <td>8578.110352</td>\n",
       "      <td>55</td>\n",
       "      <td>226</td>\n",
       "      <td>0</td>\n",
       "      <td>True</td>\n",
       "      <td>Optimization terminated successfully.</td>\n",
       "      <td>[0.2118280482928424, 0.06502377581593105, 0.35...</td>\n",
       "      <td>([[0.2118280482928424, 0.06502377581593105, 0....</td>\n",
       "    </tr>\n",
       "  </tbody>\n",
       "</table>\n",
       "</div>"
      ],
      "text/plain": [
       "           fun   nit  nfev  status  success  \\\n",
       "3     7.019758   933  1521       0     True   \n",
       "4     7.510250  1149  1877       0     True   \n",
       "6     7.690612   611  1030       0     True   \n",
       "1    11.668004   753  1241       0     True   \n",
       "2    12.164757  1012  1632       0     True   \n",
       "8    13.239778  1036  1708       0     True   \n",
       "5    15.347434  1175  1883       0     True   \n",
       "7    22.040796   557   941       0     True   \n",
       "0    22.220839   536   945       0     True   \n",
       "9  8578.110352    55   226       0     True   \n",
       "\n",
       "                                 message  \\\n",
       "3  Optimization terminated successfully.   \n",
       "4  Optimization terminated successfully.   \n",
       "6  Optimization terminated successfully.   \n",
       "1  Optimization terminated successfully.   \n",
       "2  Optimization terminated successfully.   \n",
       "8  Optimization terminated successfully.   \n",
       "5  Optimization terminated successfully.   \n",
       "7  Optimization terminated successfully.   \n",
       "0  Optimization terminated successfully.   \n",
       "9  Optimization terminated successfully.   \n",
       "\n",
       "                                                   x  \\\n",
       "3  [1.485504052792685, 2.1190064313887707, 0.0026...   \n",
       "4  [0.37587472935477995, 2.4892262484327228, 0.43...   \n",
       "6  [0.5497994493091545, 2.281821827815243, 0.2219...   \n",
       "1  [0.5274496096968279, 2.283195415985593, 0.5, 0...   \n",
       "2  [2.230743990208236, 1.666171080244243, 0.00104...   \n",
       "8  [0.050637234069478065, 2.5, 0.1417503584432692...   \n",
       "5  [1.6869890553676474, 1.7960610758257083, 0.002...   \n",
       "7  [2.026288651861771, 1.7830168725059539, 0.0066...   \n",
       "0  [0.5065461204054236, 1.9670550962785294, 0.113...   \n",
       "9  [0.2118280482928424, 0.06502377581593105, 0.35...   \n",
       "\n",
       "                                       final_simplex  \n",
       "3  ([[1.485504052792685, 2.1190064313887707, 0.00...  \n",
       "4  ([[0.37587472935477995, 2.4892262484327228, 0....  \n",
       "6  ([[0.5497994493091545, 2.281821827815243, 0.22...  \n",
       "1  ([[0.5274496096968279, 2.283195415985593, 0.5,...  \n",
       "2  ([[2.230743990208236, 1.666171080244243, 0.001...  \n",
       "8  ([[0.050637234069478065, 2.5, 0.14175035844326...  \n",
       "5  ([[1.6869890553676474, 1.7960610758257083, 0.0...  \n",
       "7  ([[2.026288651861771, 1.7830168725059539, 0.00...  \n",
       "0  ([[0.5065461204054236, 1.9670550962785294, 0.1...  \n",
       "9  ([[0.2118280482928424, 0.06502377581593105, 0....  "
      ]
     },
     "execution_count": 22,
     "metadata": {},
     "output_type": "execute_result"
    }
   ],
   "source": [
    "pd.DataFrame(_c.opt_results).sort_values(\"fun\")"
   ]
  },
  {
   "cell_type": "code",
   "execution_count": null,
   "id": "242da085-5e5c-42a4-b5ad-0764c9d955dc",
   "metadata": {
    "papermill": {
     "duration": 0.001715,
     "end_time": "2023-05-16T16:03:56.704609",
     "exception": false,
     "start_time": "2023-05-16T16:03:56.702894",
     "status": "completed"
    },
    "tags": []
   },
   "outputs": [],
   "source": []
  },
  {
   "cell_type": "code",
   "execution_count": null,
   "id": "594981c5-ef90-4632-892b-d6134c4f7920",
   "metadata": {},
   "outputs": [],
   "source": []
  },
  {
   "cell_type": "code",
   "execution_count": null,
   "id": "33308c4c-04ce-4d3c-ade8-d5346223023c",
   "metadata": {},
   "outputs": [],
   "source": []
  }
 ],
 "metadata": {
  "kernelspec": {
   "display_name": "pycharmm",
   "language": "python",
   "name": "pycharmm"
  },
  "language_info": {
   "codemirror_mode": {
    "name": "ipython",
    "version": 3
   },
   "file_extension": ".py",
   "mimetype": "text/x-python",
   "name": "python",
   "nbconvert_exporter": "python",
   "pygments_lexer": "ipython3",
   "version": "3.8.16"
  },
  "papermill": {
   "default_parameters": {},
   "duration": 15.033153,
   "end_time": "2023-05-16T16:03:57.312975",
   "environment_variables": {},
   "exception": null,
   "input_path": "templates/ff_template.ipynb",
   "output_path": "out_notebooks/ff/mdcm_pbe0dz_FOE.ff.pkl.ipynb",
   "parameters": {
    "ffpkl": "mdcm_pbe0dz_FOE.ff.pkl"
   },
   "start_time": "2023-05-16T16:03:42.279822",
   "version": "2.4.0"
  }
 },
 "nbformat": 4,
 "nbformat_minor": 5
}
