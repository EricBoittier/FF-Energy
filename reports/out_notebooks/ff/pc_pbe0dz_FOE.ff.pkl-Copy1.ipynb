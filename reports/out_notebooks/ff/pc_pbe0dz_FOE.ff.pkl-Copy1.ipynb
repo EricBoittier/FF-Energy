{
 "cells": [
  {
   "cell_type": "code",
   "execution_count": 1,
   "id": "51a2cc71-403a-4961-b6be-0d0335c0c36f",
   "metadata": {
    "papermill": {
     "duration": 0.811796,
     "end_time": "2023-05-16T16:56:01.792480",
     "exception": false,
     "start_time": "2023-05-16T16:56:00.980684",
     "status": "completed"
    },
    "tags": []
   },
   "outputs": [],
   "source": [
    "from pathlib import Path\n",
    "import pandas as pd\n",
    "import matplotlib.pyplot as plt\n",
    "import seaborn as sns\n",
    "import numpy as np\n",
    "from ff_energy.ffe.utils import read_from_pickle\n",
    "import jax.numpy as jnp\n",
    "from ff_energy.ffe.plot import plot_energy_MSE, plot_ff_fit\n",
    "from ff_energy.ffe.structure import atom_key_pairs\n",
    "from ff_energy.ffe.potential import LJ, akp_indx\n",
    "from ff_energy.ffe.ff import FF\n",
    "from ff_energy.ffe.ff_fit import LJ_bound, load_ff, fit_func, fit_repeat\n",
    "from ff_energy.ffe.data import pairs_data\n",
    "from ff_energy.ffe.utils import pickle_output, read_from_pickle, str2int\n",
    "\n",
    "\n"
   ]
  },
  {
   "cell_type": "code",
   "execution_count": 2,
   "id": "19d05f34-1c6b-4229-b564-ec451028a44f",
   "metadata": {
    "papermill": {
     "duration": 0.005609,
     "end_time": "2023-05-16T16:56:01.799578",
     "exception": false,
     "start_time": "2023-05-16T16:56:01.793969",
     "status": "completed"
    },
    "tags": []
   },
   "outputs": [],
   "source": [
    "NDE = 10\n",
    "NLJ = 10\n",
    "sig_bound = (0.05, 2.5)\n",
    "ep_bound = (0.001, 0.5)\n",
    "LJ_bound = ((sig_bound), (sig_bound), (ep_bound), (ep_bound))\n",
    "DE_bound = ((sig_bound), (sig_bound), (ep_bound), (ep_bound), \n",
    "            (1, 8), (6, 20))"
   ]
  },
  {
   "cell_type": "code",
   "execution_count": 3,
   "id": "06d2180b-ab57-47fe-ab69-210cc07a06ee",
   "metadata": {
    "papermill": {
     "duration": 0.01481,
     "end_time": "2023-05-16T16:56:01.815596",
     "exception": false,
     "start_time": "2023-05-16T16:56:01.800786",
     "status": "completed"
    },
    "tags": [
     "parameters"
    ]
   },
   "outputs": [],
   "source": [
    "#  example\n",
    "# ffpkl = \"ECOL_pbe0dz_FOE.ff.pkl\""
   ]
  },
  {
   "cell_type": "code",
   "execution_count": 4,
   "id": "7da0ea63",
   "metadata": {
    "papermill": {
     "duration": 0.014914,
     "end_time": "2023-05-16T16:56:01.831734",
     "exception": false,
     "start_time": "2023-05-16T16:56:01.816820",
     "status": "completed"
    },
    "tags": [
     "injected-parameters"
    ]
   },
   "outputs": [],
   "source": [
    "# Parameters\n",
    "ffpkl = \"pc_pbe0dz_clusters.ff.pkl\"\n"
   ]
  },
  {
   "cell_type": "markdown",
   "id": "4929ade5-fae6-464f-bff0-b457e6121d28",
   "metadata": {
    "papermill": {
     "duration": 0.001318,
     "end_time": "2023-05-16T16:56:01.834307",
     "exception": false,
     "start_time": "2023-05-16T16:56:01.832989",
     "status": "completed"
    },
    "tags": []
   },
   "source": [
    "#  LJ fit\n"
   ]
  },
  {
   "cell_type": "code",
   "execution_count": 5,
   "id": "6899f6f0-095a-4be0-af80-a9eaff304995",
   "metadata": {
    "papermill": {
     "duration": 0.882757,
     "end_time": "2023-05-16T16:56:02.718303",
     "exception": false,
     "start_time": "2023-05-16T16:56:01.835546",
     "status": "completed"
    },
    "tags": []
   },
   "outputs": [
    {
     "name": "stderr",
     "output_type": "stream",
     "text": [
      "No GPU/TPU found, falling back to CPU. (Set TF_CPP_MIN_LOG_LEVEL=0 and rerun for more info.)\n"
     ]
    },
    {
     "data": {
      "text/plain": [
       "FF: LJ water_cluster ELEC harmonic intE (jax_coloumb: True)"
      ]
     },
     "execution_count": 5,
     "metadata": {},
     "output_type": "execute_result"
    }
   ],
   "source": [
    "_c = next(read_from_pickle(f\"ff/{ffpkl}\"))\n",
    "_c"
   ]
  },
  {
   "cell_type": "code",
   "execution_count": 6,
   "id": "5c0ffd7e-d07d-47c5-83a9-72bdfb455d51",
   "metadata": {
    "papermill": {
     "duration": 0.004948,
     "end_time": "2023-05-16T16:56:02.724847",
     "exception": false,
     "start_time": "2023-05-16T16:56:02.719899",
     "status": "completed"
    },
    "tags": []
   },
   "outputs": [],
   "source": [
    "# _c.targets"
   ]
  },
  {
   "cell_type": "code",
   "execution_count": 7,
   "id": "3c41100d-1ee7-4fa9-b16b-03e9af0fab04",
   "metadata": {
    "papermill": {
     "duration": 1.650307,
     "end_time": "2023-05-16T16:56:04.376632",
     "exception": false,
     "start_time": "2023-05-16T16:56:02.726325",
     "status": "completed"
    },
    "tags": []
   },
   "outputs": [
    {
     "name": "stderr",
     "output_type": "stream",
     "text": [
      "/home/boittier/Documents/phd/ff_energy/ff_energy/ffe/ff_fit.py:175: OptimizeWarning: Unknown solver options: pgtol\n",
      "  res = minimize(\n"
     ]
    }
   ],
   "source": [
    "fit_repeat(_c, \n",
    "           NLJ, \n",
    "           f\"{ffpkl}_LJ\",\n",
    "           bounds = LJ_bound,\n",
    "           loss=\"jax\",\n",
    "           quiet='true'\n",
    "          )"
   ]
  },
  {
   "cell_type": "code",
   "execution_count": 8,
   "id": "c2babd82-4ded-4e51-a5d5-49437f6d8f41",
   "metadata": {
    "papermill": {
     "duration": 0.017836,
     "end_time": "2023-05-16T16:56:04.396143",
     "exception": false,
     "start_time": "2023-05-16T16:56:04.378307",
     "status": "completed"
    },
    "tags": []
   },
   "outputs": [
    {
     "data": {
      "text/html": [
       "<div>\n",
       "<style scoped>\n",
       "    .dataframe tbody tr th:only-of-type {\n",
       "        vertical-align: middle;\n",
       "    }\n",
       "\n",
       "    .dataframe tbody tr th {\n",
       "        vertical-align: top;\n",
       "    }\n",
       "\n",
       "    .dataframe thead th {\n",
       "        text-align: right;\n",
       "    }\n",
       "</style>\n",
       "<table border=\"1\" class=\"dataframe\">\n",
       "  <thead>\n",
       "    <tr style=\"text-align: right;\">\n",
       "      <th></th>\n",
       "      <th>fun</th>\n",
       "      <th>nit</th>\n",
       "      <th>nfev</th>\n",
       "      <th>status</th>\n",
       "      <th>success</th>\n",
       "      <th>message</th>\n",
       "      <th>x</th>\n",
       "      <th>final_simplex</th>\n",
       "    </tr>\n",
       "  </thead>\n",
       "  <tbody>\n",
       "    <tr>\n",
       "      <th>3</th>\n",
       "      <td>29.763702</td>\n",
       "      <td>401</td>\n",
       "      <td>705</td>\n",
       "      <td>0</td>\n",
       "      <td>True</td>\n",
       "      <td>Optimization terminated successfully.</td>\n",
       "      <td>[0.06636429338741104, 1.7453106012283122, 0.49...</td>\n",
       "      <td>([[0.06636429338741104, 1.7453106012283122, 0....</td>\n",
       "    </tr>\n",
       "    <tr>\n",
       "      <th>6</th>\n",
       "      <td>29.765310</td>\n",
       "      <td>383</td>\n",
       "      <td>674</td>\n",
       "      <td>0</td>\n",
       "      <td>True</td>\n",
       "      <td>Optimization terminated successfully.</td>\n",
       "      <td>[0.053350764603618595, 1.7434291775315645, 0.5...</td>\n",
       "      <td>([[0.053350764603618595, 1.7434291775315645, 0...</td>\n",
       "    </tr>\n",
       "    <tr>\n",
       "      <th>0</th>\n",
       "      <td>34.610264</td>\n",
       "      <td>574</td>\n",
       "      <td>1018</td>\n",
       "      <td>0</td>\n",
       "      <td>True</td>\n",
       "      <td>Optimization terminated successfully.</td>\n",
       "      <td>[1.2387412754363547, 1.236692848557819, 0.0213...</td>\n",
       "      <td>([[1.2387412754363547, 1.236692848557819, 0.02...</td>\n",
       "    </tr>\n",
       "    <tr>\n",
       "      <th>1</th>\n",
       "      <td>34.619930</td>\n",
       "      <td>201</td>\n",
       "      <td>404</td>\n",
       "      <td>0</td>\n",
       "      <td>True</td>\n",
       "      <td>Optimization terminated successfully.</td>\n",
       "      <td>[1.284626066505722, 1.1666920045831595, 0.0131...</td>\n",
       "      <td>([[1.284626066505722, 1.1666920045831595, 0.01...</td>\n",
       "    </tr>\n",
       "    <tr>\n",
       "      <th>8</th>\n",
       "      <td>34.638767</td>\n",
       "      <td>193</td>\n",
       "      <td>352</td>\n",
       "      <td>0</td>\n",
       "      <td>True</td>\n",
       "      <td>Optimization terminated successfully.</td>\n",
       "      <td>[1.3291337175285167, 1.114732531326755, 0.0083...</td>\n",
       "      <td>([[1.3291337175285167, 1.114732531326755, 0.00...</td>\n",
       "    </tr>\n",
       "    <tr>\n",
       "      <th>7</th>\n",
       "      <td>34.719040</td>\n",
       "      <td>255</td>\n",
       "      <td>498</td>\n",
       "      <td>0</td>\n",
       "      <td>True</td>\n",
       "      <td>Optimization terminated successfully.</td>\n",
       "      <td>[1.4907276117136883, 0.9535757561670598, 0.002...</td>\n",
       "      <td>([[1.4907276117136883, 0.9535757561670598, 0.0...</td>\n",
       "    </tr>\n",
       "    <tr>\n",
       "      <th>5</th>\n",
       "      <td>34.720638</td>\n",
       "      <td>190</td>\n",
       "      <td>373</td>\n",
       "      <td>0</td>\n",
       "      <td>True</td>\n",
       "      <td>Optimization terminated successfully.</td>\n",
       "      <td>[1.494531138825348, 0.9500064642656461, 0.0019...</td>\n",
       "      <td>([[1.494531138825348, 0.9500064642656461, 0.00...</td>\n",
       "    </tr>\n",
       "    <tr>\n",
       "      <th>2</th>\n",
       "      <td>35.805412</td>\n",
       "      <td>187</td>\n",
       "      <td>350</td>\n",
       "      <td>0</td>\n",
       "      <td>True</td>\n",
       "      <td>Optimization terminated successfully.</td>\n",
       "      <td>[0.05, 1.6657358164445832, 0.001, 0.5]</td>\n",
       "      <td>([[0.05, 1.6657358164445832, 0.001, 0.5], [0.0...</td>\n",
       "    </tr>\n",
       "    <tr>\n",
       "      <th>4</th>\n",
       "      <td>57.004795</td>\n",
       "      <td>182</td>\n",
       "      <td>339</td>\n",
       "      <td>0</td>\n",
       "      <td>True</td>\n",
       "      <td>Optimization terminated successfully.</td>\n",
       "      <td>[1.7670454678908014, 0.05000000000000002, 0.00...</td>\n",
       "      <td>([[1.7670454678908014, 0.05000000000000002, 0....</td>\n",
       "    </tr>\n",
       "    <tr>\n",
       "      <th>9</th>\n",
       "      <td>129.745026</td>\n",
       "      <td>53</td>\n",
       "      <td>147</td>\n",
       "      <td>0</td>\n",
       "      <td>True</td>\n",
       "      <td>Optimization terminated successfully.</td>\n",
       "      <td>[0.05, 0.05, 0.1431469696030614, 0.5]</td>\n",
       "      <td>([[0.05, 0.05, 0.1431469696030614, 0.5], [0.05...</td>\n",
       "    </tr>\n",
       "  </tbody>\n",
       "</table>\n",
       "</div>"
      ],
      "text/plain": [
       "          fun  nit  nfev  status  success  \\\n",
       "3   29.763702  401   705       0     True   \n",
       "6   29.765310  383   674       0     True   \n",
       "0   34.610264  574  1018       0     True   \n",
       "1   34.619930  201   404       0     True   \n",
       "8   34.638767  193   352       0     True   \n",
       "7   34.719040  255   498       0     True   \n",
       "5   34.720638  190   373       0     True   \n",
       "2   35.805412  187   350       0     True   \n",
       "4   57.004795  182   339       0     True   \n",
       "9  129.745026   53   147       0     True   \n",
       "\n",
       "                                 message  \\\n",
       "3  Optimization terminated successfully.   \n",
       "6  Optimization terminated successfully.   \n",
       "0  Optimization terminated successfully.   \n",
       "1  Optimization terminated successfully.   \n",
       "8  Optimization terminated successfully.   \n",
       "7  Optimization terminated successfully.   \n",
       "5  Optimization terminated successfully.   \n",
       "2  Optimization terminated successfully.   \n",
       "4  Optimization terminated successfully.   \n",
       "9  Optimization terminated successfully.   \n",
       "\n",
       "                                                   x  \\\n",
       "3  [0.06636429338741104, 1.7453106012283122, 0.49...   \n",
       "6  [0.053350764603618595, 1.7434291775315645, 0.5...   \n",
       "0  [1.2387412754363547, 1.236692848557819, 0.0213...   \n",
       "1  [1.284626066505722, 1.1666920045831595, 0.0131...   \n",
       "8  [1.3291337175285167, 1.114732531326755, 0.0083...   \n",
       "7  [1.4907276117136883, 0.9535757561670598, 0.002...   \n",
       "5  [1.494531138825348, 0.9500064642656461, 0.0019...   \n",
       "2             [0.05, 1.6657358164445832, 0.001, 0.5]   \n",
       "4  [1.7670454678908014, 0.05000000000000002, 0.00...   \n",
       "9              [0.05, 0.05, 0.1431469696030614, 0.5]   \n",
       "\n",
       "                                       final_simplex  \n",
       "3  ([[0.06636429338741104, 1.7453106012283122, 0....  \n",
       "6  ([[0.053350764603618595, 1.7434291775315645, 0...  \n",
       "0  ([[1.2387412754363547, 1.236692848557819, 0.02...  \n",
       "1  ([[1.284626066505722, 1.1666920045831595, 0.01...  \n",
       "8  ([[1.3291337175285167, 1.114732531326755, 0.00...  \n",
       "7  ([[1.4907276117136883, 0.9535757561670598, 0.0...  \n",
       "5  ([[1.494531138825348, 0.9500064642656461, 0.00...  \n",
       "2  ([[0.05, 1.6657358164445832, 0.001, 0.5], [0.0...  \n",
       "4  ([[1.7670454678908014, 0.05000000000000002, 0....  \n",
       "9  ([[0.05, 0.05, 0.1431469696030614, 0.5], [0.05...  "
      ]
     },
     "execution_count": 8,
     "metadata": {},
     "output_type": "execute_result"
    }
   ],
   "source": [
    "pd.DataFrame(_c.opt_results).sort_values(\"fun\")"
   ]
  },
  {
   "cell_type": "markdown",
   "id": "3ee71679-1ff0-454b-8d80-94dbec05e2d6",
   "metadata": {
    "papermill": {
     "duration": 0.002071,
     "end_time": "2023-05-16T16:56:04.399773",
     "exception": false,
     "start_time": "2023-05-16T16:56:04.397702",
     "status": "completed"
    },
    "tags": []
   },
   "source": [
    "#  DE fit\n"
   ]
  },
  {
   "cell_type": "code",
   "execution_count": 9,
   "id": "5dcbe52f-bf23-4e82-8958-845cd1584ea3",
   "metadata": {
    "papermill": {
     "duration": 0.872671,
     "end_time": "2023-05-16T16:56:05.273902",
     "exception": false,
     "start_time": "2023-05-16T16:56:04.401231",
     "status": "completed"
    },
    "tags": []
   },
   "outputs": [],
   "source": [
    "_c = next(read_from_pickle(f\"ff/{ffpkl}\"))"
   ]
  },
  {
   "cell_type": "code",
   "execution_count": 10,
   "id": "4ef7f9a4-0011-44ed-942e-111587ccba3f",
   "metadata": {
    "papermill": {
     "duration": 3.567359,
     "end_time": "2023-05-16T16:56:08.843105",
     "exception": false,
     "start_time": "2023-05-16T16:56:05.275746",
     "status": "completed"
    },
    "tags": []
   },
   "outputs": [
    {
     "name": "stderr",
     "output_type": "stream",
     "text": [
      "/home/boittier/Documents/phd/ff_energy/ff_energy/ffe/ff_fit.py:175: OptimizeWarning: Unknown solver options: pgtol\n",
      "  res = minimize(\n"
     ]
    }
   ],
   "source": [
    "fit_repeat(_c, \n",
    "           NDE, \n",
    "           \"test\",\n",
    "           bounds = DE_bound,\n",
    "           loss=\"jax_de\",\n",
    "           quiet='true'\n",
    "          )"
   ]
  },
  {
   "cell_type": "code",
   "execution_count": 11,
   "id": "f7323a6b-2cfa-4956-900b-641a96aa0bb2",
   "metadata": {
    "papermill": {
     "duration": 0.01091,
     "end_time": "2023-05-16T16:56:08.855943",
     "exception": false,
     "start_time": "2023-05-16T16:56:08.845033",
     "status": "completed"
    },
    "tags": []
   },
   "outputs": [
    {
     "data": {
      "text/html": [
       "<div>\n",
       "<style scoped>\n",
       "    .dataframe tbody tr th:only-of-type {\n",
       "        vertical-align: middle;\n",
       "    }\n",
       "\n",
       "    .dataframe tbody tr th {\n",
       "        vertical-align: top;\n",
       "    }\n",
       "\n",
       "    .dataframe thead th {\n",
       "        text-align: right;\n",
       "    }\n",
       "</style>\n",
       "<table border=\"1\" class=\"dataframe\">\n",
       "  <thead>\n",
       "    <tr style=\"text-align: right;\">\n",
       "      <th></th>\n",
       "      <th>fun</th>\n",
       "      <th>nit</th>\n",
       "      <th>nfev</th>\n",
       "      <th>status</th>\n",
       "      <th>success</th>\n",
       "      <th>message</th>\n",
       "      <th>x</th>\n",
       "      <th>final_simplex</th>\n",
       "    </tr>\n",
       "  </thead>\n",
       "  <tbody>\n",
       "    <tr>\n",
       "      <th>8</th>\n",
       "      <td>30.051018</td>\n",
       "      <td>506</td>\n",
       "      <td>891</td>\n",
       "      <td>0</td>\n",
       "      <td>True</td>\n",
       "      <td>Optimization terminated successfully.</td>\n",
       "      <td>[0.3422224239657698, 1.7162941194368841, 0.001...</td>\n",
       "      <td>([[0.3422224239657698, 1.7162941194368841, 0.0...</td>\n",
       "    </tr>\n",
       "    <tr>\n",
       "      <th>6</th>\n",
       "      <td>32.356266</td>\n",
       "      <td>926</td>\n",
       "      <td>1515</td>\n",
       "      <td>0</td>\n",
       "      <td>True</td>\n",
       "      <td>Optimization terminated successfully.</td>\n",
       "      <td>[0.3405504536710282, 1.8592562236353292, 0.011...</td>\n",
       "      <td>([[0.3405504536710282, 1.8592562236353292, 0.0...</td>\n",
       "    </tr>\n",
       "    <tr>\n",
       "      <th>2</th>\n",
       "      <td>34.027721</td>\n",
       "      <td>1003</td>\n",
       "      <td>1598</td>\n",
       "      <td>0</td>\n",
       "      <td>True</td>\n",
       "      <td>Optimization terminated successfully.</td>\n",
       "      <td>[1.3062915368423942, 1.756543627563648, 0.0216...</td>\n",
       "      <td>([[1.3062915368423942, 1.756543627563648, 0.02...</td>\n",
       "    </tr>\n",
       "    <tr>\n",
       "      <th>3</th>\n",
       "      <td>34.420235</td>\n",
       "      <td>589</td>\n",
       "      <td>982</td>\n",
       "      <td>0</td>\n",
       "      <td>True</td>\n",
       "      <td>Optimization terminated successfully.</td>\n",
       "      <td>[1.7110393505162946, 0.9160429546842916, 0.001...</td>\n",
       "      <td>([[1.7110393505162946, 0.9160429546842916, 0.0...</td>\n",
       "    </tr>\n",
       "    <tr>\n",
       "      <th>5</th>\n",
       "      <td>34.933304</td>\n",
       "      <td>595</td>\n",
       "      <td>1029</td>\n",
       "      <td>0</td>\n",
       "      <td>True</td>\n",
       "      <td>Optimization terminated successfully.</td>\n",
       "      <td>[1.392385896337885, 0.8516252549861464, 0.0010...</td>\n",
       "      <td>([[1.392385896337885, 0.8516252549861464, 0.00...</td>\n",
       "    </tr>\n",
       "    <tr>\n",
       "      <th>1</th>\n",
       "      <td>36.858353</td>\n",
       "      <td>656</td>\n",
       "      <td>1091</td>\n",
       "      <td>0</td>\n",
       "      <td>True</td>\n",
       "      <td>Optimization terminated successfully.</td>\n",
       "      <td>[1.222747329881375, 2.460079547197252, 0.13860...</td>\n",
       "      <td>([[1.222747329881375, 2.460079547197252, 0.138...</td>\n",
       "    </tr>\n",
       "    <tr>\n",
       "      <th>4</th>\n",
       "      <td>42.223080</td>\n",
       "      <td>795</td>\n",
       "      <td>1334</td>\n",
       "      <td>0</td>\n",
       "      <td>True</td>\n",
       "      <td>Optimization terminated successfully.</td>\n",
       "      <td>[2.470524261923879, 0.05, 0.009134268238258402...</td>\n",
       "      <td>([[2.470524261923879, 0.05, 0.0091342682382584...</td>\n",
       "    </tr>\n",
       "    <tr>\n",
       "      <th>0</th>\n",
       "      <td>129.745026</td>\n",
       "      <td>63</td>\n",
       "      <td>239</td>\n",
       "      <td>0</td>\n",
       "      <td>True</td>\n",
       "      <td>Optimization terminated successfully.</td>\n",
       "      <td>[0.05, 0.42405140031149546, 0.4946834966510481...</td>\n",
       "      <td>([[0.05, 0.42405140031149546, 0.49468349665104...</td>\n",
       "    </tr>\n",
       "    <tr>\n",
       "      <th>7</th>\n",
       "      <td>129.745026</td>\n",
       "      <td>41</td>\n",
       "      <td>201</td>\n",
       "      <td>0</td>\n",
       "      <td>True</td>\n",
       "      <td>Optimization terminated successfully.</td>\n",
       "      <td>[0.13267816582383452, 0.07163941108371863, 0.2...</td>\n",
       "      <td>([[0.13267816582383452, 0.07163941108371863, 0...</td>\n",
       "    </tr>\n",
       "    <tr>\n",
       "      <th>9</th>\n",
       "      <td>129.745026</td>\n",
       "      <td>54</td>\n",
       "      <td>219</td>\n",
       "      <td>0</td>\n",
       "      <td>True</td>\n",
       "      <td>Optimization terminated successfully.</td>\n",
       "      <td>[0.4117324170916983, 0.05, 0.00170589193014417...</td>\n",
       "      <td>([[0.4117324170916983, 0.05, 0.001705891930144...</td>\n",
       "    </tr>\n",
       "  </tbody>\n",
       "</table>\n",
       "</div>"
      ],
      "text/plain": [
       "          fun   nit  nfev  status  success  \\\n",
       "8   30.051018   506   891       0     True   \n",
       "6   32.356266   926  1515       0     True   \n",
       "2   34.027721  1003  1598       0     True   \n",
       "3   34.420235   589   982       0     True   \n",
       "5   34.933304   595  1029       0     True   \n",
       "1   36.858353   656  1091       0     True   \n",
       "4   42.223080   795  1334       0     True   \n",
       "0  129.745026    63   239       0     True   \n",
       "7  129.745026    41   201       0     True   \n",
       "9  129.745026    54   219       0     True   \n",
       "\n",
       "                                 message  \\\n",
       "8  Optimization terminated successfully.   \n",
       "6  Optimization terminated successfully.   \n",
       "2  Optimization terminated successfully.   \n",
       "3  Optimization terminated successfully.   \n",
       "5  Optimization terminated successfully.   \n",
       "1  Optimization terminated successfully.   \n",
       "4  Optimization terminated successfully.   \n",
       "0  Optimization terminated successfully.   \n",
       "7  Optimization terminated successfully.   \n",
       "9  Optimization terminated successfully.   \n",
       "\n",
       "                                                   x  \\\n",
       "8  [0.3422224239657698, 1.7162941194368841, 0.001...   \n",
       "6  [0.3405504536710282, 1.8592562236353292, 0.011...   \n",
       "2  [1.3062915368423942, 1.756543627563648, 0.0216...   \n",
       "3  [1.7110393505162946, 0.9160429546842916, 0.001...   \n",
       "5  [1.392385896337885, 0.8516252549861464, 0.0010...   \n",
       "1  [1.222747329881375, 2.460079547197252, 0.13860...   \n",
       "4  [2.470524261923879, 0.05, 0.009134268238258402...   \n",
       "0  [0.05, 0.42405140031149546, 0.4946834966510481...   \n",
       "7  [0.13267816582383452, 0.07163941108371863, 0.2...   \n",
       "9  [0.4117324170916983, 0.05, 0.00170589193014417...   \n",
       "\n",
       "                                       final_simplex  \n",
       "8  ([[0.3422224239657698, 1.7162941194368841, 0.0...  \n",
       "6  ([[0.3405504536710282, 1.8592562236353292, 0.0...  \n",
       "2  ([[1.3062915368423942, 1.756543627563648, 0.02...  \n",
       "3  ([[1.7110393505162946, 0.9160429546842916, 0.0...  \n",
       "5  ([[1.392385896337885, 0.8516252549861464, 0.00...  \n",
       "1  ([[1.222747329881375, 2.460079547197252, 0.138...  \n",
       "4  ([[2.470524261923879, 0.05, 0.0091342682382584...  \n",
       "0  ([[0.05, 0.42405140031149546, 0.49468349665104...  \n",
       "7  ([[0.13267816582383452, 0.07163941108371863, 0...  \n",
       "9  ([[0.4117324170916983, 0.05, 0.001705891930144...  "
      ]
     },
     "execution_count": 11,
     "metadata": {},
     "output_type": "execute_result"
    }
   ],
   "source": [
    "pd.DataFrame(_c.opt_results).sort_values(\"fun\")"
   ]
  },
  {
   "cell_type": "code",
   "execution_count": null,
   "id": "242da085-5e5c-42a4-b5ad-0764c9d955dc",
   "metadata": {
    "papermill": {
     "duration": 0.001718,
     "end_time": "2023-05-16T16:56:08.859351",
     "exception": false,
     "start_time": "2023-05-16T16:56:08.857633",
     "status": "completed"
    },
    "tags": []
   },
   "outputs": [],
   "source": []
  }
 ],
 "metadata": {
  "kernelspec": {
   "display_name": "pycharmm",
   "language": "python",
   "name": "pycharmm"
  },
  "language_info": {
   "codemirror_mode": {
    "name": "ipython",
    "version": 3
   },
   "file_extension": ".py",
   "mimetype": "text/x-python",
   "name": "python",
   "nbconvert_exporter": "python",
   "pygments_lexer": "ipython3",
   "version": "3.8.16"
  },
  "papermill": {
   "default_parameters": {},
   "duration": 9.421183,
   "end_time": "2023-05-16T16:56:09.465804",
   "environment_variables": {},
   "exception": null,
   "input_path": "templates/ff_template.ipynb",
   "output_path": "out_notebooks/ff/pc_pbe0dz_FOE.ff.pkl.ipynb",
   "parameters": {
    "ffpkl": "pc_pbe0dz_FOE.ff.pkl"
   },
   "start_time": "2023-05-16T16:56:00.044621",
   "version": "2.4.0"
  }
 },
 "nbformat": 4,
 "nbformat_minor": 5
}
