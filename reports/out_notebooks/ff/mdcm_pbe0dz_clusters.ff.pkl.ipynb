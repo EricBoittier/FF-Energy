{
 "cells": [
  {
   "cell_type": "code",
   "execution_count": 23,
   "id": "51a2cc71-403a-4961-b6be-0d0335c0c36f",
   "metadata": {
    "papermill": {
     "duration": 0.908013,
     "end_time": "2023-05-16T16:01:48.268081",
     "exception": false,
     "start_time": "2023-05-16T16:01:47.360068",
     "status": "completed"
    },
    "tags": []
   },
   "outputs": [],
   "source": [
    "from pathlib import Path\n",
    "import pandas as pd\n",
    "import matplotlib.pyplot as plt\n",
    "import seaborn as sns\n",
    "import numpy as np\n",
    "from ff_energy.ffe.utils import read_from_pickle\n",
    "import jax.numpy as jnp\n",
    "from ff_energy.ffe.plot import plot_energy_MSE, plot_ff_fit\n",
    "from ff_energy.ffe.structure import atom_key_pairs\n",
    "from ff_energy.ffe.potential import LJ, akp_indx\n",
    "from ff_energy.ffe.ff import FF\n",
    "from ff_energy.ffe.ff_fit import LJ_bound, load_ff, fit_func, fit_repeat\n",
    "from ff_energy.ffe.data import pairs_data\n",
    "from ff_energy.ffe.utils import pickle_output, read_from_pickle, str2int\n",
    "\n",
    "\n"
   ]
  },
  {
   "cell_type": "code",
   "execution_count": 24,
   "id": "19d05f34-1c6b-4229-b564-ec451028a44f",
   "metadata": {
    "papermill": {
     "duration": 0.005667,
     "end_time": "2023-05-16T16:01:48.275289",
     "exception": false,
     "start_time": "2023-05-16T16:01:48.269622",
     "status": "completed"
    },
    "tags": []
   },
   "outputs": [],
   "source": [
    "NDE = 10\n",
    "NLJ = 10\n",
    "sig_bound = (0.05, 2.5)\n",
    "ep_bound = (0.001, 0.5)\n",
    "LJ_bound = ((sig_bound), (sig_bound), (ep_bound), (ep_bound))\n",
    "DE_bound = ((sig_bound), (sig_bound), (ep_bound), (ep_bound), \n",
    "            (1, 8), (6, 20))"
   ]
  },
  {
   "cell_type": "code",
   "execution_count": 25,
   "id": "06d2180b-ab57-47fe-ab69-210cc07a06ee",
   "metadata": {
    "papermill": {
     "duration": 0.015479,
     "end_time": "2023-05-16T16:01:48.291964",
     "exception": false,
     "start_time": "2023-05-16T16:01:48.276485",
     "status": "completed"
    },
    "tags": [
     "parameters"
    ]
   },
   "outputs": [],
   "source": [
    "#  example\n",
    "# ffpkl = \"ECOL_pbe0dz_FOE.ff.pkl\""
   ]
  },
  {
   "cell_type": "code",
   "execution_count": 26,
   "id": "ebc88f6b",
   "metadata": {
    "papermill": {
     "duration": 0.014845,
     "end_time": "2023-05-16T16:01:48.308044",
     "exception": false,
     "start_time": "2023-05-16T16:01:48.293199",
     "status": "completed"
    },
    "tags": [
     "injected-parameters"
    ]
   },
   "outputs": [],
   "source": [
    "# Parameters\n",
    "ffpkl = \"mdcm_pbe0dz_clusters.ff.pkl\"\n"
   ]
  },
  {
   "cell_type": "markdown",
   "id": "4929ade5-fae6-464f-bff0-b457e6121d28",
   "metadata": {
    "papermill": {
     "duration": 0.001265,
     "end_time": "2023-05-16T16:01:48.310565",
     "exception": false,
     "start_time": "2023-05-16T16:01:48.309300",
     "status": "completed"
    },
    "tags": []
   },
   "source": [
    "#  LJ fit\n"
   ]
  },
  {
   "cell_type": "code",
   "execution_count": 40,
   "id": "6899f6f0-095a-4be0-af80-a9eaff304995",
   "metadata": {
    "papermill": {
     "duration": 0.985514,
     "end_time": "2023-05-16T16:01:49.297314",
     "exception": false,
     "start_time": "2023-05-16T16:01:48.311800",
     "status": "completed"
    },
    "tags": []
   },
   "outputs": [
    {
     "data": {
      "text/plain": [
       "FF: LJ water_cluster ELEC harmonic intE (jax_coloumb: True)"
      ]
     },
     "execution_count": 40,
     "metadata": {},
     "output_type": "execute_result"
    }
   ],
   "source": [
    "_c = next(read_from_pickle(f\"ff/{ffpkl}\"))\n",
    "_c"
   ]
  },
  {
   "cell_type": "code",
   "execution_count": 41,
   "id": "5c0ffd7e-d07d-47c5-83a9-72bdfb455d51",
   "metadata": {
    "papermill": {
     "duration": 0.008199,
     "end_time": "2023-05-16T16:01:49.307202",
     "exception": false,
     "start_time": "2023-05-16T16:01:49.299003",
     "status": "completed"
    },
    "tags": []
   },
   "outputs": [],
   "source": [
    "# _c.targets"
   ]
  },
  {
   "cell_type": "code",
   "execution_count": 42,
   "id": "3c41100d-1ee7-4fa9-b16b-03e9af0fab04",
   "metadata": {
    "papermill": {
     "duration": 2.434105,
     "end_time": "2023-05-16T16:01:51.742768",
     "exception": false,
     "start_time": "2023-05-16T16:01:49.308663",
     "status": "completed"
    },
    "tags": []
   },
   "outputs": [
    {
     "name": "stderr",
     "output_type": "stream",
     "text": [
      "/home/boittier/Documents/phd/ff_energy/ff_energy/ffe/ff_fit.py:174: OptimizeWarning: Unknown solver options: pgtol\n",
      "  res = minimize(\n"
     ]
    }
   ],
   "source": [
    "fit_repeat(_c, \n",
    "           NLJ, \n",
    "           f\"{ffpkl}_LJ\",\n",
    "           bounds = LJ_bound,\n",
    "           loss=\"jax\",\n",
    "           quiet='true'\n",
    "          )"
   ]
  },
  {
   "cell_type": "code",
   "execution_count": 43,
   "id": "c2babd82-4ded-4e51-a5d5-49437f6d8f41",
   "metadata": {
    "papermill": {
     "duration": 0.011466,
     "end_time": "2023-05-16T16:01:51.755959",
     "exception": false,
     "start_time": "2023-05-16T16:01:51.744493",
     "status": "completed"
    },
    "tags": []
   },
   "outputs": [
    {
     "data": {
      "text/html": [
       "<div>\n",
       "<style scoped>\n",
       "    .dataframe tbody tr th:only-of-type {\n",
       "        vertical-align: middle;\n",
       "    }\n",
       "\n",
       "    .dataframe tbody tr th {\n",
       "        vertical-align: top;\n",
       "    }\n",
       "\n",
       "    .dataframe thead th {\n",
       "        text-align: right;\n",
       "    }\n",
       "</style>\n",
       "<table border=\"1\" class=\"dataframe\">\n",
       "  <thead>\n",
       "    <tr style=\"text-align: right;\">\n",
       "      <th></th>\n",
       "      <th>fun</th>\n",
       "      <th>nit</th>\n",
       "      <th>nfev</th>\n",
       "      <th>status</th>\n",
       "      <th>success</th>\n",
       "      <th>message</th>\n",
       "      <th>x</th>\n",
       "      <th>final_simplex</th>\n",
       "    </tr>\n",
       "  </thead>\n",
       "  <tbody>\n",
       "    <tr>\n",
       "      <th>1</th>\n",
       "      <td>16.279213</td>\n",
       "      <td>107</td>\n",
       "      <td>242</td>\n",
       "      <td>0</td>\n",
       "      <td>True</td>\n",
       "      <td>Optimization terminated successfully.</td>\n",
       "      <td>[0.11385642287948355, 1.808702200297021, 0.052...</td>\n",
       "      <td>([[0.11385642287948355, 1.808702200297021, 0.0...</td>\n",
       "    </tr>\n",
       "    <tr>\n",
       "      <th>7</th>\n",
       "      <td>16.285727</td>\n",
       "      <td>151</td>\n",
       "      <td>294</td>\n",
       "      <td>0</td>\n",
       "      <td>True</td>\n",
       "      <td>Optimization terminated successfully.</td>\n",
       "      <td>[0.05227990133014991, 1.8331754155181081, 0.23...</td>\n",
       "      <td>([[0.05227990133014991, 1.8331754155181081, 0....</td>\n",
       "    </tr>\n",
       "    <tr>\n",
       "      <th>0</th>\n",
       "      <td>16.286459</td>\n",
       "      <td>235</td>\n",
       "      <td>439</td>\n",
       "      <td>0</td>\n",
       "      <td>True</td>\n",
       "      <td>Optimization terminated successfully.</td>\n",
       "      <td>[0.05000000000000086, 1.818192400427217, 0.130...</td>\n",
       "      <td>([[0.05000000000000086, 1.818192400427217, 0.1...</td>\n",
       "    </tr>\n",
       "    <tr>\n",
       "      <th>9</th>\n",
       "      <td>16.308668</td>\n",
       "      <td>232</td>\n",
       "      <td>452</td>\n",
       "      <td>0</td>\n",
       "      <td>True</td>\n",
       "      <td>Optimization terminated successfully.</td>\n",
       "      <td>[0.4143515602774177, 1.8038772861071504, 0.006...</td>\n",
       "      <td>([[0.4143515602774177, 1.8038772861071504, 0.0...</td>\n",
       "    </tr>\n",
       "    <tr>\n",
       "      <th>3</th>\n",
       "      <td>16.323795</td>\n",
       "      <td>363</td>\n",
       "      <td>653</td>\n",
       "      <td>0</td>\n",
       "      <td>True</td>\n",
       "      <td>Optimization terminated successfully.</td>\n",
       "      <td>[0.050002929471845134, 1.8619766754361884, 0.4...</td>\n",
       "      <td>([[0.050002929471845134, 1.8619766754361884, 0...</td>\n",
       "    </tr>\n",
       "    <tr>\n",
       "      <th>8</th>\n",
       "      <td>16.323799</td>\n",
       "      <td>359</td>\n",
       "      <td>619</td>\n",
       "      <td>0</td>\n",
       "      <td>True</td>\n",
       "      <td>Optimization terminated successfully.</td>\n",
       "      <td>[0.050000270891198705, 1.8618010581565496, 0.5...</td>\n",
       "      <td>([[0.050000270891198705, 1.8618010581565496, 0...</td>\n",
       "    </tr>\n",
       "    <tr>\n",
       "      <th>5</th>\n",
       "      <td>27.281115</td>\n",
       "      <td>333</td>\n",
       "      <td>598</td>\n",
       "      <td>0</td>\n",
       "      <td>True</td>\n",
       "      <td>Optimization terminated successfully.</td>\n",
       "      <td>[1.664340205832399, 0.9612137272340543, 0.001,...</td>\n",
       "      <td>([[1.664340205832399, 0.9612137272340543, 0.00...</td>\n",
       "    </tr>\n",
       "    <tr>\n",
       "      <th>6</th>\n",
       "      <td>27.281122</td>\n",
       "      <td>204</td>\n",
       "      <td>391</td>\n",
       "      <td>0</td>\n",
       "      <td>True</td>\n",
       "      <td>Optimization terminated successfully.</td>\n",
       "      <td>[1.664433059771683, 0.9610955443593516, 0.001,...</td>\n",
       "      <td>([[1.664433059771683, 0.9610955443593516, 0.00...</td>\n",
       "    </tr>\n",
       "    <tr>\n",
       "      <th>2</th>\n",
       "      <td>536.786438</td>\n",
       "      <td>59</td>\n",
       "      <td>168</td>\n",
       "      <td>0</td>\n",
       "      <td>True</td>\n",
       "      <td>Optimization terminated successfully.</td>\n",
       "      <td>[0.1017963771379734, 0.05, 0.00369481758476521...</td>\n",
       "      <td>([[0.1017963771379734, 0.05, 0.003694817584765...</td>\n",
       "    </tr>\n",
       "    <tr>\n",
       "      <th>4</th>\n",
       "      <td>536.786438</td>\n",
       "      <td>53</td>\n",
       "      <td>159</td>\n",
       "      <td>0</td>\n",
       "      <td>True</td>\n",
       "      <td>Optimization terminated successfully.</td>\n",
       "      <td>[0.05521840853692639, 0.08567559490945773, 0.3...</td>\n",
       "      <td>([[0.05521840853692639, 0.08567559490945773, 0...</td>\n",
       "    </tr>\n",
       "  </tbody>\n",
       "</table>\n",
       "</div>"
      ],
      "text/plain": [
       "          fun  nit  nfev  status  success  \\\n",
       "1   16.279213  107   242       0     True   \n",
       "7   16.285727  151   294       0     True   \n",
       "0   16.286459  235   439       0     True   \n",
       "9   16.308668  232   452       0     True   \n",
       "3   16.323795  363   653       0     True   \n",
       "8   16.323799  359   619       0     True   \n",
       "5   27.281115  333   598       0     True   \n",
       "6   27.281122  204   391       0     True   \n",
       "2  536.786438   59   168       0     True   \n",
       "4  536.786438   53   159       0     True   \n",
       "\n",
       "                                 message  \\\n",
       "1  Optimization terminated successfully.   \n",
       "7  Optimization terminated successfully.   \n",
       "0  Optimization terminated successfully.   \n",
       "9  Optimization terminated successfully.   \n",
       "3  Optimization terminated successfully.   \n",
       "8  Optimization terminated successfully.   \n",
       "5  Optimization terminated successfully.   \n",
       "6  Optimization terminated successfully.   \n",
       "2  Optimization terminated successfully.   \n",
       "4  Optimization terminated successfully.   \n",
       "\n",
       "                                                   x  \\\n",
       "1  [0.11385642287948355, 1.808702200297021, 0.052...   \n",
       "7  [0.05227990133014991, 1.8331754155181081, 0.23...   \n",
       "0  [0.05000000000000086, 1.818192400427217, 0.130...   \n",
       "9  [0.4143515602774177, 1.8038772861071504, 0.006...   \n",
       "3  [0.050002929471845134, 1.8619766754361884, 0.4...   \n",
       "8  [0.050000270891198705, 1.8618010581565496, 0.5...   \n",
       "5  [1.664340205832399, 0.9612137272340543, 0.001,...   \n",
       "6  [1.664433059771683, 0.9610955443593516, 0.001,...   \n",
       "2  [0.1017963771379734, 0.05, 0.00369481758476521...   \n",
       "4  [0.05521840853692639, 0.08567559490945773, 0.3...   \n",
       "\n",
       "                                       final_simplex  \n",
       "1  ([[0.11385642287948355, 1.808702200297021, 0.0...  \n",
       "7  ([[0.05227990133014991, 1.8331754155181081, 0....  \n",
       "0  ([[0.05000000000000086, 1.818192400427217, 0.1...  \n",
       "9  ([[0.4143515602774177, 1.8038772861071504, 0.0...  \n",
       "3  ([[0.050002929471845134, 1.8619766754361884, 0...  \n",
       "8  ([[0.050000270891198705, 1.8618010581565496, 0...  \n",
       "5  ([[1.664340205832399, 0.9612137272340543, 0.00...  \n",
       "6  ([[1.664433059771683, 0.9610955443593516, 0.00...  \n",
       "2  ([[0.1017963771379734, 0.05, 0.003694817584765...  \n",
       "4  ([[0.05521840853692639, 0.08567559490945773, 0...  "
      ]
     },
     "execution_count": 43,
     "metadata": {},
     "output_type": "execute_result"
    }
   ],
   "source": [
    "pd.DataFrame(_c.opt_results).sort_values(\"fun\")"
   ]
  },
  {
   "cell_type": "markdown",
   "id": "3ee71679-1ff0-454b-8d80-94dbec05e2d6",
   "metadata": {
    "papermill": {
     "duration": 0.005328,
     "end_time": "2023-05-16T16:01:51.762764",
     "exception": false,
     "start_time": "2023-05-16T16:01:51.757436",
     "status": "completed"
    },
    "tags": []
   },
   "source": [
    "#  DE fit\n"
   ]
  },
  {
   "cell_type": "code",
   "execution_count": 36,
   "id": "5dcbe52f-bf23-4e82-8958-845cd1584ea3",
   "metadata": {
    "papermill": {
     "duration": 1.197672,
     "end_time": "2023-05-16T16:01:52.961902",
     "exception": false,
     "start_time": "2023-05-16T16:01:51.764230",
     "status": "completed"
    },
    "tags": []
   },
   "outputs": [],
   "source": [
    "_c = next(read_from_pickle(f\"ff/{ffpkl}\"))"
   ]
  },
  {
   "cell_type": "code",
   "execution_count": 37,
   "id": "4ef7f9a4-0011-44ed-942e-111587ccba3f",
   "metadata": {
    "papermill": {
     "duration": 4.39489,
     "end_time": "2023-05-16T16:01:57.358690",
     "exception": false,
     "start_time": "2023-05-16T16:01:52.963800",
     "status": "completed"
    },
    "tags": []
   },
   "outputs": [
    {
     "name": "stderr",
     "output_type": "stream",
     "text": [
      "/home/boittier/Documents/phd/ff_energy/ff_energy/ffe/ff_fit.py:174: OptimizeWarning: Unknown solver options: pgtol\n",
      "  res = minimize(\n"
     ]
    }
   ],
   "source": [
    "fit_repeat(_c, \n",
    "           NDE, \n",
    "           \"test\",\n",
    "           bounds = DE_bound,\n",
    "           loss=\"jax_de\",\n",
    "           quiet='true'\n",
    "          )"
   ]
  },
  {
   "cell_type": "code",
   "execution_count": 39,
   "id": "f7323a6b-2cfa-4956-900b-641a96aa0bb2",
   "metadata": {
    "papermill": {
     "duration": 0.010982,
     "end_time": "2023-05-16T16:01:57.371503",
     "exception": false,
     "start_time": "2023-05-16T16:01:57.360521",
     "status": "completed"
    },
    "tags": []
   },
   "outputs": [
    {
     "data": {
      "text/html": [
       "<div>\n",
       "<style scoped>\n",
       "    .dataframe tbody tr th:only-of-type {\n",
       "        vertical-align: middle;\n",
       "    }\n",
       "\n",
       "    .dataframe tbody tr th {\n",
       "        vertical-align: top;\n",
       "    }\n",
       "\n",
       "    .dataframe thead th {\n",
       "        text-align: right;\n",
       "    }\n",
       "</style>\n",
       "<table border=\"1\" class=\"dataframe\">\n",
       "  <thead>\n",
       "    <tr style=\"text-align: right;\">\n",
       "      <th></th>\n",
       "      <th>fun</th>\n",
       "      <th>nit</th>\n",
       "      <th>nfev</th>\n",
       "      <th>status</th>\n",
       "      <th>success</th>\n",
       "      <th>message</th>\n",
       "      <th>x</th>\n",
       "      <th>final_simplex</th>\n",
       "    </tr>\n",
       "  </thead>\n",
       "  <tbody>\n",
       "    <tr>\n",
       "      <th>1</th>\n",
       "      <td>16.178349</td>\n",
       "      <td>622</td>\n",
       "      <td>1058</td>\n",
       "      <td>0</td>\n",
       "      <td>True</td>\n",
       "      <td>Optimization terminated successfully.</td>\n",
       "      <td>[0.16172821365751386, 1.8325767858354398, 0.13...</td>\n",
       "      <td>([[0.16172821365751386, 1.8325767858354398, 0....</td>\n",
       "    </tr>\n",
       "    <tr>\n",
       "      <th>5</th>\n",
       "      <td>16.180923</td>\n",
       "      <td>1121</td>\n",
       "      <td>1835</td>\n",
       "      <td>0</td>\n",
       "      <td>True</td>\n",
       "      <td>Optimization terminated successfully.</td>\n",
       "      <td>[0.4623703400327051, 1.8179016741392386, 0.002...</td>\n",
       "      <td>([[0.4623703400327051, 1.8179016741392386, 0.0...</td>\n",
       "    </tr>\n",
       "    <tr>\n",
       "      <th>0</th>\n",
       "      <td>16.206945</td>\n",
       "      <td>908</td>\n",
       "      <td>1487</td>\n",
       "      <td>0</td>\n",
       "      <td>True</td>\n",
       "      <td>Optimization terminated successfully.</td>\n",
       "      <td>[0.14620791569498015, 1.7902355800861094, 0.25...</td>\n",
       "      <td>([[0.14620791569498015, 1.7902355800861094, 0....</td>\n",
       "    </tr>\n",
       "    <tr>\n",
       "      <th>7</th>\n",
       "      <td>16.237680</td>\n",
       "      <td>682</td>\n",
       "      <td>1128</td>\n",
       "      <td>0</td>\n",
       "      <td>True</td>\n",
       "      <td>Optimization terminated successfully.</td>\n",
       "      <td>[0.2235624279668617, 1.7891905068337857, 0.125...</td>\n",
       "      <td>([[0.2235624279668617, 1.7891905068337857, 0.1...</td>\n",
       "    </tr>\n",
       "    <tr>\n",
       "      <th>6</th>\n",
       "      <td>20.811485</td>\n",
       "      <td>1491</td>\n",
       "      <td>2364</td>\n",
       "      <td>0</td>\n",
       "      <td>True</td>\n",
       "      <td>Optimization terminated successfully.</td>\n",
       "      <td>[2.3233383919551285, 1.0172893203045963, 0.001...</td>\n",
       "      <td>([[2.3233383919551285, 1.0172893203045963, 0.0...</td>\n",
       "    </tr>\n",
       "    <tr>\n",
       "      <th>8</th>\n",
       "      <td>21.054459</td>\n",
       "      <td>789</td>\n",
       "      <td>1307</td>\n",
       "      <td>0</td>\n",
       "      <td>True</td>\n",
       "      <td>Optimization terminated successfully.</td>\n",
       "      <td>[1.7298452237138855, 1.0969872504655813, 0.001...</td>\n",
       "      <td>([[1.7298452237138855, 1.0969872504655813, 0.0...</td>\n",
       "    </tr>\n",
       "    <tr>\n",
       "      <th>3</th>\n",
       "      <td>21.197947</td>\n",
       "      <td>634</td>\n",
       "      <td>1062</td>\n",
       "      <td>0</td>\n",
       "      <td>True</td>\n",
       "      <td>Optimization terminated successfully.</td>\n",
       "      <td>[1.267690022287375, 2.4944085049494076, 0.0899...</td>\n",
       "      <td>([[1.267690022287375, 2.4944085049494076, 0.08...</td>\n",
       "    </tr>\n",
       "    <tr>\n",
       "      <th>2</th>\n",
       "      <td>536.786438</td>\n",
       "      <td>21</td>\n",
       "      <td>167</td>\n",
       "      <td>0</td>\n",
       "      <td>True</td>\n",
       "      <td>Optimization terminated successfully.</td>\n",
       "      <td>[0.10210801510277207, 0.15116488171414028, 0.4...</td>\n",
       "      <td>([[0.10210801510277207, 0.15116488171414028, 0...</td>\n",
       "    </tr>\n",
       "    <tr>\n",
       "      <th>4</th>\n",
       "      <td>536.786438</td>\n",
       "      <td>63</td>\n",
       "      <td>225</td>\n",
       "      <td>0</td>\n",
       "      <td>True</td>\n",
       "      <td>Optimization terminated successfully.</td>\n",
       "      <td>[0.05088611574405752, 0.25838309128460146, 0.2...</td>\n",
       "      <td>([[0.05088611574405752, 0.25838309128460146, 0...</td>\n",
       "    </tr>\n",
       "    <tr>\n",
       "      <th>9</th>\n",
       "      <td>536.786438</td>\n",
       "      <td>41</td>\n",
       "      <td>207</td>\n",
       "      <td>0</td>\n",
       "      <td>True</td>\n",
       "      <td>Optimization terminated successfully.</td>\n",
       "      <td>[0.1712342162973508, 0.09172934676293532, 0.13...</td>\n",
       "      <td>([[0.1712342162973508, 0.09172934676293532, 0....</td>\n",
       "    </tr>\n",
       "  </tbody>\n",
       "</table>\n",
       "</div>"
      ],
      "text/plain": [
       "          fun   nit  nfev  status  success  \\\n",
       "1   16.178349   622  1058       0     True   \n",
       "5   16.180923  1121  1835       0     True   \n",
       "0   16.206945   908  1487       0     True   \n",
       "7   16.237680   682  1128       0     True   \n",
       "6   20.811485  1491  2364       0     True   \n",
       "8   21.054459   789  1307       0     True   \n",
       "3   21.197947   634  1062       0     True   \n",
       "2  536.786438    21   167       0     True   \n",
       "4  536.786438    63   225       0     True   \n",
       "9  536.786438    41   207       0     True   \n",
       "\n",
       "                                 message  \\\n",
       "1  Optimization terminated successfully.   \n",
       "5  Optimization terminated successfully.   \n",
       "0  Optimization terminated successfully.   \n",
       "7  Optimization terminated successfully.   \n",
       "6  Optimization terminated successfully.   \n",
       "8  Optimization terminated successfully.   \n",
       "3  Optimization terminated successfully.   \n",
       "2  Optimization terminated successfully.   \n",
       "4  Optimization terminated successfully.   \n",
       "9  Optimization terminated successfully.   \n",
       "\n",
       "                                                   x  \\\n",
       "1  [0.16172821365751386, 1.8325767858354398, 0.13...   \n",
       "5  [0.4623703400327051, 1.8179016741392386, 0.002...   \n",
       "0  [0.14620791569498015, 1.7902355800861094, 0.25...   \n",
       "7  [0.2235624279668617, 1.7891905068337857, 0.125...   \n",
       "6  [2.3233383919551285, 1.0172893203045963, 0.001...   \n",
       "8  [1.7298452237138855, 1.0969872504655813, 0.001...   \n",
       "3  [1.267690022287375, 2.4944085049494076, 0.0899...   \n",
       "2  [0.10210801510277207, 0.15116488171414028, 0.4...   \n",
       "4  [0.05088611574405752, 0.25838309128460146, 0.2...   \n",
       "9  [0.1712342162973508, 0.09172934676293532, 0.13...   \n",
       "\n",
       "                                       final_simplex  \n",
       "1  ([[0.16172821365751386, 1.8325767858354398, 0....  \n",
       "5  ([[0.4623703400327051, 1.8179016741392386, 0.0...  \n",
       "0  ([[0.14620791569498015, 1.7902355800861094, 0....  \n",
       "7  ([[0.2235624279668617, 1.7891905068337857, 0.1...  \n",
       "6  ([[2.3233383919551285, 1.0172893203045963, 0.0...  \n",
       "8  ([[1.7298452237138855, 1.0969872504655813, 0.0...  \n",
       "3  ([[1.267690022287375, 2.4944085049494076, 0.08...  \n",
       "2  ([[0.10210801510277207, 0.15116488171414028, 0...  \n",
       "4  ([[0.05088611574405752, 0.25838309128460146, 0...  \n",
       "9  ([[0.1712342162973508, 0.09172934676293532, 0....  "
      ]
     },
     "execution_count": 39,
     "metadata": {},
     "output_type": "execute_result"
    }
   ],
   "source": [
    "pd.DataFrame(_c.opt_results).sort_values(\"fun\")"
   ]
  },
  {
   "cell_type": "code",
   "execution_count": null,
   "id": "242da085-5e5c-42a4-b5ad-0764c9d955dc",
   "metadata": {
    "papermill": {
     "duration": 0.001686,
     "end_time": "2023-05-16T16:01:57.374800",
     "exception": false,
     "start_time": "2023-05-16T16:01:57.373114",
     "status": "completed"
    },
    "tags": []
   },
   "outputs": [],
   "source": []
  },
  {
   "cell_type": "code",
   "execution_count": null,
   "id": "a2184bec-7628-40fc-8a39-f5771a391db1",
   "metadata": {},
   "outputs": [],
   "source": []
  }
 ],
 "metadata": {
  "kernelspec": {
   "display_name": "pycharmm",
   "language": "python",
   "name": "pycharmm"
  },
  "language_info": {
   "codemirror_mode": {
    "name": "ipython",
    "version": 3
   },
   "file_extension": ".py",
   "mimetype": "text/x-python",
   "name": "python",
   "nbconvert_exporter": "python",
   "pygments_lexer": "ipython3",
   "version": "3.8.16"
  },
  "papermill": {
   "default_parameters": {},
   "duration": 11.386876,
   "end_time": "2023-05-16T16:01:57.985358",
   "environment_variables": {},
   "exception": null,
   "input_path": "templates/ff_template.ipynb",
   "output_path": "out_notebooks/ff/mdcm_pbe0dz_clusters.ff.pkl.ipynb",
   "parameters": {
    "ffpkl": "mdcm_pbe0dz_clusters.ff.pkl"
   },
   "start_time": "2023-05-16T16:01:46.598482",
   "version": "2.4.0"
  }
 },
 "nbformat": 4,
 "nbformat_minor": 5
}
