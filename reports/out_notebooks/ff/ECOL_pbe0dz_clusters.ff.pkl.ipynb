{
 "cells": [
  {
   "cell_type": "code",
   "execution_count": 1,
   "id": "51a2cc71-403a-4961-b6be-0d0335c0c36f",
   "metadata": {
    "papermill": {
     "duration": 0.859116,
     "end_time": "2023-05-16T14:09:52.206620",
     "exception": false,
     "start_time": "2023-05-16T14:09:51.347504",
     "status": "completed"
    },
    "tags": []
   },
   "outputs": [],
   "source": [
    "from pathlib import Path\n",
    "import pandas as pd\n",
    "import matplotlib.pyplot as plt\n",
    "import seaborn as sns\n",
    "import numpy as np\n",
    "from ff_energy.ffe.utils import read_from_pickle\n",
    "import jax.numpy as jnp\n",
    "from ff_energy.ffe.plot import plot_energy_MSE, plot_ff_fit\n",
    "from ff_energy.ffe.structure import atom_key_pairs\n",
    "from ff_energy.ffe.potential import LJ, akp_indx\n",
    "from ff_energy.ffe.ff import FF\n",
    "from ff_energy.ffe.ff_fit import LJ_bound, load_ff, fit_func, fit_repeat\n",
    "from ff_energy.ffe.data import pairs_data\n",
    "from ff_energy.ffe.utils import pickle_output, read_from_pickle, str2int\n",
    "\n",
    "\n"
   ]
  },
  {
   "cell_type": "code",
   "execution_count": 15,
   "id": "19d05f34-1c6b-4229-b564-ec451028a44f",
   "metadata": {
    "papermill": {
     "duration": 0.005333,
     "end_time": "2023-05-16T14:09:52.213422",
     "exception": false,
     "start_time": "2023-05-16T14:09:52.208089",
     "status": "completed"
    },
    "tags": []
   },
   "outputs": [],
   "source": [
    "sig_bound = (0.001, 2.5)\n",
    "ep_bound = (0.001, 2.5)\n",
    "chg_bound = (100,2000)\n",
    "\n",
    "CHGPEN_bound = [(chg_bound),(chg_bound),(chg_bound),(chg_bound),(0,2000)]\n",
    "LJ_bound = ((sig_bound), (sig_bound), (ep_bound), (ep_bound))\n",
    "DE_bound = ((sig_bound), (sig_bound), (ep_bound), (ep_bound), \n",
    "            (1, 8), (6, 20))"
   ]
  },
  {
   "cell_type": "code",
   "execution_count": 3,
   "id": "06d2180b-ab57-47fe-ab69-210cc07a06ee",
   "metadata": {
    "papermill": {
     "duration": 0.019972,
     "end_time": "2023-05-16T14:09:52.234640",
     "exception": false,
     "start_time": "2023-05-16T14:09:52.214668",
     "status": "completed"
    },
    "tags": [
     "parameters"
    ]
   },
   "outputs": [],
   "source": [
    "#  example\n",
    "# ffpkl = \"ECOL_pbe0dz_FOE.ff.pkl\""
   ]
  },
  {
   "cell_type": "code",
   "execution_count": 4,
   "id": "864e5efb",
   "metadata": {
    "papermill": {
     "duration": 0.015285,
     "end_time": "2023-05-16T14:09:52.251144",
     "exception": false,
     "start_time": "2023-05-16T14:09:52.235859",
     "status": "completed"
    },
    "tags": [
     "injected-parameters"
    ]
   },
   "outputs": [],
   "source": [
    "# Parameters\n",
    "ffpkl = \"ECOL_pbe0dz_clusters.ff.pkl\"\n"
   ]
  },
  {
   "cell_type": "markdown",
   "id": "4929ade5-fae6-464f-bff0-b457e6121d28",
   "metadata": {
    "papermill": {
     "duration": 0.001398,
     "end_time": "2023-05-16T14:09:52.253934",
     "exception": false,
     "start_time": "2023-05-16T14:09:52.252536",
     "status": "completed"
    },
    "tags": []
   },
   "source": [
    "#  LJ fit\n"
   ]
  },
  {
   "cell_type": "code",
   "execution_count": 16,
   "id": "6899f6f0-095a-4be0-af80-a9eaff304995",
   "metadata": {
    "papermill": {
     "duration": 0.864552,
     "end_time": "2023-05-16T14:09:53.119906",
     "exception": false,
     "start_time": "2023-05-16T14:09:52.255354",
     "status": "completed"
    },
    "tags": []
   },
   "outputs": [
    {
     "data": {
      "text/plain": [
       "FF: LJ water_cluster ECOL Exact intE (jax_coloumb: False)"
      ]
     },
     "execution_count": 16,
     "metadata": {},
     "output_type": "execute_result"
    }
   ],
   "source": [
    "_c = next(read_from_pickle(f\"ff/{ffpkl}\"))\n",
    "_c"
   ]
  },
  {
   "cell_type": "code",
   "execution_count": 6,
   "id": "5c0ffd7e-d07d-47c5-83a9-72bdfb455d51",
   "metadata": {
    "papermill": {
     "duration": 0.005183,
     "end_time": "2023-05-16T14:09:53.126644",
     "exception": false,
     "start_time": "2023-05-16T14:09:53.121461",
     "status": "completed"
    },
    "tags": []
   },
   "outputs": [],
   "source": [
    "# _c.targets"
   ]
  },
  {
   "cell_type": "code",
   "execution_count": 26,
   "id": "3c41100d-1ee7-4fa9-b16b-03e9af0fab04",
   "metadata": {
    "papermill": {
     "duration": 47.810475,
     "end_time": "2023-05-16T14:10:40.938514",
     "exception": false,
     "start_time": "2023-05-16T14:09:53.128039",
     "status": "completed"
    },
    "tags": []
   },
   "outputs": [
    {
     "name": "stderr",
     "output_type": "stream",
     "text": [
      "/home/boittier/Documents/phd/ff_energy/ff_energy/ffe/ff_fit.py:175: OptimizeWarning: Unknown solver options: pgtol\n",
      "  res = minimize(\n"
     ]
    }
   ],
   "source": [
    "fit_repeat(_c, \n",
    "           3, \n",
    "           f\"{ffpkl}_LJ\",\n",
    "           bounds = LJ_bound,\n",
    "           loss=\"jax\",\n",
    "           quiet='true'\n",
    "          )"
   ]
  },
  {
   "cell_type": "code",
   "execution_count": 27,
   "id": "c2babd82-4ded-4e51-a5d5-49437f6d8f41",
   "metadata": {
    "papermill": {
     "duration": 0.046938,
     "end_time": "2023-05-16T14:10:40.988053",
     "exception": false,
     "start_time": "2023-05-16T14:10:40.941115",
     "status": "completed"
    },
    "tags": []
   },
   "outputs": [
    {
     "data": {
      "text/html": [
       "<div>\n",
       "<style scoped>\n",
       "    .dataframe tbody tr th:only-of-type {\n",
       "        vertical-align: middle;\n",
       "    }\n",
       "\n",
       "    .dataframe tbody tr th {\n",
       "        vertical-align: top;\n",
       "    }\n",
       "\n",
       "    .dataframe thead th {\n",
       "        text-align: right;\n",
       "    }\n",
       "</style>\n",
       "<table border=\"1\" class=\"dataframe\">\n",
       "  <thead>\n",
       "    <tr style=\"text-align: right;\">\n",
       "      <th></th>\n",
       "      <th>fun</th>\n",
       "      <th>nit</th>\n",
       "      <th>nfev</th>\n",
       "      <th>status</th>\n",
       "      <th>success</th>\n",
       "      <th>message</th>\n",
       "      <th>x</th>\n",
       "      <th>final_simplex</th>\n",
       "    </tr>\n",
       "  </thead>\n",
       "  <tbody>\n",
       "    <tr>\n",
       "      <th>5</th>\n",
       "      <td>319.147644</td>\n",
       "      <td>432</td>\n",
       "      <td>743</td>\n",
       "      <td>0</td>\n",
       "      <td>True</td>\n",
       "      <td>Optimization terminated successfully.</td>\n",
       "      <td>[0.001, 2.5, 0.001, 0.0075410345500456465]</td>\n",
       "      <td>([[0.001, 2.5, 0.001, 0.0075410345500456465], ...</td>\n",
       "    </tr>\n",
       "    <tr>\n",
       "      <th>3</th>\n",
       "      <td>319.147736</td>\n",
       "      <td>707</td>\n",
       "      <td>1217</td>\n",
       "      <td>0</td>\n",
       "      <td>True</td>\n",
       "      <td>Optimization terminated successfully.</td>\n",
       "      <td>[0.001, 2.499998213954245, 0.001, 0.0075409834...</td>\n",
       "      <td>([[0.001, 2.499998213954245, 0.001, 0.00754098...</td>\n",
       "    </tr>\n",
       "    <tr>\n",
       "      <th>2</th>\n",
       "      <td>319.149139</td>\n",
       "      <td>487</td>\n",
       "      <td>827</td>\n",
       "      <td>0</td>\n",
       "      <td>True</td>\n",
       "      <td>Optimization terminated successfully.</td>\n",
       "      <td>[0.001, 2.5, 0.0010018543709556312, 0.00754160...</td>\n",
       "      <td>([[0.001, 2.5, 0.0010018543709556312, 0.007541...</td>\n",
       "    </tr>\n",
       "    <tr>\n",
       "      <th>1</th>\n",
       "      <td>458.764771</td>\n",
       "      <td>306</td>\n",
       "      <td>563</td>\n",
       "      <td>0</td>\n",
       "      <td>True</td>\n",
       "      <td>Optimization terminated successfully.</td>\n",
       "      <td>[0.002564546225299443, 2.2290969870233797, 2.5...</td>\n",
       "      <td>([[0.002564546225299443, 2.2290969870233797, 2...</td>\n",
       "    </tr>\n",
       "    <tr>\n",
       "      <th>4</th>\n",
       "      <td>1044.884277</td>\n",
       "      <td>336</td>\n",
       "      <td>607</td>\n",
       "      <td>0</td>\n",
       "      <td>True</td>\n",
       "      <td>Optimization terminated successfully.</td>\n",
       "      <td>[1.864439123517367, 0.9251054027770511, 0.0014...</td>\n",
       "      <td>([[1.864439123517367, 0.9251054027770511, 0.00...</td>\n",
       "    </tr>\n",
       "    <tr>\n",
       "      <th>0</th>\n",
       "      <td>19700.291016</td>\n",
       "      <td>52</td>\n",
       "      <td>160</td>\n",
       "      <td>0</td>\n",
       "      <td>True</td>\n",
       "      <td>Optimization terminated successfully.</td>\n",
       "      <td>[0.001, 0.001, 2.5, 0.3448839818311519]</td>\n",
       "      <td>([[0.001, 0.001, 2.5, 0.3448839818311519], [0....</td>\n",
       "    </tr>\n",
       "  </tbody>\n",
       "</table>\n",
       "</div>"
      ],
      "text/plain": [
       "            fun  nit  nfev  status  success  \\\n",
       "5    319.147644  432   743       0     True   \n",
       "3    319.147736  707  1217       0     True   \n",
       "2    319.149139  487   827       0     True   \n",
       "1    458.764771  306   563       0     True   \n",
       "4   1044.884277  336   607       0     True   \n",
       "0  19700.291016   52   160       0     True   \n",
       "\n",
       "                                 message  \\\n",
       "5  Optimization terminated successfully.   \n",
       "3  Optimization terminated successfully.   \n",
       "2  Optimization terminated successfully.   \n",
       "1  Optimization terminated successfully.   \n",
       "4  Optimization terminated successfully.   \n",
       "0  Optimization terminated successfully.   \n",
       "\n",
       "                                                   x  \\\n",
       "5         [0.001, 2.5, 0.001, 0.0075410345500456465]   \n",
       "3  [0.001, 2.499998213954245, 0.001, 0.0075409834...   \n",
       "2  [0.001, 2.5, 0.0010018543709556312, 0.00754160...   \n",
       "1  [0.002564546225299443, 2.2290969870233797, 2.5...   \n",
       "4  [1.864439123517367, 0.9251054027770511, 0.0014...   \n",
       "0            [0.001, 0.001, 2.5, 0.3448839818311519]   \n",
       "\n",
       "                                       final_simplex  \n",
       "5  ([[0.001, 2.5, 0.001, 0.0075410345500456465], ...  \n",
       "3  ([[0.001, 2.499998213954245, 0.001, 0.00754098...  \n",
       "2  ([[0.001, 2.5, 0.0010018543709556312, 0.007541...  \n",
       "1  ([[0.002564546225299443, 2.2290969870233797, 2...  \n",
       "4  ([[1.864439123517367, 0.9251054027770511, 0.00...  \n",
       "0  ([[0.001, 0.001, 2.5, 0.3448839818311519], [0....  "
      ]
     },
     "execution_count": 27,
     "metadata": {},
     "output_type": "execute_result"
    }
   ],
   "source": [
    "pd.DataFrame(_c.opt_results).sort_values(\"fun\")"
   ]
  },
  {
   "cell_type": "code",
   "execution_count": 25,
   "id": "edcbc634-8f9b-48dc-8d3f-61755f608b35",
   "metadata": {},
   "outputs": [
    {
     "data": {
      "text/plain": [
       "array([1.00000000e-03, 2.50000000e+00, 1.00185437e-03, 7.54160033e-03])"
      ]
     },
     "execution_count": 25,
     "metadata": {},
     "output_type": "execute_result"
    }
   ],
   "source": [
    "list(pd.DataFrame(_c.opt_results).sort_values(\"fun\").x)[0]"
   ]
  },
  {
   "cell_type": "markdown",
   "id": "3ee71679-1ff0-454b-8d80-94dbec05e2d6",
   "metadata": {
    "papermill": {
     "duration": 0.002573,
     "end_time": "2023-05-16T14:10:40.993334",
     "exception": false,
     "start_time": "2023-05-16T14:10:40.990761",
     "status": "completed"
    },
    "tags": []
   },
   "source": [
    "#  DE fit\n"
   ]
  },
  {
   "cell_type": "code",
   "execution_count": 19,
   "id": "5dcbe52f-bf23-4e82-8958-845cd1584ea3",
   "metadata": {
    "papermill": {
     "duration": 0.800813,
     "end_time": "2023-05-16T14:10:41.796739",
     "exception": false,
     "start_time": "2023-05-16T14:10:40.995926",
     "status": "completed"
    },
    "tags": []
   },
   "outputs": [],
   "source": [
    "DEFF = next(read_from_pickle(f\"ff/{ffpkl}\"))"
   ]
  },
  {
   "cell_type": "code",
   "execution_count": 20,
   "id": "4ef7f9a4-0011-44ed-942e-111587ccba3f",
   "metadata": {
    "papermill": {
     "duration": 93.709955,
     "end_time": "2023-05-16T14:12:15.509721",
     "exception": false,
     "start_time": "2023-05-16T14:10:41.799766",
     "status": "completed"
    },
    "tags": []
   },
   "outputs": [
    {
     "name": "stderr",
     "output_type": "stream",
     "text": [
      "/home/boittier/Documents/phd/ff_energy/ff_energy/ffe/ff_fit.py:175: OptimizeWarning: Unknown solver options: pgtol\n",
      "  res = minimize(\n"
     ]
    }
   ],
   "source": [
    "fit_repeat(DEFF, \n",
    "           10, \n",
    "           \"test\",\n",
    "           bounds = DE_bound,\n",
    "           loss=\"jax_de\",\n",
    "           quiet='true'\n",
    "          )"
   ]
  },
  {
   "cell_type": "code",
   "execution_count": 21,
   "id": "f7323a6b-2cfa-4956-900b-641a96aa0bb2",
   "metadata": {
    "papermill": {
     "duration": 0.056099,
     "end_time": "2023-05-16T14:12:15.568869",
     "exception": false,
     "start_time": "2023-05-16T14:12:15.512770",
     "status": "completed"
    },
    "tags": []
   },
   "outputs": [
    {
     "data": {
      "text/html": [
       "<div>\n",
       "<style scoped>\n",
       "    .dataframe tbody tr th:only-of-type {\n",
       "        vertical-align: middle;\n",
       "    }\n",
       "\n",
       "    .dataframe tbody tr th {\n",
       "        vertical-align: top;\n",
       "    }\n",
       "\n",
       "    .dataframe thead th {\n",
       "        text-align: right;\n",
       "    }\n",
       "</style>\n",
       "<table border=\"1\" class=\"dataframe\">\n",
       "  <thead>\n",
       "    <tr style=\"text-align: right;\">\n",
       "      <th></th>\n",
       "      <th>fun</th>\n",
       "      <th>nit</th>\n",
       "      <th>nfev</th>\n",
       "      <th>status</th>\n",
       "      <th>success</th>\n",
       "      <th>message</th>\n",
       "      <th>x</th>\n",
       "      <th>final_simplex</th>\n",
       "    </tr>\n",
       "  </thead>\n",
       "  <tbody>\n",
       "    <tr>\n",
       "      <th>4</th>\n",
       "      <td>226.926987</td>\n",
       "      <td>1752</td>\n",
       "      <td>2762</td>\n",
       "      <td>0</td>\n",
       "      <td>True</td>\n",
       "      <td>Optimization terminated successfully.</td>\n",
       "      <td>[2.1757148888287796, 2.473551545521282, 0.0010...</td>\n",
       "      <td>([[2.1757148888287796, 2.473551545521282, 0.00...</td>\n",
       "    </tr>\n",
       "    <tr>\n",
       "      <th>5</th>\n",
       "      <td>251.949478</td>\n",
       "      <td>975</td>\n",
       "      <td>1600</td>\n",
       "      <td>0</td>\n",
       "      <td>True</td>\n",
       "      <td>Optimization terminated successfully.</td>\n",
       "      <td>[2.0845429263144917, 2.495445564153819, 0.0096...</td>\n",
       "      <td>([[2.0845429263144917, 2.495445564153819, 0.00...</td>\n",
       "    </tr>\n",
       "    <tr>\n",
       "      <th>9</th>\n",
       "      <td>279.912750</td>\n",
       "      <td>624</td>\n",
       "      <td>1040</td>\n",
       "      <td>0</td>\n",
       "      <td>True</td>\n",
       "      <td>Optimization terminated successfully.</td>\n",
       "      <td>[2.4942896889519117, 0.5719099627239144, 0.005...</td>\n",
       "      <td>([[2.4942896889519117, 0.5719099627239144, 0.0...</td>\n",
       "    </tr>\n",
       "    <tr>\n",
       "      <th>3</th>\n",
       "      <td>281.509338</td>\n",
       "      <td>772</td>\n",
       "      <td>1235</td>\n",
       "      <td>0</td>\n",
       "      <td>True</td>\n",
       "      <td>Optimization terminated successfully.</td>\n",
       "      <td>[0.001, 2.4999998519867717, 0.0092497631059851...</td>\n",
       "      <td>([[0.001, 2.4999998519867717, 0.00924976310598...</td>\n",
       "    </tr>\n",
       "    <tr>\n",
       "      <th>6</th>\n",
       "      <td>292.009277</td>\n",
       "      <td>650</td>\n",
       "      <td>1098</td>\n",
       "      <td>0</td>\n",
       "      <td>True</td>\n",
       "      <td>Optimization terminated successfully.</td>\n",
       "      <td>[2.5, 0.8630909844902293, 0.00926175520186966,...</td>\n",
       "      <td>([[2.5, 0.8630909844902293, 0.0092617552018696...</td>\n",
       "    </tr>\n",
       "    <tr>\n",
       "      <th>1</th>\n",
       "      <td>297.859741</td>\n",
       "      <td>570</td>\n",
       "      <td>946</td>\n",
       "      <td>0</td>\n",
       "      <td>True</td>\n",
       "      <td>Optimization terminated successfully.</td>\n",
       "      <td>[0.0010033470376129478, 2.4972993544838893, 2....</td>\n",
       "      <td>([[0.0010033470376129478, 2.4972993544838893, ...</td>\n",
       "    </tr>\n",
       "    <tr>\n",
       "      <th>0</th>\n",
       "      <td>19700.291016</td>\n",
       "      <td>49</td>\n",
       "      <td>216</td>\n",
       "      <td>0</td>\n",
       "      <td>True</td>\n",
       "      <td>Optimization terminated successfully.</td>\n",
       "      <td>[0.06082497801368181, 0.22659003180896642, 0.4...</td>\n",
       "      <td>([[0.06082497801368181, 0.22659003180896642, 0...</td>\n",
       "    </tr>\n",
       "    <tr>\n",
       "      <th>2</th>\n",
       "      <td>19700.291016</td>\n",
       "      <td>52</td>\n",
       "      <td>216</td>\n",
       "      <td>0</td>\n",
       "      <td>True</td>\n",
       "      <td>Optimization terminated successfully.</td>\n",
       "      <td>[0.001, 0.42714400746823733, 2.263224370064375...</td>\n",
       "      <td>([[0.001, 0.42714400746823733, 2.2632243700643...</td>\n",
       "    </tr>\n",
       "    <tr>\n",
       "      <th>7</th>\n",
       "      <td>19700.291016</td>\n",
       "      <td>45</td>\n",
       "      <td>199</td>\n",
       "      <td>0</td>\n",
       "      <td>True</td>\n",
       "      <td>Optimization terminated successfully.</td>\n",
       "      <td>[0.15167918190794294, 0.17523762649866076, 2.0...</td>\n",
       "      <td>([[0.15167918190794294, 0.17523762649866076, 2...</td>\n",
       "    </tr>\n",
       "    <tr>\n",
       "      <th>8</th>\n",
       "      <td>19700.291016</td>\n",
       "      <td>74</td>\n",
       "      <td>254</td>\n",
       "      <td>0</td>\n",
       "      <td>True</td>\n",
       "      <td>Optimization terminated successfully.</td>\n",
       "      <td>[0.07079822655673662, 0.2811234181313511, 2.5,...</td>\n",
       "      <td>([[0.07079822655673662, 0.2811234181313511, 2....</td>\n",
       "    </tr>\n",
       "  </tbody>\n",
       "</table>\n",
       "</div>"
      ],
      "text/plain": [
       "            fun   nit  nfev  status  success  \\\n",
       "4    226.926987  1752  2762       0     True   \n",
       "5    251.949478   975  1600       0     True   \n",
       "9    279.912750   624  1040       0     True   \n",
       "3    281.509338   772  1235       0     True   \n",
       "6    292.009277   650  1098       0     True   \n",
       "1    297.859741   570   946       0     True   \n",
       "0  19700.291016    49   216       0     True   \n",
       "2  19700.291016    52   216       0     True   \n",
       "7  19700.291016    45   199       0     True   \n",
       "8  19700.291016    74   254       0     True   \n",
       "\n",
       "                                 message  \\\n",
       "4  Optimization terminated successfully.   \n",
       "5  Optimization terminated successfully.   \n",
       "9  Optimization terminated successfully.   \n",
       "3  Optimization terminated successfully.   \n",
       "6  Optimization terminated successfully.   \n",
       "1  Optimization terminated successfully.   \n",
       "0  Optimization terminated successfully.   \n",
       "2  Optimization terminated successfully.   \n",
       "7  Optimization terminated successfully.   \n",
       "8  Optimization terminated successfully.   \n",
       "\n",
       "                                                   x  \\\n",
       "4  [2.1757148888287796, 2.473551545521282, 0.0010...   \n",
       "5  [2.0845429263144917, 2.495445564153819, 0.0096...   \n",
       "9  [2.4942896889519117, 0.5719099627239144, 0.005...   \n",
       "3  [0.001, 2.4999998519867717, 0.0092497631059851...   \n",
       "6  [2.5, 0.8630909844902293, 0.00926175520186966,...   \n",
       "1  [0.0010033470376129478, 2.4972993544838893, 2....   \n",
       "0  [0.06082497801368181, 0.22659003180896642, 0.4...   \n",
       "2  [0.001, 0.42714400746823733, 2.263224370064375...   \n",
       "7  [0.15167918190794294, 0.17523762649866076, 2.0...   \n",
       "8  [0.07079822655673662, 0.2811234181313511, 2.5,...   \n",
       "\n",
       "                                       final_simplex  \n",
       "4  ([[2.1757148888287796, 2.473551545521282, 0.00...  \n",
       "5  ([[2.0845429263144917, 2.495445564153819, 0.00...  \n",
       "9  ([[2.4942896889519117, 0.5719099627239144, 0.0...  \n",
       "3  ([[0.001, 2.4999998519867717, 0.00924976310598...  \n",
       "6  ([[2.5, 0.8630909844902293, 0.0092617552018696...  \n",
       "1  ([[0.0010033470376129478, 2.4972993544838893, ...  \n",
       "0  ([[0.06082497801368181, 0.22659003180896642, 0...  \n",
       "2  ([[0.001, 0.42714400746823733, 2.2632243700643...  \n",
       "7  ([[0.15167918190794294, 0.17523762649866076, 2...  \n",
       "8  ([[0.07079822655673662, 0.2811234181313511, 2....  "
      ]
     },
     "execution_count": 21,
     "metadata": {},
     "output_type": "execute_result"
    }
   ],
   "source": [
    "pd.DataFrame(DEFF.opt_results).sort_values(\"fun\")"
   ]
  },
  {
   "cell_type": "code",
   "execution_count": 24,
   "id": "242da085-5e5c-42a4-b5ad-0764c9d955dc",
   "metadata": {
    "papermill": {
     "duration": 0.002981,
     "end_time": "2023-05-16T14:12:15.574916",
     "exception": false,
     "start_time": "2023-05-16T14:12:15.571935",
     "status": "completed"
    },
    "tags": []
   },
   "outputs": [
    {
     "data": {
      "text/plain": [
       "array([2.17571489e+00, 2.47355155e+00, 1.00921262e-03, 1.08052108e-02,\n",
       "       7.99246300e+00, 1.09280242e+01])"
      ]
     },
     "execution_count": 24,
     "metadata": {},
     "output_type": "execute_result"
    }
   ],
   "source": [
    "list(pd.DataFrame(DEFF.opt_results).sort_values(\"fun\").x)[0]"
   ]
  },
  {
   "cell_type": "code",
   "execution_count": null,
   "id": "1a107f40-6335-4187-8337-38ce90b187ac",
   "metadata": {},
   "outputs": [],
   "source": []
  }
 ],
 "metadata": {
  "kernelspec": {
   "display_name": "pycharmm",
   "language": "python",
   "name": "pycharmm"
  },
  "language_info": {
   "codemirror_mode": {
    "name": "ipython",
    "version": 3
   },
   "file_extension": ".py",
   "mimetype": "text/x-python",
   "name": "python",
   "nbconvert_exporter": "python",
   "pygments_lexer": "ipython3",
   "version": "3.8.16"
  },
  "papermill": {
   "default_parameters": {},
   "duration": 145.761381,
   "end_time": "2023-05-16T14:12:16.186611",
   "environment_variables": {},
   "exception": null,
   "input_path": "templates/ff_template.ipynb",
   "output_path": "out_notebooks/ff/ECOL_pbe0dz_clusters.ff.pkl.ipynb",
   "parameters": {
    "ffpkl": "ECOL_pbe0dz_clusters.ff.pkl"
   },
   "start_time": "2023-05-16T14:09:50.425230",
   "version": "2.4.0"
  }
 },
 "nbformat": 4,
 "nbformat_minor": 5
}
