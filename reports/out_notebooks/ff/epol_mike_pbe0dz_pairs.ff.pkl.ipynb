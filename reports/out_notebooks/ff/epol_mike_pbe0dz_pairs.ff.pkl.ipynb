{
 "cells": [
  {
   "cell_type": "code",
   "execution_count": 1,
   "id": "51a2cc71-403a-4961-b6be-0d0335c0c36f",
   "metadata": {
    "execution": {
     "iopub.execute_input": "2023-05-16T14:42:14.556751Z",
     "iopub.status.busy": "2023-05-16T14:42:14.556429Z",
     "iopub.status.idle": "2023-05-16T14:42:15.556939Z",
     "shell.execute_reply": "2023-05-16T14:42:15.556620Z"
    },
    "papermill": {
     "duration": 1.017778,
     "end_time": "2023-05-16T14:42:15.557015",
     "exception": false,
     "start_time": "2023-05-16T14:42:14.539237",
     "status": "completed"
    },
    "tags": []
   },
   "outputs": [],
   "source": [
    "from pathlib import Path\n",
    "import pandas as pd\n",
    "import matplotlib.pyplot as plt\n",
    "import seaborn as sns\n",
    "import numpy as np\n",
    "from ff_energy.ffe.utils import read_from_pickle\n",
    "import jax.numpy as jnp\n",
    "from ff_energy.ffe.plot import plot_energy_MSE, plot_ff_fit\n",
    "from ff_energy.ffe.structure import atom_key_pairs\n",
    "from ff_energy.ffe.potential import LJ, akp_indx\n",
    "from ff_energy.ffe.ff import FF\n",
    "from ff_energy.ffe.ff_fit import LJ_bound, load_ff, fit_func, fit_repeat\n",
    "from ff_energy.ffe.data import pairs_data\n",
    "from ff_energy.ffe.utils import pickle_output, read_from_pickle, str2int\n",
    "\n",
    "\n"
   ]
  },
  {
   "cell_type": "code",
   "execution_count": 2,
   "id": "19d05f34-1c6b-4229-b564-ec451028a44f",
   "metadata": {
    "execution": {
     "iopub.execute_input": "2023-05-16T14:42:15.562243Z",
     "iopub.status.busy": "2023-05-16T14:42:15.561939Z",
     "iopub.status.idle": "2023-05-16T14:42:15.563396Z",
     "shell.execute_reply": "2023-05-16T14:42:15.563618Z"
    },
    "papermill": {
     "duration": 0.005113,
     "end_time": "2023-05-16T14:42:15.563689",
     "exception": false,
     "start_time": "2023-05-16T14:42:15.558576",
     "status": "completed"
    },
    "tags": []
   },
   "outputs": [],
   "source": [
    "sig_bound = (0.05, 2.5)\n",
    "ep_bound = (0.001, 0.5)\n",
    "LJ_bound = ((sig_bound), (sig_bound), (ep_bound), (ep_bound))\n",
    "DE_bound = ((sig_bound), (sig_bound), (ep_bound), (ep_bound), \n",
    "            (1, 8), (6, 20))"
   ]
  },
  {
   "cell_type": "code",
   "execution_count": 3,
   "id": "06d2180b-ab57-47fe-ab69-210cc07a06ee",
   "metadata": {
    "execution": {
     "iopub.execute_input": "2023-05-16T14:42:15.567587Z",
     "iopub.status.busy": "2023-05-16T14:42:15.567288Z",
     "iopub.status.idle": "2023-05-16T14:42:15.580866Z",
     "shell.execute_reply": "2023-05-16T14:42:15.581114Z"
    },
    "papermill": {
     "duration": 0.016207,
     "end_time": "2023-05-16T14:42:15.581209",
     "exception": false,
     "start_time": "2023-05-16T14:42:15.565002",
     "status": "completed"
    },
    "tags": [
     "parameters"
    ]
   },
   "outputs": [],
   "source": [
    "#  example\n",
    "# ffpkl = \"ECOL_pbe0dz_FOE.ff.pkl\""
   ]
  },
  {
   "cell_type": "code",
   "execution_count": 4,
   "id": "9bbb7030",
   "metadata": {
    "execution": {
     "iopub.execute_input": "2023-05-16T14:42:15.585319Z",
     "iopub.status.busy": "2023-05-16T14:42:15.585035Z",
     "iopub.status.idle": "2023-05-16T14:42:15.597547Z",
     "shell.execute_reply": "2023-05-16T14:42:15.597292Z"
    },
    "papermill": {
     "duration": 0.015182,
     "end_time": "2023-05-16T14:42:15.597604",
     "exception": false,
     "start_time": "2023-05-16T14:42:15.582422",
     "status": "completed"
    },
    "tags": [
     "injected-parameters"
    ]
   },
   "outputs": [],
   "source": [
    "# Parameters\n",
    "ffpkl = \"epol_mike_pbe0dz_pairs.ff.pkl\"\n"
   ]
  },
  {
   "cell_type": "markdown",
   "id": "4929ade5-fae6-464f-bff0-b457e6121d28",
   "metadata": {
    "papermill": {
     "duration": 0.001347,
     "end_time": "2023-05-16T14:42:15.600318",
     "exception": false,
     "start_time": "2023-05-16T14:42:15.598971",
     "status": "completed"
    },
    "tags": []
   },
   "source": [
    "#  LJ fit\n"
   ]
  },
  {
   "cell_type": "code",
   "execution_count": 5,
   "id": "6899f6f0-095a-4be0-af80-a9eaff304995",
   "metadata": {
    "execution": {
     "iopub.execute_input": "2023-05-16T14:42:15.604578Z",
     "iopub.status.busy": "2023-05-16T14:42:15.604297Z",
     "iopub.status.idle": "2023-05-16T14:42:16.524346Z",
     "shell.execute_reply": "2023-05-16T14:42:16.524584Z"
    },
    "papermill": {
     "duration": 0.923015,
     "end_time": "2023-05-16T14:42:16.524663",
     "exception": false,
     "start_time": "2023-05-16T14:42:15.601648",
     "status": "completed"
    },
    "tags": []
   },
   "outputs": [
    {
     "name": "stderr",
     "output_type": "stream",
     "text": [
      "No GPU/TPU found, falling back to CPU. (Set TF_CPP_MIN_LOG_LEVEL=0 and rerun for more info.)\n"
     ]
    },
    {
     "data": {
      "text/plain": [
       "FF: LJ water_cluster epol_mike Exact P_intE (jax_coloumb: False)"
      ]
     },
     "execution_count": 5,
     "metadata": {},
     "output_type": "execute_result"
    }
   ],
   "source": [
    "_c = next(read_from_pickle(f\"ff/{ffpkl}\"))\n",
    "_c"
   ]
  },
  {
   "cell_type": "code",
   "execution_count": 6,
   "id": "5c0ffd7e-d07d-47c5-83a9-72bdfb455d51",
   "metadata": {
    "execution": {
     "iopub.execute_input": "2023-05-16T14:42:16.529616Z",
     "iopub.status.busy": "2023-05-16T14:42:16.529302Z",
     "iopub.status.idle": "2023-05-16T14:42:16.531422Z",
     "shell.execute_reply": "2023-05-16T14:42:16.531152Z"
    },
    "papermill": {
     "duration": 0.005161,
     "end_time": "2023-05-16T14:42:16.531480",
     "exception": false,
     "start_time": "2023-05-16T14:42:16.526319",
     "status": "completed"
    },
    "tags": []
   },
   "outputs": [],
   "source": [
    "# _c.targets"
   ]
  },
  {
   "cell_type": "code",
   "execution_count": 7,
   "id": "3c41100d-1ee7-4fa9-b16b-03e9af0fab04",
   "metadata": {
    "execution": {
     "iopub.execute_input": "2023-05-16T14:42:16.536118Z",
     "iopub.status.busy": "2023-05-16T14:42:16.535819Z"
    },
    "papermill": {
     "duration": null,
     "end_time": null,
     "exception": false,
     "start_time": "2023-05-16T14:42:16.532927",
     "status": "running"
    },
    "tags": []
   },
   "outputs": [
    {
     "name": "stderr",
     "output_type": "stream",
     "text": [
      "/home/boittier/Documents/phd/ff_energy/ff_energy/ffe/ff_fit.py:174: OptimizeWarning: Unknown solver options: pgtol\n",
      "  res = minimize(\n"
     ]
    },
    {
     "name": "stdout",
     "output_type": "stream",
     "text": [
      "Optimizing LJ parameters...\n",
      "function: get_loss_jax\n",
      "bounds: ((0.05, 2.5), (0.05, 2.5), (0.001, 0.5), (0.001, 0.5))\n",
      "maxfev: 10000\n",
      "initial guess: [1.56931443855089, 2.2693592837435395, 0.43975703506488056, 0.06522761042957945]\n"
     ]
    },
    {
     "name": "stdout",
     "output_type": "stream",
     "text": [
      "final_loss_fn:  30.183462142944336\n",
      "       message: Optimization terminated successfully.\n",
      "       success: True\n",
      "        status: 0\n",
      "           fun: 30.183462142944336\n",
      "             x: [ 5.005e-02  2.233e+00  5.000e-01  1.935e-02]\n",
      "           nit: 395\n",
      "          nfev: 730\n",
      " final_simplex: (array([[ 5.005e-02,  2.233e+00,  5.000e-01,  1.935e-02],\n",
      "                       [ 5.005e-02,  2.233e+00,  5.000e-01,  1.935e-02],\n",
      "                       ...,\n",
      "                       [ 5.005e-02,  2.233e+00,  5.000e-01,  1.935e-02],\n",
      "                       [ 5.005e-02,  2.233e+00,  5.000e-01,  1.935e-02]]), array([ 3.018e+01,  3.018e+01,  3.018e+01,  3.018e+01,\n",
      "                        3.018e+01]))\n",
      "Optimizing LJ parameters...\n",
      "function: get_loss_jax\n",
      "bounds: ((0.05, 2.5), (0.05, 2.5), (0.001, 0.5), (0.001, 0.5))\n",
      "maxfev: 10000\n",
      "initial guess: [2.0721058031010093, 1.9040948766100119, 0.2737029007292274, 0.3320012374565531]\n"
     ]
    },
    {
     "name": "stdout",
     "output_type": "stream",
     "text": [
      "final_loss_fn:  70.47539520263672\n",
      "       message: Optimization terminated successfully.\n",
      "       success: True\n",
      "        status: 0\n",
      "           fun: 70.47539520263672\n",
      "             x: [ 5.000e-02  1.807e+00  1.000e-03  5.000e-01]\n",
      "           nit: 148\n",
      "          nfev: 278\n",
      " final_simplex: (array([[ 5.000e-02,  1.807e+00,  1.000e-03,  5.000e-01],\n",
      "                       [ 5.000e-02,  1.807e+00,  1.000e-03,  5.000e-01],\n",
      "                       ...,\n",
      "                       [ 5.000e-02,  1.807e+00,  1.000e-03,  5.000e-01],\n",
      "                       [ 5.000e-02,  1.807e+00,  1.000e-03,  5.000e-01]]), array([ 7.048e+01,  7.048e+01,  7.048e+01,  7.048e+01,\n",
      "                        7.048e+01]))\n",
      "Optimizing LJ parameters...\n",
      "function: get_loss_jax\n",
      "bounds: ((0.05, 2.5), (0.05, 2.5), (0.001, 0.5), (0.001, 0.5))\n",
      "maxfev: 10000\n",
      "initial guess: [2.4560307159889208, 2.0649464717383594, 0.462763664599867, 0.1827229998085672]\n"
     ]
    },
    {
     "name": "stdout",
     "output_type": "stream",
     "text": [
      "final_loss_fn:  30.199848175048828\n",
      "       message: Optimization terminated successfully.\n",
      "       success: True\n",
      "        status: 0\n",
      "           fun: 30.199848175048828\n",
      "             x: [ 5.052e-02  2.231e+00  5.000e-01  1.953e-02]\n",
      "           nit: 420\n",
      "          nfev: 749\n",
      " final_simplex: (array([[ 5.052e-02,  2.231e+00,  5.000e-01,  1.953e-02],\n",
      "                       [ 5.052e-02,  2.231e+00,  5.000e-01,  1.953e-02],\n",
      "                       ...,\n",
      "                       [ 5.052e-02,  2.231e+00,  5.000e-01,  1.953e-02],\n",
      "                       [ 5.052e-02,  2.231e+00,  5.000e-01,  1.953e-02]]), array([ 3.020e+01,  3.020e+01,  3.020e+01,  3.020e+01,\n",
      "                        3.020e+01]))\n",
      "Optimizing LJ parameters...\n",
      "function: get_loss_jax\n",
      "bounds: ((0.05, 2.5), (0.05, 2.5), (0.001, 0.5), (0.001, 0.5))\n",
      "maxfev: 10000\n",
      "initial guess: [1.1664662332713742, 0.7217160900407931, 0.09981253352184437, 0.04938100113988534]\n"
     ]
    },
    {
     "name": "stdout",
     "output_type": "stream",
     "text": [
      "final_loss_fn:  32.14610290527344\n",
      "       message: Optimization terminated successfully.\n",
      "       success: True\n",
      "        status: 0\n",
      "           fun: 32.14610290527344\n",
      "             x: [ 6.189e-01  1.944e+00  1.042e-03  1.342e-01]\n",
      "           nit: 379\n",
      "          nfev: 673\n",
      " final_simplex: (array([[ 6.189e-01,  1.944e+00,  1.042e-03,  1.342e-01],\n",
      "                       [ 6.189e-01,  1.944e+00,  1.042e-03,  1.342e-01],\n",
      "                       ...,\n",
      "                       [ 6.189e-01,  1.944e+00,  1.042e-03,  1.342e-01],\n",
      "                       [ 6.189e-01,  1.944e+00,  1.042e-03,  1.342e-01]]), array([ 3.215e+01,  3.215e+01,  3.215e+01,  3.215e+01,\n",
      "                        3.215e+01]))\n",
      "Optimizing LJ parameters...\n",
      "function: get_loss_jax\n",
      "bounds: ((0.05, 2.5), (0.05, 2.5), (0.001, 0.5), (0.001, 0.5))\n",
      "maxfev: 10000\n",
      "initial guess: [2.352219495011266, 2.055719141914416, 0.2756680791835052, 0.18728199991723307]\n"
     ]
    },
    {
     "name": "stdout",
     "output_type": "stream",
     "text": [
      "final_loss_fn:  27.930465698242188\n",
      "       message: Optimization terminated successfully.\n",
      "       success: True\n",
      "        status: 0\n",
      "           fun: 27.930465698242188\n",
      "             x: [ 9.270e-02  2.270e+00  1.084e-01  1.589e-02]\n",
      "           nit: 393\n",
      "          nfev: 692\n",
      " final_simplex: (array([[ 9.270e-02,  2.270e+00,  1.084e-01,  1.589e-02],\n",
      "                       [ 9.270e-02,  2.270e+00,  1.084e-01,  1.589e-02],\n",
      "                       ...,\n",
      "                       [ 9.270e-02,  2.270e+00,  1.084e-01,  1.589e-02],\n",
      "                       [ 9.270e-02,  2.270e+00,  1.084e-01,  1.589e-02]]), array([ 2.793e+01,  2.793e+01,  2.793e+01,  2.793e+01,\n",
      "                        2.793e+01]))\n",
      "Optimizing LJ parameters...\n",
      "function: get_loss_jax\n",
      "bounds: ((0.05, 2.5), (0.05, 2.5), (0.001, 0.5), (0.001, 0.5))\n",
      "maxfev: 10000\n",
      "initial guess: [1.3780923175819084, 1.005715841577113, 0.42580570141957674, 0.44444277642979696]\n"
     ]
    },
    {
     "name": "stdout",
     "output_type": "stream",
     "text": [
      "final_loss_fn:  28.45488739013672\n",
      "       message: Optimization terminated successfully.\n",
      "       success: True\n",
      "        status: 0\n",
      "           fun: 28.45488739013672\n",
      "             x: [ 5.000e-02  2.252e+00  2.665e-01  1.767e-02]\n",
      "           nit: 537\n",
      "          nfev: 946\n",
      " final_simplex: (array([[ 5.000e-02,  2.252e+00,  2.665e-01,  1.767e-02],\n",
      "                       [ 5.000e-02,  2.252e+00,  2.665e-01,  1.767e-02],\n",
      "                       ...,\n",
      "                       [ 5.000e-02,  2.252e+00,  2.665e-01,  1.767e-02],\n",
      "                       [ 5.000e-02,  2.252e+00,  2.665e-01,  1.767e-02]]), array([ 2.845e+01,  2.845e+01,  2.845e+01,  2.845e+01,\n",
      "                        2.845e+01]))\n",
      "Optimizing LJ parameters...\n",
      "function: get_loss_jax\n",
      "bounds: ((0.05, 2.5), (0.05, 2.5), (0.001, 0.5), (0.001, 0.5))\n",
      "maxfev: 10000\n",
      "initial guess: [1.5461270347949057, 1.44341178791391, 0.41131728126427725, 0.16870441816374496]\n"
     ]
    },
    {
     "name": "stdout",
     "output_type": "stream",
     "text": [
      "final_loss_fn:  30.288230895996094\n",
      "       message: Optimization terminated successfully.\n",
      "       success: True\n",
      "        status: 0\n",
      "           fun: 30.288230895996094\n",
      "             x: [ 5.450e-02  2.229e+00  4.943e-01  1.970e-02]\n",
      "           nit: 405\n",
      "          nfev: 733\n",
      " final_simplex: (array([[ 5.450e-02,  2.229e+00,  4.943e-01,  1.970e-02],\n",
      "                       [ 5.450e-02,  2.229e+00,  4.943e-01,  1.970e-02],\n",
      "                       ...,\n",
      "                       [ 5.450e-02,  2.229e+00,  4.943e-01,  1.970e-02],\n",
      "                       [ 5.450e-02,  2.229e+00,  4.943e-01,  1.970e-02]]), array([ 3.029e+01,  3.029e+01,  3.029e+01,  3.029e+01,\n",
      "                        3.029e+01]))\n",
      "Optimizing LJ parameters...\n",
      "function: get_loss_jax\n",
      "bounds: ((0.05, 2.5), (0.05, 2.5), (0.001, 0.5), (0.001, 0.5))\n",
      "maxfev: 10000\n",
      "initial guess: [1.0763150195996283, 1.337763545488565, 0.33478347021088056, 0.33971974458365967]\n"
     ]
    },
    {
     "name": "stdout",
     "output_type": "stream",
     "text": [
      "final_loss_fn:  28.387672424316406\n",
      "       message: Optimization terminated successfully.\n",
      "       success: True\n",
      "        status: 0\n",
      "           fun: 28.387672424316406\n",
      "             x: [ 1.257e-01  2.350e+00  1.504e-01  9.349e-03]\n",
      "           nit: 432\n",
      "          nfev: 779\n",
      " final_simplex: (array([[ 1.257e-01,  2.350e+00,  1.504e-01,  9.349e-03],\n",
      "                       [ 1.257e-01,  2.350e+00,  1.504e-01,  9.349e-03],\n",
      "                       ...,\n",
      "                       [ 1.257e-01,  2.350e+00,  1.504e-01,  9.349e-03],\n",
      "                       [ 1.257e-01,  2.350e+00,  1.504e-01,  9.349e-03]]), array([ 2.839e+01,  2.839e+01,  2.839e+01,  2.839e+01,\n",
      "                        2.839e+01]))\n",
      "Optimizing LJ parameters...\n",
      "function: get_loss_jax\n",
      "bounds: ((0.05, 2.5), (0.05, 2.5), (0.001, 0.5), (0.001, 0.5))\n",
      "maxfev: 10000\n",
      "initial guess: [2.2351095000866277, 0.1991995002324311, 0.39156947715514756, 0.06900772226227062]\n"
     ]
    },
    {
     "name": "stdout",
     "output_type": "stream",
     "text": [
      "final_loss_fn:  8662.47265625\n",
      "       message: Optimization terminated successfully.\n",
      "       success: True\n",
      "        status: 0\n",
      "           fun: 8662.47265625\n",
      "             x: [ 5.000e-02  6.533e-02  4.038e-01  5.641e-02]\n",
      "           nit: 40\n",
      "          nfev: 137\n",
      " final_simplex: (array([[ 5.000e-02,  6.533e-02,  4.038e-01,  5.641e-02],\n",
      "                       [ 5.000e-02,  6.533e-02,  4.038e-01,  5.641e-02],\n",
      "                       ...,\n",
      "                       [ 5.000e-02,  6.533e-02,  4.038e-01,  5.641e-02],\n",
      "                       [ 5.000e-02,  6.533e-02,  4.038e-01,  5.641e-02]]), array([ 8.662e+03,  8.662e+03,  8.662e+03,  8.662e+03,\n",
      "                        8.662e+03]))\n",
      "Optimizing LJ parameters...\n",
      "function: get_loss_jax\n",
      "bounds: ((0.05, 2.5), (0.05, 2.5), (0.001, 0.5), (0.001, 0.5))\n",
      "maxfev: 10000\n",
      "initial guess: [0.9050057684471111, 2.361782235234532, 0.19062902488883288, 0.35932696889428106]\n"
     ]
    },
    {
     "name": "stdout",
     "output_type": "stream",
     "text": [
      "final_loss_fn:  27.45163345336914\n",
      "       message: Optimization terminated successfully.\n",
      "       success: True\n",
      "        status: 0\n",
      "           fun: 27.45163345336914\n",
      "             x: [ 5.000e-02  2.500e+00  1.007e-01  4.374e-03]\n",
      "           nit: 942\n",
      "          nfev: 1592\n",
      " final_simplex: (array([[ 5.000e-02,  2.500e+00,  1.007e-01,  4.374e-03],\n",
      "                       [ 5.000e-02,  2.500e+00,  1.007e-01,  4.374e-03],\n",
      "                       ...,\n",
      "                       [ 5.000e-02,  2.500e+00,  1.007e-01,  4.374e-03],\n",
      "                       [ 5.000e-02,  2.500e+00,  1.007e-01,  4.374e-03]]), array([ 2.745e+01,  2.745e+01,  2.745e+01,  2.745e+01,\n",
      "                        2.745e+01]))\n",
      "Optimizing LJ parameters...\n",
      "function: get_loss_jax\n",
      "bounds: ((0.05, 2.5), (0.05, 2.5), (0.001, 0.5), (0.001, 0.5))\n",
      "maxfev: 10000\n",
      "initial guess: [0.9712179295550167, 1.3489009557241085, 0.2581508226710434, 0.24898301545993481]\n"
     ]
    },
    {
     "name": "stdout",
     "output_type": "stream",
     "text": [
      "final_loss_fn:  27.355409622192383\n",
      "       message: Optimization terminated successfully.\n",
      "       success: True\n",
      "        status: 0\n",
      "           fun: 27.355409622192383\n",
      "             x: [ 6.588e-01  2.095e+00  1.007e-03  4.382e-02]\n",
      "           nit: 370\n",
      "          nfev: 662\n",
      " final_simplex: (array([[ 6.588e-01,  2.095e+00,  1.007e-03,  4.382e-02],\n",
      "                       [ 6.588e-01,  2.095e+00,  1.007e-03,  4.382e-02],\n",
      "                       ...,\n",
      "                       [ 6.588e-01,  2.095e+00,  1.007e-03,  4.382e-02],\n",
      "                       [ 6.588e-01,  2.095e+00,  1.007e-03,  4.382e-02]]), array([ 2.736e+01,  2.736e+01,  2.736e+01,  2.736e+01,\n",
      "                        2.736e+01]))\n",
      "Optimizing LJ parameters...\n",
      "function: get_loss_jax\n",
      "bounds: ((0.05, 2.5), (0.05, 2.5), (0.001, 0.5), (0.001, 0.5))\n",
      "maxfev: 10000\n",
      "initial guess: [1.1818278302759884, 1.445898434526323, 0.1515763983697902, 0.05419685472770063]\n"
     ]
    },
    {
     "name": "stdout",
     "output_type": "stream",
     "text": [
      "final_loss_fn:  27.26816749572754\n",
      "       message: Optimization terminated successfully.\n",
      "       success: True\n",
      "        status: 0\n",
      "           fun: 27.26816749572754\n",
      "             x: [ 1.451e-01  2.500e+00  4.548e-02  4.286e-03]\n",
      "           nit: 855\n",
      "          nfev: 1468\n",
      " final_simplex: (array([[ 1.451e-01,  2.500e+00,  4.548e-02,  4.286e-03],\n",
      "                       [ 1.451e-01,  2.500e+00,  4.548e-02,  4.286e-03],\n",
      "                       ...,\n",
      "                       [ 1.451e-01,  2.500e+00,  4.548e-02,  4.286e-03],\n",
      "                       [ 1.451e-01,  2.500e+00,  4.548e-02,  4.286e-03]]), array([ 2.727e+01,  2.727e+01,  2.727e+01,  2.727e+01,\n",
      "                        2.727e+01]))\n",
      "Optimizing LJ parameters...\n",
      "function: get_loss_jax\n",
      "bounds: ((0.05, 2.5), (0.05, 2.5), (0.001, 0.5), (0.001, 0.5))\n",
      "maxfev: 10000\n",
      "initial guess: [1.4205297494345785, 1.9090796926376128, 0.26647534830956054, 0.28473722297547455]\n"
     ]
    },
    {
     "name": "stdout",
     "output_type": "stream",
     "text": [
      "final_loss_fn:  70.47537994384766\n",
      "       message: Optimization terminated successfully.\n",
      "       success: True\n",
      "        status: 0\n",
      "           fun: 70.47537994384766\n",
      "             x: [ 5.000e-02  1.807e+00  1.000e-03  5.000e-01]\n",
      "           nit: 228\n",
      "          nfev: 404\n",
      " final_simplex: (array([[ 5.000e-02,  1.807e+00,  1.000e-03,  5.000e-01],\n",
      "                       [ 5.000e-02,  1.807e+00,  1.000e-03,  5.000e-01],\n",
      "                       ...,\n",
      "                       [ 5.000e-02,  1.807e+00,  1.000e-03,  5.000e-01],\n",
      "                       [ 5.000e-02,  1.807e+00,  1.000e-03,  5.000e-01]]), array([ 7.048e+01,  7.048e+01,  7.048e+01,  7.048e+01,\n",
      "                        7.048e+01]))\n",
      "Optimizing LJ parameters...\n",
      "function: get_loss_jax\n",
      "bounds: ((0.05, 2.5), (0.05, 2.5), (0.001, 0.5), (0.001, 0.5))\n",
      "maxfev: 10000\n",
      "initial guess: [0.9901849118889522, 1.495574562213703, 0.23516226242000673, 0.05308043289685991]\n"
     ]
    },
    {
     "name": "stdout",
     "output_type": "stream",
     "text": [
      "final_loss_fn:  27.307676315307617\n",
      "       message: Optimization terminated successfully.\n",
      "       success: True\n",
      "        status: 0\n",
      "           fun: 27.307676315307617\n",
      "             x: [ 1.206e-01  2.500e+00  5.384e-02  4.319e-03]\n",
      "           nit: 909\n",
      "          nfev: 1529\n",
      " final_simplex: (array([[ 1.206e-01,  2.500e+00,  5.384e-02,  4.319e-03],\n",
      "                       [ 1.206e-01,  2.500e+00,  5.384e-02,  4.319e-03],\n",
      "                       ...,\n",
      "                       [ 1.206e-01,  2.500e+00,  5.384e-02,  4.319e-03],\n",
      "                       [ 1.206e-01,  2.500e+00,  5.384e-02,  4.319e-03]]), array([ 2.731e+01,  2.731e+01,  2.731e+01,  2.731e+01,\n",
      "                        2.731e+01]))\n",
      "Optimizing LJ parameters...\n",
      "function: get_loss_jax\n",
      "bounds: ((0.05, 2.5), (0.05, 2.5), (0.001, 0.5), (0.001, 0.5))\n",
      "maxfev: 10000\n",
      "initial guess: [0.32497760039632967, 0.10435606366083107, 0.12449644050342634, 0.0840836276051549]\n"
     ]
    },
    {
     "name": "stdout",
     "output_type": "stream",
     "text": [
      "final_loss_fn:  8662.474609375\n",
      "       message: Optimization terminated successfully.\n",
      "       success: True\n",
      "        status: 0\n",
      "           fun: 8662.474609375\n",
      "             x: [ 5.000e-02  1.381e-01  1.346e-01  9.898e-02]\n",
      "           nit: 30\n",
      "          nfev: 117\n",
      " final_simplex: (array([[ 5.000e-02,  1.381e-01,  1.346e-01,  9.898e-02],\n",
      "                       [ 5.000e-02,  1.381e-01,  1.346e-01,  9.898e-02],\n",
      "                       ...,\n",
      "                       [ 5.000e-02,  1.381e-01,  1.346e-01,  9.898e-02],\n",
      "                       [ 5.000e-02,  1.381e-01,  1.346e-01,  9.898e-02]]), array([ 8.662e+03,  8.662e+03,  8.662e+03,  8.662e+03,\n",
      "                        8.662e+03]))\n",
      "Optimizing LJ parameters...\n",
      "function: get_loss_jax\n",
      "bounds: ((0.05, 2.5), (0.05, 2.5), (0.001, 0.5), (0.001, 0.5))\n",
      "maxfev: 10000\n",
      "initial guess: [0.0544955626234509, 2.3320546264543536, 0.3458729002232279, 0.016759312163778566]\n"
     ]
    },
    {
     "name": "stdout",
     "output_type": "stream",
     "text": [
      "final_loss_fn:  27.450443267822266\n",
      "       message: Optimization terminated successfully.\n",
      "       success: True\n",
      "        status: 0\n",
      "           fun: 27.450443267822266\n",
      "             x: [ 5.052e-02  2.500e+00  1.004e-01  4.373e-03]\n",
      "           nit: 642\n",
      "          nfev: 1099\n",
      " final_simplex: (array([[ 5.052e-02,  2.500e+00,  1.004e-01,  4.373e-03],\n",
      "                       [ 5.052e-02,  2.500e+00,  1.004e-01,  4.373e-03],\n",
      "                       ...,\n",
      "                       [ 5.052e-02,  2.500e+00,  1.004e-01,  4.373e-03],\n",
      "                       [ 5.052e-02,  2.500e+00,  1.004e-01,  4.373e-03]]), array([ 2.745e+01,  2.745e+01,  2.745e+01,  2.745e+01,\n",
      "                        2.745e+01]))\n",
      "Optimizing LJ parameters...\n",
      "function: get_loss_jax\n",
      "bounds: ((0.05, 2.5), (0.05, 2.5), (0.001, 0.5), (0.001, 0.5))\n",
      "maxfev: 10000\n",
      "initial guess: [1.409353104968672, 1.3825452842262789, 0.48435615867305, 0.16748981117827938]\n"
     ]
    }
   ],
   "source": [
    "fit_repeat(_c, \n",
    "           30, \n",
    "           f\"{ffpkl}_LJ\",\n",
    "           bounds = LJ_bound,\n",
    "           loss=\"jax\",\n",
    "           # quiet='true'\n",
    "          )"
   ]
  },
  {
   "cell_type": "code",
   "execution_count": null,
   "id": "c2babd82-4ded-4e51-a5d5-49437f6d8f41",
   "metadata": {
    "papermill": {
     "duration": null,
     "end_time": null,
     "exception": null,
     "start_time": null,
     "status": "pending"
    },
    "tags": []
   },
   "outputs": [],
   "source": [
    "pd.DataFrame(_c.opt_results).sort_values(\"fun\")"
   ]
  },
  {
   "cell_type": "markdown",
   "id": "3ee71679-1ff0-454b-8d80-94dbec05e2d6",
   "metadata": {
    "papermill": {
     "duration": null,
     "end_time": null,
     "exception": null,
     "start_time": null,
     "status": "pending"
    },
    "tags": []
   },
   "source": [
    "#  DE fit\n"
   ]
  },
  {
   "cell_type": "code",
   "execution_count": null,
   "id": "5dcbe52f-bf23-4e82-8958-845cd1584ea3",
   "metadata": {
    "papermill": {
     "duration": null,
     "end_time": null,
     "exception": null,
     "start_time": null,
     "status": "pending"
    },
    "tags": []
   },
   "outputs": [],
   "source": [
    "_c = next(read_from_pickle(f\"ff/{ffpkl}\"))"
   ]
  },
  {
   "cell_type": "code",
   "execution_count": null,
   "id": "4ef7f9a4-0011-44ed-942e-111587ccba3f",
   "metadata": {
    "papermill": {
     "duration": null,
     "end_time": null,
     "exception": null,
     "start_time": null,
     "status": "pending"
    },
    "tags": []
   },
   "outputs": [],
   "source": [
    "fit_repeat(_c, \n",
    "           30, \n",
    "           \"test\",\n",
    "           bounds = DE_bound,\n",
    "           loss=\"jax_de\",\n",
    "           quiet='true'\n",
    "          )"
   ]
  },
  {
   "cell_type": "code",
   "execution_count": null,
   "id": "f7323a6b-2cfa-4956-900b-641a96aa0bb2",
   "metadata": {
    "papermill": {
     "duration": null,
     "end_time": null,
     "exception": null,
     "start_time": null,
     "status": "pending"
    },
    "tags": []
   },
   "outputs": [],
   "source": [
    "pd.DataFrame(_c.opt_results).sort_values(\"fun\")"
   ]
  },
  {
   "cell_type": "code",
   "execution_count": null,
   "id": "242da085-5e5c-42a4-b5ad-0764c9d955dc",
   "metadata": {
    "papermill": {
     "duration": null,
     "end_time": null,
     "exception": null,
     "start_time": null,
     "status": "pending"
    },
    "tags": []
   },
   "outputs": [],
   "source": []
  }
 ],
 "metadata": {
  "kernelspec": {
   "display_name": "pycharmm",
   "language": "python",
   "name": "pycharmm"
  },
  "language_info": {
   "codemirror_mode": {
    "name": "ipython",
    "version": 3
   },
   "file_extension": ".py",
   "mimetype": "text/x-python",
   "name": "python",
   "nbconvert_exporter": "python",
   "pygments_lexer": "ipython3",
   "version": "3.8.16"
  },
  "papermill": {
   "default_parameters": {},
   "duration": null,
   "end_time": null,
   "environment_variables": {},
   "exception": null,
   "input_path": "templates/ff_template.ipynb",
   "output_path": "out_notebooks/ff/epol_mike_pbe0dz_pairs.ff.pkl.ipynb",
   "parameters": {
    "ffpkl": "epol_mike_pbe0dz_pairs.ff.pkl"
   },
   "start_time": "2023-05-16T14:42:13.596239",
   "version": "2.4.0"
  }
 },
 "nbformat": 4,
 "nbformat_minor": 5
}