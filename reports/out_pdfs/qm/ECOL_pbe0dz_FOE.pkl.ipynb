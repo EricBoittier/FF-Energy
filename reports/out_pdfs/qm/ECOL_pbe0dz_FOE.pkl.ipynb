{
 "cells": [
  {
   "cell_type": "code",
   "execution_count": 1,
   "id": "51a2cc71-403a-4961-b6be-0d0335c0c36f",
   "metadata": {
    "execution": {
     "iopub.execute_input": "2023-05-16T10:52:12.016614Z",
     "iopub.status.busy": "2023-05-16T10:52:12.004588Z",
     "iopub.status.idle": "2023-05-16T10:52:12.920062Z",
     "shell.execute_reply": "2023-05-16T10:52:12.919758Z"
    },
    "papermill": {
     "duration": 0.930853,
     "end_time": "2023-05-16T10:52:12.920144",
     "exception": false,
     "start_time": "2023-05-16T10:52:11.989291",
     "status": "completed"
    },
    "tags": []
   },
   "outputs": [],
   "source": [
    "from pathlib import Path\n",
    "import pandas as pd\n",
    "import matplotlib.pyplot as plt\n",
    "import seaborn as sns\n",
    "import numpy as np\n",
    "from ff_energy.ffe.utils import read_from_pickle\n",
    "import jax.numpy as jnp\n",
    "from ff_energy.ffe.plot import plot_energy_MSE, plot_ff_fit\n",
    "from ff_energy.ffe.structure import atom_key_pairs\n",
    "from ff_energy.ffe.potential import LJ, akp_indx\n",
    "from ff_energy.ffe.ff import FF\n",
    "from ff_energy.ffe.ff_fit import LJ_bound, load_ff, fit_func, fit_repeat\n",
    "from ff_energy.ffe.data import pairs_data\n",
    "from ff_energy.ffe.utils import pickle_output, read_from_pickle, str2int\n",
    "\n",
    "\n"
   ]
  },
  {
   "cell_type": "code",
   "execution_count": 2,
   "id": "19d05f34-1c6b-4229-b564-ec451028a44f",
   "metadata": {
    "execution": {
     "iopub.execute_input": "2023-05-16T10:52:12.926215Z",
     "iopub.status.busy": "2023-05-16T10:52:12.925871Z",
     "iopub.status.idle": "2023-05-16T10:52:12.927597Z",
     "shell.execute_reply": "2023-05-16T10:52:12.927354Z"
    },
    "papermill": {
     "duration": 0.005901,
     "end_time": "2023-05-16T10:52:12.927665",
     "exception": false,
     "start_time": "2023-05-16T10:52:12.921764",
     "status": "completed"
    },
    "tags": []
   },
   "outputs": [],
   "source": [
    "sig_bound = (0.05, 2.5)\n",
    "ep_bound = (0.001, 0.5)\n",
    "LJ_bound = ((sig_bound), (sig_bound), (ep_bound), (ep_bound))\n",
    "DE_bound = ((sig_bound), (sig_bound), (ep_bound), (ep_bound), \n",
    "            (1, 8), (6, 20))"
   ]
  },
  {
   "cell_type": "code",
   "execution_count": 3,
   "id": "06d2180b-ab57-47fe-ab69-210cc07a06ee",
   "metadata": {
    "execution": {
     "iopub.execute_input": "2023-05-16T10:52:12.932080Z",
     "iopub.status.busy": "2023-05-16T10:52:12.931788Z",
     "iopub.status.idle": "2023-05-16T10:52:12.944719Z",
     "shell.execute_reply": "2023-05-16T10:52:12.944466Z"
    },
    "papermill": {
     "duration": 0.015745,
     "end_time": "2023-05-16T10:52:12.944786",
     "exception": false,
     "start_time": "2023-05-16T10:52:12.929041",
     "status": "completed"
    },
    "tags": [
     "parameters"
    ]
   },
   "outputs": [],
   "source": [
    "# ffpkl = \"ECOL_pbe0dz_FOE.pkl\""
   ]
  },
  {
   "cell_type": "code",
   "execution_count": 4,
   "id": "2d616a6e",
   "metadata": {
    "execution": {
     "iopub.execute_input": "2023-05-16T10:52:12.949264Z",
     "iopub.status.busy": "2023-05-16T10:52:12.948971Z",
     "iopub.status.idle": "2023-05-16T10:52:12.965920Z",
     "shell.execute_reply": "2023-05-16T10:52:12.965599Z"
    },
    "papermill": {
     "duration": 0.019828,
     "end_time": "2023-05-16T10:52:12.965997",
     "exception": false,
     "start_time": "2023-05-16T10:52:12.946169",
     "status": "completed"
    },
    "tags": [
     "injected-parameters"
    ]
   },
   "outputs": [],
   "source": [
    "# Parameters\n",
    "ffpkl = \"ECOL_pbe0dz_FOE.pkl\"\n"
   ]
  },
  {
   "cell_type": "markdown",
   "id": "4929ade5-fae6-464f-bff0-b457e6121d28",
   "metadata": {
    "papermill": {
     "duration": 0.001359,
     "end_time": "2023-05-16T10:52:12.969041",
     "exception": false,
     "start_time": "2023-05-16T10:52:12.967682",
     "status": "completed"
    },
    "tags": []
   },
   "source": [
    "#  LJ fit\n"
   ]
  },
  {
   "cell_type": "code",
   "execution_count": 5,
   "id": "6899f6f0-095a-4be0-af80-a9eaff304995",
   "metadata": {
    "execution": {
     "iopub.execute_input": "2023-05-16T10:52:12.974120Z",
     "iopub.status.busy": "2023-05-16T10:52:12.973765Z",
     "iopub.status.idle": "2023-05-16T10:52:13.960688Z",
     "shell.execute_reply": "2023-05-16T10:52:13.960930Z"
    },
    "papermill": {
     "duration": 0.99055,
     "end_time": "2023-05-16T10:52:13.961016",
     "exception": false,
     "start_time": "2023-05-16T10:52:12.970466",
     "status": "completed"
    },
    "tags": []
   },
   "outputs": [
    {
     "name": "stderr",
     "output_type": "stream",
     "text": [
      "No GPU/TPU found, falling back to CPU. (Set TF_CPP_MIN_LOG_LEVEL=0 and rerun for more info.)\n"
     ]
    },
    {
     "data": {
      "text/plain": [
       "FF: LJ water_cluster ECOL Exact first_order_energy (jax_coloumb: False)"
      ]
     },
     "execution_count": 5,
     "metadata": {},
     "output_type": "execute_result"
    }
   ],
   "source": [
    "_c = next(read_from_pickle(f\"ff/{ffpkl}\"))\n",
    "_c"
   ]
  },
  {
   "cell_type": "code",
   "execution_count": 6,
   "id": "5c0ffd7e-d07d-47c5-83a9-72bdfb455d51",
   "metadata": {
    "execution": {
     "iopub.execute_input": "2023-05-16T10:52:13.966261Z",
     "iopub.status.busy": "2023-05-16T10:52:13.965924Z",
     "iopub.status.idle": "2023-05-16T10:52:13.967541Z",
     "shell.execute_reply": "2023-05-16T10:52:13.967306Z"
    },
    "papermill": {
     "duration": 0.00483,
     "end_time": "2023-05-16T10:52:13.967599",
     "exception": false,
     "start_time": "2023-05-16T10:52:13.962769",
     "status": "completed"
    },
    "tags": []
   },
   "outputs": [],
   "source": [
    "# _c.targets"
   ]
  },
  {
   "cell_type": "code",
   "execution_count": 7,
   "id": "3c41100d-1ee7-4fa9-b16b-03e9af0fab04",
   "metadata": {
    "execution": {
     "iopub.execute_input": "2023-05-16T10:52:13.971972Z",
     "iopub.status.busy": "2023-05-16T10:52:13.971409Z",
     "iopub.status.idle": "2023-05-16T10:54:34.083583Z",
     "shell.execute_reply": "2023-05-16T10:54:34.083235Z"
    },
    "papermill": {
     "duration": 140.11469,
     "end_time": "2023-05-16T10:54:34.083656",
     "exception": false,
     "start_time": "2023-05-16T10:52:13.968966",
     "status": "completed"
    },
    "tags": []
   },
   "outputs": [
    {
     "name": "stderr",
     "output_type": "stream",
     "text": [
      "/home/boittier/Documents/phd/ff_energy/ff_energy/ffe/ff_fit.py:174: OptimizeWarning: Unknown solver options: pgtol\n",
      "  res = minimize(\n"
     ]
    },
    {
     "name": "stdout",
     "output_type": "stream",
     "text": [
      "Optimizing LJ parameters...\n",
      "function: get_loss_jax\n",
      "bounds: ((0.05, 2.5), (0.05, 2.5), (0.001, 0.5), (0.001, 0.5))\n",
      "maxfev: 10000\n",
      "initial guess: [0.5638841853057496, 0.633085593108096, 0.06560954291961182, 0.38422422831258063]\n"
     ]
    },
    {
     "name": "stdout",
     "output_type": "stream",
     "text": [
      "final_loss_fn:  nan\n",
      "       message: Maximum number of function evaluations has been exceeded.\n",
      "       success: False\n",
      "        status: 1\n",
      "           fun: nan\n",
      "             x: [ 5.639e-01  6.331e-01  6.561e-02  3.842e-01]\n",
      "           nit: 1666\n",
      "          nfev: 10000\n",
      " final_simplex: (array([[ 5.639e-01,  6.331e-01,  6.561e-02,  3.842e-01],\n",
      "                       [ 5.639e-01,  6.331e-01,  6.561e-02,  3.842e-01],\n",
      "                       ...,\n",
      "                       [ 5.639e-01,  6.331e-01,  6.561e-02,  3.842e-01],\n",
      "                       [ 5.639e-01,  6.331e-01,  6.561e-02,  3.842e-01]]), array([       nan,        nan,        nan,        nan,\n",
      "                              nan]))\n",
      "Optimizing LJ parameters...\n",
      "function: get_loss_jax\n",
      "bounds: ((0.05, 2.5), (0.05, 2.5), (0.001, 0.5), (0.001, 0.5))\n",
      "maxfev: 10000\n",
      "initial guess: [1.6200302917273484, 1.2693923237040212, 0.20801242144002516, 0.1306571877829906]\n"
     ]
    },
    {
     "name": "stdout",
     "output_type": "stream",
     "text": [
      "final_loss_fn:  nan\n",
      "       message: Maximum number of function evaluations has been exceeded.\n",
      "       success: False\n",
      "        status: 1\n",
      "           fun: nan\n",
      "             x: [ 1.620e+00  1.269e+00  2.080e-01  1.307e-01]\n",
      "           nit: 1666\n",
      "          nfev: 10000\n",
      " final_simplex: (array([[ 1.620e+00,  1.269e+00,  2.080e-01,  1.307e-01],\n",
      "                       [ 1.620e+00,  1.269e+00,  2.080e-01,  1.307e-01],\n",
      "                       ...,\n",
      "                       [ 1.620e+00,  1.269e+00,  2.080e-01,  1.307e-01],\n",
      "                       [ 1.620e+00,  1.269e+00,  2.080e-01,  1.307e-01]]), array([       nan,        nan,        nan,        nan,\n",
      "                              nan]))\n",
      "Optimizing LJ parameters...\n",
      "function: get_loss_jax\n",
      "bounds: ((0.05, 2.5), (0.05, 2.5), (0.001, 0.5), (0.001, 0.5))\n",
      "maxfev: 10000\n",
      "initial guess: [1.3166522064832107, 1.5356829515250774, 0.44325734745987866, 0.1529559731136213]\n"
     ]
    },
    {
     "name": "stdout",
     "output_type": "stream",
     "text": [
      "final_loss_fn:  nan\n",
      "       message: Maximum number of function evaluations has been exceeded.\n",
      "       success: False\n",
      "        status: 1\n",
      "           fun: nan\n",
      "             x: [ 1.317e+00  1.536e+00  4.433e-01  1.530e-01]\n",
      "           nit: 1666\n",
      "          nfev: 10000\n",
      " final_simplex: (array([[ 1.317e+00,  1.536e+00,  4.433e-01,  1.530e-01],\n",
      "                       [ 1.317e+00,  1.536e+00,  4.433e-01,  1.530e-01],\n",
      "                       ...,\n",
      "                       [ 1.317e+00,  1.536e+00,  4.433e-01,  1.530e-01],\n",
      "                       [ 1.317e+00,  1.536e+00,  4.433e-01,  1.530e-01]]), array([       nan,        nan,        nan,        nan,\n",
      "                              nan]))\n",
      "Optimizing LJ parameters...\n",
      "function: get_loss_jax\n",
      "bounds: ((0.05, 2.5), (0.05, 2.5), (0.001, 0.5), (0.001, 0.5))\n",
      "maxfev: 10000\n",
      "initial guess: [1.7264452609774281, 1.5246104665661881, 0.3887378813928806, 0.3361048636984407]\n"
     ]
    },
    {
     "name": "stdout",
     "output_type": "stream",
     "text": [
      "final_loss_fn:  nan\n",
      "       message: Maximum number of function evaluations has been exceeded.\n",
      "       success: False\n",
      "        status: 1\n",
      "           fun: nan\n",
      "             x: [ 1.726e+00  1.525e+00  3.887e-01  3.361e-01]\n",
      "           nit: 1666\n",
      "          nfev: 10000\n",
      " final_simplex: (array([[ 1.726e+00,  1.525e+00,  3.887e-01,  3.361e-01],\n",
      "                       [ 1.726e+00,  1.525e+00,  3.887e-01,  3.361e-01],\n",
      "                       ...,\n",
      "                       [ 1.726e+00,  1.525e+00,  3.887e-01,  3.361e-01],\n",
      "                       [ 1.726e+00,  1.525e+00,  3.887e-01,  3.361e-01]]), array([       nan,        nan,        nan,        nan,\n",
      "                              nan]))\n",
      "Optimizing LJ parameters...\n",
      "function: get_loss_jax\n",
      "bounds: ((0.05, 2.5), (0.05, 2.5), (0.001, 0.5), (0.001, 0.5))\n",
      "maxfev: 10000\n",
      "initial guess: [1.8616695030893755, 1.720227925641927, 0.17458285496686474, 0.45407878513875993]\n"
     ]
    },
    {
     "name": "stdout",
     "output_type": "stream",
     "text": [
      "final_loss_fn:  nan\n",
      "       message: Maximum number of function evaluations has been exceeded.\n",
      "       success: False\n",
      "        status: 1\n",
      "           fun: nan\n",
      "             x: [ 1.862e+00  1.720e+00  1.746e-01  4.541e-01]\n",
      "           nit: 1666\n",
      "          nfev: 10000\n",
      " final_simplex: (array([[ 1.862e+00,  1.720e+00,  1.746e-01,  4.541e-01],\n",
      "                       [ 1.862e+00,  1.720e+00,  1.746e-01,  4.541e-01],\n",
      "                       ...,\n",
      "                       [ 1.862e+00,  1.720e+00,  1.746e-01,  4.541e-01],\n",
      "                       [ 1.862e+00,  1.720e+00,  1.746e-01,  4.541e-01]]), array([       nan,        nan,        nan,        nan,\n",
      "                              nan]))\n"
     ]
    }
   ],
   "source": [
    "fit_repeat(_c, \n",
    "           5, \n",
    "           f\"{ffpkl}_LJ\",\n",
    "           bounds = LJ_bound,\n",
    "           loss=\"jax\",\n",
    "           # quiet='true'\n",
    "          )"
   ]
  },
  {
   "cell_type": "code",
   "execution_count": 8,
   "id": "c2babd82-4ded-4e51-a5d5-49437f6d8f41",
   "metadata": {
    "execution": {
     "iopub.execute_input": "2023-05-16T10:54:34.092008Z",
     "iopub.status.busy": "2023-05-16T10:54:34.091636Z",
     "iopub.status.idle": "2023-05-16T10:54:34.104716Z",
     "shell.execute_reply": "2023-05-16T10:54:34.104305Z"
    },
    "papermill": {
     "duration": 0.01902,
     "end_time": "2023-05-16T10:54:34.104822",
     "exception": false,
     "start_time": "2023-05-16T10:54:34.085802",
     "status": "completed"
    },
    "tags": []
   },
   "outputs": [
    {
     "data": {
      "text/html": [
       "<div>\n",
       "<style scoped>\n",
       "    .dataframe tbody tr th:only-of-type {\n",
       "        vertical-align: middle;\n",
       "    }\n",
       "\n",
       "    .dataframe tbody tr th {\n",
       "        vertical-align: top;\n",
       "    }\n",
       "\n",
       "    .dataframe thead th {\n",
       "        text-align: right;\n",
       "    }\n",
       "</style>\n",
       "<table border=\"1\" class=\"dataframe\">\n",
       "  <thead>\n",
       "    <tr style=\"text-align: right;\">\n",
       "      <th></th>\n",
       "      <th>fun</th>\n",
       "      <th>nit</th>\n",
       "      <th>nfev</th>\n",
       "      <th>status</th>\n",
       "      <th>success</th>\n",
       "      <th>message</th>\n",
       "      <th>x</th>\n",
       "      <th>final_simplex</th>\n",
       "    </tr>\n",
       "  </thead>\n",
       "  <tbody>\n",
       "    <tr>\n",
       "      <th>0</th>\n",
       "      <td>NaN</td>\n",
       "      <td>1666</td>\n",
       "      <td>10000</td>\n",
       "      <td>1</td>\n",
       "      <td>False</td>\n",
       "      <td>Maximum number of function evaluations has bee...</td>\n",
       "      <td>[0.5638841853057496, 0.633085593108096, 0.0656...</td>\n",
       "      <td>([[0.5638841853057496, 0.633085593108096, 0.06...</td>\n",
       "    </tr>\n",
       "    <tr>\n",
       "      <th>1</th>\n",
       "      <td>NaN</td>\n",
       "      <td>1666</td>\n",
       "      <td>10000</td>\n",
       "      <td>1</td>\n",
       "      <td>False</td>\n",
       "      <td>Maximum number of function evaluations has bee...</td>\n",
       "      <td>[1.6200302917273484, 1.2693923237040212, 0.208...</td>\n",
       "      <td>([[1.6200302917273484, 1.2693923237040212, 0.2...</td>\n",
       "    </tr>\n",
       "    <tr>\n",
       "      <th>2</th>\n",
       "      <td>NaN</td>\n",
       "      <td>1666</td>\n",
       "      <td>10000</td>\n",
       "      <td>1</td>\n",
       "      <td>False</td>\n",
       "      <td>Maximum number of function evaluations has bee...</td>\n",
       "      <td>[1.3166522064832107, 1.5356829515250774, 0.443...</td>\n",
       "      <td>([[1.3166522064832107, 1.5356829515250774, 0.4...</td>\n",
       "    </tr>\n",
       "    <tr>\n",
       "      <th>3</th>\n",
       "      <td>NaN</td>\n",
       "      <td>1666</td>\n",
       "      <td>10000</td>\n",
       "      <td>1</td>\n",
       "      <td>False</td>\n",
       "      <td>Maximum number of function evaluations has bee...</td>\n",
       "      <td>[1.7264452609774281, 1.5246104665661881, 0.388...</td>\n",
       "      <td>([[1.7264452609774281, 1.5246104665661881, 0.3...</td>\n",
       "    </tr>\n",
       "    <tr>\n",
       "      <th>4</th>\n",
       "      <td>NaN</td>\n",
       "      <td>1666</td>\n",
       "      <td>10000</td>\n",
       "      <td>1</td>\n",
       "      <td>False</td>\n",
       "      <td>Maximum number of function evaluations has bee...</td>\n",
       "      <td>[1.8616695030893755, 1.720227925641927, 0.1745...</td>\n",
       "      <td>([[1.8616695030893755, 1.720227925641927, 0.17...</td>\n",
       "    </tr>\n",
       "  </tbody>\n",
       "</table>\n",
       "</div>"
      ],
      "text/plain": [
       "   fun   nit   nfev  status  success  \\\n",
       "0  NaN  1666  10000       1    False   \n",
       "1  NaN  1666  10000       1    False   \n",
       "2  NaN  1666  10000       1    False   \n",
       "3  NaN  1666  10000       1    False   \n",
       "4  NaN  1666  10000       1    False   \n",
       "\n",
       "                                             message  \\\n",
       "0  Maximum number of function evaluations has bee...   \n",
       "1  Maximum number of function evaluations has bee...   \n",
       "2  Maximum number of function evaluations has bee...   \n",
       "3  Maximum number of function evaluations has bee...   \n",
       "4  Maximum number of function evaluations has bee...   \n",
       "\n",
       "                                                   x  \\\n",
       "0  [0.5638841853057496, 0.633085593108096, 0.0656...   \n",
       "1  [1.6200302917273484, 1.2693923237040212, 0.208...   \n",
       "2  [1.3166522064832107, 1.5356829515250774, 0.443...   \n",
       "3  [1.7264452609774281, 1.5246104665661881, 0.388...   \n",
       "4  [1.8616695030893755, 1.720227925641927, 0.1745...   \n",
       "\n",
       "                                       final_simplex  \n",
       "0  ([[0.5638841853057496, 0.633085593108096, 0.06...  \n",
       "1  ([[1.6200302917273484, 1.2693923237040212, 0.2...  \n",
       "2  ([[1.3166522064832107, 1.5356829515250774, 0.4...  \n",
       "3  ([[1.7264452609774281, 1.5246104665661881, 0.3...  \n",
       "4  ([[1.8616695030893755, 1.720227925641927, 0.17...  "
      ]
     },
     "execution_count": 8,
     "metadata": {},
     "output_type": "execute_result"
    }
   ],
   "source": [
    "pd.DataFrame(_c.opt_results).sort_values(\"fun\")"
   ]
  },
  {
   "cell_type": "markdown",
   "id": "3ee71679-1ff0-454b-8d80-94dbec05e2d6",
   "metadata": {
    "papermill": {
     "duration": 0.001764,
     "end_time": "2023-05-16T10:54:34.108590",
     "exception": false,
     "start_time": "2023-05-16T10:54:34.106826",
     "status": "completed"
    },
    "tags": []
   },
   "source": [
    "#  DE fit\n"
   ]
  },
  {
   "cell_type": "code",
   "execution_count": 9,
   "id": "5dcbe52f-bf23-4e82-8958-845cd1584ea3",
   "metadata": {
    "execution": {
     "iopub.execute_input": "2023-05-16T10:54:34.128822Z",
     "iopub.status.busy": "2023-05-16T10:54:34.121658Z",
     "iopub.status.idle": "2023-05-16T10:54:35.105798Z",
     "shell.execute_reply": "2023-05-16T10:54:35.105489Z"
    },
    "papermill": {
     "duration": 0.995307,
     "end_time": "2023-05-16T10:54:35.105868",
     "exception": false,
     "start_time": "2023-05-16T10:54:34.110561",
     "status": "completed"
    },
    "tags": []
   },
   "outputs": [],
   "source": [
    "_c = next(read_from_pickle(f\"ff/{ffpkl}\"))"
   ]
  },
  {
   "cell_type": "code",
   "execution_count": 10,
   "id": "4ef7f9a4-0011-44ed-942e-111587ccba3f",
   "metadata": {
    "execution": {
     "iopub.execute_input": "2023-05-16T10:54:35.159456Z",
     "iopub.status.busy": "2023-05-16T10:54:35.117673Z",
     "iopub.status.idle": "2023-05-16T10:55:09.152677Z",
     "shell.execute_reply": "2023-05-16T10:55:09.152377Z"
    },
    "papermill": {
     "duration": 34.044777,
     "end_time": "2023-05-16T10:55:09.152744",
     "exception": false,
     "start_time": "2023-05-16T10:54:35.107967",
     "status": "completed"
    },
    "tags": []
   },
   "outputs": [
    {
     "name": "stderr",
     "output_type": "stream",
     "text": [
      "/home/boittier/Documents/phd/ff_energy/ff_energy/ffe/ff_fit.py:174: OptimizeWarning: Unknown solver options: pgtol\n",
      "  res = minimize(\n"
     ]
    }
   ],
   "source": [
    "fit_repeat(_c, \n",
    "           5, \n",
    "           \"test\",\n",
    "           bounds = DE_bound,\n",
    "           loss=\"jax_de\",\n",
    "           quiet='true'\n",
    "          )"
   ]
  },
  {
   "cell_type": "code",
   "execution_count": 11,
   "id": "f7323a6b-2cfa-4956-900b-641a96aa0bb2",
   "metadata": {
    "execution": {
     "iopub.execute_input": "2023-05-16T10:55:09.176157Z",
     "iopub.status.busy": "2023-05-16T10:55:09.175707Z",
     "iopub.status.idle": "2023-05-16T10:55:09.177643Z",
     "shell.execute_reply": "2023-05-16T10:55:09.177355Z"
    },
    "papermill": {
     "duration": 0.022521,
     "end_time": "2023-05-16T10:55:09.177710",
     "exception": false,
     "start_time": "2023-05-16T10:55:09.155189",
     "status": "completed"
    },
    "tags": []
   },
   "outputs": [
    {
     "data": {
      "text/html": [
       "<div>\n",
       "<style scoped>\n",
       "    .dataframe tbody tr th:only-of-type {\n",
       "        vertical-align: middle;\n",
       "    }\n",
       "\n",
       "    .dataframe tbody tr th {\n",
       "        vertical-align: top;\n",
       "    }\n",
       "\n",
       "    .dataframe thead th {\n",
       "        text-align: right;\n",
       "    }\n",
       "</style>\n",
       "<table border=\"1\" class=\"dataframe\">\n",
       "  <thead>\n",
       "    <tr style=\"text-align: right;\">\n",
       "      <th></th>\n",
       "      <th>fun</th>\n",
       "      <th>nit</th>\n",
       "      <th>nfev</th>\n",
       "      <th>status</th>\n",
       "      <th>success</th>\n",
       "      <th>message</th>\n",
       "      <th>x</th>\n",
       "      <th>final_simplex</th>\n",
       "    </tr>\n",
       "  </thead>\n",
       "  <tbody>\n",
       "    <tr>\n",
       "      <th>3</th>\n",
       "      <td>18.468239</td>\n",
       "      <td>1682</td>\n",
       "      <td>2688</td>\n",
       "      <td>0</td>\n",
       "      <td>True</td>\n",
       "      <td>Optimization terminated successfully.</td>\n",
       "      <td>[1.672724615839575, 2.4007660756467573, 0.0010...</td>\n",
       "      <td>([[1.672724615839575, 2.4007660756467573, 0.00...</td>\n",
       "    </tr>\n",
       "    <tr>\n",
       "      <th>4</th>\n",
       "      <td>21.019852</td>\n",
       "      <td>781</td>\n",
       "      <td>1290</td>\n",
       "      <td>0</td>\n",
       "      <td>True</td>\n",
       "      <td>Optimization terminated successfully.</td>\n",
       "      <td>[0.4045786669710373, 2.310879035263375, 0.4152...</td>\n",
       "      <td>([[0.4045786669710373, 2.310879035263375, 0.41...</td>\n",
       "    </tr>\n",
       "    <tr>\n",
       "      <th>2</th>\n",
       "      <td>28.028954</td>\n",
       "      <td>2072</td>\n",
       "      <td>3265</td>\n",
       "      <td>0</td>\n",
       "      <td>True</td>\n",
       "      <td>Optimization terminated successfully.</td>\n",
       "      <td>[0.5494260750521367, 2.361854453342943, 0.4999...</td>\n",
       "      <td>([[0.5494260750521367, 2.361854453342943, 0.49...</td>\n",
       "    </tr>\n",
       "    <tr>\n",
       "      <th>0</th>\n",
       "      <td>32.601879</td>\n",
       "      <td>894</td>\n",
       "      <td>1463</td>\n",
       "      <td>0</td>\n",
       "      <td>True</td>\n",
       "      <td>Optimization terminated successfully.</td>\n",
       "      <td>[0.2088192517298467, 2.4682460016409085, 0.042...</td>\n",
       "      <td>([[0.2088192517298467, 2.4682460016409085, 0.0...</td>\n",
       "    </tr>\n",
       "    <tr>\n",
       "      <th>1</th>\n",
       "      <td>36.506569</td>\n",
       "      <td>941</td>\n",
       "      <td>1520</td>\n",
       "      <td>0</td>\n",
       "      <td>True</td>\n",
       "      <td>Optimization terminated successfully.</td>\n",
       "      <td>[0.3973301864860213, 2.1925888231578585, 0.418...</td>\n",
       "      <td>([[0.3973301864860213, 2.1925888231578585, 0.4...</td>\n",
       "    </tr>\n",
       "  </tbody>\n",
       "</table>\n",
       "</div>"
      ],
      "text/plain": [
       "         fun   nit  nfev  status  success  \\\n",
       "3  18.468239  1682  2688       0     True   \n",
       "4  21.019852   781  1290       0     True   \n",
       "2  28.028954  2072  3265       0     True   \n",
       "0  32.601879   894  1463       0     True   \n",
       "1  36.506569   941  1520       0     True   \n",
       "\n",
       "                                 message  \\\n",
       "3  Optimization terminated successfully.   \n",
       "4  Optimization terminated successfully.   \n",
       "2  Optimization terminated successfully.   \n",
       "0  Optimization terminated successfully.   \n",
       "1  Optimization terminated successfully.   \n",
       "\n",
       "                                                   x  \\\n",
       "3  [1.672724615839575, 2.4007660756467573, 0.0010...   \n",
       "4  [0.4045786669710373, 2.310879035263375, 0.4152...   \n",
       "2  [0.5494260750521367, 2.361854453342943, 0.4999...   \n",
       "0  [0.2088192517298467, 2.4682460016409085, 0.042...   \n",
       "1  [0.3973301864860213, 2.1925888231578585, 0.418...   \n",
       "\n",
       "                                       final_simplex  \n",
       "3  ([[1.672724615839575, 2.4007660756467573, 0.00...  \n",
       "4  ([[0.4045786669710373, 2.310879035263375, 0.41...  \n",
       "2  ([[0.5494260750521367, 2.361854453342943, 0.49...  \n",
       "0  ([[0.2088192517298467, 2.4682460016409085, 0.0...  \n",
       "1  ([[0.3973301864860213, 2.1925888231578585, 0.4...  "
      ]
     },
     "execution_count": 11,
     "metadata": {},
     "output_type": "execute_result"
    }
   ],
   "source": [
    "pd.DataFrame(_c.opt_results).sort_values(\"fun\")"
   ]
  },
  {
   "cell_type": "code",
   "execution_count": null,
   "id": "242da085-5e5c-42a4-b5ad-0764c9d955dc",
   "metadata": {
    "papermill": {
     "duration": 0.002067,
     "end_time": "2023-05-16T10:55:09.181873",
     "exception": false,
     "start_time": "2023-05-16T10:55:09.179806",
     "status": "completed"
    },
    "tags": []
   },
   "outputs": [],
   "source": []
  }
 ],
 "metadata": {
  "kernelspec": {
   "display_name": "pycharmm",
   "language": "python",
   "name": "pycharmm"
  },
  "language_info": {
   "codemirror_mode": {
    "name": "ipython",
    "version": 3
   },
   "file_extension": ".py",
   "mimetype": "text/x-python",
   "name": "python",
   "nbconvert_exporter": "python",
   "pygments_lexer": "ipython3",
   "version": "3.8.16"
  },
  "papermill": {
   "default_parameters": {},
   "duration": 178.71906,
   "end_time": "2023-05-16T10:55:09.889935",
   "environment_variables": {},
   "exception": null,
   "input_path": "templates/ff_template.ipynb",
   "output_path": "out_notebooks/ff/ECOL_pbe0dz_FOE.pkl.ipynb",
   "parameters": {
    "ffpkl": "ECOL_pbe0dz_FOE.pkl"
   },
   "start_time": "2023-05-16T10:52:11.170875",
   "version": "2.4.0"
  }
 },
 "nbformat": 4,
 "nbformat_minor": 5
}
