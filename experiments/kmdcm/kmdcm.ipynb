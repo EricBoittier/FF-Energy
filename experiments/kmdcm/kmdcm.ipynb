{
 "cells": [
  {
   "cell_type": "code",
   "execution_count": 1,
   "id": "6c2afd23-c5f8-4f1a-8d09-c5d0f6ef1f76",
   "metadata": {},
   "outputs": [],
   "source": [
    "from ff_energy.ffe.slurm import SlurmJobHandler"
   ]
  },
  {
   "cell_type": "code",
   "execution_count": 2,
   "id": "e6f9958e-2194-4f92-a58d-3711c8101d23",
   "metadata": {},
   "outputs": [],
   "source": [
    "sJH = SlurmJobHandler()"
   ]
  },
  {
   "cell_type": "code",
   "execution_count": 4,
   "id": "cde99091-3b6f-4745-ba8d-6f39a1ad81e3",
   "metadata": {},
   "outputs": [
    {
     "data": {
      "text/plain": [
       "{'max_jobs': 5,\n",
       " 'username': 'boittier',\n",
       " 'clustername': 'pc-bach',\n",
       " 'jobs': [],\n",
       " 'cluster': ('ssh', 'boittier@pc-bach')}"
      ]
     },
     "execution_count": 4,
     "metadata": {},
     "output_type": "execute_result"
    }
   ],
   "source": [
    "sJH.__dict__"
   ]
  },
  {
   "cell_type": "code",
   "execution_count": null,
   "id": "5f77fc64-8e39-41b1-adec-55303b0d1563",
   "metadata": {},
   "outputs": [],
   "source": []
  }
 ],
 "metadata": {
  "kernelspec": {
   "display_name": "Python 3 (ipykernel)",
   "language": "python",
   "name": "python3"
  },
  "language_info": {
   "codemirror_mode": {
    "name": "ipython",
    "version": 3
   },
   "file_extension": ".py",
   "mimetype": "text/x-python",
   "name": "python",
   "nbconvert_exporter": "python",
   "pygments_lexer": "ipython3",
   "version": "3.8.16"
  }
 },
 "nbformat": 4,
 "nbformat_minor": 5
}
