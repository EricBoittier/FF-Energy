{
 "cells": [
  {
   "cell_type": "code",
   "execution_count": 9,
   "id": "34a64ddd-8250-4fd9-80f6-07e5db446ed8",
   "metadata": {},
   "outputs": [
    {
     "name": "stdout",
     "output_type": "stream",
     "text": [
      "N experiments: 5\n"
     ]
    }
   ],
   "source": [
    "from ff_energy.ffe.slurm import SlurmJobHandler\n",
    "from pathlib import Path\n",
    "import pandas as pd\n",
    "import jax.numpy as jnp\n",
    "import itertools as it\n",
    "import matplotlib.pyplot as plt\n",
    "import seaborn as sns\n",
    "import numpy as np\n",
    "\n",
    "\n",
    "\n",
    "from ff_energy.ffe.potential import (\n",
    "    LJ,\n",
    "    DE,\n",
    ")\n",
    "\n",
    "from ff_energy.ffe.ff import FF\n",
    "\n",
    "from ff_energy.plotting.ffe_plots import plot_energy_MSE, plot_ff_fit\n",
    "from ff_energy.plotting.plotting import set_style\n",
    "from ff_energy.plotting.fit_results import residuals_plot\n",
    "from ff_energy.logs.logging import hide_logs\n",
    "\n",
    "hide_logs()\n",
    "\n",
    "\n",
    "import scienceplots\n",
    "set_style(no_latex=True)\n",
    "\n",
    "# sns.set_style()\n",
    "# plt.style.use([\"science\", \"no-latex\"])\n",
    "\n",
    "\n",
    "from ff_energy.ffe.ff_fit import (\n",
    "    load_ff,\n",
    "    fit_func,\n",
    "    fit_repeat,\n",
    ")\n",
    "\n",
    "from ff_energy.utils.ffe_utils import pickle_output, read_from_pickle, str2int, PKL_PATH\n",
    "from ff_energy.utils.json_utils import load_json\n",
    "\n",
    "structure_data = {\n",
    "    \"dcm\": \"\",\n",
    "    \"water_cluster\": PKL_PATH / \"20230823_water_clusters.pkl.pkl\",\n",
    "}\n",
    "\n",
    "\"\"\"\n",
    "Variables\n",
    "\"\"\"\n",
    "sig_bound = (0.001, 2.5)\n",
    "ep_bound = (0.001, 2.5)\n",
    "chg_bound = (100, 2000)\n",
    "CHGPEN_bound = [(chg_bound), (chg_bound), (chg_bound), (chg_bound), (0, 2000)]\n",
    "LJ_bound = ((sig_bound), (sig_bound), (ep_bound), (ep_bound))\n",
    "DE_bound = ((sig_bound), (sig_bound), (ep_bound), (ep_bound), (1, 8), (6, 20))\n",
    "\n",
    "NFIT_COUL = 1\n",
    "NFIT_LJ = 4\n",
    "NFIT_DE = 6\n",
    "\n",
    "pkl_files = []\n",
    "json_object = load_json(\"exp1.json\")\n",
    "#  make a product of all the values in the json object\n",
    "experiments = list(it.product(*json_object.values()))\n",
    "print(f\"N experiments: {len(experiments)}\")"
   ]
  },
  {
   "cell_type": "code",
   "execution_count": 4,
   "id": "219fb2c2-a368-418e-aa9a-590895616ca5",
   "metadata": {},
   "outputs": [
    {
     "data": {
      "text/plain": [
       "[('pbe0dz', 'dcm', 'ELECnull', 'lj'),\n",
       " ('pbe0dz', 'dcm', 'ELECci', 'lj'),\n",
       " ('pbe0dz', 'dcm', 'ELECpol', 'lj'),\n",
       " ('pbe0dz', 'dcm', 'ELECm', 'lj'),\n",
       " ('pbe0dz', 'dcm', 'ELECp', 'lj')]"
      ]
     },
     "execution_count": 4,
     "metadata": {},
     "output_type": "execute_result"
    }
   ],
   "source": [
    "experiments"
   ]
  },
  {
   "cell_type": "code",
   "execution_count": 5,
   "id": "683219bb-c6b6-4f8e-93ba-cff64f68b0b4",
   "metadata": {},
   "outputs": [
    {
     "name": "stderr",
     "output_type": "stream",
     "text": [
      "2023-09-06 11:14:53 | DEBUG | xla_bridge:_init_backend:482 - Initializing backend 'interpreter'\n",
      "2023-09-06 11:14:53 | DEBUG | xla_bridge:_init_backend:494 - Backend 'interpreter' initialized\n",
      "2023-09-06 11:14:53 | DEBUG | xla_bridge:_init_backend:482 - Initializing backend 'cpu'\n",
      "2023-09-06 11:14:53 | DEBUG | xla_bridge:_init_backend:494 - Backend 'cpu' initialized\n",
      "2023-09-06 11:14:53 | DEBUG | xla_bridge:_init_backend:482 - Initializing backend 'cuda'\n",
      "2023-09-06 11:14:53 | INFO | xla_bridge:backends:450 - Unable to initialize backend 'cuda': module 'jaxlib.xla_extension' has no attribute 'GpuAllocatorConfig'\n",
      "2023-09-06 11:14:53 | DEBUG | xla_bridge:_init_backend:482 - Initializing backend 'rocm'\n",
      "2023-09-06 11:14:53 | INFO | xla_bridge:backends:450 - Unable to initialize backend 'rocm': module 'jaxlib.xla_extension' has no attribute 'GpuAllocatorConfig'\n",
      "2023-09-06 11:14:53 | DEBUG | xla_bridge:_init_backend:482 - Initializing backend 'tpu'\n",
      "2023-09-06 11:14:53 | INFO | xla_bridge:backends:450 - Unable to initialize backend 'tpu': INVALID_ARGUMENT: TpuPlatform is not available.\n",
      "2023-09-06 11:14:53 | DEBUG | xla_bridge:_init_backend:482 - Initializing backend 'plugin'\n",
      "2023-09-06 11:14:53 | INFO | xla_bridge:backends:450 - Unable to initialize backend 'plugin': xla_extension has no attributes named get_plugin_device_client. Compile TensorFlow with //tensorflow/compiler/xla/python:enable_plugin_device set to true (defaults to false) to enable this.\n",
      "2023-09-06 11:14:53 | WARNING | xla_bridge:backends:458 - No GPU/TPU found, falling back to CPU. (Set TF_CPP_MIN_LOG_LEVEL=0 and rerun for more info.)\n"
     ]
    },
    {
     "data": {
      "text/plain": [
       "dict_keys(['ELECpol_dcm_lj_fitted', 'ELECnull_water_cluster_lj_fitted', 'ELECci_dcm_lj_fitted', 'ELECp_dcm_lj_fitted', 'ELECnull_dcm_lj_fitted', 'ELECk_water_cluster_lj_fitted', 'ELECm_dcm_lj_fitted', 'ELECci_water_cluster_lj_fitted', 'ELECp_water_cluster_lj_fitted', 'ELECpol_water_cluster_lj_fitted', 'ELECm_water_cluster_lj_fitted'])"
      ]
     },
     "execution_count": 5,
     "metadata": {},
     "output_type": "execute_result"
    }
   ],
   "source": [
    "fitted_ = {_.stem: pd.read_pickle(_) for _ in list(PKL_PATH.glob(\"*fitted*\"))}\n",
    "fitted_.keys()"
   ]
  },
  {
   "cell_type": "code",
   "execution_count": 6,
   "id": "05f8e8c7-1b6c-4103-9a18-cfc110d13c4c",
   "metadata": {},
   "outputs": [],
   "source": [
    "fitkeys = list(fitted_.keys())\n",
    "fitkeys = [\n",
    "  #   'ELECnull_water_cluster_lj_fitted',\n",
    "  # 'ELECci_water_cluster_lj_fitted',\n",
    "  'ELECpol_water_cluster_lj_fitted',\n",
    "  # 'ELECk_water_cluster_lj_fitted',\n",
    "  # 'ELECm_water_cluster_lj_fitted',\n",
    "  # 'ELECp_water_cluster_lj_fitted',\n",
    "  # 'ELECnull_dcm_lj_fitted',\n",
    "  # 'ELECci_dcm_lj_fitted',\n",
    "  # 'ELECpol_dcm_lj_fitted',\n",
    "  # 'ELECm_dcm_lj_fitted',\n",
    "  # 'ELECp_dcm_lj_fitted'\n",
    "]"
   ]
  },
  {
   "cell_type": "code",
   "execution_count": 10,
   "id": "70bdb125-285c-43a1-b68c-3f7e0f58c105",
   "metadata": {
    "tags": []
   },
   "outputs": [
    {
     "name": "stderr",
     "output_type": "stream",
     "text": [
      "DEBUG:matplotlib.axes._base:top of Axes not in the figure, so title not moved\n",
      "2023-09-06 11:15:58 | DEBUG | _base:_update_title_position:3003 - top of Axes not in the figure, so title not moved\n",
      "DEBUG:matplotlib.axes._base:top of Axes not in the figure, so title not moved\n",
      "2023-09-06 11:15:58 | DEBUG | _base:_update_title_position:3003 - top of Axes not in the figure, so title not moved\n",
      "DEBUG:matplotlib.axes._base:top of Axes not in the figure, so title not moved\n",
      "2023-09-06 11:15:59 | DEBUG | _base:_update_title_position:3003 - top of Axes not in the figure, so title not moved\n",
      "DEBUG:matplotlib.axes._base:top of Axes not in the figure, so title not moved\n",
      "2023-09-06 11:15:59 | DEBUG | _base:_update_title_position:3003 - top of Axes not in the figure, so title not moved\n",
      "DEBUG:matplotlib.axes._base:top of Axes not in the figure, so title not moved\n",
      "2023-09-06 11:15:59 | DEBUG | _base:_update_title_position:3003 - top of Axes not in the figure, so title not moved\n",
      "DEBUG:matplotlib.axes._base:top of Axes not in the figure, so title not moved\n",
      "2023-09-06 11:15:59 | DEBUG | _base:_update_title_position:3003 - top of Axes not in the figure, so title not moved\n",
      "DEBUG:matplotlib.axes._base:top of Axes not in the figure, so title not moved\n",
      "2023-09-06 11:15:59 | DEBUG | _base:_update_title_position:3003 - top of Axes not in the figure, so title not moved\n",
      "DEBUG:matplotlib.axes._base:top of Axes not in the figure, so title not moved\n",
      "2023-09-06 11:15:59 | DEBUG | _base:_update_title_position:3003 - top of Axes not in the figure, so title not moved\n",
      "DEBUG:matplotlib.axes._base:top of Axes not in the figure, so title not moved\n",
      "2023-09-06 11:15:59 | DEBUG | _base:_update_title_position:3003 - top of Axes not in the figure, so title not moved\n",
      "DEBUG:matplotlib.axes._base:top of Axes not in the figure, so title not moved\n",
      "2023-09-06 11:15:59 | DEBUG | _base:_update_title_position:3003 - top of Axes not in the figure, so title not moved\n",
      "DEBUG:matplotlib.axes._base:top of Axes not in the figure, so title not moved\n",
      "2023-09-06 11:15:59 | DEBUG | _base:_update_title_position:3003 - top of Axes not in the figure, so title not moved\n",
      "DEBUG:matplotlib.axes._base:top of Axes not in the figure, so title not moved\n",
      "2023-09-06 11:15:59 | DEBUG | _base:_update_title_position:3003 - top of Axes not in the figure, so title not moved\n",
      "DEBUG:matplotlib.axes._base:top of Axes not in the figure, so title not moved\n",
      "2023-09-06 11:15:59 | DEBUG | _base:_update_title_position:3003 - top of Axes not in the figure, so title not moved\n",
      "DEBUG:matplotlib.axes._base:top of Axes not in the figure, so title not moved\n",
      "2023-09-06 11:15:59 | DEBUG | _base:_update_title_position:3003 - top of Axes not in the figure, so title not moved\n",
      "DEBUG:matplotlib.axes._base:top of Axes not in the figure, so title not moved\n",
      "2023-09-06 11:15:59 | DEBUG | _base:_update_title_position:3003 - top of Axes not in the figure, so title not moved\n",
      "DEBUG:matplotlib.axes._base:top of Axes not in the figure, so title not moved\n",
      "2023-09-06 11:15:59 | DEBUG | _base:_update_title_position:3003 - top of Axes not in the figure, so title not moved\n",
      "DEBUG:matplotlib.axes._base:top of Axes not in the figure, so title not moved\n",
      "2023-09-06 11:16:00 | DEBUG | _base:_update_title_position:3003 - top of Axes not in the figure, so title not moved\n",
      "DEBUG:matplotlib.axes._base:top of Axes not in the figure, so title not moved\n",
      "2023-09-06 11:16:00 | DEBUG | _base:_update_title_position:3003 - top of Axes not in the figure, so title not moved\n",
      "DEBUG:matplotlib.axes._base:top of Axes not in the figure, so title not moved\n",
      "2023-09-06 11:16:00 | DEBUG | _base:_update_title_position:3003 - top of Axes not in the figure, so title not moved\n",
      "DEBUG:matplotlib.axes._base:top of Axes not in the figure, so title not moved\n",
      "2023-09-06 11:16:00 | DEBUG | _base:_update_title_position:3003 - top of Axes not in the figure, so title not moved\n",
      "DEBUG:matplotlib.axes._base:top of Axes not in the figure, so title not moved\n",
      "2023-09-06 11:16:00 | DEBUG | _base:_update_title_position:3003 - top of Axes not in the figure, so title not moved\n",
      "DEBUG:matplotlib.axes._base:top of Axes not in the figure, so title not moved\n",
      "2023-09-06 11:16:00 | DEBUG | _base:_update_title_position:3003 - top of Axes not in the figure, so title not moved\n",
      "DEBUG:matplotlib.axes._base:top of Axes not in the figure, so title not moved\n",
      "2023-09-06 11:16:00 | DEBUG | _base:_update_title_position:3003 - top of Axes not in the figure, so title not moved\n",
      "DEBUG:matplotlib.axes._base:top of Axes not in the figure, so title not moved\n",
      "2023-09-06 11:16:00 | DEBUG | _base:_update_title_position:3003 - top of Axes not in the figure, so title not moved\n",
      "DEBUG:matplotlib.axes._base:top of Axes not in the figure, so title not moved\n",
      "2023-09-06 11:16:00 | DEBUG | _base:_update_title_position:3003 - top of Axes not in the figure, so title not moved\n",
      "DEBUG:matplotlib.axes._base:top of Axes not in the figure, so title not moved\n",
      "2023-09-06 11:16:00 | DEBUG | _base:_update_title_position:3003 - top of Axes not in the figure, so title not moved\n",
      "DEBUG:matplotlib.axes._base:top of Axes not in the figure, so title not moved\n",
      "2023-09-06 11:16:00 | DEBUG | _base:_update_title_position:3003 - top of Axes not in the figure, so title not moved\n",
      "DEBUG:matplotlib.axes._base:top of Axes not in the figure, so title not moved\n",
      "2023-09-06 11:16:00 | DEBUG | _base:_update_title_position:3003 - top of Axes not in the figure, so title not moved\n",
      "DEBUG:matplotlib.axes._base:top of Axes not in the figure, so title not moved\n",
      "2023-09-06 11:16:00 | DEBUG | _base:_update_title_position:3003 - top of Axes not in the figure, so title not moved\n",
      "DEBUG:matplotlib.axes._base:top of Axes not in the figure, so title not moved\n",
      "2023-09-06 11:16:00 | DEBUG | _base:_update_title_position:3003 - top of Axes not in the figure, so title not moved\n",
      "DEBUG:matplotlib.axes._base:top of Axes not in the figure, so title not moved\n",
      "2023-09-06 11:16:00 | DEBUG | _base:_update_title_position:3003 - top of Axes not in the figure, so title not moved\n",
      "DEBUG:matplotlib.axes._base:top of Axes not in the figure, so title not moved\n",
      "2023-09-06 11:16:00 | DEBUG | _base:_update_title_position:3003 - top of Axes not in the figure, so title not moved\n",
      "DEBUG:matplotlib.axes._base:top of Axes not in the figure, so title not moved\n",
      "2023-09-06 11:16:00 | DEBUG | _base:_update_title_position:3003 - top of Axes not in the figure, so title not moved\n",
      "DEBUG:matplotlib.axes._base:top of Axes not in the figure, so title not moved\n",
      "2023-09-06 11:16:00 | DEBUG | _base:_update_title_position:3003 - top of Axes not in the figure, so title not moved\n",
      "DEBUG:matplotlib.axes._base:top of Axes not in the figure, so title not moved\n",
      "2023-09-06 11:16:01 | DEBUG | _base:_update_title_position:3003 - top of Axes not in the figure, so title not moved\n",
      "DEBUG:matplotlib.axes._base:top of Axes not in the figure, so title not moved\n",
      "2023-09-06 11:16:01 | DEBUG | _base:_update_title_position:3003 - top of Axes not in the figure, so title not moved\n",
      "DEBUG:matplotlib.axes._base:top of Axes not in the figure, so title not moved\n",
      "2023-09-06 11:16:01 | DEBUG | _base:_update_title_position:3003 - top of Axes not in the figure, so title not moved\n",
      "DEBUG:matplotlib.axes._base:top of Axes not in the figure, so title not moved\n",
      "2023-09-06 11:16:01 | DEBUG | _base:_update_title_position:3003 - top of Axes not in the figure, so title not moved\n",
      "DEBUG:matplotlib.axes._base:top of Axes not in the figure, so title not moved\n",
      "2023-09-06 11:16:01 | DEBUG | _base:_update_title_position:3003 - top of Axes not in the figure, so title not moved\n",
      "DEBUG:matplotlib.axes._base:top of Axes not in the figure, so title not moved\n",
      "2023-09-06 11:16:01 | DEBUG | _base:_update_title_position:3003 - top of Axes not in the figure, so title not moved\n",
      "DEBUG:matplotlib.axes._base:top of Axes not in the figure, so title not moved\n",
      "2023-09-06 11:16:01 | DEBUG | _base:_update_title_position:3003 - top of Axes not in the figure, so title not moved\n",
      "DEBUG:matplotlib.axes._base:top of Axes not in the figure, so title not moved\n",
      "2023-09-06 11:16:01 | DEBUG | _base:_update_title_position:3003 - top of Axes not in the figure, so title not moved\n",
      "DEBUG:matplotlib.axes._base:top of Axes not in the figure, so title not moved\n",
      "2023-09-06 11:16:01 | DEBUG | _base:_update_title_position:3003 - top of Axes not in the figure, so title not moved\n",
      "DEBUG:matplotlib.axes._base:top of Axes not in the figure, so title not moved\n",
      "2023-09-06 11:16:01 | DEBUG | _base:_update_title_position:3003 - top of Axes not in the figure, so title not moved\n",
      "DEBUG:matplotlib.axes._base:top of Axes not in the figure, so title not moved\n",
      "2023-09-06 11:16:01 | DEBUG | _base:_update_title_position:3003 - top of Axes not in the figure, so title not moved\n",
      "DEBUG:matplotlib.axes._base:top of Axes not in the figure, so title not moved\n",
      "2023-09-06 11:16:01 | DEBUG | _base:_update_title_position:3003 - top of Axes not in the figure, so title not moved\n",
      "DEBUG:matplotlib.axes._base:top of Axes not in the figure, so title not moved\n",
      "2023-09-06 11:16:01 | DEBUG | _base:_update_title_position:3003 - top of Axes not in the figure, so title not moved\n",
      "DEBUG:matplotlib.axes._base:top of Axes not in the figure, so title not moved\n",
      "2023-09-06 11:16:01 | DEBUG | _base:_update_title_position:3003 - top of Axes not in the figure, so title not moved\n",
      "DEBUG:matplotlib.axes._base:top of Axes not in the figure, so title not moved\n",
      "2023-09-06 11:16:01 | DEBUG | _base:_update_title_position:3003 - top of Axes not in the figure, so title not moved\n",
      "DEBUG:matplotlib.axes._base:top of Axes not in the figure, so title not moved\n",
      "2023-09-06 11:16:01 | DEBUG | _base:_update_title_position:3003 - top of Axes not in the figure, so title not moved\n",
      "DEBUG:matplotlib.axes._base:top of Axes not in the figure, so title not moved\n",
      "2023-09-06 11:16:01 | DEBUG | _base:_update_title_position:3003 - top of Axes not in the figure, so title not moved\n",
      "DEBUG:matplotlib.axes._base:top of Axes not in the figure, so title not moved\n",
      "2023-09-06 11:16:01 | DEBUG | _base:_update_title_position:3003 - top of Axes not in the figure, so title not moved\n",
      "DEBUG:matplotlib.axes._base:top of Axes not in the figure, so title not moved\n",
      "2023-09-06 11:16:01 | DEBUG | _base:_update_title_position:3003 - top of Axes not in the figure, so title not moved\n",
      "DEBUG:matplotlib.axes._base:top of Axes not in the figure, so title not moved\n",
      "2023-09-06 11:16:01 | DEBUG | _base:_update_title_position:3003 - top of Axes not in the figure, so title not moved\n",
      "DEBUG:matplotlib.axes._base:top of Axes not in the figure, so title not moved\n",
      "2023-09-06 11:16:01 | DEBUG | _base:_update_title_position:3003 - top of Axes not in the figure, so title not moved\n",
      "DEBUG:matplotlib.axes._base:top of Axes not in the figure, so title not moved\n",
      "2023-09-06 11:16:01 | DEBUG | _base:_update_title_position:3003 - top of Axes not in the figure, so title not moved\n",
      "DEBUG:matplotlib.axes._base:top of Axes not in the figure, so title not moved\n",
      "2023-09-06 11:16:01 | DEBUG | _base:_update_title_position:3003 - top of Axes not in the figure, so title not moved\n",
      "DEBUG:matplotlib.axes._base:top of Axes not in the figure, so title not moved\n",
      "2023-09-06 11:16:01 | DEBUG | _base:_update_title_position:3003 - top of Axes not in the figure, so title not moved\n",
      "DEBUG:matplotlib.axes._base:top of Axes not in the figure, so title not moved\n",
      "2023-09-06 11:16:01 | DEBUG | _base:_update_title_position:3003 - top of Axes not in the figure, so title not moved\n",
      "DEBUG:matplotlib.axes._base:top of Axes not in the figure, so title not moved\n",
      "2023-09-06 11:16:01 | DEBUG | _base:_update_title_position:3003 - top of Axes not in the figure, so title not moved\n",
      "DEBUG:matplotlib.axes._base:top of Axes not in the figure, so title not moved\n",
      "2023-09-06 11:16:01 | DEBUG | _base:_update_title_position:3003 - top of Axes not in the figure, so title not moved\n",
      "DEBUG:matplotlib.axes._base:top of Axes not in the figure, so title not moved\n",
      "2023-09-06 11:16:01 | DEBUG | _base:_update_title_position:3003 - top of Axes not in the figure, so title not moved\n",
      "DEBUG:matplotlib.axes._base:top of Axes not in the figure, so title not moved\n",
      "2023-09-06 11:16:01 | DEBUG | _base:_update_title_position:3003 - top of Axes not in the figure, so title not moved\n",
      "DEBUG:matplotlib.axes._base:top of Axes not in the figure, so title not moved\n",
      "2023-09-06 11:16:01 | DEBUG | _base:_update_title_position:3003 - top of Axes not in the figure, so title not moved\n",
      "DEBUG:matplotlib.axes._base:top of Axes not in the figure, so title not moved\n",
      "2023-09-06 11:16:01 | DEBUG | _base:_update_title_position:3003 - top of Axes not in the figure, so title not moved\n",
      "DEBUG:matplotlib.axes._base:top of Axes not in the figure, so title not moved\n",
      "2023-09-06 11:16:01 | DEBUG | _base:_update_title_position:3003 - top of Axes not in the figure, so title not moved\n",
      "DEBUG:matplotlib.axes._base:top of Axes not in the figure, so title not moved\n",
      "2023-09-06 11:16:02 | DEBUG | _base:_update_title_position:3003 - top of Axes not in the figure, so title not moved\n",
      "DEBUG:matplotlib.axes._base:top of Axes not in the figure, so title not moved\n",
      "2023-09-06 11:16:02 | DEBUG | _base:_update_title_position:3003 - top of Axes not in the figure, so title not moved\n",
      "DEBUG:matplotlib.axes._base:top of Axes not in the figure, so title not moved\n",
      "2023-09-06 11:16:02 | DEBUG | _base:_update_title_position:3003 - top of Axes not in the figure, so title not moved\n",
      "DEBUG:matplotlib.axes._base:top of Axes not in the figure, so title not moved\n",
      "2023-09-06 11:16:02 | DEBUG | _base:_update_title_position:3003 - top of Axes not in the figure, so title not moved\n",
      "DEBUG:matplotlib.axes._base:top of Axes not in the figure, so title not moved\n",
      "2023-09-06 11:16:02 | DEBUG | _base:_update_title_position:3003 - top of Axes not in the figure, so title not moved\n",
      "DEBUG:matplotlib.axes._base:top of Axes not in the figure, so title not moved\n",
      "2023-09-06 11:16:02 | DEBUG | _base:_update_title_position:3003 - top of Axes not in the figure, so title not moved\n",
      "DEBUG:matplotlib.axes._base:top of Axes not in the figure, so title not moved\n",
      "2023-09-06 11:16:02 | DEBUG | _base:_update_title_position:3003 - top of Axes not in the figure, so title not moved\n",
      "DEBUG:matplotlib.axes._base:top of Axes not in the figure, so title not moved\n",
      "2023-09-06 11:16:02 | DEBUG | _base:_update_title_position:3003 - top of Axes not in the figure, so title not moved\n",
      "DEBUG:matplotlib.axes._base:top of Axes not in the figure, so title not moved\n",
      "2023-09-06 11:16:02 | DEBUG | _base:_update_title_position:3003 - top of Axes not in the figure, so title not moved\n",
      "DEBUG:matplotlib.axes._base:top of Axes not in the figure, so title not moved\n",
      "2023-09-06 11:16:02 | DEBUG | _base:_update_title_position:3003 - top of Axes not in the figure, so title not moved\n",
      "DEBUG:matplotlib.axes._base:top of Axes not in the figure, so title not moved\n",
      "2023-09-06 11:16:02 | DEBUG | _base:_update_title_position:3003 - top of Axes not in the figure, so title not moved\n",
      "DEBUG:matplotlib.axes._base:top of Axes not in the figure, so title not moved\n",
      "2023-09-06 11:16:02 | DEBUG | _base:_update_title_position:3003 - top of Axes not in the figure, so title not moved\n",
      "DEBUG:matplotlib.axes._base:top of Axes not in the figure, so title not moved\n",
      "2023-09-06 11:16:02 | DEBUG | _base:_update_title_position:3003 - top of Axes not in the figure, so title not moved\n",
      "DEBUG:matplotlib.axes._base:top of Axes not in the figure, so title not moved\n",
      "2023-09-06 11:16:02 | DEBUG | _base:_update_title_position:3003 - top of Axes not in the figure, so title not moved\n",
      "DEBUG:matplotlib.axes._base:top of Axes not in the figure, so title not moved\n",
      "2023-09-06 11:16:02 | DEBUG | _base:_update_title_position:3003 - top of Axes not in the figure, so title not moved\n",
      "DEBUG:matplotlib.axes._base:top of Axes not in the figure, so title not moved\n",
      "2023-09-06 11:16:02 | DEBUG | _base:_update_title_position:3003 - top of Axes not in the figure, so title not moved\n",
      "DEBUG:matplotlib.axes._base:top of Axes not in the figure, so title not moved\n",
      "2023-09-06 11:16:02 | DEBUG | _base:_update_title_position:3003 - top of Axes not in the figure, so title not moved\n",
      "DEBUG:matplotlib.axes._base:top of Axes not in the figure, so title not moved\n",
      "2023-09-06 11:16:02 | DEBUG | _base:_update_title_position:3003 - top of Axes not in the figure, so title not moved\n",
      "DEBUG:matplotlib.axes._base:top of Axes not in the figure, so title not moved\n",
      "2023-09-06 11:16:02 | DEBUG | _base:_update_title_position:3003 - top of Axes not in the figure, so title not moved\n",
      "DEBUG:matplotlib.axes._base:top of Axes not in the figure, so title not moved\n",
      "2023-09-06 11:16:02 | DEBUG | _base:_update_title_position:3003 - top of Axes not in the figure, so title not moved\n",
      "DEBUG:matplotlib.axes._base:top of Axes not in the figure, so title not moved\n",
      "2023-09-06 11:16:02 | DEBUG | _base:_update_title_position:3003 - top of Axes not in the figure, so title not moved\n",
      "DEBUG:matplotlib.axes._base:top of Axes not in the figure, so title not moved\n",
      "2023-09-06 11:16:02 | DEBUG | _base:_update_title_position:3003 - top of Axes not in the figure, so title not moved\n",
      "DEBUG:matplotlib.axes._base:top of Axes not in the figure, so title not moved\n",
      "2023-09-06 11:16:02 | DEBUG | _base:_update_title_position:3003 - top of Axes not in the figure, so title not moved\n",
      "DEBUG:matplotlib.axes._base:top of Axes not in the figure, so title not moved\n",
      "2023-09-06 11:16:02 | DEBUG | _base:_update_title_position:3003 - top of Axes not in the figure, so title not moved\n",
      "DEBUG:matplotlib.axes._base:top of Axes not in the figure, so title not moved\n",
      "2023-09-06 11:16:02 | DEBUG | _base:_update_title_position:3003 - top of Axes not in the figure, so title not moved\n",
      "DEBUG:matplotlib.axes._base:top of Axes not in the figure, so title not moved\n",
      "2023-09-06 11:16:02 | DEBUG | _base:_update_title_position:3003 - top of Axes not in the figure, so title not moved\n",
      "DEBUG:matplotlib.axes._base:top of Axes not in the figure, so title not moved\n",
      "2023-09-06 11:16:02 | DEBUG | _base:_update_title_position:3003 - top of Axes not in the figure, so title not moved\n",
      "DEBUG:matplotlib.axes._base:top of Axes not in the figure, so title not moved\n",
      "2023-09-06 11:16:02 | DEBUG | _base:_update_title_position:3003 - top of Axes not in the figure, so title not moved\n",
      "DEBUG:matplotlib.axes._base:top of Axes not in the figure, so title not moved\n",
      "2023-09-06 11:16:02 | DEBUG | _base:_update_title_position:3003 - top of Axes not in the figure, so title not moved\n",
      "DEBUG:matplotlib.axes._base:top of Axes not in the figure, so title not moved\n",
      "2023-09-06 11:16:02 | DEBUG | _base:_update_title_position:3003 - top of Axes not in the figure, so title not moved\n",
      "DEBUG:matplotlib.axes._base:top of Axes not in the figure, so title not moved\n",
      "2023-09-06 11:16:02 | DEBUG | _base:_update_title_position:3003 - top of Axes not in the figure, so title not moved\n",
      "DEBUG:matplotlib.axes._base:top of Axes not in the figure, so title not moved\n",
      "2023-09-06 11:16:02 | DEBUG | _base:_update_title_position:3003 - top of Axes not in the figure, so title not moved\n",
      "DEBUG:matplotlib.axes._base:top of Axes not in the figure, so title not moved\n",
      "2023-09-06 11:16:02 | DEBUG | _base:_update_title_position:3003 - top of Axes not in the figure, so title not moved\n",
      "DEBUG:matplotlib.axes._base:top of Axes not in the figure, so title not moved\n",
      "2023-09-06 11:16:03 | DEBUG | _base:_update_title_position:3003 - top of Axes not in the figure, so title not moved\n",
      "DEBUG:matplotlib.axes._base:top of Axes not in the figure, so title not moved\n",
      "2023-09-06 11:16:03 | DEBUG | _base:_update_title_position:3003 - top of Axes not in the figure, so title not moved\n",
      "DEBUG:matplotlib.axes._base:top of Axes not in the figure, so title not moved\n",
      "2023-09-06 11:16:03 | DEBUG | _base:_update_title_position:3003 - top of Axes not in the figure, so title not moved\n",
      "DEBUG:matplotlib.axes._base:top of Axes not in the figure, so title not moved\n",
      "2023-09-06 11:16:03 | DEBUG | _base:_update_title_position:3003 - top of Axes not in the figure, so title not moved\n",
      "DEBUG:matplotlib.axes._base:top of Axes not in the figure, so title not moved\n",
      "2023-09-06 11:16:03 | DEBUG | _base:_update_title_position:3003 - top of Axes not in the figure, so title not moved\n",
      "DEBUG:matplotlib.axes._base:top of Axes not in the figure, so title not moved\n",
      "2023-09-06 11:16:03 | DEBUG | _base:_update_title_position:3003 - top of Axes not in the figure, so title not moved\n",
      "DEBUG:matplotlib.axes._base:top of Axes not in the figure, so title not moved\n",
      "2023-09-06 11:16:03 | DEBUG | _base:_update_title_position:3003 - top of Axes not in the figure, so title not moved\n",
      "DEBUG:matplotlib.axes._base:top of Axes not in the figure, so title not moved\n",
      "2023-09-06 11:16:03 | DEBUG | _base:_update_title_position:3003 - top of Axes not in the figure, so title not moved\n",
      "DEBUG:matplotlib.axes._base:top of Axes not in the figure, so title not moved\n",
      "2023-09-06 11:16:03 | DEBUG | _base:_update_title_position:3003 - top of Axes not in the figure, so title not moved\n",
      "DEBUG:matplotlib.axes._base:top of Axes not in the figure, so title not moved\n",
      "2023-09-06 11:16:03 | DEBUG | _base:_update_title_position:3003 - top of Axes not in the figure, so title not moved\n",
      "DEBUG:matplotlib.axes._base:top of Axes not in the figure, so title not moved\n",
      "2023-09-06 11:16:03 | DEBUG | _base:_update_title_position:3003 - top of Axes not in the figure, so title not moved\n",
      "DEBUG:matplotlib.axes._base:top of Axes not in the figure, so title not moved\n",
      "2023-09-06 11:16:03 | DEBUG | _base:_update_title_position:3003 - top of Axes not in the figure, so title not moved\n",
      "DEBUG:matplotlib.axes._base:top of Axes not in the figure, so title not moved\n",
      "2023-09-06 11:16:03 | DEBUG | _base:_update_title_position:3003 - top of Axes not in the figure, so title not moved\n",
      "DEBUG:matplotlib.axes._base:top of Axes not in the figure, so title not moved\n",
      "2023-09-06 11:16:04 | DEBUG | _base:_update_title_position:3003 - top of Axes not in the figure, so title not moved\n",
      "DEBUG:matplotlib.axes._base:top of Axes not in the figure, so title not moved\n",
      "2023-09-06 11:16:04 | DEBUG | _base:_update_title_position:3003 - top of Axes not in the figure, so title not moved\n",
      "DEBUG:matplotlib.axes._base:top of Axes not in the figure, so title not moved\n",
      "2023-09-06 11:16:04 | DEBUG | _base:_update_title_position:3003 - top of Axes not in the figure, so title not moved\n",
      "DEBUG:matplotlib.axes._base:top of Axes not in the figure, so title not moved\n",
      "2023-09-06 11:16:04 | DEBUG | _base:_update_title_position:3003 - top of Axes not in the figure, so title not moved\n",
      "DEBUG:matplotlib.axes._base:top of Axes not in the figure, so title not moved\n",
      "2023-09-06 11:16:04 | DEBUG | _base:_update_title_position:3003 - top of Axes not in the figure, so title not moved\n",
      "DEBUG:matplotlib.axes._base:top of Axes not in the figure, so title not moved\n",
      "2023-09-06 11:16:04 | DEBUG | _base:_update_title_position:3003 - top of Axes not in the figure, so title not moved\n"
     ]
    }
   ],
   "source": [
    "def eval_(model, x, num_segments=201):\n",
    "    model.num_segments = num_segments\n",
    "    return np.asarray(model.eval_jax(x))\n",
    "\n",
    "for I, _ in enumerate(fitkeys):\n",
    "    key = fitkeys[I]\n",
    "    m = fitted_[key]\n",
    "    nseg = 201 if \"dcm\" in key else 500\n",
    "    results = [_.fun for _ in m.opt_results]\n",
    "    # data_vals = [eval_(m, _.x, nseg) for _ in m.opt_results]\n",
    "    parm_vals = [_.x for _ in fitted_[key].opt_results]\n",
    "    dataframe = pd.DataFrame(fitted_[key].opt_results)\n",
    "    # dataframe[\"values\"] = data_vals\n",
    "\n",
    "    elec = fitted_[key].df[fitted_[key].elec] \n",
    "    targets = fitted_[key].targets \n",
    "    best = dataframe[\"fun\"].sort_values().index[0]\n",
    "        \n",
    "    best_parm = parm_vals[best]\n",
    "    vals = eval_(m, best_parm, nseg)\n",
    "    RMSE = dataframe.fun.min() **0.5\n",
    "    labelkey = f\"{key.replace('_', ' ').strip('ELEC').split()[0].upper()}: {RMSE :.1f} kcal/mol\"\n",
    "        \n",
    "    resid = targets - vals\n",
    "    df_test = pd.DataFrame({\"target\": targets+elec, \"residuals\": resid, \"vals\": vals+elec})\n",
    "    var_res = f\"var_res: {np.nanmean(resid)}\"\n",
    "    # print(df_test.dropna(), RMSE)\n",
    "    df_test = df_test.dropna()\n",
    "    residuals_plot(df_test, \"test\")\n",
    "    \n",
    "    \n",
    "    \n",
    "\n"
   ]
  },
  {
   "cell_type": "code",
   "execution_count": 9,
   "id": "5c0aff9f-12b3-4b09-973a-ab7a36ae8cc5",
   "metadata": {},
   "outputs": [
    {
     "name": "stderr",
     "output_type": "stream",
     "text": [
      "2023-09-05 20:45:24 | DEBUG | dispatch:log_elapsed_time:272 - Finished tracing + transforming LJRUN for pjit in 0.0022249221801757812 sec\n",
      "2023-09-05 20:45:24 | DEBUG | pxla:lower_sharding_computation:2440 - Compiling LJRUN for with global shapes and types [ShapedArray(float32[343710]), ShapedArray(int32[343710]), ShapedArray(int32[343710]), ShapedArray(float32[6])]. Argument mapping: (GSPMDSharding({replicated}), GSPMDSharding({replicated}), GSPMDSharding({replicated}), GSPMDSharding({replicated})).\n",
      "2023-09-05 20:45:24 | DEBUG | xla_bridge:get_compile_options:125 - get_compile_options: num_replicas=1 num_partitions=1 device_assignment=[[CpuDevice(id=0)]]\n",
      "2023-09-05 20:45:24 | DEBUG | dispatch:log_elapsed_time:272 - Finished XLA compilation of jit(LJRUN) in 0.04702496528625488 sec\n"
     ]
    },
    {
     "data": {
      "text/plain": [
       "Array([ -8.679099 , -17.416534 ,  -8.797241 ,  -9.175651 , -13.7771   ,\n",
       "        -8.499314 ,  -9.963039 ,  -9.14117  , -14.0059595, -12.961435 ,\n",
       "       -12.382614 , -15.193031 ,  -6.543729 , -15.574745 ,  -9.399832 ,\n",
       "       -12.44007  ,  -9.360146 , -10.580072 , -12.131478 , -13.9265175,\n",
       "       -11.387453 , -15.925692 , -20.143423 , -14.617401 , -11.566539 ,\n",
       "       -13.694064 , -11.415711 , -15.369389 , -14.560101 , -14.895153 ,\n",
       "        -8.68453  , -15.447062 , -13.693357 , -13.076864 ,  -9.691469 ,\n",
       "        -6.9299655, -14.998952 ,  -8.011708 , -10.821518 , -12.165156 ,\n",
       "        -9.769529 ,  -6.5140953, -15.216439 ,  -8.7444725, -12.945551 ,\n",
       "       -14.0941925, -14.715478 , -10.861329 , -16.436146 , -15.986576 ,\n",
       "       -10.908183 , -11.687253 , -16.665436 , -11.939227 , -12.580796 ,\n",
       "       -12.593601 , -14.474608 , -17.117025 , -11.703036 ,  -9.8325405,\n",
       "        -9.813097 , -13.39751  , -14.683071 , -16.341877 , -11.169738 ,\n",
       "       -11.317979 , -13.676018 , -11.918437 , -14.158367 , -11.58099  ,\n",
       "       -14.771938 ,  -9.544997 , -12.648525 ,  -7.4133496, -13.137693 ,\n",
       "       -15.527607 , -10.644293 , -13.332654 , -14.915739 , -13.155564 ,\n",
       "       -11.438329 , -11.819649 ,  -8.873569 , -13.118426 , -15.722589 ,\n",
       "        -9.67691  , -14.337511 , -12.874628 , -10.538481 ,  -8.340742 ,\n",
       "       -18.066511 , -16.854048 , -12.371152 , -10.990459 ,  -9.529394 ,\n",
       "        -6.483199 , -15.541577 , -10.68696  ,  -8.342029 , -11.351869 ,\n",
       "       -10.212496 , -15.280133 , -15.872998 ,  -9.088634 , -14.029051 ,\n",
       "       -14.560278 , -11.673198 , -15.281212 ,  -8.78801  , -11.370841 ,\n",
       "       -12.328373 , -10.439944 ,  -6.804686 , -11.137843 , -14.531698 ,\n",
       "       -14.700633 , -15.998532 , -14.425043 , -11.583057 , -12.563229 ,\n",
       "       -13.225706 , -12.3997555, -10.236791 , -12.88665  , -11.819516 ,\n",
       "       -16.944363 , -12.56276  , -15.063344 , -17.57017  ,  -7.3760076,\n",
       "        -6.021704 , -11.527062 , -11.494789 , -11.138898 , -12.722435 ,\n",
       "       -10.774562 , -13.708384 , -16.283382 , -11.707016 , -15.232724 ,\n",
       "        -9.922938 , -14.606147 ,  -9.759742 ,  -9.01112  ,  -9.375155 ,\n",
       "       -16.974571 , -16.047043 , -12.577053 ,  -8.599305 , -12.781597 ,\n",
       "        -9.799861 , -19.18381  , -19.205564 , -12.186069 , -10.82918  ,\n",
       "       -13.170789 , -13.036007 , -14.11662  , -13.523059 , -16.214933 ,\n",
       "       -10.6867895, -13.877528 ,  -9.98872  , -10.19192  , -14.123933 ,\n",
       "       -13.006907 ,  -9.679716 , -12.38938  , -13.669862 , -12.76867  ,\n",
       "       -11.259643 , -10.832563 , -13.806457 , -13.817533 , -18.540993 ,\n",
       "        -9.831352 , -12.192886 , -13.9875765, -14.227524 , -11.989558 ,\n",
       "       -12.377317 , -14.911181 , -15.205844 , -15.342882 , -14.683735 ,\n",
       "       -16.42488  , -15.282721 , -13.364692 , -15.274694 , -14.535323 ,\n",
       "       -12.898364 , -14.33234  , -14.791735 , -13.515407 , -17.180351 ,\n",
       "       -17.149828 , -10.289063 , -14.265834 , -15.526796 , -12.972366 ,\n",
       "       -15.1413355], dtype=float32)"
      ]
     },
     "execution_count": 9,
     "metadata": {},
     "output_type": "execute_result"
    }
   ],
   "source": [
    "# fitted_[key].eval_jax(best_parm).shape\n",
    "fitted_[key].num_segments = 201\n",
    "fitted_[key].eval_jax(best_parm)"
   ]
  },
  {
   "cell_type": "code",
   "execution_count": 262,
   "id": "f962bc9a-9a73-4829-8a6e-23411da64c91",
   "metadata": {},
   "outputs": [],
   "source": [
    "# distax = pw.Brick(figsize=FIGSIZE)\n",
    "# _ = sns.kdeplot(data=df_test, x=\"target\", color=\"blue\", ax=distax, label=\"target\")\n",
    "# _ = sns.kdeplot(data=df_test, x=\"vals\", color=\"red\", ax=distax, label=\"fit\")\n",
    "# # distax.plot([0,0], [-100,0], c=\"purple\")"
   ]
  },
  {
   "cell_type": "code",
   "execution_count": 273,
   "id": "38d4b31f-1d0b-4409-8a74-8d0232141bf2",
   "metadata": {},
   "outputs": [],
   "source": [
    "# _.__dict__"
   ]
  },
  {
   "cell_type": "code",
   "execution_count": 21,
   "id": "ee1b1d4d-66ae-45b5-a3e6-8296e7d9243b",
   "metadata": {},
   "outputs": [
    {
     "data": {
      "text/html": [
       "<div>\n",
       "<style scoped>\n",
       "    .dataframe tbody tr th:only-of-type {\n",
       "        vertical-align: middle;\n",
       "    }\n",
       "\n",
       "    .dataframe tbody tr th {\n",
       "        vertical-align: top;\n",
       "    }\n",
       "\n",
       "    .dataframe thead th {\n",
       "        text-align: right;\n",
       "    }\n",
       "</style>\n",
       "<table border=\"1\" class=\"dataframe\">\n",
       "  <thead>\n",
       "    <tr style=\"text-align: right;\">\n",
       "      <th></th>\n",
       "      <th>target</th>\n",
       "      <th>residuals</th>\n",
       "      <th>vals</th>\n",
       "    </tr>\n",
       "  </thead>\n",
       "  <tbody>\n",
       "    <tr>\n",
       "      <th>100_1018_DCM_120_967</th>\n",
       "      <td>-7.830045</td>\n",
       "      <td>0.849054</td>\n",
       "      <td>-8.679099</td>\n",
       "    </tr>\n",
       "    <tr>\n",
       "      <th>100_1019_DCM_120_565</th>\n",
       "      <td>-15.434519</td>\n",
       "      <td>1.982016</td>\n",
       "      <td>-17.416534</td>\n",
       "    </tr>\n",
       "    <tr>\n",
       "      <th>100_1024_DCM_121_932</th>\n",
       "      <td>-7.708785</td>\n",
       "      <td>1.088456</td>\n",
       "      <td>-8.797241</td>\n",
       "    </tr>\n",
       "    <tr>\n",
       "      <th>100_1053_DCM_123_948</th>\n",
       "      <td>-11.485918</td>\n",
       "      <td>-2.310267</td>\n",
       "      <td>-9.175651</td>\n",
       "    </tr>\n",
       "    <tr>\n",
       "      <th>100_1100_DCM_129_15</th>\n",
       "      <td>-11.920833</td>\n",
       "      <td>1.856267</td>\n",
       "      <td>-13.777100</td>\n",
       "    </tr>\n",
       "    <tr>\n",
       "      <th>...</th>\n",
       "      <td>...</td>\n",
       "      <td>...</td>\n",
       "      <td>...</td>\n",
       "    </tr>\n",
       "    <tr>\n",
       "      <th>100_979_DCM_115_117</th>\n",
       "      <td>-16.107422</td>\n",
       "      <td>-5.818358</td>\n",
       "      <td>-10.289063</td>\n",
       "    </tr>\n",
       "    <tr>\n",
       "      <th>100_983_DCM_116_25</th>\n",
       "      <td>-14.879883</td>\n",
       "      <td>-0.614049</td>\n",
       "      <td>-14.265834</td>\n",
       "    </tr>\n",
       "    <tr>\n",
       "      <th>100_986_DCM_116_989</th>\n",
       "      <td>-14.292064</td>\n",
       "      <td>1.234733</td>\n",
       "      <td>-15.526796</td>\n",
       "    </tr>\n",
       "    <tr>\n",
       "      <th>100_98_DCM_12_534</th>\n",
       "      <td>-14.645715</td>\n",
       "      <td>-1.673348</td>\n",
       "      <td>-12.972366</td>\n",
       "    </tr>\n",
       "    <tr>\n",
       "      <th>100_992_DCM_117_761</th>\n",
       "      <td>-13.083318</td>\n",
       "      <td>2.058018</td>\n",
       "      <td>-15.141335</td>\n",
       "    </tr>\n",
       "  </tbody>\n",
       "</table>\n",
       "<p>201 rows × 3 columns</p>\n",
       "</div>"
      ],
      "text/plain": [
       "                         target  residuals       vals\n",
       "100_1018_DCM_120_967  -7.830045   0.849054  -8.679099\n",
       "100_1019_DCM_120_565 -15.434519   1.982016 -17.416534\n",
       "100_1024_DCM_121_932  -7.708785   1.088456  -8.797241\n",
       "100_1053_DCM_123_948 -11.485918  -2.310267  -9.175651\n",
       "100_1100_DCM_129_15  -11.920833   1.856267 -13.777100\n",
       "...                         ...        ...        ...\n",
       "100_979_DCM_115_117  -16.107422  -5.818358 -10.289063\n",
       "100_983_DCM_116_25   -14.879883  -0.614049 -14.265834\n",
       "100_986_DCM_116_989  -14.292064   1.234733 -15.526796\n",
       "100_98_DCM_12_534    -14.645715  -1.673348 -12.972366\n",
       "100_992_DCM_117_761  -13.083318   2.058018 -15.141335\n",
       "\n",
       "[201 rows x 3 columns]"
      ]
     },
     "execution_count": 21,
     "metadata": {},
     "output_type": "execute_result"
    }
   ],
   "source": [
    "df_test"
   ]
  },
  {
   "cell_type": "code",
   "execution_count": 26,
   "id": "32873bd1-783f-49f3-a1c2-198488546cb9",
   "metadata": {},
   "outputs": [
    {
     "ename": "RuntimeError",
     "evalue": "latex was not able to process the following string:\nb'lp'\n\nHere is the full command invocation and its output:\n\nlatex -interaction=nonstopmode --halt-on-error ../7f1cac901561858373fb5fafcf028f3a.tex\n\nThis is pdfTeX, Version 3.141592653-2.6-1.40.25 (TeX Live 2023) (preloaded format=latex)\n restricted \\write18 enabled.\n\nkpathsea: Running mktexfmt latex.fmt\nCan't locate mktexlsr.pl in @INC (@INC contains: /cluster/home/boittier/miniforge3/envs/pycharmm/share/tlpkg /cluster/home/boittier/miniforge3/envs/pycharmm/share/texmf-dist/scripts/texlive /usr/local/lib64/perl5/5.32 /usr/local/share/perl5/5.32 /usr/lib64/perl5/vendor_perl /usr/share/perl5/vendor_perl /usr/lib64/perl5 /usr/share/perl5) at /cluster/home/boittier/miniforge3/envs/pycharmm/bin/mktexfmt line 23.\nBEGIN failed--compilation aborted at /cluster/home/boittier/miniforge3/envs/pycharmm/bin/mktexfmt line 25.\nI can't find the format file `latex.fmt'!\n\n\n",
     "output_type": "error",
     "traceback": [
      "\u001b[0;31m---------------------------------------------------------------------------\u001b[0m",
      "\u001b[0;31mRuntimeError\u001b[0m                              Traceback (most recent call last)",
      "Cell \u001b[0;32mIn[26], line 1\u001b[0m\n\u001b[0;32m----> 1\u001b[0m \u001b[43msns\u001b[49m\u001b[38;5;241;43m.\u001b[39;49m\u001b[43mjointplot\u001b[49m\u001b[43m(\u001b[49m\u001b[43mdata\u001b[49m\u001b[38;5;241;43m=\u001b[39;49m\u001b[43mdf_test\u001b[49m\u001b[43m,\u001b[49m\u001b[43m \u001b[49m\u001b[43mx\u001b[49m\u001b[38;5;241;43m=\u001b[39;49m\u001b[38;5;124;43m\"\u001b[39;49m\u001b[38;5;124;43mtarget\u001b[39;49m\u001b[38;5;124;43m\"\u001b[39;49m\u001b[43m,\u001b[49m\u001b[43m \u001b[49m\u001b[43my\u001b[49m\u001b[38;5;241;43m=\u001b[39;49m\u001b[38;5;124;43m\"\u001b[39;49m\u001b[38;5;124;43mvals\u001b[39;49m\u001b[38;5;124;43m\"\u001b[39;49m\u001b[43m,\u001b[49m\u001b[43m \u001b[49m\u001b[43mkind\u001b[49m\u001b[38;5;241;43m=\u001b[39;49m\u001b[38;5;124;43m\"\u001b[39;49m\u001b[38;5;124;43mreg\u001b[39;49m\u001b[38;5;124;43m\"\u001b[39;49m\u001b[43m,\u001b[49m\u001b[43m \u001b[49m\u001b[43mmarker\u001b[49m\u001b[38;5;241;43m=\u001b[39;49m\u001b[38;5;124;43m\"\u001b[39;49m\u001b[38;5;124;43mo\u001b[39;49m\u001b[38;5;124;43m\"\u001b[39;49m\u001b[43m)\u001b[49m\n",
      "File \u001b[0;32m~/miniforge3/envs/pycharmm/lib/python3.8/site-packages/seaborn/axisgrid.py:2241\u001b[0m, in \u001b[0;36mjointplot\u001b[0;34m(data, x, y, hue, kind, height, ratio, space, dropna, xlim, ylim, color, palette, hue_order, hue_norm, marginal_ticks, joint_kws, marginal_kws, **kwargs)\u001b[0m\n\u001b[1;32m   2238\u001b[0m     dropna \u001b[38;5;241m=\u001b[39m \u001b[38;5;28;01mTrue\u001b[39;00m\n\u001b[1;32m   2240\u001b[0m \u001b[38;5;66;03m# Initialize the JointGrid object\u001b[39;00m\n\u001b[0;32m-> 2241\u001b[0m grid \u001b[38;5;241m=\u001b[39m \u001b[43mJointGrid\u001b[49m\u001b[43m(\u001b[49m\n\u001b[1;32m   2242\u001b[0m \u001b[43m    \u001b[49m\u001b[43mdata\u001b[49m\u001b[38;5;241;43m=\u001b[39;49m\u001b[43mdata\u001b[49m\u001b[43m,\u001b[49m\u001b[43m \u001b[49m\u001b[43mx\u001b[49m\u001b[38;5;241;43m=\u001b[39;49m\u001b[43mx\u001b[49m\u001b[43m,\u001b[49m\u001b[43m \u001b[49m\u001b[43my\u001b[49m\u001b[38;5;241;43m=\u001b[39;49m\u001b[43my\u001b[49m\u001b[43m,\u001b[49m\u001b[43m \u001b[49m\u001b[43mhue\u001b[49m\u001b[38;5;241;43m=\u001b[39;49m\u001b[43mhue\u001b[49m\u001b[43m,\u001b[49m\n\u001b[1;32m   2243\u001b[0m \u001b[43m    \u001b[49m\u001b[43mpalette\u001b[49m\u001b[38;5;241;43m=\u001b[39;49m\u001b[43mpalette\u001b[49m\u001b[43m,\u001b[49m\u001b[43m \u001b[49m\u001b[43mhue_order\u001b[49m\u001b[38;5;241;43m=\u001b[39;49m\u001b[43mhue_order\u001b[49m\u001b[43m,\u001b[49m\u001b[43m \u001b[49m\u001b[43mhue_norm\u001b[49m\u001b[38;5;241;43m=\u001b[39;49m\u001b[43mhue_norm\u001b[49m\u001b[43m,\u001b[49m\n\u001b[1;32m   2244\u001b[0m \u001b[43m    \u001b[49m\u001b[43mdropna\u001b[49m\u001b[38;5;241;43m=\u001b[39;49m\u001b[43mdropna\u001b[49m\u001b[43m,\u001b[49m\u001b[43m \u001b[49m\u001b[43mheight\u001b[49m\u001b[38;5;241;43m=\u001b[39;49m\u001b[43mheight\u001b[49m\u001b[43m,\u001b[49m\u001b[43m \u001b[49m\u001b[43mratio\u001b[49m\u001b[38;5;241;43m=\u001b[39;49m\u001b[43mratio\u001b[49m\u001b[43m,\u001b[49m\u001b[43m \u001b[49m\u001b[43mspace\u001b[49m\u001b[38;5;241;43m=\u001b[39;49m\u001b[43mspace\u001b[49m\u001b[43m,\u001b[49m\n\u001b[1;32m   2245\u001b[0m \u001b[43m    \u001b[49m\u001b[43mxlim\u001b[49m\u001b[38;5;241;43m=\u001b[39;49m\u001b[43mxlim\u001b[49m\u001b[43m,\u001b[49m\u001b[43m \u001b[49m\u001b[43mylim\u001b[49m\u001b[38;5;241;43m=\u001b[39;49m\u001b[43mylim\u001b[49m\u001b[43m,\u001b[49m\u001b[43m \u001b[49m\u001b[43mmarginal_ticks\u001b[49m\u001b[38;5;241;43m=\u001b[39;49m\u001b[43mmarginal_ticks\u001b[49m\u001b[43m,\u001b[49m\n\u001b[1;32m   2246\u001b[0m \u001b[43m\u001b[49m\u001b[43m)\u001b[49m\n\u001b[1;32m   2248\u001b[0m \u001b[38;5;28;01mif\u001b[39;00m grid\u001b[38;5;241m.\u001b[39mhue \u001b[38;5;129;01mis\u001b[39;00m \u001b[38;5;129;01mnot\u001b[39;00m \u001b[38;5;28;01mNone\u001b[39;00m:\n\u001b[1;32m   2249\u001b[0m     marginal_kws\u001b[38;5;241m.\u001b[39msetdefault(\u001b[38;5;124m\"\u001b[39m\u001b[38;5;124mlegend\u001b[39m\u001b[38;5;124m\"\u001b[39m, \u001b[38;5;28;01mFalse\u001b[39;00m)\n",
      "File \u001b[0;32m~/miniforge3/envs/pycharmm/lib/python3.8/site-packages/patchworklib/modified_grid.py:460\u001b[0m, in \u001b[0;36m__init_for_jointgrid__\u001b[0;34m(self, x, y, data, height, ratio, space, dropna, xlim, ylim, size, marginal_ticks, hue, palette, hue_order, hue_norm)\u001b[0m\n\u001b[1;32m    458\u001b[0m     \u001b[38;5;28;01mfor\u001b[39;00m axis \u001b[38;5;129;01min\u001b[39;00m [axes\u001b[38;5;241m.\u001b[39mxaxis, axes\u001b[38;5;241m.\u001b[39myaxis]:\n\u001b[1;32m    459\u001b[0m         axis\u001b[38;5;241m.\u001b[39mlabel\u001b[38;5;241m.\u001b[39mset_visible(\u001b[38;5;28;01mFalse\u001b[39;00m)\n\u001b[0;32m--> 460\u001b[0m \u001b[43mf\u001b[49m\u001b[38;5;241;43m.\u001b[39;49m\u001b[43mtight_layout\u001b[49m\u001b[43m(\u001b[49m\u001b[43m)\u001b[49m\n",
      "File \u001b[0;32m~/miniforge3/envs/pycharmm/lib/python3.8/site-packages/matplotlib/figure.py:3450\u001b[0m, in \u001b[0;36mFigure.tight_layout\u001b[0;34m(self, pad, h_pad, w_pad, rect)\u001b[0m\n\u001b[1;32m   3448\u001b[0m \u001b[38;5;28;01mtry\u001b[39;00m:\n\u001b[1;32m   3449\u001b[0m     \u001b[38;5;28mself\u001b[39m\u001b[38;5;241m.\u001b[39mset_layout_engine(engine)\n\u001b[0;32m-> 3450\u001b[0m     \u001b[43mengine\u001b[49m\u001b[38;5;241;43m.\u001b[39;49m\u001b[43mexecute\u001b[49m\u001b[43m(\u001b[49m\u001b[38;5;28;43mself\u001b[39;49m\u001b[43m)\u001b[49m\n\u001b[1;32m   3451\u001b[0m \u001b[38;5;28;01mfinally\u001b[39;00m:\n\u001b[1;32m   3452\u001b[0m     \u001b[38;5;28mself\u001b[39m\u001b[38;5;241m.\u001b[39mset_layout_engine(\u001b[38;5;28;01mNone\u001b[39;00m)\n",
      "File \u001b[0;32m~/miniforge3/envs/pycharmm/lib/python3.8/site-packages/matplotlib/layout_engine.py:175\u001b[0m, in \u001b[0;36mTightLayoutEngine.execute\u001b[0;34m(self, fig)\u001b[0m\n\u001b[1;32m    173\u001b[0m renderer \u001b[38;5;241m=\u001b[39m fig\u001b[38;5;241m.\u001b[39m_get_renderer()\n\u001b[1;32m    174\u001b[0m \u001b[38;5;28;01mwith\u001b[39;00m \u001b[38;5;28mgetattr\u001b[39m(renderer, \u001b[38;5;124m\"\u001b[39m\u001b[38;5;124m_draw_disabled\u001b[39m\u001b[38;5;124m\"\u001b[39m, nullcontext)():\n\u001b[0;32m--> 175\u001b[0m     kwargs \u001b[38;5;241m=\u001b[39m \u001b[43mget_tight_layout_figure\u001b[49m\u001b[43m(\u001b[49m\n\u001b[1;32m    176\u001b[0m \u001b[43m        \u001b[49m\u001b[43mfig\u001b[49m\u001b[43m,\u001b[49m\u001b[43m \u001b[49m\u001b[43mfig\u001b[49m\u001b[38;5;241;43m.\u001b[39;49m\u001b[43maxes\u001b[49m\u001b[43m,\u001b[49m\u001b[43m \u001b[49m\u001b[43mget_subplotspec_list\u001b[49m\u001b[43m(\u001b[49m\u001b[43mfig\u001b[49m\u001b[38;5;241;43m.\u001b[39;49m\u001b[43maxes\u001b[49m\u001b[43m)\u001b[49m\u001b[43m,\u001b[49m\u001b[43m \u001b[49m\u001b[43mrenderer\u001b[49m\u001b[43m,\u001b[49m\n\u001b[1;32m    177\u001b[0m \u001b[43m        \u001b[49m\u001b[43mpad\u001b[49m\u001b[38;5;241;43m=\u001b[39;49m\u001b[43minfo\u001b[49m\u001b[43m[\u001b[49m\u001b[38;5;124;43m'\u001b[39;49m\u001b[38;5;124;43mpad\u001b[39;49m\u001b[38;5;124;43m'\u001b[39;49m\u001b[43m]\u001b[49m\u001b[43m,\u001b[49m\u001b[43m \u001b[49m\u001b[43mh_pad\u001b[49m\u001b[38;5;241;43m=\u001b[39;49m\u001b[43minfo\u001b[49m\u001b[43m[\u001b[49m\u001b[38;5;124;43m'\u001b[39;49m\u001b[38;5;124;43mh_pad\u001b[39;49m\u001b[38;5;124;43m'\u001b[39;49m\u001b[43m]\u001b[49m\u001b[43m,\u001b[49m\u001b[43m \u001b[49m\u001b[43mw_pad\u001b[49m\u001b[38;5;241;43m=\u001b[39;49m\u001b[43minfo\u001b[49m\u001b[43m[\u001b[49m\u001b[38;5;124;43m'\u001b[39;49m\u001b[38;5;124;43mw_pad\u001b[39;49m\u001b[38;5;124;43m'\u001b[39;49m\u001b[43m]\u001b[49m\u001b[43m,\u001b[49m\n\u001b[1;32m    178\u001b[0m \u001b[43m        \u001b[49m\u001b[43mrect\u001b[49m\u001b[38;5;241;43m=\u001b[39;49m\u001b[43minfo\u001b[49m\u001b[43m[\u001b[49m\u001b[38;5;124;43m'\u001b[39;49m\u001b[38;5;124;43mrect\u001b[39;49m\u001b[38;5;124;43m'\u001b[39;49m\u001b[43m]\u001b[49m\u001b[43m)\u001b[49m\n\u001b[1;32m    179\u001b[0m \u001b[38;5;28;01mif\u001b[39;00m kwargs:\n\u001b[1;32m    180\u001b[0m     fig\u001b[38;5;241m.\u001b[39msubplots_adjust(\u001b[38;5;241m*\u001b[39m\u001b[38;5;241m*\u001b[39mkwargs)\n",
      "File \u001b[0;32m~/miniforge3/envs/pycharmm/lib/python3.8/site-packages/matplotlib/_tight_layout.py:308\u001b[0m, in \u001b[0;36mget_tight_layout_figure\u001b[0;34m(fig, axes_list, subplotspec_list, renderer, pad, h_pad, w_pad, rect)\u001b[0m\n\u001b[1;32m    303\u001b[0m         \u001b[38;5;28;01mreturn\u001b[39;00m {}\n\u001b[1;32m    304\u001b[0m     span_pairs\u001b[38;5;241m.\u001b[39mappend((\n\u001b[1;32m    305\u001b[0m         \u001b[38;5;28mslice\u001b[39m(ss\u001b[38;5;241m.\u001b[39mrowspan\u001b[38;5;241m.\u001b[39mstart \u001b[38;5;241m*\u001b[39m div_row, ss\u001b[38;5;241m.\u001b[39mrowspan\u001b[38;5;241m.\u001b[39mstop \u001b[38;5;241m*\u001b[39m div_row),\n\u001b[1;32m    306\u001b[0m         \u001b[38;5;28mslice\u001b[39m(ss\u001b[38;5;241m.\u001b[39mcolspan\u001b[38;5;241m.\u001b[39mstart \u001b[38;5;241m*\u001b[39m div_col, ss\u001b[38;5;241m.\u001b[39mcolspan\u001b[38;5;241m.\u001b[39mstop \u001b[38;5;241m*\u001b[39m div_col)))\n\u001b[0;32m--> 308\u001b[0m kwargs \u001b[38;5;241m=\u001b[39m \u001b[43m_auto_adjust_subplotpars\u001b[49m\u001b[43m(\u001b[49m\u001b[43mfig\u001b[49m\u001b[43m,\u001b[49m\u001b[43m \u001b[49m\u001b[43mrenderer\u001b[49m\u001b[43m,\u001b[49m\n\u001b[1;32m    309\u001b[0m \u001b[43m                                  \u001b[49m\u001b[43mshape\u001b[49m\u001b[38;5;241;43m=\u001b[39;49m\u001b[43m(\u001b[49m\u001b[43mmax_nrows\u001b[49m\u001b[43m,\u001b[49m\u001b[43m \u001b[49m\u001b[43mmax_ncols\u001b[49m\u001b[43m)\u001b[49m\u001b[43m,\u001b[49m\n\u001b[1;32m    310\u001b[0m \u001b[43m                                  \u001b[49m\u001b[43mspan_pairs\u001b[49m\u001b[38;5;241;43m=\u001b[39;49m\u001b[43mspan_pairs\u001b[49m\u001b[43m,\u001b[49m\n\u001b[1;32m    311\u001b[0m \u001b[43m                                  \u001b[49m\u001b[43msubplot_list\u001b[49m\u001b[38;5;241;43m=\u001b[39;49m\u001b[43msubplot_list\u001b[49m\u001b[43m,\u001b[49m\n\u001b[1;32m    312\u001b[0m \u001b[43m                                  \u001b[49m\u001b[43max_bbox_list\u001b[49m\u001b[38;5;241;43m=\u001b[39;49m\u001b[43max_bbox_list\u001b[49m\u001b[43m,\u001b[49m\n\u001b[1;32m    313\u001b[0m \u001b[43m                                  \u001b[49m\u001b[43mpad\u001b[49m\u001b[38;5;241;43m=\u001b[39;49m\u001b[43mpad\u001b[49m\u001b[43m,\u001b[49m\u001b[43m \u001b[49m\u001b[43mh_pad\u001b[49m\u001b[38;5;241;43m=\u001b[39;49m\u001b[43mh_pad\u001b[49m\u001b[43m,\u001b[49m\u001b[43m \u001b[49m\u001b[43mw_pad\u001b[49m\u001b[38;5;241;43m=\u001b[39;49m\u001b[43mw_pad\u001b[49m\u001b[43m)\u001b[49m\n\u001b[1;32m    315\u001b[0m \u001b[38;5;66;03m# kwargs can be none if tight_layout fails...\u001b[39;00m\n\u001b[1;32m    316\u001b[0m \u001b[38;5;28;01mif\u001b[39;00m rect \u001b[38;5;129;01mis\u001b[39;00m \u001b[38;5;129;01mnot\u001b[39;00m \u001b[38;5;28;01mNone\u001b[39;00m \u001b[38;5;129;01mand\u001b[39;00m kwargs \u001b[38;5;129;01mis\u001b[39;00m \u001b[38;5;129;01mnot\u001b[39;00m \u001b[38;5;28;01mNone\u001b[39;00m:\n\u001b[1;32m    317\u001b[0m     \u001b[38;5;66;03m# if rect is given, the whole subplots area (including\u001b[39;00m\n\u001b[1;32m    318\u001b[0m     \u001b[38;5;66;03m# labels) will fit into the rect instead of the\u001b[39;00m\n\u001b[0;32m   (...)\u001b[0m\n\u001b[1;32m    322\u001b[0m     \u001b[38;5;66;03m# auto_adjust_subplotpars twice, where the second run\u001b[39;00m\n\u001b[1;32m    323\u001b[0m     \u001b[38;5;66;03m# with adjusted rect parameters.\u001b[39;00m\n",
      "File \u001b[0;32m~/miniforge3/envs/pycharmm/lib/python3.8/site-packages/matplotlib/_tight_layout.py:82\u001b[0m, in \u001b[0;36m_auto_adjust_subplotpars\u001b[0;34m(fig, renderer, shape, span_pairs, subplot_list, ax_bbox_list, pad, h_pad, w_pad, rect)\u001b[0m\n\u001b[1;32m     80\u001b[0m \u001b[38;5;28;01mfor\u001b[39;00m ax \u001b[38;5;129;01min\u001b[39;00m subplots:\n\u001b[1;32m     81\u001b[0m     \u001b[38;5;28;01mif\u001b[39;00m ax\u001b[38;5;241m.\u001b[39mget_visible():\n\u001b[0;32m---> 82\u001b[0m         bb \u001b[38;5;241m+\u001b[39m\u001b[38;5;241m=\u001b[39m [\u001b[43mmartist\u001b[49m\u001b[38;5;241;43m.\u001b[39;49m\u001b[43m_get_tightbbox_for_layout_only\u001b[49m\u001b[43m(\u001b[49m\u001b[43max\u001b[49m\u001b[43m,\u001b[49m\u001b[43m \u001b[49m\u001b[43mrenderer\u001b[49m\u001b[43m)\u001b[49m]\n\u001b[1;32m     84\u001b[0m tight_bbox_raw \u001b[38;5;241m=\u001b[39m Bbox\u001b[38;5;241m.\u001b[39munion(bb)\n\u001b[1;32m     85\u001b[0m tight_bbox \u001b[38;5;241m=\u001b[39m fig\u001b[38;5;241m.\u001b[39mtransFigure\u001b[38;5;241m.\u001b[39minverted()\u001b[38;5;241m.\u001b[39mtransform_bbox(tight_bbox_raw)\n",
      "File \u001b[0;32m~/miniforge3/envs/pycharmm/lib/python3.8/site-packages/matplotlib/artist.py:1378\u001b[0m, in \u001b[0;36m_get_tightbbox_for_layout_only\u001b[0;34m(obj, *args, **kwargs)\u001b[0m\n\u001b[1;32m   1372\u001b[0m \u001b[38;5;250m\u001b[39m\u001b[38;5;124;03m\"\"\"\u001b[39;00m\n\u001b[1;32m   1373\u001b[0m \u001b[38;5;124;03mMatplotlib's `.Axes.get_tightbbox` and `.Axis.get_tightbbox` support a\u001b[39;00m\n\u001b[1;32m   1374\u001b[0m \u001b[38;5;124;03m*for_layout_only* kwarg; this helper tries to use the kwarg but skips it\u001b[39;00m\n\u001b[1;32m   1375\u001b[0m \u001b[38;5;124;03mwhen encountering third-party subclasses that do not support it.\u001b[39;00m\n\u001b[1;32m   1376\u001b[0m \u001b[38;5;124;03m\"\"\"\u001b[39;00m\n\u001b[1;32m   1377\u001b[0m \u001b[38;5;28;01mtry\u001b[39;00m:\n\u001b[0;32m-> 1378\u001b[0m     \u001b[38;5;28;01mreturn\u001b[39;00m \u001b[43mobj\u001b[49m\u001b[38;5;241;43m.\u001b[39;49m\u001b[43mget_tightbbox\u001b[49m\u001b[43m(\u001b[49m\u001b[38;5;241;43m*\u001b[39;49m\u001b[43margs\u001b[49m\u001b[43m,\u001b[49m\u001b[43m \u001b[49m\u001b[38;5;241;43m*\u001b[39;49m\u001b[38;5;241;43m*\u001b[39;49m\u001b[43m{\u001b[49m\u001b[38;5;241;43m*\u001b[39;49m\u001b[38;5;241;43m*\u001b[39;49m\u001b[43mkwargs\u001b[49m\u001b[43m,\u001b[49m\u001b[43m \u001b[49m\u001b[38;5;124;43m\"\u001b[39;49m\u001b[38;5;124;43mfor_layout_only\u001b[39;49m\u001b[38;5;124;43m\"\u001b[39;49m\u001b[43m:\u001b[49m\u001b[43m \u001b[49m\u001b[38;5;28;43;01mTrue\u001b[39;49;00m\u001b[43m}\u001b[49m\u001b[43m)\u001b[49m\n\u001b[1;32m   1379\u001b[0m \u001b[38;5;28;01mexcept\u001b[39;00m \u001b[38;5;167;01mTypeError\u001b[39;00m:\n\u001b[1;32m   1380\u001b[0m     \u001b[38;5;28;01mreturn\u001b[39;00m obj\u001b[38;5;241m.\u001b[39mget_tightbbox(\u001b[38;5;241m*\u001b[39margs, \u001b[38;5;241m*\u001b[39m\u001b[38;5;241m*\u001b[39mkwargs)\n",
      "File \u001b[0;32m~/miniforge3/envs/pycharmm/lib/python3.8/site-packages/matplotlib/axes/_base.py:4421\u001b[0m, in \u001b[0;36m_AxesBase.get_tightbbox\u001b[0;34m(self, renderer, call_axes_locator, bbox_extra_artists, for_layout_only)\u001b[0m\n\u001b[1;32m   4419\u001b[0m \u001b[38;5;28;01mfor\u001b[39;00m axis \u001b[38;5;129;01min\u001b[39;00m \u001b[38;5;28mself\u001b[39m\u001b[38;5;241m.\u001b[39m_axis_map\u001b[38;5;241m.\u001b[39mvalues():\n\u001b[1;32m   4420\u001b[0m     \u001b[38;5;28;01mif\u001b[39;00m \u001b[38;5;28mself\u001b[39m\u001b[38;5;241m.\u001b[39maxison \u001b[38;5;129;01mand\u001b[39;00m axis\u001b[38;5;241m.\u001b[39mget_visible():\n\u001b[0;32m-> 4421\u001b[0m         ba \u001b[38;5;241m=\u001b[39m \u001b[43mmartist\u001b[49m\u001b[38;5;241;43m.\u001b[39;49m\u001b[43m_get_tightbbox_for_layout_only\u001b[49m\u001b[43m(\u001b[49m\u001b[43maxis\u001b[49m\u001b[43m,\u001b[49m\u001b[43m \u001b[49m\u001b[43mrenderer\u001b[49m\u001b[43m)\u001b[49m\n\u001b[1;32m   4422\u001b[0m         \u001b[38;5;28;01mif\u001b[39;00m ba:\n\u001b[1;32m   4423\u001b[0m             bb\u001b[38;5;241m.\u001b[39mappend(ba)\n",
      "File \u001b[0;32m~/miniforge3/envs/pycharmm/lib/python3.8/site-packages/matplotlib/artist.py:1378\u001b[0m, in \u001b[0;36m_get_tightbbox_for_layout_only\u001b[0;34m(obj, *args, **kwargs)\u001b[0m\n\u001b[1;32m   1372\u001b[0m \u001b[38;5;250m\u001b[39m\u001b[38;5;124;03m\"\"\"\u001b[39;00m\n\u001b[1;32m   1373\u001b[0m \u001b[38;5;124;03mMatplotlib's `.Axes.get_tightbbox` and `.Axis.get_tightbbox` support a\u001b[39;00m\n\u001b[1;32m   1374\u001b[0m \u001b[38;5;124;03m*for_layout_only* kwarg; this helper tries to use the kwarg but skips it\u001b[39;00m\n\u001b[1;32m   1375\u001b[0m \u001b[38;5;124;03mwhen encountering third-party subclasses that do not support it.\u001b[39;00m\n\u001b[1;32m   1376\u001b[0m \u001b[38;5;124;03m\"\"\"\u001b[39;00m\n\u001b[1;32m   1377\u001b[0m \u001b[38;5;28;01mtry\u001b[39;00m:\n\u001b[0;32m-> 1378\u001b[0m     \u001b[38;5;28;01mreturn\u001b[39;00m \u001b[43mobj\u001b[49m\u001b[38;5;241;43m.\u001b[39;49m\u001b[43mget_tightbbox\u001b[49m\u001b[43m(\u001b[49m\u001b[38;5;241;43m*\u001b[39;49m\u001b[43margs\u001b[49m\u001b[43m,\u001b[49m\u001b[43m \u001b[49m\u001b[38;5;241;43m*\u001b[39;49m\u001b[38;5;241;43m*\u001b[39;49m\u001b[43m{\u001b[49m\u001b[38;5;241;43m*\u001b[39;49m\u001b[38;5;241;43m*\u001b[39;49m\u001b[43mkwargs\u001b[49m\u001b[43m,\u001b[49m\u001b[43m \u001b[49m\u001b[38;5;124;43m\"\u001b[39;49m\u001b[38;5;124;43mfor_layout_only\u001b[39;49m\u001b[38;5;124;43m\"\u001b[39;49m\u001b[43m:\u001b[49m\u001b[43m \u001b[49m\u001b[38;5;28;43;01mTrue\u001b[39;49;00m\u001b[43m}\u001b[49m\u001b[43m)\u001b[49m\n\u001b[1;32m   1379\u001b[0m \u001b[38;5;28;01mexcept\u001b[39;00m \u001b[38;5;167;01mTypeError\u001b[39;00m:\n\u001b[1;32m   1380\u001b[0m     \u001b[38;5;28;01mreturn\u001b[39;00m obj\u001b[38;5;241m.\u001b[39mget_tightbbox(\u001b[38;5;241m*\u001b[39margs, \u001b[38;5;241m*\u001b[39m\u001b[38;5;241m*\u001b[39mkwargs)\n",
      "File \u001b[0;32m~/miniforge3/envs/pycharmm/lib/python3.8/site-packages/matplotlib/axis.py:1253\u001b[0m, in \u001b[0;36mAxis.get_tightbbox\u001b[0;34m(self, renderer, for_layout_only)\u001b[0m\n\u001b[1;32m   1250\u001b[0m     renderer \u001b[38;5;241m=\u001b[39m \u001b[38;5;28mself\u001b[39m\u001b[38;5;241m.\u001b[39mfigure\u001b[38;5;241m.\u001b[39m_get_renderer()\n\u001b[1;32m   1251\u001b[0m ticks_to_draw \u001b[38;5;241m=\u001b[39m \u001b[38;5;28mself\u001b[39m\u001b[38;5;241m.\u001b[39m_update_ticks()\n\u001b[0;32m-> 1253\u001b[0m \u001b[38;5;28;43mself\u001b[39;49m\u001b[38;5;241;43m.\u001b[39;49m\u001b[43m_update_label_position\u001b[49m\u001b[43m(\u001b[49m\u001b[43mrenderer\u001b[49m\u001b[43m)\u001b[49m\n\u001b[1;32m   1255\u001b[0m \u001b[38;5;66;03m# go back to just this axis's tick labels\u001b[39;00m\n\u001b[1;32m   1256\u001b[0m tlb1, tlb2 \u001b[38;5;241m=\u001b[39m \u001b[38;5;28mself\u001b[39m\u001b[38;5;241m.\u001b[39m_get_ticklabel_bboxes(ticks_to_draw, renderer)\n",
      "File \u001b[0;32m~/miniforge3/envs/pycharmm/lib/python3.8/site-packages/matplotlib/axis.py:2252\u001b[0m, in \u001b[0;36mXAxis._update_label_position\u001b[0;34m(self, renderer)\u001b[0m\n\u001b[1;32m   2248\u001b[0m     \u001b[38;5;28;01mreturn\u001b[39;00m\n\u001b[1;32m   2250\u001b[0m \u001b[38;5;66;03m# get bounding boxes for this axis and any siblings\u001b[39;00m\n\u001b[1;32m   2251\u001b[0m \u001b[38;5;66;03m# that have been set by `fig.align_xlabels()`\u001b[39;00m\n\u001b[0;32m-> 2252\u001b[0m bboxes, bboxes2 \u001b[38;5;241m=\u001b[39m \u001b[38;5;28;43mself\u001b[39;49m\u001b[38;5;241;43m.\u001b[39;49m\u001b[43m_get_tick_boxes_siblings\u001b[49m\u001b[43m(\u001b[49m\u001b[43mrenderer\u001b[49m\u001b[38;5;241;43m=\u001b[39;49m\u001b[43mrenderer\u001b[49m\u001b[43m)\u001b[49m\n\u001b[1;32m   2254\u001b[0m x, y \u001b[38;5;241m=\u001b[39m \u001b[38;5;28mself\u001b[39m\u001b[38;5;241m.\u001b[39mlabel\u001b[38;5;241m.\u001b[39mget_position()\n\u001b[1;32m   2255\u001b[0m \u001b[38;5;28;01mif\u001b[39;00m \u001b[38;5;28mself\u001b[39m\u001b[38;5;241m.\u001b[39mlabel_position \u001b[38;5;241m==\u001b[39m \u001b[38;5;124m'\u001b[39m\u001b[38;5;124mbottom\u001b[39m\u001b[38;5;124m'\u001b[39m:\n",
      "File \u001b[0;32m~/miniforge3/envs/pycharmm/lib/python3.8/site-packages/matplotlib/axis.py:2056\u001b[0m, in \u001b[0;36mAxis._get_tick_boxes_siblings\u001b[0;34m(self, renderer)\u001b[0m\n\u001b[1;32m   2054\u001b[0m axis \u001b[38;5;241m=\u001b[39m \u001b[38;5;28mgetattr\u001b[39m(ax, \u001b[38;5;124mf\u001b[39m\u001b[38;5;124m\"\u001b[39m\u001b[38;5;132;01m{\u001b[39;00maxis_name\u001b[38;5;132;01m}\u001b[39;00m\u001b[38;5;124maxis\u001b[39m\u001b[38;5;124m\"\u001b[39m)\n\u001b[1;32m   2055\u001b[0m ticks_to_draw \u001b[38;5;241m=\u001b[39m axis\u001b[38;5;241m.\u001b[39m_update_ticks()\n\u001b[0;32m-> 2056\u001b[0m tlb, tlb2 \u001b[38;5;241m=\u001b[39m \u001b[43maxis\u001b[49m\u001b[38;5;241;43m.\u001b[39;49m\u001b[43m_get_ticklabel_bboxes\u001b[49m\u001b[43m(\u001b[49m\u001b[43mticks_to_draw\u001b[49m\u001b[43m,\u001b[49m\u001b[43m \u001b[49m\u001b[43mrenderer\u001b[49m\u001b[43m)\u001b[49m\n\u001b[1;32m   2057\u001b[0m bboxes\u001b[38;5;241m.\u001b[39mextend(tlb)\n\u001b[1;32m   2058\u001b[0m bboxes2\u001b[38;5;241m.\u001b[39mextend(tlb2)\n",
      "File \u001b[0;32m~/miniforge3/envs/pycharmm/lib/python3.8/site-packages/matplotlib/axis.py:1232\u001b[0m, in \u001b[0;36mAxis._get_ticklabel_bboxes\u001b[0;34m(self, ticks, renderer)\u001b[0m\n\u001b[1;32m   1230\u001b[0m \u001b[38;5;28;01mif\u001b[39;00m renderer \u001b[38;5;129;01mis\u001b[39;00m \u001b[38;5;28;01mNone\u001b[39;00m:\n\u001b[1;32m   1231\u001b[0m     renderer \u001b[38;5;241m=\u001b[39m \u001b[38;5;28mself\u001b[39m\u001b[38;5;241m.\u001b[39mfigure\u001b[38;5;241m.\u001b[39m_get_renderer()\n\u001b[0;32m-> 1232\u001b[0m \u001b[38;5;28;01mreturn\u001b[39;00m ([tick\u001b[38;5;241m.\u001b[39mlabel1\u001b[38;5;241m.\u001b[39mget_window_extent(renderer)\n\u001b[1;32m   1233\u001b[0m          \u001b[38;5;28;01mfor\u001b[39;00m tick \u001b[38;5;129;01min\u001b[39;00m ticks \u001b[38;5;28;01mif\u001b[39;00m tick\u001b[38;5;241m.\u001b[39mlabel1\u001b[38;5;241m.\u001b[39mget_visible()],\n\u001b[1;32m   1234\u001b[0m         [tick\u001b[38;5;241m.\u001b[39mlabel2\u001b[38;5;241m.\u001b[39mget_window_extent(renderer)\n\u001b[1;32m   1235\u001b[0m          \u001b[38;5;28;01mfor\u001b[39;00m tick \u001b[38;5;129;01min\u001b[39;00m ticks \u001b[38;5;28;01mif\u001b[39;00m tick\u001b[38;5;241m.\u001b[39mlabel2\u001b[38;5;241m.\u001b[39mget_visible()])\n",
      "File \u001b[0;32m~/miniforge3/envs/pycharmm/lib/python3.8/site-packages/matplotlib/axis.py:1232\u001b[0m, in \u001b[0;36m<listcomp>\u001b[0;34m(.0)\u001b[0m\n\u001b[1;32m   1230\u001b[0m \u001b[38;5;28;01mif\u001b[39;00m renderer \u001b[38;5;129;01mis\u001b[39;00m \u001b[38;5;28;01mNone\u001b[39;00m:\n\u001b[1;32m   1231\u001b[0m     renderer \u001b[38;5;241m=\u001b[39m \u001b[38;5;28mself\u001b[39m\u001b[38;5;241m.\u001b[39mfigure\u001b[38;5;241m.\u001b[39m_get_renderer()\n\u001b[0;32m-> 1232\u001b[0m \u001b[38;5;28;01mreturn\u001b[39;00m ([\u001b[43mtick\u001b[49m\u001b[38;5;241;43m.\u001b[39;49m\u001b[43mlabel1\u001b[49m\u001b[38;5;241;43m.\u001b[39;49m\u001b[43mget_window_extent\u001b[49m\u001b[43m(\u001b[49m\u001b[43mrenderer\u001b[49m\u001b[43m)\u001b[49m\n\u001b[1;32m   1233\u001b[0m          \u001b[38;5;28;01mfor\u001b[39;00m tick \u001b[38;5;129;01min\u001b[39;00m ticks \u001b[38;5;28;01mif\u001b[39;00m tick\u001b[38;5;241m.\u001b[39mlabel1\u001b[38;5;241m.\u001b[39mget_visible()],\n\u001b[1;32m   1234\u001b[0m         [tick\u001b[38;5;241m.\u001b[39mlabel2\u001b[38;5;241m.\u001b[39mget_window_extent(renderer)\n\u001b[1;32m   1235\u001b[0m          \u001b[38;5;28;01mfor\u001b[39;00m tick \u001b[38;5;129;01min\u001b[39;00m ticks \u001b[38;5;28;01mif\u001b[39;00m tick\u001b[38;5;241m.\u001b[39mlabel2\u001b[38;5;241m.\u001b[39mget_visible()])\n",
      "File \u001b[0;32m~/miniforge3/envs/pycharmm/lib/python3.8/site-packages/matplotlib/text.py:915\u001b[0m, in \u001b[0;36mText.get_window_extent\u001b[0;34m(self, renderer, dpi)\u001b[0m\n\u001b[1;32m    910\u001b[0m     \u001b[38;5;28;01mraise\u001b[39;00m \u001b[38;5;167;01mRuntimeError\u001b[39;00m(\n\u001b[1;32m    911\u001b[0m         \u001b[38;5;124m\"\u001b[39m\u001b[38;5;124mCannot get window extent of text w/o renderer. You likely \u001b[39m\u001b[38;5;124m\"\u001b[39m\n\u001b[1;32m    912\u001b[0m         \u001b[38;5;124m\"\u001b[39m\u001b[38;5;124mwant to call \u001b[39m\u001b[38;5;124m'\u001b[39m\u001b[38;5;124mfigure.draw_without_rendering()\u001b[39m\u001b[38;5;124m'\u001b[39m\u001b[38;5;124m first.\u001b[39m\u001b[38;5;124m\"\u001b[39m)\n\u001b[1;32m    914\u001b[0m \u001b[38;5;28;01mwith\u001b[39;00m cbook\u001b[38;5;241m.\u001b[39m_setattr_cm(\u001b[38;5;28mself\u001b[39m\u001b[38;5;241m.\u001b[39mfigure, dpi\u001b[38;5;241m=\u001b[39mdpi):\n\u001b[0;32m--> 915\u001b[0m     bbox, info, descent \u001b[38;5;241m=\u001b[39m \u001b[38;5;28;43mself\u001b[39;49m\u001b[38;5;241;43m.\u001b[39;49m\u001b[43m_get_layout\u001b[49m\u001b[43m(\u001b[49m\u001b[38;5;28;43mself\u001b[39;49m\u001b[38;5;241;43m.\u001b[39;49m\u001b[43m_renderer\u001b[49m\u001b[43m)\u001b[49m\n\u001b[1;32m    916\u001b[0m     x, y \u001b[38;5;241m=\u001b[39m \u001b[38;5;28mself\u001b[39m\u001b[38;5;241m.\u001b[39mget_unitless_position()\n\u001b[1;32m    917\u001b[0m     x, y \u001b[38;5;241m=\u001b[39m \u001b[38;5;28mself\u001b[39m\u001b[38;5;241m.\u001b[39mget_transform()\u001b[38;5;241m.\u001b[39mtransform((x, y))\n",
      "File \u001b[0;32m~/miniforge3/envs/pycharmm/lib/python3.8/site-packages/matplotlib/text.py:313\u001b[0m, in \u001b[0;36mText._get_layout\u001b[0;34m(self, renderer)\u001b[0m\n\u001b[1;32m    310\u001b[0m ys \u001b[38;5;241m=\u001b[39m []\n\u001b[1;32m    312\u001b[0m \u001b[38;5;66;03m# Full vertical extent of font, including ascenders and descenders:\u001b[39;00m\n\u001b[0;32m--> 313\u001b[0m _, lp_h, lp_d \u001b[38;5;241m=\u001b[39m \u001b[43m_get_text_metrics_with_cache\u001b[49m\u001b[43m(\u001b[49m\n\u001b[1;32m    314\u001b[0m \u001b[43m    \u001b[49m\u001b[43mrenderer\u001b[49m\u001b[43m,\u001b[49m\u001b[43m \u001b[49m\u001b[38;5;124;43m\"\u001b[39;49m\u001b[38;5;124;43mlp\u001b[39;49m\u001b[38;5;124;43m\"\u001b[39;49m\u001b[43m,\u001b[49m\u001b[43m \u001b[49m\u001b[38;5;28;43mself\u001b[39;49m\u001b[38;5;241;43m.\u001b[39;49m\u001b[43m_fontproperties\u001b[49m\u001b[43m,\u001b[49m\n\u001b[1;32m    315\u001b[0m \u001b[43m    \u001b[49m\u001b[43mismath\u001b[49m\u001b[38;5;241;43m=\u001b[39;49m\u001b[38;5;124;43m\"\u001b[39;49m\u001b[38;5;124;43mTeX\u001b[39;49m\u001b[38;5;124;43m\"\u001b[39;49m\u001b[43m \u001b[49m\u001b[38;5;28;43;01mif\u001b[39;49;00m\u001b[43m \u001b[49m\u001b[38;5;28;43mself\u001b[39;49m\u001b[38;5;241;43m.\u001b[39;49m\u001b[43mget_usetex\u001b[49m\u001b[43m(\u001b[49m\u001b[43m)\u001b[49m\u001b[43m \u001b[49m\u001b[38;5;28;43;01melse\u001b[39;49;00m\u001b[43m \u001b[49m\u001b[38;5;28;43;01mFalse\u001b[39;49;00m\u001b[43m,\u001b[49m\u001b[43m \u001b[49m\u001b[43mdpi\u001b[49m\u001b[38;5;241;43m=\u001b[39;49m\u001b[38;5;28;43mself\u001b[39;49m\u001b[38;5;241;43m.\u001b[39;49m\u001b[43mfigure\u001b[49m\u001b[38;5;241;43m.\u001b[39;49m\u001b[43mdpi\u001b[49m\u001b[43m)\u001b[49m\n\u001b[1;32m    316\u001b[0m min_dy \u001b[38;5;241m=\u001b[39m (lp_h \u001b[38;5;241m-\u001b[39m lp_d) \u001b[38;5;241m*\u001b[39m \u001b[38;5;28mself\u001b[39m\u001b[38;5;241m.\u001b[39m_linespacing\n\u001b[1;32m    318\u001b[0m \u001b[38;5;28;01mfor\u001b[39;00m i, line \u001b[38;5;129;01min\u001b[39;00m \u001b[38;5;28menumerate\u001b[39m(lines):\n",
      "File \u001b[0;32m~/miniforge3/envs/pycharmm/lib/python3.8/site-packages/matplotlib/text.py:97\u001b[0m, in \u001b[0;36m_get_text_metrics_with_cache\u001b[0;34m(renderer, text, fontprop, ismath, dpi)\u001b[0m\n\u001b[1;32m     94\u001b[0m \u001b[38;5;250m\u001b[39m\u001b[38;5;124;03m\"\"\"Call ``renderer.get_text_width_height_descent``, caching the results.\"\"\"\u001b[39;00m\n\u001b[1;32m     95\u001b[0m \u001b[38;5;66;03m# Cached based on a copy of fontprop so that later in-place mutations of\u001b[39;00m\n\u001b[1;32m     96\u001b[0m \u001b[38;5;66;03m# the passed-in argument do not mess up the cache.\u001b[39;00m\n\u001b[0;32m---> 97\u001b[0m \u001b[38;5;28;01mreturn\u001b[39;00m \u001b[43m_get_text_metrics_with_cache_impl\u001b[49m\u001b[43m(\u001b[49m\n\u001b[1;32m     98\u001b[0m \u001b[43m    \u001b[49m\u001b[43mweakref\u001b[49m\u001b[38;5;241;43m.\u001b[39;49m\u001b[43mref\u001b[49m\u001b[43m(\u001b[49m\u001b[43mrenderer\u001b[49m\u001b[43m)\u001b[49m\u001b[43m,\u001b[49m\u001b[43m \u001b[49m\u001b[43mtext\u001b[49m\u001b[43m,\u001b[49m\u001b[43m \u001b[49m\u001b[43mfontprop\u001b[49m\u001b[38;5;241;43m.\u001b[39;49m\u001b[43mcopy\u001b[49m\u001b[43m(\u001b[49m\u001b[43m)\u001b[49m\u001b[43m,\u001b[49m\u001b[43m \u001b[49m\u001b[43mismath\u001b[49m\u001b[43m,\u001b[49m\u001b[43m \u001b[49m\u001b[43mdpi\u001b[49m\u001b[43m)\u001b[49m\n",
      "File \u001b[0;32m~/miniforge3/envs/pycharmm/lib/python3.8/site-packages/matplotlib/text.py:105\u001b[0m, in \u001b[0;36m_get_text_metrics_with_cache_impl\u001b[0;34m(renderer_ref, text, fontprop, ismath, dpi)\u001b[0m\n\u001b[1;32m    101\u001b[0m \u001b[38;5;129m@functools\u001b[39m\u001b[38;5;241m.\u001b[39mlru_cache(\u001b[38;5;241m4096\u001b[39m)\n\u001b[1;32m    102\u001b[0m \u001b[38;5;28;01mdef\u001b[39;00m \u001b[38;5;21m_get_text_metrics_with_cache_impl\u001b[39m(\n\u001b[1;32m    103\u001b[0m         renderer_ref, text, fontprop, ismath, dpi):\n\u001b[1;32m    104\u001b[0m     \u001b[38;5;66;03m# dpi is unused, but participates in cache invalidation (via the renderer).\u001b[39;00m\n\u001b[0;32m--> 105\u001b[0m     \u001b[38;5;28;01mreturn\u001b[39;00m \u001b[43mrenderer_ref\u001b[49m\u001b[43m(\u001b[49m\u001b[43m)\u001b[49m\u001b[38;5;241;43m.\u001b[39;49m\u001b[43mget_text_width_height_descent\u001b[49m\u001b[43m(\u001b[49m\u001b[43mtext\u001b[49m\u001b[43m,\u001b[49m\u001b[43m \u001b[49m\u001b[43mfontprop\u001b[49m\u001b[43m,\u001b[49m\u001b[43m \u001b[49m\u001b[43mismath\u001b[49m\u001b[43m)\u001b[49m\n",
      "File \u001b[0;32m~/miniforge3/envs/pycharmm/lib/python3.8/site-packages/matplotlib/backends/backend_agg.py:229\u001b[0m, in \u001b[0;36mRendererAgg.get_text_width_height_descent\u001b[0;34m(self, s, prop, ismath)\u001b[0m\n\u001b[1;32m    227\u001b[0m     texmanager \u001b[38;5;241m=\u001b[39m \u001b[38;5;28mself\u001b[39m\u001b[38;5;241m.\u001b[39mget_texmanager()\n\u001b[1;32m    228\u001b[0m     fontsize \u001b[38;5;241m=\u001b[39m prop\u001b[38;5;241m.\u001b[39mget_size_in_points()\n\u001b[0;32m--> 229\u001b[0m     w, h, d \u001b[38;5;241m=\u001b[39m \u001b[43mtexmanager\u001b[49m\u001b[38;5;241;43m.\u001b[39;49m\u001b[43mget_text_width_height_descent\u001b[49m\u001b[43m(\u001b[49m\n\u001b[1;32m    230\u001b[0m \u001b[43m        \u001b[49m\u001b[43ms\u001b[49m\u001b[43m,\u001b[49m\u001b[43m \u001b[49m\u001b[43mfontsize\u001b[49m\u001b[43m,\u001b[49m\u001b[43m \u001b[49m\u001b[43mrenderer\u001b[49m\u001b[38;5;241;43m=\u001b[39;49m\u001b[38;5;28;43mself\u001b[39;49m\u001b[43m)\u001b[49m\n\u001b[1;32m    231\u001b[0m     \u001b[38;5;28;01mreturn\u001b[39;00m w, h, d\n\u001b[1;32m    233\u001b[0m \u001b[38;5;28;01mif\u001b[39;00m ismath:\n",
      "File \u001b[0;32m~/miniforge3/envs/pycharmm/lib/python3.8/site-packages/matplotlib/texmanager.py:362\u001b[0m, in \u001b[0;36mTexManager.get_text_width_height_descent\u001b[0;34m(cls, tex, fontsize, renderer)\u001b[0m\n\u001b[1;32m    360\u001b[0m \u001b[38;5;28;01mif\u001b[39;00m tex\u001b[38;5;241m.\u001b[39mstrip() \u001b[38;5;241m==\u001b[39m \u001b[38;5;124m'\u001b[39m\u001b[38;5;124m'\u001b[39m:\n\u001b[1;32m    361\u001b[0m     \u001b[38;5;28;01mreturn\u001b[39;00m \u001b[38;5;241m0\u001b[39m, \u001b[38;5;241m0\u001b[39m, \u001b[38;5;241m0\u001b[39m\n\u001b[0;32m--> 362\u001b[0m dvifile \u001b[38;5;241m=\u001b[39m \u001b[38;5;28;43mcls\u001b[39;49m\u001b[38;5;241;43m.\u001b[39;49m\u001b[43mmake_dvi\u001b[49m\u001b[43m(\u001b[49m\u001b[43mtex\u001b[49m\u001b[43m,\u001b[49m\u001b[43m \u001b[49m\u001b[43mfontsize\u001b[49m\u001b[43m)\u001b[49m\n\u001b[1;32m    363\u001b[0m dpi_fraction \u001b[38;5;241m=\u001b[39m renderer\u001b[38;5;241m.\u001b[39mpoints_to_pixels(\u001b[38;5;241m1.\u001b[39m) \u001b[38;5;28;01mif\u001b[39;00m renderer \u001b[38;5;28;01melse\u001b[39;00m \u001b[38;5;241m1\u001b[39m\n\u001b[1;32m    364\u001b[0m \u001b[38;5;28;01mwith\u001b[39;00m dviread\u001b[38;5;241m.\u001b[39mDvi(dvifile, \u001b[38;5;241m72\u001b[39m \u001b[38;5;241m*\u001b[39m dpi_fraction) \u001b[38;5;28;01mas\u001b[39;00m dvi:\n",
      "File \u001b[0;32m~/miniforge3/envs/pycharmm/lib/python3.8/site-packages/matplotlib/texmanager.py:295\u001b[0m, in \u001b[0;36mTexManager.make_dvi\u001b[0;34m(cls, tex, fontsize)\u001b[0m\n\u001b[1;32m    286\u001b[0m     \u001b[38;5;66;03m# Generate the dvi in a temporary directory to avoid race\u001b[39;00m\n\u001b[1;32m    287\u001b[0m     \u001b[38;5;66;03m# conditions e.g. if multiple processes try to process the same tex\u001b[39;00m\n\u001b[1;32m    288\u001b[0m     \u001b[38;5;66;03m# string at the same time.  Having tmpdir be a subdirectory of the\u001b[39;00m\n\u001b[0;32m   (...)\u001b[0m\n\u001b[1;32m    292\u001b[0m     \u001b[38;5;66;03m# the absolute path may contain characters (e.g. ~) that TeX does\u001b[39;00m\n\u001b[1;32m    293\u001b[0m     \u001b[38;5;66;03m# not support.)\u001b[39;00m\n\u001b[1;32m    294\u001b[0m     \u001b[38;5;28;01mwith\u001b[39;00m TemporaryDirectory(\u001b[38;5;28mdir\u001b[39m\u001b[38;5;241m=\u001b[39mPath(dvifile)\u001b[38;5;241m.\u001b[39mparent) \u001b[38;5;28;01mas\u001b[39;00m tmpdir:\n\u001b[0;32m--> 295\u001b[0m         \u001b[38;5;28;43mcls\u001b[39;49m\u001b[38;5;241;43m.\u001b[39;49m\u001b[43m_run_checked_subprocess\u001b[49m\u001b[43m(\u001b[49m\n\u001b[1;32m    296\u001b[0m \u001b[43m            \u001b[49m\u001b[43m[\u001b[49m\u001b[38;5;124;43m\"\u001b[39;49m\u001b[38;5;124;43mlatex\u001b[39;49m\u001b[38;5;124;43m\"\u001b[39;49m\u001b[43m,\u001b[49m\u001b[43m \u001b[49m\u001b[38;5;124;43m\"\u001b[39;49m\u001b[38;5;124;43m-interaction=nonstopmode\u001b[39;49m\u001b[38;5;124;43m\"\u001b[39;49m\u001b[43m,\u001b[49m\u001b[43m \u001b[49m\u001b[38;5;124;43m\"\u001b[39;49m\u001b[38;5;124;43m--halt-on-error\u001b[39;49m\u001b[38;5;124;43m\"\u001b[39;49m\u001b[43m,\u001b[49m\n\u001b[1;32m    297\u001b[0m \u001b[43m             \u001b[49m\u001b[38;5;124;43mf\u001b[39;49m\u001b[38;5;124;43m\"\u001b[39;49m\u001b[38;5;124;43m../\u001b[39;49m\u001b[38;5;132;43;01m{\u001b[39;49;00m\u001b[43mtexfile\u001b[49m\u001b[38;5;241;43m.\u001b[39;49m\u001b[43mname\u001b[49m\u001b[38;5;132;43;01m}\u001b[39;49;00m\u001b[38;5;124;43m\"\u001b[39;49m\u001b[43m]\u001b[49m\u001b[43m,\u001b[49m\u001b[43m \u001b[49m\u001b[43mtex\u001b[49m\u001b[43m,\u001b[49m\u001b[43m \u001b[49m\u001b[43mcwd\u001b[49m\u001b[38;5;241;43m=\u001b[39;49m\u001b[43mtmpdir\u001b[49m\u001b[43m)\u001b[49m\n\u001b[1;32m    298\u001b[0m         (Path(tmpdir) \u001b[38;5;241m/\u001b[39m Path(dvifile)\u001b[38;5;241m.\u001b[39mname)\u001b[38;5;241m.\u001b[39mreplace(dvifile)\n\u001b[1;32m    299\u001b[0m \u001b[38;5;28;01mreturn\u001b[39;00m dvifile\n",
      "File \u001b[0;32m~/miniforge3/envs/pycharmm/lib/python3.8/site-packages/matplotlib/texmanager.py:261\u001b[0m, in \u001b[0;36mTexManager._run_checked_subprocess\u001b[0;34m(cls, command, tex, cwd)\u001b[0m\n\u001b[1;32m    257\u001b[0m     \u001b[38;5;28;01mraise\u001b[39;00m \u001b[38;5;167;01mRuntimeError\u001b[39;00m(\n\u001b[1;32m    258\u001b[0m         \u001b[38;5;124m'\u001b[39m\u001b[38;5;124mFailed to process string with tex because \u001b[39m\u001b[38;5;132;01m{}\u001b[39;00m\u001b[38;5;124m could not be \u001b[39m\u001b[38;5;124m'\u001b[39m\n\u001b[1;32m    259\u001b[0m         \u001b[38;5;124m'\u001b[39m\u001b[38;5;124mfound\u001b[39m\u001b[38;5;124m'\u001b[39m\u001b[38;5;241m.\u001b[39mformat(command[\u001b[38;5;241m0\u001b[39m])) \u001b[38;5;28;01mfrom\u001b[39;00m \u001b[38;5;21;01mexc\u001b[39;00m\n\u001b[1;32m    260\u001b[0m \u001b[38;5;28;01mexcept\u001b[39;00m subprocess\u001b[38;5;241m.\u001b[39mCalledProcessError \u001b[38;5;28;01mas\u001b[39;00m exc:\n\u001b[0;32m--> 261\u001b[0m     \u001b[38;5;28;01mraise\u001b[39;00m \u001b[38;5;167;01mRuntimeError\u001b[39;00m(\n\u001b[1;32m    262\u001b[0m         \u001b[38;5;124m'\u001b[39m\u001b[38;5;132;01m{prog}\u001b[39;00m\u001b[38;5;124m was not able to process the following string:\u001b[39m\u001b[38;5;130;01m\\n\u001b[39;00m\u001b[38;5;124m'\u001b[39m\n\u001b[1;32m    263\u001b[0m         \u001b[38;5;124m'\u001b[39m\u001b[38;5;132;01m{tex!r}\u001b[39;00m\u001b[38;5;130;01m\\n\u001b[39;00m\u001b[38;5;130;01m\\n\u001b[39;00m\u001b[38;5;124m'\u001b[39m\n\u001b[1;32m    264\u001b[0m         \u001b[38;5;124m'\u001b[39m\u001b[38;5;124mHere is the full command invocation and its output:\u001b[39m\u001b[38;5;130;01m\\n\u001b[39;00m\u001b[38;5;130;01m\\n\u001b[39;00m\u001b[38;5;124m'\u001b[39m\n\u001b[1;32m    265\u001b[0m         \u001b[38;5;124m'\u001b[39m\u001b[38;5;132;01m{format_command}\u001b[39;00m\u001b[38;5;130;01m\\n\u001b[39;00m\u001b[38;5;130;01m\\n\u001b[39;00m\u001b[38;5;124m'\u001b[39m\n\u001b[1;32m    266\u001b[0m         \u001b[38;5;124m'\u001b[39m\u001b[38;5;132;01m{exc}\u001b[39;00m\u001b[38;5;130;01m\\n\u001b[39;00m\u001b[38;5;130;01m\\n\u001b[39;00m\u001b[38;5;124m'\u001b[39m\u001b[38;5;241m.\u001b[39mformat(\n\u001b[1;32m    267\u001b[0m             prog\u001b[38;5;241m=\u001b[39mcommand[\u001b[38;5;241m0\u001b[39m],\n\u001b[1;32m    268\u001b[0m             format_command\u001b[38;5;241m=\u001b[39mcbook\u001b[38;5;241m.\u001b[39m_pformat_subprocess(command),\n\u001b[1;32m    269\u001b[0m             tex\u001b[38;5;241m=\u001b[39mtex\u001b[38;5;241m.\u001b[39mencode(\u001b[38;5;124m'\u001b[39m\u001b[38;5;124municode_escape\u001b[39m\u001b[38;5;124m'\u001b[39m),\n\u001b[1;32m    270\u001b[0m             exc\u001b[38;5;241m=\u001b[39mexc\u001b[38;5;241m.\u001b[39moutput\u001b[38;5;241m.\u001b[39mdecode(\u001b[38;5;124m'\u001b[39m\u001b[38;5;124mutf-8\u001b[39m\u001b[38;5;124m'\u001b[39m, \u001b[38;5;124m'\u001b[39m\u001b[38;5;124mbackslashreplace\u001b[39m\u001b[38;5;124m'\u001b[39m))\n\u001b[1;32m    271\u001b[0m         ) \u001b[38;5;28;01mfrom\u001b[39;00m \u001b[38;5;28mNone\u001b[39m\n\u001b[1;32m    272\u001b[0m _log\u001b[38;5;241m.\u001b[39mdebug(report)\n\u001b[1;32m    273\u001b[0m \u001b[38;5;28;01mreturn\u001b[39;00m report\n",
      "\u001b[0;31mRuntimeError\u001b[0m: latex was not able to process the following string:\nb'lp'\n\nHere is the full command invocation and its output:\n\nlatex -interaction=nonstopmode --halt-on-error ../7f1cac901561858373fb5fafcf028f3a.tex\n\nThis is pdfTeX, Version 3.141592653-2.6-1.40.25 (TeX Live 2023) (preloaded format=latex)\n restricted \\write18 enabled.\n\nkpathsea: Running mktexfmt latex.fmt\nCan't locate mktexlsr.pl in @INC (@INC contains: /cluster/home/boittier/miniforge3/envs/pycharmm/share/tlpkg /cluster/home/boittier/miniforge3/envs/pycharmm/share/texmf-dist/scripts/texlive /usr/local/lib64/perl5/5.32 /usr/local/share/perl5/5.32 /usr/lib64/perl5/vendor_perl /usr/share/perl5/vendor_perl /usr/lib64/perl5 /usr/share/perl5) at /cluster/home/boittier/miniforge3/envs/pycharmm/bin/mktexfmt line 23.\nBEGIN failed--compilation aborted at /cluster/home/boittier/miniforge3/envs/pycharmm/bin/mktexfmt line 25.\nI can't find the format file `latex.fmt'!\n\n\n"
     ]
    }
   ],
   "source": [
    "sns.jointplot(data=df_test, x=\"target\", y=\"vals\", kind=\"reg\", marker=\"o\")"
   ]
  },
  {
   "cell_type": "code",
   "execution_count": null,
   "id": "48f7e906-5265-4ff1-a91d-dbfce17e91b4",
   "metadata": {},
   "outputs": [],
   "source": [
    "\n"
   ]
  },
  {
   "cell_type": "code",
   "execution_count": 121,
   "id": "1ddccd75-831d-4aa2-a915-99fecb670340",
   "metadata": {},
   "outputs": [],
   "source": [
    "# dataframe"
   ]
  },
  {
   "cell_type": "code",
   "execution_count": 78,
   "id": "cb577046-74e0-48a4-9176-70ac2c52534d",
   "metadata": {},
   "outputs": [],
   "source": [
    "# data_vals[0]"
   ]
  },
  {
   "cell_type": "code",
   "execution_count": 61,
   "id": "18f40948-d1a4-4434-bf04-a4acee1b2056",
   "metadata": {},
   "outputs": [
    {
     "data": {
      "text/plain": [
       "array([[<AxesSubplot: title={'center': 'fun'}>]], dtype=object)"
      ]
     },
     "execution_count": 61,
     "metadata": {},
     "output_type": "execute_result"
    },
    {
     "data": {
      "image/png": "[encoded data removed]",
      "text/plain": [
       "<Figure size 800x600 with 1 Axes>"
      ]
     },
     "metadata": {},
     "output_type": "display_data"
    }
   ],
   "source": [
    "dataframe.hist(\"fun\")"
   ]
  },
  {
   "cell_type": "code",
   "execution_count": 21,
   "id": "57a16696-e555-4526-b0c2-34a18567f27b",
   "metadata": {},
   "outputs": [
    {
     "data": {
      "image/png": "[encoded data removed]",
      "text/plain": [
       "<Figure size 800x600 with 1 Axes>"
      ]
     },
     "metadata": {},
     "output_type": "display_data"
    },
    {
     "data": {
      "image/png": "[encoded data removed]",
      "text/plain": [
       "<Figure size 800x600 with 1 Axes>"
      ]
     },
     "metadata": {},
     "output_type": "display_data"
    }
   ],
   "source": [
    "plt.imshow(dataframe[\"values\"][0].reshape(25, 20))\n",
    "plt.show()\n",
    "plt.imshow([parm_vals[0]])\n",
    "plt.show()"
   ]
  },
  {
   "cell_type": "code",
   "execution_count": 57,
   "id": "80b105a1-d184-4488-b9ea-7ee76d050eef",
   "metadata": {},
   "outputs": [],
   "source": [
    "import numpy as np\n",
    "import matplotlib.pyplot as plt\n",
    "from matplotlib.animation import FuncAnimation\n",
    "from IPython.display import HTML\n",
    "\n",
    "def animation():\n",
    "    n = len(dataframe)\n",
    "\n",
    "    # Create a set of arrays\n",
    "    data = [dataframe[\"values\"][i].reshape(25, 20) for i in range(n)]\n",
    "\n",
    "    # Set up the figure, axis, and initial imshow object\n",
    "    fig, axs = plt.subplots(2,1)\n",
    "    im1 = axs[0].imshow(data[0], animated=True)\n",
    "    im2 = axs[1].imshow([parm_vals[0]], animated=True)\n",
    "\n",
    "    # Define the update function\n",
    "    def update(frame):\n",
    "        im1.set_array(data[frame])\n",
    "        im2.set_array([parm_vals[frame]])\n",
    "        _data = (dataframe.iloc[frame])\n",
    "\n",
    "        text_ = f\"fun: {_data['fun']**0.5:.1f}, nfev: {_data['nfev']}\"\n",
    "        axs[0].set_title(text_)\n",
    "        return [im]\n",
    "\n",
    "    # Create the animation object\n",
    "    ani = FuncAnimation(fig, update, frames=len(data), blit=True)\n",
    "\n",
    "    # Convert the animation to HTML and save it\n",
    "    html_content = HTML(ani.to_jshtml()).data\n",
    "    with open(\"animation.html\", \"w\") as f:\n",
    "        f.write(html_content)\n",
    "\n",
    "    print(\"Animation saved as animation.html\")\n"
   ]
  },
  {
   "cell_type": "code",
   "execution_count": 58,
   "id": "525bc5f9-9d23-4f2f-8e26-f658414723f4",
   "metadata": {},
   "outputs": [
    {
     "name": "stderr",
     "output_type": "stream",
     "text": [
      "INFO:matplotlib.animation:Animation.save using <class 'matplotlib.animation.HTMLWriter'>\n",
      "2023-09-04 10:10:01 | INFO | animation:save:1043 - Animation.save using <class 'matplotlib.animation.HTMLWriter'>\n",
      "INFO:matplotlib.animation:Disabling savefig.bbox = 'tight', as it may cause frame size to vary, which is inappropriate for animation.\n",
      "2023-09-04 10:10:01 | INFO | animation:save:1058 - Disabling savefig.bbox = 'tight', as it may cause frame size to vary, which is inappropriate for animation.\n",
      "DEBUG:matplotlib.animation:frame size in pixels is 800 x 600\n",
      "2023-09-04 10:10:01 | DEBUG | animation:_adjust_frame_size:309 - frame size in pixels is 800 x 600\n",
      "WARNING:matplotlib.animation:Animation size has reached 20990940 bytes, exceeding the limit of 20971520.0. If you're sure you want a larger animation embedded, set the animation.embed_limit rc parameter to a larger value (in MB). This and further frames will be dropped.\n",
      "2023-09-04 10:11:21 | WARNING | animation:grab_frame:768 - Animation size has reached 20990940 bytes, exceeding the limit of 20971520.0. If you're sure you want a larger animation embedded, set the animation.embed_limit rc parameter to a larger value (in MB). This and further frames will be dropped.\n",
      "DEBUG:matplotlib.animation:MovieWriter: clearing temporary path=<TemporaryDirectory '/tmp/tmpbyo2svr4'>\n",
      "2023-09-04 10:11:38 | DEBUG | animation:finish:814 - MovieWriter: clearing temporary path=<TemporaryDirectory '/tmp/tmpbyo2svr4'>\n"
     ]
    },
    {
     "name": "stdout",
     "output_type": "stream",
     "text": [
      "Animation saved as animation.html\n"
     ]
    },
    {
     "data": {
      "image/png": "[encoded data removed]",
      "text/plain": [
       "<Figure size 800x600 with 2 Axes>"
      ]
     },
     "metadata": {},
     "output_type": "display_data"
    }
   ],
   "source": [
    "animation()"
   ]
  },
  {
   "cell_type": "code",
   "execution_count": null,
   "id": "f6df2b52-1335-41aa-ac2e-61751f04827e",
   "metadata": {},
   "outputs": [],
   "source": []
  }
 ],
 "metadata": {
  "kernelspec": {
   "display_name": "Python 3 (ipykernel)",
   "language": "python",
   "name": "python3"
  },
  "language_info": {
   "codemirror_mode": {
    "name": "ipython",
    "version": 3
   },
   "file_extension": ".py",
   "mimetype": "text/x-python",
   "name": "python",
   "nbconvert_exporter": "python",
   "pygments_lexer": "ipython3",
   "version": "3.8.16"
  }
 },
 "nbformat": 4,
 "nbformat_minor": 5
}
