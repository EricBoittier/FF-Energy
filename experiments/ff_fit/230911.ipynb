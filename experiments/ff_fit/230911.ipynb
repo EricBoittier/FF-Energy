{
 "cells": [
  {
   "cell_type": "code",
   "execution_count": 1,
   "id": "42f181f1-f7a1-4cea-a9b8-477134145c18",
   "metadata": {},
   "outputs": [
    {
     "data": {
      "text/plain": [
       "<Figure size 100x100 with 0 Axes>"
      ]
     },
     "metadata": {},
     "output_type": "display_data"
    }
   ],
   "source": [
    "from ff_energy.ffe.slurm import SlurmJobHandler\n",
    "from pathlib import Path\n",
    "import pandas as pd\n",
    "import jax.numpy as jnp\n",
    "import itertools as it\n",
    "import matplotlib.pyplot as plt\n",
    "import seaborn as sns\n",
    "import numpy as np\n",
    "\n",
    "\n",
    "\n",
    "from ff_energy.ffe.potential import (\n",
    "    LJ,\n",
    "    DE,\n",
    ")\n",
    "\n",
    "from ff_energy.ffe.ff import FF\n",
    "\n",
    "from ff_energy.plotting.ffe_plots import plot_energy_MSE, plot_ff_fit\n",
    "from ff_energy.plotting.plotting import set_style\n",
    "from ff_energy.plotting.fit_results import residuals_plot\n",
    "from ff_energy.logs.logging import hide_logs\n",
    "\n",
    "hide_logs()\n",
    "\n",
    "\n",
    "import scienceplots\n",
    "set_style(no_latex=True)\n",
    "\n",
    "# sns.set_style()\n",
    "# plt.style.use([\"science\", \"no-latex\"])\n",
    "\n",
    "\n",
    "from ff_energy.ffe.ff_fit import (\n",
    "    load_ff,\n",
    "    fit_func,\n",
    "    fit_repeat,\n",
    ")\n",
    "\n",
    "from ff_energy.utils.ffe_utils import pickle_output, read_from_pickle, str2int, PKL_PATH\n",
    "from ff_energy.utils.json_utils import load_json\n",
    "\n",
    "structure_data = {\n",
    "    \"dcm\": \"\",\n",
    "    \"water_cluster\": PKL_PATH / \"20230823_water_clusters.pkl.pkl\",\n",
    "}"
   ]
  },
  {
   "cell_type": "code",
   "execution_count": 3,
   "id": "ed0e8d1e-d3d1-4131-a9ce-cd910c6d8c3a",
   "metadata": {},
   "outputs": [
    {
     "ename": "FileNotFoundError",
     "evalue": "[Errno 2] No such file or directory: '/home/boittier/Documents/phd/ff_energy/pickles/dcmdimerscan'",
     "output_type": "error",
     "traceback": [
      "\u001b[0;31m---------------------------------------------------------------------------\u001b[0m",
      "\u001b[0;31mFileNotFoundError\u001b[0m                         Traceback (most recent call last)",
      "Cell \u001b[0;32mIn[3], line 2\u001b[0m\n\u001b[1;32m      1\u001b[0m p \u001b[38;5;241m=\u001b[39m read_from_pickle(\u001b[38;5;124m\"\u001b[39m\u001b[38;5;124mdcmdimerscan\u001b[39m\u001b[38;5;124m\"\u001b[39m)\n\u001b[0;32m----> 2\u001b[0m \u001b[38;5;28;43mnext\u001b[39;49m\u001b[43m(\u001b[49m\u001b[43mp\u001b[49m\u001b[43m)\u001b[49m\n",
      "File \u001b[0;32m~/Documents/phd/ff_energy/ff_energy/utils/ffe_utils.py:129\u001b[0m, in \u001b[0;36mread_from_pickle\u001b[0;34m(path)\u001b[0m\n\u001b[1;32m    126\u001b[0m     \u001b[38;5;28;01mif\u001b[39;00m \u001b[38;5;129;01mnot\u001b[39;00m path\u001b[38;5;241m.\u001b[39mexists():\n\u001b[1;32m    127\u001b[0m         path \u001b[38;5;241m=\u001b[39m Path(PKL_PATH \u001b[38;5;241m/\u001b[39m path)\n\u001b[0;32m--> 129\u001b[0m \u001b[38;5;28;01mwith\u001b[39;00m \u001b[38;5;28;43mopen\u001b[39;49m\u001b[43m(\u001b[49m\u001b[43mpath\u001b[49m\u001b[43m,\u001b[49m\u001b[43m \u001b[49m\u001b[38;5;124;43m\"\u001b[39;49m\u001b[38;5;124;43mrb\u001b[39;49m\u001b[38;5;124;43m\"\u001b[39;49m\u001b[43m)\u001b[49m \u001b[38;5;28;01mas\u001b[39;00m file:\n\u001b[1;32m    130\u001b[0m     \u001b[38;5;28;01mtry\u001b[39;00m:\n\u001b[1;32m    131\u001b[0m         \u001b[38;5;28;01mwhile\u001b[39;00m \u001b[38;5;28;01mTrue\u001b[39;00m:\n",
      "\u001b[0;31mFileNotFoundError\u001b[0m: [Errno 2] No such file or directory: '/home/boittier/Documents/phd/ff_energy/pickles/dcmdimerscan'"
     ]
    }
   ],
   "source": [
    "p = read_from_pickle(\"dcmdimerscan\")\n",
    "next(p)"
   ]
  },
  {
   "cell_type": "code",
   "execution_count": null,
   "id": "5ec1b41e-54c2-492e-bd8a-6a8c6037a383",
   "metadata": {},
   "outputs": [],
   "source": []
  }
 ],
 "metadata": {
  "kernelspec": {
   "display_name": "Python 3 (ipykernel)",
   "language": "python",
   "name": "python3"
  },
  "language_info": {
   "codemirror_mode": {
    "name": "ipython",
    "version": 3
   },
   "file_extension": ".py",
   "mimetype": "text/x-python",
   "name": "python",
   "nbconvert_exporter": "python",
   "pygments_lexer": "ipython3",
   "version": "3.8.16"
  }
 },
 "nbformat": 4,
 "nbformat_minor": 5
}
