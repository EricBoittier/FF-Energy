{
 "cells": [
  {
   "cell_type": "markdown",
   "id": "b4634625-9ee4-4c1a-abaf-5080f2f47617",
   "metadata": {},
   "source": [
    "#  Data\n",
    "\n",
    "##  Additional data\n",
    "\n",
    "ELEC_CI - coloumb integral\n",
    "\n",
    "ELEC_CIPOL - + polarization\n",
    "\n",
    "ELEC_PC - \n",
    "\n",
    "ELEC_CGENFF - \n",
    "\n",
    "ELEC_MDCM -\n",
    "\n",
    "ELEC_kMDCM - "
   ]
  },
  {
   "cell_type": "code",
   "execution_count": 4,
   "id": "186b71b2-c7b6-4f07-a448-376137961e4c",
   "metadata": {},
   "outputs": [
    {
     "name": "stdout",
     "output_type": "stream",
     "text": [
      "The autoreload extension is already loaded. To reload it, use:\n",
      "  %reload_ext autoreload\n"
     ]
    }
   ],
   "source": [
    "#imports\n",
    "\n",
    "%load_ext autoreload\n",
    "%autoreload 2\n",
    "\n",
    "from pathlib import Path\n",
    "import seaborn as sns\n",
    "import scipy as sp\n",
    "import pandas as pd\n",
    "import matplotlib.pyplot as plt\n",
    "\n",
    "from ff_energy.latex_writer.report import Report\n",
    "from ff_energy.latex_writer.energydata.energy_data_report import EnergyReport\n",
    "from ff_energy.latex_writer.figure import Figure\n",
    "from ff_energy.latex_writer.format import safe_latex_string\n",
    "from ff_energy.utils.ffe_utils import read_from_pickle\n",
    "from ff_energy.ffe.ff import FF\n",
    "from ff_energy.ffe.constants import PKL_PATH\n",
    "from ff_energy.ffe.data import pairs_data\n",
    "from ff_energy.plotting.data_plots import DataPlots"
   ]
  },
  {
   "cell_type": "code",
   "execution_count": 9,
   "id": "4084dc1a-d87d-48e9-9fa7-a6982039951b",
   "metadata": {},
   "outputs": [],
   "source": [
    "energy_report = next(read_from_pickle(PKL_PATH / \"energy_report.pkl\"))"
   ]
  },
  {
   "cell_type": "code",
   "execution_count": 12,
   "id": "346bfe33-281f-423e-9b3a-f9fe54de57b5",
   "metadata": {},
   "outputs": [
    {
     "data": {
      "text/plain": [
       "water_cluster /home/boittier/Documents/phd/ff_energy/pickles/water_cluster/pbe0dz/pbe0_dz.pc ['ECOL', 'KEY', 'TOTAL', 'ELEC', 'VDW', 'KEY', 'M_ENERGY', 'KEY', 'n_monomers', 'C_ENERGY', 'n_pairs', 'intE', 'P_intE', 'm_E_tot', 'p_m_E_tot', 'C_ENERGY_kcalmol']"
      ]
     },
     "execution_count": 12,
     "metadata": {},
     "output_type": "execute_result"
    }
   ],
   "source": [
    "energy_report.data[0]"
   ]
  },
  {
   "cell_type": "markdown",
   "id": "dae4e0f1-4b58-4140-9362-d34b8a8af1ea",
   "metadata": {},
   "source": [
    "##  water"
   ]
  },
  {
   "cell_type": "code",
   "execution_count": 14,
   "id": "909bcde3-4a86-4201-828d-dcca2cb23de1",
   "metadata": {},
   "outputs": [],
   "source": [
    "# eg_dcm_path_ = \"/home/boittier/homeb/water_cluster/pbe0dz_pc/{}/charmm/dcm.xyz\"\n",
    "# pairs_data(eg_data, \n",
    "#            system = \"water_cluster\",\n",
    "#           name = \"test\",\n",
    "#           dcm_path_ = eg_dcm_path_,\n",
    "# )"
   ]
  },
  {
   "cell_type": "code",
   "execution_count": null,
   "id": "caadd631-d522-4de4-9f09-012ef33c1ef2",
   "metadata": {},
   "outputs": [],
   "source": []
  }
 ],
 "metadata": {
  "kernelspec": {
   "display_name": "Python 3 (ipykernel)",
   "language": "python",
   "name": "python3"
  },
  "language_info": {
   "codemirror_mode": {
    "name": "ipython",
    "version": 3
   },
   "file_extension": ".py",
   "mimetype": "text/x-python",
   "name": "python",
   "nbconvert_exporter": "python",
   "pygments_lexer": "ipython3",
   "version": "3.8.16"
  }
 },
 "nbformat": 4,
 "nbformat_minor": 5
}
