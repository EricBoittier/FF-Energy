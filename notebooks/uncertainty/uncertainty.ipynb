{
 "cells": [
  {
   "cell_type": "code",
   "execution_count": 1,
   "id": "a9581116-6180-4bd7-909a-cf09a8299fe4",
   "metadata": {},
   "outputs": [
    {
     "name": "stdout",
     "output_type": "stream",
     "text": [
      "/home/boittier/Documents/phd/ff_energy\n",
      "/home/boittier/Documents/phd/ff_energy/datasets/silvan/criegee_mp2_avtz_gen3_randomselection_4305_ens6_all.dat\n"
     ]
    }
   ],
   "source": [
    "%load_ext autoreload\n",
    "%autoreload 2\n",
    "\n",
    "import numpy as np\n",
    "import pandas as pd\n",
    "import seaborn as sns\n",
    "from scipy.stats import pearsonr\n",
    "import matplotlib.pyplot as plt\n",
    "\n",
    "from ff_energy.uncertainty.uncertainty_quantifier import UncertaintyQuantifier\n",
    "from ff_energy.ffe.constants import FFEPATH\n",
    "print(FFEPATH)\n",
    "\n",
    "csv = FFEPATH / \"datasets/silvan/criegee_mp2_avtz_gen3_randomselection_4305_ens6_all.dat\"\n",
    "print(csv)"
   ]
  },
  {
   "cell_type": "code",
   "execution_count": 2,
   "id": "d08cede8-9351-4390-b7d1-725dbb1091c7",
   "metadata": {},
   "outputs": [
    {
     "name": "stderr",
     "output_type": "stream",
     "text": [
      "/tmp/ipykernel_197809/1288098332.py:1: ParserWarning: Falling back to the 'python' engine because the 'c' engine does not support regex separators (separators > 1 char and different from '\\s+' are interpreted as regex); you can avoid this warning by specifying engine='python'.\n",
      "  df = pd.read_csv(csv, delimiter=\"  \")\n"
     ]
    }
   ],
   "source": [
    "df = pd.read_csv(csv, delimiter=\"  \")"
   ]
  },
  {
   "cell_type": "code",
   "execution_count": 3,
   "id": "d615d6b5-9ac8-4541-8ded-b7e28602ae7e",
   "metadata": {},
   "outputs": [
    {
     "data": {
      "text/html": [
       "<div>\n",
       "<style scoped>\n",
       "    .dataframe tbody tr th:only-of-type {\n",
       "        vertical-align: middle;\n",
       "    }\n",
       "\n",
       "    .dataframe tbody tr th {\n",
       "        vertical-align: top;\n",
       "    }\n",
       "\n",
       "    .dataframe thead th {\n",
       "        text-align: right;\n",
       "    }\n",
       "</style>\n",
       "<table border=\"1\" class=\"dataframe\">\n",
       "  <thead>\n",
       "    <tr style=\"text-align: right;\">\n",
       "      <th></th>\n",
       "      <th>Eref</th>\n",
       "      <th>Ens</th>\n",
       "      <th>Model1</th>\n",
       "      <th>Model2</th>\n",
       "      <th>Model3</th>\n",
       "      <th>Model4</th>\n",
       "      <th>Model5</th>\n",
       "      <th>Model6</th>\n",
       "    </tr>\n",
       "  </thead>\n",
       "  <tbody>\n",
       "    <tr>\n",
       "      <th>0</th>\n",
       "      <td>-30.302610</td>\n",
       "      <td>-30.303969</td>\n",
       "      <td>-30.304491</td>\n",
       "      <td>-30.304039</td>\n",
       "      <td>-30.303816</td>\n",
       "      <td>-30.302113</td>\n",
       "      <td>-30.304005</td>\n",
       "      <td>-30.305349</td>\n",
       "    </tr>\n",
       "    <tr>\n",
       "      <th>1</th>\n",
       "      <td>-29.555629</td>\n",
       "      <td>-29.556528</td>\n",
       "      <td>-29.553324</td>\n",
       "      <td>-29.556776</td>\n",
       "      <td>-29.560293</td>\n",
       "      <td>-29.550920</td>\n",
       "      <td>-29.560108</td>\n",
       "      <td>-29.557745</td>\n",
       "    </tr>\n",
       "    <tr>\n",
       "      <th>2</th>\n",
       "      <td>-28.771974</td>\n",
       "      <td>-28.771562</td>\n",
       "      <td>-28.760334</td>\n",
       "      <td>-28.771938</td>\n",
       "      <td>-28.784126</td>\n",
       "      <td>-28.766819</td>\n",
       "      <td>-28.775587</td>\n",
       "      <td>-28.770569</td>\n",
       "    </tr>\n",
       "    <tr>\n",
       "      <th>3</th>\n",
       "      <td>-28.264171</td>\n",
       "      <td>-28.267426</td>\n",
       "      <td>-28.245617</td>\n",
       "      <td>-28.263954</td>\n",
       "      <td>-28.294741</td>\n",
       "      <td>-28.272991</td>\n",
       "      <td>-28.266968</td>\n",
       "      <td>-28.260286</td>\n",
       "    </tr>\n",
       "    <tr>\n",
       "      <th>4</th>\n",
       "      <td>-28.074606</td>\n",
       "      <td>-28.091652</td>\n",
       "      <td>-28.057587</td>\n",
       "      <td>-28.087101</td>\n",
       "      <td>-28.126707</td>\n",
       "      <td>-28.107737</td>\n",
       "      <td>-28.098137</td>\n",
       "      <td>-28.072643</td>\n",
       "    </tr>\n",
       "    <tr>\n",
       "      <th>...</th>\n",
       "      <td>...</td>\n",
       "      <td>...</td>\n",
       "      <td>...</td>\n",
       "      <td>...</td>\n",
       "      <td>...</td>\n",
       "      <td>...</td>\n",
       "      <td>...</td>\n",
       "      <td>...</td>\n",
       "    </tr>\n",
       "    <tr>\n",
       "      <th>33397</th>\n",
       "      <td>-29.668227</td>\n",
       "      <td>-29.669304</td>\n",
       "      <td>-29.667955</td>\n",
       "      <td>-29.669159</td>\n",
       "      <td>-29.670647</td>\n",
       "      <td>-29.668480</td>\n",
       "      <td>-29.672123</td>\n",
       "      <td>-29.667458</td>\n",
       "    </tr>\n",
       "    <tr>\n",
       "      <th>33398</th>\n",
       "      <td>-29.431993</td>\n",
       "      <td>-29.432835</td>\n",
       "      <td>-29.433363</td>\n",
       "      <td>-29.432831</td>\n",
       "      <td>-29.431156</td>\n",
       "      <td>-29.433653</td>\n",
       "      <td>-29.436811</td>\n",
       "      <td>-29.429195</td>\n",
       "    </tr>\n",
       "    <tr>\n",
       "      <th>33399</th>\n",
       "      <td>-29.002758</td>\n",
       "      <td>-29.006098</td>\n",
       "      <td>-29.007973</td>\n",
       "      <td>-29.004765</td>\n",
       "      <td>-29.003111</td>\n",
       "      <td>-29.010780</td>\n",
       "      <td>-29.007494</td>\n",
       "      <td>-29.002464</td>\n",
       "    </tr>\n",
       "    <tr>\n",
       "      <th>33400</th>\n",
       "      <td>-28.620107</td>\n",
       "      <td>-28.628448</td>\n",
       "      <td>-28.628874</td>\n",
       "      <td>-28.625696</td>\n",
       "      <td>-28.629385</td>\n",
       "      <td>-28.635044</td>\n",
       "      <td>-28.623213</td>\n",
       "      <td>-28.628475</td>\n",
       "    </tr>\n",
       "    <tr>\n",
       "      <th>33401</th>\n",
       "      <td>-28.336721</td>\n",
       "      <td>-28.340919</td>\n",
       "      <td>-28.332203</td>\n",
       "      <td>-28.340576</td>\n",
       "      <td>-28.336515</td>\n",
       "      <td>-28.347521</td>\n",
       "      <td>-28.335835</td>\n",
       "      <td>-28.352867</td>\n",
       "    </tr>\n",
       "  </tbody>\n",
       "</table>\n",
       "<p>33402 rows × 8 columns</p>\n",
       "</div>"
      ],
      "text/plain": [
       "            Eref        Ens     Model1     Model2     Model3     Model4  \\\n",
       "0     -30.302610 -30.303969 -30.304491 -30.304039 -30.303816 -30.302113   \n",
       "1     -29.555629 -29.556528 -29.553324 -29.556776 -29.560293 -29.550920   \n",
       "2     -28.771974 -28.771562 -28.760334 -28.771938 -28.784126 -28.766819   \n",
       "3     -28.264171 -28.267426 -28.245617 -28.263954 -28.294741 -28.272991   \n",
       "4     -28.074606 -28.091652 -28.057587 -28.087101 -28.126707 -28.107737   \n",
       "...          ...        ...        ...        ...        ...        ...   \n",
       "33397 -29.668227 -29.669304 -29.667955 -29.669159 -29.670647 -29.668480   \n",
       "33398 -29.431993 -29.432835 -29.433363 -29.432831 -29.431156 -29.433653   \n",
       "33399 -29.002758 -29.006098 -29.007973 -29.004765 -29.003111 -29.010780   \n",
       "33400 -28.620107 -28.628448 -28.628874 -28.625696 -28.629385 -28.635044   \n",
       "33401 -28.336721 -28.340919 -28.332203 -28.340576 -28.336515 -28.347521   \n",
       "\n",
       "          Model5     Model6  \n",
       "0     -30.304005 -30.305349  \n",
       "1     -29.560108 -29.557745  \n",
       "2     -28.775587 -28.770569  \n",
       "3     -28.266968 -28.260286  \n",
       "4     -28.098137 -28.072643  \n",
       "...          ...        ...  \n",
       "33397 -29.672123 -29.667458  \n",
       "33398 -29.436811 -29.429195  \n",
       "33399 -29.007494 -29.002464  \n",
       "33400 -28.623213 -28.628475  \n",
       "33401 -28.335835 -28.352867  \n",
       "\n",
       "[33402 rows x 8 columns]"
      ]
     },
     "execution_count": 3,
     "metadata": {},
     "output_type": "execute_result"
    }
   ],
   "source": [
    "df"
   ]
  },
  {
   "cell_type": "code",
   "execution_count": 4,
   "id": "1fc07a8f-86d7-4d37-9a68-bb565691d1ef",
   "metadata": {
    "tags": []
   },
   "outputs": [],
   "source": [
    "# from ff_energy.uncertainty.plotter import corrfunc\n",
    "    \n",
    "# graph = sns.pairplot(df, x_vars=[\"Ens\", \"Model1\", \"Model2\", \"Model3\", \"Model4\", \"Model5\", \"Model6\", ], \n",
    "#                      y_vars=[\"Eref\"], palette=\"husl\", plot_kws={\"alpha\": 0.2});\n",
    "# graph.map(corrfunc)"
   ]
  },
  {
   "cell_type": "code",
   "execution_count": null,
   "id": "beb0aeab-bfbb-40d3-9c4c-bf6e796eaa90",
   "metadata": {
    "tags": []
   },
   "outputs": [
    {
     "name": "stderr",
     "output_type": "stream",
     "text": [
      "No GPU/TPU found, falling back to CPU. (Set TF_CPP_MIN_LOG_LEVEL=0 and rerun for more info.)\n"
     ]
    },
    {
     "name": "stdout",
     "output_type": "stream",
     "text": [
      "X (33402, 13)\n",
      "y (33402,)\n",
      "residuals (33402,)\n",
      "std ()\n",
      "test_std (6681,)\n",
      "train_std (26721,)\n",
      "y_train (26721,)\n",
      "y_test (6681,)\n",
      "y_pred (26721,)\n",
      "y_test_pred (6681,)\n",
      "X_train (26721,)\n",
      "X_test (6681,)\n",
      "test_preds (6681, 1)\n",
      "test_uncertainties (6681, 1)\n",
      "val_preds (26721, 1)\n",
      "val_uncertainties (26721, 1)\n",
      "val_targets (26721, 1)\n"
     ]
    },
    {
     "name": "stderr",
     "output_type": "stream",
     "text": [
      "sample:  73%|██████████████████████████████████████████████████████████████████████████████████████                                | 1459/2000 [02:38<00:51, 10.47it/s, 127 steps of size 2.99e-02. acc. prob=0.92]"
     ]
    }
   ],
   "source": [
    "uq_ = UncertaintyQuantifier(df)"
   ]
  },
  {
   "cell_type": "code",
   "execution_count": null,
   "id": "80e211b4-6f5d-4e03-aceb-ec2ddcad08ba",
   "metadata": {},
   "outputs": [],
   "source": [
    "uq_.conformal_uncertainty"
   ]
  },
  {
   "cell_type": "code",
   "execution_count": null,
   "id": "5ad9f0eb-2e62-4c1b-a883-988db56ca35a",
   "metadata": {},
   "outputs": [],
   "source": [
    "uq_.output_dict"
   ]
  },
  {
   "cell_type": "code",
   "execution_count": null,
   "id": "1b8b2972-c4fe-4c2c-85a5-46dd2c4dc9ee",
   "metadata": {},
   "outputs": [],
   "source": [
    "uq_"
   ]
  },
  {
   "cell_type": "code",
   "execution_count": null,
   "id": "0f6ce760-4258-4d8c-87d6-e047b3c5aee9",
   "metadata": {},
   "outputs": [],
   "source": [
    "\n"
   ]
  },
  {
   "cell_type": "code",
   "execution_count": null,
   "id": "a089275c-9287-41c3-aa32-324a9c257b65",
   "metadata": {},
   "outputs": [],
   "source": []
  }
 ],
 "metadata": {
  "kernelspec": {
   "display_name": "Python 3 (ipykernel)",
   "language": "python",
   "name": "python3"
  },
  "language_info": {
   "codemirror_mode": {
    "name": "ipython",
    "version": 3
   },
   "file_extension": ".py",
   "mimetype": "text/x-python",
   "name": "python",
   "nbconvert_exporter": "python",
   "pygments_lexer": "ipython3",
   "version": "3.8.16"
  }
 },
 "nbformat": 4,
 "nbformat_minor": 5
}
