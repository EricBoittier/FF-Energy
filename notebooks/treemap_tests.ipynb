{
 "cells": [
  {
   "cell_type": "code",
   "execution_count": 213,
   "id": "f6d7e709-8fcd-4f8b-8864-a27240d31607",
   "metadata": {},
   "outputs": [],
   "source": [
    "# import matplotlib.pyplot as plt\n",
    "# import squarify\n",
    "# import pandas as pd\n",
    "\n",
    "# # Example data\n",
    "# sizes = [500, 250, 150, 100, 50]\n",
    "# labels = [\"A\", \"B\", \"C\", \"D\", \"E\"]\n",
    "# colors = ['#FF5733', '#FFC300', '#C70039', '#900C3F', '#581845']\n",
    "\n",
    "# # Create treemap\n",
    "# squarify.plot(sizes=sizes, label=labels, color=colors, alpha=0.7)\n",
    "\n",
    "# # Configure plot\n",
    "# plt.axis('off')\n",
    "# plt.title('Treemap Plot', fontsize=16, fontweight='bold')\n",
    "\n",
    "# # Add color legend\n",
    "# color_patches = [plt.Rectangle((0, 0), 1, 1, color=color) for color in colors]\n",
    "# plt.legend(color_patches, labels, loc='center left', bbox_to_anchor=(1, 0.5))\n",
    "\n",
    "# # Display plot\n",
    "# plt.show()\n",
    "\n",
    "FONTSIZE = 30\n"
   ]
  },
  {
   "cell_type": "code",
   "execution_count": null,
   "id": "73559b01-e8db-4713-aa04-9ecbc0f988ae",
   "metadata": {},
   "outputs": [],
   "source": [
    "from pathlib import Path\n",
    "\n",
    "import pandas as pd\n",
    "import scikit_posthocs as sp\n",
    "import seaborn as sns\n",
    "import matplotlib.pyplot as plt\n",
    "\n",
    "from ff_energy.ffe.plot import plot_energy_MSE, plot_ff_fit\n",
    "from ff_energy.ffe.structure import atom_key_pairs\n",
    "from ff_energy.ffe.potential import LJ, akp_indx\n",
    "from ff_energy.ffe.ff import FF\n",
    "from ff_energy.ffe.ff_fit import LJ_bound, load_ff, fit_func, fit_repeat\n",
    "from ff_energy.ffe.data import pairs_data, Data\n",
    "from ff_energy.ffe.utils import pickle_output, PKL_PATH, read_from_pickle, str2int\n",
    "\n",
    "\n",
    "\n",
    "next(read_from_pickle(\"data_pc_pbe0.obj.pkl\"))"
   ]
  },
  {
   "cell_type": "code",
   "execution_count": null,
   "id": "cc9b9dcf-3c74-4fbc-b0f5-f2ad50af3cc2",
   "metadata": {},
   "outputs": [],
   "source": [
    "p = PKL_PATH / \"water_cluster/pbe0dz/pbe0_dz.kmdcm\"\n",
    "data_ = Data(p)"
   ]
  },
  {
   "cell_type": "code",
   "execution_count": 214,
   "id": "0dd54ffd-9630-4a0c-bc4a-023c7d4cd8a0",
   "metadata": {},
   "outputs": [],
   "source": [
    "import plotly.express as px\n",
    "import plotly \n",
    "fig = px.treemap(\n",
    "    names = [\"Eve\",\"Cain\", \"Seth\", \"Enos\", \"Noam\", \"Abel\", \"Awan\", \"Enoch\", \"Azura\"],\n",
    "    parents = [\"\", \"Eve\", \"Eve\", \"Seth\", \"Seth\", \"Eve\", \"Eve\", \"Awan\", \"Eve\"]\n",
    ")\n",
    "fig.update_traces(root_color=\"lightgrey\")\n",
    "fig.update_layout(margin = dict(t=50, l=25, r=25, b=25))\n",
    "\n",
    "\n",
    "\n",
    "\n",
    "# plotly.offline.plot(fig, filename='plotly_test.png')\n",
    "fig.write_image(\"plotly_test.png\")"
   ]
  },
  {
   "cell_type": "code",
   "execution_count": 215,
   "id": "8504f956-b4c3-406e-ad95-fdb731b5ddbb",
   "metadata": {},
   "outputs": [],
   "source": [
    "import numpy as np\n",
    "df = px.data.gapminder().query(\"year == 2007\")\n",
    "fig = px.treemap(df, path=[px.Constant(\"world\"), 'continent', 'country'], values='pop',\n",
    "                  color='lifeExp', hover_data=['iso_alpha'],\n",
    "                  color_continuous_scale='RdBu',\n",
    "                  color_continuous_midpoint=np.average(df['lifeExp'], weights=df['pop']))\n",
    "fig.update_layout(margin = dict(t=50, l=25, r=25, b=25))\n",
    "fig.write_image(\"plotly_test.png\")"
   ]
  },
  {
   "cell_type": "code",
   "execution_count": 216,
   "id": "8aff0f21-5bd6-404b-a01f-24a2b3f481bc",
   "metadata": {},
   "outputs": [],
   "source": [
    "ECOL = \"Coulomb term\"\n",
    "LJ = \"Pair potential term\"\n",
    "intE = \"Interaction Energy\""
   ]
  },
  {
   "cell_type": "code",
   "execution_count": 217,
   "id": "e0873fc1-e727-48c6-8c88-094c7e8dd6dc",
   "metadata": {},
   "outputs": [
    {
     "data": {
      "text/html": [
       "<div>\n",
       "<style scoped>\n",
       "    .dataframe tbody tr th:only-of-type {\n",
       "        vertical-align: middle;\n",
       "    }\n",
       "\n",
       "    .dataframe tbody tr th {\n",
       "        vertical-align: top;\n",
       "    }\n",
       "\n",
       "    .dataframe thead th {\n",
       "        text-align: right;\n",
       "    }\n",
       "</style>\n",
       "<table border=\"1\" class=\"dataframe\">\n",
       "  <thead>\n",
       "    <tr style=\"text-align: right;\">\n",
       "      <th></th>\n",
       "      <th>method</th>\n",
       "      <th>type</th>\n",
       "      <th>error</th>\n",
       "      <th>value</th>\n",
       "    </tr>\n",
       "  </thead>\n",
       "  <tbody>\n",
       "    <tr>\n",
       "      <th>0</th>\n",
       "      <td>Coulomb term</td>\n",
       "      <td></td>\n",
       "      <td>ECOL</td>\n",
       "      <td>119</td>\n",
       "    </tr>\n",
       "    <tr>\n",
       "      <th>1</th>\n",
       "      <td>Coulomb term</td>\n",
       "      <td></td>\n",
       "      <td></td>\n",
       "      <td>11</td>\n",
       "    </tr>\n",
       "    <tr>\n",
       "      <th>2</th>\n",
       "      <td>Pair potential term</td>\n",
       "      <td></td>\n",
       "      <td>LJ</td>\n",
       "      <td>50</td>\n",
       "    </tr>\n",
       "    <tr>\n",
       "      <th>3</th>\n",
       "      <td>Pair potential term</td>\n",
       "      <td></td>\n",
       "      <td></td>\n",
       "      <td>4</td>\n",
       "    </tr>\n",
       "    <tr>\n",
       "      <th>4</th>\n",
       "      <td>Interaction Energy</td>\n",
       "      <td></td>\n",
       "      <td>intE</td>\n",
       "      <td>55</td>\n",
       "    </tr>\n",
       "    <tr>\n",
       "      <th>5</th>\n",
       "      <td>Interaction Energy</td>\n",
       "      <td></td>\n",
       "      <td></td>\n",
       "      <td>4</td>\n",
       "    </tr>\n",
       "  </tbody>\n",
       "</table>\n",
       "</div>"
      ],
      "text/plain": [
       "                method type error  value\n",
       "0         Coulomb term       ECOL    119\n",
       "1         Coulomb term                11\n",
       "2  Pair potential term         LJ     50\n",
       "3  Pair potential term                 4\n",
       "4   Interaction Energy       intE     55\n",
       "5   Interaction Energy                 4"
      ]
     },
     "execution_count": 217,
     "metadata": {},
     "output_type": "execute_result"
    }
   ],
   "source": [
    "df = pd.DataFrame({ \"method\": [ECOL, ECOL, LJ, LJ, intE, intE],\n",
    "            \"type\": [\" \", \"\", \" \", \"\", \" \", \"\"],\n",
    "            \"error\": [\"ECOL\", \"\", \"LJ\", \"\", \"intE\", \"\"],\n",
    "     \"value\": [130 - 11, 11, 54 - 4, 4, 59 - 4, 4],\n",
    "     })\n",
    "df"
   ]
  },
  {
   "cell_type": "code",
   "execution_count": 218,
   "id": "c988e68a-1ba2-4af2-ad14-e8f83383adcd",
   "metadata": {},
   "outputs": [],
   "source": [
    "fig = px.treemap(df, \n",
    "                 path=[px.Constant(\"Energy (Interaction = Couloumb + Lennard-Jones)\"), 'method', \"type\",], \n",
    "                 values=\"value\",\n",
    "                color='error',\n",
    "                 color_discrete_map={'(?)':'#ffffff', \n",
    "                                     '': '#5c5c5c', \n",
    "                                     'ECOL':'#f7c1be', \n",
    "                                     'LJ':'#bec6f7',\n",
    "                                    \"intE\": '#debef7'}\n",
    "                # root_color=\"lightgrey\"\n",
    "                )\n",
    "\n",
    "fig.update_traces(marker=dict(cornerradius=5))\n",
    "\n",
    "fig.update_layout(\n",
    "    font_family=\"Arial\",\n",
    "    # font_color=\"blue\",\n",
    "    # title_font_family=\"Times New Roman\",\n",
    "    # title_font_color=\"red\",\n",
    "    # legend_title_font_color=\"green\"\n",
    ")\n",
    "\n",
    "fig.write_image(\"plotly_test.png\")"
   ]
  },
  {
   "cell_type": "code",
   "execution_count": 219,
   "id": "9bc869eb-0055-4f16-96c5-24d6563ab100",
   "metadata": {},
   "outputs": [
    {
     "data": {
      "text/html": [
       "<div>\n",
       "<style scoped>\n",
       "    .dataframe tbody tr th:only-of-type {\n",
       "        vertical-align: middle;\n",
       "    }\n",
       "\n",
       "    .dataframe tbody tr th {\n",
       "        vertical-align: top;\n",
       "    }\n",
       "\n",
       "    .dataframe thead th {\n",
       "        text-align: right;\n",
       "    }\n",
       "</style>\n",
       "<table border=\"1\" class=\"dataframe\">\n",
       "  <thead>\n",
       "    <tr style=\"text-align: right;\">\n",
       "      <th></th>\n",
       "      <th>method</th>\n",
       "      <th>type</th>\n",
       "      <th>error</th>\n",
       "      <th>value</th>\n",
       "    </tr>\n",
       "  </thead>\n",
       "  <tbody>\n",
       "    <tr>\n",
       "      <th>0</th>\n",
       "      <td>Coulomb term</td>\n",
       "      <td></td>\n",
       "      <td>ECOL</td>\n",
       "      <td>70</td>\n",
       "    </tr>\n",
       "    <tr>\n",
       "      <th>1</th>\n",
       "      <td>Coulomb term</td>\n",
       "      <td></td>\n",
       "      <td></td>\n",
       "      <td>60</td>\n",
       "    </tr>\n",
       "    <tr>\n",
       "      <th>2</th>\n",
       "      <td>Pair potential term</td>\n",
       "      <td></td>\n",
       "      <td>LJ</td>\n",
       "      <td>48</td>\n",
       "    </tr>\n",
       "    <tr>\n",
       "      <th>3</th>\n",
       "      <td>Pair potential term</td>\n",
       "      <td></td>\n",
       "      <td></td>\n",
       "      <td>6</td>\n",
       "    </tr>\n",
       "    <tr>\n",
       "      <th>4</th>\n",
       "      <td>Interaction Energy</td>\n",
       "      <td></td>\n",
       "      <td>intE</td>\n",
       "      <td>53</td>\n",
       "    </tr>\n",
       "    <tr>\n",
       "      <th>5</th>\n",
       "      <td>Interaction Energy</td>\n",
       "      <td></td>\n",
       "      <td></td>\n",
       "      <td>6</td>\n",
       "    </tr>\n",
       "  </tbody>\n",
       "</table>\n",
       "</div>"
      ],
      "text/plain": [
       "                method type error  value\n",
       "0         Coulomb term       ECOL     70\n",
       "1         Coulomb term                60\n",
       "2  Pair potential term         LJ     48\n",
       "3  Pair potential term                 6\n",
       "4   Interaction Energy       intE     53\n",
       "5   Interaction Energy                 6"
      ]
     },
     "execution_count": 219,
     "metadata": {},
     "output_type": "execute_result"
    }
   ],
   "source": [
    "df = pd.DataFrame({ \"method\": [ECOL, ECOL, LJ, LJ, intE, intE],\n",
    "            \"type\": [\" \", \"\", \" \", \"\", \" \", \"\"],\n",
    "            \"error\": [\"ECOL\", \"\", \"LJ\", \"\", \"intE\", \"\"],\n",
    "     \"value\": [130 - 60, 60, 54 - 6, 6, 59 - 6, 6],\n",
    "     })\n",
    "df"
   ]
  },
  {
   "cell_type": "code",
   "execution_count": 220,
   "id": "d1ebc041-aad1-453a-9d73-4a94ffe93daf",
   "metadata": {},
   "outputs": [],
   "source": [
    "fig = px.treemap(df, \n",
    "                 path=[px.Constant(\"(PC)\\nEnergy Function + Relative Errors\"), 'method', \"type\",], \n",
    "                 values=\"value\",\n",
    "                color='error',\n",
    "                 color_discrete_map={'(?)':'#ffffff', \n",
    "                                     '': '#5c5c5c', \n",
    "                                     'ECOL':'#f7c1be', \n",
    "                                     'LJ':'#bec6f7',\n",
    "                                    \"intE\": '#debef7'}\n",
    "                )\n",
    "\n",
    "fig.update_traces(marker=dict(cornerradius=5))\n",
    "fig.update_layout(\n",
    "    font=dict(\n",
    "        family=\"Arial, monospace\",\n",
    "        size=FONTSIZE,  # Set the font size here\n",
    "        color=\"RebeccaPurple\"\n",
    "    )\n",
    ")\n",
    "fig.update_layout(margin = dict(t=1, l=1, r=1, b=1))\n",
    "\n",
    "fig.write_image(\"pc_LJ_DE.png\")"
   ]
  },
  {
   "cell_type": "code",
   "execution_count": null,
   "id": "8ca92c78-86f6-4602-a752-936d72976550",
   "metadata": {},
   "outputs": [],
   "source": [
    "130"
   ]
  },
  {
   "cell_type": "code",
   "execution_count": 221,
   "id": "99c3a7fa-b27c-4491-83a6-14aa9d556c60",
   "metadata": {},
   "outputs": [
    {
     "data": {
      "text/html": [
       "<div>\n",
       "<style scoped>\n",
       "    .dataframe tbody tr th:only-of-type {\n",
       "        vertical-align: middle;\n",
       "    }\n",
       "\n",
       "    .dataframe tbody tr th {\n",
       "        vertical-align: top;\n",
       "    }\n",
       "\n",
       "    .dataframe thead th {\n",
       "        text-align: right;\n",
       "    }\n",
       "</style>\n",
       "<table border=\"1\" class=\"dataframe\">\n",
       "  <thead>\n",
       "    <tr style=\"text-align: right;\">\n",
       "      <th></th>\n",
       "      <th>method</th>\n",
       "      <th>type</th>\n",
       "      <th>error</th>\n",
       "      <th>value</th>\n",
       "    </tr>\n",
       "  </thead>\n",
       "  <tbody>\n",
       "    <tr>\n",
       "      <th>0</th>\n",
       "      <td>Coulomb term</td>\n",
       "      <td></td>\n",
       "      <td>ECOL</td>\n",
       "      <td>78</td>\n",
       "    </tr>\n",
       "    <tr>\n",
       "      <th>1</th>\n",
       "      <td>Coulomb term</td>\n",
       "      <td></td>\n",
       "      <td></td>\n",
       "      <td>52</td>\n",
       "    </tr>\n",
       "    <tr>\n",
       "      <th>2</th>\n",
       "      <td>Pair potential term</td>\n",
       "      <td></td>\n",
       "      <td>LJ</td>\n",
       "      <td>50</td>\n",
       "    </tr>\n",
       "    <tr>\n",
       "      <th>3</th>\n",
       "      <td>Pair potential term</td>\n",
       "      <td></td>\n",
       "      <td></td>\n",
       "      <td>4</td>\n",
       "    </tr>\n",
       "    <tr>\n",
       "      <th>4</th>\n",
       "      <td>Interaction Energy</td>\n",
       "      <td></td>\n",
       "      <td>intE</td>\n",
       "      <td>55</td>\n",
       "    </tr>\n",
       "    <tr>\n",
       "      <th>5</th>\n",
       "      <td>Interaction Energy</td>\n",
       "      <td></td>\n",
       "      <td></td>\n",
       "      <td>4</td>\n",
       "    </tr>\n",
       "  </tbody>\n",
       "</table>\n",
       "</div>"
      ],
      "text/plain": [
       "                method type error  value\n",
       "0         Coulomb term       ECOL     78\n",
       "1         Coulomb term                52\n",
       "2  Pair potential term         LJ     50\n",
       "3  Pair potential term                 4\n",
       "4   Interaction Energy       intE     55\n",
       "5   Interaction Energy                 4"
      ]
     },
     "execution_count": 221,
     "metadata": {},
     "output_type": "execute_result"
    }
   ],
   "source": [
    "df = pd.DataFrame({ \"method\": [ECOL, ECOL, LJ, LJ, intE, intE],\n",
    "            \"type\": [\" \", \"\", \" \", \"\", \" \", \"\"],\n",
    "            \"error\": [\"ECOL\", \"\", \"LJ\", \"\", \"intE\", \"\"],\n",
    "     \"value\": [130 - 52, 52, 54 - 4, 4, 59 - 4, 4],\n",
    "     })\n",
    "df"
   ]
  },
  {
   "cell_type": "code",
   "execution_count": 222,
   "id": "2848f6da-6b9e-4fc1-b6fe-260159314493",
   "metadata": {},
   "outputs": [],
   "source": [
    "fig = px.treemap(df, \n",
    "                 path=[px.Constant(\"(k-MDCM)\\nEnergy Function + Relative Errors\"), 'method', \"type\",], \n",
    "                 values=\"value\",\n",
    "                color='error',\n",
    "                 color_discrete_map={'(?)':'#ffffff', \n",
    "                                     '': '#5c5c5c', \n",
    "                                     'ECOL':'#f7c1be', \n",
    "                                     'LJ':'#bec6f7',\n",
    "                                    \"intE\": '#debef7'}\n",
    "                )\n",
    "\n",
    "fig.update_traces(marker=dict(cornerradius=5))\n",
    "fig.update_layout(\n",
    "    font=dict(\n",
    "        family=\"Arial, monospace\",\n",
    "        size=FONTSIZE,  # Set the font size here\n",
    "        color=\"RebeccaPurple\"\n",
    "    )\n",
    ")\n",
    "\n",
    "\n",
    "fig.update_layout(margin = dict(t=1, l=1, r=1, b=1))\n",
    "\n",
    "fig.write_image(\"kmdcm_LJ_DE.png\")"
   ]
  },
  {
   "cell_type": "code",
   "execution_count": 6,
   "id": "3083f839-e310-49a1-9a5d-9f10146834ae",
   "metadata": {},
   "outputs": [
    {
     "data": {
      "text/plain": [
       "24.074074074074073"
      ]
     },
     "execution_count": 6,
     "metadata": {},
     "output_type": "execute_result"
    }
   ],
   "source": [
    "#  normal coulomb pc\n",
    "# 14*100/130\n",
    "13*100/54"
   ]
  },
  {
   "cell_type": "code",
   "execution_count": 232,
   "id": "fc378245-c210-4a42-8ed5-daace7f4d8d4",
   "metadata": {},
   "outputs": [
    {
     "data": {
      "text/html": [
       "<div>\n",
       "<style scoped>\n",
       "    .dataframe tbody tr th:only-of-type {\n",
       "        vertical-align: middle;\n",
       "    }\n",
       "\n",
       "    .dataframe tbody tr th {\n",
       "        vertical-align: top;\n",
       "    }\n",
       "\n",
       "    .dataframe thead th {\n",
       "        text-align: right;\n",
       "    }\n",
       "</style>\n",
       "<table border=\"1\" class=\"dataframe\">\n",
       "  <thead>\n",
       "    <tr style=\"text-align: right;\">\n",
       "      <th></th>\n",
       "      <th>method</th>\n",
       "      <th>type</th>\n",
       "      <th>error</th>\n",
       "      <th>value</th>\n",
       "    </tr>\n",
       "  </thead>\n",
       "  <tbody>\n",
       "    <tr>\n",
       "      <th>0</th>\n",
       "      <td>Coulomb term</td>\n",
       "      <td></td>\n",
       "      <td>ECOL</td>\n",
       "      <td>116</td>\n",
       "    </tr>\n",
       "    <tr>\n",
       "      <th>1</th>\n",
       "      <td>Coulomb term</td>\n",
       "      <td></td>\n",
       "      <td></td>\n",
       "      <td>14</td>\n",
       "    </tr>\n",
       "    <tr>\n",
       "      <th>2</th>\n",
       "      <td>Pair potential term</td>\n",
       "      <td></td>\n",
       "      <td>LJ</td>\n",
       "      <td>41</td>\n",
       "    </tr>\n",
       "    <tr>\n",
       "      <th>3</th>\n",
       "      <td>Pair potential term</td>\n",
       "      <td></td>\n",
       "      <td></td>\n",
       "      <td>13</td>\n",
       "    </tr>\n",
       "    <tr>\n",
       "      <th>4</th>\n",
       "      <td>Interaction Energy</td>\n",
       "      <td></td>\n",
       "      <td>intE</td>\n",
       "      <td>46</td>\n",
       "    </tr>\n",
       "    <tr>\n",
       "      <th>5</th>\n",
       "      <td>Interaction Energy</td>\n",
       "      <td></td>\n",
       "      <td></td>\n",
       "      <td>13</td>\n",
       "    </tr>\n",
       "  </tbody>\n",
       "</table>\n",
       "</div>"
      ],
      "text/plain": [
       "                method type error  value\n",
       "0         Coulomb term       ECOL    116\n",
       "1         Coulomb term                14\n",
       "2  Pair potential term         LJ     41\n",
       "3  Pair potential term                13\n",
       "4   Interaction Energy       intE     46\n",
       "5   Interaction Energy                13"
      ]
     },
     "execution_count": 232,
     "metadata": {},
     "output_type": "execute_result"
    }
   ],
   "source": [
    "df = pd.DataFrame({ \"method\": [ECOL, ECOL, LJ, LJ, intE, intE],\n",
    "            \"type\": [\" \", \"\", \" \", \"\", \" \", \"\"],\n",
    "            \"error\": [\"ECOL\", \"\", \"LJ\", \"\", \"intE\", \"\"],\n",
    "     \"value\": [130 - 14, 14, 54 - 13, 13, 59 - 13, 13],\n",
    "     })\n",
    "df"
   ]
  },
  {
   "cell_type": "code",
   "execution_count": 236,
   "id": "eb0fde55-ae09-4670-a24a-bcf5b4ea018c",
   "metadata": {},
   "outputs": [],
   "source": [
    "fig = px.treemap(df, \n",
    "                 path=[px.Constant(\"(PC + CC)\\nEnergy Function + Relative Errors\"), 'method', \"type\",], \n",
    "                 values=\"value\",\n",
    "                color='error',\n",
    "                 color_discrete_map={'(?)':'#ffffff', \n",
    "                                     '': '#5c5c5c', \n",
    "                                     'ECOL':'#f7c1be', \n",
    "                                     'LJ':'#bec6f7',\n",
    "                                    \"intE\": '#debef7'}\n",
    "                # root_color=\"lightgrey\"\n",
    "                )\n",
    "fig.update_traces(marker=dict(cornerradius=5))\n",
    "fig.update_layout(\n",
    "    font=dict(\n",
    "        family=\"Arial, monospace\",\n",
    "        size=FONTSIZE,  # Set the font size here\n",
    "        color=\"RebeccaPurple\"\n",
    "    )\n",
    ")\n",
    "fig.update_layout(margin = dict(t=1, l=1, r=1, b=1))\n",
    "fig.write_image(\"pc_coulomb.png\")"
   ]
  },
  {
   "cell_type": "code",
   "execution_count": 228,
   "id": "5129efcc-5af5-4e00-b631-58c1be17476a",
   "metadata": {},
   "outputs": [
    {
     "data": {
      "text/html": [
       "<div>\n",
       "<style scoped>\n",
       "    .dataframe tbody tr th:only-of-type {\n",
       "        vertical-align: middle;\n",
       "    }\n",
       "\n",
       "    .dataframe tbody tr th {\n",
       "        vertical-align: top;\n",
       "    }\n",
       "\n",
       "    .dataframe thead th {\n",
       "        text-align: right;\n",
       "    }\n",
       "</style>\n",
       "<table border=\"1\" class=\"dataframe\">\n",
       "  <thead>\n",
       "    <tr style=\"text-align: right;\">\n",
       "      <th></th>\n",
       "      <th>method</th>\n",
       "      <th>type</th>\n",
       "      <th>error</th>\n",
       "      <th>value</th>\n",
       "    </tr>\n",
       "  </thead>\n",
       "  <tbody>\n",
       "    <tr>\n",
       "      <th>0</th>\n",
       "      <td>Coulomb term</td>\n",
       "      <td></td>\n",
       "      <td>ECOL</td>\n",
       "      <td>70</td>\n",
       "    </tr>\n",
       "    <tr>\n",
       "      <th>1</th>\n",
       "      <td>Coulomb term</td>\n",
       "      <td></td>\n",
       "      <td></td>\n",
       "      <td>60</td>\n",
       "    </tr>\n",
       "    <tr>\n",
       "      <th>2</th>\n",
       "      <td>Pair potential term</td>\n",
       "      <td></td>\n",
       "      <td>LJ</td>\n",
       "      <td>48</td>\n",
       "    </tr>\n",
       "    <tr>\n",
       "      <th>3</th>\n",
       "      <td>Pair potential term</td>\n",
       "      <td></td>\n",
       "      <td></td>\n",
       "      <td>6</td>\n",
       "    </tr>\n",
       "    <tr>\n",
       "      <th>4</th>\n",
       "      <td>Interaction Energy</td>\n",
       "      <td></td>\n",
       "      <td>intE</td>\n",
       "      <td>53</td>\n",
       "    </tr>\n",
       "    <tr>\n",
       "      <th>5</th>\n",
       "      <td>Interaction Energy</td>\n",
       "      <td></td>\n",
       "      <td></td>\n",
       "      <td>6</td>\n",
       "    </tr>\n",
       "  </tbody>\n",
       "</table>\n",
       "</div>"
      ],
      "text/plain": [
       "                method type error  value\n",
       "0         Coulomb term       ECOL     70\n",
       "1         Coulomb term                60\n",
       "2  Pair potential term         LJ     48\n",
       "3  Pair potential term                 6\n",
       "4   Interaction Energy       intE     53\n",
       "5   Interaction Energy                 6"
      ]
     },
     "execution_count": 228,
     "metadata": {},
     "output_type": "execute_result"
    }
   ],
   "source": [
    "\n",
    "df = pd.DataFrame({ \"method\": [ECOL, ECOL, LJ, LJ, intE, intE],\n",
    "            \"type\": [\" \", \"\", \" \", \"\", \" \", \"\"],\n",
    "            \"error\": [\"ECOL\", \"\", \"LJ\", \"\", \"intE\", \"\"],\n",
    "     \"value\": [130 - 60, 60, 54 - 6, 6, 59 - 6, 6],\n",
    "     })\n",
    "df"
   ]
  },
  {
   "cell_type": "code",
   "execution_count": 229,
   "id": "525f4d5c-f2b4-4eee-8248-d30d3627e9d7",
   "metadata": {},
   "outputs": [
    {
     "data": {
      "application/vnd.plotly.v1+json": {
       "config": {
        "plotlyServerURL": "https://plot.ly"
       },
       "data": [
        {
         "branchvalues": "total",
         "customdata": [
          [
           ""
          ],
          [
           "ECOL"
          ],
          [
           "LJ"
          ],
          [
           ""
          ],
          [
           ""
          ],
          [
           "intE"
          ],
          [
           "(?)"
          ],
          [
           "(?)"
          ],
          [
           "(?)"
          ],
          [
           "(?)"
          ]
         ],
         "domain": {
          "x": [
           0,
           1
          ],
          "y": [
           0,
           1
          ]
         },
         "hovertemplate": "labels=%{label}<br>value=%{value}<br>parent=%{parent}<br>id=%{id}<br>error=%{customdata[0]}<extra></extra>",
         "ids": [
          "(Coulomb Integral)\nEnergy Function + Relative Errors/Interaction Energy/",
          "(Coulomb Integral)\nEnergy Function + Relative Errors/Coulomb term/ ",
          "(Coulomb Integral)\nEnergy Function + Relative Errors/Pair potential term/ ",
          "(Coulomb Integral)\nEnergy Function + Relative Errors/Coulomb term/",
          "(Coulomb Integral)\nEnergy Function + Relative Errors/Pair potential term/",
          "(Coulomb Integral)\nEnergy Function + Relative Errors/Interaction Energy/ ",
          "(Coulomb Integral)\nEnergy Function + Relative Errors/Coulomb term",
          "(Coulomb Integral)\nEnergy Function + Relative Errors/Interaction Energy",
          "(Coulomb Integral)\nEnergy Function + Relative Errors/Pair potential term",
          "(Coulomb Integral)\nEnergy Function + Relative Errors"
         ],
         "labels": [
          "",
          " ",
          " ",
          "",
          "",
          " ",
          "Coulomb term",
          "Interaction Energy",
          "Pair potential term",
          "(Coulomb Integral)\nEnergy Function + Relative Errors"
         ],
         "marker": {
          "colors": [
           "#5c5c5c",
           "#f7c1be",
           "#bec6f7",
           "#5c5c5c",
           "#5c5c5c",
           "#debef7",
           "#ffffff",
           "#ffffff",
           "#ffffff",
           "#ffffff"
          ],
          "cornerradius": 5
         },
         "name": "",
         "parents": [
          "(Coulomb Integral)\nEnergy Function + Relative Errors/Interaction Energy",
          "(Coulomb Integral)\nEnergy Function + Relative Errors/Coulomb term",
          "(Coulomb Integral)\nEnergy Function + Relative Errors/Pair potential term",
          "(Coulomb Integral)\nEnergy Function + Relative Errors/Coulomb term",
          "(Coulomb Integral)\nEnergy Function + Relative Errors/Pair potential term",
          "(Coulomb Integral)\nEnergy Function + Relative Errors/Interaction Energy",
          "(Coulomb Integral)\nEnergy Function + Relative Errors",
          "(Coulomb Integral)\nEnergy Function + Relative Errors",
          "(Coulomb Integral)\nEnergy Function + Relative Errors",
          ""
         ],
         "type": "treemap",
         "values": [
          6,
          70,
          48,
          60,
          6,
          53,
          130,
          59,
          54,
          243
         ]
        }
       ],
       "layout": {
        "font": {
         "color": "RebeccaPurple",
         "family": "Arial, monospace",
         "size": 30
        },
        "legend": {
         "tracegroupgap": 0
        },
        "margin": {
         "b": 1,
         "l": 1,
         "r": 1,
         "t": 1
        },
        "template": {
         "data": {
          "bar": [
           {
            "error_x": {
             "color": "#2a3f5f"
            },
            "error_y": {
             "color": "#2a3f5f"
            },
            "marker": {
             "line": {
              "color": "#E5ECF6",
              "width": 0.5
             },
             "pattern": {
              "fillmode": "overlay",
              "size": 10,
              "solidity": 0.2
             }
            },
            "type": "bar"
           }
          ],
          "barpolar": [
           {
            "marker": {
             "line": {
              "color": "#E5ECF6",
              "width": 0.5
             },
             "pattern": {
              "fillmode": "overlay",
              "size": 10,
              "solidity": 0.2
             }
            },
            "type": "barpolar"
           }
          ],
          "carpet": [
           {
            "aaxis": {
             "endlinecolor": "#2a3f5f",
             "gridcolor": "white",
             "linecolor": "white",
             "minorgridcolor": "white",
             "startlinecolor": "#2a3f5f"
            },
            "baxis": {
             "endlinecolor": "#2a3f5f",
             "gridcolor": "white",
             "linecolor": "white",
             "minorgridcolor": "white",
             "startlinecolor": "#2a3f5f"
            },
            "type": "carpet"
           }
          ],
          "choropleth": [
           {
            "colorbar": {
             "outlinewidth": 0,
             "ticks": ""
            },
            "type": "choropleth"
           }
          ],
          "contour": [
           {
            "colorbar": {
             "outlinewidth": 0,
             "ticks": ""
            },
            "colorscale": [
             [
              0,
              "#0d0887"
             ],
             [
              0.1111111111111111,
              "#46039f"
             ],
             [
              0.2222222222222222,
              "#7201a8"
             ],
             [
              0.3333333333333333,
              "#9c179e"
             ],
             [
              0.4444444444444444,
              "#bd3786"
             ],
             [
              0.5555555555555556,
              "#d8576b"
             ],
             [
              0.6666666666666666,
              "#ed7953"
             ],
             [
              0.7777777777777778,
              "#fb9f3a"
             ],
             [
              0.8888888888888888,
              "#fdca26"
             ],
             [
              1,
              "#f0f921"
             ]
            ],
            "type": "contour"
           }
          ],
          "contourcarpet": [
           {
            "colorbar": {
             "outlinewidth": 0,
             "ticks": ""
            },
            "type": "contourcarpet"
           }
          ],
          "heatmap": [
           {
            "colorbar": {
             "outlinewidth": 0,
             "ticks": ""
            },
            "colorscale": [
             [
              0,
              "#0d0887"
             ],
             [
              0.1111111111111111,
              "#46039f"
             ],
             [
              0.2222222222222222,
              "#7201a8"
             ],
             [
              0.3333333333333333,
              "#9c179e"
             ],
             [
              0.4444444444444444,
              "#bd3786"
             ],
             [
              0.5555555555555556,
              "#d8576b"
             ],
             [
              0.6666666666666666,
              "#ed7953"
             ],
             [
              0.7777777777777778,
              "#fb9f3a"
             ],
             [
              0.8888888888888888,
              "#fdca26"
             ],
             [
              1,
              "#f0f921"
             ]
            ],
            "type": "heatmap"
           }
          ],
          "heatmapgl": [
           {
            "colorbar": {
             "outlinewidth": 0,
             "ticks": ""
            },
            "colorscale": [
             [
              0,
              "#0d0887"
             ],
             [
              0.1111111111111111,
              "#46039f"
             ],
             [
              0.2222222222222222,
              "#7201a8"
             ],
             [
              0.3333333333333333,
              "#9c179e"
             ],
             [
              0.4444444444444444,
              "#bd3786"
             ],
             [
              0.5555555555555556,
              "#d8576b"
             ],
             [
              0.6666666666666666,
              "#ed7953"
             ],
             [
              0.7777777777777778,
              "#fb9f3a"
             ],
             [
              0.8888888888888888,
              "#fdca26"
             ],
             [
              1,
              "#f0f921"
             ]
            ],
            "type": "heatmapgl"
           }
          ],
          "histogram": [
           {
            "marker": {
             "pattern": {
              "fillmode": "overlay",
              "size": 10,
              "solidity": 0.2
             }
            },
            "type": "histogram"
           }
          ],
          "histogram2d": [
           {
            "colorbar": {
             "outlinewidth": 0,
             "ticks": ""
            },
            "colorscale": [
             [
              0,
              "#0d0887"
             ],
             [
              0.1111111111111111,
              "#46039f"
             ],
             [
              0.2222222222222222,
              "#7201a8"
             ],
             [
              0.3333333333333333,
              "#9c179e"
             ],
             [
              0.4444444444444444,
              "#bd3786"
             ],
             [
              0.5555555555555556,
              "#d8576b"
             ],
             [
              0.6666666666666666,
              "#ed7953"
             ],
             [
              0.7777777777777778,
              "#fb9f3a"
             ],
             [
              0.8888888888888888,
              "#fdca26"
             ],
             [
              1,
              "#f0f921"
             ]
            ],
            "type": "histogram2d"
           }
          ],
          "histogram2dcontour": [
           {
            "colorbar": {
             "outlinewidth": 0,
             "ticks": ""
            },
            "colorscale": [
             [
              0,
              "#0d0887"
             ],
             [
              0.1111111111111111,
              "#46039f"
             ],
             [
              0.2222222222222222,
              "#7201a8"
             ],
             [
              0.3333333333333333,
              "#9c179e"
             ],
             [
              0.4444444444444444,
              "#bd3786"
             ],
             [
              0.5555555555555556,
              "#d8576b"
             ],
             [
              0.6666666666666666,
              "#ed7953"
             ],
             [
              0.7777777777777778,
              "#fb9f3a"
             ],
             [
              0.8888888888888888,
              "#fdca26"
             ],
             [
              1,
              "#f0f921"
             ]
            ],
            "type": "histogram2dcontour"
           }
          ],
          "mesh3d": [
           {
            "colorbar": {
             "outlinewidth": 0,
             "ticks": ""
            },
            "type": "mesh3d"
           }
          ],
          "parcoords": [
           {
            "line": {
             "colorbar": {
              "outlinewidth": 0,
              "ticks": ""
             }
            },
            "type": "parcoords"
           }
          ],
          "pie": [
           {
            "automargin": true,
            "type": "pie"
           }
          ],
          "scatter": [
           {
            "fillpattern": {
             "fillmode": "overlay",
             "size": 10,
             "solidity": 0.2
            },
            "type": "scatter"
           }
          ],
          "scatter3d": [
           {
            "line": {
             "colorbar": {
              "outlinewidth": 0,
              "ticks": ""
             }
            },
            "marker": {
             "colorbar": {
              "outlinewidth": 0,
              "ticks": ""
             }
            },
            "type": "scatter3d"
           }
          ],
          "scattercarpet": [
           {
            "marker": {
             "colorbar": {
              "outlinewidth": 0,
              "ticks": ""
             }
            },
            "type": "scattercarpet"
           }
          ],
          "scattergeo": [
           {
            "marker": {
             "colorbar": {
              "outlinewidth": 0,
              "ticks": ""
             }
            },
            "type": "scattergeo"
           }
          ],
          "scattergl": [
           {
            "marker": {
             "colorbar": {
              "outlinewidth": 0,
              "ticks": ""
             }
            },
            "type": "scattergl"
           }
          ],
          "scattermapbox": [
           {
            "marker": {
             "colorbar": {
              "outlinewidth": 0,
              "ticks": ""
             }
            },
            "type": "scattermapbox"
           }
          ],
          "scatterpolar": [
           {
            "marker": {
             "colorbar": {
              "outlinewidth": 0,
              "ticks": ""
             }
            },
            "type": "scatterpolar"
           }
          ],
          "scatterpolargl": [
           {
            "marker": {
             "colorbar": {
              "outlinewidth": 0,
              "ticks": ""
             }
            },
            "type": "scatterpolargl"
           }
          ],
          "scatterternary": [
           {
            "marker": {
             "colorbar": {
              "outlinewidth": 0,
              "ticks": ""
             }
            },
            "type": "scatterternary"
           }
          ],
          "surface": [
           {
            "colorbar": {
             "outlinewidth": 0,
             "ticks": ""
            },
            "colorscale": [
             [
              0,
              "#0d0887"
             ],
             [
              0.1111111111111111,
              "#46039f"
             ],
             [
              0.2222222222222222,
              "#7201a8"
             ],
             [
              0.3333333333333333,
              "#9c179e"
             ],
             [
              0.4444444444444444,
              "#bd3786"
             ],
             [
              0.5555555555555556,
              "#d8576b"
             ],
             [
              0.6666666666666666,
              "#ed7953"
             ],
             [
              0.7777777777777778,
              "#fb9f3a"
             ],
             [
              0.8888888888888888,
              "#fdca26"
             ],
             [
              1,
              "#f0f921"
             ]
            ],
            "type": "surface"
           }
          ],
          "table": [
           {
            "cells": {
             "fill": {
              "color": "#EBF0F8"
             },
             "line": {
              "color": "white"
             }
            },
            "header": {
             "fill": {
              "color": "#C8D4E3"
             },
             "line": {
              "color": "white"
             }
            },
            "type": "table"
           }
          ]
         },
         "layout": {
          "annotationdefaults": {
           "arrowcolor": "#2a3f5f",
           "arrowhead": 0,
           "arrowwidth": 1
          },
          "autotypenumbers": "strict",
          "coloraxis": {
           "colorbar": {
            "outlinewidth": 0,
            "ticks": ""
           }
          },
          "colorscale": {
           "diverging": [
            [
             0,
             "#8e0152"
            ],
            [
             0.1,
             "#c51b7d"
            ],
            [
             0.2,
             "#de77ae"
            ],
            [
             0.3,
             "#f1b6da"
            ],
            [
             0.4,
             "#fde0ef"
            ],
            [
             0.5,
             "#f7f7f7"
            ],
            [
             0.6,
             "#e6f5d0"
            ],
            [
             0.7,
             "#b8e186"
            ],
            [
             0.8,
             "#7fbc41"
            ],
            [
             0.9,
             "#4d9221"
            ],
            [
             1,
             "#276419"
            ]
           ],
           "sequential": [
            [
             0,
             "#0d0887"
            ],
            [
             0.1111111111111111,
             "#46039f"
            ],
            [
             0.2222222222222222,
             "#7201a8"
            ],
            [
             0.3333333333333333,
             "#9c179e"
            ],
            [
             0.4444444444444444,
             "#bd3786"
            ],
            [
             0.5555555555555556,
             "#d8576b"
            ],
            [
             0.6666666666666666,
             "#ed7953"
            ],
            [
             0.7777777777777778,
             "#fb9f3a"
            ],
            [
             0.8888888888888888,
             "#fdca26"
            ],
            [
             1,
             "#f0f921"
            ]
           ],
           "sequentialminus": [
            [
             0,
             "#0d0887"
            ],
            [
             0.1111111111111111,
             "#46039f"
            ],
            [
             0.2222222222222222,
             "#7201a8"
            ],
            [
             0.3333333333333333,
             "#9c179e"
            ],
            [
             0.4444444444444444,
             "#bd3786"
            ],
            [
             0.5555555555555556,
             "#d8576b"
            ],
            [
             0.6666666666666666,
             "#ed7953"
            ],
            [
             0.7777777777777778,
             "#fb9f3a"
            ],
            [
             0.8888888888888888,
             "#fdca26"
            ],
            [
             1,
             "#f0f921"
            ]
           ]
          },
          "colorway": [
           "#636efa",
           "#EF553B",
           "#00cc96",
           "#ab63fa",
           "#FFA15A",
           "#19d3f3",
           "#FF6692",
           "#B6E880",
           "#FF97FF",
           "#FECB52"
          ],
          "font": {
           "color": "#2a3f5f"
          },
          "geo": {
           "bgcolor": "white",
           "lakecolor": "white",
           "landcolor": "#E5ECF6",
           "showlakes": true,
           "showland": true,
           "subunitcolor": "white"
          },
          "hoverlabel": {
           "align": "left"
          },
          "hovermode": "closest",
          "mapbox": {
           "style": "light"
          },
          "paper_bgcolor": "white",
          "plot_bgcolor": "#E5ECF6",
          "polar": {
           "angularaxis": {
            "gridcolor": "white",
            "linecolor": "white",
            "ticks": ""
           },
           "bgcolor": "#E5ECF6",
           "radialaxis": {
            "gridcolor": "white",
            "linecolor": "white",
            "ticks": ""
           }
          },
          "scene": {
           "xaxis": {
            "backgroundcolor": "#E5ECF6",
            "gridcolor": "white",
            "gridwidth": 2,
            "linecolor": "white",
            "showbackground": true,
            "ticks": "",
            "zerolinecolor": "white"
           },
           "yaxis": {
            "backgroundcolor": "#E5ECF6",
            "gridcolor": "white",
            "gridwidth": 2,
            "linecolor": "white",
            "showbackground": true,
            "ticks": "",
            "zerolinecolor": "white"
           },
           "zaxis": {
            "backgroundcolor": "#E5ECF6",
            "gridcolor": "white",
            "gridwidth": 2,
            "linecolor": "white",
            "showbackground": true,
            "ticks": "",
            "zerolinecolor": "white"
           }
          },
          "shapedefaults": {
           "line": {
            "color": "#2a3f5f"
           }
          },
          "ternary": {
           "aaxis": {
            "gridcolor": "white",
            "linecolor": "white",
            "ticks": ""
           },
           "baxis": {
            "gridcolor": "white",
            "linecolor": "white",
            "ticks": ""
           },
           "bgcolor": "#E5ECF6",
           "caxis": {
            "gridcolor": "white",
            "linecolor": "white",
            "ticks": ""
           }
          },
          "title": {
           "x": 0.05
          },
          "xaxis": {
           "automargin": true,
           "gridcolor": "white",
           "linecolor": "white",
           "ticks": "",
           "title": {
            "standoff": 15
           },
           "zerolinecolor": "white",
           "zerolinewidth": 2
          },
          "yaxis": {
           "automargin": true,
           "gridcolor": "white",
           "linecolor": "white",
           "ticks": "",
           "title": {
            "standoff": 15
           },
           "zerolinecolor": "white",
           "zerolinewidth": 2
          }
         }
        }
       }
      },
      "text/html": [
       "<div>                            <div id=\"f6cbd276-aea0-49fd-8f83-10f17b722420\" class=\"plotly-graph-div\" style=\"height:525px; width:100%;\"></div>            <script type=\"text/javascript\">                require([\"plotly\"], function(Plotly) {                    window.PLOTLYENV=window.PLOTLYENV || {};                                    if (document.getElementById(\"f6cbd276-aea0-49fd-8f83-10f17b722420\")) {                    Plotly.newPlot(                        \"f6cbd276-aea0-49fd-8f83-10f17b722420\",                        [{\"branchvalues\":\"total\",\"customdata\":[[\"\"],[\"ECOL\"],[\"LJ\"],[\"\"],[\"\"],[\"intE\"],[\"(?)\"],[\"(?)\"],[\"(?)\"],[\"(?)\"]],\"domain\":{\"x\":[0.0,1.0],\"y\":[0.0,1.0]},\"hovertemplate\":\"labels=%{label}<br>value=%{value}<br>parent=%{parent}<br>id=%{id}<br>error=%{customdata[0]}<extra></extra>\",\"ids\":[\"(Coulomb Integral)\\nEnergy Function + Relative Errors/Interaction Energy/\",\"(Coulomb Integral)\\nEnergy Function + Relative Errors/Coulomb term/ \",\"(Coulomb Integral)\\nEnergy Function + Relative Errors/Pair potential term/ \",\"(Coulomb Integral)\\nEnergy Function + Relative Errors/Coulomb term/\",\"(Coulomb Integral)\\nEnergy Function + Relative Errors/Pair potential term/\",\"(Coulomb Integral)\\nEnergy Function + Relative Errors/Interaction Energy/ \",\"(Coulomb Integral)\\nEnergy Function + Relative Errors/Coulomb term\",\"(Coulomb Integral)\\nEnergy Function + Relative Errors/Interaction Energy\",\"(Coulomb Integral)\\nEnergy Function + Relative Errors/Pair potential term\",\"(Coulomb Integral)\\nEnergy Function + Relative Errors\"],\"labels\":[\"\",\" \",\" \",\"\",\"\",\" \",\"Coulomb term\",\"Interaction Energy\",\"Pair potential term\",\"(Coulomb Integral)\\nEnergy Function + Relative Errors\"],\"marker\":{\"colors\":[\"#5c5c5c\",\"#f7c1be\",\"#bec6f7\",\"#5c5c5c\",\"#5c5c5c\",\"#debef7\",\"#ffffff\",\"#ffffff\",\"#ffffff\",\"#ffffff\"],\"cornerradius\":5},\"name\":\"\",\"parents\":[\"(Coulomb Integral)\\nEnergy Function + Relative Errors/Interaction Energy\",\"(Coulomb Integral)\\nEnergy Function + Relative Errors/Coulomb term\",\"(Coulomb Integral)\\nEnergy Function + Relative Errors/Pair potential term\",\"(Coulomb Integral)\\nEnergy Function + Relative Errors/Coulomb term\",\"(Coulomb Integral)\\nEnergy Function + Relative Errors/Pair potential term\",\"(Coulomb Integral)\\nEnergy Function + Relative Errors/Interaction Energy\",\"(Coulomb Integral)\\nEnergy Function + Relative Errors\",\"(Coulomb Integral)\\nEnergy Function + Relative Errors\",\"(Coulomb Integral)\\nEnergy Function + Relative Errors\",\"\"],\"values\":[6,70,48,60,6,53,130,59,54,243],\"type\":\"treemap\"}],                        {\"template\":{\"data\":{\"histogram2dcontour\":[{\"type\":\"histogram2dcontour\",\"colorbar\":{\"outlinewidth\":0,\"ticks\":\"\"},\"colorscale\":[[0.0,\"#0d0887\"],[0.1111111111111111,\"#46039f\"],[0.2222222222222222,\"#7201a8\"],[0.3333333333333333,\"#9c179e\"],[0.4444444444444444,\"#bd3786\"],[0.5555555555555556,\"#d8576b\"],[0.6666666666666666,\"#ed7953\"],[0.7777777777777778,\"#fb9f3a\"],[0.8888888888888888,\"#fdca26\"],[1.0,\"#f0f921\"]]}],\"choropleth\":[{\"type\":\"choropleth\",\"colorbar\":{\"outlinewidth\":0,\"ticks\":\"\"}}],\"histogram2d\":[{\"type\":\"histogram2d\",\"colorbar\":{\"outlinewidth\":0,\"ticks\":\"\"},\"colorscale\":[[0.0,\"#0d0887\"],[0.1111111111111111,\"#46039f\"],[0.2222222222222222,\"#7201a8\"],[0.3333333333333333,\"#9c179e\"],[0.4444444444444444,\"#bd3786\"],[0.5555555555555556,\"#d8576b\"],[0.6666666666666666,\"#ed7953\"],[0.7777777777777778,\"#fb9f3a\"],[0.8888888888888888,\"#fdca26\"],[1.0,\"#f0f921\"]]}],\"heatmap\":[{\"type\":\"heatmap\",\"colorbar\":{\"outlinewidth\":0,\"ticks\":\"\"},\"colorscale\":[[0.0,\"#0d0887\"],[0.1111111111111111,\"#46039f\"],[0.2222222222222222,\"#7201a8\"],[0.3333333333333333,\"#9c179e\"],[0.4444444444444444,\"#bd3786\"],[0.5555555555555556,\"#d8576b\"],[0.6666666666666666,\"#ed7953\"],[0.7777777777777778,\"#fb9f3a\"],[0.8888888888888888,\"#fdca26\"],[1.0,\"#f0f921\"]]}],\"heatmapgl\":[{\"type\":\"heatmapgl\",\"colorbar\":{\"outlinewidth\":0,\"ticks\":\"\"},\"colorscale\":[[0.0,\"#0d0887\"],[0.1111111111111111,\"#46039f\"],[0.2222222222222222,\"#7201a8\"],[0.3333333333333333,\"#9c179e\"],[0.4444444444444444,\"#bd3786\"],[0.5555555555555556,\"#d8576b\"],[0.6666666666666666,\"#ed7953\"],[0.7777777777777778,\"#fb9f3a\"],[0.8888888888888888,\"#fdca26\"],[1.0,\"#f0f921\"]]}],\"contourcarpet\":[{\"type\":\"contourcarpet\",\"colorbar\":{\"outlinewidth\":0,\"ticks\":\"\"}}],\"contour\":[{\"type\":\"contour\",\"colorbar\":{\"outlinewidth\":0,\"ticks\":\"\"},\"colorscale\":[[0.0,\"#0d0887\"],[0.1111111111111111,\"#46039f\"],[0.2222222222222222,\"#7201a8\"],[0.3333333333333333,\"#9c179e\"],[0.4444444444444444,\"#bd3786\"],[0.5555555555555556,\"#d8576b\"],[0.6666666666666666,\"#ed7953\"],[0.7777777777777778,\"#fb9f3a\"],[0.8888888888888888,\"#fdca26\"],[1.0,\"#f0f921\"]]}],\"surface\":[{\"type\":\"surface\",\"colorbar\":{\"outlinewidth\":0,\"ticks\":\"\"},\"colorscale\":[[0.0,\"#0d0887\"],[0.1111111111111111,\"#46039f\"],[0.2222222222222222,\"#7201a8\"],[0.3333333333333333,\"#9c179e\"],[0.4444444444444444,\"#bd3786\"],[0.5555555555555556,\"#d8576b\"],[0.6666666666666666,\"#ed7953\"],[0.7777777777777778,\"#fb9f3a\"],[0.8888888888888888,\"#fdca26\"],[1.0,\"#f0f921\"]]}],\"mesh3d\":[{\"type\":\"mesh3d\",\"colorbar\":{\"outlinewidth\":0,\"ticks\":\"\"}}],\"scatter\":[{\"fillpattern\":{\"fillmode\":\"overlay\",\"size\":10,\"solidity\":0.2},\"type\":\"scatter\"}],\"parcoords\":[{\"type\":\"parcoords\",\"line\":{\"colorbar\":{\"outlinewidth\":0,\"ticks\":\"\"}}}],\"scatterpolargl\":[{\"type\":\"scatterpolargl\",\"marker\":{\"colorbar\":{\"outlinewidth\":0,\"ticks\":\"\"}}}],\"bar\":[{\"error_x\":{\"color\":\"#2a3f5f\"},\"error_y\":{\"color\":\"#2a3f5f\"},\"marker\":{\"line\":{\"color\":\"#E5ECF6\",\"width\":0.5},\"pattern\":{\"fillmode\":\"overlay\",\"size\":10,\"solidity\":0.2}},\"type\":\"bar\"}],\"scattergeo\":[{\"type\":\"scattergeo\",\"marker\":{\"colorbar\":{\"outlinewidth\":0,\"ticks\":\"\"}}}],\"scatterpolar\":[{\"type\":\"scatterpolar\",\"marker\":{\"colorbar\":{\"outlinewidth\":0,\"ticks\":\"\"}}}],\"histogram\":[{\"marker\":{\"pattern\":{\"fillmode\":\"overlay\",\"size\":10,\"solidity\":0.2}},\"type\":\"histogram\"}],\"scattergl\":[{\"type\":\"scattergl\",\"marker\":{\"colorbar\":{\"outlinewidth\":0,\"ticks\":\"\"}}}],\"scatter3d\":[{\"type\":\"scatter3d\",\"line\":{\"colorbar\":{\"outlinewidth\":0,\"ticks\":\"\"}},\"marker\":{\"colorbar\":{\"outlinewidth\":0,\"ticks\":\"\"}}}],\"scattermapbox\":[{\"type\":\"scattermapbox\",\"marker\":{\"colorbar\":{\"outlinewidth\":0,\"ticks\":\"\"}}}],\"scatterternary\":[{\"type\":\"scatterternary\",\"marker\":{\"colorbar\":{\"outlinewidth\":0,\"ticks\":\"\"}}}],\"scattercarpet\":[{\"type\":\"scattercarpet\",\"marker\":{\"colorbar\":{\"outlinewidth\":0,\"ticks\":\"\"}}}],\"carpet\":[{\"aaxis\":{\"endlinecolor\":\"#2a3f5f\",\"gridcolor\":\"white\",\"linecolor\":\"white\",\"minorgridcolor\":\"white\",\"startlinecolor\":\"#2a3f5f\"},\"baxis\":{\"endlinecolor\":\"#2a3f5f\",\"gridcolor\":\"white\",\"linecolor\":\"white\",\"minorgridcolor\":\"white\",\"startlinecolor\":\"#2a3f5f\"},\"type\":\"carpet\"}],\"table\":[{\"cells\":{\"fill\":{\"color\":\"#EBF0F8\"},\"line\":{\"color\":\"white\"}},\"header\":{\"fill\":{\"color\":\"#C8D4E3\"},\"line\":{\"color\":\"white\"}},\"type\":\"table\"}],\"barpolar\":[{\"marker\":{\"line\":{\"color\":\"#E5ECF6\",\"width\":0.5},\"pattern\":{\"fillmode\":\"overlay\",\"size\":10,\"solidity\":0.2}},\"type\":\"barpolar\"}],\"pie\":[{\"automargin\":true,\"type\":\"pie\"}]},\"layout\":{\"autotypenumbers\":\"strict\",\"colorway\":[\"#636efa\",\"#EF553B\",\"#00cc96\",\"#ab63fa\",\"#FFA15A\",\"#19d3f3\",\"#FF6692\",\"#B6E880\",\"#FF97FF\",\"#FECB52\"],\"font\":{\"color\":\"#2a3f5f\"},\"hovermode\":\"closest\",\"hoverlabel\":{\"align\":\"left\"},\"paper_bgcolor\":\"white\",\"plot_bgcolor\":\"#E5ECF6\",\"polar\":{\"bgcolor\":\"#E5ECF6\",\"angularaxis\":{\"gridcolor\":\"white\",\"linecolor\":\"white\",\"ticks\":\"\"},\"radialaxis\":{\"gridcolor\":\"white\",\"linecolor\":\"white\",\"ticks\":\"\"}},\"ternary\":{\"bgcolor\":\"#E5ECF6\",\"aaxis\":{\"gridcolor\":\"white\",\"linecolor\":\"white\",\"ticks\":\"\"},\"baxis\":{\"gridcolor\":\"white\",\"linecolor\":\"white\",\"ticks\":\"\"},\"caxis\":{\"gridcolor\":\"white\",\"linecolor\":\"white\",\"ticks\":\"\"}},\"coloraxis\":{\"colorbar\":{\"outlinewidth\":0,\"ticks\":\"\"}},\"colorscale\":{\"sequential\":[[0.0,\"#0d0887\"],[0.1111111111111111,\"#46039f\"],[0.2222222222222222,\"#7201a8\"],[0.3333333333333333,\"#9c179e\"],[0.4444444444444444,\"#bd3786\"],[0.5555555555555556,\"#d8576b\"],[0.6666666666666666,\"#ed7953\"],[0.7777777777777778,\"#fb9f3a\"],[0.8888888888888888,\"#fdca26\"],[1.0,\"#f0f921\"]],\"sequentialminus\":[[0.0,\"#0d0887\"],[0.1111111111111111,\"#46039f\"],[0.2222222222222222,\"#7201a8\"],[0.3333333333333333,\"#9c179e\"],[0.4444444444444444,\"#bd3786\"],[0.5555555555555556,\"#d8576b\"],[0.6666666666666666,\"#ed7953\"],[0.7777777777777778,\"#fb9f3a\"],[0.8888888888888888,\"#fdca26\"],[1.0,\"#f0f921\"]],\"diverging\":[[0,\"#8e0152\"],[0.1,\"#c51b7d\"],[0.2,\"#de77ae\"],[0.3,\"#f1b6da\"],[0.4,\"#fde0ef\"],[0.5,\"#f7f7f7\"],[0.6,\"#e6f5d0\"],[0.7,\"#b8e186\"],[0.8,\"#7fbc41\"],[0.9,\"#4d9221\"],[1,\"#276419\"]]},\"xaxis\":{\"gridcolor\":\"white\",\"linecolor\":\"white\",\"ticks\":\"\",\"title\":{\"standoff\":15},\"zerolinecolor\":\"white\",\"automargin\":true,\"zerolinewidth\":2},\"yaxis\":{\"gridcolor\":\"white\",\"linecolor\":\"white\",\"ticks\":\"\",\"title\":{\"standoff\":15},\"zerolinecolor\":\"white\",\"automargin\":true,\"zerolinewidth\":2},\"scene\":{\"xaxis\":{\"backgroundcolor\":\"#E5ECF6\",\"gridcolor\":\"white\",\"linecolor\":\"white\",\"showbackground\":true,\"ticks\":\"\",\"zerolinecolor\":\"white\",\"gridwidth\":2},\"yaxis\":{\"backgroundcolor\":\"#E5ECF6\",\"gridcolor\":\"white\",\"linecolor\":\"white\",\"showbackground\":true,\"ticks\":\"\",\"zerolinecolor\":\"white\",\"gridwidth\":2},\"zaxis\":{\"backgroundcolor\":\"#E5ECF6\",\"gridcolor\":\"white\",\"linecolor\":\"white\",\"showbackground\":true,\"ticks\":\"\",\"zerolinecolor\":\"white\",\"gridwidth\":2}},\"shapedefaults\":{\"line\":{\"color\":\"#2a3f5f\"}},\"annotationdefaults\":{\"arrowcolor\":\"#2a3f5f\",\"arrowhead\":0,\"arrowwidth\":1},\"geo\":{\"bgcolor\":\"white\",\"landcolor\":\"#E5ECF6\",\"subunitcolor\":\"white\",\"showland\":true,\"showlakes\":true,\"lakecolor\":\"white\"},\"title\":{\"x\":0.05},\"mapbox\":{\"style\":\"light\"}}},\"legend\":{\"tracegroupgap\":0},\"margin\":{\"t\":1,\"l\":1,\"r\":1,\"b\":1},\"font\":{\"family\":\"Arial, monospace\",\"size\":30,\"color\":\"RebeccaPurple\"}},                        {\"responsive\": true}                    ).then(function(){\n",
       "                            \n",
       "var gd = document.getElementById('f6cbd276-aea0-49fd-8f83-10f17b722420');\n",
       "var x = new MutationObserver(function (mutations, observer) {{\n",
       "        var display = window.getComputedStyle(gd).display;\n",
       "        if (!display || display === 'none') {{\n",
       "            console.log([gd, 'removed!']);\n",
       "            Plotly.purge(gd);\n",
       "            observer.disconnect();\n",
       "        }}\n",
       "}});\n",
       "\n",
       "// Listen for the removal of the full notebook cells\n",
       "var notebookContainer = gd.closest('#notebook-container');\n",
       "if (notebookContainer) {{\n",
       "    x.observe(notebookContainer, {childList: true});\n",
       "}}\n",
       "\n",
       "// Listen for the clearing of the current output cell\n",
       "var outputEl = gd.closest('.output');\n",
       "if (outputEl) {{\n",
       "    x.observe(outputEl, {childList: true});\n",
       "}}\n",
       "\n",
       "                        })                };                });            </script>        </div>"
      ]
     },
     "metadata": {},
     "output_type": "display_data"
    }
   ],
   "source": [
    "fig = px.treemap(df, \n",
    "                 path=[px.Constant(\"(Coulomb Integral)\\nEnergy Function + Relative Errors\"), 'method', \"type\",], \n",
    "                 values=\"value\",\n",
    "                color='error',\n",
    "                 color_discrete_map={'(?)':'#ffffff', \n",
    "                                     '': '#5c5c5c', \n",
    "                                     'ECOL':'#f7c1be', \n",
    "                                     'LJ':'#bec6f7',\n",
    "                                    \"intE\": '#debef7'}\n",
    "                # root_color=\"lightgrey\"\n",
    "                )\n",
    "fig.update_layout(\n",
    "    font=dict(\n",
    "        family=\"Arial, monospace\",\n",
    "        size=FONTSIZE,  # Set the font size here\n",
    "        color=\"RebeccaPurple\"\n",
    "    ))\n",
    "fig.update_layout(margin = dict(t=1, l=1, r=1, b=1))\n",
    "\n",
    "\n",
    "fig.update_traces(marker=dict(cornerradius=5))\n",
    "# fig.write_image(\"pc_coulomb.png\")"
   ]
  },
  {
   "cell_type": "code",
   "execution_count": 207,
   "id": "d91f3cff-46a3-4a42-aaed-bb520b2328da",
   "metadata": {},
   "outputs": [
    {
     "data": {
      "text/html": [
       "<div>\n",
       "<style scoped>\n",
       "    .dataframe tbody tr th:only-of-type {\n",
       "        vertical-align: middle;\n",
       "    }\n",
       "\n",
       "    .dataframe tbody tr th {\n",
       "        vertical-align: top;\n",
       "    }\n",
       "\n",
       "    .dataframe thead th {\n",
       "        text-align: right;\n",
       "    }\n",
       "</style>\n",
       "<table border=\"1\" class=\"dataframe\">\n",
       "  <thead>\n",
       "    <tr style=\"text-align: right;\">\n",
       "      <th></th>\n",
       "      <th>method</th>\n",
       "      <th>type</th>\n",
       "      <th>error</th>\n",
       "      <th>value</th>\n",
       "    </tr>\n",
       "  </thead>\n",
       "  <tbody>\n",
       "    <tr>\n",
       "      <th>0</th>\n",
       "      <td>Coulomb term</td>\n",
       "      <td></td>\n",
       "      <td>ECOL</td>\n",
       "      <td>130</td>\n",
       "    </tr>\n",
       "    <tr>\n",
       "      <th>1</th>\n",
       "      <td>Coulomb term</td>\n",
       "      <td></td>\n",
       "      <td></td>\n",
       "      <td>0</td>\n",
       "    </tr>\n",
       "    <tr>\n",
       "      <th>2</th>\n",
       "      <td>Pair potential term</td>\n",
       "      <td></td>\n",
       "      <td>LJ</td>\n",
       "      <td>39</td>\n",
       "    </tr>\n",
       "    <tr>\n",
       "      <th>3</th>\n",
       "      <td>Pair potential term</td>\n",
       "      <td></td>\n",
       "      <td></td>\n",
       "      <td>15</td>\n",
       "    </tr>\n",
       "    <tr>\n",
       "      <th>4</th>\n",
       "      <td>Interaction Energy</td>\n",
       "      <td></td>\n",
       "      <td>intE</td>\n",
       "      <td>44</td>\n",
       "    </tr>\n",
       "    <tr>\n",
       "      <th>5</th>\n",
       "      <td>Interaction Energy</td>\n",
       "      <td></td>\n",
       "      <td></td>\n",
       "      <td>15</td>\n",
       "    </tr>\n",
       "  </tbody>\n",
       "</table>\n",
       "</div>"
      ],
      "text/plain": [
       "                method type error  value\n",
       "0         Coulomb term       ECOL    130\n",
       "1         Coulomb term                 0\n",
       "2  Pair potential term         LJ     39\n",
       "3  Pair potential term                15\n",
       "4   Interaction Energy       intE     44\n",
       "5   Interaction Energy                15"
      ]
     },
     "execution_count": 207,
     "metadata": {},
     "output_type": "execute_result"
    }
   ],
   "source": [
    "df = pd.DataFrame({ \"method\": [ECOL, ECOL, LJ, LJ, intE, intE],\n",
    "            \"type\": [\" \", \"\", \" \", \"\", \" \", \"\"],\n",
    "            \"error\": [\"ECOL\", \"\", \"LJ\", \"\", \"intE\", \"\"],\n",
    "     \"value\": [130 - 0, 0, 54 - 15, 15, 59 - 15, 15],\n",
    "     })\n",
    "df"
   ]
  },
  {
   "cell_type": "code",
   "execution_count": 208,
   "id": "8b067551-3703-401c-ac79-ed896ce10e0b",
   "metadata": {},
   "outputs": [],
   "source": [
    "fig = px.treemap(df, \n",
    "                 path=[px.Constant(\"(Coulomb Integral)\\nEnergy Function + Relative Errors\"), 'method', \"type\",], \n",
    "                 values=\"value\",\n",
    "                color='error',\n",
    "                 color_discrete_map={'(?)':'#ffffff', \n",
    "                                     '': '#5c5c5c', \n",
    "                                     'ECOL':'#f7c1be', \n",
    "                                     'LJ':'#bec6f7',\n",
    "                                    \"intE\": '#debef7'}\n",
    "                )\n",
    "fig.update_traces(marker=dict(cornerradius=5))\n",
    "\n",
    "fig.update_layout(\n",
    "    font=dict(\n",
    "        family=\"Arial, monospace\",\n",
    "        size=FONTSIZE,  # Set the font size here\n",
    "        color=\"RebeccaPurple\"\n",
    "    )\n",
    ")\n",
    "fig.update_layout(margin = dict(t=1, l=1, r=1, b=1))\n",
    "\n",
    "fig.write_image(\"ecol.png\")"
   ]
  },
  {
   "cell_type": "code",
   "execution_count": 209,
   "id": "d52a0d66-e3c7-4eee-b1b4-f818750e0294",
   "metadata": {},
   "outputs": [
    {
     "data": {
      "text/html": [
       "<div>\n",
       "<style scoped>\n",
       "    .dataframe tbody tr th:only-of-type {\n",
       "        vertical-align: middle;\n",
       "    }\n",
       "\n",
       "    .dataframe tbody tr th {\n",
       "        vertical-align: top;\n",
       "    }\n",
       "\n",
       "    .dataframe thead th {\n",
       "        text-align: right;\n",
       "    }\n",
       "</style>\n",
       "<table border=\"1\" class=\"dataframe\">\n",
       "  <thead>\n",
       "    <tr style=\"text-align: right;\">\n",
       "      <th></th>\n",
       "      <th>method</th>\n",
       "      <th>type</th>\n",
       "      <th>error</th>\n",
       "      <th>value</th>\n",
       "    </tr>\n",
       "  </thead>\n",
       "  <tbody>\n",
       "    <tr>\n",
       "      <th>0</th>\n",
       "      <td>Coulomb term</td>\n",
       "      <td></td>\n",
       "      <td>ECOL</td>\n",
       "      <td>119.0</td>\n",
       "    </tr>\n",
       "    <tr>\n",
       "      <th>1</th>\n",
       "      <td>Coulomb term</td>\n",
       "      <td></td>\n",
       "      <td></td>\n",
       "      <td>11.0</td>\n",
       "    </tr>\n",
       "    <tr>\n",
       "      <th>2</th>\n",
       "      <td>Pair potential term</td>\n",
       "      <td></td>\n",
       "      <td>LJ</td>\n",
       "      <td>43.5</td>\n",
       "    </tr>\n",
       "    <tr>\n",
       "      <th>3</th>\n",
       "      <td>Pair potential term</td>\n",
       "      <td></td>\n",
       "      <td></td>\n",
       "      <td>10.5</td>\n",
       "    </tr>\n",
       "    <tr>\n",
       "      <th>4</th>\n",
       "      <td>Interaction Energy</td>\n",
       "      <td></td>\n",
       "      <td>intE</td>\n",
       "      <td>48.5</td>\n",
       "    </tr>\n",
       "    <tr>\n",
       "      <th>5</th>\n",
       "      <td>Interaction Energy</td>\n",
       "      <td></td>\n",
       "      <td></td>\n",
       "      <td>10.5</td>\n",
       "    </tr>\n",
       "  </tbody>\n",
       "</table>\n",
       "</div>"
      ],
      "text/plain": [
       "                method type error  value\n",
       "0         Coulomb term       ECOL  119.0\n",
       "1         Coulomb term              11.0\n",
       "2  Pair potential term         LJ   43.5\n",
       "3  Pair potential term              10.5\n",
       "4   Interaction Energy       intE   48.5\n",
       "5   Interaction Energy              10.5"
      ]
     },
     "execution_count": 209,
     "metadata": {},
     "output_type": "execute_result"
    }
   ],
   "source": [
    "df = pd.DataFrame({ \"method\": [ECOL, ECOL, LJ, LJ, intE, intE],\n",
    "            \"type\": [\" \", \"\", \" \", \"\", \" \", \"\"],\n",
    "            \"error\": [\"ECOL\", \"\", \"LJ\", \"\", \"intE\", \"\"],\n",
    "     \"value\": [130 - 11, 11, 54 - 10.5, 10.5, 59 - 10.5, 10.5],\n",
    "     })\n",
    "df"
   ]
  },
  {
   "cell_type": "code",
   "execution_count": 237,
   "id": "7eacd673-8f52-4146-8c94-f06c13e73bb8",
   "metadata": {},
   "outputs": [],
   "source": [
    "fig = px.treemap(df, \n",
    "                 path=[px.Constant(\"(k-MDCM + CC)\\nEnergy Function + Relative Errors\"), 'method', \"type\",], \n",
    "                 values=\"value\",\n",
    "                color='error',\n",
    "                 color_discrete_map={'(?)':'#ffffff', \n",
    "                                     '': '#5c5c5c', \n",
    "                                     'ECOL':'#f7c1be', \n",
    "                                     'LJ':'#bec6f7',\n",
    "                                    \"intE\": '#debef7'}\n",
    "                # root_color=\"lightgrey\"\n",
    "                )\n",
    "fig.update_traces(marker=dict(cornerradius=5))\n",
    "\n",
    "fig.update_layout(\n",
    "    font=dict(\n",
    "        family=\"Arial, monospace\",\n",
    "        size=FONTSIZE,  # Set the font size here\n",
    "        color=\"RebeccaPurple\"\n",
    "    )\n",
    ")\n",
    "fig.update_layout(margin = dict(t=1, l=1, r=1, b=1))\n",
    "fig.write_image(\"kmdcm_DE_ecol_fit.png\")"
   ]
  },
  {
   "cell_type": "code",
   "execution_count": 241,
   "id": "72268ea0-eb44-488e-b830-ad4e4c901f9a",
   "metadata": {},
   "outputs": [],
   "source": [
    "# !pip install wand\n",
    "from wand.image import Image as WImage"
   ]
  },
  {
   "cell_type": "code",
   "execution_count": 242,
   "id": "97bf6013-eb7c-47e2-8c17-a625d302a64a",
   "metadata": {},
   "outputs": [
    {
     "ename": "PolicyError",
     "evalue": "attempt to perform an operation not allowed by the security policy `PDF' @ error/constitute.c/IsCoderAuthorized/408",
     "output_type": "error",
     "traceback": [
      "\u001b[0;31m---------------------------------------------------------------------------\u001b[0m",
      "\u001b[0;31mPolicyError\u001b[0m                               Traceback (most recent call last)",
      "Cell \u001b[0;32mIn[242], line 1\u001b[0m\n\u001b[0;32m----> 1\u001b[0m img \u001b[38;5;241m=\u001b[39m \u001b[43mWImage\u001b[49m\u001b[43m(\u001b[49m\u001b[43mfilename\u001b[49m\u001b[38;5;241;43m=\u001b[39;49m\u001b[38;5;124;43m'\u001b[39;49m\u001b[38;5;124;43mkmdcm_DE_ecol_fit.pdf\u001b[39;49m\u001b[38;5;124;43m'\u001b[39;49m\u001b[43m,\u001b[49m\u001b[43m \u001b[49m\u001b[43mresolution\u001b[49m\u001b[38;5;241;43m=\u001b[39;49m\u001b[38;5;241;43m100\u001b[39;49m\u001b[43m)\u001b[49m \u001b[38;5;66;03m# bigger\u001b[39;00m\n\u001b[1;32m      2\u001b[0m img\n",
      "File \u001b[0;32m~/miniconda3/envs/pycharmm/lib/python3.8/site-packages/wand/image.py:9365\u001b[0m, in \u001b[0;36mImage.__init__\u001b[0;34m(self, image, blob, file, filename, pseudo, background, colorspace, depth, extract, format, height, interlace, resolution, sampling_factors, units, width)\u001b[0m\n\u001b[1;32m   9363\u001b[0m     \u001b[38;5;28mself\u001b[39m\u001b[38;5;241m.\u001b[39mread(blob\u001b[38;5;241m=\u001b[39mblob)\n\u001b[1;32m   9364\u001b[0m \u001b[38;5;28;01melif\u001b[39;00m filename \u001b[38;5;129;01mis\u001b[39;00m \u001b[38;5;129;01mnot\u001b[39;00m \u001b[38;5;28;01mNone\u001b[39;00m:\n\u001b[0;32m-> 9365\u001b[0m     \u001b[38;5;28;43mself\u001b[39;49m\u001b[38;5;241;43m.\u001b[39;49m\u001b[43mread\u001b[49m\u001b[43m(\u001b[49m\u001b[43mfilename\u001b[49m\u001b[38;5;241;43m=\u001b[39;49m\u001b[43mfilename\u001b[49m\u001b[43m)\u001b[49m\n\u001b[1;32m   9366\u001b[0m \u001b[38;5;66;03m# clear the wand format, otherwise any subsequent call to\u001b[39;00m\n\u001b[1;32m   9367\u001b[0m \u001b[38;5;66;03m# MagickGetImageBlob will silently change the image to this\u001b[39;00m\n\u001b[1;32m   9368\u001b[0m \u001b[38;5;66;03m# format again.\u001b[39;00m\n\u001b[1;32m   9369\u001b[0m library\u001b[38;5;241m.\u001b[39mMagickSetFormat(\u001b[38;5;28mself\u001b[39m\u001b[38;5;241m.\u001b[39mwand, binary(\u001b[38;5;124m\"\u001b[39m\u001b[38;5;124m\"\u001b[39m))\n",
      "File \u001b[0;32m~/miniconda3/envs/pycharmm/lib/python3.8/site-packages/wand/image.py:10120\u001b[0m, in \u001b[0;36mImage.read\u001b[0;34m(self, file, filename, blob, background, colorspace, depth, extract, format, height, interlace, resolution, sampling_factors, units, width)\u001b[0m\n\u001b[1;32m  10118\u001b[0m     r \u001b[38;5;241m=\u001b[39m library\u001b[38;5;241m.\u001b[39mMagickReadImage(\u001b[38;5;28mself\u001b[39m\u001b[38;5;241m.\u001b[39mwand, filename)\n\u001b[1;32m  10119\u001b[0m \u001b[38;5;28;01mif\u001b[39;00m \u001b[38;5;129;01mnot\u001b[39;00m r:\n\u001b[0;32m> 10120\u001b[0m     \u001b[38;5;28;43mself\u001b[39;49m\u001b[38;5;241;43m.\u001b[39;49m\u001b[43mraise_exception\u001b[49m\u001b[43m(\u001b[49m\u001b[43m)\u001b[49m\n\u001b[1;32m  10121\u001b[0m     msg \u001b[38;5;241m=\u001b[39m (\u001b[38;5;124m'\u001b[39m\u001b[38;5;124mMagickReadImage returns false, but did not raise \u001b[39m\u001b[38;5;124m'\u001b[39m\n\u001b[1;32m  10122\u001b[0m            \u001b[38;5;124m'\u001b[39m\u001b[38;5;124mImageMagick  exception. This can occur when a delegate \u001b[39m\u001b[38;5;124m'\u001b[39m\n\u001b[1;32m  10123\u001b[0m            \u001b[38;5;124m'\u001b[39m\u001b[38;5;124mis missing, or returns EXIT_SUCCESS without generating a \u001b[39m\u001b[38;5;124m'\u001b[39m\n\u001b[1;32m  10124\u001b[0m            \u001b[38;5;124m'\u001b[39m\u001b[38;5;124mraster.\u001b[39m\u001b[38;5;124m'\u001b[39m)\n\u001b[1;32m  10125\u001b[0m     \u001b[38;5;28;01mraise\u001b[39;00m WandRuntimeError(msg)\n",
      "File \u001b[0;32m~/miniconda3/envs/pycharmm/lib/python3.8/site-packages/wand/resource.py:225\u001b[0m, in \u001b[0;36mResource.raise_exception\u001b[0;34m(self, stacklevel)\u001b[0m\n\u001b[1;32m    223\u001b[0m     warnings\u001b[38;5;241m.\u001b[39mwarn(e, stacklevel\u001b[38;5;241m=\u001b[39mstacklevel \u001b[38;5;241m+\u001b[39m \u001b[38;5;241m1\u001b[39m)\n\u001b[1;32m    224\u001b[0m \u001b[38;5;28;01melif\u001b[39;00m \u001b[38;5;28misinstance\u001b[39m(e, \u001b[38;5;167;01mException\u001b[39;00m):\n\u001b[0;32m--> 225\u001b[0m     \u001b[38;5;28;01mraise\u001b[39;00m e\n",
      "\u001b[0;31mPolicyError\u001b[0m: attempt to perform an operation not allowed by the security policy `PDF' @ error/constitute.c/IsCoderAuthorized/408"
     ]
    }
   ],
   "source": [
    "img = WImage(filename='kmdcm_DE_ecol_fit.pdf', resolution=100) # bigger\n",
    "img"
   ]
  },
  {
   "cell_type": "code",
   "execution_count": null,
   "id": "a0e5b850-6b13-42c1-8542-cf65a216b980",
   "metadata": {},
   "outputs": [],
   "source": []
  },
  {
   "cell_type": "code",
   "execution_count": null,
   "id": "c9db77bd-2d2b-44ec-a6a9-04e10b2b8575",
   "metadata": {},
   "outputs": [],
   "source": []
  }
 ],
 "metadata": {
  "kernelspec": {
   "display_name": "pycharmm",
   "language": "python",
   "name": "pycharmm"
  },
  "language_info": {
   "codemirror_mode": {
    "name": "ipython",
    "version": 3
   },
   "file_extension": ".py",
   "mimetype": "text/x-python",
   "name": "python",
   "nbconvert_exporter": "python",
   "pygments_lexer": "ipython3",
   "version": "3.8.16"
  }
 },
 "nbformat": 4,
 "nbformat_minor": 5
}
