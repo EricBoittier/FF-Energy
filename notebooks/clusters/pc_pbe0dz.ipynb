{
 "cells": [
  {
   "cell_type": "code",
   "execution_count": 1,
   "id": "ece85981-3729-423d-85c8-ac995d909a00",
   "metadata": {},
   "outputs": [],
   "source": [
    "%load_ext autoreload\n",
    "%autoreload 2\n",
    "\n",
    "import sys\n",
    "sys.path.append(\"/home/boittier/Documents/phd/ff_energy\")\n",
    "\n",
    "from ff_energy.structure import Structure\n",
    "from ff_energy.job import Job\n",
    "from ff_energy.plot import plot_energy_MSE\n",
    "import pandas as pd\n",
    "\n",
    "# s = Structure(\"/home/boittier/charmm/mix3/jobs/pdbs/mix0.pdb\")\n",
    "\n",
    "atom_types = {\n",
    "              # (\"LIG\", \"O\"): \"OG311\",\n",
    "              # (\"LIG\", \"C\"): \"CG331\",\n",
    "              # (\"LIG\", \"H1\"): \"HGP1\",\n",
    "              # (\"LIG\", \"H2\"): \"HGA3\",\n",
    "              # (\"LIG\", \"H3\"): \"HGA3\",\n",
    "              # (\"LIG\", \"H4\"): \"HGA3\",\n",
    "              # (\"TIP3\", \"OH2\"): \"OT\",\n",
    "              # (\"TIP3\", \"H1\"): \"HT\",\n",
    "              # (\"TIP3\", \"H2\"): \"HT\",\n",
    "              (\"LIG\", \"O\"): \"OT\",\n",
    "              (\"LIG\", \"H1\"): \"HT\",\n",
    "              (\"LIG\", \"H\"): \"HT\",\n",
    "              (\"LIG\", \"H2\"): \"HT\",\n",
    "              }\n",
    "\n",
    "\n",
    "kwargs = {\"m_nproc\": 4, \"m_memory\": 150, \"m_queue\": \"short\", \n",
    "          \"m_basis\": \"avdz\", \"m_method\": \"run,ks,pbe0\",\n",
    "          \"chmpath\": \"/home/boittier/dev-release-dcm/build/cmake/charmm\",\n",
    "          \"modules\": \"module load cmake/cmake-3.23.0-gcc-11.2.0-openmpi-4.1.3\",\n",
    "          \"c_files\": [\"pbe0_dz.pc\"],\n",
    "          \"c_dcm_command\": f\"open unit 11 card read name pbe0_dz.pc \\nDCM IUDCM 11 TSHIFT XYZ 15\",\n",
    "          }\n",
    "\n",
    "JOBDIR = \"clusters/pbe0dz\"\n",
    "# HOMEDIR = \"/home/boittier/homeb\"\n",
    "HOMEDIR = \"/home/boittier/pcbach\""
   ]
  },
  {
   "cell_type": "code",
   "execution_count": 2,
   "id": "4de9e510-f5ca-47d2-a4d4-464ed10a9938",
   "metadata": {},
   "outputs": [],
   "source": [
    "from pathlib import Path\n",
    "import os\n",
    "PDBPATH = Path(\"/home/boittier/charmm/test/pdbs4/\")\n",
    "pdbs = [_ for _ in os.listdir(PDBPATH) if _.endswith(\"pdb\")]\n",
    "pdbs = pdbs[:200]"
   ]
  },
  {
   "cell_type": "code",
   "execution_count": 3,
   "id": "2feecef7-a70c-48c5-b157-072c1fe6aeba",
   "metadata": {},
   "outputs": [],
   "source": [
    "structures = []\n",
    "for p in pdbs:\n",
    "    s_path = PDBPATH / p\n",
    "    s = Structure(s_path, atom_types=atom_types)\n",
    "    s.set_2body()\n",
    "    structures.append(s)"
   ]
  },
  {
   "cell_type": "code",
   "execution_count": 4,
   "id": "307d23a8-ff6a-43e9-9ff1-f4806ec33cf9",
   "metadata": {},
   "outputs": [],
   "source": [
    "for p,s in zip(pdbs, structures):\n",
    "    ID = p.split(\".\")[0]\n",
    "    j = Job(ID, f\"{HOMEDIR}/{JOBDIR}/{ID}\", s, kwargs=kwargs)\n",
    "    j.generate_molpro()\n",
    "    # j.generate_charmm()"
   ]
  },
  {
   "cell_type": "code",
   "execution_count": 4,
   "id": "d7e50dad-d3fa-43c6-8296-bda7140e40ed",
   "metadata": {},
   "outputs": [],
   "source": [
    "# for x in *; do cd $x; cd charmm; sbatch *.slurm; cd ../..; done\n",
    "# for x in *; do cd $x/monomers; for y in *.sh; do sbatch $y; done ; cd ../..; done\n",
    "# for x in *; do cd $x/cluster; for y in *.sh; do sbatch $y; done ; cd ../..; done"
   ]
  },
  {
   "cell_type": "code",
   "execution_count": 30,
   "id": "d59d225a-db75-46b8-9fd3-77b55fb185b1",
   "metadata": {
    "tags": []
   },
   "outputs": [],
   "source": [
    "mp = HOMEDIR+\"/clusters/pbe0dz/{}/monomers\"\n",
    "\n",
    "for p in pdbs:\n",
    "    s_path = PDBPATH / p\n",
    "    s = Structure(s_path, atom_types=atom_types)\n",
    "    s.set_2body()\n",
    "    ID = p.split(\".\")[0]\n",
    "    j = Job(ID, f\"{HOMEDIR}/{JOBDIR}/{ID}\", s, kwargs=kwargs)\n",
    "    j.generate_coloumb_interactions(monomers_path=Path(mp.format(ID)))\n",
    "    j.generate_polarization(nch_per_monomer=(3, )*20,\n",
    "                           monomers_path=Path(mp.format(ID))\n",
    "                           )"
   ]
  },
  {
   "cell_type": "code",
   "execution_count": null,
   "id": "92a074e5-a2fb-4641-8831-477e74837a6d",
   "metadata": {},
   "outputs": [],
   "source": [
    "# for x in *; do cd $x/coloumb; for y in *.sh; do sbatch $y; done ; cd ../..; done\n",
    "# for x in *; do cd $x/polarization; for y in *.slurm; do sbatch $y; done ; cd ../..; done"
   ]
  },
  {
   "cell_type": "code",
   "execution_count": null,
   "id": "a7cc69cb-80ce-4a9e-8c06-5959d18d8ea6",
   "metadata": {},
   "outputs": [],
   "source": [
    "# p_data = j.gather_data()"
   ]
  },
  {
   "cell_type": "code",
   "execution_count": 58,
   "id": "0d82634c-3aaa-476a-b076-7a6fead4d47b",
   "metadata": {
    "tags": []
   },
   "outputs": [],
   "source": [
    "output = []\n",
    "for p in pdbs[2:]:\n",
    "    s_path = PDBPATH / p\n",
    "    s = Structure(s_path, atom_types=atom_types)\n",
    "    s.set_2body()\n",
    "    ID = p.split(\".\")[0]\n",
    "    j = Job(ID, f\"{HOMEDIR}/{JOBDIR}/{ID}\", s, kwargs=kwargs)\n",
    "    o = j.gather_data()\n",
    "    output.append(o)"
   ]
  },
  {
   "cell_type": "code",
   "execution_count": 7,
   "id": "93ef143a-7b28-4f7c-8494-9f9eaea544b2",
   "metadata": {},
   "outputs": [],
   "source": [
    "o = j.gather_data()"
   ]
  },
  {
   "cell_type": "code",
   "execution_count": 8,
   "id": "746e3dbb-9c51-4bfe-a02e-62422cbdf99e",
   "metadata": {},
   "outputs": [
    {
     "data": {
      "text/plain": [
       "QMMM                                            -1520.806345\n",
       "KEY        est181_17est181_10est181_15est181_20est181_13e...\n",
       "NOFIELD                                         -1520.769003\n",
       "pol                                                -23.43277\n",
       "dtype: object"
      ]
     },
     "execution_count": 8,
     "metadata": {},
     "output_type": "execute_result"
    }
   ],
   "source": [
    "o[\"polarization\"].sum()"
   ]
  },
  {
   "cell_type": "code",
   "execution_count": 9,
   "id": "23a0adf7-a804-4fe1-a251-2648822100a7",
   "metadata": {},
   "outputs": [],
   "source": [
    "#  generate molpro jobs and wait\n",
    "#  generate charmm jobs and wait\n",
    "#  generate orbkit jobs"
   ]
  },
  {
   "cell_type": "code",
   "execution_count": 59,
   "id": "c25387a9-46d0-48ea-9ae5-2426a1226a8d",
   "metadata": {},
   "outputs": [],
   "source": [
    "chm_df = pd.concat([_[\"charmm\"] for _ in output])"
   ]
  },
  {
   "cell_type": "code",
   "execution_count": 60,
   "id": "af95b228-e136-4af6-8dd3-a23d690b1460",
   "metadata": {},
   "outputs": [
    {
     "data": {
      "text/html": [
       "<div>\n",
       "<style scoped>\n",
       "    .dataframe tbody tr th:only-of-type {\n",
       "        vertical-align: middle;\n",
       "    }\n",
       "\n",
       "    .dataframe tbody tr th {\n",
       "        vertical-align: top;\n",
       "    }\n",
       "\n",
       "    .dataframe thead th {\n",
       "        text-align: right;\n",
       "    }\n",
       "</style>\n",
       "<table border=\"1\" class=\"dataframe\">\n",
       "  <thead>\n",
       "    <tr style=\"text-align: right;\">\n",
       "      <th></th>\n",
       "      <th>TOTAL</th>\n",
       "      <th>ELEC</th>\n",
       "      <th>VDW</th>\n",
       "      <th>KEY</th>\n",
       "    </tr>\n",
       "  </thead>\n",
       "  <tbody>\n",
       "    <tr>\n",
       "      <th>test18</th>\n",
       "      <td>22.99407</td>\n",
       "      <td>-89.90791</td>\n",
       "      <td>22.64238</td>\n",
       "      <td>test18</td>\n",
       "    </tr>\n",
       "    <tr>\n",
       "      <th>test105</th>\n",
       "      <td>23.47499</td>\n",
       "      <td>-53.94989</td>\n",
       "      <td>22.92519</td>\n",
       "      <td>test105</td>\n",
       "    </tr>\n",
       "    <tr>\n",
       "      <th>test112</th>\n",
       "      <td>23.48549</td>\n",
       "      <td>-66.54650</td>\n",
       "      <td>19.95412</td>\n",
       "      <td>test112</td>\n",
       "    </tr>\n",
       "    <tr>\n",
       "      <th>test459</th>\n",
       "      <td>21.62610</td>\n",
       "      <td>-36.64205</td>\n",
       "      <td>7.38603</td>\n",
       "      <td>test459</td>\n",
       "    </tr>\n",
       "    <tr>\n",
       "      <th>test471</th>\n",
       "      <td>22.27065</td>\n",
       "      <td>-61.37597</td>\n",
       "      <td>14.54395</td>\n",
       "      <td>test471</td>\n",
       "    </tr>\n",
       "    <tr>\n",
       "      <th>...</th>\n",
       "      <td>...</td>\n",
       "      <td>...</td>\n",
       "      <td>...</td>\n",
       "      <td>...</td>\n",
       "    </tr>\n",
       "    <tr>\n",
       "      <th>test142</th>\n",
       "      <td>22.44918</td>\n",
       "      <td>-69.88901</td>\n",
       "      <td>15.31643</td>\n",
       "      <td>test142</td>\n",
       "    </tr>\n",
       "    <tr>\n",
       "      <th>test405</th>\n",
       "      <td>24.76477</td>\n",
       "      <td>-66.25599</td>\n",
       "      <td>11.54044</td>\n",
       "      <td>test405</td>\n",
       "    </tr>\n",
       "    <tr>\n",
       "      <th>test75</th>\n",
       "      <td>28.09377</td>\n",
       "      <td>-51.96754</td>\n",
       "      <td>8.67979</td>\n",
       "      <td>test75</td>\n",
       "    </tr>\n",
       "    <tr>\n",
       "      <th>test412</th>\n",
       "      <td>23.17461</td>\n",
       "      <td>-73.55873</td>\n",
       "      <td>21.36494</td>\n",
       "      <td>test412</td>\n",
       "    </tr>\n",
       "    <tr>\n",
       "      <th>test269</th>\n",
       "      <td>24.99460</td>\n",
       "      <td>-44.06881</td>\n",
       "      <td>10.65961</td>\n",
       "      <td>test269</td>\n",
       "    </tr>\n",
       "  </tbody>\n",
       "</table>\n",
       "<p>198 rows × 4 columns</p>\n",
       "</div>"
      ],
      "text/plain": [
       "            TOTAL      ELEC       VDW      KEY\n",
       "test18   22.99407 -89.90791  22.64238   test18\n",
       "test105  23.47499 -53.94989  22.92519  test105\n",
       "test112  23.48549 -66.54650  19.95412  test112\n",
       "test459  21.62610 -36.64205   7.38603  test459\n",
       "test471  22.27065 -61.37597  14.54395  test471\n",
       "...           ...       ...       ...      ...\n",
       "test142  22.44918 -69.88901  15.31643  test142\n",
       "test405  24.76477 -66.25599  11.54044  test405\n",
       "test75   28.09377 -51.96754   8.67979   test75\n",
       "test412  23.17461 -73.55873  21.36494  test412\n",
       "test269  24.99460 -44.06881  10.65961  test269\n",
       "\n",
       "[198 rows x 4 columns]"
      ]
     },
     "execution_count": 60,
     "metadata": {},
     "output_type": "execute_result"
    }
   ],
   "source": [
    "chm_df"
   ]
  },
  {
   "cell_type": "code",
   "execution_count": 61,
   "id": "3b383b54-2e2e-4879-b22b-7a04169ac70f",
   "metadata": {},
   "outputs": [
    {
     "data": {
      "text/html": [
       "<div>\n",
       "<style scoped>\n",
       "    .dataframe tbody tr th:only-of-type {\n",
       "        vertical-align: middle;\n",
       "    }\n",
       "\n",
       "    .dataframe tbody tr th {\n",
       "        vertical-align: top;\n",
       "    }\n",
       "\n",
       "    .dataframe thead th {\n",
       "        text-align: right;\n",
       "    }\n",
       "</style>\n",
       "<table border=\"1\" class=\"dataframe\">\n",
       "  <thead>\n",
       "    <tr style=\"text-align: right;\">\n",
       "      <th></th>\n",
       "      <th>ECOL</th>\n",
       "      <th>KEY</th>\n",
       "    </tr>\n",
       "  </thead>\n",
       "  <tbody>\n",
       "    <tr>\n",
       "      <th>test18</th>\n",
       "      <td>-175.888945</td>\n",
       "      <td>test18</td>\n",
       "    </tr>\n",
       "    <tr>\n",
       "      <th>test105</th>\n",
       "      <td>-132.517714</td>\n",
       "      <td>test105</td>\n",
       "    </tr>\n",
       "    <tr>\n",
       "      <th>test112</th>\n",
       "      <td>-132.383073</td>\n",
       "      <td>test112</td>\n",
       "    </tr>\n",
       "    <tr>\n",
       "      <th>test459</th>\n",
       "      <td>-77.487531</td>\n",
       "      <td>test459</td>\n",
       "    </tr>\n",
       "    <tr>\n",
       "      <th>test471</th>\n",
       "      <td>-127.464211</td>\n",
       "      <td>test471</td>\n",
       "    </tr>\n",
       "    <tr>\n",
       "      <th>test370</th>\n",
       "      <td>-171.027090</td>\n",
       "      <td>test370</td>\n",
       "    </tr>\n",
       "    <tr>\n",
       "      <th>test233</th>\n",
       "      <td>-122.430321</td>\n",
       "      <td>test233</td>\n",
       "    </tr>\n",
       "    <tr>\n",
       "      <th>test181</th>\n",
       "      <td>-135.312473</td>\n",
       "      <td>test181</td>\n",
       "    </tr>\n",
       "  </tbody>\n",
       "</table>\n",
       "</div>"
      ],
      "text/plain": [
       "               ECOL      KEY\n",
       "test18  -175.888945   test18\n",
       "test105 -132.517714  test105\n",
       "test112 -132.383073  test112\n",
       "test459  -77.487531  test459\n",
       "test471 -127.464211  test471\n",
       "test370 -171.027090  test370\n",
       "test233 -122.430321  test233\n",
       "test181 -135.312473  test181"
      ]
     },
     "execution_count": 61,
     "metadata": {},
     "output_type": "execute_result"
    }
   ],
   "source": [
    "ctot = pd.concat([_[\"coloumb_total\"] for _ in output])\n",
    "ctot"
   ]
  },
  {
   "cell_type": "code",
   "execution_count": 66,
   "id": "ff33ffaf-ddff-4f65-9dbd-62e492a1e0fc",
   "metadata": {},
   "outputs": [],
   "source": [
    "_ = pd.concat([_[\"polarization\"].sum() for _ in output if _[\"polarization\"] is not None])"
   ]
  },
  {
   "cell_type": "code",
   "execution_count": 67,
   "id": "d6f59b85-77dd-452b-a125-581d8aae5f21",
   "metadata": {},
   "outputs": [],
   "source": [
    "pol_df = pd.concat([_[\"pol_total\"] for _ in output])"
   ]
  },
  {
   "cell_type": "code",
   "execution_count": 68,
   "id": "9b5c62aa-43d3-42a8-abcc-b339dafbbd67",
   "metadata": {},
   "outputs": [
    {
     "data": {
      "text/html": [
       "<div>\n",
       "<style scoped>\n",
       "    .dataframe tbody tr th:only-of-type {\n",
       "        vertical-align: middle;\n",
       "    }\n",
       "\n",
       "    .dataframe tbody tr th {\n",
       "        vertical-align: top;\n",
       "    }\n",
       "\n",
       "    .dataframe thead th {\n",
       "        text-align: right;\n",
       "    }\n",
       "</style>\n",
       "<table border=\"1\" class=\"dataframe\">\n",
       "  <thead>\n",
       "    <tr style=\"text-align: right;\">\n",
       "      <th></th>\n",
       "      <th>POL</th>\n",
       "      <th>KEY</th>\n",
       "    </tr>\n",
       "  </thead>\n",
       "  <tbody>\n",
       "    <tr>\n",
       "      <th>test18</th>\n",
       "      <td>-30.392734</td>\n",
       "      <td>test18</td>\n",
       "    </tr>\n",
       "    <tr>\n",
       "      <th>test105</th>\n",
       "      <td>-19.980820</td>\n",
       "      <td>test105</td>\n",
       "    </tr>\n",
       "    <tr>\n",
       "      <th>test112</th>\n",
       "      <td>-23.962958</td>\n",
       "      <td>test112</td>\n",
       "    </tr>\n",
       "    <tr>\n",
       "      <th>test459</th>\n",
       "      <td>-13.112294</td>\n",
       "      <td>test459</td>\n",
       "    </tr>\n",
       "    <tr>\n",
       "      <th>test471</th>\n",
       "      <td>-22.074791</td>\n",
       "      <td>test471</td>\n",
       "    </tr>\n",
       "    <tr>\n",
       "      <th>test370</th>\n",
       "      <td>-27.885596</td>\n",
       "      <td>test370</td>\n",
       "    </tr>\n",
       "    <tr>\n",
       "      <th>test233</th>\n",
       "      <td>-21.589852</td>\n",
       "      <td>test233</td>\n",
       "    </tr>\n",
       "    <tr>\n",
       "      <th>test181</th>\n",
       "      <td>-23.432770</td>\n",
       "      <td>test181</td>\n",
       "    </tr>\n",
       "  </tbody>\n",
       "</table>\n",
       "</div>"
      ],
      "text/plain": [
       "               POL      KEY\n",
       "test18  -30.392734   test18\n",
       "test105 -19.980820  test105\n",
       "test112 -23.962958  test112\n",
       "test459 -13.112294  test459\n",
       "test471 -22.074791  test471\n",
       "test370 -27.885596  test370\n",
       "test233 -21.589852  test233\n",
       "test181 -23.432770  test181"
      ]
     },
     "execution_count": 68,
     "metadata": {},
     "output_type": "execute_result"
    }
   ],
   "source": [
    "pol_df"
   ]
  },
  {
   "cell_type": "code",
   "execution_count": 15,
   "id": "38865d56-be59-41f6-9b86-3de788e36614",
   "metadata": {},
   "outputs": [],
   "source": [
    "#  convert molpro csv\n",
    "converters = {i: lambda x: float(x.strip().replace(\"D\",\"E\")) * 627.503 * 10**(-3) for i in range(3,10)}\n",
    "converters[0] = lambda x: x\n",
    "converters[1] = lambda x: float(x.strip().replace(\"D\",\"E\"))\n",
    "converters[2] = lambda x: float(x.strip().replace(\"D\",\"E\"))\n",
    "\n",
    "#  read molpro csv\n",
    "df = pd.read_csv(\"/home/boittier/pcbach/dimer3d/sapt.csv\", converters=converters)\n",
    "#  strip whitespace in column names\n",
    "df = df.rename(columns=lambda x: x.strip())"
   ]
  },
  {
   "cell_type": "code",
   "execution_count": 16,
   "id": "8aecbcce-ffa4-4fb2-89c7-c6a855e19601",
   "metadata": {
    "collapsed": true,
    "jupyter": {
     "outputs_hidden": true
    },
    "tags": []
   },
   "outputs": [
    {
     "data": {
      "text/html": [
       "<div>\n",
       "<style scoped>\n",
       "    .dataframe tbody tr th:only-of-type {\n",
       "        vertical-align: middle;\n",
       "    }\n",
       "\n",
       "    .dataframe tbody tr th {\n",
       "        vertical-align: top;\n",
       "    }\n",
       "\n",
       "    .dataframe thead th {\n",
       "        text-align: right;\n",
       "    }\n",
       "</style>\n",
       "<table border=\"1\" class=\"dataframe\">\n",
       "  <thead>\n",
       "    <tr style=\"text-align: right;\">\n",
       "      <th></th>\n",
       "      <th>KEYS</th>\n",
       "      <th>RS</th>\n",
       "      <th>TS</th>\n",
       "      <th>ELST</th>\n",
       "      <th>EXCH</th>\n",
       "      <th>IND</th>\n",
       "      <th>EXIND</th>\n",
       "      <th>DISP</th>\n",
       "      <th>EXDISP</th>\n",
       "      <th>ETOT</th>\n",
       "      <th>KEY</th>\n",
       "    </tr>\n",
       "  </thead>\n",
       "  <tbody>\n",
       "    <tr>\n",
       "      <th>0</th>\n",
       "      <td>1-1</td>\n",
       "      <td>0.75</td>\n",
       "      <td>180.0</td>\n",
       "      <td>-62.373121</td>\n",
       "      <td>4.056921e+02</td>\n",
       "      <td>-318.197366</td>\n",
       "      <td>2.515914e+02</td>\n",
       "      <td>-35.614933</td>\n",
       "      <td>-4.037036e-01</td>\n",
       "      <td>240.694452</td>\n",
       "      <td>1-1</td>\n",
       "    </tr>\n",
       "    <tr>\n",
       "      <th>1</th>\n",
       "      <td>2-1</td>\n",
       "      <td>1.00</td>\n",
       "      <td>180.0</td>\n",
       "      <td>-61.080007</td>\n",
       "      <td>1.852532e+02</td>\n",
       "      <td>-111.370336</td>\n",
       "      <td>8.627128e+01</td>\n",
       "      <td>-20.122589</td>\n",
       "      <td>3.723402e+00</td>\n",
       "      <td>82.674903</td>\n",
       "      <td>2-1</td>\n",
       "    </tr>\n",
       "    <tr>\n",
       "      <th>2</th>\n",
       "      <td>3-1</td>\n",
       "      <td>1.25</td>\n",
       "      <td>180.0</td>\n",
       "      <td>-36.211838</td>\n",
       "      <td>7.964523e+01</td>\n",
       "      <td>-39.555195</td>\n",
       "      <td>2.925575e+01</td>\n",
       "      <td>-11.147753</td>\n",
       "      <td>2.685490e+00</td>\n",
       "      <td>24.671678</td>\n",
       "      <td>3-1</td>\n",
       "    </tr>\n",
       "    <tr>\n",
       "      <th>3</th>\n",
       "      <td>4-1</td>\n",
       "      <td>1.50</td>\n",
       "      <td>180.0</td>\n",
       "      <td>-20.247849</td>\n",
       "      <td>3.307793e+01</td>\n",
       "      <td>-14.405995</td>\n",
       "      <td>9.790059e+00</td>\n",
       "      <td>-6.174418</td>\n",
       "      <td>1.462394e+00</td>\n",
       "      <td>3.502116</td>\n",
       "      <td>4-1</td>\n",
       "    </tr>\n",
       "    <tr>\n",
       "      <th>4</th>\n",
       "      <td>5-1</td>\n",
       "      <td>1.75</td>\n",
       "      <td>180.0</td>\n",
       "      <td>-11.790530</td>\n",
       "      <td>1.349713e+01</td>\n",
       "      <td>-5.513265</td>\n",
       "      <td>3.288282e+00</td>\n",
       "      <td>-3.447615</td>\n",
       "      <td>7.158500e-01</td>\n",
       "      <td>-3.250147</td>\n",
       "      <td>5-1</td>\n",
       "    </tr>\n",
       "    <tr>\n",
       "      <th>...</th>\n",
       "      <td>...</td>\n",
       "      <td>...</td>\n",
       "      <td>...</td>\n",
       "      <td>...</td>\n",
       "      <td>...</td>\n",
       "      <td>...</td>\n",
       "      <td>...</td>\n",
       "      <td>...</td>\n",
       "      <td>...</td>\n",
       "      <td>...</td>\n",
       "      <td>...</td>\n",
       "    </tr>\n",
       "    <tr>\n",
       "      <th>107</th>\n",
       "      <td>12-5</td>\n",
       "      <td>3.50</td>\n",
       "      <td>90.0</td>\n",
       "      <td>-0.913704</td>\n",
       "      <td>2.024254e-02</td>\n",
       "      <td>-0.046512</td>\n",
       "      <td>2.525937e-03</td>\n",
       "      <td>-0.113131</td>\n",
       "      <td>2.312804e-03</td>\n",
       "      <td>-1.048266</td>\n",
       "      <td>12-5</td>\n",
       "    </tr>\n",
       "    <tr>\n",
       "      <th>108</th>\n",
       "      <td>13-5</td>\n",
       "      <td>4.25</td>\n",
       "      <td>90.0</td>\n",
       "      <td>-0.473149</td>\n",
       "      <td>1.119777e-03</td>\n",
       "      <td>-0.014520</td>\n",
       "      <td>1.380030e-04</td>\n",
       "      <td>-0.038197</td>\n",
       "      <td>1.642618e-04</td>\n",
       "      <td>-0.524445</td>\n",
       "      <td>13-5</td>\n",
       "    </tr>\n",
       "    <tr>\n",
       "      <th>109</th>\n",
       "      <td>14-5</td>\n",
       "      <td>5.00</td>\n",
       "      <td>90.0</td>\n",
       "      <td>-0.270115</td>\n",
       "      <td>5.359255e-05</td>\n",
       "      <td>-0.005766</td>\n",
       "      <td>9.085400e-06</td>\n",
       "      <td>-0.015719</td>\n",
       "      <td>1.147403e-05</td>\n",
       "      <td>-0.291525</td>\n",
       "      <td>14-5</td>\n",
       "    </tr>\n",
       "    <tr>\n",
       "      <th>110</th>\n",
       "      <td>15-5</td>\n",
       "      <td>7.00</td>\n",
       "      <td>90.0</td>\n",
       "      <td>-0.081262</td>\n",
       "      <td>-5.079888e-07</td>\n",
       "      <td>-0.000868</td>\n",
       "      <td>5.742869e-07</td>\n",
       "      <td>-0.002505</td>\n",
       "      <td>1.499236e-07</td>\n",
       "      <td>-0.084635</td>\n",
       "      <td>15-5</td>\n",
       "    </tr>\n",
       "    <tr>\n",
       "      <th>111</th>\n",
       "      <td>16-5</td>\n",
       "      <td>9.00</td>\n",
       "      <td>90.0</td>\n",
       "      <td>-0.032185</td>\n",
       "      <td>-2.521828e-08</td>\n",
       "      <td>-0.000208</td>\n",
       "      <td>1.139545e-08</td>\n",
       "      <td>-0.000623</td>\n",
       "      <td>3.783456e-09</td>\n",
       "      <td>-0.033016</td>\n",
       "      <td>16-5</td>\n",
       "    </tr>\n",
       "  </tbody>\n",
       "</table>\n",
       "<p>112 rows × 11 columns</p>\n",
       "</div>"
      ],
      "text/plain": [
       "      KEYS    RS     TS       ELST          EXCH         IND         EXIND  \\\n",
       "0    1-1    0.75  180.0 -62.373121  4.056921e+02 -318.197366  2.515914e+02   \n",
       "1    2-1    1.00  180.0 -61.080007  1.852532e+02 -111.370336  8.627128e+01   \n",
       "2    3-1    1.25  180.0 -36.211838  7.964523e+01  -39.555195  2.925575e+01   \n",
       "3    4-1    1.50  180.0 -20.247849  3.307793e+01  -14.405995  9.790059e+00   \n",
       "4    5-1    1.75  180.0 -11.790530  1.349713e+01   -5.513265  3.288282e+00   \n",
       "..     ...   ...    ...        ...           ...         ...           ...   \n",
       "107  12-5   3.50   90.0  -0.913704  2.024254e-02   -0.046512  2.525937e-03   \n",
       "108  13-5   4.25   90.0  -0.473149  1.119777e-03   -0.014520  1.380030e-04   \n",
       "109  14-5   5.00   90.0  -0.270115  5.359255e-05   -0.005766  9.085400e-06   \n",
       "110  15-5   7.00   90.0  -0.081262 -5.079888e-07   -0.000868  5.742869e-07   \n",
       "111  16-5   9.00   90.0  -0.032185 -2.521828e-08   -0.000208  1.139545e-08   \n",
       "\n",
       "          DISP        EXDISP        ETOT   KEY  \n",
       "0   -35.614933 -4.037036e-01  240.694452   1-1  \n",
       "1   -20.122589  3.723402e+00   82.674903   2-1  \n",
       "2   -11.147753  2.685490e+00   24.671678   3-1  \n",
       "3    -6.174418  1.462394e+00    3.502116   4-1  \n",
       "4    -3.447615  7.158500e-01   -3.250147   5-1  \n",
       "..         ...           ...         ...   ...  \n",
       "107  -0.113131  2.312804e-03   -1.048266  12-5  \n",
       "108  -0.038197  1.642618e-04   -0.524445  13-5  \n",
       "109  -0.015719  1.147403e-05   -0.291525  14-5  \n",
       "110  -0.002505  1.499236e-07   -0.084635  15-5  \n",
       "111  -0.000623  3.783456e-09   -0.033016  16-5  \n",
       "\n",
       "[112 rows x 11 columns]"
      ]
     },
     "execution_count": 16,
     "metadata": {},
     "output_type": "execute_result"
    }
   ],
   "source": [
    "df[\"KEY\"] = df[\"KEYS\"].apply(lambda x: x.strip())\n",
    "df"
   ]
  },
  {
   "cell_type": "code",
   "execution_count": 17,
   "id": "a98248b2-fecd-4937-8365-218006c15039",
   "metadata": {},
   "outputs": [
    {
     "data": {
      "text/html": [
       "<div>\n",
       "<style scoped>\n",
       "    .dataframe tbody tr th:only-of-type {\n",
       "        vertical-align: middle;\n",
       "    }\n",
       "\n",
       "    .dataframe tbody tr th {\n",
       "        vertical-align: top;\n",
       "    }\n",
       "\n",
       "    .dataframe thead th {\n",
       "        text-align: right;\n",
       "    }\n",
       "</style>\n",
       "<table border=\"1\" class=\"dataframe\">\n",
       "  <thead>\n",
       "    <tr style=\"text-align: right;\">\n",
       "      <th></th>\n",
       "      <th>POL</th>\n",
       "      <th>KEY</th>\n",
       "      <th>ECOL</th>\n",
       "      <th>TOTAL</th>\n",
       "      <th>ELEC</th>\n",
       "      <th>VDW</th>\n",
       "    </tr>\n",
       "  </thead>\n",
       "  <tbody>\n",
       "    <tr>\n",
       "      <th>0</th>\n",
       "      <td>-27.025564</td>\n",
       "      <td>test306</td>\n",
       "      <td>-135.196597</td>\n",
       "      <td>20.70498</td>\n",
       "      <td>-72.67386</td>\n",
       "      <td>14.61751</td>\n",
       "    </tr>\n",
       "    <tr>\n",
       "      <th>1</th>\n",
       "      <td>-21.739503</td>\n",
       "      <td>test324</td>\n",
       "      <td>-124.059901</td>\n",
       "      <td>19.58474</td>\n",
       "      <td>-66.35907</td>\n",
       "      <td>13.76964</td>\n",
       "    </tr>\n",
       "    <tr>\n",
       "      <th>2</th>\n",
       "      <td>-30.392734</td>\n",
       "      <td>test18</td>\n",
       "      <td>-175.888945</td>\n",
       "      <td>22.99407</td>\n",
       "      <td>-89.90791</td>\n",
       "      <td>22.64238</td>\n",
       "    </tr>\n",
       "    <tr>\n",
       "      <th>3</th>\n",
       "      <td>-19.980820</td>\n",
       "      <td>test105</td>\n",
       "      <td>-132.517714</td>\n",
       "      <td>23.47499</td>\n",
       "      <td>-53.94989</td>\n",
       "      <td>22.92519</td>\n",
       "    </tr>\n",
       "    <tr>\n",
       "      <th>4</th>\n",
       "      <td>-23.962958</td>\n",
       "      <td>test112</td>\n",
       "      <td>-132.383073</td>\n",
       "      <td>23.48549</td>\n",
       "      <td>-66.54650</td>\n",
       "      <td>19.95412</td>\n",
       "    </tr>\n",
       "    <tr>\n",
       "      <th>5</th>\n",
       "      <td>-13.112294</td>\n",
       "      <td>test459</td>\n",
       "      <td>-77.487531</td>\n",
       "      <td>21.62610</td>\n",
       "      <td>-36.64205</td>\n",
       "      <td>7.38603</td>\n",
       "    </tr>\n",
       "    <tr>\n",
       "      <th>6</th>\n",
       "      <td>-22.074791</td>\n",
       "      <td>test471</td>\n",
       "      <td>-127.464211</td>\n",
       "      <td>22.27065</td>\n",
       "      <td>-61.37597</td>\n",
       "      <td>14.54395</td>\n",
       "    </tr>\n",
       "    <tr>\n",
       "      <th>7</th>\n",
       "      <td>-27.885596</td>\n",
       "      <td>test370</td>\n",
       "      <td>-171.027090</td>\n",
       "      <td>19.93028</td>\n",
       "      <td>-79.50871</td>\n",
       "      <td>28.39050</td>\n",
       "    </tr>\n",
       "    <tr>\n",
       "      <th>8</th>\n",
       "      <td>-21.589852</td>\n",
       "      <td>test233</td>\n",
       "      <td>-122.430321</td>\n",
       "      <td>22.72917</td>\n",
       "      <td>-68.96566</td>\n",
       "      <td>10.26162</td>\n",
       "    </tr>\n",
       "    <tr>\n",
       "      <th>9</th>\n",
       "      <td>-23.432770</td>\n",
       "      <td>test181</td>\n",
       "      <td>-135.312473</td>\n",
       "      <td>24.05006</td>\n",
       "      <td>-71.56907</td>\n",
       "      <td>18.55929</td>\n",
       "    </tr>\n",
       "  </tbody>\n",
       "</table>\n",
       "</div>"
      ],
      "text/plain": [
       "         POL      KEY        ECOL     TOTAL      ELEC       VDW\n",
       "0 -27.025564  test306 -135.196597  20.70498 -72.67386  14.61751\n",
       "1 -21.739503  test324 -124.059901  19.58474 -66.35907  13.76964\n",
       "2 -30.392734   test18 -175.888945  22.99407 -89.90791  22.64238\n",
       "3 -19.980820  test105 -132.517714  23.47499 -53.94989  22.92519\n",
       "4 -23.962958  test112 -132.383073  23.48549 -66.54650  19.95412\n",
       "5 -13.112294  test459  -77.487531  21.62610 -36.64205   7.38603\n",
       "6 -22.074791  test471 -127.464211  22.27065 -61.37597  14.54395\n",
       "7 -27.885596  test370 -171.027090  19.93028 -79.50871  28.39050\n",
       "8 -21.589852  test233 -122.430321  22.72917 -68.96566  10.26162\n",
       "9 -23.432770  test181 -135.312473  24.05006 -71.56907  18.55929"
      ]
     },
     "execution_count": 17,
     "metadata": {},
     "output_type": "execute_result"
    }
   ],
   "source": [
    "# pol_3d = pd.merge(df, pol_df, on=\"KEY\")\n",
    "pol_3d = pd.merge(pol_df, ctot)\n",
    "pol_3d = pd.merge(pol_3d, chm_df)\n",
    "pol_3d"
   ]
  },
  {
   "cell_type": "code",
   "execution_count": 18,
   "id": "f07a0108-55ac-4fd0-883c-7ecee7c0e00a",
   "metadata": {
    "collapsed": true,
    "jupyter": {
     "outputs_hidden": true
    },
    "tags": []
   },
   "outputs": [
    {
     "ename": "KeyError",
     "evalue": "'TS'",
     "output_type": "error",
     "traceback": [
      "\u001b[0;31m---------------------------------------------------------------------------\u001b[0m",
      "\u001b[0;31mKeyError\u001b[0m                                  Traceback (most recent call last)",
      "File \u001b[0;32m~/miniconda3/envs/pycharmm/lib/python3.8/site-packages/pandas/core/indexes/base.py:3802\u001b[0m, in \u001b[0;36mIndex.get_loc\u001b[0;34m(self, key, method, tolerance)\u001b[0m\n\u001b[1;32m   3801\u001b[0m \u001b[38;5;28;01mtry\u001b[39;00m:\n\u001b[0;32m-> 3802\u001b[0m     \u001b[38;5;28;01mreturn\u001b[39;00m \u001b[38;5;28;43mself\u001b[39;49m\u001b[38;5;241;43m.\u001b[39;49m\u001b[43m_engine\u001b[49m\u001b[38;5;241;43m.\u001b[39;49m\u001b[43mget_loc\u001b[49m\u001b[43m(\u001b[49m\u001b[43mcasted_key\u001b[49m\u001b[43m)\u001b[49m\n\u001b[1;32m   3803\u001b[0m \u001b[38;5;28;01mexcept\u001b[39;00m \u001b[38;5;167;01mKeyError\u001b[39;00m \u001b[38;5;28;01mas\u001b[39;00m err:\n",
      "File \u001b[0;32m~/miniconda3/envs/pycharmm/lib/python3.8/site-packages/pandas/_libs/index.pyx:138\u001b[0m, in \u001b[0;36mpandas._libs.index.IndexEngine.get_loc\u001b[0;34m()\u001b[0m\n",
      "File \u001b[0;32m~/miniconda3/envs/pycharmm/lib/python3.8/site-packages/pandas/_libs/index.pyx:165\u001b[0m, in \u001b[0;36mpandas._libs.index.IndexEngine.get_loc\u001b[0;34m()\u001b[0m\n",
      "File \u001b[0;32mpandas/_libs/hashtable_class_helper.pxi:5745\u001b[0m, in \u001b[0;36mpandas._libs.hashtable.PyObjectHashTable.get_item\u001b[0;34m()\u001b[0m\n",
      "File \u001b[0;32mpandas/_libs/hashtable_class_helper.pxi:5753\u001b[0m, in \u001b[0;36mpandas._libs.hashtable.PyObjectHashTable.get_item\u001b[0;34m()\u001b[0m\n",
      "\u001b[0;31mKeyError\u001b[0m: 'TS'",
      "\nThe above exception was the direct cause of the following exception:\n",
      "\u001b[0;31mKeyError\u001b[0m                                  Traceback (most recent call last)",
      "Cell \u001b[0;32mIn[18], line 11\u001b[0m\n\u001b[1;32m      8\u001b[0m ax \u001b[38;5;241m=\u001b[39m plt\u001b[38;5;241m.\u001b[39mfigure()\u001b[38;5;241m.\u001b[39madd_subplot()\n\u001b[1;32m     10\u001b[0m \u001b[38;5;28;01mfor\u001b[39;00m i, ts \u001b[38;5;129;01min\u001b[39;00m \u001b[38;5;28menumerate\u001b[39m(TS):\n\u001b[0;32m---> 11\u001b[0m     tmp \u001b[38;5;241m=\u001b[39m pol_3d[\u001b[43mpol_3d\u001b[49m\u001b[43m[\u001b[49m\u001b[38;5;124;43m\"\u001b[39;49m\u001b[38;5;124;43mTS\u001b[39;49m\u001b[38;5;124;43m\"\u001b[39;49m\u001b[43m]\u001b[49m \u001b[38;5;241m==\u001b[39m ts]\n\u001b[1;32m     12\u001b[0m     tmp \u001b[38;5;241m=\u001b[39m tmp[tmp[\u001b[38;5;124m\"\u001b[39m\u001b[38;5;124mRS\u001b[39m\u001b[38;5;124m\"\u001b[39m] \u001b[38;5;241m>\u001b[39m \u001b[38;5;241m0\u001b[39m]\n\u001b[1;32m     13\u001b[0m     \u001b[38;5;66;03m# ax.plot(tmp[\"RS\"], tmp[\"ETOT\"] - tmp[\"ELST\"], \"-o\",  c=colors[i])\u001b[39;00m\n",
      "File \u001b[0;32m~/miniconda3/envs/pycharmm/lib/python3.8/site-packages/pandas/core/frame.py:3807\u001b[0m, in \u001b[0;36mDataFrame.__getitem__\u001b[0;34m(self, key)\u001b[0m\n\u001b[1;32m   3805\u001b[0m \u001b[38;5;28;01mif\u001b[39;00m \u001b[38;5;28mself\u001b[39m\u001b[38;5;241m.\u001b[39mcolumns\u001b[38;5;241m.\u001b[39mnlevels \u001b[38;5;241m>\u001b[39m \u001b[38;5;241m1\u001b[39m:\n\u001b[1;32m   3806\u001b[0m     \u001b[38;5;28;01mreturn\u001b[39;00m \u001b[38;5;28mself\u001b[39m\u001b[38;5;241m.\u001b[39m_getitem_multilevel(key)\n\u001b[0;32m-> 3807\u001b[0m indexer \u001b[38;5;241m=\u001b[39m \u001b[38;5;28;43mself\u001b[39;49m\u001b[38;5;241;43m.\u001b[39;49m\u001b[43mcolumns\u001b[49m\u001b[38;5;241;43m.\u001b[39;49m\u001b[43mget_loc\u001b[49m\u001b[43m(\u001b[49m\u001b[43mkey\u001b[49m\u001b[43m)\u001b[49m\n\u001b[1;32m   3808\u001b[0m \u001b[38;5;28;01mif\u001b[39;00m is_integer(indexer):\n\u001b[1;32m   3809\u001b[0m     indexer \u001b[38;5;241m=\u001b[39m [indexer]\n",
      "File \u001b[0;32m~/miniconda3/envs/pycharmm/lib/python3.8/site-packages/pandas/core/indexes/base.py:3804\u001b[0m, in \u001b[0;36mIndex.get_loc\u001b[0;34m(self, key, method, tolerance)\u001b[0m\n\u001b[1;32m   3802\u001b[0m     \u001b[38;5;28;01mreturn\u001b[39;00m \u001b[38;5;28mself\u001b[39m\u001b[38;5;241m.\u001b[39m_engine\u001b[38;5;241m.\u001b[39mget_loc(casted_key)\n\u001b[1;32m   3803\u001b[0m \u001b[38;5;28;01mexcept\u001b[39;00m \u001b[38;5;167;01mKeyError\u001b[39;00m \u001b[38;5;28;01mas\u001b[39;00m err:\n\u001b[0;32m-> 3804\u001b[0m     \u001b[38;5;28;01mraise\u001b[39;00m \u001b[38;5;167;01mKeyError\u001b[39;00m(key) \u001b[38;5;28;01mfrom\u001b[39;00m \u001b[38;5;21;01merr\u001b[39;00m\n\u001b[1;32m   3805\u001b[0m \u001b[38;5;28;01mexcept\u001b[39;00m \u001b[38;5;167;01mTypeError\u001b[39;00m:\n\u001b[1;32m   3806\u001b[0m     \u001b[38;5;66;03m# If we have a listlike key, _check_indexing_error will raise\u001b[39;00m\n\u001b[1;32m   3807\u001b[0m     \u001b[38;5;66;03m#  InvalidIndexError. Otherwise we fall through and re-raise\u001b[39;00m\n\u001b[1;32m   3808\u001b[0m     \u001b[38;5;66;03m#  the TypeError.\u001b[39;00m\n\u001b[1;32m   3809\u001b[0m     \u001b[38;5;28mself\u001b[39m\u001b[38;5;241m.\u001b[39m_check_indexing_error(key)\n",
      "\u001b[0;31mKeyError\u001b[0m: 'TS'"
     ]
    },
    {
     "data": {
      "image/png": "[encoded data removed]",
      "text/plain": [
       "<Figure size 640x480 with 1 Axes>"
      ]
     },
     "metadata": {},
     "output_type": "display_data"
    }
   ],
   "source": [
    "import matplotlib.pyplot as plt\n",
    "import numpy as np\n",
    "\n",
    "TS = list(set(df[\"TS\"]))\n",
    "TS.sort()\n",
    "colors = plt.cm.plasma_r(np.linspace(0, 1, len(TS)))\n",
    "\n",
    "ax = plt.figure().add_subplot()\n",
    "\n",
    "    tmp = pol_3d[pol_3d[\"TS\"] == ts]\n",
    "    tmp = tmp[tmp[\"RS\"] > 0]\n",
    "    # ax.plot(tmp[\"RS\"], tmp[\"ETOT\"] - tmp[\"ELST\"], \"-o\",  c=colors[i])\n",
    "    ax.plot(tmp[\"RS\"], tmp[\"POL\"], \"-o\",  c=colors[i])\n",
    "    \n",
    "plt.ylim(-.1,0)\n",
    "# plt.yscale(\"log\")\n",
    "plt.axhline(0, c=\"k\", linewidth=0.1)\n",
    "plt.xlim(1,8)"
   ]
  },
  {
   "cell_type": "code",
   "execution_count": 49,
   "id": "4ba69daa-d538-4a3a-b6b8-6f5177452a1f",
   "metadata": {},
   "outputs": [
    {
     "name": "stderr",
     "output_type": "stream",
     "text": [
      "No artists with labels found to put in legend.  Note that artists whose label start with an underscore are ignored when legend() is called with no argument.\n"
     ]
    },
    {
     "data": {
      "text/plain": [
       "<matplotlib.lines.Line2D at 0x7f9b13c00610>"
      ]
     },
     "execution_count": 49,
     "metadata": {},
     "output_type": "execute_result"
    },
    {
     "data": {
      "image/png": "[encoded data removed]",
      "text/plain": [
       "<Figure size 640x480 with 1 Axes>"
      ]
     },
     "metadata": {},
     "output_type": "display_data"
    }
   ],
   "source": [
    "import matplotlib.pyplot as plt\n",
    "import numpy as np\n",
    "\n",
    "colors = plt.cm.plasma_r(np.linspace(0, 1, len(TS)))\n",
    "TS = list(set(df[\"TS\"]))\n",
    "TS.sort()\n",
    "\n",
    "ax = plt.figure().add_subplot()\n",
    "\n",
    "for i, ts in enumerate(TS):\n",
    "    tmp = pol_3d[pol_3d[\"TS\"] == ts]\n",
    "    tmp = tmp[tmp[\"RS\"] > 0]\n",
    "    # ax.plot(tmp[\"RS\"], tmp[\"ETOT\"] - tmp[\"ELST\"], \"-o\",  c=colors[i])\n",
    "    ax.plot(tmp[\"RS\"], tmp[\"ECOL\"], \"-d\",  c=colors[i])\n",
    "    ax.plot(tmp[\"RS\"], tmp[\"ELST\"], \"-d\",  c=colors[i])\n",
    "    ax.plot(tmp[\"RS\"], tmp[\"ELEC\"], \"-x\",  c=colors[i])\n",
    "    ax.plot(tmp[\"RS\"], tmp[\"ELEC\"] + tmp[\"POL\"], \"--x\",  c=colors[i])\n",
    "    \n",
    "plt.legend()\n",
    "# plt.ylim(-10,0)\n",
    "plt.axhline(0, c=\"k\", linewidth=0.1)\n",
    "# plt.xlim(1.5,3)"
   ]
  },
  {
   "cell_type": "code",
   "execution_count": 50,
   "id": "c4c55ea3-5e5d-47a3-94b8-8800be23cfc4",
   "metadata": {},
   "outputs": [
    {
     "data": {
      "text/plain": [
       "{'m_nproc': 4,\n",
       " 'm_memory': 480,\n",
       " 'm_queue': 'short',\n",
       " 'm_basis': 'avdz',\n",
       " 'm_method': 'run,ks,pbe0',\n",
       " 'chmpath': '/home/boittier/dev-release-dcm/build/cmake/charmm',\n",
       " 'modules': 'module load cmake/cmake-3.23.0-gcc-11.2.0-openmpi-4.1.3',\n",
       " 'c_files': ['pbe0_dz.pc'],\n",
       " 'c_dcm_command': 'open unit 11 card read name pbe0_dz.pc \\nDCM IUDCM 11 TSHIFT XYZ 15'}"
      ]
     },
     "execution_count": 50,
     "metadata": {},
     "output_type": "execute_result"
    }
   ],
   "source": [
    "j.kwargs"
   ]
  },
  {
   "cell_type": "code",
   "execution_count": 19,
   "id": "2e0a5ac2-961b-4940-b404-a7cb8510303c",
   "metadata": {},
   "outputs": [],
   "source": [
    "pol_3d[\"ELECpol\"] = pol_3d[\"ELEC\"] + pol_3d[\"POL\"]"
   ]
  },
  {
   "cell_type": "code",
   "execution_count": 20,
   "id": "18d5036a-fe81-4458-9be7-aaab880aaffc",
   "metadata": {
    "collapsed": true,
    "jupyter": {
     "outputs_hidden": true,
     "source_hidden": true
    },
    "tags": []
   },
   "outputs": [
    {
     "ename": "KeyError",
     "evalue": "'ELST'",
     "output_type": "error",
     "traceback": [
      "\u001b[0;31m---------------------------------------------------------------------------\u001b[0m",
      "\u001b[0;31mKeyError\u001b[0m                                  Traceback (most recent call last)",
      "File \u001b[0;32m~/miniconda3/envs/pycharmm/lib/python3.8/site-packages/pandas/core/indexes/base.py:3802\u001b[0m, in \u001b[0;36mIndex.get_loc\u001b[0;34m(self, key, method, tolerance)\u001b[0m\n\u001b[1;32m   3801\u001b[0m \u001b[38;5;28;01mtry\u001b[39;00m:\n\u001b[0;32m-> 3802\u001b[0m     \u001b[38;5;28;01mreturn\u001b[39;00m \u001b[38;5;28;43mself\u001b[39;49m\u001b[38;5;241;43m.\u001b[39;49m\u001b[43m_engine\u001b[49m\u001b[38;5;241;43m.\u001b[39;49m\u001b[43mget_loc\u001b[49m\u001b[43m(\u001b[49m\u001b[43mcasted_key\u001b[49m\u001b[43m)\u001b[49m\n\u001b[1;32m   3803\u001b[0m \u001b[38;5;28;01mexcept\u001b[39;00m \u001b[38;5;167;01mKeyError\u001b[39;00m \u001b[38;5;28;01mas\u001b[39;00m err:\n",
      "File \u001b[0;32m~/miniconda3/envs/pycharmm/lib/python3.8/site-packages/pandas/_libs/index.pyx:138\u001b[0m, in \u001b[0;36mpandas._libs.index.IndexEngine.get_loc\u001b[0;34m()\u001b[0m\n",
      "File \u001b[0;32m~/miniconda3/envs/pycharmm/lib/python3.8/site-packages/pandas/_libs/index.pyx:165\u001b[0m, in \u001b[0;36mpandas._libs.index.IndexEngine.get_loc\u001b[0;34m()\u001b[0m\n",
      "File \u001b[0;32mpandas/_libs/hashtable_class_helper.pxi:5745\u001b[0m, in \u001b[0;36mpandas._libs.hashtable.PyObjectHashTable.get_item\u001b[0;34m()\u001b[0m\n",
      "File \u001b[0;32mpandas/_libs/hashtable_class_helper.pxi:5753\u001b[0m, in \u001b[0;36mpandas._libs.hashtable.PyObjectHashTable.get_item\u001b[0;34m()\u001b[0m\n",
      "\u001b[0;31mKeyError\u001b[0m: 'ELST'",
      "\nThe above exception was the direct cause of the following exception:\n",
      "\u001b[0;31mKeyError\u001b[0m                                  Traceback (most recent call last)",
      "Cell \u001b[0;32mIn[20], line 1\u001b[0m\n\u001b[0;32m----> 1\u001b[0m \u001b[43mplot_energy_MSE\u001b[49m\u001b[43m(\u001b[49m\u001b[43mpol_3d\u001b[49m\u001b[43m,\u001b[49m\u001b[43m \u001b[49m\u001b[38;5;124;43m\"\u001b[39;49m\u001b[38;5;124;43mECOL\u001b[39;49m\u001b[38;5;124;43m\"\u001b[39;49m\u001b[43m,\u001b[49m\u001b[43m \u001b[49m\u001b[38;5;124;43m\"\u001b[39;49m\u001b[38;5;124;43mELST\u001b[39;49m\u001b[38;5;124;43m\"\u001b[39;49m\u001b[43m,\u001b[49m\u001b[43m \u001b[49m\n\u001b[1;32m      2\u001b[0m \u001b[43m                \u001b[49m\u001b[43melec\u001b[49m\u001b[38;5;241;43m=\u001b[39;49m\u001b[38;5;124;43m\"\u001b[39;49m\u001b[38;5;124;43mECOL\u001b[39;49m\u001b[38;5;124;43m\"\u001b[39;49m\u001b[43m,\u001b[49m\u001b[43m \u001b[49m\u001b[43mCMAP\u001b[49m\u001b[38;5;241;43m=\u001b[39;49m\u001b[38;5;124;43m\"\u001b[39;49m\u001b[38;5;124;43mplasma\u001b[39;49m\u001b[38;5;124;43m\"\u001b[39;49m\u001b[43m,\u001b[49m\n\u001b[1;32m      3\u001b[0m \u001b[43m               \u001b[49m\u001b[43mxlabel\u001b[49m\u001b[38;5;241;43m=\u001b[39;49m\u001b[38;5;124;43m\"\u001b[39;49m\u001b[38;5;124;43mCoulomb integral [kcal/mol]\u001b[39;49m\u001b[38;5;124;43m\"\u001b[39;49m\u001b[43m,\u001b[49m\n\u001b[1;32m      4\u001b[0m \u001b[43m               \u001b[49m\u001b[43mylabel\u001b[49m\u001b[38;5;241;43m=\u001b[39;49m\u001b[38;5;124;43m\"\u001b[39;49m\u001b[38;5;124;43mSAPT-ELEC [kcal/mol]\u001b[39;49m\u001b[38;5;124;43m\"\u001b[39;49m\u001b[43m)\u001b[49m\n\u001b[1;32m      6\u001b[0m plt\u001b[38;5;241m.\u001b[39msavefig(\u001b[38;5;124m\"\u001b[39m\u001b[38;5;124msapt_vs_ci.pdf\u001b[39m\u001b[38;5;124m\"\u001b[39m, bbox_inches\u001b[38;5;241m=\u001b[39m\u001b[38;5;124m\"\u001b[39m\u001b[38;5;124mtight\u001b[39m\u001b[38;5;124m\"\u001b[39m)\n",
      "File \u001b[0;32m~/Documents/phd/ff_energy/ff_energy/plot.py:16\u001b[0m, in \u001b[0;36mplot_energy_MSE\u001b[0;34m(df, key1, key2, FONTSIZE, xlabel, ylabel, elec, CMAP, cbar_label)\u001b[0m\n\u001b[1;32m     14\u001b[0m fig, ax \u001b[38;5;241m=\u001b[39m plt\u001b[38;5;241m.\u001b[39msubplots()\n\u001b[1;32m     15\u001b[0m \u001b[38;5;66;03m# calculate MSE\u001b[39;00m\n\u001b[0;32m---> 16\u001b[0m ERROR \u001b[38;5;241m=\u001b[39m df[key1] \u001b[38;5;241m-\u001b[39m \u001b[43mdf\u001b[49m\u001b[43m[\u001b[49m\u001b[43mkey2\u001b[49m\u001b[43m]\u001b[49m\n\u001b[1;32m     17\u001b[0m MSE \u001b[38;5;241m=\u001b[39m np\u001b[38;5;241m.\u001b[39mmean(ERROR \u001b[38;5;241m*\u001b[39m\u001b[38;5;241m*\u001b[39m \u001b[38;5;241m2\u001b[39m)\n\u001b[1;32m     18\u001b[0m df[\u001b[38;5;124m\"\u001b[39m\u001b[38;5;124mMSE\u001b[39m\u001b[38;5;124m\"\u001b[39m] \u001b[38;5;241m=\u001b[39m ERROR \u001b[38;5;241m*\u001b[39m\u001b[38;5;241m*\u001b[39m \u001b[38;5;241m2\u001b[39m\n",
      "File \u001b[0;32m~/miniconda3/envs/pycharmm/lib/python3.8/site-packages/pandas/core/frame.py:3807\u001b[0m, in \u001b[0;36mDataFrame.__getitem__\u001b[0;34m(self, key)\u001b[0m\n\u001b[1;32m   3805\u001b[0m \u001b[38;5;28;01mif\u001b[39;00m \u001b[38;5;28mself\u001b[39m\u001b[38;5;241m.\u001b[39mcolumns\u001b[38;5;241m.\u001b[39mnlevels \u001b[38;5;241m>\u001b[39m \u001b[38;5;241m1\u001b[39m:\n\u001b[1;32m   3806\u001b[0m     \u001b[38;5;28;01mreturn\u001b[39;00m \u001b[38;5;28mself\u001b[39m\u001b[38;5;241m.\u001b[39m_getitem_multilevel(key)\n\u001b[0;32m-> 3807\u001b[0m indexer \u001b[38;5;241m=\u001b[39m \u001b[38;5;28;43mself\u001b[39;49m\u001b[38;5;241;43m.\u001b[39;49m\u001b[43mcolumns\u001b[49m\u001b[38;5;241;43m.\u001b[39;49m\u001b[43mget_loc\u001b[49m\u001b[43m(\u001b[49m\u001b[43mkey\u001b[49m\u001b[43m)\u001b[49m\n\u001b[1;32m   3808\u001b[0m \u001b[38;5;28;01mif\u001b[39;00m is_integer(indexer):\n\u001b[1;32m   3809\u001b[0m     indexer \u001b[38;5;241m=\u001b[39m [indexer]\n",
      "File \u001b[0;32m~/miniconda3/envs/pycharmm/lib/python3.8/site-packages/pandas/core/indexes/base.py:3804\u001b[0m, in \u001b[0;36mIndex.get_loc\u001b[0;34m(self, key, method, tolerance)\u001b[0m\n\u001b[1;32m   3802\u001b[0m     \u001b[38;5;28;01mreturn\u001b[39;00m \u001b[38;5;28mself\u001b[39m\u001b[38;5;241m.\u001b[39m_engine\u001b[38;5;241m.\u001b[39mget_loc(casted_key)\n\u001b[1;32m   3803\u001b[0m \u001b[38;5;28;01mexcept\u001b[39;00m \u001b[38;5;167;01mKeyError\u001b[39;00m \u001b[38;5;28;01mas\u001b[39;00m err:\n\u001b[0;32m-> 3804\u001b[0m     \u001b[38;5;28;01mraise\u001b[39;00m \u001b[38;5;167;01mKeyError\u001b[39;00m(key) \u001b[38;5;28;01mfrom\u001b[39;00m \u001b[38;5;21;01merr\u001b[39;00m\n\u001b[1;32m   3805\u001b[0m \u001b[38;5;28;01mexcept\u001b[39;00m \u001b[38;5;167;01mTypeError\u001b[39;00m:\n\u001b[1;32m   3806\u001b[0m     \u001b[38;5;66;03m# If we have a listlike key, _check_indexing_error will raise\u001b[39;00m\n\u001b[1;32m   3807\u001b[0m     \u001b[38;5;66;03m#  InvalidIndexError. Otherwise we fall through and re-raise\u001b[39;00m\n\u001b[1;32m   3808\u001b[0m     \u001b[38;5;66;03m#  the TypeError.\u001b[39;00m\n\u001b[1;32m   3809\u001b[0m     \u001b[38;5;28mself\u001b[39m\u001b[38;5;241m.\u001b[39m_check_indexing_error(key)\n",
      "\u001b[0;31mKeyError\u001b[0m: 'ELST'"
     ]
    },
    {
     "data": {
      "image/png": "[encoded data removed]",
      "text/plain": [
       "<Figure size 640x480 with 1 Axes>"
      ]
     },
     "metadata": {},
     "output_type": "display_data"
    }
   ],
   "source": [
    "plot_energy_MSE(pol_3d, \"ECOL\", \"ELST\", \n",
    "                elec=\"ECOL\", CMAP=\"plasma\",\n",
    "               xlabel=\"Coulomb integral [kcal/mol]\",\n",
    "               ylabel=\"SAPT-ELEC [kcal/mol]\")\n",
    "\n",
    "plt.savefig(\"sapt_vs_ci.pdf\", bbox_inches=\"tight\")"
   ]
  },
  {
   "cell_type": "code",
   "execution_count": 26,
   "id": "228a1dba-ee77-4797-a56b-fec3f2725d15",
   "metadata": {},
   "outputs": [
    {
     "data": {
      "text/plain": [
       "(-180.0, 0.0)"
      ]
     },
     "execution_count": 26,
     "metadata": {},
     "output_type": "execute_result"
    },
    {
     "data": {
      "image/png": "[encoded data removed]",
      "text/plain": [
       "<Figure size 640x480 with 2 Axes>"
      ]
     },
     "metadata": {},
     "output_type": "display_data"
    }
   ],
   "source": [
    "plot_energy_MSE(pol_3d, \"ECOL\", \"ELEC\", \n",
    "                elec=\"ECOL\", CMAP=\"plasma\",\n",
    "               xlabel=\"Coulomb integral [kcal/mol]\",\n",
    "               ylabel=\"CHM-ELEC [kcal/mol]\")\n",
    "plt.savefig(\"chm_vs_ci.pdf\", bbox_inches=\"tight\")\n",
    "plt.xlim(-180,0)\n",
    "plt.ylim(-180,0)"
   ]
  },
  {
   "cell_type": "code",
   "execution_count": 25,
   "id": "7585cad5-93ce-4fcf-bb92-9869d6cdf345",
   "metadata": {},
   "outputs": [
    {
     "data": {
      "text/plain": [
       "(-180.0, 0.0)"
      ]
     },
     "execution_count": 25,
     "metadata": {},
     "output_type": "execute_result"
    },
    {
     "data": {
      "image/png": "[encoded data removed]",
      "text/plain": [
       "<Figure size 640x480 with 2 Axes>"
      ]
     },
     "metadata": {},
     "output_type": "display_data"
    }
   ],
   "source": [
    "plot_energy_MSE(pol_3d, \"ECOL\", \"ELECpol\", \n",
    "                elec=\"ECOL\", CMAP=\"plasma\",\n",
    "               xlabel=\"Coulomb integral [kcal/mol]\",\n",
    "               ylabel=\"CHM-ELEC + POL [kcal/mol]\")\n",
    "plt.savefig(\"chm_pol_vs_ci.pdf\", bbox_inches=\"tight\")\n",
    "plt.xlim(-180,0)\n",
    "plt.ylim(-180,0)"
   ]
  },
  {
   "cell_type": "code",
   "execution_count": null,
   "id": "48b37163-ca96-44b7-920e-be321997c3b3",
   "metadata": {},
   "outputs": [],
   "source": []
  },
  {
   "cell_type": "code",
   "execution_count": null,
   "id": "3745ecf5-5eb1-4186-ac78-eb80d142b459",
   "metadata": {},
   "outputs": [],
   "source": []
  }
 ],
 "metadata": {
  "kernelspec": {
   "display_name": "pycharmm",
   "language": "python",
   "name": "pycharmm"
  },
  "language_info": {
   "codemirror_mode": {
    "name": "ipython",
    "version": 3
   },
   "file_extension": ".py",
   "mimetype": "text/x-python",
   "name": "python",
   "nbconvert_exporter": "python",
   "pygments_lexer": "ipython3",
   "version": "3.8.16"
  }
 },
 "nbformat": 4,
 "nbformat_minor": 5
}
