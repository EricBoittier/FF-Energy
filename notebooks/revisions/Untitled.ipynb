{
 "cells": [
  {
   "cell_type": "code",
   "execution_count": 18,
   "id": "e8e9caea-58f4-44e6-9988-151fe79de30b",
   "metadata": {},
   "outputs": [],
   "source": [
    "from pathlib import Path\n",
    "import numpy as np"
   ]
  },
  {
   "cell_type": "code",
   "execution_count": 3,
   "id": "15fce1e3-ed56-4698-a6c4-424981f54fb4",
   "metadata": {},
   "outputs": [],
   "source": [
    "revPath = Path(\"/home/boittier/mike\")"
   ]
  },
  {
   "cell_type": "code",
   "execution_count": 4,
   "id": "e5aee60e-de57-438a-9bb9-2234f80af1d4",
   "metadata": {},
   "outputs": [],
   "source": [
    "tip3 = revPath / \"sampledTIP.xyz\""
   ]
  },
  {
   "cell_type": "code",
   "execution_count": 6,
   "id": "a264f547-9c52-4c62-a0b4-b2c1e955308a",
   "metadata": {},
   "outputs": [],
   "source": [
    "tip3_f = open(tip3).readlines()\n",
    "# tip3_f"
   ]
  },
  {
   "cell_type": "code",
   "execution_count": 31,
   "id": "8125e557-5d32-4c00-b0b1-f7b54bf65ffb",
   "metadata": {},
   "outputs": [],
   "source": [
    "test_lines = tip3_f[2:62]\n",
    "\n",
    "def lines2xyz(lines):\n",
    "    return np.array([_.split()[1:] for _ in lines], dtype=\"float\")\n",
    "\n",
    "def lines2atomnames(lines):\n",
    "    return [_.split()[0] for _ in lines]\n",
    "\n",
    "# lines2atomnames(test_lines)\n",
    "\n"
   ]
  },
  {
   "cell_type": "code",
   "execution_count": 42,
   "id": "65af957d-a7a9-41a3-a46e-d8297760230d",
   "metadata": {},
   "outputs": [],
   "source": [
    "def get_pdb(fileLines, resids):\n",
    "    header = \"\"\"HEADER\n",
    "TITLE\n",
    "REMARK\n",
    "\"\"\"\n",
    "    pdb_format = (\n",
    "        \"{:6s}{:5d} {:<4s}{:1s}{:4s}{:1s}{:4d}{:1s}   \"\n",
    "        \"{:8.3f}{:8.3f}{:8.3f}{:6.2f}{:6.2f}\"\n",
    "        \"          {:>2s}{:2s}\\n\"\n",
    "    )\n",
    "    _str = header\n",
    "    last_resid = resids[0]\n",
    "    res_id_count = 1\n",
    "    res_ids_ = []\n",
    "    restypes = resids\n",
    "    \n",
    "    atomnames = lines2atomnames(fileLines)\n",
    "    xyzs = lines2xyz(fileLines)\n",
    "\n",
    "    for i, line in enumerate(fileLines):\n",
    "        AN = atomnames[i]\n",
    "        RESNAME = restypes[i]\n",
    "\n",
    "        # print(i, RESNAME)\n",
    "\n",
    "        if AN == \"Cl\":\n",
    "            print(i, line)\n",
    "            if atomnames[i - 1] == \"Cl\":\n",
    "                AN = \"CL2\"\n",
    "                atomnames[i] = \"CL2\"\n",
    "            else:\n",
    "                AN = \"CL1\"\n",
    "                atomnames[i] = \"CL1\"\n",
    "\n",
    "            print(atomnames[i], AN)\n",
    "\n",
    "        if RESNAME == \"CLA\":\n",
    "            AN = \"CLA\"\n",
    "            atomnames[i] = \"CLA\"\n",
    "        if RESNAME == \"CLA\":\n",
    "            AN = \"CLA\"\n",
    "            atomnames[i] = \"CLA\"\n",
    "        if RESNAME == \"DCM\" and AN.__contains__(\"H\"):\n",
    "            if atomnames[i - 1].__contains__(\"H\"):\n",
    "                print(\"H2\")\n",
    "                AN = \"H2\"\n",
    "                atomnames[i] = \"H\" #\"H2\"\n",
    "            else:\n",
    "                AN = \"H1\"\n",
    "                atomnames[i] = \"H\" #\"H1\"\n",
    "                print(\"H1\")\n",
    "\n",
    "        if RESNAME == \"TIP3\":\n",
    "            if atomnames[i].startswith(\"H\"):\n",
    "                atomnames[i] = \"HT\"\n",
    "                if i == 1 or i == 4:\n",
    "                    AN = \"H1\"\n",
    "                else:\n",
    "                    AN = \"H2\"\n",
    "            if atomnames[i].startswith(\"O\"):\n",
    "                atomnames[i] = \"OT\"\n",
    "                AN = \"OH2\"\n",
    "\n",
    "        if resids[i] != last_resid:\n",
    "            res_id_count += 1\n",
    "            last_resid = resids[i]\n",
    "\n",
    "        RESTYPE = restypes[i].upper()\n",
    "        if AN == \"K\":\n",
    "            AN = \"POT\"\n",
    "            atomnames[i] = \"POT\"\n",
    "\n",
    "        _1 = \"ATOM\"\n",
    "        _2 = i + 1\n",
    "        _3 = AN.upper()\n",
    "        _4 = \"\"\n",
    "        _5 = RESTYPE\n",
    "        _6 = \"\"\n",
    "        _7 = res_id_count  # resids[i]\n",
    "        _8 = \"\"\n",
    "        _9 = xyzs[i, 0]\n",
    "        _10 = xyzs[i, 1]\n",
    "        _11 = xyzs[i, 2]\n",
    "        _12 = 0.0\n",
    "        _13 = 0.0\n",
    "        _14 = atomnames[i]\n",
    "        _15 = \" \"\n",
    "        _ = pdb_format.format(\n",
    "            _1, _2, _3, _4, _5, _6, _7, _8, _9, _10, _11, _12, _13, _14, _15\n",
    "        )\n",
    "        _str += _\n",
    "    _str += \"END\"\n",
    "    return _str"
   ]
  },
  {
   "cell_type": "code",
   "execution_count": 43,
   "id": "1920409f-915d-47af-976c-b0264bfcd729",
   "metadata": {},
   "outputs": [],
   "source": [
    "pdb_str = get_pdb(tip3_f[2:62], [\"TIP3\"]*60)    "
   ]
  },
  {
   "cell_type": "code",
   "execution_count": 44,
   "id": "d2a3bfa3-6a5c-4013-b05b-76630c4662b1",
   "metadata": {},
   "outputs": [
    {
     "ename": "FileNotFoundError",
     "evalue": "[Errno 2] No such file or directory: 'tmppdbs/test0.pdb'",
     "output_type": "error",
     "traceback": [
      "\u001b[0;31m---------------------------------------------------------------------------\u001b[0m",
      "\u001b[0;31mFileNotFoundError\u001b[0m                         Traceback (most recent call last)",
      "Cell \u001b[0;32mIn[44], line 1\u001b[0m\n\u001b[0;32m----> 1\u001b[0m \u001b[38;5;28;01mwith\u001b[39;00m \u001b[38;5;28;43mopen\u001b[39;49m\u001b[43m(\u001b[49m\u001b[38;5;124;43m\"\u001b[39;49m\u001b[38;5;124;43mtmppdbs/test0.pdb\u001b[39;49m\u001b[38;5;124;43m\"\u001b[39;49m\u001b[43m,\u001b[49m\u001b[43m \u001b[49m\u001b[38;5;124;43m\"\u001b[39;49m\u001b[38;5;124;43mw\u001b[39;49m\u001b[38;5;124;43m\"\u001b[39;49m\u001b[43m)\u001b[49m \u001b[38;5;28;01mas\u001b[39;00m f:\n\u001b[1;32m      2\u001b[0m     f\u001b[38;5;241m.\u001b[39mwritelines(pdb_str)\n",
      "File \u001b[0;32m~/miniconda3/envs/pycharmm/lib/python3.8/site-packages/IPython/core/interactiveshell.py:282\u001b[0m, in \u001b[0;36m_modified_open\u001b[0;34m(file, *args, **kwargs)\u001b[0m\n\u001b[1;32m    275\u001b[0m \u001b[38;5;28;01mif\u001b[39;00m file \u001b[38;5;129;01min\u001b[39;00m {\u001b[38;5;241m0\u001b[39m, \u001b[38;5;241m1\u001b[39m, \u001b[38;5;241m2\u001b[39m}:\n\u001b[1;32m    276\u001b[0m     \u001b[38;5;28;01mraise\u001b[39;00m \u001b[38;5;167;01mValueError\u001b[39;00m(\n\u001b[1;32m    277\u001b[0m         \u001b[38;5;124mf\u001b[39m\u001b[38;5;124m\"\u001b[39m\u001b[38;5;124mIPython won\u001b[39m\u001b[38;5;124m'\u001b[39m\u001b[38;5;124mt let you open fd=\u001b[39m\u001b[38;5;132;01m{\u001b[39;00mfile\u001b[38;5;132;01m}\u001b[39;00m\u001b[38;5;124m by default \u001b[39m\u001b[38;5;124m\"\u001b[39m\n\u001b[1;32m    278\u001b[0m         \u001b[38;5;124m\"\u001b[39m\u001b[38;5;124mas it is likely to crash IPython. If you know what you are doing, \u001b[39m\u001b[38;5;124m\"\u001b[39m\n\u001b[1;32m    279\u001b[0m         \u001b[38;5;124m\"\u001b[39m\u001b[38;5;124myou can use builtins\u001b[39m\u001b[38;5;124m'\u001b[39m\u001b[38;5;124m open.\u001b[39m\u001b[38;5;124m\"\u001b[39m\n\u001b[1;32m    280\u001b[0m     )\n\u001b[0;32m--> 282\u001b[0m \u001b[38;5;28;01mreturn\u001b[39;00m \u001b[43mio_open\u001b[49m\u001b[43m(\u001b[49m\u001b[43mfile\u001b[49m\u001b[43m,\u001b[49m\u001b[43m \u001b[49m\u001b[38;5;241;43m*\u001b[39;49m\u001b[43margs\u001b[49m\u001b[43m,\u001b[49m\u001b[43m \u001b[49m\u001b[38;5;241;43m*\u001b[39;49m\u001b[38;5;241;43m*\u001b[39;49m\u001b[43mkwargs\u001b[49m\u001b[43m)\u001b[49m\n",
      "\u001b[0;31mFileNotFoundError\u001b[0m: [Errno 2] No such file or directory: 'tmppdbs/test0.pdb'"
     ]
    }
   ],
   "source": [
    "with open(\"tmppdbs/test0.pdb\", \"w\") as f:\n",
    "    f.writelines(pdb_str)"
   ]
  },
  {
   "cell_type": "code",
   "execution_count": null,
   "id": "8c0e4998-e40a-4fb1-b167-996efa45875c",
   "metadata": {},
   "outputs": [],
   "source": []
  }
 ],
 "metadata": {
  "kernelspec": {
   "display_name": "Python 3 (ipykernel)",
   "language": "python",
   "name": "python3"
  },
  "language_info": {
   "codemirror_mode": {
    "name": "ipython",
    "version": 3
   },
   "file_extension": ".py",
   "mimetype": "text/x-python",
   "name": "python",
   "nbconvert_exporter": "python",
   "pygments_lexer": "ipython3",
   "version": "3.8.16"
  }
 },
 "nbformat": 4,
 "nbformat_minor": 5
}
