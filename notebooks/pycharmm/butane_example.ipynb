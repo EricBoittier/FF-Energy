{
 "cells": [
  {
   "cell_type": "code",
   "execution_count": 2,
   "id": "1d979079-93eb-431e-a0e7-83eeada88c9a",
   "metadata": {},
   "outputs": [],
   "source": [
    "import os\n",
    "import sys\n",
    "import numpy as np\n",
    "import pandas as pd\n",
    "\n",
    "import pycharmm\n",
    "import pycharmm.generate as gen\n",
    "import pycharmm.ic as ic\n",
    "import pycharmm.coor as coor\n",
    "import pycharmm.energy as energy\n",
    "import pycharmm.dynamics as dyn\n",
    "import pycharmm.nbonds as nbonds\n",
    "import pycharmm.minimize as minimize\n",
    "import pycharmm.crystal as crystal\n",
    "import pycharmm.select as select\n",
    "import pycharmm.image as image\n",
    "import pycharmm.psf as psf\n",
    "import pycharmm.param as param\n",
    "import pycharmm.read as read\n",
    "import pycharmm.write as write\n",
    "import pycharmm.settings as settings\n",
    "import pycharmm.cons_harm as cons_harm\n",
    "import pycharmm.cons_fix as cons_fix\n",
    "import pycharmm.shake as shake\n",
    "import pycharmm.scalar as scalar"
   ]
  },
  {
   "cell_type": "code",
   "execution_count": 3,
   "id": "f061d4f0-3765-4eb1-8dff-b2bb07beb686",
   "metadata": {},
   "outputs": [
    {
     "name": "stdout",
     "output_type": "stream",
     "text": [
      "  \n",
      " CHARMM>     read rtf card -\n",
      " CHARMM>     name toppar/top_all36_cgenff.rtf\n",
      " VOPEN> Attempting to open::toppar/top_all36_cgenff.rtf::\n",
      " MAINIO> Residue topology file being read from unit  91.\n",
      " TITLE> *  --------------------------------------------------------------------------  *\n",
      " TITLE> *          CGENFF: TOPOLOGY FOR THE CHARMM GENERAL FORCE FIELD V. 4.6          *\n",
      " TITLE> *                    FOR SMALL MOLECULE DRUG DESIGN                            *\n",
      " TITLE> *  --------------------------------------------------------------------------  *\n",
      " TITLE> *\n",
      "\n",
      " DRUDES PARTICLES WILL BE GENERATED AUTOMATICALLY FOR ALL ATOMS WITH NON-ZERO ALPHA\n",
      " Thole-type dipole screening, Slater-Delta shape {S(u) = 1 - (1+u/2)*exp(-u)}, default radius =  1.300000\n",
      " VCLOSE: Closing unit   91 with status \"KEEP\"\n",
      "  \n",
      " CHARMM>     \n",
      "  \n",
      "  \n",
      " CHARMM>     read param card -\n",
      " CHARMM>     name toppar/par_all36_cgenff.prm\n",
      " VOPEN> Attempting to open::toppar/par_all36_cgenff.prm::\n",
      "\n",
      "          PARAMETER FILE BEING READ FROM UNIT 91\n",
      " TITLE> *  --------------------------------------------------------------------------  *\n",
      " TITLE> *         CGENFF: PARAMETERS FOR THE CHARMM GENERAL FORCE FIELD V. 4.6         *\n",
      " TITLE> *                    FOR SMALL MOLECULE DRUG DESIGN                            *\n",
      " TITLE> *  --------------------------------------------------------------------------  *\n",
      " TITLE> *  2017/8: IF PROTEIN, NUCLEIC ACID AND CARBOHYDRATE TOPOLOGY AND PARAMETER FILES\n",
      " TITLE> *  ARE NOT READ PRIOR TO THE CGENFF FILES \"WARNING: ATOMS IN NBFIX ' errors will\n",
      " TITLE> *  BE ENCOUNTERED.  THESE CAN BE PASSED BY SETTING BOMLEV ( -2) PRIOR TO READING\n",
      " TITLE> *  THIS FILE. IN ADDITION, WHEN GENERATING AROMATIC HALOGENS (CL, BR, I) WITH\n",
      " TITLE> *  PRE C41B/C42A VERSIONS OF CHARMM \"MISSING PARAMETER\" ERRORS WILL BE\n",
      " TITLE> *  ENCOUNTERED THAT ALSO REQUIRE SETTING BOMLEV ( -2).\n",
      " TITLE> *\n",
      " PARMIO> NONBOND, HBOND lists and IMAGE atoms cleared.\n",
      " VCLOSE: Closing unit   91 with status \"KEEP\"\n",
      "  \n",
      " CHARMM>     \n",
      "  \n",
      "  \n",
      " CHARMM>     bomlev 0\n",
      "  \n",
      "\n",
      "          RESIDUE SEQUENCE --     1 RESIDUES\n",
      "          BUTA\n",
      " NO PATCHING WILL BE DONE ON THE FIRST RESIDUE\n",
      " NO PATCHING WILL BE DONE ON THE LAST  RESIDUE\n",
      " GENPSF> Segment   1 has been generated. Its identifier is BUTA.\n",
      " PSFSUM> PSF modified: NONBOND lists and IMAGE atoms cleared.\n",
      " PSFSUM> Summary of the structure file counters :\n",
      "         Number of segments      =        1   Number of residues   =        1\n",
      "         Number of atoms         =       14   Number of groups     =        4\n",
      "         Number of bonds         =       13   Number of angles     =       24\n",
      "         Number of dihedrals     =       27   Number of impropers  =        0\n",
      "         Number of cross-terms   =        0\n",
      "         Number of HB acceptors  =        0   Number of HB donors  =        0\n",
      "         Number of NB exclusions =        0   Total charge =    0.00000\n",
      " QXFORM> Expanded format used.\n",
      "         More than 4 character atom type used.\n"
     ]
    },
    {
     "data": {
      "text/plain": [
       "<pycharmm.script.NonBondedScript at 0x7f8ffa7f55b0>"
      ]
     },
     "execution_count": 3,
     "metadata": {},
     "output_type": "execute_result"
    }
   ],
   "source": [
    "# template for f/y restraints\n",
    "Fcons = '1 c1 1 c2 1 c3 1 c4'\n",
    "read.rtf('toppar/top_all36_cgenff.rtf')\n",
    "bl =settings.set_bomb_level(-2)\n",
    "wl =settings.set_warn_level(-2)\n",
    "read.prm('toppar/par_all36_cgenff.prm')\n",
    "settings.set_bomb_level(bl)\n",
    "settings.set_warn_level(wl)\n",
    "pycharmm.lingo.charmm_script('bomlev 0')\n",
    "read.sequence_string('BUTA')  # butane\n",
    "gen.new_segment(seg_name='BUTA',\n",
    "                setup_ic=True)\n",
    "ic.prm_fill(replace_all=True)\n",
    "ic.seed(1,'C1',1,'C2',1,'C3')  \n",
    "ic.build()\n",
    "\n",
    "\n",
    "pycharmm.NonBondedScript(**{'cutnb': 16,\n",
    "                  'ctofnb': 14,\n",
    "                  'ctonnb': 12,\n",
    "                  'atom': True,\n",
    "                  'vatom': True,\n",
    "                  'eps': 1,\n",
    "                  'fswitch': True,\n",
    "                  'vfswitch': True,\n",
    "                  'cdie': True})"
   ]
  },
  {
   "cell_type": "code",
   "execution_count": 4,
   "id": "056df638-a54d-4011-b8ff-b7e21dc8bfc2",
   "metadata": {
    "collapsed": true,
    "jupyter": {
     "outputs_hidden": true
    },
    "tags": []
   },
   "outputs": [
    {
     "name": "stdout",
     "output_type": "stream",
     "text": [
      "\n",
      " NONBOND OPTION FLAGS: \n",
      "     ELEC     VDW      ATOMs    CDIElec  FSHIft   VATOm    VFSWIt  \n",
      "     BYGRoup  NOEXtnd  NOEWald \n",
      " CUTNB  = 14.000 CTEXNB =999.000 CTONNB = 10.000 CTOFNB = 12.000\n",
      " CGONNB =  0.000 CGOFNB = 10.000\n",
      " WMIN   =  1.500 WRNMXD =  0.500 E14FAC =  1.000 EPS    =  1.000\n",
      " NBXMOD =      5\n",
      " There are        0 atom  pairs and        0 atom  exclusions.\n",
      " There are        0 group pairs and        0 group exclusions.\n",
      " <MAKINB> with mode   5 found     37 exclusions and     27 interactions(1-4)\n",
      " <MAKGRP> found      6 group exclusions.\n",
      " Generating nonbond list with Exclusion mode = 5\n",
      " == PRIMARY == SPACE FOR       85 ATOM PAIRS AND        0 GROUP PAIRS\n",
      "\n",
      " General atom nonbond list generation found:\n",
      "       54 ATOM PAIRS WERE FOUND FOR ATOM LIST\n",
      "        0 GROUP PAIRS REQUIRED ATOM SEARCHES\n",
      "\n",
      " PRNHBD: CUToff Hydrogen Bond  distance =    0.5000   Angle =   90.0000\n",
      "         CuT switching ON HB dist. =     3.5000  OFf HB dist. =    4.0000\n",
      "         CuT switching ON Hb Angle =    50.0000  OFf Hb Angle =   70.0000\n",
      "         ACCEptor antecedents included\n",
      "         All hydrogen bonds for each hydrogen will be found\n",
      "         Hydrogen bonds between excluded atoms will be kept\n",
      "\n",
      "\n",
      "\n",
      " ABNER> An energy minimization has been requested.\n",
      "\n",
      " EIGRNG =    0.0005000   MINDIM =            5\n",
      " NPRINT =           10   NSTEP  =         1000\n",
      " PSTRCT =    0.0000000   SDSTP  =    0.0200000\n",
      " STPLIM =    1.0000000   STRICT =    0.1000000\n",
      " TOLFUN =    0.0000010   TOLGRD =    0.0010000\n",
      " TOLITR =          100   TOLSTP =    0.0000000\n",
      " FMEM   =    0.0000000\n",
      "MINI MIN: Cycle      ENERgy      Delta-E         GRMS    Step-size\n",
      "MINI INTERN:          BONDs       ANGLes       UREY-b    DIHEdrals    IMPRopers\n",
      "MINI EXTERN:        VDWaals         ELEC       HBONds          ASP         USER\n",
      " ----------       ---------    ---------    ---------    ---------    ---------\n",
      "MINI>        0      3.26053      0.00000      3.23559      0.00000\n",
      "MINI INTERN>        0.00000      0.64811      0.26101      0.09113      0.00000\n",
      "MINI EXTERN>       -0.57830      2.83857      0.00000      0.00000      0.00000\n",
      " ----------       ---------    ---------    ---------    ---------    ---------\n",
      "MINI>       10      2.48567      0.77485      2.15814      0.01033\n",
      "MINI INTERN>        0.07889      0.24114      0.03171      0.09443      0.00000\n",
      "MINI EXTERN>       -0.60226      2.64176      0.00000      0.00000      0.00000\n",
      " ----------       ---------    ---------    ---------    ---------    ---------\n",
      "MINI>       20      2.42876      0.05691      0.68513      0.00360\n",
      "MINI INTERN>        0.02749      0.24377      0.02762      0.09320      0.00000\n",
      "MINI EXTERN>       -0.59644      2.63312      0.00000      0.00000      0.00000\n",
      " ----------       ---------    ---------    ---------    ---------    ---------\n",
      "MINI>       30      2.42214      0.00662      0.17253      0.00126\n",
      "MINI INTERN>        0.02022      0.24859      0.02934      0.09182      0.00000\n",
      "MINI EXTERN>       -0.59305      2.62522      0.00000      0.00000      0.00000\n",
      " ----------       ---------    ---------    ---------    ---------    ---------\n",
      "MINI>       40      2.42107      0.00107      0.08101      0.00044\n",
      "MINI INTERN>        0.01865      0.25167      0.02813      0.09162      0.00000\n",
      "MINI EXTERN>       -0.59098      2.62197      0.00000      0.00000      0.00000\n",
      " ----------       ---------    ---------    ---------    ---------    ---------\n",
      " UPDECI: Nonbond update at step        50\n",
      " Generating nonbond list with Exclusion mode = 5\n",
      " == PRIMARY == SPACE FOR       85 ATOM PAIRS AND        0 GROUP PAIRS\n",
      "\n",
      " General atom nonbond list generation found:\n",
      "       54 ATOM PAIRS WERE FOUND FOR ATOM LIST\n",
      "        0 GROUP PAIRS REQUIRED ATOM SEARCHES\n",
      "\n",
      "MINI>       50      2.42093      0.00013      0.02139      0.00015\n",
      "MINI INTERN>        0.01908      0.25048      0.02794      0.09161      0.00000\n",
      "MINI EXTERN>       -0.59177      2.62359      0.00000      0.00000      0.00000\n",
      " ----------       ---------    ---------    ---------    ---------    ---------\n",
      "\n",
      " ABNER> Minimization exiting with function tolerance ( 0.0000010) satisfied.\n",
      "\n",
      "ABNR MIN: Cycle      ENERgy      Delta-E         GRMS    Step-size\n",
      "ABNR INTERN:          BONDs       ANGLes       UREY-b    DIHEdrals    IMPRopers\n",
      "ABNR EXTERN:        VDWaals         ELEC       HBONds          ASP         USER\n",
      " ----------       ---------    ---------    ---------    ---------    ---------\n",
      "ABNR>       51      2.42093     -0.00000      0.02306      0.00012\n",
      "ABNR INTERN>        0.01890      0.25061      0.02798      0.09157      0.00000\n",
      "ABNR EXTERN>       -0.59176      2.62363      0.00000      0.00000      0.00000\n",
      " ----------       ---------    ---------    ---------    ---------    ---------\n"
     ]
    },
    {
     "data": {
      "text/plain": [
       "True"
      ]
     },
     "execution_count": 4,
     "metadata": {},
     "output_type": "execute_result"
    }
   ],
   "source": [
    "minimize.run_abnr(**{'nstep': 1000,\n",
    "                     'tolenr': 1e-6,\n",
    "                     'tolgrd': 1e-3})"
   ]
  },
  {
   "cell_type": "code",
   "execution_count": 5,
   "id": "abdc2bcb-5b4c-4d50-bf21-68e2906168ba",
   "metadata": {},
   "outputs": [
    {
     "name": "stdout",
     "output_type": "stream",
     "text": [
      "  \n",
      " CHARMM>     write name test.pdb -\n",
      " CHARMM>     coor pdb\n",
      " VOPEN> Attempting to open::test.pdb::\n",
      " RDTITL>  \n",
      " RDTITL> No title read.\n",
      "  Write CHARMM-pdb format\n",
      " VCLOSE: Closing unit   91 with status \"KEEP\"\n",
      "  \n",
      " CHARMM>     \n",
      "  \n"
     ]
    }
   ],
   "source": [
    "write.coor_pdb('test.pdb')"
   ]
  },
  {
   "cell_type": "code",
   "execution_count": null,
   "id": "58634592-b66f-423c-90e5-f4c232f0f295",
   "metadata": {},
   "outputs": [],
   "source": []
  }
 ],
 "metadata": {
  "kernelspec": {
   "display_name": "pycharmm",
   "language": "python",
   "name": "pycharmm"
  },
  "language_info": {
   "codemirror_mode": {
    "name": "ipython",
    "version": 3
   },
   "file_extension": ".py",
   "mimetype": "text/x-python",
   "name": "python",
   "nbconvert_exporter": "python",
   "pygments_lexer": "ipython3",
   "version": "3.8.16"
  }
 },
 "nbformat": 4,
 "nbformat_minor": 5
}
