{
 "cells": [
  {
   "cell_type": "code",
   "execution_count": 2,
   "id": "d9d9f71d-f0ac-4c58-9a38-dcab0e621ef1",
   "metadata": {},
   "outputs": [],
   "source": [
    "import os\n",
    "from pathlib import Path"
   ]
  },
  {
   "cell_type": "code",
   "execution_count": 27,
   "id": "cc52f711-045c-4dff-83d9-5d50dbfdb5cd",
   "metadata": {},
   "outputs": [],
   "source": [
    "atom_names = [\"O\", \"C\", \"H\", \"H\", \"H\", \"H\"]"
   ]
  },
  {
   "cell_type": "code",
   "execution_count": 28,
   "id": "c3377797-c526-402f-8616-8ae64942374b",
   "metadata": {},
   "outputs": [],
   "source": [
    "com_file_template = \"\"\"%nproc=4\n",
    "%mem=5760MB\n",
    "%chk={KEY}.chk\n",
    "#P PBE1PBE/aug-cc-pVDZ scf(maxcycle=200) \n",
    "\n",
    "Gaussian input\n",
    "\n",
    "0 1\n",
    "{ATOMS}\n",
    "\"\"\""
   ]
  },
  {
   "cell_type": "code",
   "execution_count": 29,
   "id": "9548491a-ec8b-4f6f-9ef9-dfe1317042a1",
   "metadata": {},
   "outputs": [
    {
     "name": "stdout",
     "output_type": "stream",
     "text": [
      "%nproc=4\n",
      "%mem=5760MB\n",
      "%chk=....chk\n",
      "#P PBE1PBE/aug-cc-pVDZ scf(maxcycle=200) \n",
      "\n",
      "Gaussian input\n",
      "\n",
      "0 1\n",
      "...\n",
      "\n"
     ]
    }
   ],
   "source": [
    "print(com_file_template.format(ATOMS=\"...\", KEY=\"...\"))"
   ]
  },
  {
   "cell_type": "code",
   "execution_count": 30,
   "id": "7ea45426-80fc-4a15-bcf4-1078e7cfeb5d",
   "metadata": {},
   "outputs": [],
   "source": [
    "job_file_template = \"\"\"#!/bin/bash\n",
    "\n",
    "#SBATCH --job-name={KEY}\n",
    "#SBATCH --nodes=1\n",
    "#SBATCH --ntasks=4\n",
    "#SBATCH --cpus-per-task=1\n",
    "#SBATCH --mem-per-cpu=1600MB\n",
    "#SBATCH --partition=vshort\n",
    "#SBATCH --exclude=node[109-124]\n",
    "#$ -S /bin/bash\n",
    "\n",
    "# Define Parameters\n",
    "hostname\n",
    "export WORKDIR=/home/boittier/methanol_dih/input\n",
    "export DATADIR=/home/boittier/methanol_dih/data\n",
    "export INPFILE={KEY}.com\n",
    "export OUTFILE={KEY}.out\n",
    "export CHKFILE={KEY}.chk\n",
    "export FCKFILE={KEY}.fchk\n",
    "export DNSFILE={KEY}.d.cube\n",
    "export ESPFILE={KEY}.p.cube\n",
    "\n",
    "# Make scratch temporary directory\n",
    "export STMPDIR=/scratch/$USER/jobs/tmp.$SLURM_JOBID\n",
    "if [ -d $STMPDIR ]; then\n",
    "  echo \"$STMPDIR exists; double job start; exit\"\n",
    "  exit 1\n",
    "fi\n",
    "mkdir -p $STMPDIR\n",
    "\n",
    "cd $STMPDIR\n",
    "\n",
    "# Copy input file\n",
    "cp $WORKDIR/$INPFILE $STMPDIR/$INPFILE\n",
    "\n",
    "# Prepare Gaussian parameters\n",
    "export g16root=/opt/cluster/programs/g16-c.01\n",
    "source $g16root/g16/bsd/g16.profile\n",
    "export GAUSS_SCRDIR=$STMPDIR\n",
    "\n",
    "# Execute Gaussian jobs\n",
    "$g16root/g16/g16 $STMPDIR/$INPFILE $STMPDIR/$OUTFILE\n",
    "    \n",
    "# Copy result file to output directory\n",
    "cp $STMPDIR/$OUTFILE $DATADIR/$OUTFILE\n",
    "\n",
    "# Delete output file if successfully copied\n",
    "status=$?\n",
    "if [ $status -eq 1 ]; then\n",
    "    echo \"$STMPDIR/$OUTFILE could not be transferred to $OUTPDIR/$OUTFILE\"\n",
    "fi\n",
    "        \n",
    "# Write formchk file\n",
    "$g16root/g16/formchk $CHKFILE $FCKFILE\n",
    "\n",
    "# Extract density cube file\n",
    "$g16root/g16/cubegen 0 Density $FCKFILE $DNSFILE -2 h\n",
    "\n",
    "# Extract esp cube file\n",
    "$g16root/g16/cubegen 0 Potential $FCKFILE $ESPFILE -2 h\n",
    "\n",
    "# Copy result to data directory\n",
    "cp $CHKFILE $DNSFILE $ESPFILE $DATADIR/.\n",
    "\n",
    "if [ $status -eq 0 ] \n",
    "then \n",
    "    # Delete temporary directory\n",
    "    rm -rf $STMPDIR\n",
    "else\n",
    "    echo \"$STMPDIR results could not be transferred to $DATADIR\"\n",
    "fi\n",
    "\n",
    "\"\"\""
   ]
  },
  {
   "cell_type": "code",
   "execution_count": 31,
   "id": "6c4f16e6-59fd-4d6e-a502-078f4d8bf648",
   "metadata": {},
   "outputs": [],
   "source": [
    "xyz_path = Path(\"/home/boittier/pcbach/param2/methanol/kern/rkkk/t298c/gas/test.xyz\")\n"
   ]
  },
  {
   "cell_type": "code",
   "execution_count": 32,
   "id": "071b05b5-8f93-4aba-a273-2a221f7c91cb",
   "metadata": {},
   "outputs": [],
   "source": [
    "xyz_file_lines = open(xyz_path).readlines()"
   ]
  },
  {
   "cell_type": "code",
   "execution_count": 46,
   "id": "4dcb28a1-155e-4cdc-a50e-2946e7f4272d",
   "metadata": {},
   "outputs": [],
   "source": [
    "for i in range(1000):\n",
    "    KEY = f\"meoh_{i}\"\n",
    "    test_xyz = xyz_file_lines[i*18:i*18+18]\n",
    "    atom_str = \"\"\n",
    "    for i, _ in enumerate(test_xyz[2:8]):\n",
    "        coords = \" \".join(_.split()[1:])\n",
    "        atom_str+= (f\"{atom_names[i]} {coords}\\n\")\n",
    "    comfile = com_file_template.format(ATOMS=atom_str, KEY=KEY)\n",
    "    with open(f\"comfiles/{KEY}.com\", \"w\") as f:\n",
    "        f.write(comfile)\n",
    "    jobfile = job_file_template.format(KEY=KEY)\n",
    "    with open(f\"comfiles/{KEY}.sh\", \"w\") as f:\n",
    "        f.write(jobfile)"
   ]
  },
  {
   "cell_type": "code",
   "execution_count": 44,
   "id": "813ee1c1-9e9e-41ce-8d2f-dd9385c608e5",
   "metadata": {},
   "outputs": [],
   "source": [
    "\n",
    "# print(atom_str)"
   ]
  },
  {
   "cell_type": "code",
   "execution_count": 40,
   "id": "cbf319d2-7347-41eb-bb20-c9066f9fa166",
   "metadata": {},
   "outputs": [
    {
     "name": "stdout",
     "output_type": "stream",
     "text": [
      "%nproc=4\n",
      "%mem=5760MB\n",
      "%chk=meoh_0.chk\n",
      "#P PBE1PBE/aug-cc-pVDZ scf(maxcycle=200) \n",
      "\n",
      "Gaussian input\n",
      "\n",
      "0 1\n",
      "O 1.4200 0.0000 0.0000\n",
      "C 0.0000 0.0000 0.0000\n",
      "H 1.7467 0.9240 0.0000\n",
      "H -0.3633 -1.0277 0.0000\n",
      "H -0.3633 0.5138 0.8900\n",
      "H -0.3633 0.5138 -0.8900\n",
      "\n",
      "\n"
     ]
    }
   ],
   "source": [
    "print(com_file_template.format(ATOMS=atom_str, KEY=\"meoh_0\"))"
   ]
  },
  {
   "cell_type": "code",
   "execution_count": 43,
   "id": "0d453e75-bf2b-4e55-a4e8-831aa72d90f8",
   "metadata": {},
   "outputs": [
    {
     "name": "stdout",
     "output_type": "stream",
     "text": [
      "#!/bin/bash\n",
      "\n",
      "#SBATCH --job-name=meoh_0\n",
      "#SBATCH --nodes=1\n",
      "#SBATCH --ntasks=4\n",
      "#SBATCH --cpus-per-task=1\n",
      "#SBATCH --mem-per-cpu=1600MB\n",
      "#SBATCH --partition=vshort\n",
      "#SBATCH --exclude=node[109-124]\n",
      "#$ -S /bin/bash\n",
      "\n",
      "# Define Parameters\n",
      "hostname\n",
      "export WORKDIR=/home/boittier/methanol_dih/input\n",
      "export DATADIR=/home/boittier/methanol_dih/data\n",
      "export INPFILE=meoh_0.com\n",
      "export OUTFILE=meoh_0.out\n",
      "export CHKFILE=meoh_0.chk\n",
      "export FCKFILE=meoh_0.fchk\n",
      "export DNSFILE=meoh_0.d.cube\n",
      "export ESPFILE=meoh_0.p.cube\n",
      "\n",
      "# Make scratch temporary directory\n",
      "export STMPDIR=/scratch/$USER/jobs/tmp.$SLURM_JOBID\n",
      "if [ -d $STMPDIR ]; then\n",
      "  echo \"$STMPDIR exists; double job start; exit\"\n",
      "  exit 1\n",
      "fi\n",
      "mkdir -p $STMPDIR\n",
      "\n",
      "cd $STMPDIR\n",
      "\n",
      "# Copy input file\n",
      "cp $WORKDIR/$INPFILE $STMPDIR/$INPFILE\n",
      "\n",
      "# Prepare Gaussian parameters\n",
      "export g16root=/opt/cluster/programs/g16-c.01\n",
      "source $g16root/g16/bsd/g16.profile\n",
      "export GAUSS_SCRDIR=$STMPDIR\n",
      "\n",
      "# Execute Gaussian jobs\n",
      "$g16root/g16/g16 $STMPDIR/$INPFILE $STMPDIR/$OUTFILE\n",
      "    \n",
      "# Copy result file to output directory\n",
      "cp $STMPDIR/$OUTFILE $DATADIR/$OUTFILE\n",
      "\n",
      "# Delete output file if successfully copied\n",
      "status=$?\n",
      "if [ $status -eq 1 ]; then\n",
      "    echo \"$STMPDIR/$OUTFILE could not be transferred to $OUTPDIR/$OUTFILE\"\n",
      "fi\n",
      "        \n",
      "# Write formchk file\n",
      "$g16root/g16/formchk $CHKFILE $FCKFILE\n",
      "\n",
      "# Extract density cube file\n",
      "$g16root/g16/cubegen 0 Density $FCKFILE $DNSFILE -2 h\n",
      "\n",
      "# Extract esp cube file\n",
      "$g16root/g16/cubegen 0 Potential $FCKFILE $ESPFILE -2 h\n",
      "\n",
      "# Copy result to data directory\n",
      "cp $CHKFILE $DNSFILE $ESPFILE $DATADIR/.\n",
      "\n",
      "if [ $status -eq 0 ] \n",
      "then \n",
      "    # Delete temporary directory\n",
      "    rm -rf $STMPDIR\n",
      "else\n",
      "    echo \"$STMPDIR results could not be transferred to $DATADIR\"\n",
      "fi\n",
      "\n",
      "\n"
     ]
    }
   ],
   "source": [
    "print(job_file_template.format(KEY=\"meoh_0\"))"
   ]
  },
  {
   "cell_type": "code",
   "execution_count": 13,
   "id": "88c1bda0-1f35-41ca-bfb1-b05568035e6d",
   "metadata": {},
   "outputs": [
    {
     "data": {
      "text/plain": [
       "['   16\\n',\n",
       " '   dumped from DCM module\\n',\n",
       " 'C    1.4498   -0.0160   -0.0001\\n',\n",
       " 'C    0.0016    0.0074    0.0001\\n',\n",
       " 'C    1.7248    0.9247    0.0000\\n',\n",
       " 'C   -0.3638   -1.0196   -0.0000\\n',\n",
       " 'C   -0.3679    0.5138    0.8918\\n',\n",
       " 'C   -0.3678    0.5136   -0.8918\\n',\n",
       " 'O    1.6888    0.7610    0.1662   -0.5952\\n',\n",
       " 'O    1.7459    0.8418    0.0777    1.0000\\n',\n",
       " 'O    1.5075   -0.1516   -0.1677   -0.1280\\n',\n",
       " 'O    1.4465   -0.0744    0.1673   -0.6621\\n',\n",
       " 'O    1.4268    0.0359   -0.1676   -0.7297\\n',\n",
       " 'O    1.2430   -0.1287   -0.0134    1.0000\\n',\n",
       " 'O    0.1118   -0.1600    0.0430    0.0380\\n',\n",
       " 'O   -0.3172    0.5781    1.0206    0.0263\\n',\n",
       " 'O   -0.3094    0.5715   -1.0084    0.0263\\n',\n",
       " 'O   -0.3560   -1.2281    0.0129    0.0263\\n']"
      ]
     },
     "execution_count": 13,
     "metadata": {},
     "output_type": "execute_result"
    }
   ],
   "source": [
    "i = 2\n"
   ]
  },
  {
   "cell_type": "code",
   "execution_count": null,
   "id": "356893aa-edf1-45c3-afb5-f6a482748ddc",
   "metadata": {},
   "outputs": [],
   "source": []
  }
 ],
 "metadata": {
  "kernelspec": {
   "display_name": "pycharmm",
   "language": "python",
   "name": "pycharmm"
  },
  "language_info": {
   "codemirror_mode": {
    "name": "ipython",
    "version": 3
   },
   "file_extension": ".py",
   "mimetype": "text/x-python",
   "name": "python",
   "nbconvert_exporter": "python",
   "pygments_lexer": "ipython3",
   "version": "3.8.16"
  }
 },
 "nbformat": 4,
 "nbformat_minor": 5
}
