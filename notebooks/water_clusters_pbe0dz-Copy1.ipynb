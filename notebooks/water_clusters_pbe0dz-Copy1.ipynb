{
 "cells": [
  {
   "cell_type": "code",
   "execution_count": 4,
   "id": "0c803b7b-d941-4e2d-aa9f-176d38b7f538",
   "metadata": {},
   "outputs": [
    {
     "name": "stdout",
     "output_type": "stream",
     "text": [
      "The autoreload extension is already loaded. To reload it, use:\n",
      "  %reload_ext autoreload\n"
     ]
    }
   ],
   "source": [
    "%load_ext autoreload\n",
    "%autoreload 2\n",
    "# !pip install ipywidgets\n",
    "import sys\n",
    "sys.path.append(\"/home/boittier/Documents/phd/ff_energy\")\n",
    "\n",
    "from ff_energy.structure import Structure\n",
    "from ff_energy.job import Job\n",
    "from ff_energy.jobmaker import get_structures_pdbs, JobMaker\n",
    "from ff_energy.plot import plot_energy_MSE\n",
    "from ff_energy.configmaker import *\n",
    "\n",
    "from pathlib import Path\n",
    "import pandas as pd\n",
    "\n",
    "# s = Structure(\"/home/boittier/charmm/mix3/jobs/pdbs/mix0.pdb\")\n",
    "\n",
    "def MakeJob(name, ConfigMaker):\n",
    "    structures, pdbs = get_structures_pdbs(\n",
    "        Path(ConfigMaker.pdbs),\n",
    "        atom_types=atom_types\n",
    "    ) \n",
    "    return JobMaker(name, pdbs, structures, ConfigMaker.make().__dict__)\n",
    "\n",
    "atom_types = {\n",
    "              # (\"LIG\", \"O\"): \"OG311\",\n",
    "              # (\"LIG\", \"C\"): \"CG331\",\n",
    "              # (\"LIG\", \"H1\"): \"HGP1\",\n",
    "              # (\"LIG\", \"H2\"): \"HGA3\",\n",
    "              # (\"LIG\", \"H3\"): \"HGA3\",\n",
    "              # (\"LIG\", \"H4\"): \"HGA3\",\n",
    "              (\"TIP3\", \"OH2\"): \"OT\",\n",
    "              (\"TIP3\", \"H1\"): \"HT\",\n",
    "              (\"TIP3\", \"H2\"): \"HT\",\n",
    "              # (\"LIG\", \"O\"): \"OT\",\n",
    "              # (\"LIG\", \"H1\"): \"HT\",\n",
    "              # (\"LIG\", \"H\"): \"HT\",\n",
    "              # (\"LIG\", \"H2\"): \"HT\",\n",
    "              }\n",
    "\n"
   ]
  },
  {
   "cell_type": "code",
   "execution_count": 5,
   "id": "59d4e0a8-a5e4-4f7c-b48c-d6c080e9431c",
   "metadata": {},
   "outputs": [
    {
     "name": "stdout",
     "output_type": "stream",
     "text": [
      "water_cluster pbe0dz\n",
      "<bound method Config.kwargs of m_basis: avdz\n",
      "m_method: hf\n",
      "c_files: ['pbe0_dz.pc']\n",
      "c_dcm_command: open unit 11 card read name p \n",
      "DCM IUDCM 11 TSHIFT XYZ 15\n",
      "m_nproc: 8\n",
      "m_memory: 150\n",
      "m_queue: short\n",
      "chmpath: /home/boittier/dev-release-dcm/build/cmake/charmm\n",
      "modules: module load cmake/cmake-3.23.0-gcc-11.2.0-openmpi-4.1.3\n",
      ">\n",
      "\n",
      "water_dimer pbe0dz\n",
      "<bound method Config.kwargs of m_basis: avdz\n",
      "m_method: hf\n",
      "c_files: ['pbe0_dz.pc']\n",
      "c_dcm_command: open unit 11 card read name p \n",
      "DCM IUDCM 11 TSHIFT XYZ 15\n",
      "m_nproc: 8\n",
      "m_memory: 150\n",
      "m_queue: short\n",
      "chmpath: /home/boittier/dev-release-dcm/build/cmake/charmm\n",
      "modules: module load cmake/cmake-3.23.0-gcc-11.2.0-openmpi-4.1.3\n",
      ">\n",
      "\n",
      "methanol_cluster pbe0dz\n",
      "<bound method Config.kwargs of m_basis: avdz\n",
      "m_method: hf\n",
      "c_files: ['meoh_pbe0dz.pc']\n",
      "c_dcm_command: open unit 11 card read name m \n",
      "DCM IUDCM 11 TSHIFT XYZ 15\n",
      "m_nproc: 8\n",
      "m_memory: 150\n",
      "m_queue: short\n",
      "chmpath: /home/boittier/dev-release-dcm/build/cmake/charmm\n",
      "modules: module load cmake/cmake-3.23.0-gcc-11.2.0-openmpi-4.1.3\n",
      ">\n",
      "\n"
     ]
    }
   ],
   "source": [
    "CMS = []\n",
    "for system in system_names:\n",
    "    for theory in THEORY.keys():\n",
    "        print(system, theory)\n",
    "        cm = ConfigMaker(theory, system, \"pc\")\n",
    "        # print(cm.pdbs)\n",
    "        print(cm.make().kwargs)\n",
    "        print()\n",
    "        CMS.append(cm)"
   ]
  },
  {
   "cell_type": "code",
   "execution_count": 6,
   "id": "b9d42de8-7727-420e-99d9-cb62bcc7b380",
   "metadata": {},
   "outputs": [
    {
     "data": {
      "text/plain": [
       "<ff_energy.jobmaker.JobMaker at 0x7f9be5ec6be0>"
      ]
     },
     "execution_count": 6,
     "metadata": {},
     "output_type": "execute_result"
    }
   ],
   "source": [
    "jm = MakeJob(\"water_dimer/pbe0dz\", CMS[1])\n",
    "jm"
   ]
  },
  {
   "cell_type": "code",
   "execution_count": 7,
   "id": "845f553f-f5b6-4951-a357-af258995df41",
   "metadata": {},
   "outputs": [
    {
     "name": "stderr",
     "output_type": "stream",
     "text": [
      "100%|███████████████████████████████████████████████████████████████████████████████████████████████████████████████████████████████████████████████████████████████████████████| 104/104 [00:00<00:00, 309.98it/s]\n"
     ]
    }
   ],
   "source": [
    "HOMEDIR = \"/home/boittier/pcbach\"\n",
    "jm.make_molpro(HOMEDIR)"
   ]
  },
  {
   "cell_type": "code",
   "execution_count": 8,
   "id": "6c286f78-8260-412f-b9a1-2ad679de8b0b",
   "metadata": {},
   "outputs": [
    {
     "name": "stdout",
     "output_type": "stream",
     "text": [
      "Running jobs:  148\n",
      "Jobs:  104\n",
      "Submitted job /home/boittier/pcbach/water_dimer/pbe0dz/7-3/cluster/7-3.sh to Slurm scheduler\n",
      "Submitted job /home/boittier/pcbach/water_dimer/pbe0dz/3-1/cluster/3-1.sh to Slurm scheduler\n",
      "Submitted job /home/boittier/pcbach/water_dimer/pbe0dz/8-2/cluster/8-2.sh to Slurm scheduler\n",
      "Submitted job /home/boittier/pcbach/water_dimer/pbe0dz/3-3/cluster/3-3.sh to Slurm scheduler\n",
      "Submitted job /home/boittier/pcbach/water_dimer/pbe0dz/9-3/cluster/9-3.sh to Slurm scheduler\n",
      "Submitted job /home/boittier/pcbach/water_dimer/pbe0dz/23-2/cluster/23-2.sh to Slurm scheduler\n",
      "Submitted job /home/boittier/pcbach/water_dimer/pbe0dz/12-1/cluster/12-1.sh to Slurm scheduler\n",
      "Submitted job /home/boittier/pcbach/water_dimer/pbe0dz/20-3/cluster/20-3.sh to Slurm scheduler\n",
      "Submitted job /home/boittier/pcbach/water_dimer/pbe0dz/14-1/cluster/14-1.sh to Slurm scheduler\n",
      "Submitted job /home/boittier/pcbach/water_dimer/pbe0dz/6-3/cluster/6-3.sh to Slurm scheduler\n",
      "Submitted job /home/boittier/pcbach/water_dimer/pbe0dz/3-2/cluster/3-2.sh to Slurm scheduler\n",
      "Submitted job /home/boittier/pcbach/water_dimer/pbe0dz/5-1/cluster/5-1.sh to Slurm scheduler\n",
      "Submitted job /home/boittier/pcbach/water_dimer/pbe0dz/19-3/cluster/19-3.sh to Slurm scheduler\n",
      "Submitted job /home/boittier/pcbach/water_dimer/pbe0dz/12-3/cluster/12-3.sh to Slurm scheduler\n",
      "Submitted job /home/boittier/pcbach/water_dimer/pbe0dz/16-1/cluster/16-1.sh to Slurm scheduler\n",
      "Submitted job /home/boittier/pcbach/water_dimer/pbe0dz/13-1/cluster/13-1.sh to Slurm scheduler\n",
      "Submitted job /home/boittier/pcbach/water_dimer/pbe0dz/10-5/cluster/10-5.sh to Slurm scheduler\n",
      "Submitted job /home/boittier/pcbach/water_dimer/pbe0dz/18-3/cluster/18-3.sh to Slurm scheduler\n",
      "Submitted job /home/boittier/pcbach/water_dimer/pbe0dz/12-2/cluster/12-2.sh to Slurm scheduler\n",
      "Submitted job /home/boittier/pcbach/water_dimer/pbe0dz/6-5/cluster/6-5.sh to Slurm scheduler\n",
      "Submitted job /home/boittier/pcbach/water_dimer/pbe0dz/15-4/cluster/15-4.sh to Slurm scheduler\n",
      "Submitted job /home/boittier/pcbach/water_dimer/pbe0dz/24-2/cluster/24-2.sh to Slurm scheduler\n",
      "Submitted job /home/boittier/pcbach/water_dimer/pbe0dz/18-1/cluster/18-1.sh to Slurm scheduler\n",
      "Submitted job /home/boittier/pcbach/water_dimer/pbe0dz/6-1/cluster/6-1.sh to Slurm scheduler\n",
      "Submitted job /home/boittier/pcbach/water_dimer/pbe0dz/24-3/cluster/24-3.sh to Slurm scheduler\n",
      "Submitted job /home/boittier/pcbach/water_dimer/pbe0dz/22-2/cluster/22-2.sh to Slurm scheduler\n",
      "Submitted job /home/boittier/pcbach/water_dimer/pbe0dz/14-2/cluster/14-2.sh to Slurm scheduler\n",
      "Submitted job /home/boittier/pcbach/water_dimer/pbe0dz/4-3/cluster/4-3.sh to Slurm scheduler\n",
      "Submitted job /home/boittier/pcbach/water_dimer/pbe0dz/23-1/cluster/23-1.sh to Slurm scheduler\n",
      "Submitted job /home/boittier/pcbach/water_dimer/pbe0dz/13-3/cluster/13-3.sh to Slurm scheduler\n",
      "Submitted job /home/boittier/pcbach/water_dimer/pbe0dz/11-1/cluster/11-1.sh to Slurm scheduler\n",
      "Submitted job /home/boittier/pcbach/water_dimer/pbe0dz/24-1/cluster/24-1.sh to Slurm scheduler\n",
      "Submitted job /home/boittier/pcbach/water_dimer/pbe0dz/11-3/cluster/11-3.sh to Slurm scheduler\n",
      "Submitted job /home/boittier/pcbach/water_dimer/pbe0dz/14-4/cluster/14-4.sh to Slurm scheduler\n",
      "Submitted job /home/boittier/pcbach/water_dimer/pbe0dz/23-3/cluster/23-3.sh to Slurm scheduler\n",
      "Submitted job /home/boittier/pcbach/water_dimer/pbe0dz/1-5/cluster/1-5.sh to Slurm scheduler\n",
      "Submitted job /home/boittier/pcbach/water_dimer/pbe0dz/9-2/cluster/9-2.sh to Slurm scheduler\n",
      "Submitted job /home/boittier/pcbach/water_dimer/pbe0dz/4-5/cluster/4-5.sh to Slurm scheduler\n",
      "Submitted job /home/boittier/pcbach/water_dimer/pbe0dz/2-5/cluster/2-5.sh to Slurm scheduler\n",
      "Submitted job /home/boittier/pcbach/water_dimer/pbe0dz/10-4/cluster/10-4.sh to Slurm scheduler\n",
      "Submitted job /home/boittier/pcbach/water_dimer/pbe0dz/15-5/cluster/15-5.sh to Slurm scheduler\n",
      "Submitted job /home/boittier/pcbach/water_dimer/pbe0dz/3-4/cluster/3-4.sh to Slurm scheduler\n",
      "Submitted job /home/boittier/pcbach/water_dimer/pbe0dz/4-2/cluster/4-2.sh to Slurm scheduler\n",
      "Submitted job /home/boittier/pcbach/water_dimer/pbe0dz/15-3/cluster/15-3.sh to Slurm scheduler\n",
      "Submitted job /home/boittier/pcbach/water_dimer/pbe0dz/9-5/cluster/9-5.sh to Slurm scheduler\n",
      "Submitted job /home/boittier/pcbach/water_dimer/pbe0dz/2-1/cluster/2-1.sh to Slurm scheduler\n",
      "Submitted job /home/boittier/pcbach/water_dimer/pbe0dz/11-2/cluster/11-2.sh to Slurm scheduler\n",
      "Submitted job /home/boittier/pcbach/water_dimer/pbe0dz/2-4/cluster/2-4.sh to Slurm scheduler\n",
      "Submitted job /home/boittier/pcbach/water_dimer/pbe0dz/6-4/cluster/6-4.sh to Slurm scheduler\n",
      "Submitted job /home/boittier/pcbach/water_dimer/pbe0dz/7-4/cluster/7-4.sh to Slurm scheduler\n",
      "Submitted job /home/boittier/pcbach/water_dimer/pbe0dz/15-1/cluster/15-1.sh to Slurm scheduler\n",
      "Submitted job /home/boittier/pcbach/water_dimer/pbe0dz/3-5/cluster/3-5.sh to Slurm scheduler\n",
      "Submitted job /home/boittier/pcbach/water_dimer/pbe0dz/10-1/cluster/10-1.sh to Slurm scheduler\n",
      "Submitted job /home/boittier/pcbach/water_dimer/pbe0dz/7-5/cluster/7-5.sh to Slurm scheduler\n",
      "Submitted job /home/boittier/pcbach/water_dimer/pbe0dz/5-2/cluster/5-2.sh to Slurm scheduler\n",
      "Submitted job /home/boittier/pcbach/water_dimer/pbe0dz/1-4/cluster/1-4.sh to Slurm scheduler\n",
      "Submitted job /home/boittier/pcbach/water_dimer/pbe0dz/16-5/cluster/16-5.sh to Slurm scheduler\n",
      "Submitted job /home/boittier/pcbach/water_dimer/pbe0dz/9-1/cluster/9-1.sh to Slurm scheduler\n",
      "Submitted job /home/boittier/pcbach/water_dimer/pbe0dz/5-3/cluster/5-3.sh to Slurm scheduler\n",
      "Submitted job /home/boittier/pcbach/water_dimer/pbe0dz/7-1/cluster/7-1.sh to Slurm scheduler\n",
      "Submitted job /home/boittier/pcbach/water_dimer/pbe0dz/12-5/cluster/12-5.sh to Slurm scheduler\n",
      "Submitted job /home/boittier/pcbach/water_dimer/pbe0dz/11-4/cluster/11-4.sh to Slurm scheduler\n",
      "Submitted job /home/boittier/pcbach/water_dimer/pbe0dz/4-1/cluster/4-1.sh to Slurm scheduler\n",
      "Submitted job /home/boittier/pcbach/water_dimer/pbe0dz/1-3/cluster/1-3.sh to Slurm scheduler\n",
      "Submitted job /home/boittier/pcbach/water_dimer/pbe0dz/13-2/cluster/13-2.sh to Slurm scheduler\n",
      "Submitted job /home/boittier/pcbach/water_dimer/pbe0dz/12-4/cluster/12-4.sh to Slurm scheduler\n",
      "Submitted job /home/boittier/pcbach/water_dimer/pbe0dz/21-1/cluster/21-1.sh to Slurm scheduler\n",
      "Submitted job /home/boittier/pcbach/water_dimer/pbe0dz/2-3/cluster/2-3.sh to Slurm scheduler\n",
      "Submitted job /home/boittier/pcbach/water_dimer/pbe0dz/13-5/cluster/13-5.sh to Slurm scheduler\n",
      "Submitted job /home/boittier/pcbach/water_dimer/pbe0dz/16-2/cluster/16-2.sh to Slurm scheduler\n",
      "Submitted job /home/boittier/pcbach/water_dimer/pbe0dz/22-1/cluster/22-1.sh to Slurm scheduler\n",
      "Submitted job /home/boittier/pcbach/water_dimer/pbe0dz/4-4/cluster/4-4.sh to Slurm scheduler\n",
      "Submitted job /home/boittier/pcbach/water_dimer/pbe0dz/9-4/cluster/9-4.sh to Slurm scheduler\n",
      "Submitted job /home/boittier/pcbach/water_dimer/pbe0dz/10-2/cluster/10-2.sh to Slurm scheduler\n",
      "Submitted job /home/boittier/pcbach/water_dimer/pbe0dz/15-2/cluster/15-2.sh to Slurm scheduler\n",
      "Submitted job /home/boittier/pcbach/water_dimer/pbe0dz/17-2/cluster/17-2.sh to Slurm scheduler\n",
      "Submitted job /home/boittier/pcbach/water_dimer/pbe0dz/17-3/cluster/17-3.sh to Slurm scheduler\n",
      "Submitted job /home/boittier/pcbach/water_dimer/pbe0dz/22-3/cluster/22-3.sh to Slurm scheduler\n",
      "Submitted job /home/boittier/pcbach/water_dimer/pbe0dz/8-4/cluster/8-4.sh to Slurm scheduler\n",
      "Submitted job /home/boittier/pcbach/water_dimer/pbe0dz/11-5/cluster/11-5.sh to Slurm scheduler\n",
      "Submitted job /home/boittier/pcbach/water_dimer/pbe0dz/21-3/cluster/21-3.sh to Slurm scheduler\n",
      "Submitted job /home/boittier/pcbach/water_dimer/pbe0dz/8-1/cluster/8-1.sh to Slurm scheduler\n",
      "Submitted job /home/boittier/pcbach/water_dimer/pbe0dz/8-3/cluster/8-3.sh to Slurm scheduler\n",
      "Submitted job /home/boittier/pcbach/water_dimer/pbe0dz/5-4/cluster/5-4.sh to Slurm scheduler\n",
      "Submitted job /home/boittier/pcbach/water_dimer/pbe0dz/14-3/cluster/14-3.sh to Slurm scheduler\n",
      "Submitted job /home/boittier/pcbach/water_dimer/pbe0dz/13-4/cluster/13-4.sh to Slurm scheduler\n",
      "Submitted job /home/boittier/pcbach/water_dimer/pbe0dz/20-2/cluster/20-2.sh to Slurm scheduler\n",
      "Submitted job /home/boittier/pcbach/water_dimer/pbe0dz/1-1/cluster/1-1.sh to Slurm scheduler\n",
      "Submitted job /home/boittier/pcbach/water_dimer/pbe0dz/16-3/cluster/16-3.sh to Slurm scheduler\n",
      "Submitted job /home/boittier/pcbach/water_dimer/pbe0dz/19-2/cluster/19-2.sh to Slurm scheduler\n",
      "Submitted job /home/boittier/pcbach/water_dimer/pbe0dz/18-2/cluster/18-2.sh to Slurm scheduler\n",
      "Submitted job /home/boittier/pcbach/water_dimer/pbe0dz/8-5/cluster/8-5.sh to Slurm scheduler\n",
      "Submitted job /home/boittier/pcbach/water_dimer/pbe0dz/10-3/cluster/10-3.sh to Slurm scheduler\n",
      "Submitted job /home/boittier/pcbach/water_dimer/pbe0dz/14-5/cluster/14-5.sh to Slurm scheduler\n",
      "Submitted job /home/boittier/pcbach/water_dimer/pbe0dz/5-5/cluster/5-5.sh to Slurm scheduler\n",
      "Submitted job /home/boittier/pcbach/water_dimer/pbe0dz/16-4/cluster/16-4.sh to Slurm scheduler\n",
      "Submitted job /home/boittier/pcbach/water_dimer/pbe0dz/21-2/cluster/21-2.sh to Slurm scheduler\n",
      "Submitted job /home/boittier/pcbach/water_dimer/pbe0dz/1-2/cluster/1-2.sh to Slurm scheduler\n",
      "Submitted job /home/boittier/pcbach/water_dimer/pbe0dz/2-2/cluster/2-2.sh to Slurm scheduler\n",
      "Submitted job /home/boittier/pcbach/water_dimer/pbe0dz/6-2/cluster/6-2.sh to Slurm scheduler\n",
      "Submitted job /home/boittier/pcbach/water_dimer/pbe0dz/20-1/cluster/20-1.sh to Slurm scheduler\n",
      "Submitted job /home/boittier/pcbach/water_dimer/pbe0dz/7-2/cluster/7-2.sh to Slurm scheduler\n",
      "Submitted job /home/boittier/pcbach/water_dimer/pbe0dz/19-1/cluster/19-1.sh to Slurm scheduler\n",
      "Submitted job /home/boittier/pcbach/water_dimer/pbe0dz/17-1/cluster/17-1.sh to Slurm scheduler\n"
     ]
    }
   ],
   "source": [
    "from ff_energy.slurm import SlurmJobHandler\n",
    "\n",
    "shj = SlurmJobHandler(max_jobs=100)\n",
    "\n",
    "print(\"Running jobs: \", shj.get_running_jobs())\n",
    "\n",
    "for js in jm.get_cluster_jobs(HOMEDIR):\n",
    "    shj.add_job(js)\n",
    "\n",
    "print(\"Jobs: \", len(jm.get_cluster_jobs(HOMEDIR)))\n",
    "\n",
    "shj.submit_jobs()"
   ]
  },
  {
   "cell_type": "code",
   "execution_count": null,
   "id": "c3a98ca8-38ec-4c5f-a2c4-9264f5b53014",
   "metadata": {},
   "outputs": [],
   "source": []
  }
 ],
 "metadata": {
  "kernelspec": {
   "display_name": "pycharmm",
   "language": "python",
   "name": "pycharmm"
  },
  "language_info": {
   "codemirror_mode": {
    "name": "ipython",
    "version": 3
   },
   "file_extension": ".py",
   "mimetype": "text/x-python",
   "name": "python",
   "nbconvert_exporter": "python",
   "pygments_lexer": "ipython3",
   "version": "3.8.16"
  }
 },
 "nbformat": 4,
 "nbformat_minor": 5
}
