{
 "cells": [
  {
   "cell_type": "markdown",
   "id": "297677a6-5680-40f8-8157-7f8a56a4fd3f",
   "metadata": {},
   "source": [
    "#  Jobs"
   ]
  },
  {
   "cell_type": "code",
   "execution_count": null,
   "id": "e4bb85b2-fff5-4b3f-8186-2ae9c4c9b193",
   "metadata": {},
   "outputs": [],
   "source": []
  },
  {
   "cell_type": "code",
   "execution_count": 20,
   "id": "5ff74a9b-4e41-4b39-aa30-1cf78d1e8e1c",
   "metadata": {},
   "outputs": [],
   "source": [
    "#python ff_energy/ffe/cli.py -d -m dcm -t pbe0dz -e mdcm -v -msp /home/boittier/pcbach/\n"
   ]
  },
  {
   "cell_type": "code",
   "execution_count": null,
   "id": "376ae3a9-fb07-4692-a8ed-3584d0ed9ee6",
   "metadata": {},
   "outputs": [],
   "source": []
  }
 ],
 "metadata": {
  "kernelspec": {
   "display_name": "pycharmm",
   "language": "python",
   "name": "pycharmm"
  },
  "language_info": {
   "codemirror_mode": {
    "name": "ipython",
    "version": 3
   },
   "file_extension": ".py",
   "mimetype": "text/x-python",
   "name": "python",
   "nbconvert_exporter": "python",
   "pygments_lexer": "ipython3",
   "version": "3.8.16"
  }
 },
 "nbformat": 4,
 "nbformat_minor": 5
}
