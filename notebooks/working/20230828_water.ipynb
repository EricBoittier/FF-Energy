{
 "cells": [
  {
   "cell_type": "code",
   "execution_count": 3,
   "id": "b1516ed6-d246-4531-ad0f-c16bf642edef",
   "metadata": {},
   "outputs": [
    {
     "data": {
      "text/plain": [
       "'\\nLoaded data from extended ion tests\\n'"
      ]
     },
     "execution_count": 3,
     "metadata": {},
     "output_type": "execute_result"
    }
   ],
   "source": [
    "\"\"\"\n",
    "Loaded data from extended ion tests\n",
    "\"\"\""
   ]
  },
  {
   "cell_type": "markdown",
   "id": "fbd6b387-62b1-4287-9111-ce59cb5b6812",
   "metadata": {},
   "source": [
    "#  FF logistics\n",
    "\n",
    "FF requires <- pairs_data, data_frame, structures\n",
    "\n",
    "pickle and do all jax on bach"
   ]
  },
  {
   "cell_type": "code",
   "execution_count": null,
   "id": "89091677-fc90-4496-a124-1b98756638e5",
   "metadata": {},
   "outputs": [],
   "source": []
  },
  {
   "cell_type": "code",
   "execution_count": 4,
   "id": "4b4b153e-4976-4437-956c-3b17606b6839",
   "metadata": {},
   "outputs": [],
   "source": [
    "#python ff_energy/ffe/cli.py -d -m ions_ext -t pbe0dz -e pc -v -msp /home/boittier/pcbach"
   ]
  },
  {
   "cell_type": "code",
   "execution_count": 5,
   "id": "fa020e46-bb38-484b-91f2-8654abe8a560",
   "metadata": {},
   "outputs": [
    {
     "name": "stderr",
     "output_type": "stream",
     "text": [
      "2023-08-31 15:53:01 | DEBUG | __init__:process_initializer_module:72 - Initializing MLIR with module: _site_initialize_0\n",
      "2023-08-31 15:53:01 | DEBUG | __init__:process_initializer_module:74 - Registering dialects from initializer <module 'jaxlib.mlir._mlir_libs._site_initialize_0' from '/home/boittier/miniconda3/envs/pycharmm/lib/python3.8/site-packages/jaxlib/mlir/_mlir_libs/_site_initialize_0.so'>\n",
      "2023-08-31 15:53:01 | DEBUG | path:<module>:29 - etils.epath found. Using etils.epath for file I/O.\n"
     ]
    },
    {
     "data": {
      "text/plain": [
       "<Figure size 100x100 with 0 Axes>"
      ]
     },
     "metadata": {},
     "output_type": "display_data"
    }
   ],
   "source": [
    "# %load_ext autoreload\n",
    "# %autoreload 2\n",
    "\n",
    "from pathlib import Path\n",
    "import seaborn as sns\n",
    "import scipy as sp\n",
    "import pandas as pd\n",
    "import matplotlib.pyplot as plt\n",
    "\n",
    "from ff_energy.latex_writer.report import Report\n",
    "from ff_energy.latex_writer.energydata.energy_data_report import EnergyReport\n",
    "from ff_energy.latex_writer.figure import Figure\n",
    "from ff_energy.latex_writer.format import safe_latex_string\n",
    "from ff_energy.utils.ffe_utils import read_from_pickle, pickle_output\n",
    "\n",
    "from ff_energy.ffe.ff import FF\n",
    "from ff_energy.ffe.constants import PKL_PATH, PDB_PATH\n",
    "from ff_energy.ffe.potential import LJ, LJ_bound, DE #, DE_bounds\n",
    "\n",
    "from ff_energy.ffe.data import pairs_data\n",
    "from ff_energy.plotting.data_plots import DataPlots\n",
    "\n"
   ]
  },
  {
   "cell_type": "code",
   "execution_count": 6,
   "id": "df256bfb-e6f9-421e-965d-c3b911a88057",
   "metadata": {},
   "outputs": [
    {
     "data": {
      "text/plain": [
       "'\\nTest loading the report from pkl\\n'"
      ]
     },
     "execution_count": 6,
     "metadata": {},
     "output_type": "execute_result"
    }
   ],
   "source": [
    "\"\"\"\n",
    "Test loading the report from pkl\n",
    "\"\"\""
   ]
  },
  {
   "cell_type": "code",
   "execution_count": 7,
   "id": "3d199ef2-0fd4-4d29-ad6d-1d73a940b99e",
   "metadata": {},
   "outputs": [],
   "source": [
    "pkl_path = \"/home/boittier/Documents/phd/ff_energy/pickles/energy_report.pkl\"\n",
    "er = pd.read_pickle(pkl_path)\n",
    "# er.add_data()"
   ]
  },
  {
   "cell_type": "code",
   "execution_count": 8,
   "id": "1facf67f-d6f5-455f-96b1-5bd21530dea9",
   "metadata": {},
   "outputs": [
    {
     "data": {
      "text/plain": [
       "dict_keys(['system', 'output_path', 'output', 'data', 'coloumb', 'ctot', 'chm_df', 'monomers_df', 'monomer_df', 'cluster_df', 'pairs_df', 'structures', 'pdbs', 'structure_key_pairs', 'min_m_E', 'bonded_fit'])"
      ]
     },
     "execution_count": 8,
     "metadata": {},
     "output_type": "execute_result"
    }
   ],
   "source": [
    "er.data_plots[0].obj.__dict__.keys()"
   ]
  },
  {
   "cell_type": "code",
   "execution_count": 9,
   "id": "ca96d760-c3d6-4dff-a9a6-c864d119d9f3",
   "metadata": {},
   "outputs": [],
   "source": [
    "eg_data = er.data_plots[0].data\n",
    "# eg_data"
   ]
  },
  {
   "cell_type": "markdown",
   "id": "491e9d8b-76dd-4b73-80e9-b1b9cecff1dc",
   "metadata": {},
   "source": [
    "# WATER"
   ]
  },
  {
   "cell_type": "markdown",
   "id": "56d34364-84b7-4927-a6ae-992472e5a6ff",
   "metadata": {},
   "source": [
    "##  PC"
   ]
  },
  {
   "cell_type": "code",
   "execution_count": 10,
   "id": "32ec163b-4681-49b5-93a6-b8b22696561f",
   "metadata": {},
   "outputs": [],
   "source": [
    "eg_dcm_path_ = \"/home/boittier/homeb/water_cluster/pbe0dz_pc/{}/charmm/dcm.xyz\"\n",
    "# dcm_path_=\"/home/boittier/homeb/water_cluster/pbe0dz_pc/{}/charmm/dcm.xyz\","
   ]
  },
  {
   "cell_type": "code",
   "execution_count": 11,
   "id": "c744f772-57e5-476f-8047-d362a84c5acf",
   "metadata": {},
   "outputs": [],
   "source": [
    "data = er.data_plots[0].obj"
   ]
  },
  {
   "cell_type": "code",
   "execution_count": 12,
   "id": "458dc036-1713-4b2e-8511-f323f4a8bfcb",
   "metadata": {
    "collapsed": true,
    "jupyter": {
     "outputs_hidden": true
    },
    "tags": []
   },
   "outputs": [
    {
     "name": "stderr",
     "output_type": "stream",
     "text": [
      "2023-08-31 15:55:07 | WARNING | dispatch:log_elapsed_time:270 - Finished tracing + transforming jit(convert_element_type) in 0.000186920166015625 sec\n",
      "2023-08-31 15:55:07 | DEBUG | xla_bridge:_init_backend:482 - Initializing backend 'interpreter'\n",
      "2023-08-31 15:55:07 | DEBUG | xla_bridge:_init_backend:494 - Backend 'interpreter' initialized\n",
      "2023-08-31 15:55:07 | DEBUG | xla_bridge:_init_backend:482 - Initializing backend 'cpu'\n",
      "2023-08-31 15:55:07 | DEBUG | xla_bridge:_init_backend:494 - Backend 'cpu' initialized\n",
      "2023-08-31 15:55:07 | DEBUG | xla_bridge:_init_backend:482 - Initializing backend 'cuda'\n",
      "2023-08-31 15:55:07 | INFO | xla_bridge:backends:450 - Unable to initialize backend 'cuda': module 'jaxlib.xla_extension' has no attribute 'GpuAllocatorConfig'\n",
      "2023-08-31 15:55:07 | DEBUG | xla_bridge:_init_backend:482 - Initializing backend 'rocm'\n",
      "2023-08-31 15:55:07 | INFO | xla_bridge:backends:450 - Unable to initialize backend 'rocm': module 'jaxlib.xla_extension' has no attribute 'GpuAllocatorConfig'\n",
      "2023-08-31 15:55:07 | DEBUG | xla_bridge:_init_backend:482 - Initializing backend 'tpu'\n",
      "2023-08-31 15:55:07 | INFO | xla_bridge:backends:450 - Unable to initialize backend 'tpu': INVALID_ARGUMENT: TpuPlatform is not available.\n",
      "2023-08-31 15:55:07 | DEBUG | xla_bridge:_init_backend:482 - Initializing backend 'plugin'\n",
      "2023-08-31 15:55:07 | INFO | xla_bridge:backends:450 - Unable to initialize backend 'plugin': xla_extension has no attributes named get_plugin_device_client. Compile TensorFlow with //tensorflow/compiler/xla/python:enable_plugin_device set to true (defaults to false) to enable this.\n",
      "2023-08-31 15:55:07 | WARNING | xla_bridge:backends:458 - No GPU/TPU found, falling back to CPU. (Set TF_CPP_MIN_LOG_LEVEL=0 and rerun for more info.)\n",
      "2023-08-31 15:55:09 | WARNING | dispatch:log_elapsed_time:270 - Finished tracing + transforming jit(convert_element_type) in 0.00018024444580078125 sec\n",
      "2023-08-31 15:55:22 | WARNING | dispatch:log_elapsed_time:270 - Finished tracing + transforming jit(convert_element_type) in 0.0001785755157470703 sec\n"
     ]
    }
   ],
   "source": [
    "pairs_out = pairs_data(data, \n",
    "           system = \"water_cluster\",\n",
    "          name = \"test\",\n",
    "          dcm_path_ = eg_dcm_path_,\n",
    ")"
   ]
  },
  {
   "cell_type": "code",
   "execution_count": 14,
   "id": "c7529fae-9e78-4399-b508-e3f67f4b73d9",
   "metadata": {},
   "outputs": [],
   "source": [
    "pickle_output(pairs_out, \"water_pc_pairs\")"
   ]
  },
  {
   "cell_type": "markdown",
   "id": "d93b0f90-5003-449f-a50e-d922770bc70f",
   "metadata": {},
   "source": [
    "#  MDCM"
   ]
  },
  {
   "cell_type": "code",
   "execution_count": null,
   "id": "b944e29f-0e4b-4b5e-98e5-e3833f7e4510",
   "metadata": {},
   "outputs": [
    {
     "name": "stderr",
     "output_type": "stream",
     "text": [
      "2023-08-31 16:21:26 | WARNING | dispatch:log_elapsed_time:270 - Finished tracing + transforming jit(convert_element_type) in 0.00018668174743652344 sec\n",
      "2023-08-31 16:21:34 | WARNING | dispatch:log_elapsed_time:270 - Finished tracing + transforming jit(convert_element_type) in 0.00018143653869628906 sec\n"
     ]
    }
   ],
   "source": [
    "eg_dcm_path_ = \"/home/boittier/homeb/water_cluster/pbe0dz_mdcm/{}/charmm/dcm.xyz\"\n",
    "pairs_out = pairs_data(data, \n",
    "           system = \"water_cluster\",\n",
    "          name = \"mdcm\",\n",
    "          dcm_path_ = eg_dcm_path_,\n",
    ")"
   ]
  },
  {
   "cell_type": "code",
   "execution_count": null,
   "id": "29532936-e319-44c5-8272-f62964b49f61",
   "metadata": {},
   "outputs": [],
   "source": [
    "pickle_output(pairs_out, \"water_mdcm_pairs\")"
   ]
  },
  {
   "cell_type": "markdown",
   "id": "13a470fc-62e5-4230-bd3e-047e17fe6218",
   "metadata": {},
   "source": [
    "#  pbe0dz_tip3"
   ]
  },
  {
   "cell_type": "code",
   "execution_count": null,
   "id": "be30faf6-1a20-4ec6-935c-d742fb057541",
   "metadata": {},
   "outputs": [],
   "source": [
    "eg_dcm_path_ = \"/home/boittier/homeb/water_cluster/pbe0dz_tip3/{}/charmm/dcm.xyz\"\n",
    "pairs_out = pairs_data(data, \n",
    "           system = \"water_cluster\",\n",
    "          name = \"tip3\",\n",
    "          dcm_path_ = eg_dcm_path_,\n",
    ")"
   ]
  },
  {
   "cell_type": "code",
   "execution_count": null,
   "id": "c04ed88b-c6ad-4bcd-9e55-e2013deee235",
   "metadata": {},
   "outputs": [],
   "source": [
    "pickle_output(pairs_out, \"water_tip3_pairs\")"
   ]
  },
  {
   "cell_type": "markdown",
   "id": "891ea525-4ff9-4aaa-acef-605d8d104faa",
   "metadata": {},
   "source": [
    "#  kMDCM"
   ]
  },
  {
   "cell_type": "code",
   "execution_count": null,
   "id": "64c7d560-7c09-4613-b555-2966cf3f937f",
   "metadata": {},
   "outputs": [],
   "source": [
    "eg_dcm_path_ = \"/home/boittier/homeb/water_cluster/pbe0dz_kmdcm/{}/charmm/dcm.xyz\"\n",
    "pairs_out = pairs_data(data, \n",
    "           system = \"water_cluster\",\n",
    "          name = \"kmdcm\",\n",
    "          dcm_path_ = eg_dcm_path_,\n",
    ")"
   ]
  },
  {
   "cell_type": "code",
   "execution_count": null,
   "id": "72555db2-463b-471c-a65c-bc7fe5e83dba",
   "metadata": {},
   "outputs": [],
   "source": [
    "pickle_output(pairs_out, \"water_kmdcm_pairs\")"
   ]
  },
  {
   "cell_type": "code",
   "execution_count": 42,
   "id": "20fe53c8-13e4-4a14-beed-3fc81c5d376d",
   "metadata": {},
   "outputs": [],
   "source": [
    "# dists = read_from_pickle(PKL_PATH / \"structures\" / \"water_cluster.pkl\")"
   ]
  },
  {
   "cell_type": "code",
   "execution_count": 43,
   "id": "30893298-5685-409b-9a95-a3257d6cd87e",
   "metadata": {},
   "outputs": [],
   "source": [
    "# struct, dist = next(dists)"
   ]
  },
  {
   "cell_type": "code",
   "execution_count": 56,
   "id": "c5b0b803-2a3c-4acd-a84d-2d33d955ad61",
   "metadata": {},
   "outputs": [],
   "source": [
    "# ?FF"
   ]
  },
  {
   "cell_type": "code",
   "execution_count": 1,
   "id": "3b39b502-9542-4acb-a87e-98fa1470ad23",
   "metadata": {},
   "outputs": [],
   "source": [
    "# ff_obj = FF(eg_data, \n",
    "#             dist,\n",
    "#             LJ,\n",
    "#             LJ_bound,\n",
    "#             struct[0],\n",
    "#            )"
   ]
  },
  {
   "cell_type": "code",
   "execution_count": 2,
   "id": "8d9815fe-e1c2-4c4f-8c40-88434f6130fd",
   "metadata": {},
   "outputs": [],
   "source": [
    "# pickle_output(ff_obj, \"water_pc_ff_orig\")"
   ]
  },
  {
   "cell_type": "code",
   "execution_count": null,
   "id": "9d07e92c-f8cc-4072-afde-be9d7d32aea1",
   "metadata": {},
   "outputs": [],
   "source": []
  },
  {
   "cell_type": "code",
   "execution_count": null,
   "id": "2456c3b5-d192-404b-a1ea-6aa608e9d9a2",
   "metadata": {},
   "outputs": [],
   "source": []
  }
 ],
 "metadata": {
  "kernelspec": {
   "display_name": "pycharmm",
   "language": "python",
   "name": "pycharmm"
  },
  "language_info": {
   "codemirror_mode": {
    "name": "ipython",
    "version": 3
   },
   "file_extension": ".py",
   "mimetype": "text/x-python",
   "name": "python",
   "nbconvert_exporter": "python",
   "pygments_lexer": "ipython3",
   "version": "3.8.16"
  }
 },
 "nbformat": 4,
 "nbformat_minor": 5
}
