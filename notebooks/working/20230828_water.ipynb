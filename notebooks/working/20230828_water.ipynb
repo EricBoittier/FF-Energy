{
 "cells": [
  {
   "cell_type": "code",
   "execution_count": 3,
   "id": "b1516ed6-d246-4531-ad0f-c16bf642edef",
   "metadata": {},
   "outputs": [
    {
     "data": {
      "text/plain": [
       "'\\nLoaded data from extended ion tests\\n'"
      ]
     },
     "execution_count": 3,
     "metadata": {},
     "output_type": "execute_result"
    }
   ],
   "source": [
    "\"\"\"\n",
    "Loaded data from extended ion tests\n",
    "\"\"\""
   ]
  },
  {
   "cell_type": "markdown",
   "id": "fbd6b387-62b1-4287-9111-ce59cb5b6812",
   "metadata": {},
   "source": [
    "#  FF logistics\n",
    "\n",
    "FF requires <- pairs_data, data_frame, structures\n",
    "\n",
    "pickle and do all jax on bach"
   ]
  },
  {
   "cell_type": "code",
   "execution_count": null,
   "id": "89091677-fc90-4496-a124-1b98756638e5",
   "metadata": {},
   "outputs": [],
   "source": []
  },
  {
   "cell_type": "code",
   "execution_count": 4,
   "id": "4b4b153e-4976-4437-956c-3b17606b6839",
   "metadata": {},
   "outputs": [],
   "source": [
    "#python ff_energy/ffe/cli.py -d -m ions_ext -t pbe0dz -e pc -v -msp /home/boittier/pcbach"
   ]
  },
  {
   "cell_type": "code",
   "execution_count": 5,
   "id": "fa020e46-bb38-484b-91f2-8654abe8a560",
   "metadata": {},
   "outputs": [
    {
     "name": "stderr",
     "output_type": "stream",
     "text": [
      "2023-08-31 15:53:01 | DEBUG | __init__:process_initializer_module:72 - Initializing MLIR with module: _site_initialize_0\n",
      "2023-08-31 15:53:01 | DEBUG | __init__:process_initializer_module:74 - Registering dialects from initializer <module 'jaxlib.mlir._mlir_libs._site_initialize_0' from '/home/boittier/miniconda3/envs/pycharmm/lib/python3.8/site-packages/jaxlib/mlir/_mlir_libs/_site_initialize_0.so'>\n",
      "2023-08-31 15:53:01 | DEBUG | path:<module>:29 - etils.epath found. Using etils.epath for file I/O.\n"
     ]
    },
    {
     "data": {
      "text/plain": [
       "<Figure size 100x100 with 0 Axes>"
      ]
     },
     "metadata": {},
     "output_type": "display_data"
    }
   ],
   "source": [
    "# %load_ext autoreload\n",
    "# %autoreload 2\n",
    "\n",
    "from pathlib import Path\n",
    "import seaborn as sns\n",
    "import scipy as sp\n",
    "import pandas as pd\n",
    "import matplotlib.pyplot as plt\n",
    "\n",
    "from ff_energy.latex_writer.report import Report\n",
    "from ff_energy.latex_writer.energydata.energy_data_report import EnergyReport\n",
    "from ff_energy.latex_writer.figure import Figure\n",
    "from ff_energy.latex_writer.format import safe_latex_string\n",
    "from ff_energy.utils.ffe_utils import read_from_pickle, pickle_output\n",
    "\n",
    "from ff_energy.ffe.ff import FF\n",
    "from ff_energy.ffe.constants import PKL_PATH, PDB_PATH\n",
    "from ff_energy.ffe.potential import LJ, LJ_bound, DE #, DE_bounds\n",
    "\n",
    "from ff_energy.ffe.data import pairs_data\n",
    "from ff_energy.plotting.data_plots import DataPlots\n",
    "\n"
   ]
  },
  {
   "cell_type": "code",
   "execution_count": 6,
   "id": "df256bfb-e6f9-421e-965d-c3b911a88057",
   "metadata": {},
   "outputs": [
    {
     "data": {
      "text/plain": [
       "'\\nTest loading the report from pkl\\n'"
      ]
     },
     "execution_count": 6,
     "metadata": {},
     "output_type": "execute_result"
    }
   ],
   "source": [
    "\"\"\"\n",
    "Test loading the report from pkl\n",
    "\"\"\""
   ]
  },
  {
   "cell_type": "code",
   "execution_count": 7,
   "id": "3d199ef2-0fd4-4d29-ad6d-1d73a940b99e",
   "metadata": {},
   "outputs": [],
   "source": [
    "pkl_path = \"/home/boittier/Documents/phd/ff_energy/pickles/energy_report.pkl\"\n",
    "er = pd.read_pickle(pkl_path)\n",
    "# er.add_data()"
   ]
  },
  {
   "cell_type": "code",
   "execution_count": 24,
   "id": "1facf67f-d6f5-455f-96b1-5bd21530dea9",
   "metadata": {},
   "outputs": [
    {
     "data": {
      "text/html": [
       "<div>\n",
       "<style scoped>\n",
       "    .dataframe tbody tr th:only-of-type {\n",
       "        vertical-align: middle;\n",
       "    }\n",
       "\n",
       "    .dataframe tbody tr th {\n",
       "        vertical-align: top;\n",
       "    }\n",
       "\n",
       "    .dataframe thead th {\n",
       "        text-align: right;\n",
       "    }\n",
       "</style>\n",
       "<table border=\"1\" class=\"dataframe\">\n",
       "  <thead>\n",
       "    <tr style=\"text-align: right;\">\n",
       "      <th></th>\n",
       "      <th>p_ENERGY</th>\n",
       "      <th>p_m1_ENERGY</th>\n",
       "      <th>p_m2_ENERGY</th>\n",
       "      <th>p_int_ENERGY</th>\n",
       "      <th>key</th>\n",
       "      <th>pair</th>\n",
       "    </tr>\n",
       "  </thead>\n",
       "  <tbody>\n",
       "    <tr>\n",
       "      <th>test467_4_16</th>\n",
       "      <td>-152.718742</td>\n",
       "      <td>-76.359402</td>\n",
       "      <td>-76.358684</td>\n",
       "      <td>-0.000656</td>\n",
       "      <td>test467</td>\n",
       "      <td>(4, 16)</td>\n",
       "    </tr>\n",
       "    <tr>\n",
       "      <th>test467_2_12</th>\n",
       "      <td>-152.717266</td>\n",
       "      <td>-76.357394</td>\n",
       "      <td>-76.359906</td>\n",
       "      <td>0.000034</td>\n",
       "      <td>test467</td>\n",
       "      <td>(2, 12)</td>\n",
       "    </tr>\n",
       "    <tr>\n",
       "      <th>test467_4_5</th>\n",
       "      <td>-152.714677</td>\n",
       "      <td>-76.359402</td>\n",
       "      <td>-76.355286</td>\n",
       "      <td>0.000012</td>\n",
       "      <td>test467</td>\n",
       "      <td>(4, 5)</td>\n",
       "    </tr>\n",
       "    <tr>\n",
       "      <th>test467_5_16</th>\n",
       "      <td>-152.713801</td>\n",
       "      <td>-76.355286</td>\n",
       "      <td>-76.358684</td>\n",
       "      <td>0.000168</td>\n",
       "      <td>test467</td>\n",
       "      <td>(5, 16)</td>\n",
       "    </tr>\n",
       "    <tr>\n",
       "      <th>test467_4_20</th>\n",
       "      <td>-152.714093</td>\n",
       "      <td>-76.359402</td>\n",
       "      <td>-76.354903</td>\n",
       "      <td>0.000213</td>\n",
       "      <td>test467</td>\n",
       "      <td>(4, 20)</td>\n",
       "    </tr>\n",
       "    <tr>\n",
       "      <th>...</th>\n",
       "      <td>...</td>\n",
       "      <td>...</td>\n",
       "      <td>...</td>\n",
       "      <td>...</td>\n",
       "      <td>...</td>\n",
       "      <td>...</td>\n",
       "    </tr>\n",
       "    <tr>\n",
       "      <th>test66_3_5</th>\n",
       "      <td>-152.705818</td>\n",
       "      <td>-76.352102</td>\n",
       "      <td>-76.354001</td>\n",
       "      <td>0.000286</td>\n",
       "      <td>test66</td>\n",
       "      <td>(3, 5)</td>\n",
       "    </tr>\n",
       "    <tr>\n",
       "      <th>test66_2_20</th>\n",
       "      <td>-152.707280</td>\n",
       "      <td>-76.352639</td>\n",
       "      <td>-76.354519</td>\n",
       "      <td>-0.000122</td>\n",
       "      <td>test66</td>\n",
       "      <td>(2, 20)</td>\n",
       "    </tr>\n",
       "    <tr>\n",
       "      <th>test66_3_10</th>\n",
       "      <td>-152.711822</td>\n",
       "      <td>-76.352102</td>\n",
       "      <td>-76.359671</td>\n",
       "      <td>-0.000049</td>\n",
       "      <td>test66</td>\n",
       "      <td>(3, 10)</td>\n",
       "    </tr>\n",
       "    <tr>\n",
       "      <th>test66_4_15</th>\n",
       "      <td>-152.712115</td>\n",
       "      <td>-76.358842</td>\n",
       "      <td>-76.353240</td>\n",
       "      <td>-0.000033</td>\n",
       "      <td>test66</td>\n",
       "      <td>(4, 15)</td>\n",
       "    </tr>\n",
       "    <tr>\n",
       "      <th>test66_1_16</th>\n",
       "      <td>-152.717239</td>\n",
       "      <td>-76.358707</td>\n",
       "      <td>-76.358740</td>\n",
       "      <td>0.000208</td>\n",
       "      <td>test66</td>\n",
       "      <td>(1, 16)</td>\n",
       "    </tr>\n",
       "  </tbody>\n",
       "</table>\n",
       "<p>94752 rows × 6 columns</p>\n",
       "</div>"
      ],
      "text/plain": [
       "                p_ENERGY  p_m1_ENERGY  p_m2_ENERGY  p_int_ENERGY      key  \\\n",
       "test467_4_16 -152.718742   -76.359402   -76.358684     -0.000656  test467   \n",
       "test467_2_12 -152.717266   -76.357394   -76.359906      0.000034  test467   \n",
       "test467_4_5  -152.714677   -76.359402   -76.355286      0.000012  test467   \n",
       "test467_5_16 -152.713801   -76.355286   -76.358684      0.000168  test467   \n",
       "test467_4_20 -152.714093   -76.359402   -76.354903      0.000213  test467   \n",
       "...                  ...          ...          ...           ...      ...   \n",
       "test66_3_5   -152.705818   -76.352102   -76.354001      0.000286   test66   \n",
       "test66_2_20  -152.707280   -76.352639   -76.354519     -0.000122   test66   \n",
       "test66_3_10  -152.711822   -76.352102   -76.359671     -0.000049   test66   \n",
       "test66_4_15  -152.712115   -76.358842   -76.353240     -0.000033   test66   \n",
       "test66_1_16  -152.717239   -76.358707   -76.358740      0.000208   test66   \n",
       "\n",
       "                 pair  \n",
       "test467_4_16  (4, 16)  \n",
       "test467_2_12  (2, 12)  \n",
       "test467_4_5    (4, 5)  \n",
       "test467_5_16  (5, 16)  \n",
       "test467_4_20  (4, 20)  \n",
       "...               ...  \n",
       "test66_3_5     (3, 5)  \n",
       "test66_2_20   (2, 20)  \n",
       "test66_3_10   (3, 10)  \n",
       "test66_4_15   (4, 15)  \n",
       "test66_1_16   (1, 16)  \n",
       "\n",
       "[94752 rows x 6 columns]"
      ]
     },
     "execution_count": 24,
     "metadata": {},
     "output_type": "execute_result"
    }
   ],
   "source": [
    "er.data_plots[0].obj.pairs_df"
   ]
  },
  {
   "cell_type": "code",
   "execution_count": 23,
   "id": "ca96d760-c3d6-4dff-a9a6-c864d119d9f3",
   "metadata": {},
   "outputs": [
    {
     "data": {
      "text/html": [
       "<div>\n",
       "<style scoped>\n",
       "    .dataframe tbody tr th:only-of-type {\n",
       "        vertical-align: middle;\n",
       "    }\n",
       "\n",
       "    .dataframe tbody tr th {\n",
       "        vertical-align: top;\n",
       "    }\n",
       "\n",
       "    .dataframe thead th {\n",
       "        text-align: right;\n",
       "    }\n",
       "</style>\n",
       "<table border=\"1\" class=\"dataframe\">\n",
       "  <thead>\n",
       "    <tr style=\"text-align: right;\">\n",
       "      <th></th>\n",
       "      <th>ECOL</th>\n",
       "      <th>KEY</th>\n",
       "      <th>TOTAL</th>\n",
       "      <th>ELEC</th>\n",
       "      <th>VDW</th>\n",
       "      <th>KEY</th>\n",
       "      <th>M_ENERGY</th>\n",
       "      <th>KEY</th>\n",
       "      <th>n_monomers</th>\n",
       "      <th>C_ENERGY</th>\n",
       "      <th>n_pairs</th>\n",
       "      <th>intE</th>\n",
       "      <th>P_intE</th>\n",
       "      <th>m_E_tot</th>\n",
       "      <th>p_m_E_tot</th>\n",
       "      <th>C_ENERGY_kcalmol</th>\n",
       "    </tr>\n",
       "  </thead>\n",
       "  <tbody>\n",
       "    <tr>\n",
       "      <th>test467</th>\n",
       "      <td>-113.436686</td>\n",
       "      <td>test467</td>\n",
       "      <td>21.55483</td>\n",
       "      <td>-53.42358</td>\n",
       "      <td>14.82881</td>\n",
       "      <td>test467</td>\n",
       "      <td>-1527.154217</td>\n",
       "      <td>test467</td>\n",
       "      <td>20</td>\n",
       "      <td>-1527.236629</td>\n",
       "      <td>190</td>\n",
       "      <td>-51.714066</td>\n",
       "      <td>-50.297664</td>\n",
       "      <td>958349.117867</td>\n",
       "      <td>-958295.211613</td>\n",
       "      <td>-958345.566652</td>\n",
       "    </tr>\n",
       "    <tr>\n",
       "      <th>test263</th>\n",
       "      <td>-159.213355</td>\n",
       "      <td>test263</td>\n",
       "      <td>19.76551</td>\n",
       "      <td>-80.17211</td>\n",
       "      <td>20.54380</td>\n",
       "      <td>test263</td>\n",
       "      <td>-1527.156016</td>\n",
       "      <td>test263</td>\n",
       "      <td>20</td>\n",
       "      <td>-1527.258259</td>\n",
       "      <td>190</td>\n",
       "      <td>-64.157783</td>\n",
       "      <td>-66.601357</td>\n",
       "      <td>958347.989140</td>\n",
       "      <td>-958296.144723</td>\n",
       "      <td>-958359.139096</td>\n",
       "    </tr>\n",
       "    <tr>\n",
       "      <th>test35</th>\n",
       "      <td>-138.530827</td>\n",
       "      <td>test35</td>\n",
       "      <td>22.57516</td>\n",
       "      <td>-66.12227</td>\n",
       "      <td>11.05221</td>\n",
       "      <td>test35</td>\n",
       "      <td>-1527.143158</td>\n",
       "      <td>test35</td>\n",
       "      <td>20</td>\n",
       "      <td>-1527.258584</td>\n",
       "      <td>189</td>\n",
       "      <td>-72.430230</td>\n",
       "      <td>-65.790457</td>\n",
       "      <td>958356.057316</td>\n",
       "      <td>-958288.376060</td>\n",
       "      <td>-958359.343368</td>\n",
       "    </tr>\n",
       "    <tr>\n",
       "      <th>test223</th>\n",
       "      <td>-85.840765</td>\n",
       "      <td>test223</td>\n",
       "      <td>23.27997</td>\n",
       "      <td>-40.47928</td>\n",
       "      <td>6.72946</td>\n",
       "      <td>test223</td>\n",
       "      <td>-1527.147556</td>\n",
       "      <td>test223</td>\n",
       "      <td>20</td>\n",
       "      <td>-1527.203106</td>\n",
       "      <td>190</td>\n",
       "      <td>-34.857221</td>\n",
       "      <td>-39.243367</td>\n",
       "      <td>958353.297326</td>\n",
       "      <td>-958290.449867</td>\n",
       "      <td>-958324.530348</td>\n",
       "    </tr>\n",
       "    <tr>\n",
       "      <th>test254</th>\n",
       "      <td>-157.431989</td>\n",
       "      <td>test254</td>\n",
       "      <td>24.42066</td>\n",
       "      <td>-82.00400</td>\n",
       "      <td>21.85417</td>\n",
       "      <td>test254</td>\n",
       "      <td>-1527.135568</td>\n",
       "      <td>test254</td>\n",
       "      <td>20</td>\n",
       "      <td>-1527.237145</td>\n",
       "      <td>188</td>\n",
       "      <td>-63.739697</td>\n",
       "      <td>-57.830990</td>\n",
       "      <td>958360.820083</td>\n",
       "      <td>-958283.041923</td>\n",
       "      <td>-958345.890067</td>\n",
       "    </tr>\n",
       "    <tr>\n",
       "      <th>...</th>\n",
       "      <td>...</td>\n",
       "      <td>...</td>\n",
       "      <td>...</td>\n",
       "      <td>...</td>\n",
       "      <td>...</td>\n",
       "      <td>...</td>\n",
       "      <td>...</td>\n",
       "      <td>...</td>\n",
       "      <td>...</td>\n",
       "      <td>...</td>\n",
       "      <td>...</td>\n",
       "      <td>...</td>\n",
       "      <td>...</td>\n",
       "      <td>...</td>\n",
       "      <td>...</td>\n",
       "      <td>...</td>\n",
       "    </tr>\n",
       "    <tr>\n",
       "      <th>test100</th>\n",
       "      <td>-120.244324</td>\n",
       "      <td>test100</td>\n",
       "      <td>23.76369</td>\n",
       "      <td>-66.03681</td>\n",
       "      <td>19.45476</td>\n",
       "      <td>test100</td>\n",
       "      <td>-1527.141372</td>\n",
       "      <td>test100</td>\n",
       "      <td>20</td>\n",
       "      <td>-1527.210157</td>\n",
       "      <td>190</td>\n",
       "      <td>-43.162995</td>\n",
       "      <td>-42.125801</td>\n",
       "      <td>958357.178250</td>\n",
       "      <td>-958287.528329</td>\n",
       "      <td>-958328.955198</td>\n",
       "    </tr>\n",
       "    <tr>\n",
       "      <th>test304</th>\n",
       "      <td>-123.903711</td>\n",
       "      <td>test304</td>\n",
       "      <td>21.68895</td>\n",
       "      <td>-69.20978</td>\n",
       "      <td>17.28253</td>\n",
       "      <td>test304</td>\n",
       "      <td>-1527.150985</td>\n",
       "      <td>test304</td>\n",
       "      <td>20</td>\n",
       "      <td>-1527.239633</td>\n",
       "      <td>189</td>\n",
       "      <td>-55.626955</td>\n",
       "      <td>-54.710834</td>\n",
       "      <td>958351.146070</td>\n",
       "      <td>-958293.116887</td>\n",
       "      <td>-958347.451339</td>\n",
       "    </tr>\n",
       "    <tr>\n",
       "      <th>test327</th>\n",
       "      <td>-195.846922</td>\n",
       "      <td>test327</td>\n",
       "      <td>19.73276</td>\n",
       "      <td>-103.42656</td>\n",
       "      <td>31.12436</td>\n",
       "      <td>test327</td>\n",
       "      <td>-1527.154084</td>\n",
       "      <td>test327</td>\n",
       "      <td>20</td>\n",
       "      <td>-1527.300559</td>\n",
       "      <td>190</td>\n",
       "      <td>-91.913853</td>\n",
       "      <td>-79.340573</td>\n",
       "      <td>958349.201570</td>\n",
       "      <td>-958295.335953</td>\n",
       "      <td>-958385.682737</td>\n",
       "    </tr>\n",
       "    <tr>\n",
       "      <th>test185</th>\n",
       "      <td>-114.232038</td>\n",
       "      <td>test185</td>\n",
       "      <td>24.07288</td>\n",
       "      <td>-60.27765</td>\n",
       "      <td>11.20177</td>\n",
       "      <td>test185</td>\n",
       "      <td>-1527.144999</td>\n",
       "      <td>test185</td>\n",
       "      <td>20</td>\n",
       "      <td>-1527.232387</td>\n",
       "      <td>190</td>\n",
       "      <td>-54.835874</td>\n",
       "      <td>-54.451833</td>\n",
       "      <td>958354.901870</td>\n",
       "      <td>-958289.053296</td>\n",
       "      <td>-958342.904458</td>\n",
       "    </tr>\n",
       "    <tr>\n",
       "      <th>test66</th>\n",
       "      <td>-134.531592</td>\n",
       "      <td>test66</td>\n",
       "      <td>24.71130</td>\n",
       "      <td>-72.99830</td>\n",
       "      <td>14.43453</td>\n",
       "      <td>test66</td>\n",
       "      <td>-1527.133226</td>\n",
       "      <td>test66</td>\n",
       "      <td>20</td>\n",
       "      <td>-1527.251024</td>\n",
       "      <td>190</td>\n",
       "      <td>-73.918366</td>\n",
       "      <td>-68.441739</td>\n",
       "      <td>958362.289538</td>\n",
       "      <td>-958282.383416</td>\n",
       "      <td>-958354.599282</td>\n",
       "    </tr>\n",
       "  </tbody>\n",
       "</table>\n",
       "<p>500 rows × 16 columns</p>\n",
       "</div>"
      ],
      "text/plain": [
       "               ECOL      KEY     TOTAL       ELEC       VDW      KEY  \\\n",
       "test467 -113.436686  test467  21.55483  -53.42358  14.82881  test467   \n",
       "test263 -159.213355  test263  19.76551  -80.17211  20.54380  test263   \n",
       "test35  -138.530827   test35  22.57516  -66.12227  11.05221   test35   \n",
       "test223  -85.840765  test223  23.27997  -40.47928   6.72946  test223   \n",
       "test254 -157.431989  test254  24.42066  -82.00400  21.85417  test254   \n",
       "...             ...      ...       ...        ...       ...      ...   \n",
       "test100 -120.244324  test100  23.76369  -66.03681  19.45476  test100   \n",
       "test304 -123.903711  test304  21.68895  -69.20978  17.28253  test304   \n",
       "test327 -195.846922  test327  19.73276 -103.42656  31.12436  test327   \n",
       "test185 -114.232038  test185  24.07288  -60.27765  11.20177  test185   \n",
       "test66  -134.531592   test66  24.71130  -72.99830  14.43453   test66   \n",
       "\n",
       "            M_ENERGY      KEY  n_monomers     C_ENERGY  n_pairs       intE  \\\n",
       "test467 -1527.154217  test467          20 -1527.236629      190 -51.714066   \n",
       "test263 -1527.156016  test263          20 -1527.258259      190 -64.157783   \n",
       "test35  -1527.143158   test35          20 -1527.258584      189 -72.430230   \n",
       "test223 -1527.147556  test223          20 -1527.203106      190 -34.857221   \n",
       "test254 -1527.135568  test254          20 -1527.237145      188 -63.739697   \n",
       "...              ...      ...         ...          ...      ...        ...   \n",
       "test100 -1527.141372  test100          20 -1527.210157      190 -43.162995   \n",
       "test304 -1527.150985  test304          20 -1527.239633      189 -55.626955   \n",
       "test327 -1527.154084  test327          20 -1527.300559      190 -91.913853   \n",
       "test185 -1527.144999  test185          20 -1527.232387      190 -54.835874   \n",
       "test66  -1527.133226   test66          20 -1527.251024      190 -73.918366   \n",
       "\n",
       "            P_intE        m_E_tot      p_m_E_tot  C_ENERGY_kcalmol  \n",
       "test467 -50.297664  958349.117867 -958295.211613    -958345.566652  \n",
       "test263 -66.601357  958347.989140 -958296.144723    -958359.139096  \n",
       "test35  -65.790457  958356.057316 -958288.376060    -958359.343368  \n",
       "test223 -39.243367  958353.297326 -958290.449867    -958324.530348  \n",
       "test254 -57.830990  958360.820083 -958283.041923    -958345.890067  \n",
       "...            ...            ...            ...               ...  \n",
       "test100 -42.125801  958357.178250 -958287.528329    -958328.955198  \n",
       "test304 -54.710834  958351.146070 -958293.116887    -958347.451339  \n",
       "test327 -79.340573  958349.201570 -958295.335953    -958385.682737  \n",
       "test185 -54.451833  958354.901870 -958289.053296    -958342.904458  \n",
       "test66  -68.441739  958362.289538 -958282.383416    -958354.599282  \n",
       "\n",
       "[500 rows x 16 columns]"
      ]
     },
     "execution_count": 23,
     "metadata": {},
     "output_type": "execute_result"
    }
   ],
   "source": [
    "eg_data = er.data_plots[0].data\n",
    "eg_data"
   ]
  },
  {
   "cell_type": "markdown",
   "id": "491e9d8b-76dd-4b73-80e9-b1b9cecff1dc",
   "metadata": {},
   "source": [
    "# WATER"
   ]
  },
  {
   "cell_type": "markdown",
   "id": "56d34364-84b7-4927-a6ae-992472e5a6ff",
   "metadata": {},
   "source": [
    "##  PC"
   ]
  },
  {
   "cell_type": "code",
   "execution_count": 10,
   "id": "32ec163b-4681-49b5-93a6-b8b22696561f",
   "metadata": {},
   "outputs": [],
   "source": [
    "eg_dcm_path_ = \"/home/boittier/homeb/water_cluster/pbe0dz_pc/{}/charmm/dcm.xyz\"\n",
    "# dcm_path_=\"/home/boittier/homeb/water_cluster/pbe0dz_pc/{}/charmm/dcm.xyz\","
   ]
  },
  {
   "cell_type": "code",
   "execution_count": 11,
   "id": "c744f772-57e5-476f-8047-d362a84c5acf",
   "metadata": {},
   "outputs": [],
   "source": [
    "data = er.data_plots[0].obj"
   ]
  },
  {
   "cell_type": "code",
   "execution_count": 12,
   "id": "458dc036-1713-4b2e-8511-f323f4a8bfcb",
   "metadata": {
    "collapsed": true,
    "jupyter": {
     "outputs_hidden": true
    },
    "tags": []
   },
   "outputs": [
    {
     "name": "stderr",
     "output_type": "stream",
     "text": [
      "2023-08-31 15:55:07 | WARNING | dispatch:log_elapsed_time:270 - Finished tracing + transforming jit(convert_element_type) in 0.000186920166015625 sec\n",
      "2023-08-31 15:55:07 | DEBUG | xla_bridge:_init_backend:482 - Initializing backend 'interpreter'\n",
      "2023-08-31 15:55:07 | DEBUG | xla_bridge:_init_backend:494 - Backend 'interpreter' initialized\n",
      "2023-08-31 15:55:07 | DEBUG | xla_bridge:_init_backend:482 - Initializing backend 'cpu'\n",
      "2023-08-31 15:55:07 | DEBUG | xla_bridge:_init_backend:494 - Backend 'cpu' initialized\n",
      "2023-08-31 15:55:07 | DEBUG | xla_bridge:_init_backend:482 - Initializing backend 'cuda'\n",
      "2023-08-31 15:55:07 | INFO | xla_bridge:backends:450 - Unable to initialize backend 'cuda': module 'jaxlib.xla_extension' has no attribute 'GpuAllocatorConfig'\n",
      "2023-08-31 15:55:07 | DEBUG | xla_bridge:_init_backend:482 - Initializing backend 'rocm'\n",
      "2023-08-31 15:55:07 | INFO | xla_bridge:backends:450 - Unable to initialize backend 'rocm': module 'jaxlib.xla_extension' has no attribute 'GpuAllocatorConfig'\n",
      "2023-08-31 15:55:07 | DEBUG | xla_bridge:_init_backend:482 - Initializing backend 'tpu'\n",
      "2023-08-31 15:55:07 | INFO | xla_bridge:backends:450 - Unable to initialize backend 'tpu': INVALID_ARGUMENT: TpuPlatform is not available.\n",
      "2023-08-31 15:55:07 | DEBUG | xla_bridge:_init_backend:482 - Initializing backend 'plugin'\n",
      "2023-08-31 15:55:07 | INFO | xla_bridge:backends:450 - Unable to initialize backend 'plugin': xla_extension has no attributes named get_plugin_device_client. Compile TensorFlow with //tensorflow/compiler/xla/python:enable_plugin_device set to true (defaults to false) to enable this.\n",
      "2023-08-31 15:55:07 | WARNING | xla_bridge:backends:458 - No GPU/TPU found, falling back to CPU. (Set TF_CPP_MIN_LOG_LEVEL=0 and rerun for more info.)\n",
      "2023-08-31 15:55:09 | WARNING | dispatch:log_elapsed_time:270 - Finished tracing + transforming jit(convert_element_type) in 0.00018024444580078125 sec\n",
      "2023-08-31 15:55:22 | WARNING | dispatch:log_elapsed_time:270 - Finished tracing + transforming jit(convert_element_type) in 0.0001785755157470703 sec\n"
     ]
    }
   ],
   "source": [
    "pairs_out = pairs_data(data, \n",
    "           system = \"water_cluster\",\n",
    "          name = \"test\",\n",
    "          dcm_path_ = eg_dcm_path_,\n",
    ")"
   ]
  },
  {
   "cell_type": "code",
   "execution_count": 14,
   "id": "c7529fae-9e78-4399-b508-e3f67f4b73d9",
   "metadata": {},
   "outputs": [],
   "source": [
    "pickle_output(pairs_out, \"water_pc_pairs\")"
   ]
  },
  {
   "cell_type": "markdown",
   "id": "d93b0f90-5003-449f-a50e-d922770bc70f",
   "metadata": {},
   "source": [
    "#  MDCM"
   ]
  },
  {
   "cell_type": "code",
   "execution_count": 17,
   "id": "b944e29f-0e4b-4b5e-98e5-e3833f7e4510",
   "metadata": {},
   "outputs": [
    {
     "name": "stderr",
     "output_type": "stream",
     "text": [
      "2023-08-31 16:21:26 | WARNING | dispatch:log_elapsed_time:270 - Finished tracing + transforming jit(convert_element_type) in 0.00018668174743652344 sec\n",
      "2023-08-31 16:21:34 | WARNING | dispatch:log_elapsed_time:270 - Finished tracing + transforming jit(convert_element_type) in 0.00018143653869628906 sec\n",
      "2023-08-31 16:22:31 | WARNING | dispatch:log_elapsed_time:270 - Finished tracing + transforming jit(convert_element_type) in 0.00018310546875 sec\n"
     ]
    }
   ],
   "source": [
    "eg_dcm_path_ = \"/home/boittier/homeb/water_cluster/pbe0dz_mdcm/{}/charmm/dcm.xyz\"\n",
    "pairs_out = pairs_data(data, \n",
    "           system = \"water_cluster\",\n",
    "          name = \"mdcm\",\n",
    "          dcm_path_ = eg_dcm_path_,\n",
    ")"
   ]
  },
  {
   "cell_type": "code",
   "execution_count": 18,
   "id": "29532936-e319-44c5-8272-f62964b49f61",
   "metadata": {},
   "outputs": [],
   "source": [
    "pickle_output(pairs_out, \"water_mdcm_pairs\")"
   ]
  },
  {
   "cell_type": "markdown",
   "id": "13a470fc-62e5-4230-bd3e-047e17fe6218",
   "metadata": {},
   "source": [
    "#  pbe0dz_tip3"
   ]
  },
  {
   "cell_type": "code",
   "execution_count": 19,
   "id": "be30faf6-1a20-4ec6-935c-d742fb057541",
   "metadata": {},
   "outputs": [],
   "source": [
    "eg_dcm_path_ = \"/home/boittier/homeb/water_cluster/pbe0dz_tip3/{}/charmm/dcm.xyz\"\n",
    "pairs_out = pairs_data(data, \n",
    "           system = \"water_cluster\",\n",
    "          name = \"tip3\",\n",
    "          dcm_path_ = eg_dcm_path_,\n",
    ")"
   ]
  },
  {
   "cell_type": "code",
   "execution_count": 20,
   "id": "c04ed88b-c6ad-4bcd-9e55-e2013deee235",
   "metadata": {},
   "outputs": [],
   "source": [
    "pickle_output(pairs_out, \"water_tip3_pairs\")"
   ]
  },
  {
   "cell_type": "markdown",
   "id": "891ea525-4ff9-4aaa-acef-605d8d104faa",
   "metadata": {},
   "source": [
    "#  kMDCM"
   ]
  },
  {
   "cell_type": "code",
   "execution_count": 21,
   "id": "64c7d560-7c09-4613-b555-2966cf3f937f",
   "metadata": {},
   "outputs": [],
   "source": [
    "eg_dcm_path_ = \"/home/boittier/homeb/water_cluster/pbe0dz_kmdcm/{}/charmm/dcm.xyz\"\n",
    "pairs_out = pairs_data(data, \n",
    "           system = \"water_cluster\",\n",
    "          name = \"kmdcm\",\n",
    "          dcm_path_ = eg_dcm_path_,\n",
    ")"
   ]
  },
  {
   "cell_type": "code",
   "execution_count": 22,
   "id": "72555db2-463b-471c-a65c-bc7fe5e83dba",
   "metadata": {},
   "outputs": [],
   "source": [
    "pickle_output(pairs_out, \"water_kmdcm_pairs\")"
   ]
  },
  {
   "cell_type": "code",
   "execution_count": 42,
   "id": "20fe53c8-13e4-4a14-beed-3fc81c5d376d",
   "metadata": {},
   "outputs": [],
   "source": [
    "# dists = read_from_pickle(PKL_PATH / \"structures\" / \"water_cluster.pkl\")"
   ]
  },
  {
   "cell_type": "code",
   "execution_count": 43,
   "id": "30893298-5685-409b-9a95-a3257d6cd87e",
   "metadata": {},
   "outputs": [],
   "source": [
    "# struct, dist = next(dists)"
   ]
  },
  {
   "cell_type": "code",
   "execution_count": 56,
   "id": "c5b0b803-2a3c-4acd-a84d-2d33d955ad61",
   "metadata": {},
   "outputs": [],
   "source": [
    "# ?FF"
   ]
  },
  {
   "cell_type": "code",
   "execution_count": 1,
   "id": "3b39b502-9542-4acb-a87e-98fa1470ad23",
   "metadata": {},
   "outputs": [],
   "source": [
    "# ff_obj = FF(eg_data, \n",
    "#             dist,\n",
    "#             LJ,\n",
    "#             LJ_bound,\n",
    "#             struct[0],\n",
    "#            )"
   ]
  },
  {
   "cell_type": "code",
   "execution_count": 2,
   "id": "8d9815fe-e1c2-4c4f-8c40-88434f6130fd",
   "metadata": {},
   "outputs": [],
   "source": [
    "# pickle_output(ff_obj, \"water_pc_ff_orig\")"
   ]
  },
  {
   "cell_type": "code",
   "execution_count": null,
   "id": "9d07e92c-f8cc-4072-afde-be9d7d32aea1",
   "metadata": {},
   "outputs": [],
   "source": []
  },
  {
   "cell_type": "code",
   "execution_count": null,
   "id": "2456c3b5-d192-404b-a1ea-6aa608e9d9a2",
   "metadata": {},
   "outputs": [],
   "source": []
  }
 ],
 "metadata": {
  "kernelspec": {
   "display_name": "pycharmm",
   "language": "python",
   "name": "pycharmm"
  },
  "language_info": {
   "codemirror_mode": {
    "name": "ipython",
    "version": 3
   },
   "file_extension": ".py",
   "mimetype": "text/x-python",
   "name": "python",
   "nbconvert_exporter": "python",
   "pygments_lexer": "ipython3",
   "version": "3.8.16"
  }
 },
 "nbformat": 4,
 "nbformat_minor": 5
}
