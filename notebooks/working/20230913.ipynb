{
 "cells": [
  {
   "cell_type": "code",
   "execution_count": 2,
   "id": "2031669b-dac1-4ac8-b10e-8a909f0ac10b",
   "metadata": {},
   "outputs": [
    {
     "name": "stderr",
     "output_type": "stream",
     "text": [
      "2023-09-14 12:03:42 | DEBUG | __init__:process_initializer_module:72 - Initializing MLIR with module: _site_initialize_0\n",
      "2023-09-14 12:03:42 | DEBUG | __init__:process_initializer_module:74 - Registering dialects from initializer <module 'jaxlib.mlir._mlir_libs._site_initialize_0' from '/home/boittier/miniconda3/envs/pycharmm/lib/python3.8/site-packages/jaxlib/mlir/_mlir_libs/_site_initialize_0.so'>\n"
     ]
    },
    {
     "name": "stdout",
     "output_type": "stream",
     "text": [
      "0 ('C', 'C')\n",
      "1 ('C', 'CG331')\n",
      "2 ('C', 'CL')\n",
      "3 ('C', 'H')\n",
      "4 ('C', 'HGA3')\n",
      "5 ('C', 'HGP1')\n",
      "6 ('C', 'HT')\n",
      "7 ('C', 'OG311')\n",
      "8 ('C', 'OT')\n",
      "9 ('CG331', 'CG331')\n",
      "10 ('CG331', 'CL')\n",
      "11 ('CG331', 'H')\n",
      "12 ('CG331', 'HGA3')\n",
      "13 ('CG331', 'HGP1')\n",
      "14 ('CG331', 'HT')\n",
      "15 ('CG331', 'OG311')\n",
      "16 ('CG331', 'OT')\n",
      "17 ('CL', 'CL')\n",
      "18 ('CL', 'H')\n",
      "19 ('CL', 'HGA3')\n",
      "20 ('CL', 'HGP1')\n",
      "21 ('CL', 'HT')\n",
      "22 ('CL', 'OG311')\n",
      "23 ('CL', 'OT')\n",
      "24 ('H', 'H')\n",
      "25 ('H', 'HGA3')\n",
      "26 ('H', 'HGP1')\n",
      "27 ('H', 'HT')\n",
      "28 ('H', 'OG311')\n",
      "29 ('H', 'OT')\n",
      "30 ('HGA3', 'HGA3')\n",
      "31 ('HGA3', 'HGP1')\n",
      "32 ('HGA3', 'HT')\n",
      "33 ('HGA3', 'OG311')\n",
      "34 ('HGA3', 'OT')\n",
      "35 ('HGP1', 'HGP1')\n",
      "36 ('HGP1', 'HT')\n",
      "37 ('HGP1', 'OG311')\n",
      "38 ('HGP1', 'OT')\n",
      "39 ('HT', 'HT')\n",
      "40 ('HT', 'OG311')\n",
      "41 ('HT', 'OT')\n",
      "42 ('OG311', 'OG311')\n",
      "43 ('OG311', 'OT')\n",
      "44 ('OT', 'OT')\n"
     ]
    },
    {
     "data": {
      "text/plain": [
       "<Figure size 100x100 with 0 Axes>"
      ]
     },
     "metadata": {},
     "output_type": "display_data"
    }
   ],
   "source": [
    "from pathlib import Path\n",
    "import seaborn as sns\n",
    "import scipy as sp\n",
    "import pandas as pd\n",
    "import matplotlib.pyplot as plt\n",
    "\n",
    "from ff_energy.latex_writer.report import Report\n",
    "from ff_energy.latex_writer.energydata.energy_data_report import EnergyReport\n",
    "from ff_energy.latex_writer.figure import Figure\n",
    "from ff_energy.latex_writer.format import safe_latex_string\n",
    "from ff_energy.utils.ffe_utils import read_from_pickle, pickle_output\n",
    "\n",
    "from ff_energy.ffe.ff import FF\n",
    "from ff_energy.ffe.constants import PKL_PATH, PDB_PATH\n",
    "from ff_energy.ffe.potential import LJ, LJ_bound, DE #, DE_bounds\n",
    "\n",
    "from ff_energy.ffe.data import pairs_data\n",
    "from ff_energy.plotting.data_plots import DataPlots\n"
   ]
  },
  {
   "cell_type": "code",
   "execution_count": 10,
   "id": "8d83cf0e-13c0-4cc0-8439-841ba49f9a72",
   "metadata": {},
   "outputs": [],
   "source": [
    "test = next(read_from_pickle(PKL_PATH / \"ELECp_dcm_lj.pkl\"))"
   ]
  },
  {
   "cell_type": "code",
   "execution_count": 11,
   "id": "aa664ed2-68f0-453f-b179-96b3ddfdb3e6",
   "metadata": {},
   "outputs": [
    {
     "data": {
      "text/html": [
       "<div>\n",
       "<style scoped>\n",
       "    .dataframe tbody tr th:only-of-type {\n",
       "        vertical-align: middle;\n",
       "    }\n",
       "\n",
       "    .dataframe tbody tr th {\n",
       "        vertical-align: top;\n",
       "    }\n",
       "\n",
       "    .dataframe thead th {\n",
       "        text-align: right;\n",
       "    }\n",
       "</style>\n",
       "<table border=\"1\" class=\"dataframe\">\n",
       "  <thead>\n",
       "    <tr style=\"text-align: right;\">\n",
       "      <th></th>\n",
       "      <th>group</th>\n",
       "      <th>es</th>\n",
       "      <th>akp</th>\n",
       "      <th>idx</th>\n",
       "      <th>gname</th>\n",
       "      <th>distances</th>\n",
       "      <th>sigmas</th>\n",
       "      <th>epsilons</th>\n",
       "      <th>sigmas2</th>\n",
       "      <th>epsilons2</th>\n",
       "      <th>jaxflat</th>\n",
       "      <th>delta_sigma</th>\n",
       "    </tr>\n",
       "  </thead>\n",
       "  <tbody>\n",
       "    <tr>\n",
       "      <th>1710</th>\n",
       "      <td>0</td>\n",
       "      <td>-0.019873</td>\n",
       "      <td>3</td>\n",
       "      <td>1710</td>\n",
       "      <td>100_1018_DCM_120_967</td>\n",
       "      <td>7.864031</td>\n",
       "      <td>3.704473</td>\n",
       "      <td>0.914381</td>\n",
       "      <td>2.347669</td>\n",
       "      <td>0.730165</td>\n",
       "      <td>-0.001033</td>\n",
       "      <td>1.356804</td>\n",
       "    </tr>\n",
       "    <tr>\n",
       "      <th>1711</th>\n",
       "      <td>0</td>\n",
       "      <td>-0.019873</td>\n",
       "      <td>3</td>\n",
       "      <td>1711</td>\n",
       "      <td>100_1018_DCM_120_967</td>\n",
       "      <td>7.864031</td>\n",
       "      <td>3.704473</td>\n",
       "      <td>0.914381</td>\n",
       "      <td>2.347669</td>\n",
       "      <td>0.730165</td>\n",
       "      <td>-0.001033</td>\n",
       "      <td>1.356804</td>\n",
       "    </tr>\n",
       "    <tr>\n",
       "      <th>1712</th>\n",
       "      <td>0</td>\n",
       "      <td>-0.001795</td>\n",
       "      <td>3</td>\n",
       "      <td>1712</td>\n",
       "      <td>100_1018_DCM_120_967</td>\n",
       "      <td>11.750380</td>\n",
       "      <td>3.704473</td>\n",
       "      <td>0.914381</td>\n",
       "      <td>2.347669</td>\n",
       "      <td>0.730165</td>\n",
       "      <td>-0.000093</td>\n",
       "      <td>1.356804</td>\n",
       "    </tr>\n",
       "    <tr>\n",
       "      <th>1713</th>\n",
       "      <td>0</td>\n",
       "      <td>-0.001795</td>\n",
       "      <td>3</td>\n",
       "      <td>1713</td>\n",
       "      <td>100_1018_DCM_120_967</td>\n",
       "      <td>11.750380</td>\n",
       "      <td>3.704473</td>\n",
       "      <td>0.914381</td>\n",
       "      <td>2.347669</td>\n",
       "      <td>0.730165</td>\n",
       "      <td>-0.000093</td>\n",
       "      <td>1.356804</td>\n",
       "    </tr>\n",
       "    <tr>\n",
       "      <th>1714</th>\n",
       "      <td>0</td>\n",
       "      <td>-0.326269</td>\n",
       "      <td>3</td>\n",
       "      <td>1714</td>\n",
       "      <td>100_1018_DCM_120_967</td>\n",
       "      <td>4.852254</td>\n",
       "      <td>3.704473</td>\n",
       "      <td>0.914381</td>\n",
       "      <td>2.347669</td>\n",
       "      <td>0.730165</td>\n",
       "      <td>-0.018613</td>\n",
       "      <td>1.356804</td>\n",
       "    </tr>\n",
       "    <tr>\n",
       "      <th>...</th>\n",
       "      <td>...</td>\n",
       "      <td>...</td>\n",
       "      <td>...</td>\n",
       "      <td>...</td>\n",
       "      <td>...</td>\n",
       "      <td>...</td>\n",
       "      <td>...</td>\n",
       "      <td>...</td>\n",
       "      <td>...</td>\n",
       "      <td>...</td>\n",
       "      <td>...</td>\n",
       "      <td>...</td>\n",
       "    </tr>\n",
       "    <tr>\n",
       "      <th>947715</th>\n",
       "      <td>199</td>\n",
       "      <td>-0.003301</td>\n",
       "      <td>3</td>\n",
       "      <td>947715</td>\n",
       "      <td>100_992_DCM_117_761</td>\n",
       "      <td>10.614685</td>\n",
       "      <td>3.704473</td>\n",
       "      <td>0.914381</td>\n",
       "      <td>2.347669</td>\n",
       "      <td>0.730165</td>\n",
       "      <td>-0.000171</td>\n",
       "      <td>1.356804</td>\n",
       "    </tr>\n",
       "    <tr>\n",
       "      <th>947716</th>\n",
       "      <td>199</td>\n",
       "      <td>-0.000734</td>\n",
       "      <td>3</td>\n",
       "      <td>947716</td>\n",
       "      <td>100_992_DCM_117_761</td>\n",
       "      <td>13.639188</td>\n",
       "      <td>3.704473</td>\n",
       "      <td>0.914381</td>\n",
       "      <td>2.347669</td>\n",
       "      <td>0.730165</td>\n",
       "      <td>-0.000038</td>\n",
       "      <td>1.356804</td>\n",
       "    </tr>\n",
       "    <tr>\n",
       "      <th>947717</th>\n",
       "      <td>199</td>\n",
       "      <td>-0.000734</td>\n",
       "      <td>3</td>\n",
       "      <td>947717</td>\n",
       "      <td>100_992_DCM_117_761</td>\n",
       "      <td>13.639188</td>\n",
       "      <td>3.704473</td>\n",
       "      <td>0.914381</td>\n",
       "      <td>2.347669</td>\n",
       "      <td>0.730165</td>\n",
       "      <td>-0.000038</td>\n",
       "      <td>1.356804</td>\n",
       "    </tr>\n",
       "    <tr>\n",
       "      <th>947718</th>\n",
       "      <td>199</td>\n",
       "      <td>-0.001252</td>\n",
       "      <td>3</td>\n",
       "      <td>947718</td>\n",
       "      <td>100_992_DCM_117_761</td>\n",
       "      <td>12.477437</td>\n",
       "      <td>3.704473</td>\n",
       "      <td>0.914381</td>\n",
       "      <td>2.347669</td>\n",
       "      <td>0.730165</td>\n",
       "      <td>-0.000065</td>\n",
       "      <td>1.356804</td>\n",
       "    </tr>\n",
       "    <tr>\n",
       "      <th>947719</th>\n",
       "      <td>199</td>\n",
       "      <td>-0.001252</td>\n",
       "      <td>3</td>\n",
       "      <td>947719</td>\n",
       "      <td>100_992_DCM_117_761</td>\n",
       "      <td>12.477437</td>\n",
       "      <td>3.704473</td>\n",
       "      <td>0.914381</td>\n",
       "      <td>2.347669</td>\n",
       "      <td>0.730165</td>\n",
       "      <td>-0.000065</td>\n",
       "      <td>1.356804</td>\n",
       "    </tr>\n",
       "  </tbody>\n",
       "</table>\n",
       "<p>152000 rows × 12 columns</p>\n",
       "</div>"
      ],
      "text/plain": [
       "       group        es  akp     idx                 gname  distances  \\\n",
       "1710       0 -0.019873    3    1710  100_1018_DCM_120_967   7.864031   \n",
       "1711       0 -0.019873    3    1711  100_1018_DCM_120_967   7.864031   \n",
       "1712       0 -0.001795    3    1712  100_1018_DCM_120_967  11.750380   \n",
       "1713       0 -0.001795    3    1713  100_1018_DCM_120_967  11.750380   \n",
       "1714       0 -0.326269    3    1714  100_1018_DCM_120_967   4.852254   \n",
       "...      ...       ...  ...     ...                   ...        ...   \n",
       "947715   199 -0.003301    3  947715   100_992_DCM_117_761  10.614685   \n",
       "947716   199 -0.000734    3  947716   100_992_DCM_117_761  13.639188   \n",
       "947717   199 -0.000734    3  947717   100_992_DCM_117_761  13.639188   \n",
       "947718   199 -0.001252    3  947718   100_992_DCM_117_761  12.477437   \n",
       "947719   199 -0.001252    3  947719   100_992_DCM_117_761  12.477437   \n",
       "\n",
       "          sigmas  epsilons   sigmas2  epsilons2   jaxflat  delta_sigma  \n",
       "1710    3.704473  0.914381  2.347669   0.730165 -0.001033     1.356804  \n",
       "1711    3.704473  0.914381  2.347669   0.730165 -0.001033     1.356804  \n",
       "1712    3.704473  0.914381  2.347669   0.730165 -0.000093     1.356804  \n",
       "1713    3.704473  0.914381  2.347669   0.730165 -0.000093     1.356804  \n",
       "1714    3.704473  0.914381  2.347669   0.730165 -0.018613     1.356804  \n",
       "...          ...       ...       ...        ...       ...          ...  \n",
       "947715  3.704473  0.914381  2.347669   0.730165 -0.000171     1.356804  \n",
       "947716  3.704473  0.914381  2.347669   0.730165 -0.000038     1.356804  \n",
       "947717  3.704473  0.914381  2.347669   0.730165 -0.000038     1.356804  \n",
       "947718  3.704473  0.914381  2.347669   0.730165 -0.000065     1.356804  \n",
       "947719  3.704473  0.914381  2.347669   0.730165 -0.000065     1.356804  \n",
       "\n",
       "[152000 rows x 12 columns]"
      ]
     },
     "execution_count": 11,
     "metadata": {},
     "output_type": "execute_result"
    }
   ],
   "source": [
    "test.debug_df[\"delta_sigma\"] =  test.debug_df[\"sigmas\"] - test.debug_df[\"sigmas2\"]  #.describe() #.groupby(\"gname\").sum().describe()\n",
    "\n",
    "test.debug_df[ test.debug_df[\"delta_sigma\"] > 0.001 ]"
   ]
  },
  {
   "cell_type": "code",
   "execution_count": 12,
   "id": "b416fc9f-04d1-48b0-a333-82a5dbf29b11",
   "metadata": {},
   "outputs": [
    {
     "data": {
      "text/plain": [
       "array([0.6655605 , 2.18501652, 2.34766866, 3.70447254, 3.86712468,\n",
       "       4.02977682])"
      ]
     },
     "execution_count": 12,
     "metadata": {},
     "output_type": "execute_result"
    }
   ],
   "source": [
    "test.debug_df[\"sigmas\"].unique()"
   ]
  },
  {
   "cell_type": "code",
   "execution_count": 13,
   "id": "2361ac28-d8c9-42fb-a76b-9f9b2aa278e3",
   "metadata": {},
   "outputs": [
    {
     "data": {
      "text/plain": [
       "array([0.85955128, 0.88654229, 0.73016524, 0.91438085, 0.75309336,\n",
       "       0.62025535])"
      ]
     },
     "execution_count": 13,
     "metadata": {},
     "output_type": "execute_result"
    }
   ],
   "source": [
    "test.debug_df[\"epsilons\"].unique()"
   ]
  },
  {
   "cell_type": "code",
   "execution_count": 14,
   "id": "214bc99f-4df3-4bb3-8512-ec6ced2cc832",
   "metadata": {},
   "outputs": [
    {
     "data": {
      "text/plain": [
       "array([0.6655605, 2.1850166, 3.7044725, 2.3476686, 3.8671248, 4.029777 ],\n",
       "      dtype=float32)"
      ]
     },
     "execution_count": 14,
     "metadata": {},
     "output_type": "execute_result"
    }
   ],
   "source": [
    "test.debug_df[\"sigmas2\"].unique()"
   ]
  },
  {
   "cell_type": "code",
   "execution_count": 15,
   "id": "9990e860-1354-4356-a121-72c94c79f089",
   "metadata": {},
   "outputs": [
    {
     "data": {
      "text/plain": [
       "array([0.8595513 , 0.8865423 , 0.91438085, 0.73016524, 0.75309336,\n",
       "       0.62025535], dtype=float32)"
      ]
     },
     "execution_count": 15,
     "metadata": {},
     "output_type": "execute_result"
    }
   ],
   "source": [
    "test.debug_df[\"epsilons2\"].unique()"
   ]
  },
  {
   "cell_type": "code",
   "execution_count": null,
   "id": "0fc3f8d4-3e22-4f95-ad8c-d2ea3201f83b",
   "metadata": {},
   "outputs": [],
   "source": []
  },
  {
   "cell_type": "code",
   "execution_count": 16,
   "id": "53e27e00-eeb1-424a-9d83-c55a8eb0dc4a",
   "metadata": {},
   "outputs": [
    {
     "data": {
      "text/plain": [
       "array([0.73016524], dtype=float32)"
      ]
     },
     "execution_count": 16,
     "metadata": {},
     "output_type": "execute_result"
    }
   ],
   "source": [
    "test.debug_df[ test.debug_df[\"delta_sigma\"] > 0.001 ][\"epsilons2\"].unique()"
   ]
  },
  {
   "cell_type": "code",
   "execution_count": 17,
   "id": "b49fadb4-9c02-4dd1-9700-8b17517c3ab3",
   "metadata": {},
   "outputs": [
    {
     "data": {
      "text/plain": [
       "array([2.3476686], dtype=float32)"
      ]
     },
     "execution_count": 17,
     "metadata": {},
     "output_type": "execute_result"
    }
   ],
   "source": [
    "test.debug_df[ test.debug_df[\"delta_sigma\"] > 0.001 ][\"sigmas2\"].unique()"
   ]
  },
  {
   "cell_type": "code",
   "execution_count": 18,
   "id": "9ef6031b-6136-48b8-80b9-5cd226b1f7a6",
   "metadata": {},
   "outputs": [
    {
     "data": {
      "text/plain": [
       "array([0.91438085])"
      ]
     },
     "execution_count": 18,
     "metadata": {},
     "output_type": "execute_result"
    }
   ],
   "source": [
    "test.debug_df[ test.debug_df[\"delta_sigma\"] > 0.001 ][\"epsilons\"].unique()"
   ]
  },
  {
   "cell_type": "code",
   "execution_count": 19,
   "id": "26f23982-5bf7-46e8-b196-3aa9bb97d936",
   "metadata": {},
   "outputs": [
    {
     "data": {
      "text/plain": [
       "array([3.70447254])"
      ]
     },
     "execution_count": 19,
     "metadata": {},
     "output_type": "execute_result"
    }
   ],
   "source": [
    "test.debug_df[ test.debug_df[\"delta_sigma\"] > 0.001 ][\"sigmas\"].unique()"
   ]
  },
  {
   "cell_type": "code",
   "execution_count": null,
   "id": "93f52349-5db3-470f-80f3-ef36df8feed2",
   "metadata": {},
   "outputs": [],
   "source": []
  },
  {
   "cell_type": "code",
   "execution_count": 20,
   "id": "143e8b1f-1c4c-4259-a217-b0bec50b4162",
   "metadata": {},
   "outputs": [
    {
     "data": {
      "text/plain": [
       "(0.0, 10.0)"
      ]
     },
     "execution_count": 20,
     "metadata": {},
     "output_type": "execute_result"
    },
    {
     "data": {
      "image/png": "[encoded data removed]",
      "text/plain": [
       "<Figure size 800x600 with 1 Axes>"
      ]
     },
     "metadata": {},
     "output_type": "display_data"
    }
   ],
   "source": [
    "plt.scatter(test.debug_df[\"es\"], test.debug_df[\"jaxflat\"])\n",
    "plt.xlim(0,10)\n",
    "plt.ylim(0,10)"
   ]
  },
  {
   "cell_type": "code",
   "execution_count": 9,
   "id": "1a4bd627-ed6d-4e41-8576-f56436d1f852",
   "metadata": {},
   "outputs": [],
   "source": [
    "# plt.scatter(test.debug_df[\"distances\"], test.debug_df[\"jaxflat\"])"
   ]
  },
  {
   "cell_type": "code",
   "execution_count": 13,
   "id": "aab5df30-726e-4ee7-a636-be0ac8e3761b",
   "metadata": {},
   "outputs": [
    {
     "data": {
      "text/plain": [
       "(array([4., 0., 0., ..., 0., 0., 2.]),\n",
       " array([-879.64803682, -879.6323568 , -879.61667677, ..., 2256.32554475,\n",
       "        2256.34122477, 2256.3569048 ]),\n",
       " <BarContainer object of 200000 artists>)"
      ]
     },
     "execution_count": 13,
     "metadata": {},
     "output_type": "execute_result"
    },
    {
     "name": "stdout",
     "output_type": "stream",
     "text": [
      "Error in callback <function flush_figures at 0x7f0795e36670> (for post_execute):\n"
     ]
    },
    {
     "name": "stderr",
     "output_type": "stream",
     "text": [
      "\n",
      "KeyboardInterrupt\n",
      "\n"
     ]
    }
   ],
   "source": [
    "plt.hist(test.debug_df[\"es\"] / test.debug_df[\"jaxflat\"], bins=200000)"
   ]
  },
  {
   "cell_type": "code",
   "execution_count": 20,
   "id": "51b5aed9-070e-48c4-bca3-c5a970589d82",
   "metadata": {},
   "outputs": [
    {
     "data": {
      "text/plain": [
       "FF: LJ dcm ELECp Exact intE (jax_coloumb: False)"
      ]
     },
     "execution_count": 20,
     "metadata": {},
     "output_type": "execute_result"
    }
   ],
   "source": [
    "test"
   ]
  },
  {
   "cell_type": "code",
   "execution_count": 21,
   "id": "7f73c49e-316e-4d0f-a86d-6369467c23e3",
   "metadata": {},
   "outputs": [
    {
     "data": {
      "text/html": [
       "<div>\n",
       "<style scoped>\n",
       "    .dataframe tbody tr th:only-of-type {\n",
       "        vertical-align: middle;\n",
       "    }\n",
       "\n",
       "    .dataframe tbody tr th {\n",
       "        vertical-align: top;\n",
       "    }\n",
       "\n",
       "    .dataframe thead th {\n",
       "        text-align: right;\n",
       "    }\n",
       "</style>\n",
       "<table border=\"1\" class=\"dataframe\">\n",
       "  <thead>\n",
       "    <tr style=\"text-align: right;\">\n",
       "      <th></th>\n",
       "      <th>TOTAL</th>\n",
       "      <th>ELEC</th>\n",
       "      <th>VDW</th>\n",
       "      <th>KEY</th>\n",
       "      <th>M_ENERGY</th>\n",
       "      <th>KEY</th>\n",
       "      <th>n_monomers</th>\n",
       "      <th>C_ENERGY</th>\n",
       "      <th>intE</th>\n",
       "      <th>P_intE</th>\n",
       "      <th>C_ENERGY_kcalmol</th>\n",
       "      <th>ELEC_CI</th>\n",
       "      <th>ELEC_POL</th>\n",
       "      <th>ELECpol</th>\n",
       "      <th>ELECci</th>\n",
       "      <th>ELECp</th>\n",
       "      <th>ELECm</th>\n",
       "      <th>ELECnull</th>\n",
       "      <th>DUMMY</th>\n",
       "    </tr>\n",
       "  </thead>\n",
       "  <tbody>\n",
       "    <tr>\n",
       "      <th>100_1018_DCM_120_967</th>\n",
       "      <td>8.04068</td>\n",
       "      <td>-1.88784</td>\n",
       "      <td>-30.40458</td>\n",
       "      <td>100_1018_DCM_120_967</td>\n",
       "      <td>-19187.367411</td>\n",
       "      <td>100_1018_DCM_120_967</td>\n",
       "      <td>20</td>\n",
       "      <td>-19187.387191</td>\n",
       "      <td>-12.411790</td>\n",
       "      <td>-12.532116</td>\n",
       "      <td>-1.204014e+07</td>\n",
       "      <td>-20.567562</td>\n",
       "      <td>-1.421479</td>\n",
       "      <td>-21.599542</td>\n",
       "      <td>-20.567562</td>\n",
       "      <td>-1.88784</td>\n",
       "      <td>-5.55673</td>\n",
       "      <td>-0.0</td>\n",
       "      <td>0.0</td>\n",
       "    </tr>\n",
       "    <tr>\n",
       "      <th>100_1019_DCM_120_565</th>\n",
       "      <td>9.89488</td>\n",
       "      <td>-2.62215</td>\n",
       "      <td>-35.67010</td>\n",
       "      <td>100_1019_DCM_120_565</td>\n",
       "      <td>-19187.356685</td>\n",
       "      <td>100_1019_DCM_120_565</td>\n",
       "      <td>20</td>\n",
       "      <td>-19187.379774</td>\n",
       "      <td>-14.488511</td>\n",
       "      <td>-15.246951</td>\n",
       "      <td>-1.204014e+07</td>\n",
       "      <td>-28.837646</td>\n",
       "      <td>-2.050995</td>\n",
       "      <td>-30.129872</td>\n",
       "      <td>-28.837646</td>\n",
       "      <td>-2.62215</td>\n",
       "      <td>-7.65099</td>\n",
       "      <td>-0.0</td>\n",
       "      <td>0.0</td>\n",
       "    </tr>\n",
       "    <tr>\n",
       "      <th>100_1024_DCM_121_932</th>\n",
       "      <td>10.32904</td>\n",
       "      <td>-1.47130</td>\n",
       "      <td>-31.15835</td>\n",
       "      <td>100_1024_DCM_121_932</td>\n",
       "      <td>-19187.342979</td>\n",
       "      <td>100_1024_DCM_121_932</td>\n",
       "      <td>20</td>\n",
       "      <td>-19187.365864</td>\n",
       "      <td>-14.360149</td>\n",
       "      <td>-13.865660</td>\n",
       "      <td>-1.204013e+07</td>\n",
       "      <td>-16.497216</td>\n",
       "      <td>-1.404197</td>\n",
       "      <td>-17.508540</td>\n",
       "      <td>-16.497216</td>\n",
       "      <td>-1.47130</td>\n",
       "      <td>-4.03920</td>\n",
       "      <td>-0.0</td>\n",
       "      <td>0.0</td>\n",
       "    </tr>\n",
       "    <tr>\n",
       "      <th>100_1053_DCM_123_948</th>\n",
       "      <td>9.79551</td>\n",
       "      <td>-3.52281</td>\n",
       "      <td>-35.38260</td>\n",
       "      <td>100_1053_DCM_123_948</td>\n",
       "      <td>-19187.359041</td>\n",
       "      <td>100_1053_DCM_123_948</td>\n",
       "      <td>20</td>\n",
       "      <td>-19187.376685</td>\n",
       "      <td>-11.071544</td>\n",
       "      <td>-11.036796</td>\n",
       "      <td>-1.204014e+07</td>\n",
       "      <td>-34.970801</td>\n",
       "      <td>-1.757483</td>\n",
       "      <td>-36.197482</td>\n",
       "      <td>-34.970801</td>\n",
       "      <td>-3.52281</td>\n",
       "      <td>-8.05686</td>\n",
       "      <td>-0.0</td>\n",
       "      <td>0.0</td>\n",
       "    </tr>\n",
       "    <tr>\n",
       "      <th>100_1100_DCM_129_15</th>\n",
       "      <td>9.00233</td>\n",
       "      <td>-2.83638</td>\n",
       "      <td>-33.26086</td>\n",
       "      <td>100_1100_DCM_129_15</td>\n",
       "      <td>-19187.360730</td>\n",
       "      <td>100_1100_DCM_129_15</td>\n",
       "      <td>20</td>\n",
       "      <td>-19187.381994</td>\n",
       "      <td>-13.342866</td>\n",
       "      <td>-13.423951</td>\n",
       "      <td>-1.204014e+07</td>\n",
       "      <td>-38.877332</td>\n",
       "      <td>-2.678006</td>\n",
       "      <td>-40.843937</td>\n",
       "      <td>-38.877332</td>\n",
       "      <td>-2.83638</td>\n",
       "      <td>-9.75593</td>\n",
       "      <td>-0.0</td>\n",
       "      <td>0.0</td>\n",
       "    </tr>\n",
       "    <tr>\n",
       "      <th>...</th>\n",
       "      <td>...</td>\n",
       "      <td>...</td>\n",
       "      <td>...</td>\n",
       "      <td>...</td>\n",
       "      <td>...</td>\n",
       "      <td>...</td>\n",
       "      <td>...</td>\n",
       "      <td>...</td>\n",
       "      <td>...</td>\n",
       "      <td>...</td>\n",
       "      <td>...</td>\n",
       "      <td>...</td>\n",
       "      <td>...</td>\n",
       "      <td>...</td>\n",
       "      <td>...</td>\n",
       "      <td>...</td>\n",
       "      <td>...</td>\n",
       "      <td>...</td>\n",
       "      <td>...</td>\n",
       "    </tr>\n",
       "    <tr>\n",
       "      <th>100_979_DCM_115_117</th>\n",
       "      <td>10.52301</td>\n",
       "      <td>-1.09235</td>\n",
       "      <td>-29.25850</td>\n",
       "      <td>100_979_DCM_115_117</td>\n",
       "      <td>-19187.343536</td>\n",
       "      <td>100_979_DCM_115_117</td>\n",
       "      <td>20</td>\n",
       "      <td>-19187.363317</td>\n",
       "      <td>-12.412769</td>\n",
       "      <td>-12.238591</td>\n",
       "      <td>-1.204013e+07</td>\n",
       "      <td>-15.129841</td>\n",
       "      <td>-1.104415</td>\n",
       "      <td>-15.793819</td>\n",
       "      <td>-15.129841</td>\n",
       "      <td>-1.09235</td>\n",
       "      <td>-3.17565</td>\n",
       "      <td>-0.0</td>\n",
       "      <td>0.0</td>\n",
       "    </tr>\n",
       "    <tr>\n",
       "      <th>100_983_DCM_116_25</th>\n",
       "      <td>9.49413</td>\n",
       "      <td>-3.69630</td>\n",
       "      <td>-36.41305</td>\n",
       "      <td>100_983_DCM_116_25</td>\n",
       "      <td>-19187.339973</td>\n",
       "      <td>100_983_DCM_116_25</td>\n",
       "      <td>20</td>\n",
       "      <td>-19187.356356</td>\n",
       "      <td>-10.280112</td>\n",
       "      <td>-11.185809</td>\n",
       "      <td>-1.204012e+07</td>\n",
       "      <td>-44.367339</td>\n",
       "      <td>-2.568431</td>\n",
       "      <td>-46.111346</td>\n",
       "      <td>-44.367339</td>\n",
       "      <td>-3.69630</td>\n",
       "      <td>-10.24308</td>\n",
       "      <td>-0.0</td>\n",
       "      <td>0.0</td>\n",
       "    </tr>\n",
       "    <tr>\n",
       "      <th>100_986_DCM_116_989</th>\n",
       "      <td>10.93140</td>\n",
       "      <td>-3.39350</td>\n",
       "      <td>-30.97783</td>\n",
       "      <td>100_986_DCM_116_989</td>\n",
       "      <td>-19187.330647</td>\n",
       "      <td>100_986_DCM_116_989</td>\n",
       "      <td>20</td>\n",
       "      <td>-19187.349940</td>\n",
       "      <td>-12.106152</td>\n",
       "      <td>-12.100108</td>\n",
       "      <td>-1.204012e+07</td>\n",
       "      <td>-24.987267</td>\n",
       "      <td>-1.390889</td>\n",
       "      <td>-25.979675</td>\n",
       "      <td>-24.987267</td>\n",
       "      <td>-3.39350</td>\n",
       "      <td>-8.05472</td>\n",
       "      <td>-0.0</td>\n",
       "      <td>0.0</td>\n",
       "    </tr>\n",
       "    <tr>\n",
       "      <th>100_98_DCM_12_534</th>\n",
       "      <td>10.41278</td>\n",
       "      <td>-1.78878</td>\n",
       "      <td>-35.84975</td>\n",
       "      <td>100_98_DCM_12_534</td>\n",
       "      <td>-19187.337523</td>\n",
       "      <td>100_98_DCM_12_534</td>\n",
       "      <td>20</td>\n",
       "      <td>-19187.363902</td>\n",
       "      <td>-16.552713</td>\n",
       "      <td>-17.572315</td>\n",
       "      <td>-1.204013e+07</td>\n",
       "      <td>-38.295094</td>\n",
       "      <td>-2.656555</td>\n",
       "      <td>-40.165244</td>\n",
       "      <td>-38.295094</td>\n",
       "      <td>-1.78878</td>\n",
       "      <td>-9.19456</td>\n",
       "      <td>-0.0</td>\n",
       "      <td>0.0</td>\n",
       "    </tr>\n",
       "    <tr>\n",
       "      <th>100_992_DCM_117_761</th>\n",
       "      <td>10.92972</td>\n",
       "      <td>-2.47999</td>\n",
       "      <td>-38.76216</td>\n",
       "      <td>100_992_DCM_117_761</td>\n",
       "      <td>-19187.334520</td>\n",
       "      <td>100_992_DCM_117_761</td>\n",
       "      <td>20</td>\n",
       "      <td>-19187.357863</td>\n",
       "      <td>-14.647476</td>\n",
       "      <td>-15.303181</td>\n",
       "      <td>-1.204012e+07</td>\n",
       "      <td>-34.408689</td>\n",
       "      <td>-2.713965</td>\n",
       "      <td>-36.080307</td>\n",
       "      <td>-34.408689</td>\n",
       "      <td>-2.47999</td>\n",
       "      <td>-7.96244</td>\n",
       "      <td>-0.0</td>\n",
       "      <td>0.0</td>\n",
       "    </tr>\n",
       "  </tbody>\n",
       "</table>\n",
       "<p>200 rows × 19 columns</p>\n",
       "</div>"
      ],
      "text/plain": [
       "                         TOTAL     ELEC       VDW                   KEY  \\\n",
       "100_1018_DCM_120_967   8.04068 -1.88784 -30.40458  100_1018_DCM_120_967   \n",
       "100_1019_DCM_120_565   9.89488 -2.62215 -35.67010  100_1019_DCM_120_565   \n",
       "100_1024_DCM_121_932  10.32904 -1.47130 -31.15835  100_1024_DCM_121_932   \n",
       "100_1053_DCM_123_948   9.79551 -3.52281 -35.38260  100_1053_DCM_123_948   \n",
       "100_1100_DCM_129_15    9.00233 -2.83638 -33.26086   100_1100_DCM_129_15   \n",
       "...                        ...      ...       ...                   ...   \n",
       "100_979_DCM_115_117   10.52301 -1.09235 -29.25850   100_979_DCM_115_117   \n",
       "100_983_DCM_116_25     9.49413 -3.69630 -36.41305    100_983_DCM_116_25   \n",
       "100_986_DCM_116_989   10.93140 -3.39350 -30.97783   100_986_DCM_116_989   \n",
       "100_98_DCM_12_534     10.41278 -1.78878 -35.84975     100_98_DCM_12_534   \n",
       "100_992_DCM_117_761   10.92972 -2.47999 -38.76216   100_992_DCM_117_761   \n",
       "\n",
       "                          M_ENERGY                   KEY  n_monomers  \\\n",
       "100_1018_DCM_120_967 -19187.367411  100_1018_DCM_120_967          20   \n",
       "100_1019_DCM_120_565 -19187.356685  100_1019_DCM_120_565          20   \n",
       "100_1024_DCM_121_932 -19187.342979  100_1024_DCM_121_932          20   \n",
       "100_1053_DCM_123_948 -19187.359041  100_1053_DCM_123_948          20   \n",
       "100_1100_DCM_129_15  -19187.360730   100_1100_DCM_129_15          20   \n",
       "...                            ...                   ...         ...   \n",
       "100_979_DCM_115_117  -19187.343536   100_979_DCM_115_117          20   \n",
       "100_983_DCM_116_25   -19187.339973    100_983_DCM_116_25          20   \n",
       "100_986_DCM_116_989  -19187.330647   100_986_DCM_116_989          20   \n",
       "100_98_DCM_12_534    -19187.337523     100_98_DCM_12_534          20   \n",
       "100_992_DCM_117_761  -19187.334520   100_992_DCM_117_761          20   \n",
       "\n",
       "                          C_ENERGY       intE     P_intE  C_ENERGY_kcalmol  \\\n",
       "100_1018_DCM_120_967 -19187.387191 -12.411790 -12.532116     -1.204014e+07   \n",
       "100_1019_DCM_120_565 -19187.379774 -14.488511 -15.246951     -1.204014e+07   \n",
       "100_1024_DCM_121_932 -19187.365864 -14.360149 -13.865660     -1.204013e+07   \n",
       "100_1053_DCM_123_948 -19187.376685 -11.071544 -11.036796     -1.204014e+07   \n",
       "100_1100_DCM_129_15  -19187.381994 -13.342866 -13.423951     -1.204014e+07   \n",
       "...                            ...        ...        ...               ...   \n",
       "100_979_DCM_115_117  -19187.363317 -12.412769 -12.238591     -1.204013e+07   \n",
       "100_983_DCM_116_25   -19187.356356 -10.280112 -11.185809     -1.204012e+07   \n",
       "100_986_DCM_116_989  -19187.349940 -12.106152 -12.100108     -1.204012e+07   \n",
       "100_98_DCM_12_534    -19187.363902 -16.552713 -17.572315     -1.204013e+07   \n",
       "100_992_DCM_117_761  -19187.357863 -14.647476 -15.303181     -1.204012e+07   \n",
       "\n",
       "                        ELEC_CI  ELEC_POL    ELECpol     ELECci    ELECp  \\\n",
       "100_1018_DCM_120_967 -20.567562 -1.421479 -21.599542 -20.567562 -1.88784   \n",
       "100_1019_DCM_120_565 -28.837646 -2.050995 -30.129872 -28.837646 -2.62215   \n",
       "100_1024_DCM_121_932 -16.497216 -1.404197 -17.508540 -16.497216 -1.47130   \n",
       "100_1053_DCM_123_948 -34.970801 -1.757483 -36.197482 -34.970801 -3.52281   \n",
       "100_1100_DCM_129_15  -38.877332 -2.678006 -40.843937 -38.877332 -2.83638   \n",
       "...                         ...       ...        ...        ...      ...   \n",
       "100_979_DCM_115_117  -15.129841 -1.104415 -15.793819 -15.129841 -1.09235   \n",
       "100_983_DCM_116_25   -44.367339 -2.568431 -46.111346 -44.367339 -3.69630   \n",
       "100_986_DCM_116_989  -24.987267 -1.390889 -25.979675 -24.987267 -3.39350   \n",
       "100_98_DCM_12_534    -38.295094 -2.656555 -40.165244 -38.295094 -1.78878   \n",
       "100_992_DCM_117_761  -34.408689 -2.713965 -36.080307 -34.408689 -2.47999   \n",
       "\n",
       "                         ELECm  ELECnull  DUMMY  \n",
       "100_1018_DCM_120_967  -5.55673      -0.0    0.0  \n",
       "100_1019_DCM_120_565  -7.65099      -0.0    0.0  \n",
       "100_1024_DCM_121_932  -4.03920      -0.0    0.0  \n",
       "100_1053_DCM_123_948  -8.05686      -0.0    0.0  \n",
       "100_1100_DCM_129_15   -9.75593      -0.0    0.0  \n",
       "...                        ...       ...    ...  \n",
       "100_979_DCM_115_117   -3.17565      -0.0    0.0  \n",
       "100_983_DCM_116_25   -10.24308      -0.0    0.0  \n",
       "100_986_DCM_116_989   -8.05472      -0.0    0.0  \n",
       "100_98_DCM_12_534     -9.19456      -0.0    0.0  \n",
       "100_992_DCM_117_761   -7.96244      -0.0    0.0  \n",
       "\n",
       "[200 rows x 19 columns]"
      ]
     },
     "execution_count": 21,
     "metadata": {},
     "output_type": "execute_result"
    }
   ],
   "source": [
    "test.data"
   ]
  },
  {
   "cell_type": "code",
   "execution_count": 21,
   "id": "68e4f1f7-6459-48ac-91bf-3ba04761d63d",
   "metadata": {},
   "outputs": [
    {
     "data": {
      "text/plain": [
       "Array([  0,   0,   0, ..., 199, 199, 199], dtype=int32)"
      ]
     },
     "execution_count": 21,
     "metadata": {},
     "output_type": "execute_result"
    }
   ],
   "source": [
    "test.out_groups"
   ]
  },
  {
   "cell_type": "code",
   "execution_count": 27,
   "id": "9e06f139-72ea-4fa0-a535-80528f721e86",
   "metadata": {},
   "outputs": [
    {
     "data": {
      "text/plain": [
       "[<matplotlib.lines.Line2D at 0x7f05c70b2910>]"
      ]
     },
     "execution_count": 27,
     "metadata": {},
     "output_type": "execute_result"
    },
    {
     "data": {
      "image/png": "[encoded data removed]",
      "text/plain": [
       "<Figure size 800x600 with 1 Axes>"
      ]
     },
     "metadata": {},
     "output_type": "display_data"
    }
   ],
   "source": [
    "plt.plot(list(range(len(test.out_akps))), test.out_akps)"
   ]
  },
  {
   "cell_type": "code",
   "execution_count": 49,
   "id": "f8033dee-5322-438a-a632-18a9d6c231b8",
   "metadata": {},
   "outputs": [
    {
     "data": {
      "text/plain": [
       "2"
      ]
     },
     "execution_count": 49,
     "metadata": {},
     "output_type": "execute_result"
    }
   ],
   "source": [
    "6//3\n"
   ]
  },
  {
   "cell_type": "code",
   "execution_count": 50,
   "id": "e73ade51-451f-4730-a616-e4f1a59f1347",
   "metadata": {},
   "outputs": [
    {
     "data": {
      "text/plain": [
       "2.0"
      ]
     },
     "execution_count": 50,
     "metadata": {},
     "output_type": "execute_result"
    }
   ],
   "source": [
    "6.0//3"
   ]
  },
  {
   "cell_type": "code",
   "execution_count": null,
   "id": "5f8853e5-d075-43b0-bdd2-362ecbe151b2",
   "metadata": {},
   "outputs": [],
   "source": []
  }
 ],
 "metadata": {
  "kernelspec": {
   "display_name": "pycharmm",
   "language": "python",
   "name": "pycharmm"
  },
  "language_info": {
   "codemirror_mode": {
    "name": "ipython",
    "version": 3
   },
   "file_extension": ".py",
   "mimetype": "text/x-python",
   "name": "python",
   "nbconvert_exporter": "python",
   "pygments_lexer": "ipython3",
   "version": "3.8.16"
  }
 },
 "nbformat": 4,
 "nbformat_minor": 5
}
