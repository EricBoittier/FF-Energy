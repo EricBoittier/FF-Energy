{
 "cells": [
  {
   "cell_type": "code",
   "execution_count": 1,
   "id": "b1516ed6-d246-4531-ad0f-c16bf642edef",
   "metadata": {},
   "outputs": [
    {
     "data": {
      "text/plain": [
       "'\\nLoaded data from extended ion tests\\n'"
      ]
     },
     "execution_count": 1,
     "metadata": {},
     "output_type": "execute_result"
    }
   ],
   "source": [
    "\"\"\"\n",
    "Loaded data from extended ion tests\n",
    "\"\"\""
   ]
  },
  {
   "cell_type": "markdown",
   "id": "fbd6b387-62b1-4287-9111-ce59cb5b6812",
   "metadata": {},
   "source": [
    "#  FF logistics\n",
    "\n",
    "FF requires <- pairs_data, data_frame, structures\n",
    "\n",
    "pickle and do all jax on bach"
   ]
  },
  {
   "cell_type": "code",
   "execution_count": null,
   "id": "89091677-fc90-4496-a124-1b98756638e5",
   "metadata": {},
   "outputs": [],
   "source": [
    "# python ff_energy/ffe/cli.py -chmj -m ions_ext -t pbe0dz -e mdcm -v -msp /home/boittier/pcbach"
   ]
  },
  {
   "cell_type": "code",
   "execution_count": 2,
   "id": "4b4b153e-4976-4437-956c-3b17606b6839",
   "metadata": {},
   "outputs": [],
   "source": [
    "#python ff_energy/ffe/cli.py -d -m ions_ext -t pbe0dz -e pc -v -msp /home/boittier/pcbach"
   ]
  },
  {
   "cell_type": "code",
   "execution_count": 11,
   "id": "fa020e46-bb38-484b-91f2-8654abe8a560",
   "metadata": {},
   "outputs": [],
   "source": [
    "# %load_ext autoreload\n",
    "# %autoreload 2\n",
    "\n",
    "from pathlib import Path\n",
    "import seaborn as sns\n",
    "import scipy as sp\n",
    "import pandas as pd\n",
    "import matplotlib.pyplot as plt\n",
    "\n",
    "from ff_energy.latex_writer.report import Report\n",
    "from ff_energy.latex_writer.energydata.energy_data_report import EnergyReport\n",
    "from ff_energy.latex_writer.figure import Figure\n",
    "from ff_energy.latex_writer.format import safe_latex_string\n",
    "from ff_energy.utils.ffe_utils import read_from_pickle, pickle_output\n",
    "\n",
    "from ff_energy.ffe.ff import FF\n",
    "from ff_energy.ffe.constants import PKL_PATH, PDB_PATH\n",
    "from ff_energy.ffe.potential import LJ, LJ_bound, DE #, DE_bounds\n",
    "\n",
    "from ff_energy.ffe.data import pairs_data\n",
    "from ff_energy.plotting.data_plots import DataPlots\n",
    "\n"
   ]
  },
  {
   "cell_type": "code",
   "execution_count": 12,
   "id": "df256bfb-e6f9-421e-965d-c3b911a88057",
   "metadata": {},
   "outputs": [
    {
     "data": {
      "text/plain": [
       "'\\nTest loading the report from pkl\\n'"
      ]
     },
     "execution_count": 12,
     "metadata": {},
     "output_type": "execute_result"
    }
   ],
   "source": [
    "\"\"\"\n",
    "Test loading the report from pkl\n",
    "\"\"\""
   ]
  },
  {
   "cell_type": "code",
   "execution_count": 13,
   "id": "3d199ef2-0fd4-4d29-ad6d-1d73a940b99e",
   "metadata": {},
   "outputs": [],
   "source": [
    "pkl_path = \"/home/boittier/Documents/phd/ff_energy/pickles/energy_report.pkl\"\n",
    "er = pd.read_pickle(pkl_path)\n",
    "# er.add_data()"
   ]
  },
  {
   "cell_type": "markdown",
   "id": "a53fe8ae-897f-43a4-86a3-2eed906c26bb",
   "metadata": {},
   "source": [
    "#  UPDATE:"
   ]
  },
  {
   "cell_type": "code",
   "execution_count": 6,
   "id": "1facf67f-d6f5-455f-96b1-5bd21530dea9",
   "metadata": {},
   "outputs": [],
   "source": [
    "# er.data_plots[1].obj.__dict__.keys()"
   ]
  },
  {
   "cell_type": "code",
   "execution_count": 7,
   "id": "ca96d760-c3d6-4dff-a9a6-c864d119d9f3",
   "metadata": {},
   "outputs": [
    {
     "data": {
      "text/html": [
       "<div>\n",
       "<style scoped>\n",
       "    .dataframe tbody tr th:only-of-type {\n",
       "        vertical-align: middle;\n",
       "    }\n",
       "\n",
       "    .dataframe tbody tr th {\n",
       "        vertical-align: top;\n",
       "    }\n",
       "\n",
       "    .dataframe thead th {\n",
       "        text-align: right;\n",
       "    }\n",
       "</style>\n",
       "<table border=\"1\" class=\"dataframe\">\n",
       "  <thead>\n",
       "    <tr style=\"text-align: right;\">\n",
       "      <th></th>\n",
       "      <th>TOTAL</th>\n",
       "      <th>ELEC</th>\n",
       "      <th>VDW</th>\n",
       "      <th>KEY</th>\n",
       "      <th>M_ENERGY</th>\n",
       "      <th>KEY</th>\n",
       "      <th>n_monomers</th>\n",
       "      <th>C_ENERGY</th>\n",
       "      <th>intE</th>\n",
       "      <th>P_intE</th>\n",
       "      <th>C_ENERGY_kcalmol</th>\n",
       "    </tr>\n",
       "  </thead>\n",
       "  <tbody>\n",
       "    <tr>\n",
       "      <th>100_3502_DCM_408_572</th>\n",
       "      <td>10.17691</td>\n",
       "      <td>-0.52528</td>\n",
       "      <td>-26.36406</td>\n",
       "      <td>100_3502_DCM_408_572</td>\n",
       "      <td>-19187.337593</td>\n",
       "      <td>100_3502_DCM_408_572</td>\n",
       "      <td>20</td>\n",
       "      <td>-19187.358477</td>\n",
       "      <td>-13.105105</td>\n",
       "      <td>-12.873639</td>\n",
       "      <td>-1.204013e+07</td>\n",
       "    </tr>\n",
       "    <tr>\n",
       "      <th>100_2276_DCM_266_608</th>\n",
       "      <td>8.71263</td>\n",
       "      <td>-2.83898</td>\n",
       "      <td>-36.23331</td>\n",
       "      <td>100_2276_DCM_266_608</td>\n",
       "      <td>-19187.358694</td>\n",
       "      <td>100_2276_DCM_266_608</td>\n",
       "      <td>20</td>\n",
       "      <td>-19187.374690</td>\n",
       "      <td>-10.037638</td>\n",
       "      <td>-11.163915</td>\n",
       "      <td>-1.204014e+07</td>\n",
       "    </tr>\n",
       "    <tr>\n",
       "      <th>100_3572_DCM_416_1180</th>\n",
       "      <td>8.28992</td>\n",
       "      <td>-2.25212</td>\n",
       "      <td>-37.26135</td>\n",
       "      <td>100_3572_DCM_416_1180</td>\n",
       "      <td>-19187.359713</td>\n",
       "      <td>100_3572_DCM_416_1180</td>\n",
       "      <td>20</td>\n",
       "      <td>-19187.388564</td>\n",
       "      <td>-18.104440</td>\n",
       "      <td>-19.687561</td>\n",
       "      <td>-1.204014e+07</td>\n",
       "    </tr>\n",
       "    <tr>\n",
       "      <th>100_3280_DCM_382_1167</th>\n",
       "      <td>9.76710</td>\n",
       "      <td>-3.30579</td>\n",
       "      <td>-33.11862</td>\n",
       "      <td>100_3280_DCM_382_1167</td>\n",
       "      <td>-19187.344483</td>\n",
       "      <td>100_3280_DCM_382_1167</td>\n",
       "      <td>20</td>\n",
       "      <td>-19187.365173</td>\n",
       "      <td>-12.982579</td>\n",
       "      <td>-13.256596</td>\n",
       "      <td>-1.204013e+07</td>\n",
       "    </tr>\n",
       "    <tr>\n",
       "      <th>100_801_DCM_95_801</th>\n",
       "      <td>10.15151</td>\n",
       "      <td>-2.94845</td>\n",
       "      <td>-34.90538</td>\n",
       "      <td>100_801_DCM_95_801</td>\n",
       "      <td>-19187.339166</td>\n",
       "      <td>100_801_DCM_95_801</td>\n",
       "      <td>20</td>\n",
       "      <td>-19187.355094</td>\n",
       "      <td>-9.994774</td>\n",
       "      <td>-10.305778</td>\n",
       "      <td>-1.204012e+07</td>\n",
       "    </tr>\n",
       "    <tr>\n",
       "      <th>...</th>\n",
       "      <td>...</td>\n",
       "      <td>...</td>\n",
       "      <td>...</td>\n",
       "      <td>...</td>\n",
       "      <td>...</td>\n",
       "      <td>...</td>\n",
       "      <td>...</td>\n",
       "      <td>...</td>\n",
       "      <td>...</td>\n",
       "      <td>...</td>\n",
       "      <td>...</td>\n",
       "    </tr>\n",
       "    <tr>\n",
       "      <th>100_2948_DCM_343_1089</th>\n",
       "      <td>8.17160</td>\n",
       "      <td>-4.06951</td>\n",
       "      <td>-33.81221</td>\n",
       "      <td>100_2948_DCM_343_1089</td>\n",
       "      <td>-19187.355169</td>\n",
       "      <td>100_2948_DCM_343_1089</td>\n",
       "      <td>20</td>\n",
       "      <td>-19187.379049</td>\n",
       "      <td>-14.984841</td>\n",
       "      <td>-15.557080</td>\n",
       "      <td>-1.204014e+07</td>\n",
       "    </tr>\n",
       "    <tr>\n",
       "      <th>100_2353_DCM_274_350</th>\n",
       "      <td>9.17909</td>\n",
       "      <td>-1.19165</td>\n",
       "      <td>-28.77664</td>\n",
       "      <td>100_2353_DCM_274_350</td>\n",
       "      <td>-19187.353012</td>\n",
       "      <td>100_2353_DCM_274_350</td>\n",
       "      <td>20</td>\n",
       "      <td>-19187.362383</td>\n",
       "      <td>-5.879791</td>\n",
       "      <td>-5.708041</td>\n",
       "      <td>-1.204013e+07</td>\n",
       "    </tr>\n",
       "    <tr>\n",
       "      <th>100_2955_DCM_345_856</th>\n",
       "      <td>8.67323</td>\n",
       "      <td>-4.66960</td>\n",
       "      <td>-38.10516</td>\n",
       "      <td>100_2955_DCM_345_856</td>\n",
       "      <td>-19187.362598</td>\n",
       "      <td>100_2955_DCM_345_856</td>\n",
       "      <td>20</td>\n",
       "      <td>-19187.393908</td>\n",
       "      <td>-19.647332</td>\n",
       "      <td>-20.014087</td>\n",
       "      <td>-1.204015e+07</td>\n",
       "    </tr>\n",
       "    <tr>\n",
       "      <th>100_2829_DCM_329_137</th>\n",
       "      <td>8.32719</td>\n",
       "      <td>-3.55871</td>\n",
       "      <td>-39.46180</td>\n",
       "      <td>100_2829_DCM_329_137</td>\n",
       "      <td>-19187.346428</td>\n",
       "      <td>100_2829_DCM_329_137</td>\n",
       "      <td>20</td>\n",
       "      <td>-19187.381200</td>\n",
       "      <td>-21.819905</td>\n",
       "      <td>-22.198628</td>\n",
       "      <td>-1.204014e+07</td>\n",
       "    </tr>\n",
       "    <tr>\n",
       "      <th>100_1987_DCM_232_14</th>\n",
       "      <td>8.83144</td>\n",
       "      <td>-1.88514</td>\n",
       "      <td>-32.23425</td>\n",
       "      <td>100_1987_DCM_232_14</td>\n",
       "      <td>-19187.354915</td>\n",
       "      <td>100_1987_DCM_232_14</td>\n",
       "      <td>20</td>\n",
       "      <td>-19187.381888</td>\n",
       "      <td>-16.925952</td>\n",
       "      <td>-16.574910</td>\n",
       "      <td>-1.204014e+07</td>\n",
       "    </tr>\n",
       "  </tbody>\n",
       "</table>\n",
       "<p>201 rows × 11 columns</p>\n",
       "</div>"
      ],
      "text/plain": [
       "                          TOTAL     ELEC       VDW                    KEY  \\\n",
       "100_3502_DCM_408_572   10.17691 -0.52528 -26.36406   100_3502_DCM_408_572   \n",
       "100_2276_DCM_266_608    8.71263 -2.83898 -36.23331   100_2276_DCM_266_608   \n",
       "100_3572_DCM_416_1180   8.28992 -2.25212 -37.26135  100_3572_DCM_416_1180   \n",
       "100_3280_DCM_382_1167   9.76710 -3.30579 -33.11862  100_3280_DCM_382_1167   \n",
       "100_801_DCM_95_801     10.15151 -2.94845 -34.90538     100_801_DCM_95_801   \n",
       "...                         ...      ...       ...                    ...   \n",
       "100_2948_DCM_343_1089   8.17160 -4.06951 -33.81221  100_2948_DCM_343_1089   \n",
       "100_2353_DCM_274_350    9.17909 -1.19165 -28.77664   100_2353_DCM_274_350   \n",
       "100_2955_DCM_345_856    8.67323 -4.66960 -38.10516   100_2955_DCM_345_856   \n",
       "100_2829_DCM_329_137    8.32719 -3.55871 -39.46180   100_2829_DCM_329_137   \n",
       "100_1987_DCM_232_14     8.83144 -1.88514 -32.23425    100_1987_DCM_232_14   \n",
       "\n",
       "                           M_ENERGY                    KEY  n_monomers  \\\n",
       "100_3502_DCM_408_572  -19187.337593   100_3502_DCM_408_572          20   \n",
       "100_2276_DCM_266_608  -19187.358694   100_2276_DCM_266_608          20   \n",
       "100_3572_DCM_416_1180 -19187.359713  100_3572_DCM_416_1180          20   \n",
       "100_3280_DCM_382_1167 -19187.344483  100_3280_DCM_382_1167          20   \n",
       "100_801_DCM_95_801    -19187.339166     100_801_DCM_95_801          20   \n",
       "...                             ...                    ...         ...   \n",
       "100_2948_DCM_343_1089 -19187.355169  100_2948_DCM_343_1089          20   \n",
       "100_2353_DCM_274_350  -19187.353012   100_2353_DCM_274_350          20   \n",
       "100_2955_DCM_345_856  -19187.362598   100_2955_DCM_345_856          20   \n",
       "100_2829_DCM_329_137  -19187.346428   100_2829_DCM_329_137          20   \n",
       "100_1987_DCM_232_14   -19187.354915    100_1987_DCM_232_14          20   \n",
       "\n",
       "                           C_ENERGY       intE     P_intE  C_ENERGY_kcalmol  \n",
       "100_3502_DCM_408_572  -19187.358477 -13.105105 -12.873639     -1.204013e+07  \n",
       "100_2276_DCM_266_608  -19187.374690 -10.037638 -11.163915     -1.204014e+07  \n",
       "100_3572_DCM_416_1180 -19187.388564 -18.104440 -19.687561     -1.204014e+07  \n",
       "100_3280_DCM_382_1167 -19187.365173 -12.982579 -13.256596     -1.204013e+07  \n",
       "100_801_DCM_95_801    -19187.355094  -9.994774 -10.305778     -1.204012e+07  \n",
       "...                             ...        ...        ...               ...  \n",
       "100_2948_DCM_343_1089 -19187.379049 -14.984841 -15.557080     -1.204014e+07  \n",
       "100_2353_DCM_274_350  -19187.362383  -5.879791  -5.708041     -1.204013e+07  \n",
       "100_2955_DCM_345_856  -19187.393908 -19.647332 -20.014087     -1.204015e+07  \n",
       "100_2829_DCM_329_137  -19187.381200 -21.819905 -22.198628     -1.204014e+07  \n",
       "100_1987_DCM_232_14   -19187.381888 -16.925952 -16.574910     -1.204014e+07  \n",
       "\n",
       "[201 rows x 11 columns]"
      ]
     },
     "execution_count": 7,
     "metadata": {},
     "output_type": "execute_result"
    }
   ],
   "source": [
    "eg_data = er.data_plots[1].data\n",
    "eg_data"
   ]
  },
  {
   "cell_type": "code",
   "execution_count": 8,
   "id": "133dc88c-f2eb-439a-b3d0-8788265fee54",
   "metadata": {},
   "outputs": [
    {
     "data": {
      "text/html": [
       "<div>\n",
       "<style scoped>\n",
       "    .dataframe tbody tr th:only-of-type {\n",
       "        vertical-align: middle;\n",
       "    }\n",
       "\n",
       "    .dataframe tbody tr th {\n",
       "        vertical-align: top;\n",
       "    }\n",
       "\n",
       "    .dataframe thead th {\n",
       "        text-align: right;\n",
       "    }\n",
       "</style>\n",
       "<table border=\"1\" class=\"dataframe\">\n",
       "  <thead>\n",
       "    <tr style=\"text-align: right;\">\n",
       "      <th></th>\n",
       "      <th>p_ENERGY</th>\n",
       "      <th>p_m1_ENERGY</th>\n",
       "      <th>p_m2_ENERGY</th>\n",
       "      <th>p_int_ENERGY</th>\n",
       "      <th>key</th>\n",
       "      <th>pair</th>\n",
       "    </tr>\n",
       "  </thead>\n",
       "  <tbody>\n",
       "    <tr>\n",
       "      <th>100_3502_DCM_408_572_10_12</th>\n",
       "      <td>-1918.739892</td>\n",
       "      <td>-959.369599</td>\n",
       "      <td>-959.370317</td>\n",
       "      <td>0.000024</td>\n",
       "      <td>100_3502_DCM_408_572</td>\n",
       "      <td>(10, 12)</td>\n",
       "    </tr>\n",
       "    <tr>\n",
       "      <th>100_3502_DCM_408_572_10_11</th>\n",
       "      <td>-1918.733488</td>\n",
       "      <td>-959.369599</td>\n",
       "      <td>-959.363862</td>\n",
       "      <td>-0.000027</td>\n",
       "      <td>100_3502_DCM_408_572</td>\n",
       "      <td>(10, 11)</td>\n",
       "    </tr>\n",
       "    <tr>\n",
       "      <th>100_3502_DCM_408_572_11_12</th>\n",
       "      <td>-1918.734188</td>\n",
       "      <td>-959.363862</td>\n",
       "      <td>-959.370317</td>\n",
       "      <td>-0.000009</td>\n",
       "      <td>100_3502_DCM_408_572</td>\n",
       "      <td>(11, 12)</td>\n",
       "    </tr>\n",
       "    <tr>\n",
       "      <th>100_3502_DCM_408_572_11_13</th>\n",
       "      <td>-1918.731620</td>\n",
       "      <td>-959.363862</td>\n",
       "      <td>-959.367773</td>\n",
       "      <td>0.000014</td>\n",
       "      <td>100_3502_DCM_408_572</td>\n",
       "      <td>(11, 13)</td>\n",
       "    </tr>\n",
       "    <tr>\n",
       "      <th>100_3502_DCM_408_572_10_14</th>\n",
       "      <td>-1918.738517</td>\n",
       "      <td>-959.369599</td>\n",
       "      <td>-959.368899</td>\n",
       "      <td>-0.000018</td>\n",
       "      <td>100_3502_DCM_408_572</td>\n",
       "      <td>(10, 14)</td>\n",
       "    </tr>\n",
       "    <tr>\n",
       "      <th>...</th>\n",
       "      <td>...</td>\n",
       "      <td>...</td>\n",
       "      <td>...</td>\n",
       "      <td>...</td>\n",
       "      <td>...</td>\n",
       "      <td>...</td>\n",
       "    </tr>\n",
       "    <tr>\n",
       "      <th>100_1987_DCM_232_14_8_20</th>\n",
       "      <td>-1918.732914</td>\n",
       "      <td>-959.365985</td>\n",
       "      <td>-959.365275</td>\n",
       "      <td>-0.001654</td>\n",
       "      <td>100_1987_DCM_232_14</td>\n",
       "      <td>(8, 20)</td>\n",
       "    </tr>\n",
       "    <tr>\n",
       "      <th>100_1987_DCM_232_14_9_20</th>\n",
       "      <td>-1918.730982</td>\n",
       "      <td>-959.365703</td>\n",
       "      <td>-959.365275</td>\n",
       "      <td>-0.000004</td>\n",
       "      <td>100_1987_DCM_232_14</td>\n",
       "      <td>(9, 20)</td>\n",
       "    </tr>\n",
       "    <tr>\n",
       "      <th>100_1987_DCM_232_14_9_15</th>\n",
       "      <td>-1918.735331</td>\n",
       "      <td>-959.365703</td>\n",
       "      <td>-959.369444</td>\n",
       "      <td>-0.000184</td>\n",
       "      <td>100_1987_DCM_232_14</td>\n",
       "      <td>(9, 15)</td>\n",
       "    </tr>\n",
       "    <tr>\n",
       "      <th>100_1987_DCM_232_14_9_12</th>\n",
       "      <td>-1918.734726</td>\n",
       "      <td>-959.365703</td>\n",
       "      <td>-959.368716</td>\n",
       "      <td>-0.000308</td>\n",
       "      <td>100_1987_DCM_232_14</td>\n",
       "      <td>(9, 12)</td>\n",
       "    </tr>\n",
       "    <tr>\n",
       "      <th>100_1987_DCM_232_14_9_14</th>\n",
       "      <td>-1918.733477</td>\n",
       "      <td>-959.365703</td>\n",
       "      <td>-959.368039</td>\n",
       "      <td>0.000265</td>\n",
       "      <td>100_1987_DCM_232_14</td>\n",
       "      <td>(9, 14)</td>\n",
       "    </tr>\n",
       "  </tbody>\n",
       "</table>\n",
       "<p>38190 rows × 6 columns</p>\n",
       "</div>"
      ],
      "text/plain": [
       "                               p_ENERGY  p_m1_ENERGY  p_m2_ENERGY  \\\n",
       "100_3502_DCM_408_572_10_12 -1918.739892  -959.369599  -959.370317   \n",
       "100_3502_DCM_408_572_10_11 -1918.733488  -959.369599  -959.363862   \n",
       "100_3502_DCM_408_572_11_12 -1918.734188  -959.363862  -959.370317   \n",
       "100_3502_DCM_408_572_11_13 -1918.731620  -959.363862  -959.367773   \n",
       "100_3502_DCM_408_572_10_14 -1918.738517  -959.369599  -959.368899   \n",
       "...                                 ...          ...          ...   \n",
       "100_1987_DCM_232_14_8_20   -1918.732914  -959.365985  -959.365275   \n",
       "100_1987_DCM_232_14_9_20   -1918.730982  -959.365703  -959.365275   \n",
       "100_1987_DCM_232_14_9_15   -1918.735331  -959.365703  -959.369444   \n",
       "100_1987_DCM_232_14_9_12   -1918.734726  -959.365703  -959.368716   \n",
       "100_1987_DCM_232_14_9_14   -1918.733477  -959.365703  -959.368039   \n",
       "\n",
       "                            p_int_ENERGY                   key      pair  \n",
       "100_3502_DCM_408_572_10_12      0.000024  100_3502_DCM_408_572  (10, 12)  \n",
       "100_3502_DCM_408_572_10_11     -0.000027  100_3502_DCM_408_572  (10, 11)  \n",
       "100_3502_DCM_408_572_11_12     -0.000009  100_3502_DCM_408_572  (11, 12)  \n",
       "100_3502_DCM_408_572_11_13      0.000014  100_3502_DCM_408_572  (11, 13)  \n",
       "100_3502_DCM_408_572_10_14     -0.000018  100_3502_DCM_408_572  (10, 14)  \n",
       "...                                  ...                   ...       ...  \n",
       "100_1987_DCM_232_14_8_20       -0.001654   100_1987_DCM_232_14   (8, 20)  \n",
       "100_1987_DCM_232_14_9_20       -0.000004   100_1987_DCM_232_14   (9, 20)  \n",
       "100_1987_DCM_232_14_9_15       -0.000184   100_1987_DCM_232_14   (9, 15)  \n",
       "100_1987_DCM_232_14_9_12       -0.000308   100_1987_DCM_232_14   (9, 12)  \n",
       "100_1987_DCM_232_14_9_14        0.000265   100_1987_DCM_232_14   (9, 14)  \n",
       "\n",
       "[38190 rows x 6 columns]"
      ]
     },
     "execution_count": 8,
     "metadata": {},
     "output_type": "execute_result"
    }
   ],
   "source": [
    "er.data_plots[1].obj.pairs_df"
   ]
  },
  {
   "cell_type": "markdown",
   "id": "491e9d8b-76dd-4b73-80e9-b1b9cecff1dc",
   "metadata": {},
   "source": [
    "# DCM"
   ]
  },
  {
   "cell_type": "code",
   "execution_count": 9,
   "id": "42427aa8-1df3-4dba-b8f7-543d6f8dfb7d",
   "metadata": {},
   "outputs": [],
   "source": [
    "data = er.data_plots[1].obj"
   ]
  },
  {
   "cell_type": "markdown",
   "id": "56d34364-84b7-4927-a6ae-992472e5a6ff",
   "metadata": {},
   "source": [
    "##  PC"
   ]
  },
  {
   "cell_type": "code",
   "execution_count": 11,
   "id": "458dc036-1713-4b2e-8511-f323f4a8bfcb",
   "metadata": {
    "tags": []
   },
   "outputs": [
    {
     "name": "stderr",
     "output_type": "stream",
     "text": [
      "2023-08-31 16:39:27 | WARNING | dispatch:log_elapsed_time:270 - Finished tracing + transforming jit(convert_element_type) in 0.0001888275146484375 sec\n",
      "2023-08-31 16:39:27 | DEBUG | xla_bridge:_init_backend:482 - Initializing backend 'interpreter'\n",
      "2023-08-31 16:39:27 | DEBUG | xla_bridge:_init_backend:494 - Backend 'interpreter' initialized\n",
      "2023-08-31 16:39:27 | DEBUG | xla_bridge:_init_backend:482 - Initializing backend 'cpu'\n",
      "2023-08-31 16:39:27 | DEBUG | xla_bridge:_init_backend:494 - Backend 'cpu' initialized\n",
      "2023-08-31 16:39:27 | DEBUG | xla_bridge:_init_backend:482 - Initializing backend 'cuda'\n",
      "2023-08-31 16:39:27 | INFO | xla_bridge:backends:450 - Unable to initialize backend 'cuda': module 'jaxlib.xla_extension' has no attribute 'GpuAllocatorConfig'\n",
      "2023-08-31 16:39:27 | DEBUG | xla_bridge:_init_backend:482 - Initializing backend 'rocm'\n",
      "2023-08-31 16:39:27 | INFO | xla_bridge:backends:450 - Unable to initialize backend 'rocm': module 'jaxlib.xla_extension' has no attribute 'GpuAllocatorConfig'\n",
      "2023-08-31 16:39:27 | DEBUG | xla_bridge:_init_backend:482 - Initializing backend 'tpu'\n",
      "2023-08-31 16:39:27 | INFO | xla_bridge:backends:450 - Unable to initialize backend 'tpu': INVALID_ARGUMENT: TpuPlatform is not available.\n",
      "2023-08-31 16:39:27 | DEBUG | xla_bridge:_init_backend:482 - Initializing backend 'plugin'\n",
      "2023-08-31 16:39:27 | INFO | xla_bridge:backends:450 - Unable to initialize backend 'plugin': xla_extension has no attributes named get_plugin_device_client. Compile TensorFlow with //tensorflow/compiler/xla/python:enable_plugin_device set to true (defaults to false) to enable this.\n",
      "2023-08-31 16:39:27 | WARNING | xla_bridge:backends:458 - No GPU/TPU found, falling back to CPU. (Set TF_CPP_MIN_LOG_LEVEL=0 and rerun for more info.)\n",
      "2023-08-31 16:39:29 | WARNING | dispatch:log_elapsed_time:270 - Finished tracing + transforming jit(convert_element_type) in 0.0001811981201171875 sec\n",
      "2023-08-31 16:39:45 | WARNING | dispatch:log_elapsed_time:270 - Finished tracing + transforming jit(convert_element_type) in 0.00018596649169921875 sec\n"
     ]
    }
   ],
   "source": [
    "eg_dcm_path_ = \"/home/boittier/homeb/dcm/pbe0dz_pc/{}/charmm/dcm.xyz\"\n",
    "pairs_out = pairs_data(data, \n",
    "           system = \"dcm\",\n",
    "          name = \"pcch2cl\",\n",
    "          dcm_path_ = eg_dcm_path_,\n",
    ")"
   ]
  },
  {
   "cell_type": "code",
   "execution_count": 12,
   "id": "c7529fae-9e78-4399-b508-e3f67f4b73d9",
   "metadata": {},
   "outputs": [],
   "source": [
    "pickle_output(pairs_out, \"dcm_pc_pairs\")"
   ]
  },
  {
   "cell_type": "markdown",
   "id": "d93b0f90-5003-449f-a50e-d922770bc70f",
   "metadata": {},
   "source": [
    "##  MDCM"
   ]
  },
  {
   "cell_type": "code",
   "execution_count": 10,
   "id": "b944e29f-0e4b-4b5e-98e5-e3833f7e4510",
   "metadata": {},
   "outputs": [
    {
     "name": "stderr",
     "output_type": "stream",
     "text": [
      "2023-08-31 17:08:44 | WARNING | dispatch:log_elapsed_time:270 - Finished tracing + transforming jit(convert_element_type) in 0.0003039836883544922 sec\n",
      "2023-08-31 17:08:44 | DEBUG | xla_bridge:_init_backend:482 - Initializing backend 'interpreter'\n",
      "2023-08-31 17:08:44 | DEBUG | xla_bridge:_init_backend:494 - Backend 'interpreter' initialized\n",
      "2023-08-31 17:08:44 | DEBUG | xla_bridge:_init_backend:482 - Initializing backend 'cpu'\n",
      "2023-08-31 17:08:44 | DEBUG | xla_bridge:_init_backend:494 - Backend 'cpu' initialized\n",
      "2023-08-31 17:08:44 | DEBUG | xla_bridge:_init_backend:482 - Initializing backend 'cuda'\n",
      "2023-08-31 17:08:44 | INFO | xla_bridge:backends:450 - Unable to initialize backend 'cuda': module 'jaxlib.xla_extension' has no attribute 'GpuAllocatorConfig'\n",
      "2023-08-31 17:08:44 | DEBUG | xla_bridge:_init_backend:482 - Initializing backend 'rocm'\n",
      "2023-08-31 17:08:44 | INFO | xla_bridge:backends:450 - Unable to initialize backend 'rocm': module 'jaxlib.xla_extension' has no attribute 'GpuAllocatorConfig'\n",
      "2023-08-31 17:08:44 | DEBUG | xla_bridge:_init_backend:482 - Initializing backend 'tpu'\n",
      "2023-08-31 17:08:44 | INFO | xla_bridge:backends:450 - Unable to initialize backend 'tpu': INVALID_ARGUMENT: TpuPlatform is not available.\n",
      "2023-08-31 17:08:44 | DEBUG | xla_bridge:_init_backend:482 - Initializing backend 'plugin'\n",
      "2023-08-31 17:08:44 | INFO | xla_bridge:backends:450 - Unable to initialize backend 'plugin': xla_extension has no attributes named get_plugin_device_client. Compile TensorFlow with //tensorflow/compiler/xla/python:enable_plugin_device set to true (defaults to false) to enable this.\n",
      "2023-08-31 17:08:44 | WARNING | xla_bridge:backends:458 - No GPU/TPU found, falling back to CPU. (Set TF_CPP_MIN_LOG_LEVEL=0 and rerun for more info.)\n",
      "2023-08-31 17:08:51 | WARNING | dispatch:log_elapsed_time:270 - Finished tracing + transforming jit(convert_element_type) in 0.0003097057342529297 sec\n",
      "2023-08-31 17:09:32 | WARNING | dispatch:log_elapsed_time:270 - Finished tracing + transforming jit(convert_element_type) in 0.0001780986785888672 sec\n"
     ]
    }
   ],
   "source": [
    "eg_dcm_path_ = \"/home/boittier/homeb/dcm/pbe0dz_mdcm/{}/charmm/dcm.xyz\"\n",
    "pairs_out = pairs_data(data, \n",
    "           system = \"dcm\",\n",
    "          name = \"mdcm\",\n",
    "          dcm_path_ = eg_dcm_path_,\n",
    "                       #  some_n_charges_per_line\n",
    "        dcm_charges_per_res=8\n",
    ")"
   ]
  },
  {
   "cell_type": "code",
   "execution_count": 18,
   "id": "29532936-e319-44c5-8272-f62964b49f61",
   "metadata": {},
   "outputs": [],
   "source": [
    "pickle_output(pairs_out, \"dcm_mdcm_pairs\")"
   ]
  },
  {
   "cell_type": "markdown",
   "id": "891ea525-4ff9-4aaa-acef-605d8d104faa",
   "metadata": {},
   "source": [
    "#  kMDCM"
   ]
  },
  {
   "cell_type": "code",
   "execution_count": null,
   "id": "64c7d560-7c09-4613-b555-2966cf3f937f",
   "metadata": {},
   "outputs": [],
   "source": [
    "eg_dcm_path_ = \"/home/boittier/homeb/dcm/pbe0dz_kmdcm/{}/charmm/dcm.xyz\"\n",
    "pairs_out = pairs_data(data, \n",
    "           system = \"water_cluster\",\n",
    "          name = \"kmdcm\",\n",
    "          dcm_path_ = eg_dcm_path_,\n",
    ")"
   ]
  },
  {
   "cell_type": "code",
   "execution_count": null,
   "id": "72555db2-463b-471c-a65c-bc7fe5e83dba",
   "metadata": {},
   "outputs": [],
   "source": [
    "pickle_output(pairs_out, \"water_kmdcm_pairs\")"
   ]
  },
  {
   "cell_type": "code",
   "execution_count": 42,
   "id": "20fe53c8-13e4-4a14-beed-3fc81c5d376d",
   "metadata": {},
   "outputs": [],
   "source": [
    "# dists = read_from_pickle(PKL_PATH / \"structures\" / \"water_cluster.pkl\")"
   ]
  },
  {
   "cell_type": "code",
   "execution_count": 43,
   "id": "30893298-5685-409b-9a95-a3257d6cd87e",
   "metadata": {},
   "outputs": [],
   "source": [
    "# struct, dist = next(dists)"
   ]
  },
  {
   "cell_type": "code",
   "execution_count": 56,
   "id": "c5b0b803-2a3c-4acd-a84d-2d33d955ad61",
   "metadata": {},
   "outputs": [],
   "source": [
    "# ?FF"
   ]
  },
  {
   "cell_type": "code",
   "execution_count": 1,
   "id": "3b39b502-9542-4acb-a87e-98fa1470ad23",
   "metadata": {},
   "outputs": [],
   "source": [
    "# ff_obj = FF(eg_data, \n",
    "#             dist,\n",
    "#             LJ,\n",
    "#             LJ_bound,\n",
    "#             struct[0],\n",
    "#            )"
   ]
  },
  {
   "cell_type": "code",
   "execution_count": 2,
   "id": "8d9815fe-e1c2-4c4f-8c40-88434f6130fd",
   "metadata": {},
   "outputs": [],
   "source": [
    "# pickle_output(ff_obj, \"water_pc_ff_orig\")"
   ]
  },
  {
   "cell_type": "code",
   "execution_count": null,
   "id": "9d07e92c-f8cc-4072-afde-be9d7d32aea1",
   "metadata": {},
   "outputs": [],
   "source": []
  },
  {
   "cell_type": "code",
   "execution_count": null,
   "id": "2456c3b5-d192-404b-a1ea-6aa608e9d9a2",
   "metadata": {},
   "outputs": [],
   "source": []
  }
 ],
 "metadata": {
  "kernelspec": {
   "display_name": "pycharmm",
   "language": "python",
   "name": "pycharmm"
  },
  "language_info": {
   "codemirror_mode": {
    "name": "ipython",
    "version": 3
   },
   "file_extension": ".py",
   "mimetype": "text/x-python",
   "name": "python",
   "nbconvert_exporter": "python",
   "pygments_lexer": "ipython3",
   "version": "3.8.16"
  }
 },
 "nbformat": 4,
 "nbformat_minor": 5
}
