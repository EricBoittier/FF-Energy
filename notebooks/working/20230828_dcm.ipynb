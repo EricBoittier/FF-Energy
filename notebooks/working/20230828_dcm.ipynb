{
 "cells": [
  {
   "cell_type": "code",
   "execution_count": 2,
   "id": "b1516ed6-d246-4531-ad0f-c16bf642edef",
   "metadata": {},
   "outputs": [
    {
     "data": {
      "text/plain": [
       "'\\nLoaded data from extended ion tests\\n'"
      ]
     },
     "execution_count": 2,
     "metadata": {},
     "output_type": "execute_result"
    }
   ],
   "source": [
    "\"\"\"\n",
    "Loaded data from extended ion tests\n",
    "\"\"\""
   ]
  },
  {
   "cell_type": "markdown",
   "id": "fbd6b387-62b1-4287-9111-ce59cb5b6812",
   "metadata": {},
   "source": [
    "#  FF logistics\n",
    "\n",
    "FF requires <- pairs_data, data_frame, structures\n",
    "\n",
    "pickle and do all jax on bach"
   ]
  },
  {
   "cell_type": "code",
   "execution_count": 3,
   "id": "89091677-fc90-4496-a124-1b98756638e5",
   "metadata": {},
   "outputs": [],
   "source": [
    "# python ff_energy/ffe/cli.py -chmj -m ions_ext -t pbe0dz -e mdcm -v -msp /home/boittier/pcbach"
   ]
  },
  {
   "cell_type": "code",
   "execution_count": 4,
   "id": "4b4b153e-4976-4437-956c-3b17606b6839",
   "metadata": {},
   "outputs": [],
   "source": [
    "#python ff_energy/ffe/cli.py -d -m ions_ext -t pbe0dz -e pc -v -msp /home/boittier/pcbach"
   ]
  },
  {
   "cell_type": "code",
   "execution_count": 21,
   "id": "fa020e46-bb38-484b-91f2-8654abe8a560",
   "metadata": {},
   "outputs": [
    {
     "name": "stdout",
     "output_type": "stream",
     "text": [
      "The autoreload extension is already loaded. To reload it, use:\n",
      "  %reload_ext autoreload\n"
     ]
    }
   ],
   "source": [
    "%load_ext autoreload\n",
    "%autoreload 2\n",
    "\n",
    "from pathlib import Path\n",
    "import seaborn as sns\n",
    "import scipy as sp\n",
    "import pandas as pd\n",
    "import matplotlib.pyplot as plt\n",
    "\n",
    "from ff_energy.latex_writer.report import Report\n",
    "from ff_energy.latex_writer.energydata.energy_data_report import EnergyReport\n",
    "from ff_energy.latex_writer.figure import Figure\n",
    "from ff_energy.latex_writer.format import safe_latex_string\n",
    "from ff_energy.utils.ffe_utils import read_from_pickle, pickle_output\n",
    "\n",
    "from ff_energy.ffe.ff import FF\n",
    "from ff_energy.ffe.constants import PKL_PATH, PDB_PATH\n",
    "from ff_energy.ffe.potential import LJ, LJ_bound, DE #, DE_bounds\n",
    "\n",
    "from ff_energy.ffe.data import pairs_data\n",
    "from ff_energy.plotting.data_plots import DataPlots\n",
    "\n"
   ]
  },
  {
   "cell_type": "code",
   "execution_count": 22,
   "id": "df256bfb-e6f9-421e-965d-c3b911a88057",
   "metadata": {},
   "outputs": [
    {
     "data": {
      "text/plain": [
       "'\\nTest loading the report from pkl\\n'"
      ]
     },
     "execution_count": 22,
     "metadata": {},
     "output_type": "execute_result"
    }
   ],
   "source": [
    "\"\"\"\n",
    "Test loading the report from pkl\n",
    "\"\"\""
   ]
  },
  {
   "cell_type": "code",
   "execution_count": 23,
   "id": "3d199ef2-0fd4-4d29-ad6d-1d73a940b99e",
   "metadata": {},
   "outputs": [],
   "source": [
    "pkl_path = \"/home/boittier/Documents/phd/ff_energy/pickles/energy_report.pkl\"\n",
    "er = pd.read_pickle(pkl_path)\n",
    "# er.add_data()"
   ]
  },
  {
   "cell_type": "markdown",
   "id": "a53fe8ae-897f-43a4-86a3-2eed906c26bb",
   "metadata": {},
   "source": [
    "#  UPDATE:"
   ]
  },
  {
   "cell_type": "code",
   "execution_count": 8,
   "id": "1facf67f-d6f5-455f-96b1-5bd21530dea9",
   "metadata": {},
   "outputs": [],
   "source": [
    "# er.data_plots[1].obj.__dict__.keys()"
   ]
  },
  {
   "cell_type": "code",
   "execution_count": 20,
   "id": "ca96d760-c3d6-4dff-a9a6-c864d119d9f3",
   "metadata": {},
   "outputs": [
    {
     "ename": "NameError",
     "evalue": "name 'er' is not defined",
     "output_type": "error",
     "traceback": [
      "\u001B[0;31m---------------------------------------------------------------------------\u001B[0m",
      "\u001B[0;31mNameError\u001B[0m                                 Traceback (most recent call last)",
      "Cell \u001B[0;32mIn[20], line 1\u001B[0m\n\u001B[0;32m----> 1\u001B[0m eg_data \u001B[38;5;241m=\u001B[39m \u001B[43mer\u001B[49m\u001B[38;5;241m.\u001B[39mdata_plots[\u001B[38;5;241m1\u001B[39m]\u001B[38;5;241m.\u001B[39mdata\n\u001B[1;32m      2\u001B[0m eg_data\n",
      "\u001B[0;31mNameError\u001B[0m: name 'er' is not defined"
     ]
    }
   ],
   "source": [
    "eg_data = er.data_plots[1].data\n",
    "eg_data"
   ]
  },
  {
   "cell_type": "code",
   "execution_count": 10,
   "id": "133dc88c-f2eb-439a-b3d0-8788265fee54",
   "metadata": {},
   "outputs": [
    {
     "data": {
      "text/html": [
       "<div>\n",
       "<style scoped>\n",
       "    .dataframe tbody tr th:only-of-type {\n",
       "        vertical-align: middle;\n",
       "    }\n",
       "\n",
       "    .dataframe tbody tr th {\n",
       "        vertical-align: top;\n",
       "    }\n",
       "\n",
       "    .dataframe thead th {\n",
       "        text-align: right;\n",
       "    }\n",
       "</style>\n",
       "<table border=\"1\" class=\"dataframe\">\n",
       "  <thead>\n",
       "    <tr style=\"text-align: right;\">\n",
       "      <th></th>\n",
       "      <th>p_ENERGY</th>\n",
       "      <th>p_m1_ENERGY</th>\n",
       "      <th>p_m2_ENERGY</th>\n",
       "      <th>p_int_ENERGY</th>\n",
       "      <th>key</th>\n",
       "      <th>pair</th>\n",
       "    </tr>\n",
       "  </thead>\n",
       "  <tbody>\n",
       "    <tr>\n",
       "      <th>100_3502_DCM_408_572_10_12</th>\n",
       "      <td>-1918.739892</td>\n",
       "      <td>-959.369599</td>\n",
       "      <td>-959.370317</td>\n",
       "      <td>0.000024</td>\n",
       "      <td>100_3502_DCM_408_572</td>\n",
       "      <td>(10, 12)</td>\n",
       "    </tr>\n",
       "    <tr>\n",
       "      <th>100_3502_DCM_408_572_10_11</th>\n",
       "      <td>-1918.733488</td>\n",
       "      <td>-959.369599</td>\n",
       "      <td>-959.363862</td>\n",
       "      <td>-0.000027</td>\n",
       "      <td>100_3502_DCM_408_572</td>\n",
       "      <td>(10, 11)</td>\n",
       "    </tr>\n",
       "    <tr>\n",
       "      <th>100_3502_DCM_408_572_11_12</th>\n",
       "      <td>-1918.734188</td>\n",
       "      <td>-959.363862</td>\n",
       "      <td>-959.370317</td>\n",
       "      <td>-0.000009</td>\n",
       "      <td>100_3502_DCM_408_572</td>\n",
       "      <td>(11, 12)</td>\n",
       "    </tr>\n",
       "    <tr>\n",
       "      <th>100_3502_DCM_408_572_11_13</th>\n",
       "      <td>-1918.731620</td>\n",
       "      <td>-959.363862</td>\n",
       "      <td>-959.367773</td>\n",
       "      <td>0.000014</td>\n",
       "      <td>100_3502_DCM_408_572</td>\n",
       "      <td>(11, 13)</td>\n",
       "    </tr>\n",
       "    <tr>\n",
       "      <th>100_3502_DCM_408_572_10_14</th>\n",
       "      <td>-1918.738517</td>\n",
       "      <td>-959.369599</td>\n",
       "      <td>-959.368899</td>\n",
       "      <td>-0.000018</td>\n",
       "      <td>100_3502_DCM_408_572</td>\n",
       "      <td>(10, 14)</td>\n",
       "    </tr>\n",
       "    <tr>\n",
       "      <th>...</th>\n",
       "      <td>...</td>\n",
       "      <td>...</td>\n",
       "      <td>...</td>\n",
       "      <td>...</td>\n",
       "      <td>...</td>\n",
       "      <td>...</td>\n",
       "    </tr>\n",
       "    <tr>\n",
       "      <th>100_1987_DCM_232_14_8_20</th>\n",
       "      <td>-1918.732914</td>\n",
       "      <td>-959.365985</td>\n",
       "      <td>-959.365275</td>\n",
       "      <td>-0.001654</td>\n",
       "      <td>100_1987_DCM_232_14</td>\n",
       "      <td>(8, 20)</td>\n",
       "    </tr>\n",
       "    <tr>\n",
       "      <th>100_1987_DCM_232_14_9_20</th>\n",
       "      <td>-1918.730982</td>\n",
       "      <td>-959.365703</td>\n",
       "      <td>-959.365275</td>\n",
       "      <td>-0.000004</td>\n",
       "      <td>100_1987_DCM_232_14</td>\n",
       "      <td>(9, 20)</td>\n",
       "    </tr>\n",
       "    <tr>\n",
       "      <th>100_1987_DCM_232_14_9_15</th>\n",
       "      <td>-1918.735331</td>\n",
       "      <td>-959.365703</td>\n",
       "      <td>-959.369444</td>\n",
       "      <td>-0.000184</td>\n",
       "      <td>100_1987_DCM_232_14</td>\n",
       "      <td>(9, 15)</td>\n",
       "    </tr>\n",
       "    <tr>\n",
       "      <th>100_1987_DCM_232_14_9_12</th>\n",
       "      <td>-1918.734726</td>\n",
       "      <td>-959.365703</td>\n",
       "      <td>-959.368716</td>\n",
       "      <td>-0.000308</td>\n",
       "      <td>100_1987_DCM_232_14</td>\n",
       "      <td>(9, 12)</td>\n",
       "    </tr>\n",
       "    <tr>\n",
       "      <th>100_1987_DCM_232_14_9_14</th>\n",
       "      <td>-1918.733477</td>\n",
       "      <td>-959.365703</td>\n",
       "      <td>-959.368039</td>\n",
       "      <td>0.000265</td>\n",
       "      <td>100_1987_DCM_232_14</td>\n",
       "      <td>(9, 14)</td>\n",
       "    </tr>\n",
       "  </tbody>\n",
       "</table>\n",
       "<p>38190 rows × 6 columns</p>\n",
       "</div>"
      ],
      "text/plain": [
       "                               p_ENERGY  p_m1_ENERGY  p_m2_ENERGY  \\\n",
       "100_3502_DCM_408_572_10_12 -1918.739892  -959.369599  -959.370317   \n",
       "100_3502_DCM_408_572_10_11 -1918.733488  -959.369599  -959.363862   \n",
       "100_3502_DCM_408_572_11_12 -1918.734188  -959.363862  -959.370317   \n",
       "100_3502_DCM_408_572_11_13 -1918.731620  -959.363862  -959.367773   \n",
       "100_3502_DCM_408_572_10_14 -1918.738517  -959.369599  -959.368899   \n",
       "...                                 ...          ...          ...   \n",
       "100_1987_DCM_232_14_8_20   -1918.732914  -959.365985  -959.365275   \n",
       "100_1987_DCM_232_14_9_20   -1918.730982  -959.365703  -959.365275   \n",
       "100_1987_DCM_232_14_9_15   -1918.735331  -959.365703  -959.369444   \n",
       "100_1987_DCM_232_14_9_12   -1918.734726  -959.365703  -959.368716   \n",
       "100_1987_DCM_232_14_9_14   -1918.733477  -959.365703  -959.368039   \n",
       "\n",
       "                            p_int_ENERGY                   key      pair  \n",
       "100_3502_DCM_408_572_10_12      0.000024  100_3502_DCM_408_572  (10, 12)  \n",
       "100_3502_DCM_408_572_10_11     -0.000027  100_3502_DCM_408_572  (10, 11)  \n",
       "100_3502_DCM_408_572_11_12     -0.000009  100_3502_DCM_408_572  (11, 12)  \n",
       "100_3502_DCM_408_572_11_13      0.000014  100_3502_DCM_408_572  (11, 13)  \n",
       "100_3502_DCM_408_572_10_14     -0.000018  100_3502_DCM_408_572  (10, 14)  \n",
       "...                                  ...                   ...       ...  \n",
       "100_1987_DCM_232_14_8_20       -0.001654   100_1987_DCM_232_14   (8, 20)  \n",
       "100_1987_DCM_232_14_9_20       -0.000004   100_1987_DCM_232_14   (9, 20)  \n",
       "100_1987_DCM_232_14_9_15       -0.000184   100_1987_DCM_232_14   (9, 15)  \n",
       "100_1987_DCM_232_14_9_12       -0.000308   100_1987_DCM_232_14   (9, 12)  \n",
       "100_1987_DCM_232_14_9_14        0.000265   100_1987_DCM_232_14   (9, 14)  \n",
       "\n",
       "[38190 rows x 6 columns]"
      ]
     },
     "execution_count": 10,
     "metadata": {},
     "output_type": "execute_result"
    }
   ],
   "source": [
    "er.data_plots[1].obj.pairs_df"
   ]
  },
  {
   "cell_type": "markdown",
   "id": "491e9d8b-76dd-4b73-80e9-b1b9cecff1dc",
   "metadata": {},
   "source": [
    "# DCM"
   ]
  },
  {
   "cell_type": "code",
   "execution_count": 11,
   "id": "42427aa8-1df3-4dba-b8f7-543d6f8dfb7d",
   "metadata": {},
   "outputs": [],
   "source": [
    "data = er.data_plots[1].obj"
   ]
  },
  {
   "cell_type": "markdown",
   "id": "56d34364-84b7-4927-a6ae-992472e5a6ff",
   "metadata": {},
   "source": [
    "##  PC"
   ]
  },
  {
   "cell_type": "code",
   "execution_count": 12,
   "id": "458dc036-1713-4b2e-8511-f323f4a8bfcb",
   "metadata": {
    "tags": []
   },
   "outputs": [
    {
     "ename": "FileNotFoundError",
     "evalue": "[Errno 2] No such file or directory: '/home/boittier/homeb/dcm/pbe0dz_pc/100_3502_DCM_408_572/charmm/dcm.xyz'",
     "output_type": "error",
     "traceback": [
      "\u001B[0;31m---------------------------------------------------------------------------\u001B[0m",
      "\u001B[0;31mFileNotFoundError\u001B[0m                         Traceback (most recent call last)",
      "Cell \u001B[0;32mIn[12], line 2\u001B[0m\n\u001B[1;32m      1\u001B[0m eg_dcm_path_ \u001B[38;5;241m=\u001B[39m \u001B[38;5;124m\"\u001B[39m\u001B[38;5;124m/home/boittier/homeb/dcm/pbe0dz_pc/\u001B[39m\u001B[38;5;132;01m{}\u001B[39;00m\u001B[38;5;124m/charmm/dcm.xyz\u001B[39m\u001B[38;5;124m\"\u001B[39m\n\u001B[0;32m----> 2\u001B[0m pairs_out \u001B[38;5;241m=\u001B[39m \u001B[43mpairs_data\u001B[49m\u001B[43m(\u001B[49m\u001B[43mdata\u001B[49m\u001B[43m,\u001B[49m\u001B[43m \u001B[49m\n\u001B[1;32m      3\u001B[0m \u001B[43m           \u001B[49m\u001B[43msystem\u001B[49m\u001B[43m \u001B[49m\u001B[38;5;241;43m=\u001B[39;49m\u001B[43m \u001B[49m\u001B[38;5;124;43m\"\u001B[39;49m\u001B[38;5;124;43mdcm\u001B[39;49m\u001B[38;5;124;43m\"\u001B[39;49m\u001B[43m,\u001B[49m\n\u001B[1;32m      4\u001B[0m \u001B[43m          \u001B[49m\u001B[43mname\u001B[49m\u001B[43m \u001B[49m\u001B[38;5;241;43m=\u001B[39;49m\u001B[43m \u001B[49m\u001B[38;5;124;43m\"\u001B[39;49m\u001B[38;5;124;43mpcch2cl\u001B[39;49m\u001B[38;5;124;43m\"\u001B[39;49m\u001B[43m,\u001B[49m\n\u001B[1;32m      5\u001B[0m \u001B[43m          \u001B[49m\u001B[43mdcm_path_\u001B[49m\u001B[43m \u001B[49m\u001B[38;5;241;43m=\u001B[39;49m\u001B[43m \u001B[49m\u001B[43meg_dcm_path_\u001B[49m\u001B[43m,\u001B[49m\n\u001B[1;32m      6\u001B[0m \u001B[43m)\u001B[49m\n",
      "File \u001B[0;32m~/Documents/phd/ff_energy/ff_energy/ffe/data.py:309\u001B[0m, in \u001B[0;36mpairs_data\u001B[0;34m(dataobject, system, name, dcm_path_, dcm_charges_per_res)\u001B[0m\n\u001B[1;32m    307\u001B[0m s \u001B[38;5;241m=\u001B[39m structure_key_pairs[k]\n\u001B[1;32m    308\u001B[0m dcm_path \u001B[38;5;241m=\u001B[39m dcm_path_\u001B[38;5;241m.\u001B[39mformat(k)\n\u001B[0;32m--> 309\u001B[0m \u001B[43ms\u001B[49m\u001B[38;5;241;43m.\u001B[39;49m\u001B[43mload_dcm\u001B[49m\u001B[43m(\u001B[49m\u001B[43mdcm_path\u001B[49m\u001B[43m,\u001B[49m\n\u001B[1;32m    310\u001B[0m \u001B[43m           \u001B[49m\u001B[43mdcm_charges_per_res\u001B[49m\u001B[38;5;241;43m=\u001B[39;49m\u001B[43mdcm_charges_per_res\u001B[49m\u001B[43m)\u001B[49m\n\u001B[1;32m    311\u001B[0m dcms \u001B[38;5;241m=\u001B[39m np\u001B[38;5;241m.\u001B[39marray(s\u001B[38;5;241m.\u001B[39mdcm_charges)\n\u001B[1;32m    313\u001B[0m \u001B[38;5;66;03m# calculate electrostatic energy\u001B[39;00m\n",
      "File \u001B[0;32m~/Documents/phd/ff_energy/ff_energy/ffe/structure.py:161\u001B[0m, in \u001B[0;36mStructure.load_dcm\u001B[0;34m(self, path, dcm_charges_per_res)\u001B[0m\n\u001B[1;32m    159\u001B[0m \u001B[38;5;250m\u001B[39m\u001B[38;5;124;03m\"\"\"Load dcm file\"\"\"\u001B[39;00m\n\u001B[1;32m    160\u001B[0m \u001B[38;5;28mself\u001B[39m\u001B[38;5;241m.\u001B[39mn_res \u001B[38;5;241m=\u001B[39m \u001B[38;5;28mlen\u001B[39m(\u001B[38;5;28mset\u001B[39m(\u001B[38;5;28mself\u001B[39m\u001B[38;5;241m.\u001B[39mresids))\n\u001B[0;32m--> 161\u001B[0m \u001B[38;5;28;01mwith\u001B[39;00m \u001B[38;5;28;43mopen\u001B[39;49m\u001B[43m(\u001B[49m\u001B[43mpath\u001B[49m\u001B[43m)\u001B[49m \u001B[38;5;28;01mas\u001B[39;00m f:\n\u001B[1;32m    162\u001B[0m     lines \u001B[38;5;241m=\u001B[39m f\u001B[38;5;241m.\u001B[39mreadlines()\n\u001B[1;32m    163\u001B[0m \u001B[38;5;28mself\u001B[39m\u001B[38;5;241m.\u001B[39mdcm \u001B[38;5;241m=\u001B[39m [\n\u001B[1;32m    164\u001B[0m     [\u001B[38;5;28mfloat\u001B[39m(_) \u001B[38;5;28;01mfor\u001B[39;00m _ \u001B[38;5;129;01min\u001B[39;00m line\u001B[38;5;241m.\u001B[39msplit()[\u001B[38;5;241m1\u001B[39m:]] \u001B[38;5;28;01mfor\u001B[39;00m line \u001B[38;5;129;01min\u001B[39;00m lines[\u001B[38;5;241m2\u001B[39m:]\n\u001B[1;32m    165\u001B[0m ]  \u001B[38;5;66;03m# skip first two lines\u001B[39;00m\n",
      "\u001B[0;31mFileNotFoundError\u001B[0m: [Errno 2] No such file or directory: '/home/boittier/homeb/dcm/pbe0dz_pc/100_3502_DCM_408_572/charmm/dcm.xyz'"
     ]
    }
   ],
   "source": [
    "eg_dcm_path_ = \"/home/boittier/homeb/dcm/pbe0dz_pc/{}/charmm/dcm.xyz\"\n",
    "pairs_out = pairs_data(data, \n",
    "           system = \"dcm\",\n",
    "          name = \"pcch2cl\",\n",
    "          dcm_path_ = eg_dcm_path_,\n",
    ")"
   ]
  },
  {
   "cell_type": "code",
   "execution_count": null,
   "id": "4cb3ba3b-d720-4c0b-8e2a-3110048a33e1",
   "metadata": {},
   "outputs": [],
   "source": []
  },
  {
   "cell_type": "code",
   "execution_count": 12,
   "id": "c7529fae-9e78-4399-b508-e3f67f4b73d9",
   "metadata": {},
   "outputs": [],
   "source": [
    "pickle_output(pairs_out, \"dcm_pc_pairs\")"
   ]
  },
  {
   "cell_type": "markdown",
   "id": "d93b0f90-5003-449f-a50e-d922770bc70f",
   "metadata": {},
   "source": [
    "##  MDCM"
   ]
  },
  {
   "cell_type": "code",
   "execution_count": 13,
   "id": "b944e29f-0e4b-4b5e-98e5-e3833f7e4510",
   "metadata": {},
   "outputs": [
    {
     "name": "stderr",
     "output_type": "stream",
     "text": [
      "2023-09-04 11:01:56 | WARNING | dispatch:log_elapsed_time:270 - Finished tracing + transforming jit(convert_element_type) in 0.000194549560546875 sec\n",
      "2023-09-04 11:01:56 | DEBUG | xla_bridge:_init_backend:482 - Initializing backend 'interpreter'\n",
      "2023-09-04 11:01:56 | DEBUG | xla_bridge:_init_backend:494 - Backend 'interpreter' initialized\n",
      "2023-09-04 11:01:56 | DEBUG | xla_bridge:_init_backend:482 - Initializing backend 'cpu'\n",
      "2023-09-04 11:01:56 | DEBUG | xla_bridge:_init_backend:494 - Backend 'cpu' initialized\n",
      "2023-09-04 11:01:56 | DEBUG | xla_bridge:_init_backend:482 - Initializing backend 'cuda'\n",
      "2023-09-04 11:01:56 | INFO | xla_bridge:backends:450 - Unable to initialize backend 'cuda': module 'jaxlib.xla_extension' has no attribute 'GpuAllocatorConfig'\n",
      "2023-09-04 11:01:56 | DEBUG | xla_bridge:_init_backend:482 - Initializing backend 'rocm'\n",
      "2023-09-04 11:01:56 | INFO | xla_bridge:backends:450 - Unable to initialize backend 'rocm': module 'jaxlib.xla_extension' has no attribute 'GpuAllocatorConfig'\n",
      "2023-09-04 11:01:56 | DEBUG | xla_bridge:_init_backend:482 - Initializing backend 'tpu'\n",
      "2023-09-04 11:01:56 | INFO | xla_bridge:backends:450 - Unable to initialize backend 'tpu': INVALID_ARGUMENT: TpuPlatform is not available.\n",
      "2023-09-04 11:01:56 | DEBUG | xla_bridge:_init_backend:482 - Initializing backend 'plugin'\n",
      "2023-09-04 11:01:56 | INFO | xla_bridge:backends:450 - Unable to initialize backend 'plugin': xla_extension has no attributes named get_plugin_device_client. Compile TensorFlow with //tensorflow/compiler/xla/python:enable_plugin_device set to true (defaults to false) to enable this.\n",
      "2023-09-04 11:01:56 | WARNING | xla_bridge:backends:458 - No GPU/TPU found, falling back to CPU. (Set TF_CPP_MIN_LOG_LEVEL=0 and rerun for more info.)\n",
      "2023-09-04 11:02:02 | WARNING | dispatch:log_elapsed_time:270 - Finished tracing + transforming jit(convert_element_type) in 0.0001919269561767578 sec\n",
      "2023-09-04 11:02:42 | WARNING | dispatch:log_elapsed_time:270 - Finished tracing + transforming jit(convert_element_type) in 0.00017762184143066406 sec\n"
     ]
    }
   ],
   "source": [
    "eg_dcm_path_ = \"/home/boittier/homeb/dcm/pbe0dz_mdcm/{}/charmm/dcm.xyz\"\n",
    "pairs_out = pairs_data(data, \n",
    "           system = \"dcm\",\n",
    "          name = \"mdcm\",\n",
    "          dcm_path_ = eg_dcm_path_,\n",
    "                       #  some_n_charges_per_line\n",
    "        dcm_charges_per_res=8\n",
    ")"
   ]
  },
  {
   "cell_type": "markdown",
   "id": "ba9d4654-7b8c-462b-a3d4-f60ecf05972c",
   "metadata": {},
   "source": [
    "#  Structures"
   ]
  },
  {
   "cell_type": "code",
   "execution_count": 8,
   "id": "de4c3a91-e387-45ca-982c-25c4e921147b",
   "metadata": {},
   "outputs": [],
   "source": [
    "dcm_ = next(read_from_pickle(PKL_PATH / \"structures\" / \"dcm.pkl\"))"
   ]
  },
  {
   "cell_type": "code",
   "execution_count": null,
   "id": "c1b12797-11a3-409f-9289-2dc466ab0e3b",
   "metadata": {},
   "outputs": [],
   "source": []
  },
  {
   "cell_type": "code",
   "execution_count": 9,
   "id": "6b3cab10-c41e-4c4c-aea4-e1b67f88097f",
   "metadata": {},
   "outputs": [],
   "source": [
    "dcm_[0][0].set_2body()"
   ]
  },
  {
   "cell_type": "code",
   "execution_count": 12,
   "id": "0d0c65a4-76f5-461d-a57b-11e7307998a8",
   "metadata": {},
   "outputs": [],
   "source": [
    "# dcm_[0][0].distances"
   ]
  },
  {
   "cell_type": "code",
   "execution_count": 14,
   "id": "29532936-e319-44c5-8272-f62964b49f61",
   "metadata": {},
   "outputs": [],
   "source": [
    "pickle_output(pairs_out, \"dcm_mdcm_pairs\")"
   ]
  },
  {
   "cell_type": "code",
   "execution_count": 14,
   "id": "2f39d2f9-3ef2-4ec6-9eb6-061cb1bd6bf7",
   "metadata": {},
   "outputs": [
    {
     "name": "stderr",
     "output_type": "stream",
     "text": [
      "2023-09-05 13:31:36 | DEBUG | xla_bridge:_init_backend:482 - Initializing backend 'interpreter'\n",
      "2023-09-05 13:31:36 | DEBUG | xla_bridge:_init_backend:494 - Backend 'interpreter' initialized\n",
      "2023-09-05 13:31:36 | DEBUG | xla_bridge:_init_backend:482 - Initializing backend 'cpu'\n",
      "2023-09-05 13:31:36 | DEBUG | xla_bridge:_init_backend:494 - Backend 'cpu' initialized\n",
      "2023-09-05 13:31:36 | DEBUG | xla_bridge:_init_backend:482 - Initializing backend 'cuda'\n",
      "2023-09-05 13:31:36 | INFO | xla_bridge:backends:450 - Unable to initialize backend 'cuda': module 'jaxlib.xla_extension' has no attribute 'GpuAllocatorConfig'\n",
      "2023-09-05 13:31:36 | DEBUG | xla_bridge:_init_backend:482 - Initializing backend 'rocm'\n",
      "2023-09-05 13:31:36 | INFO | xla_bridge:backends:450 - Unable to initialize backend 'rocm': module 'jaxlib.xla_extension' has no attribute 'GpuAllocatorConfig'\n",
      "2023-09-05 13:31:36 | DEBUG | xla_bridge:_init_backend:482 - Initializing backend 'tpu'\n",
      "2023-09-05 13:31:36 | INFO | xla_bridge:backends:450 - Unable to initialize backend 'tpu': INVALID_ARGUMENT: TpuPlatform is not available.\n",
      "2023-09-05 13:31:36 | DEBUG | xla_bridge:_init_backend:482 - Initializing backend 'plugin'\n",
      "2023-09-05 13:31:36 | INFO | xla_bridge:backends:450 - Unable to initialize backend 'plugin': xla_extension has no attributes named get_plugin_device_client. Compile TensorFlow with //tensorflow/compiler/xla/python:enable_plugin_device set to true (defaults to false) to enable this.\n",
      "2023-09-05 13:31:36 | WARNING | xla_bridge:backends:458 - No GPU/TPU found, falling back to CPU. (Set TF_CPP_MIN_LOG_LEVEL=0 and rerun for more info.)\n"
     ]
    },
    {
     "data": {
      "text/plain": [
       "FF: LJ dcm ELECnull Exact intE (jax_coloumb: False)"
      ]
     },
     "execution_count": 14,
     "metadata": {},
     "output_type": "execute_result"
    }
   ],
   "source": [
    "ffpkl = \"ELECnull_dcm_lj.pkl\"\n",
    "ff_ = next(read_from_pickle(PKL_PATH / ffpkl))\n",
    "ff_"
   ]
  },
  {
   "cell_type": "code",
   "execution_count": 19,
   "id": "298359f6-2ec9-46f8-88d2-68e2d1adc4bf",
   "metadata": {},
   "outputs": [
    {
     "data": {
      "text/plain": [
       "FF: LJ dcm ELECnull Exact intE (jax_coloumb: False)"
      ]
     },
     "execution_count": 19,
     "metadata": {},
     "output_type": "execute_result"
    }
   ],
   "source": [
    "ff_"
   ]
  },
  {
   "cell_type": "markdown",
   "id": "891ea525-4ff9-4aaa-acef-605d8d104faa",
   "metadata": {},
   "source": [
    "#  kMDCM"
   ]
  },
  {
   "cell_type": "code",
   "execution_count": null,
   "id": "64c7d560-7c09-4613-b555-2966cf3f937f",
   "metadata": {},
   "outputs": [],
   "source": [
    "eg_dcm_path_ = \"/home/boittier/homeb/dcm/pbe0dz_kmdcm/{}/charmm/dcm.xyz\"\n",
    "pairs_out = pairs_data(data, \n",
    "           system = \"water_cluster\",\n",
    "          name = \"kmdcm\",\n",
    "          dcm_path_ = eg_dcm_path_,\n",
    ")"
   ]
  },
  {
   "cell_type": "code",
   "execution_count": null,
   "id": "72555db2-463b-471c-a65c-bc7fe5e83dba",
   "metadata": {},
   "outputs": [],
   "source": [
    "pickle_output(pairs_out, \"dcm_kmdcm_pairs\")"
   ]
  },
  {
   "cell_type": "code",
   "execution_count": 42,
   "id": "20fe53c8-13e4-4a14-beed-3fc81c5d376d",
   "metadata": {},
   "outputs": [],
   "source": [
    "# dists = read_from_pickle(PKL_PATH / \"structures\" / \"water_cluster.pkl\")"
   ]
  },
  {
   "cell_type": "code",
   "execution_count": 43,
   "id": "30893298-5685-409b-9a95-a3257d6cd87e",
   "metadata": {},
   "outputs": [],
   "source": [
    "# struct, dist = next(dists)"
   ]
  },
  {
   "cell_type": "code",
   "execution_count": 56,
   "id": "c5b0b803-2a3c-4acd-a84d-2d33d955ad61",
   "metadata": {},
   "outputs": [],
   "source": [
    "# ?FF"
   ]
  },
  {
   "cell_type": "code",
   "execution_count": 1,
   "id": "3b39b502-9542-4acb-a87e-98fa1470ad23",
   "metadata": {},
   "outputs": [],
   "source": [
    "# ff_obj = FF(eg_data, \n",
    "#             dist,\n",
    "#             LJ,\n",
    "#             LJ_bound,\n",
    "#             struct[0],\n",
    "#            )"
   ]
  },
  {
   "cell_type": "code",
   "execution_count": 2,
   "id": "8d9815fe-e1c2-4c4f-8c40-88434f6130fd",
   "metadata": {},
   "outputs": [],
   "source": [
    "# pickle_output(ff_obj, \"water_pc_ff_orig\")"
   ]
  },
  {
   "cell_type": "code",
   "execution_count": null,
   "id": "9d07e92c-f8cc-4072-afde-be9d7d32aea1",
   "metadata": {},
   "outputs": [],
   "source": []
  },
  {
   "cell_type": "code",
   "execution_count": null,
   "id": "2456c3b5-d192-404b-a1ea-6aa608e9d9a2",
   "metadata": {},
   "outputs": [],
   "source": []
  }
 ],
 "metadata": {
  "kernelspec": {
   "display_name": "pycharmm",
   "language": "python",
   "name": "pycharmm"
  },
  "language_info": {
   "codemirror_mode": {
    "name": "ipython",
    "version": 3
   },
   "file_extension": ".py",
   "mimetype": "text/x-python",
   "name": "python",
   "nbconvert_exporter": "python",
   "pygments_lexer": "ipython3",
   "version": "3.8.16"
  }
 },
 "nbformat": 4,
 "nbformat_minor": 5
}
