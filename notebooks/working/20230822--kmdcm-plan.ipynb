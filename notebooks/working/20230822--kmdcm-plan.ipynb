{
 "cells": [
  {
   "cell_type": "code",
   "execution_count": 1,
   "id": "665d8a53-cf5b-46a4-a684-107804868fa9",
   "metadata": {},
   "outputs": [],
   "source": [
    "# happy birthday Eileen"
   ]
  },
  {
   "cell_type": "markdown",
   "id": "d4d551c6-10c5-48d0-9da3-d08341c6de7f",
   "metadata": {},
   "source": [
    "#  Plan\n",
    "\n",
    "- analyse data from k-mdcm experiments\n",
    "- get report pipeline ready\n",
    "- write report"
   ]
  },
  {
   "cell_type": "code",
   "execution_count": null,
   "id": "6aa82b72-8c9b-4ef0-9722-e21f815fcec5",
   "metadata": {},
   "outputs": [],
   "source": []
  }
 ],
 "metadata": {
  "kernelspec": {
   "display_name": "pycharmm",
   "language": "python",
   "name": "pycharmm"
  },
  "language_info": {
   "codemirror_mode": {
    "name": "ipython",
    "version": 3
   },
   "file_extension": ".py",
   "mimetype": "text/x-python",
   "name": "python",
   "nbconvert_exporter": "python",
   "pygments_lexer": "ipython3",
   "version": "3.8.16"
  }
 },
 "nbformat": 4,
 "nbformat_minor": 5
}
