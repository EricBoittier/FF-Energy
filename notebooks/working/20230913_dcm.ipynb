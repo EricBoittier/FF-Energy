{
 "cells": [
  {
   "cell_type": "code",
   "execution_count": 120,
   "id": "2031669b-dac1-4ac8-b10e-8a909f0ac10b",
   "metadata": {},
   "outputs": [],
   "source": [
    "from pathlib import Path\n",
    "import seaborn as sns\n",
    "import scipy as sp\n",
    "import pandas as pd\n",
    "import matplotlib.pyplot as plt\n",
    "import numpy as np\n",
    "\n",
    "from ff_energy.latex_writer.report import Report\n",
    "from ff_energy.latex_writer.energydata.energy_data_report import EnergyReport\n",
    "from ff_energy.latex_writer.figure import Figure\n",
    "from ff_energy.latex_writer.format import safe_latex_string\n",
    "from ff_energy.utils.ffe_utils import read_from_pickle, pickle_output\n",
    "\n",
    "from ff_energy.ffe.ff import FF\n",
    "from ff_energy.ffe.constants import PKL_PATH, PDB_PATH\n",
    "from ff_energy.ffe.potential import LJ, LJ_bound, DE #, DE_bounds\n",
    "\n",
    "from ff_energy.ffe.data import pairs_data\n",
    "from ff_energy.plotting.data_plots import DataPlots\n"
   ]
  },
  {
   "cell_type": "code",
   "execution_count": null,
   "id": "69f9a57f-6be8-4522-b91d-266c6f5062f3",
   "metadata": {},
   "outputs": [],
   "source": [
    "# NONBONDED\n",
    "# OG311    0.0       -0.192   1.765                  ! og MeOH and EtOH 1/06 (was -0.1521 1.7682)\n",
    "# CG331    0.0       -0.078   2.050   0.0 -0.01 1.9 ! alkane (CT3), 4/98, yin, adm jr; Rmin/2 modified from 2.04 to 2.05\n",
    "# HGP1     0.0       -0.046    0.225                 ! polar H\n",
    "# HGA3     0.0       -0.024    1.340                 ! alkane, yin and mackerell, 4/98\n",
    "# OT     0.00  -0.1521  1.7682 ! ALLOW   WAT\n",
    "# HT     0.00  -0.0460  0.2245 ! ALLOW WAT\n",
    "# CG321    0.0       -0.0560     2.0100   0.0 -0.01 1.9 ! alkane (CT2), 4/98, yin, adm jr, also used by viv\n",
    "# CLGA1    0.0       -0.3430     1.9100 ! CLET, DCLE, chloroethane, 1,1-dichloroethane\n",
    "# HGA2     0.0       -0.0240     1.3400 ! alkane, yin and mackerell, 4/98\n",
    "# CLA      0.0       -0.150      2.27     ! Chloride\n",
    "#                    ! D. Beglovd and B. Roux, dA=-83.87+4.46 = -79.40 kcal/mol\n",
    "# POT      0.0       -0.0870    1.76375   ! Potassium\n",
    "#                    ! D. Beglovd and B. Roux, dA=-82.36+2.8 = -79.56 kca/mol\n"
   ]
  },
  {
   "cell_type": "code",
   "execution_count": 2,
   "id": "8d83cf0e-13c0-4cc0-8439-841ba49f9a72",
   "metadata": {},
   "outputs": [
    {
     "name": "stderr",
     "output_type": "stream",
     "text": [
      "2023-09-14 12:28:23 | INFO | xla_bridge:backends:450 - Unable to initialize backend 'cuda': module 'jaxlib.xla_extension' has no attribute 'GpuAllocatorConfig'\n",
      "2023-09-14 12:28:23 | INFO | xla_bridge:backends:450 - Unable to initialize backend 'rocm': module 'jaxlib.xla_extension' has no attribute 'GpuAllocatorConfig'\n",
      "2023-09-14 12:28:23 | INFO | xla_bridge:backends:450 - Unable to initialize backend 'tpu': INVALID_ARGUMENT: TpuPlatform is not available.\n",
      "2023-09-14 12:28:23 | INFO | xla_bridge:backends:450 - Unable to initialize backend 'plugin': xla_extension has no attributes named get_plugin_device_client. Compile TensorFlow with //tensorflow/compiler/xla/python:enable_plugin_device set to true (defaults to false) to enable this.\n",
      "2023-09-14 12:28:23 | WARNING | xla_bridge:backends:458 - No GPU/TPU found, falling back to CPU. (Set TF_CPP_MIN_LOG_LEVEL=0 and rerun for more info.)\n"
     ]
    }
   ],
   "source": [
    "test = next(read_from_pickle(PKL_PATH / \"ELECp_dcm_lj.pkl\"))"
   ]
  },
  {
   "cell_type": "code",
   "execution_count": 3,
   "id": "aa664ed2-68f0-453f-b179-96b3ddfdb3e6",
   "metadata": {},
   "outputs": [
    {
     "data": {
      "text/html": [
       "<div>\n",
       "<style scoped>\n",
       "    .dataframe tbody tr th:only-of-type {\n",
       "        vertical-align: middle;\n",
       "    }\n",
       "\n",
       "    .dataframe tbody tr th {\n",
       "        vertical-align: top;\n",
       "    }\n",
       "\n",
       "    .dataframe thead th {\n",
       "        text-align: right;\n",
       "    }\n",
       "</style>\n",
       "<table border=\"1\" class=\"dataframe\">\n",
       "  <thead>\n",
       "    <tr style=\"text-align: right;\">\n",
       "      <th></th>\n",
       "      <th>group</th>\n",
       "      <th>es</th>\n",
       "      <th>akp</th>\n",
       "      <th>idx</th>\n",
       "      <th>gname</th>\n",
       "      <th>distances</th>\n",
       "      <th>sigmas</th>\n",
       "      <th>epsilons</th>\n",
       "      <th>sigmas2</th>\n",
       "      <th>epsilons2</th>\n",
       "      <th>jaxflat</th>\n",
       "      <th>delta_sigma</th>\n",
       "    </tr>\n",
       "  </thead>\n",
       "  <tbody>\n",
       "  </tbody>\n",
       "</table>\n",
       "</div>"
      ],
      "text/plain": [
       "Empty DataFrame\n",
       "Columns: [group, es, akp, idx, gname, distances, sigmas, epsilons, sigmas2, epsilons2, jaxflat, delta_sigma]\n",
       "Index: []"
      ]
     },
     "execution_count": 3,
     "metadata": {},
     "output_type": "execute_result"
    }
   ],
   "source": [
    "test.debug_df[\"delta_sigma\"] =  test.debug_df[\"sigmas\"] - test.debug_df[\"sigmas2\"]  #.describe() #.groupby(\"gname\").sum().describe()\n",
    "\n",
    "test.debug_df[ test.debug_df[\"delta_sigma\"] > 0.001 ]"
   ]
  },
  {
   "cell_type": "code",
   "execution_count": 4,
   "id": "b416fc9f-04d1-48b0-a333-82a5dbf29b11",
   "metadata": {},
   "outputs": [
    {
     "data": {
      "text/plain": [
       "array([2.13370387, 2.12961322, 2.34124302, 2.12552256, 2.33715237,\n",
       "       2.54878218])"
      ]
     },
     "execution_count": 4,
     "metadata": {},
     "output_type": "execute_result"
    }
   ],
   "source": [
    "test.debug_df[\"sigmas\"].unique()"
   ]
  },
  {
   "cell_type": "code",
   "execution_count": 5,
   "id": "2361ac28-d8c9-42fb-a76b-9f9b2aa278e3",
   "metadata": {},
   "outputs": [
    {
     "data": {
      "text/plain": [
       "array([0.85692802, 0.84588299, 0.85393354, 0.83498031, 0.8429271 ,\n",
       "       0.85094952])"
      ]
     },
     "execution_count": 5,
     "metadata": {},
     "output_type": "execute_result"
    }
   ],
   "source": [
    "test.debug_df[\"epsilons\"].unique()"
   ]
  },
  {
   "cell_type": "code",
   "execution_count": 6,
   "id": "214bc99f-4df3-4bb3-8512-ec6ced2cc832",
   "metadata": {},
   "outputs": [
    {
     "data": {
      "text/plain": [
       "array([2.133704 , 2.1296134, 2.341243 , 2.1255226, 2.3371525, 2.548782 ],\n",
       "      dtype=float32)"
      ]
     },
     "execution_count": 6,
     "metadata": {},
     "output_type": "execute_result"
    }
   ],
   "source": [
    "test.debug_df[\"sigmas2\"].unique()"
   ]
  },
  {
   "cell_type": "code",
   "execution_count": 7,
   "id": "9990e860-1354-4356-a121-72c94c79f089",
   "metadata": {},
   "outputs": [
    {
     "data": {
      "text/plain": [
       "array([0.856928  , 0.84588295, 0.8539335 , 0.8349803 , 0.8429271 ,\n",
       "       0.8509495 ], dtype=float32)"
      ]
     },
     "execution_count": 7,
     "metadata": {},
     "output_type": "execute_result"
    }
   ],
   "source": [
    "test.debug_df[\"epsilons2\"].unique()"
   ]
  },
  {
   "cell_type": "code",
   "execution_count": 8,
   "id": "0fc3f8d4-3e22-4f95-ad8c-d2ea3201f83b",
   "metadata": {},
   "outputs": [],
   "source": [
    "test."
   ]
  },
  {
   "cell_type": "code",
   "execution_count": 29,
   "id": "53e27e00-eeb1-424a-9d83-c55a8eb0dc4a",
   "metadata": {},
   "outputs": [
    {
     "data": {
      "text/plain": [
       "array([], dtype=float32)"
      ]
     },
     "execution_count": 29,
     "metadata": {},
     "output_type": "execute_result"
    }
   ],
   "source": [
    "test.debug_df[ test.debug_df[\"delta_sigma\"] > 0.001 ][\"epsilons2\"].unique()"
   ]
  },
  {
   "cell_type": "code",
   "execution_count": 30,
   "id": "b49fadb4-9c02-4dd1-9700-8b17517c3ab3",
   "metadata": {},
   "outputs": [
    {
     "data": {
      "text/plain": [
       "array([], dtype=float32)"
      ]
     },
     "execution_count": 30,
     "metadata": {},
     "output_type": "execute_result"
    }
   ],
   "source": [
    "test.debug_df[ test.debug_df[\"delta_sigma\"] > 0.001 ][\"sigmas2\"].unique()"
   ]
  },
  {
   "cell_type": "code",
   "execution_count": 31,
   "id": "9ef6031b-6136-48b8-80b9-5cd226b1f7a6",
   "metadata": {},
   "outputs": [
    {
     "data": {
      "text/plain": [
       "array([], dtype=float64)"
      ]
     },
     "execution_count": 31,
     "metadata": {},
     "output_type": "execute_result"
    }
   ],
   "source": [
    "test.debug_df[ test.debug_df[\"delta_sigma\"] > 0.001 ][\"epsilons\"].unique()"
   ]
  },
  {
   "cell_type": "code",
   "execution_count": 32,
   "id": "26f23982-5bf7-46e8-b196-3aa9bb97d936",
   "metadata": {},
   "outputs": [
    {
     "data": {
      "text/plain": [
       "array([], dtype=float64)"
      ]
     },
     "execution_count": 32,
     "metadata": {},
     "output_type": "execute_result"
    }
   ],
   "source": [
    "test.debug_df[ test.debug_df[\"delta_sigma\"] > 0.001 ][\"sigmas\"].unique()"
   ]
  },
  {
   "cell_type": "code",
   "execution_count": null,
   "id": "93f52349-5db3-470f-80f3-ef36df8feed2",
   "metadata": {},
   "outputs": [],
   "source": []
  },
  {
   "cell_type": "code",
   "execution_count": 20,
   "id": "143e8b1f-1c4c-4259-a217-b0bec50b4162",
   "metadata": {},
   "outputs": [
    {
     "data": {
      "text/plain": [
       "(0.0, 10.0)"
      ]
     },
     "execution_count": 20,
     "metadata": {},
     "output_type": "execute_result"
    },
    {
     "data": {
      "image/png": "[encoded data removed]",
      "text/plain": [
       "<Figure size 800x600 with 1 Axes>"
      ]
     },
     "metadata": {},
     "output_type": "display_data"
    }
   ],
   "source": [
    "plt.scatter(test.debug_df[\"es\"], test.debug_df[\"jaxflat\"])\n",
    "plt.xlim(0,10)\n",
    "plt.ylim(0,10)"
   ]
  },
  {
   "cell_type": "code",
   "execution_count": 9,
   "id": "1a4bd627-ed6d-4e41-8576-f56436d1f852",
   "metadata": {},
   "outputs": [],
   "source": [
    "# plt.scatter(test.debug_df[\"distances\"], test.debug_df[\"jaxflat\"])"
   ]
  },
  {
   "cell_type": "code",
   "execution_count": 13,
   "id": "aab5df30-726e-4ee7-a636-be0ac8e3761b",
   "metadata": {},
   "outputs": [
    {
     "data": {
      "text/plain": [
       "(array([4., 0., 0., ..., 0., 0., 2.]),\n",
       " array([-879.64803682, -879.6323568 , -879.61667677, ..., 2256.32554475,\n",
       "        2256.34122477, 2256.3569048 ]),\n",
       " <BarContainer object of 200000 artists>)"
      ]
     },
     "execution_count": 13,
     "metadata": {},
     "output_type": "execute_result"
    },
    {
     "name": "stdout",
     "output_type": "stream",
     "text": [
      "Error in callback <function flush_figures at 0x7f0795e36670> (for post_execute):\n"
     ]
    },
    {
     "name": "stderr",
     "output_type": "stream",
     "text": [
      "\n",
      "KeyboardInterrupt\n",
      "\n"
     ]
    }
   ],
   "source": [
    "plt.hist(test.debug_df[\"es\"] / test.debug_df[\"jaxflat\"], bins=200000)"
   ]
  },
  {
   "cell_type": "code",
   "execution_count": 19,
   "id": "51b5aed9-070e-48c4-bca3-c5a970589d82",
   "metadata": {},
   "outputs": [
    {
     "data": {
      "text/html": [
       "<div>\n",
       "<style scoped>\n",
       "    .dataframe tbody tr th:only-of-type {\n",
       "        vertical-align: middle;\n",
       "    }\n",
       "\n",
       "    .dataframe tbody tr th {\n",
       "        vertical-align: top;\n",
       "    }\n",
       "\n",
       "    .dataframe thead th {\n",
       "        text-align: right;\n",
       "    }\n",
       "</style>\n",
       "<table border=\"1\" class=\"dataframe\">\n",
       "  <thead>\n",
       "    <tr style=\"text-align: right;\">\n",
       "      <th></th>\n",
       "      <th>TOTAL</th>\n",
       "      <th>ELEC</th>\n",
       "      <th>VDW</th>\n",
       "      <th>KEY</th>\n",
       "      <th>M_ENERGY</th>\n",
       "      <th>KEY</th>\n",
       "      <th>n_monomers</th>\n",
       "      <th>C_ENERGY</th>\n",
       "      <th>intE</th>\n",
       "      <th>P_intE</th>\n",
       "      <th>C_ENERGY_kcalmol</th>\n",
       "      <th>ELEC_CI</th>\n",
       "      <th>ELEC_POL</th>\n",
       "      <th>ELECpol</th>\n",
       "      <th>ELECci</th>\n",
       "      <th>ELECp</th>\n",
       "      <th>ELECm</th>\n",
       "      <th>ELECnull</th>\n",
       "      <th>DUMMY</th>\n",
       "    </tr>\n",
       "  </thead>\n",
       "  <tbody>\n",
       "    <tr>\n",
       "      <th>100_1018_DCM_120_967</th>\n",
       "      <td>8.04068</td>\n",
       "      <td>-1.88784</td>\n",
       "      <td>-30.40458</td>\n",
       "      <td>100_1018_DCM_120_967</td>\n",
       "      <td>-19187.367411</td>\n",
       "      <td>100_1018_DCM_120_967</td>\n",
       "      <td>20</td>\n",
       "      <td>-19187.387191</td>\n",
       "      <td>-12.411790</td>\n",
       "      <td>-12.532116</td>\n",
       "      <td>-1.204014e+07</td>\n",
       "      <td>-20.567562</td>\n",
       "      <td>-1.421479</td>\n",
       "      <td>-21.599542</td>\n",
       "      <td>-20.567562</td>\n",
       "      <td>-1.88784</td>\n",
       "      <td>-5.55673</td>\n",
       "      <td>-0.0</td>\n",
       "      <td>0.0</td>\n",
       "    </tr>\n",
       "    <tr>\n",
       "      <th>100_1019_DCM_120_565</th>\n",
       "      <td>9.89488</td>\n",
       "      <td>-2.62215</td>\n",
       "      <td>-35.67010</td>\n",
       "      <td>100_1019_DCM_120_565</td>\n",
       "      <td>-19187.356685</td>\n",
       "      <td>100_1019_DCM_120_565</td>\n",
       "      <td>20</td>\n",
       "      <td>-19187.379774</td>\n",
       "      <td>-14.488511</td>\n",
       "      <td>-15.246951</td>\n",
       "      <td>-1.204014e+07</td>\n",
       "      <td>-28.837646</td>\n",
       "      <td>-2.050995</td>\n",
       "      <td>-30.129872</td>\n",
       "      <td>-28.837646</td>\n",
       "      <td>-2.62215</td>\n",
       "      <td>-7.65099</td>\n",
       "      <td>-0.0</td>\n",
       "      <td>0.0</td>\n",
       "    </tr>\n",
       "    <tr>\n",
       "      <th>100_1024_DCM_121_932</th>\n",
       "      <td>10.32904</td>\n",
       "      <td>-1.47130</td>\n",
       "      <td>-31.15835</td>\n",
       "      <td>100_1024_DCM_121_932</td>\n",
       "      <td>-19187.342979</td>\n",
       "      <td>100_1024_DCM_121_932</td>\n",
       "      <td>20</td>\n",
       "      <td>-19187.365864</td>\n",
       "      <td>-14.360149</td>\n",
       "      <td>-13.865660</td>\n",
       "      <td>-1.204013e+07</td>\n",
       "      <td>-16.497216</td>\n",
       "      <td>-1.404197</td>\n",
       "      <td>-17.508540</td>\n",
       "      <td>-16.497216</td>\n",
       "      <td>-1.47130</td>\n",
       "      <td>-4.03920</td>\n",
       "      <td>-0.0</td>\n",
       "      <td>0.0</td>\n",
       "    </tr>\n",
       "    <tr>\n",
       "      <th>100_1053_DCM_123_948</th>\n",
       "      <td>9.79551</td>\n",
       "      <td>-3.52281</td>\n",
       "      <td>-35.38260</td>\n",
       "      <td>100_1053_DCM_123_948</td>\n",
       "      <td>-19187.359041</td>\n",
       "      <td>100_1053_DCM_123_948</td>\n",
       "      <td>20</td>\n",
       "      <td>-19187.376685</td>\n",
       "      <td>-11.071544</td>\n",
       "      <td>-11.036796</td>\n",
       "      <td>-1.204014e+07</td>\n",
       "      <td>-34.970801</td>\n",
       "      <td>-1.757483</td>\n",
       "      <td>-36.197482</td>\n",
       "      <td>-34.970801</td>\n",
       "      <td>-3.52281</td>\n",
       "      <td>-8.05686</td>\n",
       "      <td>-0.0</td>\n",
       "      <td>0.0</td>\n",
       "    </tr>\n",
       "    <tr>\n",
       "      <th>100_1100_DCM_129_15</th>\n",
       "      <td>9.00233</td>\n",
       "      <td>-2.83638</td>\n",
       "      <td>-33.26086</td>\n",
       "      <td>100_1100_DCM_129_15</td>\n",
       "      <td>-19187.360730</td>\n",
       "      <td>100_1100_DCM_129_15</td>\n",
       "      <td>20</td>\n",
       "      <td>-19187.381994</td>\n",
       "      <td>-13.342866</td>\n",
       "      <td>-13.423951</td>\n",
       "      <td>-1.204014e+07</td>\n",
       "      <td>-38.877332</td>\n",
       "      <td>-2.678006</td>\n",
       "      <td>-40.843937</td>\n",
       "      <td>-38.877332</td>\n",
       "      <td>-2.83638</td>\n",
       "      <td>-9.75593</td>\n",
       "      <td>-0.0</td>\n",
       "      <td>0.0</td>\n",
       "    </tr>\n",
       "    <tr>\n",
       "      <th>...</th>\n",
       "      <td>...</td>\n",
       "      <td>...</td>\n",
       "      <td>...</td>\n",
       "      <td>...</td>\n",
       "      <td>...</td>\n",
       "      <td>...</td>\n",
       "      <td>...</td>\n",
       "      <td>...</td>\n",
       "      <td>...</td>\n",
       "      <td>...</td>\n",
       "      <td>...</td>\n",
       "      <td>...</td>\n",
       "      <td>...</td>\n",
       "      <td>...</td>\n",
       "      <td>...</td>\n",
       "      <td>...</td>\n",
       "      <td>...</td>\n",
       "      <td>...</td>\n",
       "      <td>...</td>\n",
       "    </tr>\n",
       "    <tr>\n",
       "      <th>100_979_DCM_115_117</th>\n",
       "      <td>10.52301</td>\n",
       "      <td>-1.09235</td>\n",
       "      <td>-29.25850</td>\n",
       "      <td>100_979_DCM_115_117</td>\n",
       "      <td>-19187.343536</td>\n",
       "      <td>100_979_DCM_115_117</td>\n",
       "      <td>20</td>\n",
       "      <td>-19187.363317</td>\n",
       "      <td>-12.412769</td>\n",
       "      <td>-12.238591</td>\n",
       "      <td>-1.204013e+07</td>\n",
       "      <td>-15.129841</td>\n",
       "      <td>-1.104415</td>\n",
       "      <td>-15.793819</td>\n",
       "      <td>-15.129841</td>\n",
       "      <td>-1.09235</td>\n",
       "      <td>-3.17565</td>\n",
       "      <td>-0.0</td>\n",
       "      <td>0.0</td>\n",
       "    </tr>\n",
       "    <tr>\n",
       "      <th>100_983_DCM_116_25</th>\n",
       "      <td>9.49413</td>\n",
       "      <td>-3.69630</td>\n",
       "      <td>-36.41305</td>\n",
       "      <td>100_983_DCM_116_25</td>\n",
       "      <td>-19187.339973</td>\n",
       "      <td>100_983_DCM_116_25</td>\n",
       "      <td>20</td>\n",
       "      <td>-19187.356356</td>\n",
       "      <td>-10.280112</td>\n",
       "      <td>-11.185809</td>\n",
       "      <td>-1.204012e+07</td>\n",
       "      <td>-44.367339</td>\n",
       "      <td>-2.568431</td>\n",
       "      <td>-46.111346</td>\n",
       "      <td>-44.367339</td>\n",
       "      <td>-3.69630</td>\n",
       "      <td>-10.24308</td>\n",
       "      <td>-0.0</td>\n",
       "      <td>0.0</td>\n",
       "    </tr>\n",
       "    <tr>\n",
       "      <th>100_986_DCM_116_989</th>\n",
       "      <td>10.93140</td>\n",
       "      <td>-3.39350</td>\n",
       "      <td>-30.97783</td>\n",
       "      <td>100_986_DCM_116_989</td>\n",
       "      <td>-19187.330647</td>\n",
       "      <td>100_986_DCM_116_989</td>\n",
       "      <td>20</td>\n",
       "      <td>-19187.349940</td>\n",
       "      <td>-12.106152</td>\n",
       "      <td>-12.100108</td>\n",
       "      <td>-1.204012e+07</td>\n",
       "      <td>-24.987267</td>\n",
       "      <td>-1.390889</td>\n",
       "      <td>-25.979675</td>\n",
       "      <td>-24.987267</td>\n",
       "      <td>-3.39350</td>\n",
       "      <td>-8.05472</td>\n",
       "      <td>-0.0</td>\n",
       "      <td>0.0</td>\n",
       "    </tr>\n",
       "    <tr>\n",
       "      <th>100_98_DCM_12_534</th>\n",
       "      <td>10.41278</td>\n",
       "      <td>-1.78878</td>\n",
       "      <td>-35.84975</td>\n",
       "      <td>100_98_DCM_12_534</td>\n",
       "      <td>-19187.337523</td>\n",
       "      <td>100_98_DCM_12_534</td>\n",
       "      <td>20</td>\n",
       "      <td>-19187.363902</td>\n",
       "      <td>-16.552713</td>\n",
       "      <td>-17.572315</td>\n",
       "      <td>-1.204013e+07</td>\n",
       "      <td>-38.295094</td>\n",
       "      <td>-2.656555</td>\n",
       "      <td>-40.165244</td>\n",
       "      <td>-38.295094</td>\n",
       "      <td>-1.78878</td>\n",
       "      <td>-9.19456</td>\n",
       "      <td>-0.0</td>\n",
       "      <td>0.0</td>\n",
       "    </tr>\n",
       "    <tr>\n",
       "      <th>100_992_DCM_117_761</th>\n",
       "      <td>10.92972</td>\n",
       "      <td>-2.47999</td>\n",
       "      <td>-38.76216</td>\n",
       "      <td>100_992_DCM_117_761</td>\n",
       "      <td>-19187.334520</td>\n",
       "      <td>100_992_DCM_117_761</td>\n",
       "      <td>20</td>\n",
       "      <td>-19187.357863</td>\n",
       "      <td>-14.647476</td>\n",
       "      <td>-15.303181</td>\n",
       "      <td>-1.204012e+07</td>\n",
       "      <td>-34.408689</td>\n",
       "      <td>-2.713965</td>\n",
       "      <td>-36.080307</td>\n",
       "      <td>-34.408689</td>\n",
       "      <td>-2.47999</td>\n",
       "      <td>-7.96244</td>\n",
       "      <td>-0.0</td>\n",
       "      <td>0.0</td>\n",
       "    </tr>\n",
       "  </tbody>\n",
       "</table>\n",
       "<p>200 rows × 19 columns</p>\n",
       "</div>"
      ],
      "text/plain": [
       "                         TOTAL     ELEC       VDW                   KEY  \\\n",
       "100_1018_DCM_120_967   8.04068 -1.88784 -30.40458  100_1018_DCM_120_967   \n",
       "100_1019_DCM_120_565   9.89488 -2.62215 -35.67010  100_1019_DCM_120_565   \n",
       "100_1024_DCM_121_932  10.32904 -1.47130 -31.15835  100_1024_DCM_121_932   \n",
       "100_1053_DCM_123_948   9.79551 -3.52281 -35.38260  100_1053_DCM_123_948   \n",
       "100_1100_DCM_129_15    9.00233 -2.83638 -33.26086   100_1100_DCM_129_15   \n",
       "...                        ...      ...       ...                   ...   \n",
       "100_979_DCM_115_117   10.52301 -1.09235 -29.25850   100_979_DCM_115_117   \n",
       "100_983_DCM_116_25     9.49413 -3.69630 -36.41305    100_983_DCM_116_25   \n",
       "100_986_DCM_116_989   10.93140 -3.39350 -30.97783   100_986_DCM_116_989   \n",
       "100_98_DCM_12_534     10.41278 -1.78878 -35.84975     100_98_DCM_12_534   \n",
       "100_992_DCM_117_761   10.92972 -2.47999 -38.76216   100_992_DCM_117_761   \n",
       "\n",
       "                          M_ENERGY                   KEY  n_monomers  \\\n",
       "100_1018_DCM_120_967 -19187.367411  100_1018_DCM_120_967          20   \n",
       "100_1019_DCM_120_565 -19187.356685  100_1019_DCM_120_565          20   \n",
       "100_1024_DCM_121_932 -19187.342979  100_1024_DCM_121_932          20   \n",
       "100_1053_DCM_123_948 -19187.359041  100_1053_DCM_123_948          20   \n",
       "100_1100_DCM_129_15  -19187.360730   100_1100_DCM_129_15          20   \n",
       "...                            ...                   ...         ...   \n",
       "100_979_DCM_115_117  -19187.343536   100_979_DCM_115_117          20   \n",
       "100_983_DCM_116_25   -19187.339973    100_983_DCM_116_25          20   \n",
       "100_986_DCM_116_989  -19187.330647   100_986_DCM_116_989          20   \n",
       "100_98_DCM_12_534    -19187.337523     100_98_DCM_12_534          20   \n",
       "100_992_DCM_117_761  -19187.334520   100_992_DCM_117_761          20   \n",
       "\n",
       "                          C_ENERGY       intE     P_intE  C_ENERGY_kcalmol  \\\n",
       "100_1018_DCM_120_967 -19187.387191 -12.411790 -12.532116     -1.204014e+07   \n",
       "100_1019_DCM_120_565 -19187.379774 -14.488511 -15.246951     -1.204014e+07   \n",
       "100_1024_DCM_121_932 -19187.365864 -14.360149 -13.865660     -1.204013e+07   \n",
       "100_1053_DCM_123_948 -19187.376685 -11.071544 -11.036796     -1.204014e+07   \n",
       "100_1100_DCM_129_15  -19187.381994 -13.342866 -13.423951     -1.204014e+07   \n",
       "...                            ...        ...        ...               ...   \n",
       "100_979_DCM_115_117  -19187.363317 -12.412769 -12.238591     -1.204013e+07   \n",
       "100_983_DCM_116_25   -19187.356356 -10.280112 -11.185809     -1.204012e+07   \n",
       "100_986_DCM_116_989  -19187.349940 -12.106152 -12.100108     -1.204012e+07   \n",
       "100_98_DCM_12_534    -19187.363902 -16.552713 -17.572315     -1.204013e+07   \n",
       "100_992_DCM_117_761  -19187.357863 -14.647476 -15.303181     -1.204012e+07   \n",
       "\n",
       "                        ELEC_CI  ELEC_POL    ELECpol     ELECci    ELECp  \\\n",
       "100_1018_DCM_120_967 -20.567562 -1.421479 -21.599542 -20.567562 -1.88784   \n",
       "100_1019_DCM_120_565 -28.837646 -2.050995 -30.129872 -28.837646 -2.62215   \n",
       "100_1024_DCM_121_932 -16.497216 -1.404197 -17.508540 -16.497216 -1.47130   \n",
       "100_1053_DCM_123_948 -34.970801 -1.757483 -36.197482 -34.970801 -3.52281   \n",
       "100_1100_DCM_129_15  -38.877332 -2.678006 -40.843937 -38.877332 -2.83638   \n",
       "...                         ...       ...        ...        ...      ...   \n",
       "100_979_DCM_115_117  -15.129841 -1.104415 -15.793819 -15.129841 -1.09235   \n",
       "100_983_DCM_116_25   -44.367339 -2.568431 -46.111346 -44.367339 -3.69630   \n",
       "100_986_DCM_116_989  -24.987267 -1.390889 -25.979675 -24.987267 -3.39350   \n",
       "100_98_DCM_12_534    -38.295094 -2.656555 -40.165244 -38.295094 -1.78878   \n",
       "100_992_DCM_117_761  -34.408689 -2.713965 -36.080307 -34.408689 -2.47999   \n",
       "\n",
       "                         ELECm  ELECnull  DUMMY  \n",
       "100_1018_DCM_120_967  -5.55673      -0.0    0.0  \n",
       "100_1019_DCM_120_565  -7.65099      -0.0    0.0  \n",
       "100_1024_DCM_121_932  -4.03920      -0.0    0.0  \n",
       "100_1053_DCM_123_948  -8.05686      -0.0    0.0  \n",
       "100_1100_DCM_129_15   -9.75593      -0.0    0.0  \n",
       "...                        ...       ...    ...  \n",
       "100_979_DCM_115_117   -3.17565      -0.0    0.0  \n",
       "100_983_DCM_116_25   -10.24308      -0.0    0.0  \n",
       "100_986_DCM_116_989   -8.05472      -0.0    0.0  \n",
       "100_98_DCM_12_534     -9.19456      -0.0    0.0  \n",
       "100_992_DCM_117_761   -7.96244      -0.0    0.0  \n",
       "\n",
       "[200 rows x 19 columns]"
      ]
     },
     "execution_count": 19,
     "metadata": {},
     "output_type": "execute_result"
    }
   ],
   "source": [
    "test.data"
   ]
  },
  {
   "cell_type": "code",
   "execution_count": 9,
   "id": "7f73c49e-316e-4d0f-a86d-6369467c23e3",
   "metadata": {},
   "outputs": [
    {
     "data": {
      "text/plain": [
       "<AxesSubplot:xlabel='VDW', ylabel='intE'>"
      ]
     },
     "execution_count": 9,
     "metadata": {},
     "output_type": "execute_result"
    },
    {
     "data": {
      "image/png": "[encoded data removed]",
      "text/plain": [
       "<Figure size 800x600 with 1 Axes>"
      ]
     },
     "metadata": {},
     "output_type": "display_data"
    }
   ],
   "source": [
    "test.data.plot.scatter(\"VDW\", \"intE\")"
   ]
  },
  {
   "cell_type": "code",
   "execution_count": 86,
   "id": "4cd8c2a3-d6a7-4030-a5c7-d6d487bfe0f9",
   "metadata": {},
   "outputs": [],
   "source": [
    "parms = [\n",
    "            2.01, 1.9100, 1.340,\n",
    "        -0.0560, -0.3430, -0.0240,\n",
    "        ]\n",
    "\n",
    "# parms = [\n",
    "#             2.01, 1.340, 1.9100, \n",
    "#         -0.0560, -0.0240 , -0.3430,\n",
    "#         ]\n",
    "\n",
    "# parms = [\n",
    "#             1.340, 2.01, 1.9100, \n",
    "#         -0.3430, -0.0560,  -0.0240,\n",
    "\n",
    "#         ]\n",
    "\n",
    "# parms = [\n",
    "#             1.9100, 1.340, 2.01,  \n",
    "#         -0.0240, -0.3430, -0.0560,  \n",
    "\n",
    "#         ]\n",
    "\n",
    "eval_cgenff = test.eval_jax(parms)"
   ]
  },
  {
   "cell_type": "code",
   "execution_count": 96,
   "id": "840ccc9d-e752-429a-88ed-0ec15e13b5c7",
   "metadata": {},
   "outputs": [
    {
     "data": {
      "text/plain": [
       "Array([-30.331955, -37.75677 , -30.511642, -32.019936, -33.841618,\n",
       "       -34.30552 , -27.97274 , -24.445364, -20.921299, -30.14459 ,\n",
       "       -24.427063, -28.856915, -37.48755 , -31.720383, -31.76912 ,\n",
       "       -37.55129 , -31.756544, -20.687592, -39.185738, -28.60117 ,\n",
       "       -38.5154  , -34.468113, -25.745722, -23.027472, -30.220402,\n",
       "       -35.08088 , -45.293015, -25.04704 , -25.8171  , -36.8731  ,\n",
       "       -37.27352 , -20.063063, -28.377586, -32.73304 , -29.141687,\n",
       "       -32.178703, -37.458904, -31.351353, -38.877007, -27.495968,\n",
       "       -29.75855 , -40.04268 , -30.405945, -35.2497  , -28.002716,\n",
       "       -38.761528, -34.77413 , -21.775414, -22.276289, -29.40649 ,\n",
       "       -34.70015 , -38.674786, -25.483046, -40.273827, -27.71378 ,\n",
       "       -46.797646, -35.577576, -32.539257, -41.01809 , -30.844566,\n",
       "       -28.798267, -34.09513 , -48.035294, -45.673985, -34.705566,\n",
       "       -23.118647, -40.2599  , -33.256374, -26.469858, -35.49514 ,\n",
       "       -20.266409, -36.4033  , -26.086414, -16.086754, -35.339348,\n",
       "       -38.538727, -28.814716, -19.490248, -24.088543, -26.059639,\n",
       "       -19.971712, -35.193745, -37.19442 , -36.728554, -21.999592,\n",
       "       -31.760887, -32.522987, -37.727283, -39.696484, -25.500582,\n",
       "       -29.217272, -23.99614 , -27.006844, -40.373817, -35.210377,\n",
       "       -39.151283, -26.626476, -16.330616, -32.32918 , -22.990383,\n",
       "       -26.272526, -42.119953, -41.05142 , -43.31054 , -36.27469 ,\n",
       "       -31.613922, -17.753239, -36.00879 , -28.121319, -27.896893,\n",
       "       -35.20625 , -36.99974 , -33.335056, -26.26821 , -39.555202,\n",
       "       -29.955744, -29.44944 , -27.156485, -30.508291, -44.34343 ,\n",
       "       -23.652763, -19.807133, -29.685593, -28.083485, -33.79656 ,\n",
       "       -29.019564, -24.125261, -28.79327 , -35.02477 , -38.48174 ,\n",
       "       -32.34495 , -35.620667, -27.230488, -40.264336, -38.887737,\n",
       "       -36.896545, -29.21333 , -36.88998 , -21.47012 , -31.781258,\n",
       "       -43.595303, -28.623367, -17.144665, -23.540022, -26.895424,\n",
       "       -28.86529 , -39.502743, -38.49921 , -38.95421 , -34.912277,\n",
       "       -27.04851 , -26.47156 , -41.764923, -35.90651 , -29.693764,\n",
       "       -43.01058 , -25.540764, -38.640633, -41.72602 , -34.1846  ,\n",
       "       -36.883636, -25.809278, -41.197342, -37.580208, -27.36578 ,\n",
       "       -26.99559 , -38.644424, -34.531773, -38.822025, -28.333921,\n",
       "       -34.659782, -36.65639 , -31.507685, -42.641792, -29.922657,\n",
       "       -37.577164, -31.009838, -41.708607, -40.767803, -22.570211,\n",
       "       -41.772686, -41.619972, -26.450024, -28.00309 , -38.371807,\n",
       "       -26.822216, -27.471832, -38.12777 , -28.514973, -33.016754,\n",
       "       -39.856297, -23.53384 , -31.04789 , -24.389187, -38.48055 ,\n",
       "       -30.236431, -37.6674  , -29.774221, -39.648   , -36.61226 ],      dtype=float32)"
      ]
     },
     "execution_count": 96,
     "metadata": {},
     "output_type": "execute_result"
    }
   ],
   "source": [
    "eval_cgenff[0]"
   ]
  },
  {
   "cell_type": "code",
   "execution_count": 114,
   "id": "4cc4072c-d109-4722-9460-f0c20415f2fe",
   "metadata": {},
   "outputs": [
    {
     "name": "stderr",
     "output_type": "stream",
     "text": [
      "DEBUG:matplotlib.backends.backend_pdf:Assigning font /b'F1' = b'cmsy10' (dvi)\n",
      "2023-09-14 15:05:17 | DEBUG | backend_pdf:dviFontName:899 - Assigning font /b'F1' = b'cmsy10' (dvi)\n",
      "DEBUG:matplotlib.backends.backend_pdf:Assigning font /b'F2' = b'cmr17' (dvi)\n",
      "2023-09-14 15:05:17 | DEBUG | backend_pdf:dviFontName:899 - Assigning font /b'F2' = b'cmr17' (dvi)\n",
      "DEBUG:matplotlib.backends.backend_pdf:Assigning font /b'F3' = b'cmss17' (dvi)\n",
      "2023-09-14 15:05:17 | DEBUG | backend_pdf:dviFontName:899 - Assigning font /b'F3' = b'cmss17' (dvi)\n",
      "DEBUG:matplotlib.backends.backend_pdf:Embedding Type-1 font b'cmr17' from dvi.\n",
      "2023-09-14 15:05:17 | DEBUG | backend_pdf:writeFonts:913 - Embedding Type-1 font b'cmr17' from dvi.\n",
      "DEBUG:matplotlib.backends.backend_pdf:Embedding TeX font b'cmr17' - fontinfo={'dvifont': <DviFont: b'cmr17'>, 'pdfname': <Name b'F2'>, 'fontfile': '/usr/share/texlive/texmf-dist/fonts/type1/public/amsfonts/cm/cmr17.pfb', 'basefont': b'CMR17', 'encodingfile': None, 'effects': {}}\n",
      "2023-09-14 15:05:17 | DEBUG | backend_pdf:_embedTeXFont:943 - Embedding TeX font b'cmr17' - fontinfo={'dvifont': <DviFont: b'cmr17'>, 'pdfname': <Name b'F2'>, 'fontfile': '/usr/share/texlive/texmf-dist/fonts/type1/public/amsfonts/cm/cmr17.pfb', 'basefont': b'CMR17', 'encodingfile': None, 'effects': {}}\n",
      "DEBUG:matplotlib.backends.backend_pdf:Embedding Type-1 font b'cmss17' from dvi.\n",
      "2023-09-14 15:05:17 | DEBUG | backend_pdf:writeFonts:913 - Embedding Type-1 font b'cmss17' from dvi.\n",
      "DEBUG:matplotlib.backends.backend_pdf:Embedding TeX font b'cmss17' - fontinfo={'dvifont': <DviFont: b'cmss17'>, 'pdfname': <Name b'F3'>, 'fontfile': '/usr/share/texlive/texmf-dist/fonts/type1/public/amsfonts/cm/cmss17.pfb', 'basefont': b'CMSS17', 'encodingfile': None, 'effects': {}}\n",
      "2023-09-14 15:05:17 | DEBUG | backend_pdf:_embedTeXFont:943 - Embedding TeX font b'cmss17' - fontinfo={'dvifont': <DviFont: b'cmss17'>, 'pdfname': <Name b'F3'>, 'fontfile': '/usr/share/texlive/texmf-dist/fonts/type1/public/amsfonts/cm/cmss17.pfb', 'basefont': b'CMSS17', 'encodingfile': None, 'effects': {}}\n",
      "DEBUG:matplotlib.backends.backend_pdf:Embedding Type-1 font b'cmsy10' from dvi.\n",
      "2023-09-14 15:05:17 | DEBUG | backend_pdf:writeFonts:913 - Embedding Type-1 font b'cmsy10' from dvi.\n",
      "DEBUG:matplotlib.backends.backend_pdf:Embedding TeX font b'cmsy10' - fontinfo={'dvifont': <DviFont: b'cmsy10'>, 'pdfname': <Name b'F1'>, 'fontfile': '/usr/share/texlive/texmf-dist/fonts/type1/public/amsfonts/cm/cmsy10.pfb', 'basefont': b'CMSY10', 'encodingfile': None, 'effects': {}}\n",
      "2023-09-14 15:05:17 | DEBUG | backend_pdf:_embedTeXFont:943 - Embedding TeX font b'cmsy10' - fontinfo={'dvifont': <DviFont: b'cmsy10'>, 'pdfname': <Name b'F1'>, 'fontfile': '/usr/share/texlive/texmf-dist/fonts/type1/public/amsfonts/cm/cmsy10.pfb', 'basefont': b'CMSY10', 'encodingfile': None, 'effects': {}}\n"
     ]
    },
    {
     "data": {
      "image/png": "[encoded data removed]",
      "text/plain": [
       "<Figure size 800x600 with 1 Axes>"
      ]
     },
     "metadata": {},
     "output_type": "display_data"
    }
   ],
   "source": [
    "from matplotlib import rcParams\n",
    "rcParams['font.family'] = 'sans-serif'\n",
    "\n",
    "plt.scatter(test.data[\"VDW\"], eval_cgenff[0])\n",
    "plt.xlim(-45, 0)\n",
    "plt.ylim(-45, 0)\n",
    "plt.plot([-45, 0], [-45, 0])\n",
    "plt.ylabel(\"LJ fitting code [kcal/mol]\")\n",
    "plt.xlabel(\"CHARMM LJ [kcal/mol]\")\n",
    "\n",
    "np.mean((test.data[\"VDW\"] - eval_cgenff[0])**2)**0.5\n",
    "plt.savefig(\"230914_dcm_charmm_LJ.pdf\", bbox_bounds=\"tight\")"
   ]
  },
  {
   "cell_type": "code",
   "execution_count": 117,
   "id": "81383f52-ca92-44e5-bbb2-9cb37c707c6f",
   "metadata": {},
   "outputs": [
    {
     "name": "stderr",
     "output_type": "stream",
     "text": [
      "DEBUG:matplotlib.backends.backend_pdf:Assigning font /b'F1' = b'cmsy10' (dvi)\n",
      "2023-09-14 15:14:24 | DEBUG | backend_pdf:dviFontName:899 - Assigning font /b'F1' = b'cmsy10' (dvi)\n",
      "DEBUG:matplotlib.backends.backend_pdf:Assigning font /b'F2' = b'cmr17' (dvi)\n",
      "2023-09-14 15:14:24 | DEBUG | backend_pdf:dviFontName:899 - Assigning font /b'F2' = b'cmr17' (dvi)\n",
      "DEBUG:matplotlib.backends.backend_pdf:Assigning font /b'F3' = b'cmss17' (dvi)\n",
      "2023-09-14 15:14:24 | DEBUG | backend_pdf:dviFontName:899 - Assigning font /b'F3' = b'cmss17' (dvi)\n",
      "DEBUG:matplotlib.backends.backend_pdf:Embedding Type-1 font b'cmr17' from dvi.\n",
      "2023-09-14 15:14:24 | DEBUG | backend_pdf:writeFonts:913 - Embedding Type-1 font b'cmr17' from dvi.\n",
      "DEBUG:matplotlib.backends.backend_pdf:Embedding TeX font b'cmr17' - fontinfo={'dvifont': <DviFont: b'cmr17'>, 'pdfname': <Name b'F2'>, 'fontfile': '/usr/share/texlive/texmf-dist/fonts/type1/public/amsfonts/cm/cmr17.pfb', 'basefont': b'CMR17', 'encodingfile': None, 'effects': {}}\n",
      "2023-09-14 15:14:24 | DEBUG | backend_pdf:_embedTeXFont:943 - Embedding TeX font b'cmr17' - fontinfo={'dvifont': <DviFont: b'cmr17'>, 'pdfname': <Name b'F2'>, 'fontfile': '/usr/share/texlive/texmf-dist/fonts/type1/public/amsfonts/cm/cmr17.pfb', 'basefont': b'CMR17', 'encodingfile': None, 'effects': {}}\n",
      "DEBUG:matplotlib.backends.backend_pdf:Embedding Type-1 font b'cmss17' from dvi.\n",
      "2023-09-14 15:14:24 | DEBUG | backend_pdf:writeFonts:913 - Embedding Type-1 font b'cmss17' from dvi.\n",
      "DEBUG:matplotlib.backends.backend_pdf:Embedding TeX font b'cmss17' - fontinfo={'dvifont': <DviFont: b'cmss17'>, 'pdfname': <Name b'F3'>, 'fontfile': '/usr/share/texlive/texmf-dist/fonts/type1/public/amsfonts/cm/cmss17.pfb', 'basefont': b'CMSS17', 'encodingfile': None, 'effects': {}}\n",
      "2023-09-14 15:14:24 | DEBUG | backend_pdf:_embedTeXFont:943 - Embedding TeX font b'cmss17' - fontinfo={'dvifont': <DviFont: b'cmss17'>, 'pdfname': <Name b'F3'>, 'fontfile': '/usr/share/texlive/texmf-dist/fonts/type1/public/amsfonts/cm/cmss17.pfb', 'basefont': b'CMSS17', 'encodingfile': None, 'effects': {}}\n",
      "DEBUG:matplotlib.backends.backend_pdf:Embedding Type-1 font b'cmsy10' from dvi.\n",
      "2023-09-14 15:14:24 | DEBUG | backend_pdf:writeFonts:913 - Embedding Type-1 font b'cmsy10' from dvi.\n",
      "DEBUG:matplotlib.backends.backend_pdf:Embedding TeX font b'cmsy10' - fontinfo={'dvifont': <DviFont: b'cmsy10'>, 'pdfname': <Name b'F1'>, 'fontfile': '/usr/share/texlive/texmf-dist/fonts/type1/public/amsfonts/cm/cmsy10.pfb', 'basefont': b'CMSY10', 'encodingfile': None, 'effects': {}}\n",
      "2023-09-14 15:14:24 | DEBUG | backend_pdf:_embedTeXFont:943 - Embedding TeX font b'cmsy10' - fontinfo={'dvifont': <DviFont: b'cmsy10'>, 'pdfname': <Name b'F1'>, 'fontfile': '/usr/share/texlive/texmf-dist/fonts/type1/public/amsfonts/cm/cmsy10.pfb', 'basefont': b'CMSY10', 'encodingfile': None, 'effects': {}}\n"
     ]
    },
    {
     "data": {
      "image/png": "[encoded data removed]",
      "text/plain": [
       "<Figure size 800x600 with 1 Axes>"
      ]
     },
     "metadata": {},
     "output_type": "display_data"
    }
   ],
   "source": [
    "from matplotlib import rcParams\n",
    "rcParams['font.family'] = 'sans-serif'\n",
    "\n",
    "plt.scatter(test.data[\"intE\"] , eval_cgenff[0] + test.data[\"ELECp\"])\n",
    "plt.scatter(test.data[\"intE\"] , test.data[\"VDW\"] + test.data[\"ELECp\"])\n",
    "\n",
    "min_lim = -50\n",
    "\n",
    "plt.xlim(min_lim, 0)\n",
    "plt.ylim(min_lim, 0)\n",
    "plt.plot([min_lim, 0], [min_lim, 0])\n",
    "plt.ylabel(\"intE [kcal/mol]\")\n",
    "plt.xlabel(\"CHARMM LJ + ELEC [kcal/mol]\")\n",
    "\n",
    "np.mean((test.data[\"VDW\"] - eval_cgenff[0])**2)**0.5\n",
    "plt.savefig(\"230914_dcm_charmm_LJ_ELEC_comparison.pdf\", bbox_bounds=\"tight\")"
   ]
  },
  {
   "cell_type": "code",
   "execution_count": 95,
   "id": "d4ba3cf9-117a-400e-b770-988a984e34e9",
   "metadata": {},
   "outputs": [
    {
     "data": {
      "text/plain": [
       "2.117648479205634"
      ]
     },
     "execution_count": 95,
     "metadata": {},
     "output_type": "execute_result"
    }
   ],
   "source": []
  },
  {
   "cell_type": "code",
   "execution_count": 119,
   "id": "68e4f1f7-6459-48ac-91bf-3ba04761d63d",
   "metadata": {},
   "outputs": [],
   "source": [
    "# test.out_groups"
   ]
  },
  {
   "cell_type": "code",
   "execution_count": 118,
   "id": "9e06f139-72ea-4fa0-a535-80528f721e86",
   "metadata": {},
   "outputs": [],
   "source": [
    "# plt.plot(list(range(len(test.out_akps))), test.out_akps)"
   ]
  },
  {
   "cell_type": "code",
   "execution_count": 49,
   "id": "f8033dee-5322-438a-a632-18a9d6c231b8",
   "metadata": {},
   "outputs": [
    {
     "data": {
      "text/plain": [
       "2"
      ]
     },
     "execution_count": 49,
     "metadata": {},
     "output_type": "execute_result"
    }
   ],
   "source": [
    "6//3\n"
   ]
  },
  {
   "cell_type": "code",
   "execution_count": 50,
   "id": "e73ade51-451f-4730-a616-e4f1a59f1347",
   "metadata": {},
   "outputs": [
    {
     "data": {
      "text/plain": [
       "2.0"
      ]
     },
     "execution_count": 50,
     "metadata": {},
     "output_type": "execute_result"
    }
   ],
   "source": [
    "6.0//3"
   ]
  },
  {
   "cell_type": "code",
   "execution_count": null,
   "id": "5f8853e5-d075-43b0-bdd2-362ecbe151b2",
   "metadata": {},
   "outputs": [],
   "source": []
  }
 ],
 "metadata": {
  "kernelspec": {
   "display_name": "pycharmm",
   "language": "python",
   "name": "pycharmm"
  },
  "language_info": {
   "codemirror_mode": {
    "name": "ipython",
    "version": 3
   },
   "file_extension": ".py",
   "mimetype": "text/x-python",
   "name": "python",
   "nbconvert_exporter": "python",
   "pygments_lexer": "ipython3",
   "version": "3.8.16"
  }
 },
 "nbformat": 4,
 "nbformat_minor": 5
}
