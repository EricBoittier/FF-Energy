{
 "cells": [
  {
   "cell_type": "markdown",
   "id": "297677a6-5680-40f8-8157-7f8a56a4fd3f",
   "metadata": {},
   "source": [
    "#  Jobs"
   ]
  },
  {
   "cell_type": "code",
   "execution_count": 2,
   "id": "e4bb85b2-fff5-4b3f-8186-2ae9c4c9b193",
   "metadata": {},
   "outputs": [
    {
     "name": "stdout",
     "output_type": "stream",
     "text": [
      "The autoreload extension is already loaded. To reload it, use:\n",
      "  %reload_ext autoreload\n"
     ]
    }
   ],
   "source": [
    "%load_ext autoreload\n",
    "%autoreload 2\n",
    "\n",
    "from pathlib import Path\n",
    "\n",
    "from ff_energy.latex_writer.report import Report\n",
    "from ff_energy.latex_writer.energy_data_report import EnergyReport\n",
    "from ff_energy.latex_writer.figure import Figure\n",
    "from ff_energy.latex_writer.format import safe_latex_string\n",
    "import pandas as pd\n",
    "from ff_energy.plotting.data_plots import DataPlots\n",
    "import matplotlib.pyplot as plt\n",
    "import seaborn as sns\n",
    "import scipy as sp\n"
   ]
  },
  {
   "cell_type": "code",
   "execution_count": 3,
   "id": "5ff74a9b-4e41-4b39-aa30-1cf78d1e8e1c",
   "metadata": {},
   "outputs": [],
   "source": [
    "#python ff_energy/ffe/cli.py -d -m dcm -t pbe0dz -e mdcm -v -msp /home/boittier/pcbach\n"
   ]
  },
  {
   "cell_type": "code",
   "execution_count": null,
   "id": "5acff149-e9ba-486c-a55d-738024f00b57",
   "metadata": {},
   "outputs": [],
   "source": [
    "# python ff_energy/ffe/cli.py -d -m ions_ext -t pbe0dz -e pc -v -msp /home/boittier/pcbach"
   ]
  },
  {
   "cell_type": "code",
   "execution_count": 4,
   "id": "e5361711-e00d-4bcd-a35e-bbbf80210606",
   "metadata": {},
   "outputs": [],
   "source": [
    "#  Coulomb jobs (not working)\n",
    "# python ff_energy/ffe/cli.py -m dcm -t pbe0dz -e mdcm -cj -s -msp  /home/boittier/pcbach\n"
   ]
  },
  {
   "cell_type": "code",
   "execution_count": 5,
   "id": "376ae3a9-fb07-4692-a8ed-3584d0ed9ee6",
   "metadata": {
    "collapsed": true,
    "jupyter": {
     "outputs_hidden": true
    },
    "tags": []
   },
   "outputs": [
    {
     "name": "stderr",
     "output_type": "stream",
     "text": [
      "2023-08-28 16:54:24 | DEBUG | __init__:process_initializer_module:72 - Initializing MLIR with module: _site_initialize_0\n",
      "2023-08-28 16:54:24 | DEBUG | __init__:process_initializer_module:74 - Registering dialects from initializer <module 'jaxlib.mlir._mlir_libs._site_initialize_0' from '/home/boittier/miniconda3/envs/pycharmm/lib/python3.8/site-packages/jaxlib/mlir/_mlir_libs/_site_initialize_0.so'>\n",
      "2023-08-28 16:54:24 | DEBUG | path:<module>:29 - etils.epath found. Using etils.epath for file I/O.\n"
     ]
    },
    {
     "name": "stdout",
     "output_type": "stream",
     "text": [
      "['test467', 'test263', 'test35', 'test223', 'test254', 'test273', 'test57', 'test305', 'test478', 'test97', 'test297', 'test86', 'test416', 'test471', 'test32', 'test366', 'test232', 'test117', 'test89', 'test365', 'test37', 'test330', 'test96', 'test70', 'test298', 'test395', 'test186', 'test196', 'test30', 'test405', 'test375', 'test241', 'test8', 'test73', 'test121', 'test483', 'test458', 'test136', 'test251', 'test328', 'test193', 'test18', 'test301', 'test473', 'test28', 'test248', 'test211', 'test280', 'test367', 'test244', 'test83', 'test440', 'test370', 'test162', 'test341', 'test222', 'test154', 'test168', 'test308', 'test498', 'test79', 'test496', 'test124', 'test475', 'test418', 'test33', 'test335', 'test105', 'test448', 'test406', 'test413', 'test420', 'test401', 'test77', 'test250', 'test348', 'test106', 'test425', 'test470', 'test155', 'test450', 'test412', 'test334', 'test431', 'test343', 'test495', 'test362', 'test379', 'test453', 'test378', 'test13', 'test238', 'test170', 'test253', 'test104', 'test355', 'test249', 'test160', 'test468', 'test282', 'test239', 'test114', 'test275', 'test47', 'test87', 'test329', 'test27', 'test41', 'test439', 'test24', 'test183', 'test141', 'test437', 'test312', 'test112', 'test189', 'test404', 'test434', 'test118', 'test127', 'test487', 'test63', 'test423', 'test497', 'test176', 'test76', 'test403', 'test402', 'test192', 'test132', 'test143', 'test206', 'test407', 'test122', 'test452', 'test172', 'test243', 'test91', 'test129', 'test433', 'test93', 'test339', 'test311', 'test17', 'test267', 'test200', 'test482', 'test377', 'test380', 'test484', 'test133', 'test0', 'test488', 'test212', 'test145', 'test198', 'test424', 'test216', 'test128', 'test201', 'test95', 'test346', 'test15', 'test199', 'test277', 'test417', 'test270', 'test150', 'test392', 'test38', 'test480', 'test6', 'test324', 'test426', 'test1', 'test481', 'test110', 'test315', 'test12', 'test179', 'test203', 'test231', 'test268', 'test353', 'test219', 'test354', 'test130', 'test60', 'test74', 'test75', 'test43', 'test149', 'test295', 'test50', 'test135', 'test4', 'test194', 'test242', 'test331', 'test62', 'test82', 'test259', 'test240', 'test14', 'test262', 'test357', 'test271', 'test294', 'test279', 'test31', 'test126', 'test414', 'test153', 'test290', 'test389', 'test292', 'test388', 'test447', 'test191', 'test230', 'test184', 'test333', 'test456', 'test98', 'test209', 'test347', 'test372', 'test432', 'test382', 'test237', 'test314', 'test210', 'test332', 'test272', 'test139', 'test326', 'test438', 'test56', 'test80', 'test34', 'test322', 'test285', 'test16', 'test234', 'test265', 'test84', 'test71', 'test261', 'test435', 'test187', 'test363', 'test90', 'test151', 'test445', 'test351', 'test161', 'test146', 'test224', 'test64', 'test430', 'test159', 'test61', 'test485', 'test400', 'test398', 'test44', 'test22', 'test385', 'test220', 'test51', 'test205', 'test444', 'test278', 'test120', 'test180', 'test446', 'test336', 'test7', 'test393', 'test399', 'test20', 'test21', 'test246', 'test101', 'test195', 'test427', 'test356', 'test119', 'test81', 'test390', 'test69', 'test108', 'test68', 'test5', 'test59', 'test229', 'test156', 'test115', 'test111', 'test466', 'test88', 'test11', 'test287', 'test360', 'test167', 'test190', 'test384', 'test323', 'test469', 'test300', 'test411', 'test289', 'test342', 'test493', 'test491', 'test338', 'test302', 'test490', 'test257', 'test374', 'test148', 'test142', 'test225', 'test359', 'test213', 'test364', 'test92', 'test373', 'test387', 'test286', 'test350', 'test352', 'test147', 'test461', 'test123', 'test325', 'test227', 'test472', 'test55', 'test316', 'test337', 'test54', 'test174', 'test429', 'test109', 'test306', 'test291', 'test358', 'test451', 'test29', 'test107', 'test260', 'test310', 'test449', 'test19', 'test103', 'test421', 'test299', 'test138', 'test283', 'test396', 'test368', 'test9', 'test125', 'test207', 'test419', 'test39', 'test264', 'test307', 'test169', 'test181', 'test371', 'test266', 'test318', 'test376', 'test269', 'test454', 'test340', 'test72', 'test317', 'test408', 'test26', 'test457', 'test173', 'test40', 'test221', 'test204', 'test131', 'test134', 'test303', 'test214', 'test258', 'test460', 'test344', 'test102', 'test252', 'test313', 'test369', 'test494', 'test202', 'test157', 'test465', 'test474', 'test99', 'test182', 'test3', 'test477', 'test10', 'test394', 'test23', 'test349', 'test226', 'test383', 'test255', 'test428', 'test137', 'test2', 'test218', 'test158', 'test233', 'test67', 'test442', 'test42', 'test486', 'test140', 'test415', 'test53', 'test236', 'test321', 'test217', 'test228', 'test410', 'test215', 'test208', 'test188', 'test144', 'test36', 'test345', 'test492', 'test391', 'test175', 'test441', 'test197', 'test288', 'test235', 'test85', 'test320', 'test163', 'test409', 'test171', 'test94', 'test281', 'test25', 'test479', 'test78', 'test49', 'test65', 'test309', 'test178', 'test463', 'test397', 'test296', 'test293', 'test319', 'test177', 'test464', 'test284', 'test274', 'test58', 'test443', 'test455', 'test462', 'test52', 'test459', 'test166', 'test45', 'test361', 'test116', 'test245', 'test164', 'test276', 'test386', 'test113', 'test256', 'test247', 'test422', 'test499', 'test152', 'test165', 'test46', 'test476', 'test436', 'test48', 'test381', 'test489', 'test100', 'test304', 'test327', 'test185', 'test66']\n",
      "['100_3502_DCM_408_572', '100_2276_DCM_266_608', '100_3572_DCM_416_1180', '100_3280_DCM_382_1167', '100_801_DCM_95_801', '100_2760_DCM_321_82', '100_243_DCM_30_1008', '100_2413_DCM_282_1216', '100_1145_DCM_134_647', '100_3050_DCM_355_1200', '100_2573_DCM_300_1224', '100_3448_DCM_402_770', '100_3949_DCM_460_671', '100_3994_DCM_465_1089', '100_4229_DCM_493_872', '100_3373_DCM_394_305', '100_805_DCM_95_541', '100_2875_DCM_335_616', '100_1053_DCM_123_948', '100_186_DCM_22_540', '100_884_DCM_104_631', '100_1478_DCM_173_327', '100_3077_DCM_358_192', '100_2261_DCM_264_778', '100_1159_DCM_136_357', '100_1685_DCM_197_292', '100_3423_DCM_399_686', '100_3352_DCM_391_80', '100_2364_DCM_276_1213', '100_1878_DCM_219_912', '100_1311_DCM_153_256', '100_3700_DCM_431_497', '100_986_DCM_116_989', '100_4119_DCM_480_170', '100_2614_DCM_304_648', '100_3349_DCM_391_870', '100_1290_DCM_151_1133', '100_2672_DCM_311_611', '100_4244_DCM_495_476', '100_617_DCM_72_420', '100_2270_DCM_265_928', '100_4056_DCM_472_500', '100_2121_DCM_248_916', '100_938_DCM_111_558', '100_3570_DCM_416_422', '100_4322_DCM_499_988', '100_2008_DCM_235_1221', '100_1594_DCM_187_1084', '100_3431_DCM_400_472', '100_3151_DCM_367_781', '100_1018_DCM_120_967', '100_2038_DCM_238_39', '100_2905_DCM_338_511', '100_2368_DCM_276_925', '100_3856_DCM_449_273', '100_410_DCM_48_226', '100_1612_DCM_189_1176', '100_979_DCM_115_117', '100_3284_DCM_383_995', '100_3397_DCM_396_556', '100_3220_DCM_375_217', '100_3042_DCM_354_819', '100_1756_DCM_205_212', '100_2402_DCM_280_895', '100_2625_DCM_305_710', '100_2097_DCM_245_1085', '100_745_DCM_88_1033', '100_46_DCM_5_865', '100_941_DCM_111_580', '100_3029_DCM_353_321', '100_3730_DCM_434_1168', '100_3717_DCM_433_693', '100_3964_DCM_461_390', '100_1024_DCM_121_932', '100_2510_DCM_293_538', '100_3796_DCM_442_1045', '100_331_DCM_40_843', '100_1237_DCM_145_421', '100_2761_DCM_321_860', '100_2233_DCM_261_1095', '100_983_DCM_116_25', '100_961_DCM_113_122', '100_3575_DCM_416_1033', '100_1165_DCM_136_58', '100_1167_DCM_136_1261', '100_782_DCM_92_432', '100_2673_DCM_311_998', '100_3752_DCM_437_248', '100_2018_DCM_236_465', '100_75_DCM_9_501', '100_1920_DCM_225_16', '100_3236_DCM_377_983', '100_4227_DCM_493_1089', '100_1882_DCM_220_250', '100_3552_DCM_414_903', '100_3140_DCM_365_926', '100_3698_DCM_431_180', '100_1566_DCM_183_989', '100_3627_DCM_423_765', '100_141_DCM_17_992', '100_98_DCM_12_534', '100_14_DCM_1_1073', '100_1292_DCM_151_1088', '100_3770_DCM_439_744', '100_766_DCM_90_1212', '100_2242_DCM_262_349', '100_3855_DCM_449_933', '100_1748_DCM_204_170', '100_3296_DCM_384_447', '100_161_DCM_19_39', '100_3911_DCM_455_283', '100_240_DCM_29_59', '100_534_DCM_62_847', '100_2611_DCM_304_1090', '100_211_DCM_25_379', '100_2358_DCM_275_336', '100_3367_DCM_393_850', '100_1315_DCM_153_444', '100_761_DCM_90_525', '100_3916_DCM_456_603', '100_2793_DCM_325_1254', '100_821_DCM_97_703', '100_3362_DCM_392_48', '100_4021_DCM_468_881', '100_34_DCM_4_167', '100_2330_DCM_272_1084', '100_3070_DCM_357_136', '100_2606_DCM_304_962', '100_3612_DCM_421_210', '100_992_DCM_117_761', '100_78_DCM_9_1170', '100_2737_DCM_318_667', '100_2756_DCM_320_711', '100_1149_DCM_135_575', '100_4193_DCM_489_872', '100_4096_DCM_477_1221', '100_2985_DCM_348_891', '100_4247_DCM_495_215', '100_2698_DCM_314_1207', '100_1675_DCM_196_519', '100_3157_DCM_368_445', '100_2574_DCM_300_21', '100_3531_DCM_411_991', '100_213_DCM_26_766', '100_3694_DCM_430_20', '100_1019_DCM_120_565', '100_94_DCM_11_711', '100_2393_DCM_279_926', '100_1294_DCM_151_334', '100_3638_DCM_424_264', '100_4260_DCM_497_668', '100_1100_DCM_129_15', '100_672_DCM_79_1162', '100_2990_DCM_349_1039', '100_740_DCM_87_598', '100_3729_DCM_434_267', '100_3675_DCM_428_858', '100_3451_DCM_402_111', '100_1399_DCM_164_559', '100_1398_DCM_164_230', '100_646_DCM_76_1117', '100_2881_DCM_335_766', '100_1488_DCM_174_715', '100_3396_DCM_396_527', '100_1615_DCM_189_939', '100_392_DCM_46_962', '100_1445_DCM_169_519', '100_3505_DCM_408_437', '100_2620_DCM_305_234', '100_3649_DCM_425_245', '100_2290_DCM_267_1037', '100_2580_DCM_300_17', '100_3268_DCM_381_641', '100_3550_DCM_413_408', '100_1774_DCM_207_229', '100_2120_DCM_248_555', '100_301_DCM_36_536', '100_2225_DCM_260_1024', '100_1727_DCM_202_947', '100_2923_DCM_340_1137', '100_3591_DCM_418_520', '100_3890_DCM_453_221', '100_2753_DCM_320_460', '100_1849_DCM_216_299', '100_2981_DCM_348_307', '100_3441_DCM_401_687', '100_3677_DCM_428_489', '100_4087_DCM_476_1139', '100_585_DCM_68_794', '100_1598_DCM_187_1186', '100_2583_DCM_301_263', '100_1862_DCM_217_9', '100_2896_DCM_337_400', '100_659_DCM_77_449', '100_2677_DCM_311_23', '100_1430_DCM_167_437', '100_2948_DCM_343_1089', '100_2353_DCM_274_350', '100_2955_DCM_345_856', '100_2829_DCM_329_137', '100_1987_DCM_232_14']\n"
     ]
    },
    {
     "ename": "FileNotFoundError",
     "evalue": "[Errno 2] No such file or directory: '/home/boittier/Documents/phd/ff_energy/pickles/ions_ext.pkl'",
     "output_type": "error",
     "traceback": [
      "\u001b[0;31m---------------------------------------------------------------------------\u001b[0m",
      "\u001b[0;31mFileNotFoundError\u001b[0m                         Traceback (most recent call last)",
      "Cell \u001b[0;32mIn[5], line 18\u001b[0m\n\u001b[1;32m     12\u001b[0m plk_names \u001b[38;5;241m=\u001b[39m [\n\u001b[1;32m     13\u001b[0m     \u001b[38;5;124m\"\u001b[39m\u001b[38;5;124mWater clusters at PBE0/aug-dz\u001b[39m\u001b[38;5;124m\"\u001b[39m,\n\u001b[1;32m     14\u001b[0m     \u001b[38;5;124m\"\u001b[39m\u001b[38;5;124mDCM clusters at PBE0/aug-dz\u001b[39m\u001b[38;5;124m\"\u001b[39m,\n\u001b[1;32m     15\u001b[0m     \u001b[38;5;124m\"\u001b[39m\u001b[38;5;124mDCM clusters at PBE0/aug-dz\u001b[39m\u001b[38;5;124m\"\u001b[39m,\n\u001b[1;32m     16\u001b[0m ]\n\u001b[1;32m     17\u001b[0m er \u001b[38;5;241m=\u001b[39m EnergyReport(report_name\u001b[38;5;241m=\u001b[39m\u001b[38;5;124m\"\u001b[39m\u001b[38;5;124mReport_PBE0dz\u001b[39m\u001b[38;5;124m\"\u001b[39m)\n\u001b[0;32m---> 18\u001b[0m \u001b[43mer\u001b[49m\u001b[38;5;241;43m.\u001b[39;49m\u001b[43madd_pickles\u001b[49m\u001b[43m(\u001b[49m\u001b[43mpkl_paths\u001b[49m\u001b[43m,\u001b[49m\u001b[43m \u001b[49m\u001b[43mnames\u001b[49m\u001b[38;5;241;43m=\u001b[39;49m\u001b[43mplk_names\u001b[49m\u001b[43m,\u001b[49m\u001b[43m \u001b[49m\u001b[43mdescriptions\u001b[49m\u001b[38;5;241;43m=\u001b[39;49m\u001b[43mpkl_descriptions\u001b[49m\u001b[43m)\u001b[49m\n\u001b[1;32m     19\u001b[0m \u001b[38;5;66;03m# er.generate_data_report()\u001b[39;00m\n\u001b[1;32m     20\u001b[0m \u001b[38;5;66;03m# er.compile_report()\u001b[39;00m\n",
      "File \u001b[0;32m~/Documents/phd/ff_energy/ff_energy/latex_writer/energy_data_report.py:110\u001b[0m, in \u001b[0;36mEnergyReport.add_pickles\u001b[0;34m(self, pickle_paths, names, descriptions)\u001b[0m\n\u001b[1;32m    108\u001b[0m \u001b[38;5;28;01mif\u001b[39;00m path \u001b[38;5;129;01mnot\u001b[39;00m \u001b[38;5;129;01min\u001b[39;00m \u001b[38;5;28mself\u001b[39m\u001b[38;5;241m.\u001b[39mdata_keys:\n\u001b[1;32m    109\u001b[0m     \u001b[38;5;28mself\u001b[39m\u001b[38;5;241m.\u001b[39mdata_keys\u001b[38;5;241m.\u001b[39mappend(path)\n\u001b[0;32m--> 110\u001b[0m     \u001b[38;5;28;43mself\u001b[39;49m\u001b[38;5;241;43m.\u001b[39;49m\u001b[43mload_data\u001b[49m\u001b[43m(\u001b[49m\u001b[43mpath\u001b[49m\u001b[43m)\u001b[49m\n\u001b[1;32m    111\u001b[0m     \u001b[38;5;28mself\u001b[39m\u001b[38;5;241m.\u001b[39mdata_names\u001b[38;5;241m.\u001b[39mappend(names[i])\n\u001b[1;32m    112\u001b[0m     \u001b[38;5;28mself\u001b[39m\u001b[38;5;241m.\u001b[39mdata_descriptions\u001b[38;5;241m.\u001b[39mappend(descriptions[i])\n",
      "File \u001b[0;32m~/Documents/phd/ff_energy/ff_energy/latex_writer/energy_data_report.py:121\u001b[0m, in \u001b[0;36mEnergyReport.load_data\u001b[0;34m(self, pkl_path)\u001b[0m\n\u001b[1;32m    120\u001b[0m \u001b[38;5;28;01mdef\u001b[39;00m \u001b[38;5;21mload_data\u001b[39m(\u001b[38;5;28mself\u001b[39m, pkl_path):\n\u001b[0;32m--> 121\u001b[0m     \u001b[38;5;28mself\u001b[39m\u001b[38;5;241m.\u001b[39mdata\u001b[38;5;241m.\u001b[39mappend(\u001b[43mpd\u001b[49m\u001b[38;5;241;43m.\u001b[39;49m\u001b[43mread_pickle\u001b[49m\u001b[43m(\u001b[49m\u001b[43mpkl_path\u001b[49m\u001b[43m)\u001b[49m)\n\u001b[1;32m    122\u001b[0m     \u001b[38;5;28mself\u001b[39m\u001b[38;5;241m.\u001b[39mdata_plots\u001b[38;5;241m.\u001b[39mappend(DataPlots(\u001b[38;5;28mself\u001b[39m\u001b[38;5;241m.\u001b[39mdata[\u001b[38;5;241m-\u001b[39m\u001b[38;5;241m1\u001b[39m]))\n",
      "File \u001b[0;32m~/miniconda3/envs/pycharmm/lib/python3.8/site-packages/pandas/io/pickle.py:190\u001b[0m, in \u001b[0;36mread_pickle\u001b[0;34m(filepath_or_buffer, compression, storage_options)\u001b[0m\n\u001b[1;32m    124\u001b[0m \u001b[38;5;250m\u001b[39m\u001b[38;5;124;03m\"\"\"\u001b[39;00m\n\u001b[1;32m    125\u001b[0m \u001b[38;5;124;03mLoad pickled pandas object (or any object) from file.\u001b[39;00m\n\u001b[1;32m    126\u001b[0m \n\u001b[0;32m   (...)\u001b[0m\n\u001b[1;32m    187\u001b[0m \u001b[38;5;124;03m4    4    9\u001b[39;00m\n\u001b[1;32m    188\u001b[0m \u001b[38;5;124;03m\"\"\"\u001b[39;00m\n\u001b[1;32m    189\u001b[0m excs_to_catch \u001b[38;5;241m=\u001b[39m (\u001b[38;5;167;01mAttributeError\u001b[39;00m, \u001b[38;5;167;01mImportError\u001b[39;00m, \u001b[38;5;167;01mModuleNotFoundError\u001b[39;00m, \u001b[38;5;167;01mTypeError\u001b[39;00m)\n\u001b[0;32m--> 190\u001b[0m \u001b[38;5;28;01mwith\u001b[39;00m \u001b[43mget_handle\u001b[49m\u001b[43m(\u001b[49m\n\u001b[1;32m    191\u001b[0m \u001b[43m    \u001b[49m\u001b[43mfilepath_or_buffer\u001b[49m\u001b[43m,\u001b[49m\n\u001b[1;32m    192\u001b[0m \u001b[43m    \u001b[49m\u001b[38;5;124;43m\"\u001b[39;49m\u001b[38;5;124;43mrb\u001b[39;49m\u001b[38;5;124;43m\"\u001b[39;49m\u001b[43m,\u001b[49m\n\u001b[1;32m    193\u001b[0m \u001b[43m    \u001b[49m\u001b[43mcompression\u001b[49m\u001b[38;5;241;43m=\u001b[39;49m\u001b[43mcompression\u001b[49m\u001b[43m,\u001b[49m\n\u001b[1;32m    194\u001b[0m \u001b[43m    \u001b[49m\u001b[43mis_text\u001b[49m\u001b[38;5;241;43m=\u001b[39;49m\u001b[38;5;28;43;01mFalse\u001b[39;49;00m\u001b[43m,\u001b[49m\n\u001b[1;32m    195\u001b[0m \u001b[43m    \u001b[49m\u001b[43mstorage_options\u001b[49m\u001b[38;5;241;43m=\u001b[39;49m\u001b[43mstorage_options\u001b[49m\u001b[43m,\u001b[49m\n\u001b[1;32m    196\u001b[0m \u001b[43m\u001b[49m\u001b[43m)\u001b[49m \u001b[38;5;28;01mas\u001b[39;00m handles:\n\u001b[1;32m    197\u001b[0m \n\u001b[1;32m    198\u001b[0m     \u001b[38;5;66;03m# 1) try standard library Pickle\u001b[39;00m\n\u001b[1;32m    199\u001b[0m     \u001b[38;5;66;03m# 2) try pickle_compat (older pandas version) to handle subclass changes\u001b[39;00m\n\u001b[1;32m    200\u001b[0m     \u001b[38;5;66;03m# 3) try pickle_compat with latin-1 encoding upon a UnicodeDecodeError\u001b[39;00m\n\u001b[1;32m    202\u001b[0m     \u001b[38;5;28;01mtry\u001b[39;00m:\n\u001b[1;32m    203\u001b[0m         \u001b[38;5;66;03m# TypeError for Cython complaints about object.__new__ vs Tick.__new__\u001b[39;00m\n\u001b[1;32m    204\u001b[0m         \u001b[38;5;28;01mtry\u001b[39;00m:\n",
      "File \u001b[0;32m~/miniconda3/envs/pycharmm/lib/python3.8/site-packages/pandas/io/common.py:865\u001b[0m, in \u001b[0;36mget_handle\u001b[0;34m(path_or_buf, mode, encoding, compression, memory_map, is_text, errors, storage_options)\u001b[0m\n\u001b[1;32m    856\u001b[0m         handle \u001b[38;5;241m=\u001b[39m \u001b[38;5;28mopen\u001b[39m(\n\u001b[1;32m    857\u001b[0m             handle,\n\u001b[1;32m    858\u001b[0m             ioargs\u001b[38;5;241m.\u001b[39mmode,\n\u001b[0;32m   (...)\u001b[0m\n\u001b[1;32m    861\u001b[0m             newline\u001b[38;5;241m=\u001b[39m\u001b[38;5;124m\"\u001b[39m\u001b[38;5;124m\"\u001b[39m,\n\u001b[1;32m    862\u001b[0m         )\n\u001b[1;32m    863\u001b[0m     \u001b[38;5;28;01melse\u001b[39;00m:\n\u001b[1;32m    864\u001b[0m         \u001b[38;5;66;03m# Binary mode\u001b[39;00m\n\u001b[0;32m--> 865\u001b[0m         handle \u001b[38;5;241m=\u001b[39m \u001b[38;5;28;43mopen\u001b[39;49m\u001b[43m(\u001b[49m\u001b[43mhandle\u001b[49m\u001b[43m,\u001b[49m\u001b[43m \u001b[49m\u001b[43mioargs\u001b[49m\u001b[38;5;241;43m.\u001b[39;49m\u001b[43mmode\u001b[49m\u001b[43m)\u001b[49m\n\u001b[1;32m    866\u001b[0m     handles\u001b[38;5;241m.\u001b[39mappend(handle)\n\u001b[1;32m    868\u001b[0m \u001b[38;5;66;03m# Convert BytesIO or file objects passed with an encoding\u001b[39;00m\n",
      "\u001b[0;31mFileNotFoundError\u001b[0m: [Errno 2] No such file or directory: '/home/boittier/Documents/phd/ff_energy/pickles/ions_ext.pkl'"
     ]
    }
   ],
   "source": [
    "pkl_paths = [\n",
    "    \"/home/boittier/Documents/phd/ff_energy/pickles/water_cluster_pbe0dz_pc.pkl\",\n",
    "    \"/home/boittier/Documents/phd/ff_energy/pickles/dcm_pbe0dz_pc.pkl\",\n",
    "    \"/home/boittier/Documents/phd/ff_energy/pickles/ions_ext.pkl\",\n",
    "]\n",
    "pkl_descriptions = [\n",
    "    \"500 snapshots of 20 water molecules sampled at random positions \"\n",
    "    \"from MD in periods of 500 ps.\",\n",
    "    \"201 snapshots of 20 DCM molecules sampled at random positions\",\n",
    "    \"201 snapshots of 20 DCM molecules sampled at random positions\",\n",
    "]\n",
    "plk_names = [\n",
    "    \"Water clusters at PBE0/aug-dz\",\n",
    "    \"DCM clusters at PBE0/aug-dz\",\n",
    "    \"DCM clusters at PBE0/aug-dz\",\n",
    "]\n",
    "er = EnergyReport(report_name=\"Report_PBE0dz\")\n",
    "er.add_pickles(pkl_paths, names=plk_names, descriptions=pkl_descriptions)\n",
    "# er.generate_data_report()\n",
    "# er.compile_report()"
   ]
  },
  {
   "cell_type": "code",
   "execution_count": 6,
   "id": "c9907a7b-bd14-4bb9-9c07-bbab650f1992",
   "metadata": {},
   "outputs": [
    {
     "data": {
      "text/html": [
       "<div>\n",
       "<style scoped>\n",
       "    .dataframe tbody tr th:only-of-type {\n",
       "        vertical-align: middle;\n",
       "    }\n",
       "\n",
       "    .dataframe tbody tr th {\n",
       "        vertical-align: top;\n",
       "    }\n",
       "\n",
       "    .dataframe thead th {\n",
       "        text-align: right;\n",
       "    }\n",
       "</style>\n",
       "<table border=\"1\" class=\"dataframe\">\n",
       "  <thead>\n",
       "    <tr style=\"text-align: right;\">\n",
       "      <th></th>\n",
       "      <th>ECOL</th>\n",
       "      <th>KEY</th>\n",
       "      <th>TOTAL</th>\n",
       "      <th>ELEC</th>\n",
       "      <th>VDW</th>\n",
       "      <th>KEY</th>\n",
       "      <th>M_ENERGY</th>\n",
       "      <th>KEY</th>\n",
       "      <th>n_monomers</th>\n",
       "      <th>C_ENERGY</th>\n",
       "      <th>n_pairs</th>\n",
       "      <th>intE</th>\n",
       "      <th>P_intE</th>\n",
       "      <th>m_E_tot</th>\n",
       "      <th>p_m_E_tot</th>\n",
       "      <th>C_ENERGY_kcalmol</th>\n",
       "    </tr>\n",
       "  </thead>\n",
       "  <tbody>\n",
       "    <tr>\n",
       "      <th>test467</th>\n",
       "      <td>-113.436686</td>\n",
       "      <td>test467</td>\n",
       "      <td>21.55483</td>\n",
       "      <td>-53.42358</td>\n",
       "      <td>14.82881</td>\n",
       "      <td>test467</td>\n",
       "      <td>-1527.154217</td>\n",
       "      <td>test467</td>\n",
       "      <td>20</td>\n",
       "      <td>-1527.236629</td>\n",
       "      <td>190</td>\n",
       "      <td>-51.714066</td>\n",
       "      <td>-50.297664</td>\n",
       "      <td>958349.117867</td>\n",
       "      <td>-958295.211613</td>\n",
       "      <td>-958345.566652</td>\n",
       "    </tr>\n",
       "    <tr>\n",
       "      <th>test263</th>\n",
       "      <td>-159.213355</td>\n",
       "      <td>test263</td>\n",
       "      <td>19.76551</td>\n",
       "      <td>-80.17211</td>\n",
       "      <td>20.54380</td>\n",
       "      <td>test263</td>\n",
       "      <td>-1527.156016</td>\n",
       "      <td>test263</td>\n",
       "      <td>20</td>\n",
       "      <td>-1527.258259</td>\n",
       "      <td>190</td>\n",
       "      <td>-64.157783</td>\n",
       "      <td>-66.601357</td>\n",
       "      <td>958347.989140</td>\n",
       "      <td>-958296.144723</td>\n",
       "      <td>-958359.139096</td>\n",
       "    </tr>\n",
       "    <tr>\n",
       "      <th>test35</th>\n",
       "      <td>-138.530827</td>\n",
       "      <td>test35</td>\n",
       "      <td>22.57516</td>\n",
       "      <td>-66.12227</td>\n",
       "      <td>11.05221</td>\n",
       "      <td>test35</td>\n",
       "      <td>-1527.143158</td>\n",
       "      <td>test35</td>\n",
       "      <td>20</td>\n",
       "      <td>-1527.258584</td>\n",
       "      <td>189</td>\n",
       "      <td>-72.430230</td>\n",
       "      <td>-65.790457</td>\n",
       "      <td>958356.057316</td>\n",
       "      <td>-958288.376060</td>\n",
       "      <td>-958359.343368</td>\n",
       "    </tr>\n",
       "    <tr>\n",
       "      <th>test223</th>\n",
       "      <td>-85.840765</td>\n",
       "      <td>test223</td>\n",
       "      <td>23.27997</td>\n",
       "      <td>-40.47928</td>\n",
       "      <td>6.72946</td>\n",
       "      <td>test223</td>\n",
       "      <td>-1527.147556</td>\n",
       "      <td>test223</td>\n",
       "      <td>20</td>\n",
       "      <td>-1527.203106</td>\n",
       "      <td>190</td>\n",
       "      <td>-34.857221</td>\n",
       "      <td>-39.243367</td>\n",
       "      <td>958353.297326</td>\n",
       "      <td>-958290.449867</td>\n",
       "      <td>-958324.530348</td>\n",
       "    </tr>\n",
       "    <tr>\n",
       "      <th>test254</th>\n",
       "      <td>-157.431989</td>\n",
       "      <td>test254</td>\n",
       "      <td>24.42066</td>\n",
       "      <td>-82.00400</td>\n",
       "      <td>21.85417</td>\n",
       "      <td>test254</td>\n",
       "      <td>-1527.135568</td>\n",
       "      <td>test254</td>\n",
       "      <td>20</td>\n",
       "      <td>-1527.237145</td>\n",
       "      <td>188</td>\n",
       "      <td>-63.739697</td>\n",
       "      <td>-57.830990</td>\n",
       "      <td>958360.820083</td>\n",
       "      <td>-958283.041923</td>\n",
       "      <td>-958345.890067</td>\n",
       "    </tr>\n",
       "    <tr>\n",
       "      <th>...</th>\n",
       "      <td>...</td>\n",
       "      <td>...</td>\n",
       "      <td>...</td>\n",
       "      <td>...</td>\n",
       "      <td>...</td>\n",
       "      <td>...</td>\n",
       "      <td>...</td>\n",
       "      <td>...</td>\n",
       "      <td>...</td>\n",
       "      <td>...</td>\n",
       "      <td>...</td>\n",
       "      <td>...</td>\n",
       "      <td>...</td>\n",
       "      <td>...</td>\n",
       "      <td>...</td>\n",
       "      <td>...</td>\n",
       "    </tr>\n",
       "    <tr>\n",
       "      <th>test100</th>\n",
       "      <td>-120.244324</td>\n",
       "      <td>test100</td>\n",
       "      <td>23.76369</td>\n",
       "      <td>-66.03681</td>\n",
       "      <td>19.45476</td>\n",
       "      <td>test100</td>\n",
       "      <td>-1527.141372</td>\n",
       "      <td>test100</td>\n",
       "      <td>20</td>\n",
       "      <td>-1527.210157</td>\n",
       "      <td>190</td>\n",
       "      <td>-43.162995</td>\n",
       "      <td>-42.125801</td>\n",
       "      <td>958357.178250</td>\n",
       "      <td>-958287.528329</td>\n",
       "      <td>-958328.955198</td>\n",
       "    </tr>\n",
       "    <tr>\n",
       "      <th>test304</th>\n",
       "      <td>-123.903711</td>\n",
       "      <td>test304</td>\n",
       "      <td>21.68895</td>\n",
       "      <td>-69.20978</td>\n",
       "      <td>17.28253</td>\n",
       "      <td>test304</td>\n",
       "      <td>-1527.150985</td>\n",
       "      <td>test304</td>\n",
       "      <td>20</td>\n",
       "      <td>-1527.239633</td>\n",
       "      <td>189</td>\n",
       "      <td>-55.626955</td>\n",
       "      <td>-54.710834</td>\n",
       "      <td>958351.146070</td>\n",
       "      <td>-958293.116887</td>\n",
       "      <td>-958347.451339</td>\n",
       "    </tr>\n",
       "    <tr>\n",
       "      <th>test327</th>\n",
       "      <td>-195.846922</td>\n",
       "      <td>test327</td>\n",
       "      <td>19.73276</td>\n",
       "      <td>-103.42656</td>\n",
       "      <td>31.12436</td>\n",
       "      <td>test327</td>\n",
       "      <td>-1527.154084</td>\n",
       "      <td>test327</td>\n",
       "      <td>20</td>\n",
       "      <td>-1527.300559</td>\n",
       "      <td>190</td>\n",
       "      <td>-91.913853</td>\n",
       "      <td>-79.340573</td>\n",
       "      <td>958349.201570</td>\n",
       "      <td>-958295.335953</td>\n",
       "      <td>-958385.682737</td>\n",
       "    </tr>\n",
       "    <tr>\n",
       "      <th>test185</th>\n",
       "      <td>-114.232038</td>\n",
       "      <td>test185</td>\n",
       "      <td>24.07288</td>\n",
       "      <td>-60.27765</td>\n",
       "      <td>11.20177</td>\n",
       "      <td>test185</td>\n",
       "      <td>-1527.144999</td>\n",
       "      <td>test185</td>\n",
       "      <td>20</td>\n",
       "      <td>-1527.232387</td>\n",
       "      <td>190</td>\n",
       "      <td>-54.835874</td>\n",
       "      <td>-54.451833</td>\n",
       "      <td>958354.901870</td>\n",
       "      <td>-958289.053296</td>\n",
       "      <td>-958342.904458</td>\n",
       "    </tr>\n",
       "    <tr>\n",
       "      <th>test66</th>\n",
       "      <td>-134.531592</td>\n",
       "      <td>test66</td>\n",
       "      <td>24.71130</td>\n",
       "      <td>-72.99830</td>\n",
       "      <td>14.43453</td>\n",
       "      <td>test66</td>\n",
       "      <td>-1527.133226</td>\n",
       "      <td>test66</td>\n",
       "      <td>20</td>\n",
       "      <td>-1527.251024</td>\n",
       "      <td>190</td>\n",
       "      <td>-73.918366</td>\n",
       "      <td>-68.441739</td>\n",
       "      <td>958362.289538</td>\n",
       "      <td>-958282.383416</td>\n",
       "      <td>-958354.599282</td>\n",
       "    </tr>\n",
       "  </tbody>\n",
       "</table>\n",
       "<p>500 rows × 16 columns</p>\n",
       "</div>"
      ],
      "text/plain": [
       "               ECOL      KEY     TOTAL       ELEC       VDW      KEY  \\\n",
       "test467 -113.436686  test467  21.55483  -53.42358  14.82881  test467   \n",
       "test263 -159.213355  test263  19.76551  -80.17211  20.54380  test263   \n",
       "test35  -138.530827   test35  22.57516  -66.12227  11.05221   test35   \n",
       "test223  -85.840765  test223  23.27997  -40.47928   6.72946  test223   \n",
       "test254 -157.431989  test254  24.42066  -82.00400  21.85417  test254   \n",
       "...             ...      ...       ...        ...       ...      ...   \n",
       "test100 -120.244324  test100  23.76369  -66.03681  19.45476  test100   \n",
       "test304 -123.903711  test304  21.68895  -69.20978  17.28253  test304   \n",
       "test327 -195.846922  test327  19.73276 -103.42656  31.12436  test327   \n",
       "test185 -114.232038  test185  24.07288  -60.27765  11.20177  test185   \n",
       "test66  -134.531592   test66  24.71130  -72.99830  14.43453   test66   \n",
       "\n",
       "            M_ENERGY      KEY  n_monomers     C_ENERGY  n_pairs       intE  \\\n",
       "test467 -1527.154217  test467          20 -1527.236629      190 -51.714066   \n",
       "test263 -1527.156016  test263          20 -1527.258259      190 -64.157783   \n",
       "test35  -1527.143158   test35          20 -1527.258584      189 -72.430230   \n",
       "test223 -1527.147556  test223          20 -1527.203106      190 -34.857221   \n",
       "test254 -1527.135568  test254          20 -1527.237145      188 -63.739697   \n",
       "...              ...      ...         ...          ...      ...        ...   \n",
       "test100 -1527.141372  test100          20 -1527.210157      190 -43.162995   \n",
       "test304 -1527.150985  test304          20 -1527.239633      189 -55.626955   \n",
       "test327 -1527.154084  test327          20 -1527.300559      190 -91.913853   \n",
       "test185 -1527.144999  test185          20 -1527.232387      190 -54.835874   \n",
       "test66  -1527.133226   test66          20 -1527.251024      190 -73.918366   \n",
       "\n",
       "            P_intE        m_E_tot      p_m_E_tot  C_ENERGY_kcalmol  \n",
       "test467 -50.297664  958349.117867 -958295.211613    -958345.566652  \n",
       "test263 -66.601357  958347.989140 -958296.144723    -958359.139096  \n",
       "test35  -65.790457  958356.057316 -958288.376060    -958359.343368  \n",
       "test223 -39.243367  958353.297326 -958290.449867    -958324.530348  \n",
       "test254 -57.830990  958360.820083 -958283.041923    -958345.890067  \n",
       "...            ...            ...            ...               ...  \n",
       "test100 -42.125801  958357.178250 -958287.528329    -958328.955198  \n",
       "test304 -54.710834  958351.146070 -958293.116887    -958347.451339  \n",
       "test327 -79.340573  958349.201570 -958295.335953    -958385.682737  \n",
       "test185 -54.451833  958354.901870 -958289.053296    -958342.904458  \n",
       "test66  -68.441739  958362.289538 -958282.383416    -958354.599282  \n",
       "\n",
       "[500 rows x 16 columns]"
      ]
     },
     "execution_count": 6,
     "metadata": {},
     "output_type": "execute_result"
    }
   ],
   "source": [
    "pc_dataobj = er.data[0]\n",
    "pc_elec = pc_dataobj.data[\"ELEC\"]\n",
    "pc_dataobj.data"
   ]
  },
  {
   "cell_type": "code",
   "execution_count": 35,
   "id": "067cc7ab-fa50-4359-aa68-4b5b5a5bc47c",
   "metadata": {},
   "outputs": [
    {
     "data": {
      "text/plain": [
       "{}"
      ]
     },
     "execution_count": 35,
     "metadata": {},
     "output_type": "execute_result"
    }
   ],
   "source": []
  },
  {
   "cell_type": "code",
   "execution_count": 24,
   "id": "81f8971f-5ce3-4e66-8b94-86384d7f6655",
   "metadata": {},
   "outputs": [],
   "source": [
    "mikes_data = open(\"data/mike_elec_dcm.txt\", \"r\").readlines()\n",
    "data = [_.split(\"\\t\") for _ in mikes_data]\n",
    "index = [_[0] for _ in data]\n",
    "elec = [float(_[1]) for _ in data]\n",
    "mikes_data = pd.DataFrame({\"ELEC\": elec}, index=index)\n",
    "mikes_data = mikes_data.drop(\"100_3050_DCM_355_1200\")"
   ]
  },
  {
   "cell_type": "code",
   "execution_count": 25,
   "id": "340299e9-4ec1-4035-bced-50a50f141aa8",
   "metadata": {},
   "outputs": [
    {
     "name": "stdout",
     "output_type": "stream",
     "text": [
      "100_4322_DCM_499_988    -24.024901\n",
      "100_646_DCM_76_1117     -47.643040\n",
      "100_1774_DCM_207_229    -22.850960\n",
      "100_2990_DCM_349_1039   -25.499129\n",
      "100_392_DCM_46_962      -17.273278\n",
      "                           ...    \n",
      "100_1849_DCM_216_299    -26.235064\n",
      "100_78_DCM_9_1170       -27.250082\n",
      "100_410_DCM_48_226      -22.546653\n",
      "100_1237_DCM_145_421    -21.815196\n",
      "100_4087_DCM_476_1139   -38.589177\n",
      "Name: ELEC, Length: 200, dtype: float64\n",
      "Index(['TOTAL', 'ELEC', 'VDW', 'KEY', 'M_ENERGY', 'KEY', 'n_monomers',\n",
      "       'C_ENERGY', 'intE', 'P_intE', 'C_ENERGY_kcalmol', 'ELEC_CI'],\n",
      "      dtype='object')\n"
     ]
    }
   ],
   "source": [
    "er.add_data(1, mikes_data[\"ELEC\"], \"_CI\")"
   ]
  },
  {
   "cell_type": "code",
   "execution_count": 98,
   "id": "5aa6d7bc-437a-4215-bb04-2c7a2e197273",
   "metadata": {},
   "outputs": [],
   "source": [
    "mdcm_dataobj = er.data[2]\n",
    "mdcm_elec = mdcm_dataobj.data[\"ELEC\"]\n",
    "# mdcm_dataobj.data"
   ]
  },
  {
   "cell_type": "code",
   "execution_count": 99,
   "id": "e29e6ad5-5308-4e32-a3f4-6cf5a917e2db",
   "metadata": {
    "tags": []
   },
   "outputs": [],
   "source": [
    "# plt.scatter(mdcm_elec, pc_elec)"
   ]
  },
  {
   "cell_type": "code",
   "execution_count": 103,
   "id": "72955925-611b-416b-8b12-4d45d934637b",
   "metadata": {},
   "outputs": [
    {
     "data": {
      "text/html": [
       "<div>\n",
       "<style scoped>\n",
       "    .dataframe tbody tr th:only-of-type {\n",
       "        vertical-align: middle;\n",
       "    }\n",
       "\n",
       "    .dataframe tbody tr th {\n",
       "        vertical-align: top;\n",
       "    }\n",
       "\n",
       "    .dataframe thead th {\n",
       "        text-align: right;\n",
       "    }\n",
       "</style>\n",
       "<table border=\"1\" class=\"dataframe\">\n",
       "  <thead>\n",
       "    <tr style=\"text-align: right;\">\n",
       "      <th></th>\n",
       "      <th>ELECmike</th>\n",
       "      <th>ELEC</th>\n",
       "    </tr>\n",
       "  </thead>\n",
       "  <tbody>\n",
       "    <tr>\n",
       "      <th>100_4322_DCM_499_988</th>\n",
       "      <td>-24.024901</td>\n",
       "      <td>-2.87784</td>\n",
       "    </tr>\n",
       "    <tr>\n",
       "      <th>100_646_DCM_76_1117</th>\n",
       "      <td>-47.643040</td>\n",
       "      <td>-3.47780</td>\n",
       "    </tr>\n",
       "    <tr>\n",
       "      <th>100_1774_DCM_207_229</th>\n",
       "      <td>-22.850960</td>\n",
       "      <td>-1.83254</td>\n",
       "    </tr>\n",
       "    <tr>\n",
       "      <th>100_2990_DCM_349_1039</th>\n",
       "      <td>-25.499129</td>\n",
       "      <td>-3.47482</td>\n",
       "    </tr>\n",
       "    <tr>\n",
       "      <th>100_392_DCM_46_962</th>\n",
       "      <td>-17.273278</td>\n",
       "      <td>-1.74418</td>\n",
       "    </tr>\n",
       "    <tr>\n",
       "      <th>...</th>\n",
       "      <td>...</td>\n",
       "      <td>...</td>\n",
       "    </tr>\n",
       "    <tr>\n",
       "      <th>100_1849_DCM_216_299</th>\n",
       "      <td>-26.235064</td>\n",
       "      <td>-3.04255</td>\n",
       "    </tr>\n",
       "    <tr>\n",
       "      <th>100_78_DCM_9_1170</th>\n",
       "      <td>-27.250082</td>\n",
       "      <td>-2.24409</td>\n",
       "    </tr>\n",
       "    <tr>\n",
       "      <th>100_410_DCM_48_226</th>\n",
       "      <td>-22.546653</td>\n",
       "      <td>-2.27333</td>\n",
       "    </tr>\n",
       "    <tr>\n",
       "      <th>100_1237_DCM_145_421</th>\n",
       "      <td>-21.815196</td>\n",
       "      <td>-3.15390</td>\n",
       "    </tr>\n",
       "    <tr>\n",
       "      <th>100_4087_DCM_476_1139</th>\n",
       "      <td>-38.589177</td>\n",
       "      <td>-3.14606</td>\n",
       "    </tr>\n",
       "  </tbody>\n",
       "</table>\n",
       "<p>200 rows × 2 columns</p>\n",
       "</div>"
      ],
      "text/plain": [
       "                        ELECmike     ELEC\n",
       "100_4322_DCM_499_988  -24.024901 -2.87784\n",
       "100_646_DCM_76_1117   -47.643040 -3.47780\n",
       "100_1774_DCM_207_229  -22.850960 -1.83254\n",
       "100_2990_DCM_349_1039 -25.499129 -3.47482\n",
       "100_392_DCM_46_962    -17.273278 -1.74418\n",
       "...                          ...      ...\n",
       "100_1849_DCM_216_299  -26.235064 -3.04255\n",
       "100_78_DCM_9_1170     -27.250082 -2.24409\n",
       "100_410_DCM_48_226    -22.546653 -2.27333\n",
       "100_1237_DCM_145_421  -21.815196 -3.15390\n",
       "100_4087_DCM_476_1139 -38.589177 -3.14606\n",
       "\n",
       "[200 rows x 2 columns]"
      ]
     },
     "execution_count": 103,
     "metadata": {},
     "output_type": "execute_result"
    }
   ],
   "source": [
    "pc_joined = mikes_data.join(pc_elec, lsuffix=\"mike\")\n",
    "mdcm_joined = mikes_data.join(mdcm_elec, lsuffix=\"mike\")\n",
    "\n",
    "def annotate(data, **kws):\n",
    "    r, p = sp.stats.pearsonr(data['ELECmike'], data['ELEC'])\n",
    "    ax = plt.gca()\n",
    "    ax.text(.05, .2, 'r={:.2f}, p={:.2g}'.format(r, p),\n",
    "            transform=ax.transAxes, fontsize=20)\n",
    "    \n",
    "pc_joined"
   ]
  },
  {
   "cell_type": "code",
   "execution_count": 106,
   "id": "ee9eb4bd-033b-4456-ad17-7c0dbb53443b",
   "metadata": {},
   "outputs": [
    {
     "data": {
      "text/plain": [
       "(-53.0164323982342, 0.0)"
      ]
     },
     "execution_count": 106,
     "metadata": {},
     "output_type": "execute_result"
    },
    {
     "data": {
      "image/png": "[encoded data removed]",
      "text/plain": [
       "<Figure size 800x600 with 1 Axes>"
      ]
     },
     "metadata": {},
     "output_type": "display_data"
    }
   ],
   "source": [
    "rp = sns.regplot(pc_joined, x=\"ELECmike\", y=\"ELEC\")\n",
    "annotate(pc_joined)\n",
    "plt.xlim(mikes_data[\"ELEC\"].min(), 0)\n",
    "plt.ylim(mikes_data[\"ELEC\"].min(), 0)"
   ]
  },
  {
   "cell_type": "code",
   "execution_count": 105,
   "id": "3c32ff09-7250-467c-aa36-1989a87b37eb",
   "metadata": {},
   "outputs": [
    {
     "data": {
      "text/plain": [
       "(-53.0164323982342, 0.0)"
      ]
     },
     "execution_count": 105,
     "metadata": {},
     "output_type": "execute_result"
    },
    {
     "data": {
      "image/png": "[encoded data removed]",
      "text/plain": [
       "<Figure size 800x600 with 1 Axes>"
      ]
     },
     "metadata": {},
     "output_type": "display_data"
    }
   ],
   "source": [
    "sns.regplot(mdcm_joined, x=\"ELECmike\", y=\"ELEC\")\n",
    "annotate(mdcm_joined)\n",
    "plt.xlim(mikes_data[\"ELEC\"].min(), 0)\n",
    "plt.ylim(mikes_data[\"ELEC\"].min(), 0)"
   ]
  },
  {
   "cell_type": "code",
   "execution_count": null,
   "id": "b22c2cee-00f7-45b7-a56f-1b130a05e270",
   "metadata": {},
   "outputs": [],
   "source": []
  }
 ],
 "metadata": {
  "kernelspec": {
   "display_name": "pycharmm",
   "language": "python",
   "name": "pycharmm"
  },
  "language_info": {
   "codemirror_mode": {
    "name": "ipython",
    "version": 3
   },
   "file_extension": ".py",
   "mimetype": "text/x-python",
   "name": "python",
   "nbconvert_exporter": "python",
   "pygments_lexer": "ipython3",
   "version": "3.8.16"
  }
 },
 "nbformat": 4,
 "nbformat_minor": 5
}
