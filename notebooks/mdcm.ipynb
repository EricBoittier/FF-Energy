{
 "cells": [
  {
   "cell_type": "code",
   "execution_count": 4,
   "id": "15224244-b766-4613-8245-1f161c47d43f",
   "metadata": {},
   "outputs": [],
   "source": [
    "from ff_energy.pydcm import mdcm"
   ]
  },
  {
   "cell_type": "code",
   "execution_count": null,
   "id": "2cbf303a-fae3-4598-98d8-39e085f93b5c",
   "metadata": {},
   "outputs": [],
   "source": []
  }
 ],
 "metadata": {
  "kernelspec": {
   "display_name": "pycharmm",
   "language": "python",
   "name": "pycharmm"
  },
  "language_info": {
   "codemirror_mode": {
    "name": "ipython",
    "version": 3
   },
   "file_extension": ".py",
   "mimetype": "text/x-python",
   "name": "python",
   "nbconvert_exporter": "python",
   "pygments_lexer": "ipython3",
   "version": "3.8.16"
  }
 },
 "nbformat": 4,
 "nbformat_minor": 5
}
