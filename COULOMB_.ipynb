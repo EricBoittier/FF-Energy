{
 "cells": [
  {
   "cell_type": "code",
   "execution_count": 11,
   "id": "0c803b7b-d941-4e2d-aa9f-176d38b7f538",
   "metadata": {},
   "outputs": [
    {
     "name": "stdout",
     "output_type": "stream",
     "text": [
      "The autoreload extension is already loaded. To reload it, use:\n",
      "  %reload_ext autoreload\n"
     ]
    },
    {
     "ename": "ModuleNotFoundError",
     "evalue": "No module named 'ff_energy.make_jobs_test'",
     "output_type": "error",
     "traceback": [
      "\u001b[0;31m---------------------------------------------------------------------------\u001b[0m",
      "\u001b[0;31mModuleNotFoundError\u001b[0m                       Traceback (most recent call last)",
      "Cell \u001b[0;32mIn[11], line 12\u001b[0m\n\u001b[1;32m     10\u001b[0m \u001b[38;5;28;01mfrom\u001b[39;00m \u001b[38;5;21;01mff_energy\u001b[39;00m\u001b[38;5;21;01m.\u001b[39;00m\u001b[38;5;21;01mplot\u001b[39;00m \u001b[38;5;28;01mimport\u001b[39;00m plot_energy_MSE\n\u001b[1;32m     11\u001b[0m \u001b[38;5;28;01mfrom\u001b[39;00m \u001b[38;5;21;01mff_energy\u001b[39;00m\u001b[38;5;21;01m.\u001b[39;00m\u001b[38;5;21;01mconfigmaker\u001b[39;00m \u001b[38;5;28;01mimport\u001b[39;00m \u001b[38;5;241m*\u001b[39m\n\u001b[0;32m---> 12\u001b[0m \u001b[38;5;28;01mfrom\u001b[39;00m \u001b[38;5;21;01mff_energy\u001b[39;00m\u001b[38;5;21;01m.\u001b[39;00m\u001b[38;5;21;01mmake_jobs_test\u001b[39;00m \u001b[38;5;28;01mimport\u001b[39;00m MakeJob\n\u001b[1;32m     14\u001b[0m \u001b[38;5;28;01mfrom\u001b[39;00m \u001b[38;5;21;01mpathlib\u001b[39;00m \u001b[38;5;28;01mimport\u001b[39;00m Path\n\u001b[1;32m     15\u001b[0m \u001b[38;5;28;01mimport\u001b[39;00m \u001b[38;5;21;01mpandas\u001b[39;00m \u001b[38;5;28;01mas\u001b[39;00m \u001b[38;5;21;01mpd\u001b[39;00m\n",
      "\u001b[0;31mModuleNotFoundError\u001b[0m: No module named 'ff_energy.make_jobs_test'"
     ]
    }
   ],
   "source": [
    "%load_ext autoreload\n",
    "%autoreload 2\n",
    "# !pip install ipywidgets\n",
    "import sys\n",
    "sys.path.append(\"/home/boittier/Documents/phd/ff_energy\")\n",
    "\n",
    "from ff_energy.structure import Structure\n",
    "from ff_energy.job import Job\n",
    "from ff_energy.jobmaker import get_structures_pdbs, JobMaker\n",
    "from ff_energy.plot import plot_energy_MSE\n",
    "from ff_energy.configmaker import *\n",
    "from ff_energy.make_jobs_test import MakeJob\n",
    "\n",
    "from pathlib import Path\n",
    "import pandas as pd\n",
    "\n",
    "# s = Structure(\"/home/boittier/charmm/mix3/jobs/pdbs/mix0.pdb\")\n",
    "\n",
    "atom_types = {\n",
    "              # (\"LIG\", \"O\"): \"OG311\",\n",
    "              # (\"LIG\", \"C\"): \"CG331\",\n",
    "              # (\"LIG\", \"H1\"): \"HGP1\",\n",
    "              # (\"LIG\", \"H2\"): \"HGA3\",\n",
    "              # (\"LIG\", \"H3\"): \"HGA3\",\n",
    "              # (\"LIG\", \"H4\"): \"HGA3\",\n",
    "              (\"TIP3\", \"OH2\"): \"OT\",\n",
    "              (\"TIP3\", \"H1\"): \"HT\",\n",
    "              (\"TIP3\", \"H2\"): \"HT\",\n",
    "              # (\"LIG\", \"O\"): \"OT\",\n",
    "              # (\"LIG\", \"H1\"): \"HT\",\n",
    "              # (\"LIG\", \"H\"): \"HT\",\n",
    "              # (\"LIG\", \"H2\"): \"HT\",\n",
    "              }\n",
    "\n",
    "# def MakeJob(name, ConfigMaker, atom_types=atom_types):\n",
    "#     structures, pdbs = get_structures_pdbs(\n",
    "#         Path(ConfigMaker.pdbs),\n",
    "#         atom_types=atom_types\n",
    "#     ) \n",
    "#     return JobMaker(name, pdbs, structures, ConfigMaker.make().__dict__)\n",
    "\n",
    "\n",
    "\n",
    "\n"
   ]
  },
  {
   "cell_type": "code",
   "execution_count": null,
   "id": "eb92945b-9446-4555-9d08-6d27048deb29",
   "metadata": {},
   "outputs": [],
   "source": [
    "structures, pdbs = get_structures_pdbs(\n",
    "    Path(\"\"),\n",
    "    atom_types=atom_types\n",
    ") "
   ]
  },
  {
   "cell_type": "code",
   "execution_count": 2,
   "id": "c3a98ca8-38ec-4c5f-a2c4-9264f5b53014",
   "metadata": {},
   "outputs": [
    {
     "name": "stdout",
     "output_type": "stream",
     "text": [
      "water_cluster pbe0dz pc\n",
      "<bound method Config.kwargs of m_basis: avdz\n",
      "m_method: {ks,pbe0}\n",
      "c_files: ['pbe0_dz.pc']\n",
      "c_dcm_command: open unit 11 card read name p \n",
      "DCM IUDCM 11 TSHIFT XYZ 15\n",
      "m_nproc: 8\n",
      "m_memory: 150\n",
      "m_queue: short\n",
      "chmpath: /home/boittier/dev-release-dcm/build/cmake/charmm\n",
      "modules: module load cmake/cmake-3.23.0-gcc-11.2.0-openmpi-4.1.3\n",
      ">\n",
      "\n",
      "water_cluster pbe0dz mdcm\n",
      "<bound method Config.kwargs of m_basis: avdz\n",
      "m_method: {ks,pbe0}\n",
      "c_files: ['pbe0_dz.mdcm']\n",
      "c_dcm_command: open unit 11 card read name p \n",
      "DCM IUDCM 11 TSHIFT XYZ 15\n",
      "m_nproc: 8\n",
      "m_memory: 150\n",
      "m_queue: short\n",
      "chmpath: /home/boittier/dev-release-dcm/build/cmake/charmm\n",
      "modules: module load cmake/cmake-3.23.0-gcc-11.2.0-openmpi-4.1.3\n",
      ">\n",
      "\n",
      "water_dimer pbe0dz pc\n",
      "<bound method Config.kwargs of m_basis: avdz\n",
      "m_method: {ks,pbe0}\n",
      "c_files: ['pbe0_dz.pc']\n",
      "c_dcm_command: open unit 11 card read name p \n",
      "DCM IUDCM 11 TSHIFT XYZ 15\n",
      "m_nproc: 8\n",
      "m_memory: 150\n",
      "m_queue: short\n",
      "chmpath: /home/boittier/dev-release-dcm/build/cmake/charmm\n",
      "modules: module load cmake/cmake-3.23.0-gcc-11.2.0-openmpi-4.1.3\n",
      ">\n",
      "\n",
      "water_dimer pbe0dz mdcm\n",
      "<bound method Config.kwargs of m_basis: avdz\n",
      "m_method: {ks,pbe0}\n",
      "c_files: ['pbe0_dz.mdcm']\n",
      "c_dcm_command: open unit 11 card read name p \n",
      "DCM IUDCM 11 TSHIFT XYZ 15\n",
      "m_nproc: 8\n",
      "m_memory: 150\n",
      "m_queue: short\n",
      "chmpath: /home/boittier/dev-release-dcm/build/cmake/charmm\n",
      "modules: module load cmake/cmake-3.23.0-gcc-11.2.0-openmpi-4.1.3\n",
      ">\n",
      "\n",
      "methanol_cluster pbe0dz pc\n",
      "<bound method Config.kwargs of m_basis: avdz\n",
      "m_method: {ks,pbe0}\n",
      "c_files: ['meoh_pbe0dz.pc']\n",
      "c_dcm_command: open unit 11 card read name m \n",
      "DCM IUDCM 11 TSHIFT XYZ 15\n",
      "m_nproc: 8\n",
      "m_memory: 150\n",
      "m_queue: short\n",
      "chmpath: /home/boittier/dev-release-dcm/build/cmake/charmm\n",
      "modules: module load cmake/cmake-3.23.0-gcc-11.2.0-openmpi-4.1.3\n",
      ">\n",
      "\n",
      "methanol_cluster pbe0dz mdcm\n",
      "<bound method Config.kwargs of m_basis: avdz\n",
      "m_method: {ks,pbe0}\n",
      "c_files: ['meoh_pbe0dz.pc']\n",
      "c_dcm_command: open unit 11 card read name m \n",
      "DCM IUDCM 11 TSHIFT XYZ 15\n",
      "m_nproc: 8\n",
      "m_memory: 150\n",
      "m_queue: short\n",
      "chmpath: /home/boittier/dev-release-dcm/build/cmake/charmm\n",
      "modules: module load cmake/cmake-3.23.0-gcc-11.2.0-openmpi-4.1.3\n",
      ">\n",
      "\n"
     ]
    }
   ],
   "source": [
    "CMS = []\n",
    "for system in system_names:\n",
    "    for theory in THEORY.keys():\n",
    "        for elec in [\"pc\", \"mdcm\"]:\n",
    "            print(system, theory, elec)\n",
    "            cm = ConfigMaker(theory, system, elec)\n",
    "            # print(cm.pdbs)\n",
    "            print(cm.make().kwargs)\n",
    "            print()\n",
    "            CMS.append(cm)"
   ]
  },
  {
   "cell_type": "code",
   "execution_count": 3,
   "id": "32d14b9c-d391-4c69-b7b6-308c69bba6af",
   "metadata": {},
   "outputs": [
    {
     "data": {
      "text/plain": [
       "{'m_basis': 'avdz', 'm_method': '{ks,pbe0}'}"
      ]
     },
     "execution_count": 3,
     "metadata": {},
     "output_type": "execute_result"
    }
   ],
   "source": [
    "CMS[0].theory"
   ]
  },
  {
   "cell_type": "code",
   "execution_count": 10,
   "id": "96830c64-83bc-4be1-8f9f-6444de513b58",
   "metadata": {
    "tags": []
   },
   "outputs": [
    {
     "ename": "TypeError",
     "evalue": "MakeJob() got an unexpected keyword argument 'system_name'",
     "output_type": "error",
     "traceback": [
      "\u001b[0;31m---------------------------------------------------------------------------\u001b[0m",
      "\u001b[0;31mTypeError\u001b[0m                                 Traceback (most recent call last)",
      "Cell \u001b[0;32mIn[10], line 3\u001b[0m\n\u001b[1;32m      1\u001b[0m jobmakers \u001b[38;5;241m=\u001b[39m []\n\u001b[1;32m      2\u001b[0m \u001b[38;5;28;01mfor\u001b[39;00m cms \u001b[38;5;129;01min\u001b[39;00m CMS:\n\u001b[0;32m----> 3\u001b[0m     jm \u001b[38;5;241m=\u001b[39m \u001b[43mMakeJob\u001b[49m\u001b[43m(\u001b[49m\u001b[38;5;124;43mf\u001b[39;49m\u001b[38;5;124;43m\"\u001b[39;49m\u001b[38;5;132;43;01m{\u001b[39;49;00m\u001b[43mcms\u001b[49m\u001b[38;5;241;43m.\u001b[39;49m\u001b[43msystem_name\u001b[49m\u001b[38;5;132;43;01m}\u001b[39;49;00m\u001b[38;5;124;43m/\u001b[39;49m\u001b[38;5;132;43;01m{\u001b[39;49;00m\u001b[43mcms\u001b[49m\u001b[38;5;241;43m.\u001b[39;49m\u001b[43mtheory_name\u001b[49m\u001b[38;5;132;43;01m}\u001b[39;49;00m\u001b[38;5;124;43m\"\u001b[39;49m\u001b[43m,\u001b[49m\u001b[43m \u001b[49m\u001b[43mcms\u001b[49m\u001b[43m,\u001b[49m\u001b[43m \u001b[49m\n\u001b[1;32m      4\u001b[0m \u001b[43m                 \u001b[49m\u001b[43matom_types\u001b[49m\u001b[38;5;241;43m=\u001b[39;49m\u001b[43mcms\u001b[49m\u001b[38;5;241;43m.\u001b[39;49m\u001b[43matom_types\u001b[49m\u001b[43m,\u001b[49m\u001b[43msystem_name\u001b[49m\u001b[38;5;241;43m=\u001b[39;49m\u001b[43mcms\u001b[49m\u001b[38;5;241;43m.\u001b[39;49m\u001b[43msystem_name\u001b[49m\u001b[43m)\u001b[49m\n\u001b[1;32m      5\u001b[0m     HOMEDIR \u001b[38;5;241m=\u001b[39m \u001b[38;5;124m\"\u001b[39m\u001b[38;5;124m/home/boittier/bhome\u001b[39m\u001b[38;5;124m\"\u001b[39m\n\u001b[1;32m      6\u001b[0m     \u001b[38;5;66;03m# jm.make_charmm(HOMEDIR)\u001b[39;00m\n\u001b[1;32m      7\u001b[0m     \u001b[38;5;66;03m# jm.make_coloumb(HOMEDIR,f\"/home/boittier/pcbach/{cms.system_type}/{cms.theory_name}/\"\"{}/monomers\")\u001b[39;00m\n",
      "\u001b[0;31mTypeError\u001b[0m: MakeJob() got an unexpected keyword argument 'system_name'"
     ]
    }
   ],
   "source": [
    "jobmakers = []\n",
    "for cms in CMS:\n",
    "    jm = MakeJob(f\"{cms.system_name}/{cms.theory_name}\", cms, \n",
    "                 atom_types=cms.atom_types,system_name=cms.system_name)\n",
    "    HOMEDIR = \"/home/boittier/bhome\"\n",
    "    # jm.make_charmm(HOMEDIR)\n",
    "    # jm.make_coloumb(HOMEDIR,f\"/home/boittier/pcbach/{cms.system_type}/{cms.theory_name}/\"\"{}/monomers\")\n",
    "    jobmakers.append(jm)"
   ]
  },
  {
   "cell_type": "code",
   "execution_count": null,
   "id": "86edeb07-81f4-4487-b91d-1eb9ac70c4cb",
   "metadata": {},
   "outputs": [],
   "source": [
    "from ff_energy.slurm import SlurmJobHandler\n",
    "\n",
    "shj = SlurmJobHandler(max_jobs=100)\n",
    "print(\"Running jobs: \", shj.get_running_jobs())\n",
    "\n",
    "for jm in jobmakers:\n",
    "    for js in jm.get_cluster_jobs(HOMEDIR):\n",
    "        shj.add_job(js)\n",
    "\n",
    "print(\"Jobs: \", len(jm.get_cluster_jobs(HOMEDIR)))\n",
    "\n",
    "shj.submit_jobs()"
   ]
  }
 ],
 "metadata": {
  "kernelspec": {
   "display_name": "pycharmm",
   "language": "python",
   "name": "pycharmm"
  },
  "language_info": {
   "codemirror_mode": {
    "name": "ipython",
    "version": 3
   },
   "file_extension": ".py",
   "mimetype": "text/x-python",
   "name": "python",
   "nbconvert_exporter": "python",
   "pygments_lexer": "ipython3",
   "version": "3.8.16"
  }
 },
 "nbformat": 4,
 "nbformat_minor": 5
}
